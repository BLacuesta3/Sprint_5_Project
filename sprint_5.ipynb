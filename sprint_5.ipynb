{
 "cells": [
  {
   "cell_type": "markdown",
   "metadata": {},
   "source": [
    "# Title: Sprint 5, Integrated Project\n",
    "Summary: This project is an Exploratory Data Analysis project that uses the games.csv dataframe.  This project consists of: multiple bar charts, boxplots, scatter plots and histograms.  This project also includes standard deviation calculations, correlation calculations and hypothesis testing."
   ]
  },
  {
   "cell_type": "markdown",
   "metadata": {},
   "source": [
    "Coding Sections Solved(Still Needs Finishing)\n",
    "1) PS4 Scatterplot userscore and critic score\n",
    "2) Genre Boxplot\n",
    "3) other platform boxplot\n",
    "\n",
    "Still Need to work on:\n",
    "1) NA, EU, JP Profile\n",
    "2) Histogram games re do (sns)\n",
    "3)str.lower\n",
    "\n",
    "Other:\n",
    "Insert reviewer's comment with note that I only put comments that need to be worked on.\n",
    "\n",
    "Fix file path"
   ]
  },
  {
   "cell_type": "markdown",
   "metadata": {},
   "source": []
  },
  {
   "cell_type": "markdown",
   "metadata": {},
   "source": [
    "# Step 1: Open the Data File and Study the General Information"
   ]
  },
  {
   "cell_type": "markdown",
   "metadata": {},
   "source": [
    "Code Meaning: Import all the necessary libraries.  Pandas is used to import the dataframe.  Random is used used in order to make the random choice selecton when filling in missing values.  Plotly Express is used in order to create the charts for the project which are composed of: bar charts, histograms, boxplots and line charts.  Pearsonr is imported to calculate the correlation between two variables. Stats is imported to run the ttest and test hypotheses.  Numpy is imported to perform mathematical tasks."
   ]
  },
  {
   "cell_type": "code",
   "execution_count": 3,
   "metadata": {},
   "outputs": [],
   "source": [
    "import pandas as pd\n",
    "\n",
    "import random\n",
    "\n",
    "import plotly.express as px\n",
    "\n",
    "from matplotlib import pyplot as plt\n",
    "\n",
    "from scipy import stats as st\n",
    "\n",
    "from scipy.stats import pearsonr\n",
    "\n",
    "import numpy as np"
   ]
  },
  {
   "cell_type": "markdown",
   "metadata": {},
   "source": [
    "# Importing the Dataset"
   ]
  },
  {
   "cell_type": "markdown",
   "metadata": {},
   "source": [
    "Code Meaning: \n",
    "1) Use pd.read_csv() in order to import the games.csv dataframe.  Save the dataframe under the variable df.\n",
    "2) Use the head() function in order to print the first five rows of the dataframe to check the entries in the rows.\n",
    "\n",
    "Code Result:\n",
    "The games.csv dataframe was imported successfully, but it seems that there are missing values in the dataframe and the column names need to be converted to lowercase. The total_sales column must also be calculated which consists of the total of the NA_sales, EU_sales, JP_sales, and Other_sales column."
   ]
  },
  {
   "cell_type": "code",
   "execution_count": 4,
   "metadata": {},
   "outputs": [
    {
     "data": {
      "text/html": [
       "<div>\n",
       "<style scoped>\n",
       "    .dataframe tbody tr th:only-of-type {\n",
       "        vertical-align: middle;\n",
       "    }\n",
       "\n",
       "    .dataframe tbody tr th {\n",
       "        vertical-align: top;\n",
       "    }\n",
       "\n",
       "    .dataframe thead th {\n",
       "        text-align: right;\n",
       "    }\n",
       "</style>\n",
       "<table border=\"1\" class=\"dataframe\">\n",
       "  <thead>\n",
       "    <tr style=\"text-align: right;\">\n",
       "      <th></th>\n",
       "      <th>Name</th>\n",
       "      <th>Platform</th>\n",
       "      <th>Year_of_Release</th>\n",
       "      <th>Genre</th>\n",
       "      <th>NA_sales</th>\n",
       "      <th>EU_sales</th>\n",
       "      <th>JP_sales</th>\n",
       "      <th>Other_sales</th>\n",
       "      <th>Critic_Score</th>\n",
       "      <th>User_Score</th>\n",
       "      <th>Rating</th>\n",
       "    </tr>\n",
       "  </thead>\n",
       "  <tbody>\n",
       "    <tr>\n",
       "      <th>0</th>\n",
       "      <td>Wii Sports</td>\n",
       "      <td>Wii</td>\n",
       "      <td>2006.0</td>\n",
       "      <td>Sports</td>\n",
       "      <td>41.36</td>\n",
       "      <td>28.96</td>\n",
       "      <td>3.77</td>\n",
       "      <td>8.45</td>\n",
       "      <td>76.0</td>\n",
       "      <td>8</td>\n",
       "      <td>E</td>\n",
       "    </tr>\n",
       "    <tr>\n",
       "      <th>1</th>\n",
       "      <td>Super Mario Bros.</td>\n",
       "      <td>NES</td>\n",
       "      <td>1985.0</td>\n",
       "      <td>Platform</td>\n",
       "      <td>29.08</td>\n",
       "      <td>3.58</td>\n",
       "      <td>6.81</td>\n",
       "      <td>0.77</td>\n",
       "      <td>NaN</td>\n",
       "      <td>NaN</td>\n",
       "      <td>NaN</td>\n",
       "    </tr>\n",
       "    <tr>\n",
       "      <th>2</th>\n",
       "      <td>Mario Kart Wii</td>\n",
       "      <td>Wii</td>\n",
       "      <td>2008.0</td>\n",
       "      <td>Racing</td>\n",
       "      <td>15.68</td>\n",
       "      <td>12.76</td>\n",
       "      <td>3.79</td>\n",
       "      <td>3.29</td>\n",
       "      <td>82.0</td>\n",
       "      <td>8.3</td>\n",
       "      <td>E</td>\n",
       "    </tr>\n",
       "    <tr>\n",
       "      <th>3</th>\n",
       "      <td>Wii Sports Resort</td>\n",
       "      <td>Wii</td>\n",
       "      <td>2009.0</td>\n",
       "      <td>Sports</td>\n",
       "      <td>15.61</td>\n",
       "      <td>10.93</td>\n",
       "      <td>3.28</td>\n",
       "      <td>2.95</td>\n",
       "      <td>80.0</td>\n",
       "      <td>8</td>\n",
       "      <td>E</td>\n",
       "    </tr>\n",
       "    <tr>\n",
       "      <th>4</th>\n",
       "      <td>Pokemon Red/Pokemon Blue</td>\n",
       "      <td>GB</td>\n",
       "      <td>1996.0</td>\n",
       "      <td>Role-Playing</td>\n",
       "      <td>11.27</td>\n",
       "      <td>8.89</td>\n",
       "      <td>10.22</td>\n",
       "      <td>1.00</td>\n",
       "      <td>NaN</td>\n",
       "      <td>NaN</td>\n",
       "      <td>NaN</td>\n",
       "    </tr>\n",
       "  </tbody>\n",
       "</table>\n",
       "</div>"
      ],
      "text/plain": [
       "                       Name Platform  Year_of_Release         Genre  NA_sales  \\\n",
       "0                Wii Sports      Wii           2006.0        Sports     41.36   \n",
       "1         Super Mario Bros.      NES           1985.0      Platform     29.08   \n",
       "2            Mario Kart Wii      Wii           2008.0        Racing     15.68   \n",
       "3         Wii Sports Resort      Wii           2009.0        Sports     15.61   \n",
       "4  Pokemon Red/Pokemon Blue       GB           1996.0  Role-Playing     11.27   \n",
       "\n",
       "   EU_sales  JP_sales  Other_sales  Critic_Score User_Score Rating  \n",
       "0     28.96      3.77         8.45          76.0          8      E  \n",
       "1      3.58      6.81         0.77           NaN        NaN    NaN  \n",
       "2     12.76      3.79         3.29          82.0        8.3      E  \n",
       "3     10.93      3.28         2.95          80.0          8      E  \n",
       "4      8.89     10.22         1.00           NaN        NaN    NaN  "
      ]
     },
     "execution_count": 4,
     "metadata": {},
     "output_type": "execute_result"
    }
   ],
   "source": [
    "df = pd.read_csv('games.csv')\n",
    "\n",
    "df.head()"
   ]
  },
  {
   "cell_type": "markdown",
   "metadata": {},
   "source": [
    "Code Meaning:\n",
    "Use the columns function in order to double check all the column names in the dataframe.\n",
    "\n",
    "Code Result:\n",
    "The column names in the dataframe seem to be listed in uppercase and should be converted to lowercase.  "
   ]
  },
  {
   "cell_type": "markdown",
   "metadata": {},
   "source": [
    "# Step 2: Prepare the Data"
   ]
  },
  {
   "cell_type": "markdown",
   "metadata": {},
   "source": [
    "Renaming the Columns"
   ]
  },
  {
   "cell_type": "code",
   "execution_count": 5,
   "metadata": {},
   "outputs": [
    {
     "data": {
      "text/plain": [
       "Index(['Name', 'Platform', 'Year_of_Release', 'Genre', 'NA_sales', 'EU_sales',\n",
       "       'JP_sales', 'Other_sales', 'Critic_Score', 'User_Score', 'Rating'],\n",
       "      dtype='object')"
      ]
     },
     "execution_count": 5,
     "metadata": {},
     "output_type": "execute_result"
    }
   ],
   "source": [
    "df.columns"
   ]
  },
  {
   "cell_type": "markdown",
   "metadata": {},
   "source": [
    "Code Meaning:  Use the rename() function on the df dataframe to rename the column names appropriately in lowercase format."
   ]
  },
  {
   "cell_type": "code",
   "execution_count": 6,
   "metadata": {},
   "outputs": [],
   "source": [
    "df = df.rename({'Name': 'name', 'Platform': 'platform','Year_of_Release': 'year_of_release', 'Genre': 'genre', 'NA_sales': 'na_sales', 'EU_sales': 'eu_sales','JP_sales': 'jp_sales', 'Other_sales': 'other_sales', 'Critic_Score': 'critic_score', 'User_Score': 'user_score', 'Rating': 'rating'}, axis=1)"
   ]
  },
  {
   "cell_type": "markdown",
   "metadata": {},
   "source": [
    "Code Meaning:  Use .columns once again to check the column names in the df dataframe.\n",
    "\n",
    "Code Result: The column names in the df dataframe were renamed in lowercase format succesfully."
   ]
  },
  {
   "cell_type": "code",
   "execution_count": 7,
   "metadata": {},
   "outputs": [
    {
     "data": {
      "text/plain": [
       "Index(['name', 'platform', 'year_of_release', 'genre', 'na_sales', 'eu_sales',\n",
       "       'jp_sales', 'other_sales', 'critic_score', 'user_score', 'rating'],\n",
       "      dtype='object')"
      ]
     },
     "execution_count": 7,
     "metadata": {},
     "output_type": "execute_result"
    }
   ],
   "source": [
    "df.columns"
   ]
  },
  {
   "cell_type": "markdown",
   "metadata": {},
   "source": [
    "# Checking the Data Types"
   ]
  },
  {
   "cell_type": "markdown",
   "metadata": {},
   "source": [
    "Code Meaning:  Use the info() method to check the datatypes in the dataframe.\n",
    "\n",
    "Code Result: The user_score column should be converted from object type to float64 type and the year_of_release column should converted from float64 type to integer type."
   ]
  },
  {
   "cell_type": "code",
   "execution_count": 8,
   "metadata": {},
   "outputs": [
    {
     "name": "stdout",
     "output_type": "stream",
     "text": [
      "<class 'pandas.core.frame.DataFrame'>\n",
      "RangeIndex: 16715 entries, 0 to 16714\n",
      "Data columns (total 11 columns):\n",
      " #   Column           Non-Null Count  Dtype  \n",
      "---  ------           --------------  -----  \n",
      " 0   name             16713 non-null  object \n",
      " 1   platform         16715 non-null  object \n",
      " 2   year_of_release  16446 non-null  float64\n",
      " 3   genre            16713 non-null  object \n",
      " 4   na_sales         16715 non-null  float64\n",
      " 5   eu_sales         16715 non-null  float64\n",
      " 6   jp_sales         16715 non-null  float64\n",
      " 7   other_sales      16715 non-null  float64\n",
      " 8   critic_score     8137 non-null   float64\n",
      " 9   user_score       10014 non-null  object \n",
      " 10  rating           9949 non-null   object \n",
      "dtypes: float64(6), object(5)\n",
      "memory usage: 1.4+ MB\n"
     ]
    }
   ],
   "source": [
    "df.info()"
   ]
  },
  {
   "cell_type": "markdown",
   "metadata": {},
   "source": [
    "Code Meaning:  \n",
    "1) Use the pd.to_numeric() function to convert the user_score column of the df dataframe from object to float64.  \n",
    "2) Add errors='coerce' as an argument to pd.to_numeric()."
   ]
  },
  {
   "cell_type": "code",
   "execution_count": 9,
   "metadata": {},
   "outputs": [],
   "source": [
    "df['user_score'] = pd.to_numeric(df['user_score'], errors='coerce')"
   ]
  },
  {
   "cell_type": "code",
   "execution_count": 10,
   "metadata": {},
   "outputs": [],
   "source": [
    "df['critic_score'] = pd.to_numeric(df['critic_score'], errors='coerce')"
   ]
  },
  {
   "cell_type": "markdown",
   "metadata": {},
   "source": [
    "Code Meaning:  Use the info() method once again on the df dataframe in order to check the data types again.\n",
    "\n",
    "Code Result:  The user_score column was successfull converted from object to float64.  The year_of_release cannot be converted to the proper datatype because there values listed as the string 'tbd' in the column.  The year_of_release column wil be converted to the proper data type further on in the project."
   ]
  },
  {
   "cell_type": "code",
   "execution_count": 11,
   "metadata": {},
   "outputs": [
    {
     "name": "stdout",
     "output_type": "stream",
     "text": [
      "<class 'pandas.core.frame.DataFrame'>\n",
      "RangeIndex: 16715 entries, 0 to 16714\n",
      "Data columns (total 11 columns):\n",
      " #   Column           Non-Null Count  Dtype  \n",
      "---  ------           --------------  -----  \n",
      " 0   name             16713 non-null  object \n",
      " 1   platform         16715 non-null  object \n",
      " 2   year_of_release  16446 non-null  float64\n",
      " 3   genre            16713 non-null  object \n",
      " 4   na_sales         16715 non-null  float64\n",
      " 5   eu_sales         16715 non-null  float64\n",
      " 6   jp_sales         16715 non-null  float64\n",
      " 7   other_sales      16715 non-null  float64\n",
      " 8   critic_score     8137 non-null   float64\n",
      " 9   user_score       7590 non-null   float64\n",
      " 10  rating           9949 non-null   object \n",
      "dtypes: float64(7), object(4)\n",
      "memory usage: 1.4+ MB\n"
     ]
    }
   ],
   "source": [
    "df.info()"
   ]
  },
  {
   "cell_type": "markdown",
   "metadata": {},
   "source": [
    "# Creating the total_sales column"
   ]
  },
  {
   "cell_type": "markdown",
   "metadata": {},
   "source": [
    "Code Meaning:  \n",
    "1) Use the def() function in order to create a function that adds the na_sales, eu_sales, jp_sales, and other_sales in the df dataframe in order to create the total_sales column.  Name the function: calc_revenue().  \n",
    "2) Use row as an input arguement to calc_revenue()."
   ]
  },
  {
   "cell_type": "code",
   "execution_count": 12,
   "metadata": {},
   "outputs": [],
   "source": [
    "def calc_revenue(row):\n",
    "    revenue = 0\n",
    "    na_sales = row['na_sales']\n",
    "    eu_sales = row['eu_sales']\n",
    "    jp_sales = row['jp_sales']\n",
    "    other_sales = row['other_sales']\n",
    "    revenue = na_sales + eu_sales + jp_sales + other_sales\n",
    "    return revenue\n",
    "    "
   ]
  },
  {
   "cell_type": "markdown",
   "metadata": {},
   "source": [
    "Code Meaning:  \n",
    "1) Use the apply() function in order to apply the previously created calc_revenue() function to the df dataframe.  \n",
    "2) Set the axis to 1 in order apply the function to all rows.  \n",
    "3) Assign the code to df['total_sales'] in order to save the result and create the total_sales column in the df dataframe.\n",
    "4) Use the head() function to check the result.\n",
    "\n",
    "Code Result:\n",
    "The total_sales column of the df dataframe was created successfully."
   ]
  },
  {
   "cell_type": "code",
   "execution_count": 13,
   "metadata": {},
   "outputs": [
    {
     "data": {
      "text/html": [
       "<div>\n",
       "<style scoped>\n",
       "    .dataframe tbody tr th:only-of-type {\n",
       "        vertical-align: middle;\n",
       "    }\n",
       "\n",
       "    .dataframe tbody tr th {\n",
       "        vertical-align: top;\n",
       "    }\n",
       "\n",
       "    .dataframe thead th {\n",
       "        text-align: right;\n",
       "    }\n",
       "</style>\n",
       "<table border=\"1\" class=\"dataframe\">\n",
       "  <thead>\n",
       "    <tr style=\"text-align: right;\">\n",
       "      <th></th>\n",
       "      <th>name</th>\n",
       "      <th>platform</th>\n",
       "      <th>year_of_release</th>\n",
       "      <th>genre</th>\n",
       "      <th>na_sales</th>\n",
       "      <th>eu_sales</th>\n",
       "      <th>jp_sales</th>\n",
       "      <th>other_sales</th>\n",
       "      <th>critic_score</th>\n",
       "      <th>user_score</th>\n",
       "      <th>rating</th>\n",
       "      <th>total_sales</th>\n",
       "    </tr>\n",
       "  </thead>\n",
       "  <tbody>\n",
       "    <tr>\n",
       "      <th>0</th>\n",
       "      <td>Wii Sports</td>\n",
       "      <td>Wii</td>\n",
       "      <td>2006.0</td>\n",
       "      <td>Sports</td>\n",
       "      <td>41.36</td>\n",
       "      <td>28.96</td>\n",
       "      <td>3.77</td>\n",
       "      <td>8.45</td>\n",
       "      <td>76.0</td>\n",
       "      <td>8.0</td>\n",
       "      <td>E</td>\n",
       "      <td>82.54</td>\n",
       "    </tr>\n",
       "    <tr>\n",
       "      <th>1</th>\n",
       "      <td>Super Mario Bros.</td>\n",
       "      <td>NES</td>\n",
       "      <td>1985.0</td>\n",
       "      <td>Platform</td>\n",
       "      <td>29.08</td>\n",
       "      <td>3.58</td>\n",
       "      <td>6.81</td>\n",
       "      <td>0.77</td>\n",
       "      <td>NaN</td>\n",
       "      <td>NaN</td>\n",
       "      <td>NaN</td>\n",
       "      <td>40.24</td>\n",
       "    </tr>\n",
       "    <tr>\n",
       "      <th>2</th>\n",
       "      <td>Mario Kart Wii</td>\n",
       "      <td>Wii</td>\n",
       "      <td>2008.0</td>\n",
       "      <td>Racing</td>\n",
       "      <td>15.68</td>\n",
       "      <td>12.76</td>\n",
       "      <td>3.79</td>\n",
       "      <td>3.29</td>\n",
       "      <td>82.0</td>\n",
       "      <td>8.3</td>\n",
       "      <td>E</td>\n",
       "      <td>35.52</td>\n",
       "    </tr>\n",
       "    <tr>\n",
       "      <th>3</th>\n",
       "      <td>Wii Sports Resort</td>\n",
       "      <td>Wii</td>\n",
       "      <td>2009.0</td>\n",
       "      <td>Sports</td>\n",
       "      <td>15.61</td>\n",
       "      <td>10.93</td>\n",
       "      <td>3.28</td>\n",
       "      <td>2.95</td>\n",
       "      <td>80.0</td>\n",
       "      <td>8.0</td>\n",
       "      <td>E</td>\n",
       "      <td>32.77</td>\n",
       "    </tr>\n",
       "    <tr>\n",
       "      <th>4</th>\n",
       "      <td>Pokemon Red/Pokemon Blue</td>\n",
       "      <td>GB</td>\n",
       "      <td>1996.0</td>\n",
       "      <td>Role-Playing</td>\n",
       "      <td>11.27</td>\n",
       "      <td>8.89</td>\n",
       "      <td>10.22</td>\n",
       "      <td>1.00</td>\n",
       "      <td>NaN</td>\n",
       "      <td>NaN</td>\n",
       "      <td>NaN</td>\n",
       "      <td>31.38</td>\n",
       "    </tr>\n",
       "  </tbody>\n",
       "</table>\n",
       "</div>"
      ],
      "text/plain": [
       "                       name platform  year_of_release         genre  na_sales  \\\n",
       "0                Wii Sports      Wii           2006.0        Sports     41.36   \n",
       "1         Super Mario Bros.      NES           1985.0      Platform     29.08   \n",
       "2            Mario Kart Wii      Wii           2008.0        Racing     15.68   \n",
       "3         Wii Sports Resort      Wii           2009.0        Sports     15.61   \n",
       "4  Pokemon Red/Pokemon Blue       GB           1996.0  Role-Playing     11.27   \n",
       "\n",
       "   eu_sales  jp_sales  other_sales  critic_score  user_score rating  \\\n",
       "0     28.96      3.77         8.45          76.0         8.0      E   \n",
       "1      3.58      6.81         0.77           NaN         NaN    NaN   \n",
       "2     12.76      3.79         3.29          82.0         8.3      E   \n",
       "3     10.93      3.28         2.95          80.0         8.0      E   \n",
       "4      8.89     10.22         1.00           NaN         NaN    NaN   \n",
       "\n",
       "   total_sales  \n",
       "0        82.54  \n",
       "1        40.24  \n",
       "2        35.52  \n",
       "3        32.77  \n",
       "4        31.38  "
      ]
     },
     "execution_count": 13,
     "metadata": {},
     "output_type": "execute_result"
    }
   ],
   "source": [
    "df['total_sales'] = df.apply(calc_revenue, axis=1)\n",
    "\n",
    "df.head()"
   ]
  },
  {
   "cell_type": "markdown",
   "metadata": {},
   "source": [
    "# Checking for Duplicate Values"
   ]
  },
  {
   "cell_type": "markdown",
   "metadata": {},
   "source": [
    "# Reviewer's Note:\n",
    "There is no check for duplicates. Please add them."
   ]
  },
  {
   "cell_type": "markdown",
   "metadata": {},
   "source": [
    "Code Meaning:\n",
    "Use the duplicated() and sum() methods on the df dataframe in order check for duplicate values.\n",
    "\n",
    "Code Result:\n",
    "There are no duplicate values noted in the dataframe."
   ]
  },
  {
   "cell_type": "code",
   "execution_count": 14,
   "metadata": {},
   "outputs": [
    {
     "data": {
      "text/plain": [
       "0"
      ]
     },
     "execution_count": 14,
     "metadata": {},
     "output_type": "execute_result"
    }
   ],
   "source": [
    "df.duplicated().sum()"
   ]
  },
  {
   "cell_type": "markdown",
   "metadata": {},
   "source": [
    "# Dealing with Missing Values"
   ]
  },
  {
   "cell_type": "markdown",
   "metadata": {},
   "source": [
    "# Reviewer's Comment:\n",
    "\n",
    "Substituting missing values for the median can skew the data and introduce some problem in further analysis. Let me elaborate on the causes and consequences of this approach.\n",
    "\n",
    "distortion of the distribution: When we replace missing values with the median, we are actually adding new values to the data set. This can lead to a shift in the distribution and distort the statistical properties of the data. Replacing by the median can make the data look more homogeneous than it actually is.\n",
    "\n",
    "Possible consequences: Substituting missing values for the median can affect many aspects of data analysis:\n",
    "\n",
    "Statistical tests: Distorted data can lead to incorrect conclusions in statistical tests. The use of skewed data can lead to incorrect results in significance tests and estimation of effects between groups or conditions.\n",
    "\n",
    "Modeling: When distorted data are used to build models, models may also suffer from distortion and produce incorrect predictions or conclusions. This can be particularly important if missing values are associated with key model variables.\n",
    "\n",
    "Inferences and interpretation: Distorted data can lead to incorrect inferences and misinterpretation of results. For example, if missing values are associated with important factors, replacing with the median may lead to misunderstanding the effect of these factors on the variable under study.\n",
    "\n",
    "So, instead of replacing missing values with median, it is recommended to apply other approaches to handle missing data such as:\n",
    "\n",
    "Removing records with missing values: If the number of records with missing values is small compared to the total amount of data, deleting these records may be a reasonable approach.\n",
    "\n",
    "Data Imputation: Using more sophisticated techniques such as data imputation can help recover missing values based on other variables in the dataset.For example, machine learning models can be used to predict missing values based on the available data. It is important to assess the reason for missing values and choose an approach to handle them based on the specifics of the data and the objectives of the study.Proper handling of missing values helps to maintain the accuracy and reliability of data analysis.\n"
   ]
  },
  {
   "cell_type": "markdown",
   "metadata": {},
   "source": [
    "# Reviewer's Comment:\n",
    "Why fill with a random value?"
   ]
  },
  {
   "cell_type": "markdown",
   "metadata": {},
   "source": [
    "Code Meaning:\n",
    "Use the isna() and sum() functions in order to count the number of missing values in the df dataframe.\n",
    "\n",
    "Code Result:\n",
    "There are missing values noted in the name, year_of_release, critic_score, user_score, and rating columns of the df dataframe."
   ]
  },
  {
   "cell_type": "code",
   "execution_count": 15,
   "metadata": {},
   "outputs": [
    {
     "data": {
      "text/plain": [
       "name                  2\n",
       "platform              0\n",
       "year_of_release     269\n",
       "genre                 2\n",
       "na_sales              0\n",
       "eu_sales              0\n",
       "jp_sales              0\n",
       "other_sales           0\n",
       "critic_score       8578\n",
       "user_score         9125\n",
       "rating             6766\n",
       "total_sales           0\n",
       "dtype: int64"
      ]
     },
     "execution_count": 15,
     "metadata": {},
     "output_type": "execute_result"
    }
   ],
   "source": [
    "df.isna().sum()"
   ]
  },
  {
   "cell_type": "markdown",
   "metadata": {},
   "source": [
    "Code Meaning:\n",
    "1) Use the dropna() method in order to drop the missing values from the name column of df dataframe by adding subset=['name'] as an arguement to df.dropna().\n",
    "2) Assign the code to df in order to save the result.\n",
    "3) Use the isna() and sum() methods on the name column of the df dataframe to check for missing values.\n",
    "\n",
    "Code Result:\n",
    "There are no more missing values noted in the name column of the df dataframe."
   ]
  },
  {
   "cell_type": "code",
   "execution_count": 16,
   "metadata": {},
   "outputs": [
    {
     "data": {
      "text/plain": [
       "0"
      ]
     },
     "execution_count": 16,
     "metadata": {},
     "output_type": "execute_result"
    }
   ],
   "source": [
    "#new solution/ correction)\n",
    "df = df.dropna(subset=['name'])\n",
    "\n",
    "df['name'].isna().sum()"
   ]
  },
  {
   "cell_type": "markdown",
   "metadata": {},
   "source": [
    "Code Meaning: \n",
    "1) Use the transform(), fillna() and median() methods on the year_of_release column of the df dataframe in order to fill the the year_of_release column with the median.\n",
    "2) Use the isna() and sum() methods in order to check for missing values in the year_of_release column of the df dataframe.\n",
    "\n",
    "Code Result:\n",
    "There are no more missing values noted in the year_of_release column of the df dataframe."
   ]
  },
  {
   "cell_type": "code",
   "execution_count": 17,
   "metadata": {},
   "outputs": [
    {
     "data": {
      "text/plain": [
       "0"
      ]
     },
     "execution_count": 17,
     "metadata": {},
     "output_type": "execute_result"
    }
   ],
   "source": [
    "#new solution\n",
    "df['year_of_release'] = df['year_of_release'].transform(lambda x: x.fillna(x.median()))\n",
    "\n",
    "df['year_of_release'].isna().sum()"
   ]
  },
  {
   "cell_type": "markdown",
   "metadata": {},
   "source": [
    "Code Result:\n",
    "1) Use the astype() method with int as an argument on the year_of_release column of the df dataframe in order to convert the column from float64 to int32 data type.\n",
    "2) Use the info() function on the df dataframe in order to double check the data types.\n",
    "\n",
    "Code Result:\n",
    "The year_of_release column of the df dataframe was converted to int32 succesfully."
   ]
  },
  {
   "cell_type": "code",
   "execution_count": 18,
   "metadata": {},
   "outputs": [
    {
     "name": "stdout",
     "output_type": "stream",
     "text": [
      "<class 'pandas.core.frame.DataFrame'>\n",
      "Index: 16713 entries, 0 to 16714\n",
      "Data columns (total 12 columns):\n",
      " #   Column           Non-Null Count  Dtype  \n",
      "---  ------           --------------  -----  \n",
      " 0   name             16713 non-null  object \n",
      " 1   platform         16713 non-null  object \n",
      " 2   year_of_release  16713 non-null  int32  \n",
      " 3   genre            16713 non-null  object \n",
      " 4   na_sales         16713 non-null  float64\n",
      " 5   eu_sales         16713 non-null  float64\n",
      " 6   jp_sales         16713 non-null  float64\n",
      " 7   other_sales      16713 non-null  float64\n",
      " 8   critic_score     8137 non-null   float64\n",
      " 9   user_score       7590 non-null   float64\n",
      " 10  rating           9949 non-null   object \n",
      " 11  total_sales      16713 non-null  float64\n",
      "dtypes: float64(7), int32(1), object(4)\n",
      "memory usage: 1.6+ MB\n"
     ]
    }
   ],
   "source": [
    "df['year_of_release'] = df['year_of_release'].astype(int)\n",
    "\n",
    "df.info()"
   ]
  },
  {
   "cell_type": "markdown",
   "metadata": {},
   "source": [
    "Code Meaning:\n",
    "1) Use the dropna() method in order to drop the missing values from the genre column of df dataframe by adding subset=['genre'] as an arguement to df.dropna().\n",
    "2) Assign the code to df in order to save the result.\n",
    "3) Use the isna() and sum() methods on the genre column of the df dataframe to check for missing values.\n",
    "\n",
    "Code Result:\n",
    "There are no more missing values noted in the genre column of the df dataframe."
   ]
  },
  {
   "cell_type": "code",
   "execution_count": 19,
   "metadata": {},
   "outputs": [
    {
     "data": {
      "text/plain": [
       "0"
      ]
     },
     "execution_count": 19,
     "metadata": {},
     "output_type": "execute_result"
    }
   ],
   "source": [
    "#new solution/ correction\n",
    "df = df.dropna(subset=['genre'])\n",
    "\n",
    "df['genre'].isna().sum()"
   ]
  },
  {
   "cell_type": "markdown",
   "metadata": {},
   "source": [
    "Code Meaning:\n",
    "1) Use the fillna() method in order to fill the missing values in the rating column of the df dataframe with the string 'undefined'.\n",
    "2) Use inplace=True in order to save the result.\n",
    "3) Use the isna() and sum() methods in order to check for missing values in the df dataframe.\n",
    "\n",
    "Code Result:\n",
    "There are no more missing values noted in the rating column of the df dataframe."
   ]
  },
  {
   "cell_type": "code",
   "execution_count": 20,
   "metadata": {},
   "outputs": [
    {
     "data": {
      "text/plain": [
       "0"
      ]
     },
     "execution_count": 20,
     "metadata": {},
     "output_type": "execute_result"
    }
   ],
   "source": [
    "df['rating'].fillna('undefined', inplace=True)\n",
    "df['rating'].isna().sum()"
   ]
  },
  {
   "cell_type": "markdown",
   "metadata": {},
   "source": [
    "Code Meaning:\n",
    "1) Use the dropna() method in order to drop the missing values from the critic_score column of df dataframe by adding subset=['critic_score'] as an arguement to df.dropna().\n",
    "2) Assign the code to df in order to save the result.\n",
    "3) Use the isna() and sum() methods on the critic_score column of the df dataframe to check for missing values.\n",
    "\n",
    "Code Result:\n",
    "There are no more missing values noted in the critic_score column of the df dataframe."
   ]
  },
  {
   "cell_type": "code",
   "execution_count": 21,
   "metadata": {},
   "outputs": [
    {
     "data": {
      "text/plain": [
       "0"
      ]
     },
     "execution_count": 21,
     "metadata": {},
     "output_type": "execute_result"
    }
   ],
   "source": [
    "df = df.dropna(subset=['critic_score'])\n",
    "\n",
    "df['critic_score'].isna().sum()"
   ]
  },
  {
   "cell_type": "markdown",
   "metadata": {},
   "source": [
    "Code Meaning:\n",
    "1) Use the dropna() method in order to drop the missing values from the user_score column of df dataframe by adding subset=['user_score'] as an arguement to df.dropna().\n",
    "2) Assign the code to df in order to save the result.\n",
    "3) Use the isna() and sum() methods on the user_score column of the df dataframe to check for missing values.\n",
    "\n",
    "Code Result:\n",
    "There are no more missing values noted in the user_score column of the df dataframe."
   ]
  },
  {
   "cell_type": "code",
   "execution_count": 22,
   "metadata": {},
   "outputs": [
    {
     "data": {
      "text/plain": [
       "0"
      ]
     },
     "execution_count": 22,
     "metadata": {},
     "output_type": "execute_result"
    }
   ],
   "source": [
    "df = df.dropna(subset=['user_score'])\n",
    "\n",
    "df['user_score'].isna().sum()"
   ]
  },
  {
   "cell_type": "markdown",
   "metadata": {},
   "source": [
    "Code Meaning:\n",
    "Use the isna() and sum() methods in order to double check for missing values in the df dataframe.\n",
    "\n",
    "Code Result:\n",
    "There are no more missing values noted in the df dataframe. The missing values were filled in or dropped successfully."
   ]
  },
  {
   "cell_type": "code",
   "execution_count": 23,
   "metadata": {},
   "outputs": [
    {
     "data": {
      "text/plain": [
       "name               0\n",
       "platform           0\n",
       "year_of_release    0\n",
       "genre              0\n",
       "na_sales           0\n",
       "eu_sales           0\n",
       "jp_sales           0\n",
       "other_sales        0\n",
       "critic_score       0\n",
       "user_score         0\n",
       "rating             0\n",
       "total_sales        0\n",
       "dtype: int64"
      ]
     },
     "execution_count": 23,
     "metadata": {},
     "output_type": "execute_result"
    }
   ],
   "source": [
    "df.isna().sum()"
   ]
  },
  {
   "cell_type": "markdown",
   "metadata": {},
   "source": [
    "Code Meaning: Use the info() method on the df dataframe in order to check the datatype for the year_of_release column.\n",
    "\n",
    "Code Result:  The year_of_release column was converted to int32 successfully.  All other data types in the dataframe appear appropriate."
   ]
  },
  {
   "cell_type": "markdown",
   "metadata": {},
   "source": [
    "### Note to the reviewer:\n",
    "One of the tutors on the Sprint Channels advised me to use the median to fill in the year_of_release column and to leave the NANs in the critic_score and user_score columns in place, but the critic_score and user_score columns were giving me errors in my future codes if I left them as is.  So, I just decided to drop the missing values in the critic_score and user_score columns instead.  I am not sure if this is correct."
   ]
  },
  {
   "cell_type": "markdown",
   "metadata": {},
   "source": [
    "# Step 3: Analyze the Data"
   ]
  },
  {
   "cell_type": "markdown",
   "metadata": {},
   "source": [
    "# Number of Video Games Released per Year Histogram\n",
    "\n",
    "Question Being Addressed:\n",
    "Look at how many games were released in different years. Is the data for every period significant?\n",
    "Answer: It appears that 2008 and 2009 had the most amount of games released for those years.  It also appears that 1980, 1984, and 1985 had the least amount of games released for those years.  It also appears that after the spike of games being released in 2008 and 2009, there is a gradual decline in the release of games doing towards 2016."
   ]
  },
  {
   "cell_type": "markdown",
   "metadata": {},
   "source": [
    "Code Meaning:\n",
    "1) Use px.histogram() in order to generate a histogram titled: \"Number of Video Games Released Per Year\".\n",
    "2) Enter the df dataframe as the data for the chart.  \n",
    "3) Use the year_of_release column of the df dataframe as the x axis.\n",
    "4) Assign the code to fig_1 in order to save the result.\n",
    "5) Use the update_xaxes() method on fig_1 in order to arrange the x axes so that the tick values are measured by the individual unqiue values in the year_of_release column.  Set the tick text in order to list each unique value from the year_of_release column of the df dataframe on the x axis as integers.\n",
    "6) Use fig_1.show() in order to display the chart.\n",
    "\n",
    "Code Result/ Answer to Question:"
   ]
  },
  {
   "cell_type": "code",
   "execution_count": 24,
   "metadata": {},
   "outputs": [
    {
     "data": {
      "application/vnd.plotly.v1+json": {
       "config": {
        "plotlyServerURL": "https://plot.ly"
       },
       "data": [
        {
         "alignmentgroup": "True",
         "bingroup": "x",
         "hovertemplate": "Year Of Release=%{x}<br>count=%{y}<extra></extra>",
         "legendgroup": "",
         "marker": {
          "color": "#636efa",
          "pattern": {
           "shape": ""
          }
         },
         "name": "",
         "offsetgroup": "",
         "orientation": "v",
         "showlegend": false,
         "type": "histogram",
         "x": [
          2006,
          2008,
          2009,
          2006,
          2006,
          2009,
          2005,
          2007,
          2010,
          2009,
          2013,
          2004,
          2005,
          2013,
          2002,
          2005,
          2001,
          2011,
          2010,
          2012,
          2012,
          2009,
          2011,
          2001,
          2008,
          2011,
          2010,
          2014,
          2005,
          2007,
          2004,
          2007,
          2008,
          1997,
          2011,
          2010,
          2009,
          2008,
          2013,
          2011,
          2012,
          2010,
          1997,
          2012,
          1999,
          2010,
          2013,
          2007,
          2012,
          2007,
          2011,
          2015,
          2004,
          2010,
          2007,
          2012,
          2001,
          2009,
          1999,
          2008,
          2005,
          2014,
          2016,
          2010,
          2008,
          2011,
          2003,
          2009,
          2011,
          2015,
          1998,
          2006,
          1998,
          2014,
          2001,
          2004,
          2002,
          2012,
          2008,
          2011,
          2007,
          2009,
          2005,
          2010,
          2013,
          2012,
          2010,
          2001,
          2011,
          2004,
          2002,
          2009,
          2010,
          2002,
          2004,
          1999,
          2011,
          2010,
          2006,
          2014,
          2001,
          1998,
          2008,
          2006,
          2013,
          2008,
          1998,
          2009,
          1996,
          2014,
          2007,
          2006,
          2009,
          2007,
          2009,
          2001,
          2008,
          2011,
          2014,
          2001,
          2001,
          2008,
          2016,
          2009,
          2000,
          2012,
          2003,
          2014,
          2009,
          2007,
          2012,
          2004,
          2007,
          2012,
          2012,
          2003,
          2006,
          2010,
          2009,
          2007,
          2010,
          1996,
          2006,
          1999,
          2007,
          2007,
          2008,
          2007,
          2005,
          2010,
          2007,
          2010,
          1999,
          2007,
          2000,
          2011,
          2000,
          2002,
          1996,
          2008,
          2015,
          2002,
          2007,
          2013,
          2011,
          2004,
          2007,
          2006,
          2015,
          2002,
          2016,
          2005,
          2015,
          2012,
          2001,
          2006,
          2006,
          2005,
          2010,
          2006,
          2005,
          2013,
          2008,
          2001,
          2009,
          2004,
          2011,
          2015,
          2013,
          2006,
          2005,
          2003,
          2007,
          2011,
          2009,
          2002,
          1997,
          2007,
          2016,
          2007,
          2010,
          2007,
          2007,
          2014,
          2000,
          2014,
          2009,
          2015,
          2014,
          2015,
          2011,
          2008,
          2007,
          2009,
          2003,
          2014,
          2011,
          2015,
          2005,
          2006,
          2004,
          2010,
          2013,
          2007,
          2016,
          2007,
          2008,
          2002,
          2001,
          2007,
          2000,
          2013,
          2004,
          2002,
          2007,
          2005,
          2002,
          2001,
          2007,
          2005,
          2008,
          2009,
          2004,
          2001,
          2001,
          2013,
          2005,
          2007,
          2006,
          2002,
          2001,
          2010,
          2008,
          2014,
          2009,
          2010,
          2007,
          2013,
          2009,
          2013,
          2010,
          2008,
          2006,
          2009,
          2002,
          1998,
          2015,
          2004,
          2002,
          2011,
          2000,
          2015,
          2008,
          2014,
          2012,
          2002,
          2005,
          2009,
          2001,
          2013,
          2003,
          2015,
          2003,
          2008,
          2015,
          2008,
          2015,
          2013,
          2014,
          2015,
          2008,
          2003,
          2007,
          2010,
          2011,
          2001,
          2001,
          2007,
          2000,
          2012,
          2005,
          2008,
          2010,
          2006,
          2007,
          2013,
          2012,
          2010,
          2002,
          2001,
          2002,
          2007,
          2015,
          2014,
          2012,
          2008,
          2008,
          2012,
          2010,
          2008,
          2002,
          2013,
          2009,
          2012,
          2010,
          2012,
          2007,
          2000,
          2002,
          2001,
          2011,
          2014,
          2003,
          2002,
          2014,
          2010,
          2003,
          2001,
          2009,
          2009,
          2008,
          2013,
          2007,
          2004,
          2003,
          2008,
          2001,
          2007,
          2004,
          2006,
          2012,
          2002,
          2013,
          2011,
          2009,
          2007,
          2002,
          2010,
          2010,
          2014,
          2001,
          2003,
          2010,
          2011,
          2011,
          2015,
          2003,
          2011,
          2008,
          2006,
          2011,
          2009,
          2007,
          2002,
          2001,
          2011,
          2006,
          2011,
          2006,
          2013,
          2010,
          2004,
          2010,
          2009,
          2005,
          1998,
          2004,
          2008,
          2016,
          2003,
          2009,
          2006,
          2011,
          2000,
          2010,
          2004,
          2009,
          2011,
          2009,
          2010,
          2002,
          2009,
          2004,
          2007,
          2008,
          2008,
          2006,
          2007,
          2007,
          2007,
          2001,
          2012,
          2009,
          2003,
          2009,
          2008,
          2001,
          2010,
          2013,
          2012,
          2008,
          2006,
          2002,
          2007,
          2015,
          2002,
          2008,
          2007,
          2012,
          2011,
          2008,
          2014,
          1997,
          2008,
          2003,
          2010,
          2016,
          2015,
          2008,
          2006,
          2003,
          2010,
          2001,
          2007,
          2011,
          2005,
          2010,
          2011,
          2004,
          2004,
          2007,
          2004,
          2010,
          2009,
          2008,
          2011,
          2007,
          2015,
          2007,
          2001,
          2015,
          2011,
          2004,
          1999,
          2012,
          2012,
          2013,
          2007,
          2004,
          2009,
          2008,
          2010,
          2010,
          2008,
          2011,
          2002,
          2001,
          2009,
          2016,
          2016,
          2002,
          2004,
          2011,
          2013,
          2007,
          2001,
          2006,
          2007,
          2013,
          2001,
          2008,
          2013,
          2012,
          2003,
          2009,
          2013,
          2015,
          2008,
          2007,
          2013,
          2008,
          2010,
          2008,
          2010,
          2003,
          2014,
          2011,
          2006,
          2002,
          2014,
          2016,
          2010,
          2001,
          2009,
          2008,
          2006,
          2016,
          2012,
          2007,
          2004,
          2003,
          2009,
          2001,
          2011,
          2002,
          2003,
          2013,
          1998,
          2006,
          2015,
          2011,
          2009,
          2005,
          2010,
          2015,
          2006,
          2010,
          2002,
          2006,
          2003,
          2007,
          2011,
          2010,
          2005,
          2006,
          2007,
          2014,
          2009,
          2010,
          1998,
          2010,
          2003,
          2007,
          2002,
          2008,
          2006,
          2005,
          2007,
          2003,
          2011,
          2008,
          2003,
          2005,
          2008,
          2005,
          2011,
          2011,
          2013,
          2012,
          2011,
          2014,
          2008,
          2008,
          2007,
          1997,
          2002,
          2009,
          2010,
          2013,
          2002,
          2003,
          2004,
          2012,
          2006,
          2003,
          2012,
          2005,
          2003,
          2003,
          2006,
          2008,
          2010,
          2008,
          2004,
          2008,
          2002,
          2013,
          2004,
          2008,
          2015,
          2001,
          2003,
          2013,
          2004,
          1996,
          2008,
          2009,
          2013,
          2014,
          2001,
          2008,
          2008,
          2008,
          2013,
          2008,
          2004,
          2016,
          2009,
          2002,
          2013,
          2001,
          2005,
          2004,
          1999,
          2008,
          2001,
          2015,
          1999,
          2004,
          2004,
          2012,
          2013,
          2009,
          2005,
          2007,
          2014,
          2010,
          2011,
          2012,
          2001,
          2001,
          2009,
          2007,
          2003,
          2002,
          2016,
          2004,
          2002,
          2006,
          2010,
          2015,
          2014,
          2007,
          2003,
          2004,
          2005,
          2001,
          2006,
          2011,
          2009,
          2004,
          2001,
          2004,
          2002,
          2002,
          2004,
          2001,
          2004,
          2016,
          2010,
          2007,
          2007,
          2013,
          2008,
          2002,
          2012,
          2012,
          2015,
          2001,
          2013,
          2010,
          2002,
          2012,
          2014,
          2014,
          2004,
          2003,
          2011,
          2012,
          2009,
          2004,
          2003,
          2007,
          2011,
          2006,
          2010,
          2016,
          2005,
          2013,
          2001,
          2002,
          2005,
          2008,
          2010,
          2008,
          2010,
          2003,
          2002,
          2008,
          2007,
          2003,
          2000,
          2005,
          2001,
          2009,
          2001,
          2003,
          2006,
          2013,
          2003,
          2015,
          2008,
          2000,
          2008,
          2004,
          2013,
          2002,
          2012,
          2005,
          2016,
          2011,
          2004,
          2008,
          2006,
          2007,
          2007,
          2008,
          2002,
          2004,
          2014,
          2004,
          2013,
          2001,
          2003,
          2007,
          1999,
          2004,
          2012,
          2006,
          2010,
          2003,
          2013,
          2007,
          2007,
          2004,
          2005,
          2011,
          2006,
          2010,
          1999,
          2003,
          2004,
          1996,
          2008,
          2006,
          2007,
          2006,
          2012,
          2008,
          2008,
          2011,
          2002,
          2015,
          2008,
          2013,
          2001,
          2013,
          2014,
          2008,
          2014,
          2002,
          2005,
          2008,
          2000,
          2006,
          2012,
          2008,
          2009,
          2011,
          2002,
          2003,
          2010,
          2001,
          2009,
          2014,
          2010,
          2010,
          2000,
          2003,
          2008,
          2006,
          2005,
          2011,
          2011,
          2012,
          2012,
          2003,
          2012,
          2007,
          2002,
          2014,
          2009,
          2002,
          2002,
          2008,
          2011,
          2007,
          2007,
          2011,
          2011,
          2003,
          2006,
          2000,
          2002,
          2000,
          2010,
          2008,
          2003,
          2002,
          2008,
          2010,
          2010,
          2015,
          2006,
          2007,
          2011,
          2008,
          2008,
          2005,
          2004,
          2011,
          2004,
          2012,
          2012,
          2006,
          1998,
          2010,
          2001,
          2008,
          2005,
          2008,
          2011,
          2004,
          2004,
          2003,
          2011,
          2011,
          2013,
          2007,
          2013,
          2007,
          2004,
          2002,
          2010,
          1999,
          2007,
          2010,
          2007,
          2004,
          2011,
          2008,
          2006,
          2008,
          2012,
          2002,
          2013,
          2004,
          2004,
          2011,
          2008,
          2013,
          2006,
          2010,
          2010,
          2012,
          2009,
          2013,
          2001,
          2004,
          2009,
          2002,
          2006,
          2008,
          2009,
          2004,
          2004,
          2002,
          2014,
          2001,
          2005,
          2013,
          2008,
          2014,
          2003,
          2013,
          2015,
          2015,
          2011,
          2001,
          2009,
          2008,
          2011,
          2007,
          2010,
          2011,
          2004,
          2005,
          2010,
          2006,
          2004,
          2011,
          2003,
          2014,
          2002,
          2012,
          2009,
          2009,
          2008,
          2014,
          2008,
          2004,
          2013,
          2016,
          2007,
          2008,
          2007,
          2002,
          2008,
          2008,
          2010,
          2011,
          2008,
          2011,
          2005,
          2015,
          2010,
          2005,
          2004,
          2006,
          2006,
          2003,
          2008,
          2004,
          2010,
          2004,
          2004,
          2007,
          2013,
          2009,
          2010,
          2008,
          2002,
          2012,
          2010,
          2005,
          2011,
          2010,
          2005,
          2015,
          2002,
          2009,
          2004,
          2009,
          2006,
          2015,
          2012,
          2005,
          2009,
          2015,
          2010,
          2008,
          2011,
          2003,
          2007,
          2009,
          2004,
          2015,
          2015,
          2010,
          2014,
          2007,
          2015,
          2004,
          2007,
          2003,
          2006,
          2001,
          1997,
          2008,
          2014,
          2005,
          2014,
          2012,
          2012,
          2008,
          2008,
          2003,
          2014,
          2002,
          2008,
          2008,
          2011,
          2003,
          1994,
          2012,
          2013,
          2013,
          2010,
          2007,
          2010,
          2005,
          2008,
          2009,
          2000,
          2013,
          2008,
          2008,
          2005,
          2005,
          2006,
          2007,
          2012,
          2015,
          2002,
          2003,
          2004,
          2005,
          2007,
          2001,
          1997,
          2000,
          2008,
          2007,
          2005,
          2009,
          2012,
          2001,
          2016,
          2004,
          2002,
          2004,
          2009,
          2012,
          2014,
          2004,
          2008,
          2006,
          2007,
          2010,
          2011,
          2007,
          2004,
          2002,
          2001,
          2002,
          2007,
          2006,
          2001,
          2004,
          2007,
          2005,
          2011,
          2002,
          2015,
          2000,
          2003,
          2010,
          2007,
          2015,
          2009,
          2008,
          2002,
          2007,
          2004,
          2011,
          2004,
          2003,
          2006,
          2001,
          2010,
          2003,
          2012,
          2014,
          2002,
          2008,
          2015,
          2006,
          2007,
          2007,
          2002,
          2006,
          2006,
          2013,
          1999,
          2012,
          2001,
          2012,
          2005,
          2002,
          2012,
          2008,
          2009,
          2011,
          2003,
          2015,
          2010,
          2009,
          2003,
          2008,
          2008,
          2004,
          2011,
          2006,
          2004,
          1997,
          2008,
          2006,
          2001,
          2011,
          2013,
          2007,
          2010,
          2007,
          2008,
          2001,
          2007,
          2004,
          2012,
          2012,
          2009,
          2003,
          2007,
          2003,
          2014,
          2003,
          2005,
          1998,
          2007,
          2013,
          2011,
          2008,
          2005,
          2003,
          2007,
          2014,
          2001,
          2016,
          2002,
          2006,
          2016,
          2011,
          2004,
          2008,
          2009,
          2014,
          2012,
          2007,
          2015,
          2001,
          2009,
          2010,
          2005,
          2011,
          2005,
          2011,
          2009,
          2007,
          2009,
          2012,
          2004,
          2010,
          2009,
          2011,
          2003,
          2007,
          2011,
          2007,
          2005,
          2013,
          2013,
          2015,
          2010,
          2011,
          2003,
          2013,
          2007,
          2008,
          2007,
          1998,
          2013,
          2006,
          2009,
          2003,
          2008,
          2000,
          2005,
          2015,
          2003,
          2009,
          2006,
          2010,
          2002,
          2010,
          2012,
          2009,
          2003,
          2005,
          2009,
          2007,
          2010,
          2004,
          2016,
          2008,
          2003,
          2005,
          2014,
          2007,
          2006,
          2006,
          2010,
          2008,
          2008,
          2007,
          2005,
          2009,
          2005,
          2008,
          2013,
          2006,
          2002,
          2009,
          2008,
          2007,
          2009,
          2008,
          2005,
          2003,
          2016,
          2010,
          2012,
          2001,
          2007,
          2004,
          2002,
          2010,
          2008,
          2007,
          2011,
          2008,
          2007,
          2007,
          2009,
          2006,
          2002,
          2012,
          2001,
          2000,
          2014,
          2005,
          2007,
          2003,
          2007,
          2009,
          2012,
          2003,
          2006,
          2010,
          2001,
          2006,
          2005,
          2007,
          2012,
          2011,
          2005,
          2005,
          2012,
          2011,
          2007,
          2005,
          2008,
          2003,
          2016,
          2008,
          1996,
          1998,
          2009,
          2009,
          2007,
          2007,
          2007,
          2004,
          2016,
          2007,
          2008,
          2011,
          2010,
          2009,
          2011,
          2013,
          2006,
          2011,
          2008,
          2004,
          2012,
          2008,
          2007,
          2007,
          2007,
          2008,
          2014,
          2014,
          2008,
          1997,
          2012,
          2016,
          2003,
          2009,
          2010,
          2003,
          2002,
          2011,
          2000,
          2013,
          2011,
          2012,
          2011,
          2008,
          1998,
          2000,
          2009,
          2008,
          2005,
          2009,
          2007,
          2006,
          2011,
          2008,
          2008,
          2009,
          2010,
          2008,
          2005,
          2005,
          2007,
          2013,
          2007,
          2013,
          2009,
          2005,
          2005,
          2007,
          2003,
          2009,
          2013,
          2003,
          2007,
          2004,
          2012,
          2006,
          2009,
          2011,
          2007,
          2006,
          2000,
          2002,
          2012,
          2015,
          2013,
          2000,
          2012,
          2010,
          2008,
          2002,
          2002,
          2011,
          2012,
          2004,
          2006,
          2012,
          2011,
          2004,
          2008,
          2005,
          2008,
          2003,
          2012,
          2013,
          2007,
          2012,
          2000,
          2011,
          2010,
          2010,
          2011,
          2004,
          2004,
          2011,
          2003,
          2013,
          2011,
          2008,
          2008,
          2009,
          2009,
          2009,
          2006,
          2003,
          2006,
          2002,
          2013,
          2016,
          2005,
          2002,
          2014,
          2008,
          2008,
          2016,
          2009,
          2003,
          2009,
          2007,
          2006,
          2007,
          2010,
          2009,
          2014,
          2011,
          2008,
          2014,
          2012,
          2012,
          2003,
          2013,
          2001,
          2010,
          2000,
          2005,
          2015,
          2014,
          2014,
          2012,
          2006,
          2010,
          2011,
          2008,
          2006,
          2006,
          2012,
          2008,
          2010,
          2002,
          2008,
          2007,
          2003,
          2010,
          2000,
          2011,
          2013,
          2012,
          2008,
          2004,
          2009,
          2002,
          2007,
          2016,
          2015,
          2004,
          2009,
          2005,
          2013,
          2012,
          2011,
          2015,
          2014,
          2006,
          2009,
          2013,
          2003,
          2007,
          2002,
          2013,
          2009,
          2004,
          2004,
          2003,
          2005,
          2001,
          2011,
          2005,
          2012,
          2004,
          2004,
          2006,
          2003,
          1997,
          2001,
          2008,
          2009,
          2008,
          2011,
          2008,
          2009,
          2008,
          2012,
          2008,
          2007,
          2009,
          2011,
          2010,
          2009,
          2005,
          2011,
          2006,
          2016,
          2012,
          2008,
          2008,
          2008,
          2010,
          2010,
          2004,
          2015,
          2003,
          2007,
          2001,
          2009,
          2003,
          2012,
          2012,
          2008,
          2009,
          2011,
          2012,
          2006,
          2008,
          2007,
          2009,
          2005,
          2002,
          2008,
          2008,
          2000,
          2007,
          2013,
          2008,
          2009,
          2015,
          2009,
          2006,
          2002,
          2001,
          2010,
          2006,
          2003,
          2010,
          2007,
          2007,
          2004,
          2012,
          2008,
          2012,
          2009,
          2007,
          2002,
          2013,
          2000,
          2008,
          2010,
          2009,
          2010,
          2012,
          2004,
          2007,
          2012,
          2009,
          2004,
          2015,
          2009,
          2009,
          2002,
          2005,
          2004,
          2013,
          2007,
          2012,
          2004,
          2005,
          2007,
          2008,
          2000,
          2007,
          2007,
          2011,
          2004,
          2011,
          2003,
          2010,
          2008,
          2005,
          2007,
          2009,
          2012,
          2008,
          2011,
          2011,
          2011,
          2002,
          2001,
          2006,
          2010,
          2007,
          2005,
          2002,
          2001,
          2007,
          2008,
          2012,
          2007,
          2012,
          2000,
          2000,
          2004,
          2005,
          1999,
          2007,
          2007,
          2009,
          2004,
          2013,
          2009,
          2010,
          2005,
          2010,
          2005,
          2003,
          2004,
          2012,
          2008,
          1999,
          2009,
          2004,
          2013,
          2009,
          2009,
          2013,
          2002,
          2007,
          2006,
          2006,
          2008,
          2009,
          2010,
          2003,
          2013,
          2001,
          2012,
          2013,
          2012,
          2000,
          2009,
          2012,
          2015,
          2015,
          2009,
          2007,
          2003,
          2007,
          2009,
          2011,
          2009,
          2014,
          2008,
          2009,
          2006,
          2010,
          2010,
          2011,
          2013,
          2008,
          2007,
          2007,
          2008,
          2006,
          2002,
          2011,
          2011,
          2013,
          2008,
          2009,
          2008,
          2005,
          2005,
          1999,
          2012,
          2011,
          2006,
          2002,
          2007,
          2001,
          2005,
          2002,
          2002,
          2004,
          2009,
          2005,
          2008,
          2004,
          1998,
          2008,
          2006,
          2014,
          2009,
          2004,
          2011,
          2004,
          2004,
          2009,
          2011,
          2011,
          2010,
          2009,
          2008,
          2013,
          2000,
          2016,
          2006,
          2015,
          2006,
          2009,
          2011,
          2010,
          2008,
          2012,
          2012,
          2004,
          2001,
          2014,
          2004,
          2005,
          2010,
          2001,
          2006,
          2008,
          2005,
          2007,
          2009,
          2009,
          2001,
          2007,
          2009,
          2006,
          2009,
          2014,
          2011,
          2012,
          2005,
          2013,
          2007,
          2009,
          2011,
          2002,
          2011,
          2008,
          2013,
          2013,
          2007,
          2003,
          2009,
          2014,
          2010,
          2007,
          2007,
          2004,
          2008,
          2009,
          2012,
          2011,
          2001,
          2012,
          2011,
          2010,
          2006,
          2004,
          2016,
          2004,
          2014,
          2015,
          2012,
          2001,
          2002,
          2007,
          2005,
          2005,
          2010,
          2013,
          2007,
          2010,
          2002,
          2009,
          2006,
          2007,
          2014,
          2014,
          2001,
          2005,
          2009,
          2009,
          2014,
          2007,
          2002,
          2015,
          2011,
          2003,
          2010,
          2009,
          2010,
          2010,
          2011,
          2002,
          2002,
          2007,
          2012,
          2007,
          2003,
          2007,
          2000,
          2007,
          2002,
          2003,
          2002,
          2004,
          2007,
          2008,
          2008,
          2016,
          2007,
          2008,
          2005,
          2012,
          2007,
          2007,
          2003,
          2005,
          2007,
          2014,
          2001,
          2009,
          2003,
          2011,
          2001,
          2005,
          2008,
          2016,
          2011,
          2001,
          2000,
          2004,
          2005,
          2000,
          2008,
          2002,
          2011,
          2011,
          2004,
          2010,
          2007,
          2009,
          2005,
          2005,
          2010,
          2006,
          2004,
          2003,
          2014,
          2013,
          2008,
          2002,
          2010,
          2003,
          2011,
          2011,
          2004,
          2004,
          2009,
          2007,
          2003,
          2007,
          2008,
          2004,
          2010,
          2003,
          2014,
          2005,
          2007,
          1998,
          2008,
          2005,
          2004,
          2002,
          2014,
          2007,
          2012,
          2003,
          2011,
          2007,
          2008,
          2014,
          2002,
          2005,
          2014,
          2008,
          2013,
          2006,
          2007,
          2010,
          2010,
          2007,
          2004,
          2007,
          2009,
          2006,
          2006,
          2015,
          2007,
          2007,
          2003,
          2001,
          2002,
          2006,
          2010,
          2009,
          2008,
          2004,
          2012,
          2010,
          2013,
          2003,
          2013,
          2007,
          2012,
          2008,
          2002,
          2004,
          2010,
          2010,
          2013,
          2005,
          2015,
          2008,
          2014,
          2008,
          2005,
          2003,
          2005,
          2008,
          2004,
          2002,
          2008,
          2012,
          2008,
          2003,
          2007,
          2011,
          2003,
          2005,
          2005,
          2009,
          2008,
          2016,
          2014,
          2004,
          2013,
          2008,
          2004,
          2004,
          2014,
          2003,
          2009,
          2004,
          2014,
          2007,
          2004,
          2003,
          2005,
          2011,
          2013,
          2002,
          2006,
          2010,
          2007,
          2009,
          2016,
          2014,
          2010,
          2012,
          2012,
          2015,
          2004,
          2008,
          2005,
          2006,
          2010,
          2011,
          2001,
          2007,
          2002,
          2009,
          2014,
          2005,
          2008,
          2010,
          2007,
          2009,
          2013,
          2011,
          2002,
          2007,
          2007,
          2001,
          2012,
          2008,
          2006,
          2009,
          2000,
          2013,
          2000,
          2015,
          2006,
          2009,
          2012,
          2007,
          2005,
          2002,
          2006,
          2003,
          2007,
          2004,
          2011,
          2011,
          2007,
          2003,
          2004,
          2009,
          2004,
          2010,
          2004,
          2016,
          2010,
          2011,
          2010,
          2011,
          2008,
          2009,
          2010,
          2014,
          2008,
          2002,
          2006,
          2009,
          2011,
          2012,
          2008,
          2014,
          2009,
          2002,
          2011,
          2007,
          2009,
          2004,
          2003,
          2010,
          2013,
          2005,
          2009,
          2014,
          2008,
          2009,
          2010,
          2009,
          2005,
          2011,
          2005,
          2004,
          2001,
          2009,
          2003,
          2010,
          2003,
          2005,
          2001,
          2013,
          2003,
          2011,
          2005,
          2013,
          2014,
          2007,
          2013,
          2013,
          2009,
          2009,
          2010,
          2001,
          2006,
          2001,
          2010,
          2007,
          2007,
          2009,
          2008,
          2014,
          2016,
          2013,
          2014,
          2011,
          2007,
          2004,
          2008,
          2009,
          2002,
          2008,
          2010,
          2012,
          2002,
          2004,
          2002,
          2015,
          2011,
          2003,
          2010,
          2010,
          2007,
          2004,
          2004,
          2014,
          2003,
          2008,
          2009,
          2008,
          2010,
          2003,
          2011,
          2007,
          2012,
          2005,
          2008,
          2008,
          2010,
          2004,
          2010,
          2008,
          2011,
          2012,
          2013,
          2003,
          2009,
          2009,
          2011,
          2013,
          2006,
          2011,
          2007,
          2000,
          2000,
          2005,
          2013,
          2002,
          2009,
          2013,
          2012,
          2000,
          2002,
          2006,
          2005,
          1999,
          2008,
          2007,
          2011,
          2005,
          2002,
          2005,
          2005,
          2013,
          2007,
          2004,
          2012,
          2011,
          2009,
          2005,
          2016,
          2009,
          2008,
          2004,
          2009,
          2010,
          2001,
          2005,
          2014,
          2006,
          2002,
          2013,
          2011,
          2003,
          2012,
          2007,
          2011,
          2009,
          2015,
          2011,
          2002,
          2004,
          2008,
          2003,
          2007,
          2012,
          2009,
          2009,
          2000,
          2003,
          2007,
          2014,
          2006,
          2003,
          2001,
          2008,
          2004,
          2003,
          2007,
          2001,
          2011,
          2008,
          2004,
          2009,
          2005,
          2009,
          2001,
          2005,
          2008,
          2003,
          2007,
          2003,
          2006,
          2005,
          2007,
          2003,
          2002,
          2009,
          2002,
          2003,
          2005,
          2010,
          2012,
          2016,
          2005,
          2007,
          2001,
          2011,
          2008,
          2001,
          2006,
          1998,
          2010,
          2007,
          2011,
          2008,
          2001,
          2005,
          2010,
          2002,
          2015,
          2001,
          2001,
          2011,
          2002,
          2002,
          2015,
          2007,
          2011,
          2014,
          2011,
          2004,
          2007,
          2010,
          2003,
          2009,
          2002,
          2005,
          2003,
          2004,
          2008,
          2008,
          2013,
          2008,
          2012,
          2004,
          2013,
          2013,
          2009,
          2007,
          2003,
          2005,
          2003,
          2012,
          2007,
          2010,
          2006,
          2012,
          2010,
          2007,
          2010,
          2009,
          2010,
          2005,
          2007,
          2014,
          2001,
          2004,
          2003,
          2011,
          2009,
          2011,
          2006,
          2001,
          2013,
          2003,
          2003,
          2010,
          2007,
          2005,
          2010,
          2008,
          2001,
          2005,
          2015,
          2010,
          2010,
          2006,
          2003,
          2004,
          2000,
          2010,
          2004,
          2013,
          2003,
          2004,
          2007,
          2014,
          2014,
          2016,
          2005,
          2005,
          2005,
          2004,
          2002,
          2005,
          2006,
          2008,
          2004,
          2015,
          2010,
          2009,
          2001,
          2007,
          2008,
          2009,
          2002,
          2011,
          2005,
          2005,
          2006,
          2011,
          2003,
          2005,
          1999,
          2011,
          2007,
          2009,
          2006,
          2006,
          2010,
          2007,
          2001,
          2009,
          2001,
          2002,
          2008,
          2007,
          2005,
          2011,
          2002,
          2008,
          2006,
          2015,
          2008,
          2015,
          2010,
          2014,
          2006,
          2003,
          2007,
          2005,
          2006,
          2005,
          2015,
          2005,
          2008,
          2002,
          2008,
          2006,
          2008,
          2004,
          2009,
          2001,
          2002,
          2010,
          2008,
          2012,
          2001,
          2008,
          2002,
          2007,
          2003,
          2000,
          2013,
          2011,
          2006,
          2009,
          2013,
          2010,
          2010,
          2007,
          2003,
          2008,
          2014,
          2009,
          2002,
          2009,
          2006,
          2009,
          2004,
          2006,
          2009,
          2009,
          2013,
          2007,
          2004,
          2004,
          2004,
          2005,
          2012,
          2009,
          2006,
          2003,
          2008,
          2008,
          2006,
          2003,
          2007,
          2006,
          2001,
          2006,
          2008,
          2008,
          2002,
          2007,
          2011,
          2007,
          2007,
          2012,
          2010,
          2012,
          2011,
          2002,
          2001,
          2008,
          2004,
          1997,
          2012,
          2007,
          2006,
          2004,
          2004,
          2007,
          2004,
          2003,
          2005,
          2001,
          2007,
          2005,
          2002,
          2011,
          2006,
          2004,
          2011,
          2009,
          2008,
          2011,
          2006,
          2012,
          2006,
          2011,
          2005,
          2005,
          2013,
          2002,
          2007,
          2004,
          2007,
          2003,
          2016,
          2005,
          2011,
          2006,
          2011,
          2009,
          2006,
          2014,
          2010,
          2011,
          2001,
          2008,
          2003,
          2008,
          2005,
          2008,
          2011,
          2015,
          2008,
          2007,
          2004,
          2008,
          2004,
          2009,
          2015,
          2008,
          2007,
          2011,
          2008,
          2006,
          2016,
          2014,
          2003,
          2007,
          2012,
          2009,
          2013,
          2000,
          2015,
          2001,
          2005,
          2011,
          2006,
          2002,
          2006,
          2007,
          2000,
          2002,
          2007,
          2012,
          2007,
          2015,
          2010,
          2012,
          2008,
          2001,
          2014,
          2008,
          2008,
          2012,
          2000,
          2006,
          2008,
          2002,
          2009,
          2009,
          2007,
          2005,
          2008,
          2008,
          2012,
          2006,
          2006,
          2007,
          2007,
          2009,
          2008,
          2010,
          2003,
          2009,
          2006,
          2009,
          2005,
          2009,
          2011,
          2014,
          2007,
          2005,
          2004,
          2005,
          2004,
          2007,
          2012,
          2002,
          2015,
          2010,
          2011,
          2014,
          2008,
          2002,
          2007,
          2010,
          2005,
          2002,
          2007,
          2001,
          2005,
          2005,
          2011,
          2006,
          2005,
          2008,
          2002,
          2010,
          2003,
          2012,
          2009,
          2000,
          2005,
          2002,
          2007,
          2009,
          2003,
          2006,
          2007,
          2006,
          2013,
          2003,
          2014,
          2012,
          2002,
          2006,
          2007,
          2006,
          2008,
          2005,
          2004,
          2007,
          2003,
          2009,
          2008,
          2008,
          2011,
          2007,
          2007,
          2011,
          2001,
          2006,
          2007,
          2007,
          2004,
          2009,
          2005,
          2004,
          2011,
          2004,
          2009,
          2010,
          2016,
          2002,
          2011,
          2014,
          2013,
          2014,
          2004,
          2008,
          2011,
          2010,
          2007,
          2011,
          2006,
          2005,
          2004,
          2002,
          2004,
          2015,
          2011,
          2005,
          2012,
          2014,
          2007,
          2003,
          2008,
          2002,
          2005,
          2005,
          2007,
          2006,
          2008,
          2005,
          2009,
          2009,
          2012,
          2010,
          2004,
          2003,
          2013,
          2012,
          2008,
          2009,
          2009,
          2002,
          2007,
          2002,
          2009,
          2005,
          2007,
          2007,
          2011,
          2010,
          2002,
          2008,
          2002,
          2004,
          2007,
          2003,
          2012,
          2009,
          2004,
          2001,
          2011,
          2015,
          2005,
          2009,
          2003,
          2003,
          2014,
          2010,
          2001,
          2013,
          2014,
          2014,
          2012,
          2010,
          2000,
          2004,
          2003,
          2013,
          2009,
          2003,
          2004,
          2003,
          2010,
          2013,
          2012,
          2001,
          2006,
          2005,
          2012,
          2006,
          2010,
          2015,
          2013,
          2002,
          2008,
          2006,
          2005,
          2008,
          2006,
          2002,
          2007,
          2014,
          2007,
          2010,
          2001,
          2006,
          2006,
          2005,
          2003,
          2003,
          2003,
          2005,
          1997,
          2003,
          2001,
          2013,
          2012,
          2010,
          2004,
          2003,
          2002,
          2014,
          2004,
          2009,
          2009,
          2004,
          2002,
          2007,
          2004,
          2005,
          2008,
          2004,
          2004,
          2008,
          2010,
          2014,
          2005,
          2007,
          2013,
          2001,
          2002,
          2005,
          2009,
          2006,
          2012,
          2007,
          2016,
          2008,
          2010,
          2010,
          2007,
          2000,
          2006,
          2007,
          2013,
          2004,
          2015,
          2003,
          2013,
          2003,
          2005,
          2007,
          2016,
          2005,
          2007,
          2016,
          2007,
          2010,
          2006,
          2013,
          2015,
          2010,
          2007,
          2009,
          2014,
          2016,
          2010,
          2014,
          2007,
          2012,
          2007,
          2002,
          2007,
          2011,
          2001,
          2002,
          2007,
          2014,
          2005,
          2001,
          2011,
          2010,
          2010,
          2012,
          2006,
          2000,
          2005,
          2011,
          2010,
          2011,
          2002,
          2009,
          2001,
          2008,
          2010,
          2003,
          2009,
          2007,
          2010,
          2009,
          2015,
          2013,
          2002,
          2005,
          2003,
          2007,
          2008,
          2016,
          2005,
          2013,
          2012,
          2001,
          2008,
          2004,
          2013,
          2005,
          2012,
          2011,
          2006,
          2007,
          2005,
          2012,
          2006,
          2004,
          2005,
          2010,
          2001,
          2008,
          2009,
          2003,
          2009,
          2007,
          2004,
          2007,
          2006,
          2005,
          2004,
          2007,
          2009,
          2007,
          2005,
          2007,
          2012,
          2010,
          2009,
          2011,
          2012,
          2010,
          2010,
          2002,
          2012,
          2010,
          2016,
          2010,
          2011,
          2004,
          2012,
          2010,
          2003,
          2011,
          2004,
          2009,
          2016,
          2013,
          2013,
          2010,
          2009,
          2000,
          2002,
          2010,
          2008,
          2003,
          2012,
          2006,
          2005,
          2006,
          2005,
          2002,
          2005,
          2014,
          2007,
          2011,
          2013,
          2010,
          2008,
          2011,
          2003,
          2011,
          2007,
          2003,
          2013,
          2004,
          2007,
          2006,
          2011,
          2001,
          2008,
          2002,
          2007,
          2008,
          2002,
          2008,
          2015,
          2005,
          2007,
          2005,
          2004,
          2016,
          2003,
          2012,
          2006,
          2003,
          2016,
          2002,
          2008,
          2008,
          2011,
          2010,
          2002,
          2007,
          2009,
          2010,
          2003,
          2009,
          2007,
          2008,
          2009,
          2009,
          2005,
          2004,
          2005,
          2011,
          2013,
          2014,
          2004,
          2012,
          2013,
          2006,
          2007,
          2008,
          2005,
          2006,
          2006,
          2012,
          2002,
          2010,
          2006,
          2002,
          2009,
          2007,
          2007,
          2010,
          2009,
          2005,
          2013,
          2007,
          2011,
          2004,
          2010,
          2016,
          2014,
          2009,
          2002,
          2006,
          2016,
          2007,
          2006,
          2007,
          2011,
          2016,
          2005,
          2006,
          2009,
          2009,
          2007,
          2007,
          2009,
          2006,
          2008,
          2009,
          2008,
          2012,
          2006,
          2007,
          2006,
          2007,
          2009,
          2004,
          2011,
          2008,
          2006,
          2001,
          2014,
          2008,
          2009,
          2010,
          2016,
          2009,
          2010,
          2003,
          2005,
          2005,
          2009,
          2009,
          2001,
          2005,
          2015,
          2002,
          2001,
          2009,
          2005,
          2009,
          2008,
          2001,
          2004,
          2006,
          2015,
          2003,
          2004,
          2010,
          2007,
          2014,
          2003,
          2016,
          2008,
          2002,
          2001,
          2012,
          2001,
          2013,
          2012,
          2005,
          2013,
          2014,
          2006,
          2013,
          2008,
          2009,
          2003,
          2007,
          2010,
          2009,
          2009,
          2001,
          2003,
          2000,
          2016,
          2012,
          2016,
          2003,
          2009,
          2013,
          2013,
          2015,
          2003,
          2006,
          2010,
          2013,
          2009,
          2002,
          2007,
          2005,
          2008,
          2016,
          2002,
          2016,
          2014,
          2004,
          2003,
          2003,
          2007,
          2000,
          2008,
          1999,
          2006,
          2006,
          2007,
          2005,
          2016,
          2011,
          2007,
          2006,
          2013,
          2011,
          1999,
          1999,
          2011,
          2011,
          2009,
          2012,
          2002,
          2003,
          2009,
          2004,
          2007,
          2009,
          2004,
          2010,
          2001,
          2010,
          2013,
          2006,
          2005,
          2004,
          2014,
          2005,
          2008,
          2008,
          2006,
          2007,
          2004,
          2006,
          2011,
          2006,
          2011,
          2005,
          2003,
          2005,
          2009,
          2010,
          2007,
          2008,
          2008,
          2001,
          2005,
          2007,
          2007,
          2006,
          2008,
          2016,
          2003,
          2016,
          2007,
          2009,
          2006,
          2011,
          2006,
          2004,
          2003,
          2005,
          2003,
          2006,
          2001,
          2003,
          2011,
          2004,
          2008,
          2009,
          2012,
          2007,
          2002,
          2013,
          2002,
          2009,
          2006,
          2009,
          2004,
          2006,
          2003,
          2007,
          2007,
          2010,
          2006,
          2002,
          2007,
          2005,
          2015,
          2003,
          2005,
          2010,
          2011,
          2006,
          2008,
          2003,
          2003,
          2012,
          2005,
          2007,
          2013,
          2009,
          2006,
          2008,
          2012,
          2010,
          2006,
          2008,
          2007,
          2008,
          2011,
          2010,
          2003,
          2009,
          2006,
          2010,
          2015,
          2015,
          2008,
          2011,
          2001,
          2011,
          2005,
          2009,
          2013,
          2012,
          2011,
          2015,
          2007,
          1999,
          2012,
          2007,
          2009,
          2007,
          2009,
          2007,
          2005,
          2005,
          2007,
          2003,
          2011,
          2000,
          2016,
          2014,
          2006,
          2008,
          2000,
          2011,
          2009,
          2003,
          2012,
          2007,
          2004,
          2010,
          2015,
          2002,
          2003,
          2006,
          2008,
          2007,
          2014,
          2012,
          2002,
          2007,
          2003,
          2008,
          2006,
          2005,
          2004,
          2007,
          2000,
          2011,
          2002,
          2009,
          2010,
          2011,
          2009,
          2004,
          2002,
          2007,
          2011,
          2012,
          2009,
          2010,
          2007,
          2003,
          2010,
          2013,
          2009,
          2007,
          2003,
          2002,
          2005,
          2008,
          2010,
          2013,
          2011,
          2005,
          2011,
          2005,
          2013,
          2011,
          2014,
          2010,
          2007,
          2008,
          2009,
          2015,
          2001,
          2005,
          2013,
          2015,
          2010,
          2007,
          2005,
          2007,
          2010,
          2002,
          2008,
          2011,
          2009,
          2005,
          2011,
          2004,
          2002,
          2010,
          2012,
          2002,
          2001,
          2002,
          2010,
          2002,
          2000,
          2014,
          2002,
          2000,
          2007,
          2005,
          2005,
          2003,
          2002,
          2007,
          2003,
          2009,
          2011,
          2013,
          2012,
          2016,
          2002,
          2003,
          2005,
          2005,
          2016,
          2016,
          2006,
          2011,
          2011,
          2009,
          2002,
          2013,
          2003,
          2007,
          2011,
          2000,
          2011,
          2012,
          2000,
          2007,
          2007,
          2003,
          2000,
          2008,
          2007,
          2010,
          2008,
          2004,
          2014,
          2005,
          2006,
          2012,
          2004,
          2003,
          2006,
          2006,
          2016,
          2011,
          2007,
          2003,
          2007,
          2010,
          2012,
          2007,
          2002,
          2009,
          2007,
          2009,
          2010,
          2004,
          2003,
          2010,
          2002,
          2010,
          2009,
          2005,
          2000,
          2006,
          2008,
          2009,
          2012,
          2005,
          2010,
          2005,
          2010,
          2011,
          2009,
          2009,
          2010,
          2008,
          2005,
          2015,
          2016,
          2009,
          2004,
          2009,
          2005,
          2008,
          2003,
          2008,
          2005,
          2007,
          2004,
          2005,
          2005,
          2014,
          2007,
          2007,
          2012,
          2003,
          2012,
          2010,
          2009,
          2008,
          2014,
          2002,
          2007,
          2005,
          2002,
          2011,
          2013,
          2014,
          2003,
          2007,
          2015,
          2010,
          2003,
          2008,
          2004,
          2004,
          2009,
          2004,
          2007,
          2011,
          2003,
          2010,
          2013,
          2001,
          2003,
          2003,
          2005,
          2014,
          2005,
          2001,
          2006,
          2007,
          2002,
          2003,
          2007,
          2003,
          2013,
          2005,
          2006,
          2012,
          2004,
          2009,
          2012,
          2007,
          2009,
          2006,
          2003,
          2007,
          2003,
          2007,
          2007,
          2006,
          2011,
          2011,
          2007,
          2009,
          2007,
          2003,
          2007,
          2006,
          2006,
          2004,
          2009,
          1998,
          2010,
          2006,
          2002,
          2011,
          2010,
          2004,
          2008,
          2001,
          2014,
          2001,
          2002,
          2009,
          2010,
          2007,
          2009,
          2011,
          2001,
          2011,
          2007,
          2009,
          2013,
          2001,
          2014,
          2005,
          2003,
          2006,
          2003,
          2002,
          2009,
          2013,
          2011,
          2009,
          2003,
          2009,
          2004,
          2006,
          2008,
          2001,
          2013,
          2000,
          2011,
          2001,
          2014,
          2008,
          2011,
          2008,
          2004,
          2002,
          2003,
          2010,
          2007,
          2004,
          2007,
          2004,
          2005,
          2012,
          2012,
          2006,
          2004,
          2002,
          2002,
          2004,
          2005,
          2004,
          2015,
          2008,
          2001,
          2014,
          2013,
          2005,
          2011,
          2007,
          2010,
          2007,
          2007,
          2010,
          2005,
          2000,
          2013,
          2011,
          2010,
          2007,
          2003,
          2002,
          2006,
          2014,
          2011,
          2007,
          2003,
          2002,
          2005,
          2010,
          2004,
          2011,
          2006,
          2011,
          2008,
          2005,
          2009,
          2003,
          2002,
          2012,
          2007,
          2007,
          2010,
          2016,
          2001,
          2008,
          2002,
          2010,
          2008,
          2006,
          2009,
          2015,
          2006,
          2008,
          2008,
          2010,
          2004,
          2011,
          2010,
          2013,
          2006,
          2002,
          2011,
          2006,
          2012,
          2009,
          2016,
          2007,
          2002,
          2015,
          2009,
          1999,
          2011,
          2004,
          2002,
          2003,
          2001,
          2008,
          2001,
          2003,
          2009,
          2005,
          2004,
          2012,
          2016,
          2002,
          2013,
          2010,
          2012,
          2013,
          2013,
          2007,
          2006,
          2008,
          2005,
          2005,
          2002,
          2004,
          2003,
          2008,
          2002,
          2001,
          2006,
          2004,
          2004,
          2004,
          2004,
          2001,
          2003,
          2006,
          2005,
          2006,
          2002,
          2007,
          2000,
          2008,
          2008,
          2012,
          2010,
          2003,
          2009,
          2007,
          2007,
          2015,
          2007,
          1996,
          2011,
          2001,
          2006,
          2016,
          2011,
          2004,
          2005,
          2003,
          2007,
          2002,
          2010,
          2005,
          2015,
          2000,
          2003,
          2009,
          2010,
          2007,
          2006,
          2014,
          2013,
          2008,
          2003,
          2005,
          2008,
          2013,
          2003,
          2007,
          2009,
          2006,
          2008,
          2005,
          2008,
          2011,
          2011,
          2008,
          2005,
          1999,
          2006,
          2005,
          2007,
          2008,
          2009,
          2009,
          2009,
          2007,
          2004,
          2009,
          2005,
          2010,
          2012,
          2012,
          2016,
          2015,
          2002,
          2015,
          2013,
          2006,
          2012,
          2015,
          2010,
          2014,
          2007,
          2006,
          2014,
          2013,
          2000,
          2005,
          2015,
          2012,
          2002,
          2003,
          2014,
          2011,
          2005,
          2011,
          2005,
          2002,
          2005,
          2008,
          2011,
          2003,
          2010,
          2009,
          2009,
          2003,
          2005,
          2003,
          2007,
          2009,
          2005,
          2007,
          2001,
          2011,
          2015,
          2001,
          2005,
          2008,
          2005,
          2012,
          2004,
          2006,
          2002,
          2016,
          2009,
          2005,
          2005,
          2007,
          2010,
          2006,
          2011,
          2015,
          2013,
          2007,
          2001,
          2004,
          2008,
          2011,
          2008,
          2016,
          2003,
          2010,
          2007,
          2004,
          2011,
          2007,
          2007,
          2005,
          2009,
          2012,
          2006,
          2013,
          2009,
          2012,
          2016,
          2008,
          2011,
          2013,
          2010,
          2009,
          2010,
          2007,
          2009,
          2009,
          2012,
          2011,
          2009,
          2006,
          2004,
          2010,
          2009,
          2014,
          2003,
          2002,
          2005,
          2008,
          2005,
          2007,
          2002,
          2004,
          2013,
          2012,
          2013,
          2001,
          2002,
          2008,
          2005,
          2002,
          2003,
          2011,
          2003,
          2012,
          2005,
          1998,
          2016,
          2007,
          2008,
          2010,
          2007,
          2007,
          2008,
          2005,
          2007,
          2004,
          2012,
          2009,
          2001,
          2012,
          2011,
          2015,
          2005,
          2003,
          2010,
          2008,
          2003,
          2003,
          2006,
          2006,
          2011,
          1997,
          2007,
          2012,
          2015,
          2003,
          2003,
          2002,
          2005,
          2006,
          2014,
          2005,
          2011,
          2009,
          2012,
          2007,
          2004,
          2008,
          2008,
          2012,
          2011,
          2002,
          2008,
          2003,
          2013,
          2014,
          2002,
          2005,
          2006,
          2004,
          2002,
          2005,
          2010,
          2002,
          2001,
          2012,
          2004,
          2004,
          2014,
          2011,
          2011,
          2015,
          2012,
          2004,
          2008,
          2002,
          2004,
          2006,
          2009,
          2008,
          2011,
          2006,
          2012,
          2006,
          2010,
          2004,
          2007,
          2004,
          2002,
          2015,
          2004,
          2007,
          2011,
          2007,
          2002,
          2007,
          2008,
          2004,
          2004,
          2001,
          2000,
          2009,
          2007,
          2016,
          2011,
          2005,
          2009,
          2008,
          2001,
          2008,
          2009,
          2014,
          2012,
          2006,
          2009,
          2003,
          2014,
          2005,
          2008,
          2003,
          2009,
          2009,
          2014,
          2011,
          2002,
          2011,
          2002,
          2005,
          2006,
          2002,
          2008,
          2006,
          2013,
          2010,
          2010,
          2004,
          2004,
          2005,
          2002,
          2012,
          2006,
          2006,
          2004,
          2002,
          2007,
          2002,
          2015,
          2013,
          2004,
          2002,
          2005,
          2009,
          2004,
          2005,
          2004,
          2005,
          2005,
          2004,
          2009,
          2001,
          2005,
          2009,
          2012,
          2010,
          2007,
          2016,
          2006,
          2000,
          2009,
          2005,
          2013,
          2003,
          2015,
          2002,
          2001,
          2008,
          2003,
          2016,
          2014,
          2011,
          2007,
          2014,
          2009,
          2008,
          2008,
          2003,
          2012,
          2009,
          2008,
          2009,
          2010,
          2005,
          2007,
          2002,
          2004,
          2001,
          2008,
          2007,
          2005,
          2014,
          2002,
          2001,
          2009,
          2002,
          2013,
          2014,
          2011,
          2000,
          2007,
          2005,
          2010,
          2011,
          2000,
          2016,
          2010,
          2007,
          2009,
          2005,
          2013,
          2002,
          2005,
          2002,
          2011,
          2001,
          2015,
          2010,
          2002,
          2011,
          2008,
          2002,
          2010,
          2005,
          2003,
          2002,
          2008,
          2013,
          2004,
          2004,
          2016,
          2014,
          2012,
          2006,
          2005,
          2005,
          2013,
          2003,
          2000,
          2002,
          2006,
          2006,
          2011,
          2006,
          2013,
          2015,
          2002,
          2005,
          2004,
          2006,
          2007,
          2001,
          2013,
          2007,
          2003,
          2003,
          2002,
          2012,
          2011,
          2008,
          2009,
          2005,
          2015,
          2013,
          2010,
          2010,
          2016,
          2007,
          2016,
          2004,
          2010,
          2009,
          2008,
          2003,
          2007,
          2009,
          2005,
          2006,
          2011,
          2003,
          2013,
          2007,
          2012,
          2009,
          2010,
          2005,
          2010,
          2015,
          2000,
          2005,
          2005,
          2012,
          2008,
          2003,
          2011,
          2001,
          2002,
          2004,
          2012,
          2004,
          2007,
          2009,
          2012,
          2005,
          2008,
          2005,
          2008,
          2004,
          2002,
          2006,
          2011,
          2002,
          2004,
          2007,
          2005,
          2011,
          2009,
          2005,
          2006,
          2010,
          2001,
          2008,
          2003,
          2014,
          2002,
          2011,
          2003,
          2006,
          2006,
          2012,
          2006,
          2007,
          2005,
          2005,
          2001,
          2007,
          2011,
          2007,
          2010,
          2010,
          2011,
          2004,
          2002,
          2008,
          2014,
          2009,
          2010,
          2002,
          2008,
          2016,
          2009,
          2002,
          2006,
          2008,
          2016,
          2003,
          2003,
          2006,
          2005,
          2013,
          2003,
          2010,
          2009,
          2003,
          2009,
          2011,
          2010,
          2010,
          2009,
          2015,
          2001,
          2014,
          2002,
          2011,
          2004,
          2010,
          2012,
          2009,
          2014,
          2004,
          2012,
          2010,
          2011,
          2006,
          2008,
          2010,
          2002,
          2005,
          2010,
          2013,
          2008,
          2005,
          2003,
          2006,
          2002,
          2002,
          2004,
          2009,
          2013,
          2015,
          2013,
          2006,
          2008,
          2004,
          2012,
          2014,
          2005,
          2014,
          2009,
          2008,
          2007,
          2007,
          2013,
          2007,
          2010,
          2008,
          2012,
          2009,
          2003,
          2003,
          2008,
          2002,
          2011,
          2005,
          2006,
          2002,
          2011,
          2010,
          2013,
          2003,
          2014,
          2011,
          2002,
          2010,
          2008,
          2006,
          2007,
          2016,
          2011,
          2010,
          2011,
          2003,
          2013,
          2011,
          2001,
          2004,
          2005,
          2007,
          2009,
          2005,
          2003,
          2003,
          2002,
          2011,
          2003,
          2005,
          2011,
          2014,
          2007,
          2003,
          2008,
          2005,
          2001,
          2001,
          2014,
          2008,
          2010,
          2004,
          2012,
          2012,
          2007,
          2009,
          2002,
          2009,
          2008,
          2015,
          2012,
          2014,
          2010,
          2007,
          2014,
          2008,
          2008,
          2001,
          2011,
          2004,
          2013,
          2004,
          2003,
          2005,
          2004,
          2015,
          2014,
          2009,
          2002,
          2008,
          2005,
          2010,
          2007,
          2012,
          2010,
          2010,
          2007,
          2005,
          2007,
          2013,
          2003,
          2010,
          2009,
          2011,
          2004,
          2002,
          2013,
          2011,
          2001,
          2001,
          2009,
          2015,
          2000,
          2010,
          2003,
          2011,
          2007,
          2007,
          2005,
          2005,
          2005,
          2007,
          2002,
          2005,
          2009,
          2012,
          2008,
          2004,
          2006,
          2007,
          2010,
          2010,
          2003,
          2009,
          2011,
          2007,
          2015,
          2008,
          2010,
          2014,
          2005,
          2005,
          2014,
          2001,
          2006,
          2001,
          2008,
          2011,
          2009,
          2002,
          2009,
          2003,
          2004,
          2011,
          2003,
          2008,
          2005,
          2003,
          2015,
          2007,
          2012,
          2001,
          2008,
          2005,
          2007,
          2001,
          2009,
          2004,
          2006,
          2003,
          2013,
          2003,
          2000,
          2012,
          2011,
          2003,
          2003,
          2008,
          2006,
          2003,
          2011,
          2014,
          2004,
          2011,
          2008,
          2005,
          2007,
          2008,
          2007,
          2010,
          2003,
          2007,
          2013,
          2016,
          2008,
          2008,
          2005,
          2001,
          2008,
          2010,
          2004,
          2009,
          2005,
          2000,
          2004,
          2012,
          2005,
          2015,
          2009,
          2013,
          2003,
          2002,
          2004,
          2002,
          2003,
          2002,
          2007,
          2013,
          1998,
          2010,
          2003,
          2009,
          2000,
          2009,
          2003,
          2002,
          2012,
          2002,
          2007,
          2011,
          2012,
          2002,
          2006,
          2007,
          2015,
          2014,
          2011,
          2006,
          2010,
          2004,
          2011,
          2007,
          2003,
          2004,
          2015,
          2002,
          2015,
          2004,
          2009,
          2002,
          2016,
          2005,
          2004,
          2005,
          2001,
          2011,
          2000,
          2004,
          2003,
          2014,
          2009,
          2002,
          2010,
          2003,
          2016,
          2011,
          2011,
          2006,
          2008,
          2007,
          2011,
          2003,
          2008,
          2010,
          2011,
          2015,
          2012,
          2005,
          2011,
          2008,
          2005,
          2005,
          2008,
          2007,
          2003,
          2014,
          2002,
          2003,
          2011,
          2003,
          2005,
          2007,
          2007,
          2007,
          2007,
          2008,
          2007,
          2012,
          2009,
          2009,
          2006,
          2006,
          2014,
          2010,
          2006,
          2007,
          2005,
          2012,
          2006,
          2013,
          2006,
          2011,
          2006,
          2006,
          2009,
          2016,
          2003,
          2008,
          2011,
          2013,
          2006,
          2006,
          2014,
          2010,
          2004,
          2014,
          2003,
          2005,
          2006,
          2004,
          2007,
          2003,
          2008,
          2008,
          2007,
          2013,
          2007,
          2009,
          2010,
          2010,
          2009,
          2001,
          2011,
          2003,
          2007,
          2010,
          2001,
          2012,
          2005,
          2003,
          2001,
          2004,
          2011,
          2005,
          2014,
          2002,
          2006,
          2003,
          2001,
          2005,
          2009,
          2007,
          2015,
          2012,
          2004,
          2011,
          2013,
          2005,
          2002,
          2005,
          2012,
          2009,
          2007,
          2012,
          2005,
          2011,
          2004,
          2012,
          2004,
          2008,
          2006,
          2009,
          2008,
          2007,
          2013,
          2009,
          2011,
          2000,
          2007,
          2008,
          2005,
          2009,
          2010,
          2007,
          2003,
          2010,
          2003,
          2002,
          2005,
          2005,
          2006,
          2001,
          2004,
          2004,
          2005,
          2005,
          2005,
          2014,
          2001,
          2010,
          2002,
          2007,
          2002,
          2002,
          2010,
          2008,
          2011,
          2004,
          2006,
          2001,
          2006,
          2005,
          2016,
          2007,
          2005,
          2016,
          2016,
          2002,
          2012,
          2004,
          2010,
          2016,
          2005,
          2001,
          2008,
          2003,
          2005,
          2005,
          2007,
          2007,
          2014,
          2005,
          2001,
          2000,
          2010,
          2004,
          2006,
          2003,
          2016,
          2008,
          2005,
          2011,
          2013,
          2009,
          2003,
          2011,
          2004,
          2012,
          2001,
          2012,
          2013,
          2011,
          2002,
          2003,
          2004,
          2016,
          2007,
          2012,
          2002,
          2004,
          2003,
          2007,
          2005,
          2007,
          2011,
          2005,
          2010,
          2012,
          2007,
          2001,
          2003,
          2015,
          2005,
          2007,
          2009,
          2001,
          2007,
          2012,
          2011,
          2006,
          2008,
          2004,
          2014,
          2015,
          2004,
          2011,
          2007,
          2004,
          2009,
          2009,
          2001,
          2004,
          2003,
          2005,
          2002,
          2007,
          2013,
          2004,
          2001,
          2001,
          2008,
          2006,
          2009,
          2005,
          2002,
          2006,
          2002,
          2001,
          2011,
          2016,
          2006,
          2007,
          2002,
          2007,
          2011,
          2003,
          2007,
          2016,
          2014,
          2000,
          2012,
          2002,
          2009,
          2004,
          2015,
          2008,
          2004,
          2006,
          2007,
          2015,
          2010,
          2004,
          2002,
          2008,
          2003,
          2002,
          2006,
          2002,
          2006,
          2009,
          2016,
          2016,
          2004,
          2010,
          2011,
          2005,
          2002,
          2007,
          2016,
          2014,
          2003,
          2007,
          2009,
          2015,
          2012,
          2006,
          2012,
          1996,
          2007,
          2016,
          2007,
          2002,
          2010,
          2015,
          2002,
          2015,
          2010,
          2004,
          2009,
          2010,
          2004,
          2006,
          2003,
          2001,
          2008,
          2011,
          2003,
          2014,
          2002,
          2001,
          2009,
          2005,
          2011,
          2008,
          2016,
          2006,
          2009,
          2002,
          2003,
          2002,
          2006,
          2011,
          2012,
          2003,
          2001,
          2004,
          2006,
          2004,
          2002,
          2009,
          2002,
          2008,
          2011,
          2005,
          2005,
          2005,
          2010,
          2007,
          2009,
          2016,
          2008,
          2009,
          2001,
          2004,
          2005,
          2002,
          2006,
          2002,
          2000,
          2007,
          2009,
          2004,
          2011,
          2012,
          2006,
          2008,
          2002,
          2002,
          2002,
          2008,
          2015,
          2004,
          2014,
          2008,
          2006,
          2016,
          2004,
          2007,
          2009,
          2013,
          2005,
          2007,
          2003,
          2008,
          2015,
          2005,
          2005,
          2000,
          2011,
          2005,
          2006,
          2002,
          2010,
          2012,
          2007,
          2006,
          2005,
          2003,
          2002,
          2006,
          2003,
          2005,
          2003,
          2015,
          2008,
          2003,
          2014,
          2011,
          2007,
          2006,
          2012,
          2002,
          2003,
          2011,
          2007,
          2004,
          2014,
          2011,
          2014,
          2008,
          2004,
          2006,
          2009,
          2003,
          2006,
          2010,
          2000,
          2012,
          2011,
          2002,
          2003,
          2008,
          2006,
          2001,
          2008,
          2014,
          2005,
          2001,
          2005,
          2012,
          2007,
          2002,
          2006,
          2002,
          2007,
          2009,
          2007,
          2007,
          2005,
          2003,
          2006,
          2002,
          2004,
          2008,
          2003,
          2015,
          2009,
          2010,
          2012,
          2012,
          2004,
          2007,
          2016,
          2006,
          2003,
          2010,
          2012,
          2007,
          1998,
          2002,
          2009,
          2001,
          2008,
          2002,
          2007,
          2007,
          2013,
          2007,
          2008,
          2005,
          2004,
          2006,
          1998,
          2009,
          2007,
          2008,
          2005,
          2003,
          2003,
          2011,
          2011,
          2010,
          2002,
          2011,
          2004,
          2011,
          2010,
          2006,
          2013,
          2015,
          2010,
          2005,
          2015,
          2009,
          2011,
          2009,
          2008,
          2001,
          2011,
          2005,
          2004,
          2010,
          2001,
          2007,
          2016,
          2011,
          2016,
          2003,
          2016,
          2007,
          2016,
          2007,
          2008,
          2009,
          2007,
          2007,
          2007,
          2006,
          2010,
          2001,
          2015,
          2003,
          2015,
          2009,
          2009,
          2008,
          2010,
          2006,
          2003,
          2003,
          2002,
          2005,
          2002,
          2005,
          2008,
          2010,
          2006,
          2012,
          2011,
          2008,
          2013,
          2006,
          2009,
          2011,
          2007,
          2015,
          2005,
          2013,
          2005,
          2002,
          2007,
          2003,
          2004,
          2013,
          2003,
          2008,
          2014,
          2012,
          2008,
          2016,
          2013,
          2010,
          2002,
          2002,
          2002,
          2006,
          2005,
          2011,
          2011,
          2003,
          2001,
          2014,
          2009,
          2004,
          2004,
          2003,
          2006,
          2008,
          2010,
          2015,
          2007,
          2010,
          2002,
          2016,
          2009,
          2014,
          2007,
          2005,
          2006,
          2007,
          2007,
          2008,
          2008,
          2007,
          2010,
          2004,
          2003,
          2003,
          2014,
          2007,
          2005,
          2000,
          2005,
          2003,
          2004,
          2013,
          2002,
          2010,
          2008,
          2003,
          2009,
          2005,
          2009,
          2005,
          2008,
          2002,
          2002,
          2002,
          2002,
          1999,
          2002,
          2009,
          2007,
          2002,
          2007,
          2010,
          2005,
          2010,
          2004,
          2008,
          2002,
          2002,
          2006,
          2011,
          2011,
          2008,
          2005,
          2011,
          2016,
          2009,
          2007,
          2001,
          2012,
          2005,
          2003,
          2010,
          2002,
          2010,
          2004,
          2005,
          2009,
          2011,
          2007,
          2003,
          2006,
          2008,
          2003,
          2006,
          2003,
          2015,
          2011,
          2002,
          2014,
          2004,
          2009,
          2009,
          2009,
          2003,
          2011,
          2009,
          2006,
          2008,
          2011,
          2005,
          2016,
          2005,
          2005,
          2003,
          2005,
          2004,
          2011,
          2008,
          2004,
          2002,
          2005,
          2006,
          2016,
          2008,
          2015,
          2011,
          2009,
          2012,
          2015,
          2010,
          2005,
          2005,
          2015,
          2011,
          2005,
          2014,
          2009,
          2009,
          2010,
          2009,
          2015,
          2005,
          2013,
          2006,
          2002,
          2014,
          2009,
          2003,
          2001,
          2004,
          2010,
          2007,
          1999,
          2014,
          2012,
          2011,
          2010,
          2005,
          2014,
          2008,
          2003,
          2006,
          2010,
          2013,
          2007,
          2002,
          2005,
          2011,
          2003,
          2009,
          2006,
          2003,
          2003,
          2005,
          2004,
          2014,
          2006,
          2005,
          2005,
          2015,
          2011,
          2008,
          2005,
          2008,
          2013,
          2003,
          2005,
          2001,
          2009,
          2005,
          2002,
          2003,
          2003,
          2007,
          2009,
          2002,
          2008,
          2004,
          2012,
          2008,
          2003,
          2008,
          2005,
          2004,
          2004,
          2015,
          2012,
          2009,
          2004,
          2005,
          2016,
          2004,
          2008,
          2009,
          2003,
          2002,
          2006,
          2002,
          2003,
          2007,
          2006,
          2002,
          2013,
          2006,
          2005,
          2005,
          2013,
          2009,
          2009,
          2008,
          2002,
          2007,
          2013,
          2001,
          2008,
          2004,
          2007,
          2015,
          2002,
          2008,
          2010,
          2006,
          2005,
          2015,
          2004,
          2004,
          2007,
          2010,
          2003,
          2006,
          2008,
          2011,
          2009,
          2006,
          2004,
          2001,
          2009,
          2005,
          2002,
          2005,
          2011,
          2005,
          2006,
          2008,
          2011,
          2005,
          2007,
          2001,
          2013,
          2004,
          2004,
          2015,
          2016,
          2009,
          2015,
          2014,
          2012,
          2007,
          2012,
          2011,
          2011,
          2014,
          2009,
          2009,
          2007,
          2006,
          2010,
          2004,
          2009,
          2015,
          2014,
          2003,
          2007,
          2006,
          2006,
          2015,
          2002,
          2006,
          2011,
          2008,
          2006,
          2006,
          2009,
          2016,
          2002,
          2006,
          2016,
          2011,
          2005,
          2000,
          2006,
          2011,
          2011,
          2005,
          2007,
          2012,
          2004,
          2014,
          2009,
          2003,
          2011,
          2008,
          2011,
          2007,
          2009,
          2001,
          2002,
          2005,
          2009,
          1999,
          2008,
          2004,
          2002,
          2004,
          2007,
          2004,
          2007,
          2009,
          2010,
          2005,
          2007,
          2004,
          2016,
          2003,
          2004,
          2008,
          2005,
          2006,
          2004,
          2007,
          2007,
          2003,
          2007,
          2003,
          2015,
          2016,
          2003,
          2011,
          2005,
          2007,
          2005,
          2001,
          2005,
          2008,
          2005,
          2009,
          2007,
          2000,
          2002,
          2002,
          2011,
          2008,
          2001,
          2006,
          2014,
          2011,
          2014,
          2014,
          2003,
          2009,
          2011,
          2009,
          2011,
          2006,
          2008,
          2011,
          2003,
          2010,
          2010,
          2005,
          2008,
          2005,
          2015,
          2008,
          2010,
          2016,
          2010,
          2009,
          2006,
          2011,
          2008,
          2002,
          2007,
          2015,
          2003,
          2001,
          2009,
          2007,
          2008,
          2002,
          2004,
          2005,
          2011,
          2004,
          2011,
          2002,
          2008,
          2001,
          2006,
          2015,
          2014,
          2003,
          2005,
          2006,
          2008,
          2010,
          2016,
          2005,
          2006,
          2005,
          2006,
          2014,
          2008,
          2004,
          2005,
          2009,
          2002,
          2009,
          2000,
          2007,
          2011,
          2008,
          2004,
          2010,
          2006,
          2005,
          2003,
          2011,
          2011,
          2015,
          2003,
          2010,
          2001,
          2009,
          2007,
          2013,
          2014,
          2008,
          2005,
          2002,
          2004,
          2011,
          2006,
          2009,
          2001,
          2007,
          2000,
          2008,
          2004,
          2011,
          2007,
          2008,
          2012,
          2006,
          2016,
          2003,
          2008,
          2005,
          2011,
          2011,
          2003,
          2002,
          2006,
          2009,
          2014,
          2007,
          2000,
          2003,
          2005,
          2008,
          2003,
          2010,
          2003,
          2006,
          2005,
          2004,
          2003,
          2014,
          2005,
          2004,
          2006,
          2006,
          2015,
          2006,
          2008,
          2015,
          2000,
          2013,
          2007,
          2005,
          2012,
          2016,
          2008,
          2009,
          2002,
          2004,
          2009,
          2016,
          2011,
          2005,
          2006,
          2005,
          2004,
          2014,
          2014,
          2009,
          2007,
          2004,
          2005,
          2002,
          2016,
          2014,
          2011,
          2006,
          2004,
          2002,
          2011,
          2003,
          2002,
          2008,
          2012,
          2009,
          2013,
          2003,
          2001,
          2003,
          2008,
          2013,
          2009,
          2004,
          2007,
          2008,
          2003,
          2003,
          2005,
          2011,
          1999,
          2002,
          2006,
          2011,
          2001,
          2003,
          2009,
          2013,
          2003,
          2007,
          2011,
          2006,
          2006,
          2003,
          2012,
          2006,
          2014,
          2016,
          2015,
          2002,
          2008,
          2002,
          2006,
          2008,
          2008,
          2009,
          2013,
          2016,
          2007,
          2006,
          2006,
          2000,
          2003,
          2016,
          2006,
          2006,
          2008,
          2005,
          2007,
          2002,
          2004,
          2003,
          2015,
          2002,
          2009,
          2005,
          2008,
          2003,
          2003,
          2008,
          2016,
          2014,
          2008,
          2007,
          2005,
          2011,
          2009,
          2004,
          2000,
          2007,
          2008,
          2012,
          2016,
          2004,
          2004,
          2003,
          2002,
          2008,
          2006,
          2012,
          2002,
          2007,
          2002,
          2011,
          2004,
          2015,
          2005,
          2008,
          2008,
          2014,
          2002,
          2008,
          2003,
          2008,
          2003,
          2006,
          2002,
          2010,
          2004,
          2003,
          2005,
          2010,
          2014,
          2009,
          2005,
          2009,
          2012,
          2007,
          2009,
          2015,
          2002,
          2005,
          2005,
          2003,
          2004,
          2004,
          2008,
          2002,
          2004,
          2009,
          2002,
          2010,
          2009,
          2015,
          2007,
          2009,
          2006,
          2007,
          2008,
          2016,
          2005,
          2005,
          2006,
          2002,
          2004,
          2005,
          2009,
          2009,
          2002,
          2007,
          2007,
          2007,
          2002,
          2007,
          2007,
          2005,
          2015,
          2008,
          2008,
          2014,
          2005,
          2003,
          2004,
          2011,
          1998,
          2009,
          2014,
          2008,
          2003,
          2007,
          2009,
          2004,
          2003,
          2007,
          2008,
          2006,
          2003,
          2004,
          2005,
          2006,
          2007,
          2004,
          2014,
          2013,
          2014,
          2008,
          1997,
          2014,
          2004,
          2005,
          2009,
          2008,
          2013,
          2006,
          2000,
          2005,
          2005,
          2004,
          2004,
          2006,
          2005,
          2001,
          2007,
          2012,
          2002,
          2006,
          2006,
          2016,
          2007,
          2002,
          2003,
          1999,
          2004,
          2003,
          2007,
          2013,
          2015,
          2012,
          2011,
          2016,
          2007,
          2007,
          2004,
          2002,
          2006,
          2003,
          2006,
          2002,
          2003,
          2002,
          2004,
          2006,
          2011,
          2003,
          2014,
          2003,
          2009,
          2006,
          2005,
          2007,
          2004,
          2014,
          2003,
          2010,
          2013,
          2011,
          2007,
          2009,
          2004,
          2008,
          2005,
          2011,
          2004,
          2006,
          2014,
          2008,
          2003,
          2015,
          2012,
          2014,
          2008,
          2004,
          2005,
          2004,
          2001,
          2005,
          2007,
          2009,
          2005,
          2003,
          2013,
          2013,
          2006,
          2014,
          2002,
          2014,
          2002,
          2008,
          2003,
          2015,
          2010,
          2006,
          2006,
          2012,
          2004,
          2004,
          2001,
          2008,
          2011,
          2007,
          2002,
          2016,
          2004,
          2004,
          2005,
          2005,
          2016,
          2008,
          2007,
          2016,
          2016,
          2014,
          2016,
          2006,
          2002,
          2001,
          2011,
          2007,
          2007,
          2012,
          2015,
          2011,
          2012,
          2005,
          2008,
          2014,
          2013,
          2001,
          2014,
          2015,
          2008,
          2008,
          2003,
          2015,
          2005,
          2016,
          2007,
          2005,
          2010,
          2011,
          2007,
          2003,
          2008,
          2007,
          2002,
          2004,
          2007,
          2005,
          2009,
          2005,
          2016,
          2011,
          2003,
          2007,
          2007,
          2009,
          2010,
          2006,
          2004,
          2002,
          2007,
          2015,
          2006,
          2003,
          2002,
          2003,
          2005,
          2014,
          2003,
          2005,
          2001,
          2008,
          2008,
          2014,
          2005,
          2008,
          2004,
          2006,
          2008,
          2007,
          2004,
          2015,
          2012,
          2009,
          2006,
          2015,
          2004,
          2009,
          2002,
          2006,
          2006,
          2010,
          2003,
          2004,
          2012,
          2008,
          2007,
          2016,
          2001,
          2015,
          2006,
          2007,
          2005,
          2006,
          2008,
          2007,
          2005,
          2004,
          2014,
          2015,
          2003,
          2002,
          2005,
          2006,
          2011,
          2005,
          2005,
          2005,
          2014,
          2012,
          2001,
          2007,
          2006,
          2013,
          2006,
          2013,
          2009,
          2008,
          2004,
          2016,
          2002,
          2009,
          2006,
          2004,
          2007,
          2006,
          2016,
          2007,
          2006,
          2003,
          2005,
          2010,
          2003,
          2002,
          2009,
          2016,
          2003,
          2006,
          2007,
          2002,
          2014,
          2010,
          2005,
          2012,
          2014,
          2001,
          2008,
          2002,
          2004,
          2011,
          2003,
          2011,
          2003,
          2009,
          2006,
          2003,
          2016,
          2006,
          2016,
          2007,
          2007,
          2011,
          2008,
          2016,
          2013,
          2002,
          2007,
          2015,
          2009,
          2011,
          2003,
          2005,
          2010,
          2003,
          2010,
          2004,
          2003,
          2016,
          2002,
          2015,
          2011,
          2002,
          2015,
          2010,
          2014,
          2009,
          2009,
          2015,
          2010,
          2010,
          2005,
          2003,
          2002,
          2013,
          2008,
          2008,
          2007,
          2011,
          2002,
          2001,
          2000,
          2007,
          2006,
          2003,
          2004,
          2002,
          2008,
          2007,
          2015,
          2010,
          2008,
          2004,
          2006,
          2003,
          2012,
          2006,
          2002,
          2005,
          2003,
          2007,
          2009,
          2008,
          2001,
          2006,
          2016,
          2009,
          2013,
          2001,
          2007,
          2016,
          2002,
          2015,
          2015,
          2001,
          2016,
          2010,
          2016,
          2005,
          2014,
          2007,
          2008,
          2005,
          2005,
          2004,
          2003,
          1998,
          2006,
          2003,
          2009,
          2006,
          2004,
          2002,
          2006,
          2006,
          2004,
          1999,
          2001,
          2013,
          2010,
          1998,
          2004,
          2006,
          2002,
          2003,
          2009,
          2006,
          2007,
          2005,
          2004,
          2001,
          2002,
          2010,
          2001,
          2006,
          2016,
          2009,
          2005,
          2000,
          2011,
          2001,
          2007,
          2016,
          2014,
          2010,
          2007,
          2007,
          2008,
          2006,
          2008,
          2016,
          2006,
          2007,
          2004,
          2006,
          2003,
          2005,
          2005,
          2003,
          2016,
          2003,
          2007,
          2009,
          2009,
          2001,
          2016,
          2008,
          2004,
          2007,
          2007,
          2006,
          2016,
          2008,
          2007,
          2002,
          2002,
          2005,
          2007,
          2007,
          2007,
          2009,
          2004,
          2016,
          2016,
          2015,
          2008,
          2016,
          2009,
          2006,
          2006,
          2008,
          2009,
          2014,
          2015,
          2003,
          2007,
          2014,
          2006,
          2007,
          2011,
          2006,
          2006,
          2005,
          2003,
          2007,
          2013,
          2008,
          2005,
          2015,
          2010,
          2006,
          2006,
          2000,
          2015,
          2007,
          2003,
          2007,
          2010,
          2012,
          2007,
          2013,
          2007,
          2004,
          2015,
          2015,
          2008,
          2002,
          2008,
          2006,
          2012,
          2010,
          2016,
          2009,
          2004,
          2004,
          2009,
          2007,
          2001,
          2016,
          2008,
          2006,
          2012,
          2006,
          2006,
          2005,
          2003,
          2016,
          2011,
          2005,
          2007,
          2011,
          2014,
          2007,
          2007,
          2003,
          2005,
          2003,
          2011,
          2005,
          2002,
          2007,
          2009,
          2010,
          2003,
          2013,
          2006,
          2004,
          2004,
          2016,
          2003,
          2007,
          2007,
          2008,
          2010,
          2006,
          2007,
          2012,
          2006,
          2011,
          2007,
          2011,
          2002,
          2007,
          2005,
          2009,
          2015,
          2003,
          2005,
          2006,
          2007,
          2004,
          2013,
          2004,
          2007,
          2013,
          2014,
          2006,
          2003,
          2015,
          2008,
          2015,
          2011,
          2007,
          2006,
          2008,
          2004,
          2015,
          2011,
          2007,
          2007,
          2007,
          2009,
          2006,
          2005,
          2004,
          2006,
          2012,
          2006,
          2004,
          2006,
          2005,
          2007,
          2009,
          2011,
          2008,
          2016,
          2016,
          2003,
          2004,
          2016,
          2015,
          2008,
          2009,
          2006,
          2003,
          2008,
          2006,
          2003,
          2007,
          2016,
          2007,
          2014,
          2014,
          2002,
          2013,
          2006,
          2006,
          2011,
          2002,
          2011,
          2008,
          2006,
          2006,
          2016,
          2009,
          2007,
          2010,
          1998,
          2003,
          2003,
          2003,
          2005,
          2007,
          2004,
          2004,
          2005,
          2006,
          2009,
          2015,
          2008,
          2011,
          2006,
          2003,
          2013,
          2002,
          2005,
          2006,
          2002,
          2006,
          2006,
          2010,
          2009,
          2009,
          2016,
          2006,
          2010,
          2009,
          2016,
          2012,
          2005,
          2009,
          2010,
          2008,
          2016,
          2014,
          2009,
          2016,
          2013,
          2006,
          2006,
          2007,
          2002,
          2009,
          1985,
          2012,
          2013,
          2015,
          2014,
          2002,
          2005,
          2009,
          2004,
          2001,
          2003,
          2016,
          2012,
          2005,
          2011,
          2005,
          2006,
          2003,
          2003,
          2004,
          2002,
          2007,
          2004,
          2013,
          2005,
          2007,
          2016,
          2009,
          2010,
          2005,
          1992,
          2004,
          1988,
          2009,
          2012,
          2005,
          2002,
          2008,
          2014,
          2007,
          2008,
          2011,
          2012,
          2007,
          2008,
          2002,
          2003,
          2002,
          2010,
          2011,
          2006,
          2003,
          2016,
          2016,
          2015,
          2005,
          2004,
          2009,
          2002,
          2006,
          2008,
          2009,
          2015,
          2007,
          2010,
          2016,
          2006,
          2009,
          2012,
          2003,
          2006,
          2001,
          2014,
          2006,
          2013,
          2006,
          2006,
          2003,
          2007,
          2004,
          2016,
          2010,
          2003,
          2003,
          2003,
          2011,
          2004,
          2006,
          2016,
          2006,
          2007,
          2006,
          2006,
          2008,
          2007,
          2007,
          2009,
          2015,
          2016,
          2008,
          2006,
          2005,
          2010,
          2006,
          2011,
          2010,
          2008,
          2016,
          2003,
          2005,
          2002,
          2012,
          2007,
          2015,
          2005,
          2009,
          2002,
          2014,
          2009,
          2003,
          2004,
          2005,
          2004,
          2002,
          2006,
          2015,
          2014,
          2005,
          2007,
          2006,
          2006,
          2003,
          2008,
          2005,
          2006,
          2009,
          2012,
          2007,
          2006,
          2006,
          2006,
          2016,
          2008,
          2009,
          2009,
          2006,
          2008,
          2002,
          2010,
          2008,
          2007,
          2010,
          2016,
          2008,
          2012,
          2005,
          2008,
          2007,
          2003,
          2016,
          2009,
          2009,
          2003,
          2005,
          2004,
          2014,
          2006,
          2002,
          2016,
          2006,
          2005,
          2012,
          2008,
          2008,
          2009,
          2005,
          2014,
          2006,
          2007,
          2009,
          2012,
          2004,
          2004,
          2006,
          2008,
          2005,
          2004,
          2009,
          2011,
          2003,
          2007,
          2005,
          2007,
          2006,
          2008,
          2005,
          2003,
          2001,
          2016,
          2005,
          1998,
          2013,
          2009,
          2007,
          2002,
          2007,
          2014,
          2016,
          2009,
          2014,
          2007,
          2015,
          2008,
          2004,
          2005,
          2008,
          2016,
          2009,
          2004,
          2006,
          2016,
          2012,
          2003,
          2016,
          2016,
          2014,
          2005,
          2013,
          2006,
          2007,
          2015,
          2005,
          2014,
          2006,
          2013,
          2004,
          2012,
          2009,
          2011,
          2016,
          2008,
          2000,
          2009,
          2011,
          2000,
          2003,
          2007,
          2003,
          2011,
          2012,
          2007,
          2015,
          2012,
          2006,
          2005,
          2005,
          2003,
          2010,
          2006,
          2008,
          2015,
          2009,
          2014,
          2008,
          2005,
          2003,
          2010,
          2007,
          2007,
          2008,
          2003,
          2005,
          2016,
          2003,
          2010,
          2013,
          2007,
          2002,
          2002,
          2009,
          2007,
          2004,
          2008,
          2003,
          2006,
          2006,
          2002,
          2006,
          2009,
          2006,
          2009,
          2006,
          2007,
          2001,
          2003,
          2006,
          2005,
          2016,
          2011,
          2014,
          2015,
          2004,
          2008,
          2006,
          2006,
          2011,
          2010,
          1999,
          2008,
          2003,
          2010,
          2006,
          2001,
          2007,
          2005,
          2003,
          2008,
          2009,
          2006,
          2006,
          2004,
          2008,
          2005,
          2010,
          2002,
          2007,
          2005,
          2004,
          2016,
          2006,
          2007,
          2006,
          2006,
          2007,
          2013,
          2016,
          2004,
          2008,
          2003,
          2013,
          2005,
          2008,
          2016,
          2011,
          2016,
          2007,
          2016,
          2006,
          2016,
          2016,
          2014,
          2005,
          2009,
          2007,
          2006,
          2002,
          2007,
          2003,
          2006,
          2015,
          2016,
          2002,
          2003,
          2005,
          2016,
          2009,
          2005,
          2002,
          2005,
          2002,
          2012,
          2001,
          2007,
          2014,
          2016,
          2013,
          2007,
          2016,
          2007,
          2009,
          2009,
          2007,
          2008,
          2016,
          2007,
          2016,
          2002,
          2006,
          2016,
          2007,
          2000,
          2003,
          2012,
          2004,
          2002,
          2016,
          2007,
          2007,
          2009,
          2008,
          2015,
          2008,
          2007,
          2015,
          2016,
          2006,
          2007,
          2015,
          2004,
          2016,
          2007,
          2006,
          2002,
          2007,
          2016,
          2007,
          2016,
          2016,
          2016,
          2015,
          2004,
          2007,
          2002,
          2016,
          2009,
          2007,
          2016,
          2008,
          2007,
          2008,
          2004,
          2007,
          2002,
          2010,
          2009,
          2012,
          2006,
          2015,
          2012,
          2003,
          2009,
          2003,
          2016,
          2007,
          2016,
          2016,
          2001,
          2002,
          2014,
          2011,
          2011,
          2009
         ],
         "xaxis": "x",
         "yaxis": "y"
        }
       ],
       "layout": {
        "barmode": "relative",
        "legend": {
         "tracegroupgap": 0
        },
        "template": {
         "data": {
          "bar": [
           {
            "error_x": {
             "color": "#2a3f5f"
            },
            "error_y": {
             "color": "#2a3f5f"
            },
            "marker": {
             "line": {
              "color": "#E5ECF6",
              "width": 0.5
             },
             "pattern": {
              "fillmode": "overlay",
              "size": 10,
              "solidity": 0.2
             }
            },
            "type": "bar"
           }
          ],
          "barpolar": [
           {
            "marker": {
             "line": {
              "color": "#E5ECF6",
              "width": 0.5
             },
             "pattern": {
              "fillmode": "overlay",
              "size": 10,
              "solidity": 0.2
             }
            },
            "type": "barpolar"
           }
          ],
          "carpet": [
           {
            "aaxis": {
             "endlinecolor": "#2a3f5f",
             "gridcolor": "white",
             "linecolor": "white",
             "minorgridcolor": "white",
             "startlinecolor": "#2a3f5f"
            },
            "baxis": {
             "endlinecolor": "#2a3f5f",
             "gridcolor": "white",
             "linecolor": "white",
             "minorgridcolor": "white",
             "startlinecolor": "#2a3f5f"
            },
            "type": "carpet"
           }
          ],
          "choropleth": [
           {
            "colorbar": {
             "outlinewidth": 0,
             "ticks": ""
            },
            "type": "choropleth"
           }
          ],
          "contour": [
           {
            "colorbar": {
             "outlinewidth": 0,
             "ticks": ""
            },
            "colorscale": [
             [
              0,
              "#0d0887"
             ],
             [
              0.1111111111111111,
              "#46039f"
             ],
             [
              0.2222222222222222,
              "#7201a8"
             ],
             [
              0.3333333333333333,
              "#9c179e"
             ],
             [
              0.4444444444444444,
              "#bd3786"
             ],
             [
              0.5555555555555556,
              "#d8576b"
             ],
             [
              0.6666666666666666,
              "#ed7953"
             ],
             [
              0.7777777777777778,
              "#fb9f3a"
             ],
             [
              0.8888888888888888,
              "#fdca26"
             ],
             [
              1,
              "#f0f921"
             ]
            ],
            "type": "contour"
           }
          ],
          "contourcarpet": [
           {
            "colorbar": {
             "outlinewidth": 0,
             "ticks": ""
            },
            "type": "contourcarpet"
           }
          ],
          "heatmap": [
           {
            "colorbar": {
             "outlinewidth": 0,
             "ticks": ""
            },
            "colorscale": [
             [
              0,
              "#0d0887"
             ],
             [
              0.1111111111111111,
              "#46039f"
             ],
             [
              0.2222222222222222,
              "#7201a8"
             ],
             [
              0.3333333333333333,
              "#9c179e"
             ],
             [
              0.4444444444444444,
              "#bd3786"
             ],
             [
              0.5555555555555556,
              "#d8576b"
             ],
             [
              0.6666666666666666,
              "#ed7953"
             ],
             [
              0.7777777777777778,
              "#fb9f3a"
             ],
             [
              0.8888888888888888,
              "#fdca26"
             ],
             [
              1,
              "#f0f921"
             ]
            ],
            "type": "heatmap"
           }
          ],
          "heatmapgl": [
           {
            "colorbar": {
             "outlinewidth": 0,
             "ticks": ""
            },
            "colorscale": [
             [
              0,
              "#0d0887"
             ],
             [
              0.1111111111111111,
              "#46039f"
             ],
             [
              0.2222222222222222,
              "#7201a8"
             ],
             [
              0.3333333333333333,
              "#9c179e"
             ],
             [
              0.4444444444444444,
              "#bd3786"
             ],
             [
              0.5555555555555556,
              "#d8576b"
             ],
             [
              0.6666666666666666,
              "#ed7953"
             ],
             [
              0.7777777777777778,
              "#fb9f3a"
             ],
             [
              0.8888888888888888,
              "#fdca26"
             ],
             [
              1,
              "#f0f921"
             ]
            ],
            "type": "heatmapgl"
           }
          ],
          "histogram": [
           {
            "marker": {
             "pattern": {
              "fillmode": "overlay",
              "size": 10,
              "solidity": 0.2
             }
            },
            "type": "histogram"
           }
          ],
          "histogram2d": [
           {
            "colorbar": {
             "outlinewidth": 0,
             "ticks": ""
            },
            "colorscale": [
             [
              0,
              "#0d0887"
             ],
             [
              0.1111111111111111,
              "#46039f"
             ],
             [
              0.2222222222222222,
              "#7201a8"
             ],
             [
              0.3333333333333333,
              "#9c179e"
             ],
             [
              0.4444444444444444,
              "#bd3786"
             ],
             [
              0.5555555555555556,
              "#d8576b"
             ],
             [
              0.6666666666666666,
              "#ed7953"
             ],
             [
              0.7777777777777778,
              "#fb9f3a"
             ],
             [
              0.8888888888888888,
              "#fdca26"
             ],
             [
              1,
              "#f0f921"
             ]
            ],
            "type": "histogram2d"
           }
          ],
          "histogram2dcontour": [
           {
            "colorbar": {
             "outlinewidth": 0,
             "ticks": ""
            },
            "colorscale": [
             [
              0,
              "#0d0887"
             ],
             [
              0.1111111111111111,
              "#46039f"
             ],
             [
              0.2222222222222222,
              "#7201a8"
             ],
             [
              0.3333333333333333,
              "#9c179e"
             ],
             [
              0.4444444444444444,
              "#bd3786"
             ],
             [
              0.5555555555555556,
              "#d8576b"
             ],
             [
              0.6666666666666666,
              "#ed7953"
             ],
             [
              0.7777777777777778,
              "#fb9f3a"
             ],
             [
              0.8888888888888888,
              "#fdca26"
             ],
             [
              1,
              "#f0f921"
             ]
            ],
            "type": "histogram2dcontour"
           }
          ],
          "mesh3d": [
           {
            "colorbar": {
             "outlinewidth": 0,
             "ticks": ""
            },
            "type": "mesh3d"
           }
          ],
          "parcoords": [
           {
            "line": {
             "colorbar": {
              "outlinewidth": 0,
              "ticks": ""
             }
            },
            "type": "parcoords"
           }
          ],
          "pie": [
           {
            "automargin": true,
            "type": "pie"
           }
          ],
          "scatter": [
           {
            "fillpattern": {
             "fillmode": "overlay",
             "size": 10,
             "solidity": 0.2
            },
            "type": "scatter"
           }
          ],
          "scatter3d": [
           {
            "line": {
             "colorbar": {
              "outlinewidth": 0,
              "ticks": ""
             }
            },
            "marker": {
             "colorbar": {
              "outlinewidth": 0,
              "ticks": ""
             }
            },
            "type": "scatter3d"
           }
          ],
          "scattercarpet": [
           {
            "marker": {
             "colorbar": {
              "outlinewidth": 0,
              "ticks": ""
             }
            },
            "type": "scattercarpet"
           }
          ],
          "scattergeo": [
           {
            "marker": {
             "colorbar": {
              "outlinewidth": 0,
              "ticks": ""
             }
            },
            "type": "scattergeo"
           }
          ],
          "scattergl": [
           {
            "marker": {
             "colorbar": {
              "outlinewidth": 0,
              "ticks": ""
             }
            },
            "type": "scattergl"
           }
          ],
          "scattermapbox": [
           {
            "marker": {
             "colorbar": {
              "outlinewidth": 0,
              "ticks": ""
             }
            },
            "type": "scattermapbox"
           }
          ],
          "scatterpolar": [
           {
            "marker": {
             "colorbar": {
              "outlinewidth": 0,
              "ticks": ""
             }
            },
            "type": "scatterpolar"
           }
          ],
          "scatterpolargl": [
           {
            "marker": {
             "colorbar": {
              "outlinewidth": 0,
              "ticks": ""
             }
            },
            "type": "scatterpolargl"
           }
          ],
          "scatterternary": [
           {
            "marker": {
             "colorbar": {
              "outlinewidth": 0,
              "ticks": ""
             }
            },
            "type": "scatterternary"
           }
          ],
          "surface": [
           {
            "colorbar": {
             "outlinewidth": 0,
             "ticks": ""
            },
            "colorscale": [
             [
              0,
              "#0d0887"
             ],
             [
              0.1111111111111111,
              "#46039f"
             ],
             [
              0.2222222222222222,
              "#7201a8"
             ],
             [
              0.3333333333333333,
              "#9c179e"
             ],
             [
              0.4444444444444444,
              "#bd3786"
             ],
             [
              0.5555555555555556,
              "#d8576b"
             ],
             [
              0.6666666666666666,
              "#ed7953"
             ],
             [
              0.7777777777777778,
              "#fb9f3a"
             ],
             [
              0.8888888888888888,
              "#fdca26"
             ],
             [
              1,
              "#f0f921"
             ]
            ],
            "type": "surface"
           }
          ],
          "table": [
           {
            "cells": {
             "fill": {
              "color": "#EBF0F8"
             },
             "line": {
              "color": "white"
             }
            },
            "header": {
             "fill": {
              "color": "#C8D4E3"
             },
             "line": {
              "color": "white"
             }
            },
            "type": "table"
           }
          ]
         },
         "layout": {
          "annotationdefaults": {
           "arrowcolor": "#2a3f5f",
           "arrowhead": 0,
           "arrowwidth": 1
          },
          "autotypenumbers": "strict",
          "coloraxis": {
           "colorbar": {
            "outlinewidth": 0,
            "ticks": ""
           }
          },
          "colorscale": {
           "diverging": [
            [
             0,
             "#8e0152"
            ],
            [
             0.1,
             "#c51b7d"
            ],
            [
             0.2,
             "#de77ae"
            ],
            [
             0.3,
             "#f1b6da"
            ],
            [
             0.4,
             "#fde0ef"
            ],
            [
             0.5,
             "#f7f7f7"
            ],
            [
             0.6,
             "#e6f5d0"
            ],
            [
             0.7,
             "#b8e186"
            ],
            [
             0.8,
             "#7fbc41"
            ],
            [
             0.9,
             "#4d9221"
            ],
            [
             1,
             "#276419"
            ]
           ],
           "sequential": [
            [
             0,
             "#0d0887"
            ],
            [
             0.1111111111111111,
             "#46039f"
            ],
            [
             0.2222222222222222,
             "#7201a8"
            ],
            [
             0.3333333333333333,
             "#9c179e"
            ],
            [
             0.4444444444444444,
             "#bd3786"
            ],
            [
             0.5555555555555556,
             "#d8576b"
            ],
            [
             0.6666666666666666,
             "#ed7953"
            ],
            [
             0.7777777777777778,
             "#fb9f3a"
            ],
            [
             0.8888888888888888,
             "#fdca26"
            ],
            [
             1,
             "#f0f921"
            ]
           ],
           "sequentialminus": [
            [
             0,
             "#0d0887"
            ],
            [
             0.1111111111111111,
             "#46039f"
            ],
            [
             0.2222222222222222,
             "#7201a8"
            ],
            [
             0.3333333333333333,
             "#9c179e"
            ],
            [
             0.4444444444444444,
             "#bd3786"
            ],
            [
             0.5555555555555556,
             "#d8576b"
            ],
            [
             0.6666666666666666,
             "#ed7953"
            ],
            [
             0.7777777777777778,
             "#fb9f3a"
            ],
            [
             0.8888888888888888,
             "#fdca26"
            ],
            [
             1,
             "#f0f921"
            ]
           ]
          },
          "colorway": [
           "#636efa",
           "#EF553B",
           "#00cc96",
           "#ab63fa",
           "#FFA15A",
           "#19d3f3",
           "#FF6692",
           "#B6E880",
           "#FF97FF",
           "#FECB52"
          ],
          "font": {
           "color": "#2a3f5f"
          },
          "geo": {
           "bgcolor": "white",
           "lakecolor": "white",
           "landcolor": "#E5ECF6",
           "showlakes": true,
           "showland": true,
           "subunitcolor": "white"
          },
          "hoverlabel": {
           "align": "left"
          },
          "hovermode": "closest",
          "mapbox": {
           "style": "light"
          },
          "paper_bgcolor": "white",
          "plot_bgcolor": "#E5ECF6",
          "polar": {
           "angularaxis": {
            "gridcolor": "white",
            "linecolor": "white",
            "ticks": ""
           },
           "bgcolor": "#E5ECF6",
           "radialaxis": {
            "gridcolor": "white",
            "linecolor": "white",
            "ticks": ""
           }
          },
          "scene": {
           "xaxis": {
            "backgroundcolor": "#E5ECF6",
            "gridcolor": "white",
            "gridwidth": 2,
            "linecolor": "white",
            "showbackground": true,
            "ticks": "",
            "zerolinecolor": "white"
           },
           "yaxis": {
            "backgroundcolor": "#E5ECF6",
            "gridcolor": "white",
            "gridwidth": 2,
            "linecolor": "white",
            "showbackground": true,
            "ticks": "",
            "zerolinecolor": "white"
           },
           "zaxis": {
            "backgroundcolor": "#E5ECF6",
            "gridcolor": "white",
            "gridwidth": 2,
            "linecolor": "white",
            "showbackground": true,
            "ticks": "",
            "zerolinecolor": "white"
           }
          },
          "shapedefaults": {
           "line": {
            "color": "#2a3f5f"
           }
          },
          "ternary": {
           "aaxis": {
            "gridcolor": "white",
            "linecolor": "white",
            "ticks": ""
           },
           "baxis": {
            "gridcolor": "white",
            "linecolor": "white",
            "ticks": ""
           },
           "bgcolor": "#E5ECF6",
           "caxis": {
            "gridcolor": "white",
            "linecolor": "white",
            "ticks": ""
           }
          },
          "title": {
           "x": 0.05
          },
          "xaxis": {
           "automargin": true,
           "gridcolor": "white",
           "linecolor": "white",
           "ticks": "",
           "title": {
            "standoff": 15
           },
           "zerolinecolor": "white",
           "zerolinewidth": 2
          },
          "yaxis": {
           "automargin": true,
           "gridcolor": "white",
           "linecolor": "white",
           "ticks": "",
           "title": {
            "standoff": 15
           },
           "zerolinecolor": "white",
           "zerolinewidth": 2
          }
         }
        },
        "title": {
         "text": "Number of Video Games Released per Year"
        },
        "xaxis": {
         "anchor": "y",
         "domain": [
          0,
          1
         ],
         "ticktext": [
          2006,
          2008,
          2009,
          2005,
          2007,
          2010,
          2013,
          2004,
          2002,
          2001,
          2011,
          2012,
          2014,
          1997,
          1999,
          2015,
          2016,
          2003,
          1998,
          1996,
          2000,
          1994,
          1985,
          1992,
          1988
         ],
         "tickvals": [
          2006,
          2008,
          2009,
          2005,
          2007,
          2010,
          2013,
          2004,
          2002,
          2001,
          2011,
          2012,
          2014,
          1997,
          1999,
          2015,
          2016,
          2003,
          1998,
          1996,
          2000,
          1994,
          1985,
          1992,
          1988
         ],
         "title": {
          "text": "Year Of Release"
         }
        },
        "yaxis": {
         "anchor": "x",
         "domain": [
          0,
          1
         ],
         "title": {
          "text": "count"
         }
        }
       }
      }
     },
     "metadata": {},
     "output_type": "display_data"
    }
   ],
   "source": [
    "fig_1 = px.histogram(df, x='year_of_release', labels={\"year_of_release\": \"Year Of Release\"}, title=\"Number of Video Games Released per Year\")\n",
    "\n",
    "fig_1.update_xaxes(tickvals=df['year_of_release'].unique(), ticktext=[int(x) for x in df['year_of_release'].unique()])\n",
    "fig_1.show()"
   ]
  },
  {
   "cell_type": "markdown",
   "metadata": {},
   "source": [
    "# Total Sales Per Platform Bar Chart\n",
    "\n",
    "Question being Addressed:\n",
    "Look at how sales varied from platform to platform. Choose the platforms with the greatest total sales and build a distribution based on data for each year. \n",
    "The platforms with the greatest total sales are:\n",
    "1) PS2 - $1,255.77 per year total sales\n",
    "2) X360 - $971.42 per year total sales\n",
    "3) Wii - $907.51 per year total sales\n",
    "*The distribution for the year for each of these platforms will be displayed in the next task."
   ]
  },
  {
   "cell_type": "markdown",
   "metadata": {},
   "source": [
    "Code Meaning: \n",
    "1) In order to get rid of stacked values in the data for the bar chart by using the groupby function on df dataframe and grouping by platform.\n",
    "2) In the same line of code, use the sum() method in on the total_sales column of the df dataframe in order to sum up the total values.\n",
    "3) Assign the code to fig_2_sum in order to save the result.\n",
    "4) Create another dataframe called fig_sum_2_df by using the reset_index() method on the fig_sum_2 dataframe.\n",
    "5) Use the rename() method in order to rename the total_sales column to total_sales_sum. Use columns= as the parameter.\n",
    "6) Use the head() function in order to print the first five lines of fig_2_sum_df.\n",
    "\n",
    "Code Result:\n",
    "fig_2_sum_df was created successfully."
   ]
  },
  {
   "cell_type": "code",
   "execution_count": 25,
   "metadata": {},
   "outputs": [
    {
     "data": {
      "text/html": [
       "<div>\n",
       "<style scoped>\n",
       "    .dataframe tbody tr th:only-of-type {\n",
       "        vertical-align: middle;\n",
       "    }\n",
       "\n",
       "    .dataframe tbody tr th {\n",
       "        vertical-align: top;\n",
       "    }\n",
       "\n",
       "    .dataframe thead th {\n",
       "        text-align: right;\n",
       "    }\n",
       "</style>\n",
       "<table border=\"1\" class=\"dataframe\">\n",
       "  <thead>\n",
       "    <tr style=\"text-align: right;\">\n",
       "      <th></th>\n",
       "      <th>platform</th>\n",
       "      <th>total_sales_sum</th>\n",
       "    </tr>\n",
       "  </thead>\n",
       "  <tbody>\n",
       "    <tr>\n",
       "      <th>0</th>\n",
       "      <td>3DS</td>\n",
       "      <td>123.99</td>\n",
       "    </tr>\n",
       "    <tr>\n",
       "      <th>1</th>\n",
       "      <td>DC</td>\n",
       "      <td>4.55</td>\n",
       "    </tr>\n",
       "    <tr>\n",
       "      <th>2</th>\n",
       "      <td>DS</td>\n",
       "      <td>383.87</td>\n",
       "    </tr>\n",
       "    <tr>\n",
       "      <th>3</th>\n",
       "      <td>GBA</td>\n",
       "      <td>132.53</td>\n",
       "    </tr>\n",
       "    <tr>\n",
       "      <th>4</th>\n",
       "      <td>GC</td>\n",
       "      <td>160.60</td>\n",
       "    </tr>\n",
       "  </tbody>\n",
       "</table>\n",
       "</div>"
      ],
      "text/plain": [
       "  platform  total_sales_sum\n",
       "0      3DS           123.99\n",
       "1       DC             4.55\n",
       "2       DS           383.87\n",
       "3      GBA           132.53\n",
       "4       GC           160.60"
      ]
     },
     "execution_count": 25,
     "metadata": {},
     "output_type": "execute_result"
    }
   ],
   "source": [
    "fig_2_sum = df.groupby('platform')['total_sales'].sum()\n",
    "\n",
    "fig_2_sum_df = fig_2_sum.reset_index().rename(columns={'total_sales': 'total_sales_sum'})\n",
    "\n",
    "fig_2_sum_df.head()"
   ]
  },
  {
   "cell_type": "markdown",
   "metadata": {},
   "source": [
    "Code Meaning:\n",
    "1) Use px.bar() in order to create a bar chart titled: 'Total Sales Per Platform'.\n",
    "2) Use the fig_2_sum_df dataframe as the data.\n",
    "3) Use the platform column of the fig_2_sum df dataframe as the x axis and the total_sales_sum column as the y axis.\n",
    "4) Use the platform column as the color parameter in order to make it easier to differentiate the data in each platform on the chart.\n",
    "5) Use fig_2.show() in order to display the chart. \n"
   ]
  },
  {
   "cell_type": "code",
   "execution_count": 26,
   "metadata": {},
   "outputs": [
    {
     "data": {
      "application/vnd.plotly.v1+json": {
       "config": {
        "plotlyServerURL": "https://plot.ly"
       },
       "data": [
        {
         "alignmentgroup": "True",
         "hovertemplate": "Platform=%{x}<br>Sum of Total Sales=%{y}<extra></extra>",
         "legendgroup": "3DS",
         "marker": {
          "color": "#636efa",
          "pattern": {
           "shape": ""
          }
         },
         "name": "3DS",
         "offsetgroup": "3DS",
         "orientation": "v",
         "showlegend": true,
         "textposition": "auto",
         "type": "bar",
         "x": [
          "3DS"
         ],
         "xaxis": "x",
         "y": [
          123.99000000000001
         ],
         "yaxis": "y"
        },
        {
         "alignmentgroup": "True",
         "hovertemplate": "Platform=%{x}<br>Sum of Total Sales=%{y}<extra></extra>",
         "legendgroup": "DC",
         "marker": {
          "color": "#EF553B",
          "pattern": {
           "shape": ""
          }
         },
         "name": "DC",
         "offsetgroup": "DC",
         "orientation": "v",
         "showlegend": true,
         "textposition": "auto",
         "type": "bar",
         "x": [
          "DC"
         ],
         "xaxis": "x",
         "y": [
          4.550000000000001
         ],
         "yaxis": "y"
        },
        {
         "alignmentgroup": "True",
         "hovertemplate": "Platform=%{x}<br>Sum of Total Sales=%{y}<extra></extra>",
         "legendgroup": "DS",
         "marker": {
          "color": "#00cc96",
          "pattern": {
           "shape": ""
          }
         },
         "name": "DS",
         "offsetgroup": "DS",
         "orientation": "v",
         "showlegend": true,
         "textposition": "auto",
         "type": "bar",
         "x": [
          "DS"
         ],
         "xaxis": "x",
         "y": [
          383.87
         ],
         "yaxis": "y"
        },
        {
         "alignmentgroup": "True",
         "hovertemplate": "Platform=%{x}<br>Sum of Total Sales=%{y}<extra></extra>",
         "legendgroup": "GBA",
         "marker": {
          "color": "#ab63fa",
          "pattern": {
           "shape": ""
          }
         },
         "name": "GBA",
         "offsetgroup": "GBA",
         "orientation": "v",
         "showlegend": true,
         "textposition": "auto",
         "type": "bar",
         "x": [
          "GBA"
         ],
         "xaxis": "x",
         "y": [
          132.53
         ],
         "yaxis": "y"
        },
        {
         "alignmentgroup": "True",
         "hovertemplate": "Platform=%{x}<br>Sum of Total Sales=%{y}<extra></extra>",
         "legendgroup": "GC",
         "marker": {
          "color": "#FFA15A",
          "pattern": {
           "shape": ""
          }
         },
         "name": "GC",
         "offsetgroup": "GC",
         "orientation": "v",
         "showlegend": true,
         "textposition": "auto",
         "type": "bar",
         "x": [
          "GC"
         ],
         "xaxis": "x",
         "y": [
          160.6
         ],
         "yaxis": "y"
        },
        {
         "alignmentgroup": "True",
         "hovertemplate": "Platform=%{x}<br>Sum of Total Sales=%{y}<extra></extra>",
         "legendgroup": "PC",
         "marker": {
          "color": "#19d3f3",
          "pattern": {
           "shape": ""
          }
         },
         "name": "PC",
         "offsetgroup": "PC",
         "orientation": "v",
         "showlegend": true,
         "textposition": "auto",
         "type": "bar",
         "x": [
          "PC"
         ],
         "xaxis": "x",
         "y": [
          193.55
         ],
         "yaxis": "y"
        },
        {
         "alignmentgroup": "True",
         "hovertemplate": "Platform=%{x}<br>Sum of Total Sales=%{y}<extra></extra>",
         "legendgroup": "PS",
         "marker": {
          "color": "#FF6692",
          "pattern": {
           "shape": ""
          }
         },
         "name": "PS",
         "offsetgroup": "PS",
         "orientation": "v",
         "showlegend": true,
         "textposition": "auto",
         "type": "bar",
         "x": [
          "PS"
         ],
         "xaxis": "x",
         "y": [
          211.37
         ],
         "yaxis": "y"
        },
        {
         "alignmentgroup": "True",
         "hovertemplate": "Platform=%{x}<br>Sum of Total Sales=%{y}<extra></extra>",
         "legendgroup": "PS2",
         "marker": {
          "color": "#B6E880",
          "pattern": {
           "shape": ""
          }
         },
         "name": "PS2",
         "offsetgroup": "PS2",
         "orientation": "v",
         "showlegend": true,
         "textposition": "auto",
         "type": "bar",
         "x": [
          "PS2"
         ],
         "xaxis": "x",
         "y": [
          962.42
         ],
         "yaxis": "y"
        },
        {
         "alignmentgroup": "True",
         "hovertemplate": "Platform=%{x}<br>Sum of Total Sales=%{y}<extra></extra>",
         "legendgroup": "PS3",
         "marker": {
          "color": "#FF97FF",
          "pattern": {
           "shape": ""
          }
         },
         "name": "PS3",
         "offsetgroup": "PS3",
         "orientation": "v",
         "showlegend": true,
         "textposition": "auto",
         "type": "bar",
         "x": [
          "PS3"
         ],
         "xaxis": "x",
         "y": [
          792.95
         ],
         "yaxis": "y"
        },
        {
         "alignmentgroup": "True",
         "hovertemplate": "Platform=%{x}<br>Sum of Total Sales=%{y}<extra></extra>",
         "legendgroup": "PS4",
         "marker": {
          "color": "#FECB52",
          "pattern": {
           "shape": ""
          }
         },
         "name": "PS4",
         "offsetgroup": "PS4",
         "orientation": "v",
         "showlegend": true,
         "textposition": "auto",
         "type": "bar",
         "x": [
          "PS4"
         ],
         "xaxis": "x",
         "y": [
          244.27
         ],
         "yaxis": "y"
        },
        {
         "alignmentgroup": "True",
         "hovertemplate": "Platform=%{x}<br>Sum of Total Sales=%{y}<extra></extra>",
         "legendgroup": "PSP",
         "marker": {
          "color": "#636efa",
          "pattern": {
           "shape": ""
          }
         },
         "name": "PSP",
         "offsetgroup": "PSP",
         "orientation": "v",
         "showlegend": true,
         "textposition": "auto",
         "type": "bar",
         "x": [
          "PSP"
         ],
         "xaxis": "x",
         "y": [
          190.17000000000002
         ],
         "yaxis": "y"
        },
        {
         "alignmentgroup": "True",
         "hovertemplate": "Platform=%{x}<br>Sum of Total Sales=%{y}<extra></extra>",
         "legendgroup": "PSV",
         "marker": {
          "color": "#EF553B",
          "pattern": {
           "shape": ""
          }
         },
         "name": "PSV",
         "offsetgroup": "PSV",
         "orientation": "v",
         "showlegend": true,
         "textposition": "auto",
         "type": "bar",
         "x": [
          "PSV"
         ],
         "xaxis": "x",
         "y": [
          31.09
         ],
         "yaxis": "y"
        },
        {
         "alignmentgroup": "True",
         "hovertemplate": "Platform=%{x}<br>Sum of Total Sales=%{y}<extra></extra>",
         "legendgroup": "Wii",
         "marker": {
          "color": "#00cc96",
          "pattern": {
           "shape": ""
          }
         },
         "name": "Wii",
         "offsetgroup": "Wii",
         "orientation": "v",
         "showlegend": true,
         "textposition": "auto",
         "type": "bar",
         "x": [
          "Wii"
         ],
         "xaxis": "x",
         "y": [
          672.84
         ],
         "yaxis": "y"
        },
        {
         "alignmentgroup": "True",
         "hovertemplate": "Platform=%{x}<br>Sum of Total Sales=%{y}<extra></extra>",
         "legendgroup": "WiiU",
         "marker": {
          "color": "#ab63fa",
          "pattern": {
           "shape": ""
          }
         },
         "name": "WiiU",
         "offsetgroup": "WiiU",
         "orientation": "v",
         "showlegend": true,
         "textposition": "auto",
         "type": "bar",
         "x": [
          "WiiU"
         ],
         "xaxis": "x",
         "y": [
          66.08
         ],
         "yaxis": "y"
        },
        {
         "alignmentgroup": "True",
         "hovertemplate": "Platform=%{x}<br>Sum of Total Sales=%{y}<extra></extra>",
         "legendgroup": "X360",
         "marker": {
          "color": "#FFA15A",
          "pattern": {
           "shape": ""
          }
         },
         "name": "X360",
         "offsetgroup": "X360",
         "orientation": "v",
         "showlegend": true,
         "textposition": "auto",
         "type": "bar",
         "x": [
          "X360"
         ],
         "xaxis": "x",
         "y": [
          863.39
         ],
         "yaxis": "y"
        },
        {
         "alignmentgroup": "True",
         "hovertemplate": "Platform=%{x}<br>Sum of Total Sales=%{y}<extra></extra>",
         "legendgroup": "XB",
         "marker": {
          "color": "#19d3f3",
          "pattern": {
           "shape": ""
          }
         },
         "name": "XB",
         "offsetgroup": "XB",
         "orientation": "v",
         "showlegend": true,
         "textposition": "auto",
         "type": "bar",
         "x": [
          "XB"
         ],
         "xaxis": "x",
         "y": [
          217.19
         ],
         "yaxis": "y"
        },
        {
         "alignmentgroup": "True",
         "hovertemplate": "Platform=%{x}<br>Sum of Total Sales=%{y}<extra></extra>",
         "legendgroup": "XOne",
         "marker": {
          "color": "#FF6692",
          "pattern": {
           "shape": ""
          }
         },
         "name": "XOne",
         "offsetgroup": "XOne",
         "orientation": "v",
         "showlegend": true,
         "textposition": "auto",
         "type": "bar",
         "x": [
          "XOne"
         ],
         "xaxis": "x",
         "y": [
          130.21
         ],
         "yaxis": "y"
        }
       ],
       "layout": {
        "barmode": "relative",
        "legend": {
         "title": {
          "text": "Platform"
         },
         "tracegroupgap": 0
        },
        "template": {
         "data": {
          "bar": [
           {
            "error_x": {
             "color": "#2a3f5f"
            },
            "error_y": {
             "color": "#2a3f5f"
            },
            "marker": {
             "line": {
              "color": "#E5ECF6",
              "width": 0.5
             },
             "pattern": {
              "fillmode": "overlay",
              "size": 10,
              "solidity": 0.2
             }
            },
            "type": "bar"
           }
          ],
          "barpolar": [
           {
            "marker": {
             "line": {
              "color": "#E5ECF6",
              "width": 0.5
             },
             "pattern": {
              "fillmode": "overlay",
              "size": 10,
              "solidity": 0.2
             }
            },
            "type": "barpolar"
           }
          ],
          "carpet": [
           {
            "aaxis": {
             "endlinecolor": "#2a3f5f",
             "gridcolor": "white",
             "linecolor": "white",
             "minorgridcolor": "white",
             "startlinecolor": "#2a3f5f"
            },
            "baxis": {
             "endlinecolor": "#2a3f5f",
             "gridcolor": "white",
             "linecolor": "white",
             "minorgridcolor": "white",
             "startlinecolor": "#2a3f5f"
            },
            "type": "carpet"
           }
          ],
          "choropleth": [
           {
            "colorbar": {
             "outlinewidth": 0,
             "ticks": ""
            },
            "type": "choropleth"
           }
          ],
          "contour": [
           {
            "colorbar": {
             "outlinewidth": 0,
             "ticks": ""
            },
            "colorscale": [
             [
              0,
              "#0d0887"
             ],
             [
              0.1111111111111111,
              "#46039f"
             ],
             [
              0.2222222222222222,
              "#7201a8"
             ],
             [
              0.3333333333333333,
              "#9c179e"
             ],
             [
              0.4444444444444444,
              "#bd3786"
             ],
             [
              0.5555555555555556,
              "#d8576b"
             ],
             [
              0.6666666666666666,
              "#ed7953"
             ],
             [
              0.7777777777777778,
              "#fb9f3a"
             ],
             [
              0.8888888888888888,
              "#fdca26"
             ],
             [
              1,
              "#f0f921"
             ]
            ],
            "type": "contour"
           }
          ],
          "contourcarpet": [
           {
            "colorbar": {
             "outlinewidth": 0,
             "ticks": ""
            },
            "type": "contourcarpet"
           }
          ],
          "heatmap": [
           {
            "colorbar": {
             "outlinewidth": 0,
             "ticks": ""
            },
            "colorscale": [
             [
              0,
              "#0d0887"
             ],
             [
              0.1111111111111111,
              "#46039f"
             ],
             [
              0.2222222222222222,
              "#7201a8"
             ],
             [
              0.3333333333333333,
              "#9c179e"
             ],
             [
              0.4444444444444444,
              "#bd3786"
             ],
             [
              0.5555555555555556,
              "#d8576b"
             ],
             [
              0.6666666666666666,
              "#ed7953"
             ],
             [
              0.7777777777777778,
              "#fb9f3a"
             ],
             [
              0.8888888888888888,
              "#fdca26"
             ],
             [
              1,
              "#f0f921"
             ]
            ],
            "type": "heatmap"
           }
          ],
          "heatmapgl": [
           {
            "colorbar": {
             "outlinewidth": 0,
             "ticks": ""
            },
            "colorscale": [
             [
              0,
              "#0d0887"
             ],
             [
              0.1111111111111111,
              "#46039f"
             ],
             [
              0.2222222222222222,
              "#7201a8"
             ],
             [
              0.3333333333333333,
              "#9c179e"
             ],
             [
              0.4444444444444444,
              "#bd3786"
             ],
             [
              0.5555555555555556,
              "#d8576b"
             ],
             [
              0.6666666666666666,
              "#ed7953"
             ],
             [
              0.7777777777777778,
              "#fb9f3a"
             ],
             [
              0.8888888888888888,
              "#fdca26"
             ],
             [
              1,
              "#f0f921"
             ]
            ],
            "type": "heatmapgl"
           }
          ],
          "histogram": [
           {
            "marker": {
             "pattern": {
              "fillmode": "overlay",
              "size": 10,
              "solidity": 0.2
             }
            },
            "type": "histogram"
           }
          ],
          "histogram2d": [
           {
            "colorbar": {
             "outlinewidth": 0,
             "ticks": ""
            },
            "colorscale": [
             [
              0,
              "#0d0887"
             ],
             [
              0.1111111111111111,
              "#46039f"
             ],
             [
              0.2222222222222222,
              "#7201a8"
             ],
             [
              0.3333333333333333,
              "#9c179e"
             ],
             [
              0.4444444444444444,
              "#bd3786"
             ],
             [
              0.5555555555555556,
              "#d8576b"
             ],
             [
              0.6666666666666666,
              "#ed7953"
             ],
             [
              0.7777777777777778,
              "#fb9f3a"
             ],
             [
              0.8888888888888888,
              "#fdca26"
             ],
             [
              1,
              "#f0f921"
             ]
            ],
            "type": "histogram2d"
           }
          ],
          "histogram2dcontour": [
           {
            "colorbar": {
             "outlinewidth": 0,
             "ticks": ""
            },
            "colorscale": [
             [
              0,
              "#0d0887"
             ],
             [
              0.1111111111111111,
              "#46039f"
             ],
             [
              0.2222222222222222,
              "#7201a8"
             ],
             [
              0.3333333333333333,
              "#9c179e"
             ],
             [
              0.4444444444444444,
              "#bd3786"
             ],
             [
              0.5555555555555556,
              "#d8576b"
             ],
             [
              0.6666666666666666,
              "#ed7953"
             ],
             [
              0.7777777777777778,
              "#fb9f3a"
             ],
             [
              0.8888888888888888,
              "#fdca26"
             ],
             [
              1,
              "#f0f921"
             ]
            ],
            "type": "histogram2dcontour"
           }
          ],
          "mesh3d": [
           {
            "colorbar": {
             "outlinewidth": 0,
             "ticks": ""
            },
            "type": "mesh3d"
           }
          ],
          "parcoords": [
           {
            "line": {
             "colorbar": {
              "outlinewidth": 0,
              "ticks": ""
             }
            },
            "type": "parcoords"
           }
          ],
          "pie": [
           {
            "automargin": true,
            "type": "pie"
           }
          ],
          "scatter": [
           {
            "fillpattern": {
             "fillmode": "overlay",
             "size": 10,
             "solidity": 0.2
            },
            "type": "scatter"
           }
          ],
          "scatter3d": [
           {
            "line": {
             "colorbar": {
              "outlinewidth": 0,
              "ticks": ""
             }
            },
            "marker": {
             "colorbar": {
              "outlinewidth": 0,
              "ticks": ""
             }
            },
            "type": "scatter3d"
           }
          ],
          "scattercarpet": [
           {
            "marker": {
             "colorbar": {
              "outlinewidth": 0,
              "ticks": ""
             }
            },
            "type": "scattercarpet"
           }
          ],
          "scattergeo": [
           {
            "marker": {
             "colorbar": {
              "outlinewidth": 0,
              "ticks": ""
             }
            },
            "type": "scattergeo"
           }
          ],
          "scattergl": [
           {
            "marker": {
             "colorbar": {
              "outlinewidth": 0,
              "ticks": ""
             }
            },
            "type": "scattergl"
           }
          ],
          "scattermapbox": [
           {
            "marker": {
             "colorbar": {
              "outlinewidth": 0,
              "ticks": ""
             }
            },
            "type": "scattermapbox"
           }
          ],
          "scatterpolar": [
           {
            "marker": {
             "colorbar": {
              "outlinewidth": 0,
              "ticks": ""
             }
            },
            "type": "scatterpolar"
           }
          ],
          "scatterpolargl": [
           {
            "marker": {
             "colorbar": {
              "outlinewidth": 0,
              "ticks": ""
             }
            },
            "type": "scatterpolargl"
           }
          ],
          "scatterternary": [
           {
            "marker": {
             "colorbar": {
              "outlinewidth": 0,
              "ticks": ""
             }
            },
            "type": "scatterternary"
           }
          ],
          "surface": [
           {
            "colorbar": {
             "outlinewidth": 0,
             "ticks": ""
            },
            "colorscale": [
             [
              0,
              "#0d0887"
             ],
             [
              0.1111111111111111,
              "#46039f"
             ],
             [
              0.2222222222222222,
              "#7201a8"
             ],
             [
              0.3333333333333333,
              "#9c179e"
             ],
             [
              0.4444444444444444,
              "#bd3786"
             ],
             [
              0.5555555555555556,
              "#d8576b"
             ],
             [
              0.6666666666666666,
              "#ed7953"
             ],
             [
              0.7777777777777778,
              "#fb9f3a"
             ],
             [
              0.8888888888888888,
              "#fdca26"
             ],
             [
              1,
              "#f0f921"
             ]
            ],
            "type": "surface"
           }
          ],
          "table": [
           {
            "cells": {
             "fill": {
              "color": "#EBF0F8"
             },
             "line": {
              "color": "white"
             }
            },
            "header": {
             "fill": {
              "color": "#C8D4E3"
             },
             "line": {
              "color": "white"
             }
            },
            "type": "table"
           }
          ]
         },
         "layout": {
          "annotationdefaults": {
           "arrowcolor": "#2a3f5f",
           "arrowhead": 0,
           "arrowwidth": 1
          },
          "autotypenumbers": "strict",
          "coloraxis": {
           "colorbar": {
            "outlinewidth": 0,
            "ticks": ""
           }
          },
          "colorscale": {
           "diverging": [
            [
             0,
             "#8e0152"
            ],
            [
             0.1,
             "#c51b7d"
            ],
            [
             0.2,
             "#de77ae"
            ],
            [
             0.3,
             "#f1b6da"
            ],
            [
             0.4,
             "#fde0ef"
            ],
            [
             0.5,
             "#f7f7f7"
            ],
            [
             0.6,
             "#e6f5d0"
            ],
            [
             0.7,
             "#b8e186"
            ],
            [
             0.8,
             "#7fbc41"
            ],
            [
             0.9,
             "#4d9221"
            ],
            [
             1,
             "#276419"
            ]
           ],
           "sequential": [
            [
             0,
             "#0d0887"
            ],
            [
             0.1111111111111111,
             "#46039f"
            ],
            [
             0.2222222222222222,
             "#7201a8"
            ],
            [
             0.3333333333333333,
             "#9c179e"
            ],
            [
             0.4444444444444444,
             "#bd3786"
            ],
            [
             0.5555555555555556,
             "#d8576b"
            ],
            [
             0.6666666666666666,
             "#ed7953"
            ],
            [
             0.7777777777777778,
             "#fb9f3a"
            ],
            [
             0.8888888888888888,
             "#fdca26"
            ],
            [
             1,
             "#f0f921"
            ]
           ],
           "sequentialminus": [
            [
             0,
             "#0d0887"
            ],
            [
             0.1111111111111111,
             "#46039f"
            ],
            [
             0.2222222222222222,
             "#7201a8"
            ],
            [
             0.3333333333333333,
             "#9c179e"
            ],
            [
             0.4444444444444444,
             "#bd3786"
            ],
            [
             0.5555555555555556,
             "#d8576b"
            ],
            [
             0.6666666666666666,
             "#ed7953"
            ],
            [
             0.7777777777777778,
             "#fb9f3a"
            ],
            [
             0.8888888888888888,
             "#fdca26"
            ],
            [
             1,
             "#f0f921"
            ]
           ]
          },
          "colorway": [
           "#636efa",
           "#EF553B",
           "#00cc96",
           "#ab63fa",
           "#FFA15A",
           "#19d3f3",
           "#FF6692",
           "#B6E880",
           "#FF97FF",
           "#FECB52"
          ],
          "font": {
           "color": "#2a3f5f"
          },
          "geo": {
           "bgcolor": "white",
           "lakecolor": "white",
           "landcolor": "#E5ECF6",
           "showlakes": true,
           "showland": true,
           "subunitcolor": "white"
          },
          "hoverlabel": {
           "align": "left"
          },
          "hovermode": "closest",
          "mapbox": {
           "style": "light"
          },
          "paper_bgcolor": "white",
          "plot_bgcolor": "#E5ECF6",
          "polar": {
           "angularaxis": {
            "gridcolor": "white",
            "linecolor": "white",
            "ticks": ""
           },
           "bgcolor": "#E5ECF6",
           "radialaxis": {
            "gridcolor": "white",
            "linecolor": "white",
            "ticks": ""
           }
          },
          "scene": {
           "xaxis": {
            "backgroundcolor": "#E5ECF6",
            "gridcolor": "white",
            "gridwidth": 2,
            "linecolor": "white",
            "showbackground": true,
            "ticks": "",
            "zerolinecolor": "white"
           },
           "yaxis": {
            "backgroundcolor": "#E5ECF6",
            "gridcolor": "white",
            "gridwidth": 2,
            "linecolor": "white",
            "showbackground": true,
            "ticks": "",
            "zerolinecolor": "white"
           },
           "zaxis": {
            "backgroundcolor": "#E5ECF6",
            "gridcolor": "white",
            "gridwidth": 2,
            "linecolor": "white",
            "showbackground": true,
            "ticks": "",
            "zerolinecolor": "white"
           }
          },
          "shapedefaults": {
           "line": {
            "color": "#2a3f5f"
           }
          },
          "ternary": {
           "aaxis": {
            "gridcolor": "white",
            "linecolor": "white",
            "ticks": ""
           },
           "baxis": {
            "gridcolor": "white",
            "linecolor": "white",
            "ticks": ""
           },
           "bgcolor": "#E5ECF6",
           "caxis": {
            "gridcolor": "white",
            "linecolor": "white",
            "ticks": ""
           }
          },
          "title": {
           "x": 0.05
          },
          "xaxis": {
           "automargin": true,
           "gridcolor": "white",
           "linecolor": "white",
           "ticks": "",
           "title": {
            "standoff": 15
           },
           "zerolinecolor": "white",
           "zerolinewidth": 2
          },
          "yaxis": {
           "automargin": true,
           "gridcolor": "white",
           "linecolor": "white",
           "ticks": "",
           "title": {
            "standoff": 15
           },
           "zerolinecolor": "white",
           "zerolinewidth": 2
          }
         }
        },
        "title": {
         "text": "Total Sales Per Platform"
        },
        "xaxis": {
         "anchor": "y",
         "categoryarray": [
          "3DS",
          "DC",
          "DS",
          "GBA",
          "GC",
          "PC",
          "PS",
          "PS2",
          "PS3",
          "PS4",
          "PSP",
          "PSV",
          "Wii",
          "WiiU",
          "X360",
          "XB",
          "XOne"
         ],
         "categoryorder": "array",
         "domain": [
          0,
          1
         ],
         "title": {
          "text": "Platform"
         }
        },
        "yaxis": {
         "anchor": "x",
         "domain": [
          0,
          1
         ],
         "title": {
          "text": "Sum of Total Sales"
         }
        }
       }
      }
     },
     "metadata": {},
     "output_type": "display_data"
    }
   ],
   "source": [
    "#create dataframe just for the  bar chart,  no other values\n",
    "fig_2 = px.bar(fig_2_sum_df, x='platform', y='total_sales_sum', labels={\"total_sales_sum\": \"Sum of Total Sales\", \"platform\": \"Platform\"}, color='platform', title='Total Sales Per Platform')\n",
    "\n",
    "fig_2.show()"
   ]
  },
  {
   "cell_type": "markdown",
   "metadata": {},
   "source": [
    "Total Sales Per Year of the Top 3 Platforms\n",
    "\n",
    "\n",
    "Question/Task Answered:\n",
    "Which platforms are leading in sales? \n",
    "The platforms which are leading in sales are:\n",
    "1) PS2\n",
    "2) X360\n",
    "3) Wii"
   ]
  },
  {
   "cell_type": "markdown",
   "metadata": {},
   "source": [
    "Code Meaning:\n",
    "1) Create a new filtered dataframe called ps_2 that only displays results that have PS2 listed as a result for the platform column.\n",
    "2) Use the head() method to print the first five lines of the ps_2 dataframe.\n",
    "\n",
    "Code Result:\n",
    "The entries in the rows of the ps_2 dataframe appear to be listed correctly.  The ps_2 dataframe was created successfully."
   ]
  },
  {
   "cell_type": "code",
   "execution_count": 27,
   "metadata": {},
   "outputs": [
    {
     "data": {
      "text/html": [
       "<div>\n",
       "<style scoped>\n",
       "    .dataframe tbody tr th:only-of-type {\n",
       "        vertical-align: middle;\n",
       "    }\n",
       "\n",
       "    .dataframe tbody tr th {\n",
       "        vertical-align: top;\n",
       "    }\n",
       "\n",
       "    .dataframe thead th {\n",
       "        text-align: right;\n",
       "    }\n",
       "</style>\n",
       "<table border=\"1\" class=\"dataframe\">\n",
       "  <thead>\n",
       "    <tr style=\"text-align: right;\">\n",
       "      <th></th>\n",
       "      <th>name</th>\n",
       "      <th>platform</th>\n",
       "      <th>year_of_release</th>\n",
       "      <th>genre</th>\n",
       "      <th>na_sales</th>\n",
       "      <th>eu_sales</th>\n",
       "      <th>jp_sales</th>\n",
       "      <th>other_sales</th>\n",
       "      <th>critic_score</th>\n",
       "      <th>user_score</th>\n",
       "      <th>rating</th>\n",
       "      <th>total_sales</th>\n",
       "    </tr>\n",
       "  </thead>\n",
       "  <tbody>\n",
       "    <tr>\n",
       "      <th>17</th>\n",
       "      <td>Grand Theft Auto: San Andreas</td>\n",
       "      <td>PS2</td>\n",
       "      <td>2004</td>\n",
       "      <td>Action</td>\n",
       "      <td>9.43</td>\n",
       "      <td>0.40</td>\n",
       "      <td>0.41</td>\n",
       "      <td>10.57</td>\n",
       "      <td>95.0</td>\n",
       "      <td>9.0</td>\n",
       "      <td>M</td>\n",
       "      <td>20.81</td>\n",
       "    </tr>\n",
       "    <tr>\n",
       "      <th>24</th>\n",
       "      <td>Grand Theft Auto: Vice City</td>\n",
       "      <td>PS2</td>\n",
       "      <td>2002</td>\n",
       "      <td>Action</td>\n",
       "      <td>8.41</td>\n",
       "      <td>5.49</td>\n",
       "      <td>0.47</td>\n",
       "      <td>1.78</td>\n",
       "      <td>95.0</td>\n",
       "      <td>8.7</td>\n",
       "      <td>M</td>\n",
       "      <td>16.15</td>\n",
       "    </tr>\n",
       "    <tr>\n",
       "      <th>28</th>\n",
       "      <td>Gran Turismo 3: A-Spec</td>\n",
       "      <td>PS2</td>\n",
       "      <td>2001</td>\n",
       "      <td>Racing</td>\n",
       "      <td>6.85</td>\n",
       "      <td>5.09</td>\n",
       "      <td>1.87</td>\n",
       "      <td>1.16</td>\n",
       "      <td>95.0</td>\n",
       "      <td>8.4</td>\n",
       "      <td>E</td>\n",
       "      <td>14.97</td>\n",
       "    </tr>\n",
       "    <tr>\n",
       "      <th>38</th>\n",
       "      <td>Grand Theft Auto III</td>\n",
       "      <td>PS2</td>\n",
       "      <td>2001</td>\n",
       "      <td>Action</td>\n",
       "      <td>6.99</td>\n",
       "      <td>4.51</td>\n",
       "      <td>0.30</td>\n",
       "      <td>1.30</td>\n",
       "      <td>97.0</td>\n",
       "      <td>8.5</td>\n",
       "      <td>M</td>\n",
       "      <td>13.10</td>\n",
       "    </tr>\n",
       "    <tr>\n",
       "      <th>48</th>\n",
       "      <td>Gran Turismo 4</td>\n",
       "      <td>PS2</td>\n",
       "      <td>2004</td>\n",
       "      <td>Racing</td>\n",
       "      <td>3.01</td>\n",
       "      <td>0.01</td>\n",
       "      <td>1.10</td>\n",
       "      <td>7.53</td>\n",
       "      <td>89.0</td>\n",
       "      <td>8.5</td>\n",
       "      <td>E</td>\n",
       "      <td>11.65</td>\n",
       "    </tr>\n",
       "  </tbody>\n",
       "</table>\n",
       "</div>"
      ],
      "text/plain": [
       "                             name platform  year_of_release   genre  na_sales  \\\n",
       "17  Grand Theft Auto: San Andreas      PS2             2004  Action      9.43   \n",
       "24    Grand Theft Auto: Vice City      PS2             2002  Action      8.41   \n",
       "28         Gran Turismo 3: A-Spec      PS2             2001  Racing      6.85   \n",
       "38           Grand Theft Auto III      PS2             2001  Action      6.99   \n",
       "48                 Gran Turismo 4      PS2             2004  Racing      3.01   \n",
       "\n",
       "    eu_sales  jp_sales  other_sales  critic_score  user_score rating  \\\n",
       "17      0.40      0.41        10.57          95.0         9.0      M   \n",
       "24      5.49      0.47         1.78          95.0         8.7      M   \n",
       "28      5.09      1.87         1.16          95.0         8.4      E   \n",
       "38      4.51      0.30         1.30          97.0         8.5      M   \n",
       "48      0.01      1.10         7.53          89.0         8.5      E   \n",
       "\n",
       "    total_sales  \n",
       "17        20.81  \n",
       "24        16.15  \n",
       "28        14.97  \n",
       "38        13.10  \n",
       "48        11.65  "
      ]
     },
     "execution_count": 27,
     "metadata": {},
     "output_type": "execute_result"
    }
   ],
   "source": [
    "ps_2 = df[df['platform'] == 'PS2']\n",
    "\n",
    "ps_2.head()"
   ]
  },
  {
   "cell_type": "markdown",
   "metadata": {},
   "source": [
    "Code Meaning:\n",
    "1) Create a new filtered dataframe called x_360 that only displays results that have X360 listed as a result for the platform column.\n",
    "2) Use the head() method to print the first five lines of the X_360 dataframe.\n",
    "\n",
    "Code Result:\n",
    "The entries in the rows of the X_360 dataframe appear to be listed correctly.  The X_360 dataframe was created successfully."
   ]
  },
  {
   "cell_type": "code",
   "execution_count": 28,
   "metadata": {},
   "outputs": [
    {
     "data": {
      "text/html": [
       "<div>\n",
       "<style scoped>\n",
       "    .dataframe tbody tr th:only-of-type {\n",
       "        vertical-align: middle;\n",
       "    }\n",
       "\n",
       "    .dataframe tbody tr th {\n",
       "        vertical-align: top;\n",
       "    }\n",
       "\n",
       "    .dataframe thead th {\n",
       "        text-align: right;\n",
       "    }\n",
       "</style>\n",
       "<table border=\"1\" class=\"dataframe\">\n",
       "  <thead>\n",
       "    <tr style=\"text-align: right;\">\n",
       "      <th></th>\n",
       "      <th>name</th>\n",
       "      <th>platform</th>\n",
       "      <th>year_of_release</th>\n",
       "      <th>genre</th>\n",
       "      <th>na_sales</th>\n",
       "      <th>eu_sales</th>\n",
       "      <th>jp_sales</th>\n",
       "      <th>other_sales</th>\n",
       "      <th>critic_score</th>\n",
       "      <th>user_score</th>\n",
       "      <th>rating</th>\n",
       "      <th>total_sales</th>\n",
       "    </tr>\n",
       "  </thead>\n",
       "  <tbody>\n",
       "    <tr>\n",
       "      <th>14</th>\n",
       "      <td>Kinect Adventures!</td>\n",
       "      <td>X360</td>\n",
       "      <td>2010</td>\n",
       "      <td>Misc</td>\n",
       "      <td>15.00</td>\n",
       "      <td>4.89</td>\n",
       "      <td>0.24</td>\n",
       "      <td>1.69</td>\n",
       "      <td>61.0</td>\n",
       "      <td>6.3</td>\n",
       "      <td>E</td>\n",
       "      <td>21.82</td>\n",
       "    </tr>\n",
       "    <tr>\n",
       "      <th>23</th>\n",
       "      <td>Grand Theft Auto V</td>\n",
       "      <td>X360</td>\n",
       "      <td>2013</td>\n",
       "      <td>Action</td>\n",
       "      <td>9.66</td>\n",
       "      <td>5.14</td>\n",
       "      <td>0.06</td>\n",
       "      <td>1.41</td>\n",
       "      <td>97.0</td>\n",
       "      <td>8.1</td>\n",
       "      <td>M</td>\n",
       "      <td>16.27</td>\n",
       "    </tr>\n",
       "    <tr>\n",
       "      <th>29</th>\n",
       "      <td>Call of Duty: Modern Warfare 3</td>\n",
       "      <td>X360</td>\n",
       "      <td>2011</td>\n",
       "      <td>Shooter</td>\n",
       "      <td>9.04</td>\n",
       "      <td>4.24</td>\n",
       "      <td>0.13</td>\n",
       "      <td>1.32</td>\n",
       "      <td>88.0</td>\n",
       "      <td>3.4</td>\n",
       "      <td>M</td>\n",
       "      <td>14.73</td>\n",
       "    </tr>\n",
       "    <tr>\n",
       "      <th>32</th>\n",
       "      <td>Call of Duty: Black Ops</td>\n",
       "      <td>X360</td>\n",
       "      <td>2010</td>\n",
       "      <td>Shooter</td>\n",
       "      <td>9.70</td>\n",
       "      <td>3.68</td>\n",
       "      <td>0.11</td>\n",
       "      <td>1.13</td>\n",
       "      <td>87.0</td>\n",
       "      <td>6.3</td>\n",
       "      <td>M</td>\n",
       "      <td>14.62</td>\n",
       "    </tr>\n",
       "    <tr>\n",
       "      <th>35</th>\n",
       "      <td>Call of Duty: Black Ops II</td>\n",
       "      <td>X360</td>\n",
       "      <td>2012</td>\n",
       "      <td>Shooter</td>\n",
       "      <td>8.25</td>\n",
       "      <td>4.24</td>\n",
       "      <td>0.07</td>\n",
       "      <td>1.12</td>\n",
       "      <td>83.0</td>\n",
       "      <td>4.8</td>\n",
       "      <td>M</td>\n",
       "      <td>13.68</td>\n",
       "    </tr>\n",
       "  </tbody>\n",
       "</table>\n",
       "</div>"
      ],
      "text/plain": [
       "                              name platform  year_of_release    genre  \\\n",
       "14              Kinect Adventures!     X360             2010     Misc   \n",
       "23              Grand Theft Auto V     X360             2013   Action   \n",
       "29  Call of Duty: Modern Warfare 3     X360             2011  Shooter   \n",
       "32         Call of Duty: Black Ops     X360             2010  Shooter   \n",
       "35      Call of Duty: Black Ops II     X360             2012  Shooter   \n",
       "\n",
       "    na_sales  eu_sales  jp_sales  other_sales  critic_score  user_score  \\\n",
       "14     15.00      4.89      0.24         1.69          61.0         6.3   \n",
       "23      9.66      5.14      0.06         1.41          97.0         8.1   \n",
       "29      9.04      4.24      0.13         1.32          88.0         3.4   \n",
       "32      9.70      3.68      0.11         1.13          87.0         6.3   \n",
       "35      8.25      4.24      0.07         1.12          83.0         4.8   \n",
       "\n",
       "   rating  total_sales  \n",
       "14      E        21.82  \n",
       "23      M        16.27  \n",
       "29      M        14.73  \n",
       "32      M        14.62  \n",
       "35      M        13.68  "
      ]
     },
     "execution_count": 28,
     "metadata": {},
     "output_type": "execute_result"
    }
   ],
   "source": [
    "x_360 = df[df['platform'] == 'X360']\n",
    "\n",
    "x_360.head()"
   ]
  },
  {
   "cell_type": "markdown",
   "metadata": {},
   "source": [
    "Code Meaning:\n",
    "1) Create a new filtered dataframe called wii that only displays results that have Wii listed as a result for the platform column.\n",
    "2) Use the head() method to print the first five lines of the wii dataframe.\n",
    "\n",
    "Code Result:\n",
    "The entries in the rows of the wii dataframe appear to be listed correctly.  The wii dataframe was created successfully."
   ]
  },
  {
   "cell_type": "code",
   "execution_count": 29,
   "metadata": {},
   "outputs": [
    {
     "data": {
      "text/html": [
       "<div>\n",
       "<style scoped>\n",
       "    .dataframe tbody tr th:only-of-type {\n",
       "        vertical-align: middle;\n",
       "    }\n",
       "\n",
       "    .dataframe tbody tr th {\n",
       "        vertical-align: top;\n",
       "    }\n",
       "\n",
       "    .dataframe thead th {\n",
       "        text-align: right;\n",
       "    }\n",
       "</style>\n",
       "<table border=\"1\" class=\"dataframe\">\n",
       "  <thead>\n",
       "    <tr style=\"text-align: right;\">\n",
       "      <th></th>\n",
       "      <th>name</th>\n",
       "      <th>platform</th>\n",
       "      <th>year_of_release</th>\n",
       "      <th>genre</th>\n",
       "      <th>na_sales</th>\n",
       "      <th>eu_sales</th>\n",
       "      <th>jp_sales</th>\n",
       "      <th>other_sales</th>\n",
       "      <th>critic_score</th>\n",
       "      <th>user_score</th>\n",
       "      <th>rating</th>\n",
       "      <th>total_sales</th>\n",
       "    </tr>\n",
       "  </thead>\n",
       "  <tbody>\n",
       "    <tr>\n",
       "      <th>0</th>\n",
       "      <td>Wii Sports</td>\n",
       "      <td>Wii</td>\n",
       "      <td>2006</td>\n",
       "      <td>Sports</td>\n",
       "      <td>41.36</td>\n",
       "      <td>28.96</td>\n",
       "      <td>3.77</td>\n",
       "      <td>8.45</td>\n",
       "      <td>76.0</td>\n",
       "      <td>8.0</td>\n",
       "      <td>E</td>\n",
       "      <td>82.54</td>\n",
       "    </tr>\n",
       "    <tr>\n",
       "      <th>2</th>\n",
       "      <td>Mario Kart Wii</td>\n",
       "      <td>Wii</td>\n",
       "      <td>2008</td>\n",
       "      <td>Racing</td>\n",
       "      <td>15.68</td>\n",
       "      <td>12.76</td>\n",
       "      <td>3.79</td>\n",
       "      <td>3.29</td>\n",
       "      <td>82.0</td>\n",
       "      <td>8.3</td>\n",
       "      <td>E</td>\n",
       "      <td>35.52</td>\n",
       "    </tr>\n",
       "    <tr>\n",
       "      <th>3</th>\n",
       "      <td>Wii Sports Resort</td>\n",
       "      <td>Wii</td>\n",
       "      <td>2009</td>\n",
       "      <td>Sports</td>\n",
       "      <td>15.61</td>\n",
       "      <td>10.93</td>\n",
       "      <td>3.28</td>\n",
       "      <td>2.95</td>\n",
       "      <td>80.0</td>\n",
       "      <td>8.0</td>\n",
       "      <td>E</td>\n",
       "      <td>32.77</td>\n",
       "    </tr>\n",
       "    <tr>\n",
       "      <th>7</th>\n",
       "      <td>Wii Play</td>\n",
       "      <td>Wii</td>\n",
       "      <td>2006</td>\n",
       "      <td>Misc</td>\n",
       "      <td>13.96</td>\n",
       "      <td>9.18</td>\n",
       "      <td>2.93</td>\n",
       "      <td>2.84</td>\n",
       "      <td>58.0</td>\n",
       "      <td>6.6</td>\n",
       "      <td>E</td>\n",
       "      <td>28.91</td>\n",
       "    </tr>\n",
       "    <tr>\n",
       "      <th>8</th>\n",
       "      <td>New Super Mario Bros. Wii</td>\n",
       "      <td>Wii</td>\n",
       "      <td>2009</td>\n",
       "      <td>Platform</td>\n",
       "      <td>14.44</td>\n",
       "      <td>6.94</td>\n",
       "      <td>4.70</td>\n",
       "      <td>2.24</td>\n",
       "      <td>87.0</td>\n",
       "      <td>8.4</td>\n",
       "      <td>E</td>\n",
       "      <td>28.32</td>\n",
       "    </tr>\n",
       "  </tbody>\n",
       "</table>\n",
       "</div>"
      ],
      "text/plain": [
       "                        name platform  year_of_release     genre  na_sales  \\\n",
       "0                 Wii Sports      Wii             2006    Sports     41.36   \n",
       "2             Mario Kart Wii      Wii             2008    Racing     15.68   \n",
       "3          Wii Sports Resort      Wii             2009    Sports     15.61   \n",
       "7                   Wii Play      Wii             2006      Misc     13.96   \n",
       "8  New Super Mario Bros. Wii      Wii             2009  Platform     14.44   \n",
       "\n",
       "   eu_sales  jp_sales  other_sales  critic_score  user_score rating  \\\n",
       "0     28.96      3.77         8.45          76.0         8.0      E   \n",
       "2     12.76      3.79         3.29          82.0         8.3      E   \n",
       "3     10.93      3.28         2.95          80.0         8.0      E   \n",
       "7      9.18      2.93         2.84          58.0         6.6      E   \n",
       "8      6.94      4.70         2.24          87.0         8.4      E   \n",
       "\n",
       "   total_sales  \n",
       "0        82.54  \n",
       "2        35.52  \n",
       "3        32.77  \n",
       "7        28.91  \n",
       "8        28.32  "
      ]
     },
     "execution_count": 29,
     "metadata": {},
     "output_type": "execute_result"
    }
   ],
   "source": [
    "wii = df[df['platform'] == 'Wii']\n",
    "\n",
    "wii.head()"
   ]
  },
  {
   "cell_type": "markdown",
   "metadata": {},
   "source": [
    "Code Meaning:\n",
    "1) Use px.bar() in order to create a bar chart titled: 'PS2 Total Sales per Year'.\n",
    "2) Use the year_of_release column as the x axis of the chart and the total_sales column as the y axis of the chart.\n",
    "3) Assign the result to ps_2_bar in order to save the result.\n",
    "4) Use the update_xaxes() method in order to set the tick values of the x axis as each individual unique value of the year_of_release column of the ps_2 dataframe. Set the tick text to display each value on the x axis as each individual unique value of the year_of_release column of the ps_2 dataframe as an integer.\n",
    "5) Use the show() method in order to display the ps_2_bar bar chart."
   ]
  },
  {
   "cell_type": "markdown",
   "metadata": {},
   "source": [
    "Code Meaning: \n",
    "1) In order to get rid of stacked values in the data for the bar chart by using the groupby function on the ps_2 dataframe and grouping by platform.\n",
    "2) In the same line of code, use the sum() method in on the total_sales column of the ps_2 dataframe in order to sum up the total values.\n",
    "3) Assign the code to ps_2_sum in order to save the result.\n",
    "4) Use the reset_index() method on the ps_2_sum dataframe.\n",
    "5) Use the rename() method in order to rename the total_sales column to total_sales_sum. Use columns= as the parameter.\n",
    "6) Use the head() function in order to print the first five lines of ps_2_sum.\n",
    "\n",
    "Code Result:\n",
    "ps_2_sum was created successfully."
   ]
  },
  {
   "cell_type": "code",
   "execution_count": 30,
   "metadata": {},
   "outputs": [
    {
     "data": {
      "text/html": [
       "<div>\n",
       "<style scoped>\n",
       "    .dataframe tbody tr th:only-of-type {\n",
       "        vertical-align: middle;\n",
       "    }\n",
       "\n",
       "    .dataframe tbody tr th {\n",
       "        vertical-align: top;\n",
       "    }\n",
       "\n",
       "    .dataframe thead th {\n",
       "        text-align: right;\n",
       "    }\n",
       "</style>\n",
       "<table border=\"1\" class=\"dataframe\">\n",
       "  <thead>\n",
       "    <tr style=\"text-align: right;\">\n",
       "      <th></th>\n",
       "      <th>year_of_release</th>\n",
       "      <th>total_sales_sum</th>\n",
       "    </tr>\n",
       "  </thead>\n",
       "  <tbody>\n",
       "    <tr>\n",
       "      <th>0</th>\n",
       "      <td>2000</td>\n",
       "      <td>29.50</td>\n",
       "    </tr>\n",
       "    <tr>\n",
       "      <th>1</th>\n",
       "      <td>2001</td>\n",
       "      <td>145.96</td>\n",
       "    </tr>\n",
       "    <tr>\n",
       "      <th>2</th>\n",
       "      <td>2002</td>\n",
       "      <td>169.99</td>\n",
       "    </tr>\n",
       "    <tr>\n",
       "      <th>3</th>\n",
       "      <td>2003</td>\n",
       "      <td>144.27</td>\n",
       "    </tr>\n",
       "    <tr>\n",
       "      <th>4</th>\n",
       "      <td>2004</td>\n",
       "      <td>188.34</td>\n",
       "    </tr>\n",
       "  </tbody>\n",
       "</table>\n",
       "</div>"
      ],
      "text/plain": [
       "   year_of_release  total_sales_sum\n",
       "0             2000            29.50\n",
       "1             2001           145.96\n",
       "2             2002           169.99\n",
       "3             2003           144.27\n",
       "4             2004           188.34"
      ]
     },
     "execution_count": 30,
     "metadata": {},
     "output_type": "execute_result"
    }
   ],
   "source": [
    "ps_2_sum = ps_2.groupby('year_of_release')['total_sales'].sum()\n",
    "ps_2_sum = ps_2_sum.reset_index().rename(columns={'total_sales': 'total_sales_sum'})\n",
    "\n",
    "ps_2_sum.head()"
   ]
  },
  {
   "cell_type": "code",
   "execution_count": 31,
   "metadata": {},
   "outputs": [
    {
     "data": {
      "application/vnd.plotly.v1+json": {
       "config": {
        "plotlyServerURL": "https://plot.ly"
       },
       "data": [
        {
         "alignmentgroup": "True",
         "hovertemplate": "Year Of Release=%{x}<br>Sum of Total Sales=%{y}<extra></extra>",
         "legendgroup": "",
         "marker": {
          "color": "#636efa",
          "pattern": {
           "shape": ""
          }
         },
         "name": "",
         "offsetgroup": "",
         "orientation": "v",
         "showlegend": false,
         "textposition": "auto",
         "type": "bar",
         "x": [
          2000,
          2001,
          2002,
          2003,
          2004,
          2005,
          2006,
          2007,
          2008,
          2009,
          2010
         ],
         "xaxis": "x",
         "y": [
          29.5,
          145.96,
          169.99,
          144.27,
          188.34,
          117.7,
          75.98,
          64.49,
          21.15,
          4.45,
          0.59
         ],
         "yaxis": "y"
        }
       ],
       "layout": {
        "barmode": "relative",
        "legend": {
         "tracegroupgap": 0
        },
        "template": {
         "data": {
          "bar": [
           {
            "error_x": {
             "color": "#2a3f5f"
            },
            "error_y": {
             "color": "#2a3f5f"
            },
            "marker": {
             "line": {
              "color": "#E5ECF6",
              "width": 0.5
             },
             "pattern": {
              "fillmode": "overlay",
              "size": 10,
              "solidity": 0.2
             }
            },
            "type": "bar"
           }
          ],
          "barpolar": [
           {
            "marker": {
             "line": {
              "color": "#E5ECF6",
              "width": 0.5
             },
             "pattern": {
              "fillmode": "overlay",
              "size": 10,
              "solidity": 0.2
             }
            },
            "type": "barpolar"
           }
          ],
          "carpet": [
           {
            "aaxis": {
             "endlinecolor": "#2a3f5f",
             "gridcolor": "white",
             "linecolor": "white",
             "minorgridcolor": "white",
             "startlinecolor": "#2a3f5f"
            },
            "baxis": {
             "endlinecolor": "#2a3f5f",
             "gridcolor": "white",
             "linecolor": "white",
             "minorgridcolor": "white",
             "startlinecolor": "#2a3f5f"
            },
            "type": "carpet"
           }
          ],
          "choropleth": [
           {
            "colorbar": {
             "outlinewidth": 0,
             "ticks": ""
            },
            "type": "choropleth"
           }
          ],
          "contour": [
           {
            "colorbar": {
             "outlinewidth": 0,
             "ticks": ""
            },
            "colorscale": [
             [
              0,
              "#0d0887"
             ],
             [
              0.1111111111111111,
              "#46039f"
             ],
             [
              0.2222222222222222,
              "#7201a8"
             ],
             [
              0.3333333333333333,
              "#9c179e"
             ],
             [
              0.4444444444444444,
              "#bd3786"
             ],
             [
              0.5555555555555556,
              "#d8576b"
             ],
             [
              0.6666666666666666,
              "#ed7953"
             ],
             [
              0.7777777777777778,
              "#fb9f3a"
             ],
             [
              0.8888888888888888,
              "#fdca26"
             ],
             [
              1,
              "#f0f921"
             ]
            ],
            "type": "contour"
           }
          ],
          "contourcarpet": [
           {
            "colorbar": {
             "outlinewidth": 0,
             "ticks": ""
            },
            "type": "contourcarpet"
           }
          ],
          "heatmap": [
           {
            "colorbar": {
             "outlinewidth": 0,
             "ticks": ""
            },
            "colorscale": [
             [
              0,
              "#0d0887"
             ],
             [
              0.1111111111111111,
              "#46039f"
             ],
             [
              0.2222222222222222,
              "#7201a8"
             ],
             [
              0.3333333333333333,
              "#9c179e"
             ],
             [
              0.4444444444444444,
              "#bd3786"
             ],
             [
              0.5555555555555556,
              "#d8576b"
             ],
             [
              0.6666666666666666,
              "#ed7953"
             ],
             [
              0.7777777777777778,
              "#fb9f3a"
             ],
             [
              0.8888888888888888,
              "#fdca26"
             ],
             [
              1,
              "#f0f921"
             ]
            ],
            "type": "heatmap"
           }
          ],
          "heatmapgl": [
           {
            "colorbar": {
             "outlinewidth": 0,
             "ticks": ""
            },
            "colorscale": [
             [
              0,
              "#0d0887"
             ],
             [
              0.1111111111111111,
              "#46039f"
             ],
             [
              0.2222222222222222,
              "#7201a8"
             ],
             [
              0.3333333333333333,
              "#9c179e"
             ],
             [
              0.4444444444444444,
              "#bd3786"
             ],
             [
              0.5555555555555556,
              "#d8576b"
             ],
             [
              0.6666666666666666,
              "#ed7953"
             ],
             [
              0.7777777777777778,
              "#fb9f3a"
             ],
             [
              0.8888888888888888,
              "#fdca26"
             ],
             [
              1,
              "#f0f921"
             ]
            ],
            "type": "heatmapgl"
           }
          ],
          "histogram": [
           {
            "marker": {
             "pattern": {
              "fillmode": "overlay",
              "size": 10,
              "solidity": 0.2
             }
            },
            "type": "histogram"
           }
          ],
          "histogram2d": [
           {
            "colorbar": {
             "outlinewidth": 0,
             "ticks": ""
            },
            "colorscale": [
             [
              0,
              "#0d0887"
             ],
             [
              0.1111111111111111,
              "#46039f"
             ],
             [
              0.2222222222222222,
              "#7201a8"
             ],
             [
              0.3333333333333333,
              "#9c179e"
             ],
             [
              0.4444444444444444,
              "#bd3786"
             ],
             [
              0.5555555555555556,
              "#d8576b"
             ],
             [
              0.6666666666666666,
              "#ed7953"
             ],
             [
              0.7777777777777778,
              "#fb9f3a"
             ],
             [
              0.8888888888888888,
              "#fdca26"
             ],
             [
              1,
              "#f0f921"
             ]
            ],
            "type": "histogram2d"
           }
          ],
          "histogram2dcontour": [
           {
            "colorbar": {
             "outlinewidth": 0,
             "ticks": ""
            },
            "colorscale": [
             [
              0,
              "#0d0887"
             ],
             [
              0.1111111111111111,
              "#46039f"
             ],
             [
              0.2222222222222222,
              "#7201a8"
             ],
             [
              0.3333333333333333,
              "#9c179e"
             ],
             [
              0.4444444444444444,
              "#bd3786"
             ],
             [
              0.5555555555555556,
              "#d8576b"
             ],
             [
              0.6666666666666666,
              "#ed7953"
             ],
             [
              0.7777777777777778,
              "#fb9f3a"
             ],
             [
              0.8888888888888888,
              "#fdca26"
             ],
             [
              1,
              "#f0f921"
             ]
            ],
            "type": "histogram2dcontour"
           }
          ],
          "mesh3d": [
           {
            "colorbar": {
             "outlinewidth": 0,
             "ticks": ""
            },
            "type": "mesh3d"
           }
          ],
          "parcoords": [
           {
            "line": {
             "colorbar": {
              "outlinewidth": 0,
              "ticks": ""
             }
            },
            "type": "parcoords"
           }
          ],
          "pie": [
           {
            "automargin": true,
            "type": "pie"
           }
          ],
          "scatter": [
           {
            "fillpattern": {
             "fillmode": "overlay",
             "size": 10,
             "solidity": 0.2
            },
            "type": "scatter"
           }
          ],
          "scatter3d": [
           {
            "line": {
             "colorbar": {
              "outlinewidth": 0,
              "ticks": ""
             }
            },
            "marker": {
             "colorbar": {
              "outlinewidth": 0,
              "ticks": ""
             }
            },
            "type": "scatter3d"
           }
          ],
          "scattercarpet": [
           {
            "marker": {
             "colorbar": {
              "outlinewidth": 0,
              "ticks": ""
             }
            },
            "type": "scattercarpet"
           }
          ],
          "scattergeo": [
           {
            "marker": {
             "colorbar": {
              "outlinewidth": 0,
              "ticks": ""
             }
            },
            "type": "scattergeo"
           }
          ],
          "scattergl": [
           {
            "marker": {
             "colorbar": {
              "outlinewidth": 0,
              "ticks": ""
             }
            },
            "type": "scattergl"
           }
          ],
          "scattermapbox": [
           {
            "marker": {
             "colorbar": {
              "outlinewidth": 0,
              "ticks": ""
             }
            },
            "type": "scattermapbox"
           }
          ],
          "scatterpolar": [
           {
            "marker": {
             "colorbar": {
              "outlinewidth": 0,
              "ticks": ""
             }
            },
            "type": "scatterpolar"
           }
          ],
          "scatterpolargl": [
           {
            "marker": {
             "colorbar": {
              "outlinewidth": 0,
              "ticks": ""
             }
            },
            "type": "scatterpolargl"
           }
          ],
          "scatterternary": [
           {
            "marker": {
             "colorbar": {
              "outlinewidth": 0,
              "ticks": ""
             }
            },
            "type": "scatterternary"
           }
          ],
          "surface": [
           {
            "colorbar": {
             "outlinewidth": 0,
             "ticks": ""
            },
            "colorscale": [
             [
              0,
              "#0d0887"
             ],
             [
              0.1111111111111111,
              "#46039f"
             ],
             [
              0.2222222222222222,
              "#7201a8"
             ],
             [
              0.3333333333333333,
              "#9c179e"
             ],
             [
              0.4444444444444444,
              "#bd3786"
             ],
             [
              0.5555555555555556,
              "#d8576b"
             ],
             [
              0.6666666666666666,
              "#ed7953"
             ],
             [
              0.7777777777777778,
              "#fb9f3a"
             ],
             [
              0.8888888888888888,
              "#fdca26"
             ],
             [
              1,
              "#f0f921"
             ]
            ],
            "type": "surface"
           }
          ],
          "table": [
           {
            "cells": {
             "fill": {
              "color": "#EBF0F8"
             },
             "line": {
              "color": "white"
             }
            },
            "header": {
             "fill": {
              "color": "#C8D4E3"
             },
             "line": {
              "color": "white"
             }
            },
            "type": "table"
           }
          ]
         },
         "layout": {
          "annotationdefaults": {
           "arrowcolor": "#2a3f5f",
           "arrowhead": 0,
           "arrowwidth": 1
          },
          "autotypenumbers": "strict",
          "coloraxis": {
           "colorbar": {
            "outlinewidth": 0,
            "ticks": ""
           }
          },
          "colorscale": {
           "diverging": [
            [
             0,
             "#8e0152"
            ],
            [
             0.1,
             "#c51b7d"
            ],
            [
             0.2,
             "#de77ae"
            ],
            [
             0.3,
             "#f1b6da"
            ],
            [
             0.4,
             "#fde0ef"
            ],
            [
             0.5,
             "#f7f7f7"
            ],
            [
             0.6,
             "#e6f5d0"
            ],
            [
             0.7,
             "#b8e186"
            ],
            [
             0.8,
             "#7fbc41"
            ],
            [
             0.9,
             "#4d9221"
            ],
            [
             1,
             "#276419"
            ]
           ],
           "sequential": [
            [
             0,
             "#0d0887"
            ],
            [
             0.1111111111111111,
             "#46039f"
            ],
            [
             0.2222222222222222,
             "#7201a8"
            ],
            [
             0.3333333333333333,
             "#9c179e"
            ],
            [
             0.4444444444444444,
             "#bd3786"
            ],
            [
             0.5555555555555556,
             "#d8576b"
            ],
            [
             0.6666666666666666,
             "#ed7953"
            ],
            [
             0.7777777777777778,
             "#fb9f3a"
            ],
            [
             0.8888888888888888,
             "#fdca26"
            ],
            [
             1,
             "#f0f921"
            ]
           ],
           "sequentialminus": [
            [
             0,
             "#0d0887"
            ],
            [
             0.1111111111111111,
             "#46039f"
            ],
            [
             0.2222222222222222,
             "#7201a8"
            ],
            [
             0.3333333333333333,
             "#9c179e"
            ],
            [
             0.4444444444444444,
             "#bd3786"
            ],
            [
             0.5555555555555556,
             "#d8576b"
            ],
            [
             0.6666666666666666,
             "#ed7953"
            ],
            [
             0.7777777777777778,
             "#fb9f3a"
            ],
            [
             0.8888888888888888,
             "#fdca26"
            ],
            [
             1,
             "#f0f921"
            ]
           ]
          },
          "colorway": [
           "#636efa",
           "#EF553B",
           "#00cc96",
           "#ab63fa",
           "#FFA15A",
           "#19d3f3",
           "#FF6692",
           "#B6E880",
           "#FF97FF",
           "#FECB52"
          ],
          "font": {
           "color": "#2a3f5f"
          },
          "geo": {
           "bgcolor": "white",
           "lakecolor": "white",
           "landcolor": "#E5ECF6",
           "showlakes": true,
           "showland": true,
           "subunitcolor": "white"
          },
          "hoverlabel": {
           "align": "left"
          },
          "hovermode": "closest",
          "mapbox": {
           "style": "light"
          },
          "paper_bgcolor": "white",
          "plot_bgcolor": "#E5ECF6",
          "polar": {
           "angularaxis": {
            "gridcolor": "white",
            "linecolor": "white",
            "ticks": ""
           },
           "bgcolor": "#E5ECF6",
           "radialaxis": {
            "gridcolor": "white",
            "linecolor": "white",
            "ticks": ""
           }
          },
          "scene": {
           "xaxis": {
            "backgroundcolor": "#E5ECF6",
            "gridcolor": "white",
            "gridwidth": 2,
            "linecolor": "white",
            "showbackground": true,
            "ticks": "",
            "zerolinecolor": "white"
           },
           "yaxis": {
            "backgroundcolor": "#E5ECF6",
            "gridcolor": "white",
            "gridwidth": 2,
            "linecolor": "white",
            "showbackground": true,
            "ticks": "",
            "zerolinecolor": "white"
           },
           "zaxis": {
            "backgroundcolor": "#E5ECF6",
            "gridcolor": "white",
            "gridwidth": 2,
            "linecolor": "white",
            "showbackground": true,
            "ticks": "",
            "zerolinecolor": "white"
           }
          },
          "shapedefaults": {
           "line": {
            "color": "#2a3f5f"
           }
          },
          "ternary": {
           "aaxis": {
            "gridcolor": "white",
            "linecolor": "white",
            "ticks": ""
           },
           "baxis": {
            "gridcolor": "white",
            "linecolor": "white",
            "ticks": ""
           },
           "bgcolor": "#E5ECF6",
           "caxis": {
            "gridcolor": "white",
            "linecolor": "white",
            "ticks": ""
           }
          },
          "title": {
           "x": 0.05
          },
          "xaxis": {
           "automargin": true,
           "gridcolor": "white",
           "linecolor": "white",
           "ticks": "",
           "title": {
            "standoff": 15
           },
           "zerolinecolor": "white",
           "zerolinewidth": 2
          },
          "yaxis": {
           "automargin": true,
           "gridcolor": "white",
           "linecolor": "white",
           "ticks": "",
           "title": {
            "standoff": 15
           },
           "zerolinecolor": "white",
           "zerolinewidth": 2
          }
         }
        },
        "title": {
         "text": "PS2 Total Sales per Year"
        },
        "xaxis": {
         "anchor": "y",
         "domain": [
          0,
          1
         ],
         "ticktext": [
          2004,
          2002,
          2001,
          2003,
          2006,
          2007,
          2005,
          2000,
          2008,
          2009,
          2010
         ],
         "tickvals": [
          2004,
          2002,
          2001,
          2003,
          2006,
          2007,
          2005,
          2000,
          2008,
          2009,
          2010
         ],
         "title": {
          "text": "Year Of Release"
         }
        },
        "yaxis": {
         "anchor": "x",
         "domain": [
          0,
          1
         ],
         "title": {
          "text": "Sum of Total Sales"
         }
        }
       }
      }
     },
     "metadata": {},
     "output_type": "display_data"
    }
   ],
   "source": [
    "ps_2_bar = px.bar(ps_2_sum, x='year_of_release', y='total_sales_sum',labels={\"total_sales_sum\": \"Sum of Total Sales\",\"year_of_release\": \"Year Of Release\" }, title='PS2 Total Sales per Year')\n",
    "\n",
    "ps_2_bar.update_xaxes(tickvals=ps_2['year_of_release'].unique(), ticktext=[int(x) for x in ps_2['year_of_release'].unique()])\n",
    "\n",
    "ps_2_bar.show()"
   ]
  },
  {
   "cell_type": "markdown",
   "metadata": {},
   "source": [
    "Conclusion:  It appears that PS2 sales were highest in the year 2004 with $211.81 M total sales noted and PS2 sales were lowest in the year 2011 with $0.45 M in total sales noted."
   ]
  },
  {
   "cell_type": "markdown",
   "metadata": {},
   "source": [
    "Code Meaning: \n",
    "1) In order to get rid of stacked values in the data for the bar chart by using the groupby function on x_360 dataframe and grouping by platform.\n",
    "2) In the same line of code, use the sum() method in on the total_sales column of the x_360 dataframe in order to sum up the total values.\n",
    "3) Assign the code to x_360_sum in order to save the result.\n",
    "4) Use the reset_index() method on the x_360_sum dataframe.\n",
    "5) Use the rename() method in order to rename the total_sales column to total_sales_sum. Use columns= as the parameter.\n",
    "6) Use the head() function in order to print the first five lines of x360_sum.\n",
    "\n",
    "Code Result:\n",
    "x360_sum was created successfully."
   ]
  },
  {
   "cell_type": "code",
   "execution_count": 32,
   "metadata": {},
   "outputs": [
    {
     "data": {
      "text/html": [
       "<div>\n",
       "<style scoped>\n",
       "    .dataframe tbody tr th:only-of-type {\n",
       "        vertical-align: middle;\n",
       "    }\n",
       "\n",
       "    .dataframe tbody tr th {\n",
       "        vertical-align: top;\n",
       "    }\n",
       "\n",
       "    .dataframe thead th {\n",
       "        text-align: right;\n",
       "    }\n",
       "</style>\n",
       "<table border=\"1\" class=\"dataframe\">\n",
       "  <thead>\n",
       "    <tr style=\"text-align: right;\">\n",
       "      <th></th>\n",
       "      <th>year_of_release</th>\n",
       "      <th>total_sales_sum</th>\n",
       "    </tr>\n",
       "  </thead>\n",
       "  <tbody>\n",
       "    <tr>\n",
       "      <th>0</th>\n",
       "      <td>2005</td>\n",
       "      <td>7.64</td>\n",
       "    </tr>\n",
       "    <tr>\n",
       "      <th>1</th>\n",
       "      <td>2006</td>\n",
       "      <td>48.92</td>\n",
       "    </tr>\n",
       "    <tr>\n",
       "      <th>2</th>\n",
       "      <td>2007</td>\n",
       "      <td>99.11</td>\n",
       "    </tr>\n",
       "    <tr>\n",
       "      <th>3</th>\n",
       "      <td>2008</td>\n",
       "      <td>129.16</td>\n",
       "    </tr>\n",
       "    <tr>\n",
       "      <th>4</th>\n",
       "      <td>2009</td>\n",
       "      <td>110.67</td>\n",
       "    </tr>\n",
       "  </tbody>\n",
       "</table>\n",
       "</div>"
      ],
      "text/plain": [
       "   year_of_release  total_sales_sum\n",
       "0             2005             7.64\n",
       "1             2006            48.92\n",
       "2             2007            99.11\n",
       "3             2008           129.16\n",
       "4             2009           110.67"
      ]
     },
     "execution_count": 32,
     "metadata": {},
     "output_type": "execute_result"
    }
   ],
   "source": [
    "x_360_sum = x_360.groupby('year_of_release')['total_sales'].sum()\n",
    "x_360_sum = x_360_sum.reset_index().rename(columns={'total_sales': 'total_sales_sum'})\n",
    "x_360_sum.head()"
   ]
  },
  {
   "cell_type": "markdown",
   "metadata": {},
   "source": [
    "Code Meaning:\n",
    "1) Use px.bar() in order to create a bar chart titled: 'X360 Total Sales per Year'.\n",
    "2) Use the year_of_release column as the x axis of the chart and the total_sales column as the y axis of the chart.\n",
    "3) Assign the result to X360_bar in order to save the result.\n",
    "4) Use the update_xaxes() method in order to set the tick values of the x axis as each individual unique value of the year_of_release column of the X_360 dataframe. Set the tick text to display each value on the x axis as each individual unique value of the year_of_release column of the X_360 dataframe as an integer.\n",
    "5) Use the show() method in order to display the X_360_bar bar chart."
   ]
  },
  {
   "cell_type": "code",
   "execution_count": 33,
   "metadata": {},
   "outputs": [
    {
     "data": {
      "application/vnd.plotly.v1+json": {
       "config": {
        "plotlyServerURL": "https://plot.ly"
       },
       "data": [
        {
         "alignmentgroup": "True",
         "hovertemplate": "Year of Release=%{x}<br>Sum of Total Sales=%{y}<extra></extra>",
         "legendgroup": "",
         "marker": {
          "color": "#636efa",
          "pattern": {
           "shape": ""
          }
         },
         "name": "",
         "offsetgroup": "",
         "orientation": "v",
         "showlegend": false,
         "textposition": "auto",
         "type": "bar",
         "x": [
          2005,
          2006,
          2007,
          2008,
          2009,
          2010,
          2011,
          2012,
          2013,
          2014
         ],
         "xaxis": "x",
         "y": [
          7.640000000000001,
          48.92,
          99.11,
          129.16,
          110.67,
          157.41,
          129.53,
          95.68,
          75.17,
          10.1
         ],
         "yaxis": "y"
        }
       ],
       "layout": {
        "barmode": "relative",
        "legend": {
         "tracegroupgap": 0
        },
        "template": {
         "data": {
          "bar": [
           {
            "error_x": {
             "color": "#2a3f5f"
            },
            "error_y": {
             "color": "#2a3f5f"
            },
            "marker": {
             "line": {
              "color": "#E5ECF6",
              "width": 0.5
             },
             "pattern": {
              "fillmode": "overlay",
              "size": 10,
              "solidity": 0.2
             }
            },
            "type": "bar"
           }
          ],
          "barpolar": [
           {
            "marker": {
             "line": {
              "color": "#E5ECF6",
              "width": 0.5
             },
             "pattern": {
              "fillmode": "overlay",
              "size": 10,
              "solidity": 0.2
             }
            },
            "type": "barpolar"
           }
          ],
          "carpet": [
           {
            "aaxis": {
             "endlinecolor": "#2a3f5f",
             "gridcolor": "white",
             "linecolor": "white",
             "minorgridcolor": "white",
             "startlinecolor": "#2a3f5f"
            },
            "baxis": {
             "endlinecolor": "#2a3f5f",
             "gridcolor": "white",
             "linecolor": "white",
             "minorgridcolor": "white",
             "startlinecolor": "#2a3f5f"
            },
            "type": "carpet"
           }
          ],
          "choropleth": [
           {
            "colorbar": {
             "outlinewidth": 0,
             "ticks": ""
            },
            "type": "choropleth"
           }
          ],
          "contour": [
           {
            "colorbar": {
             "outlinewidth": 0,
             "ticks": ""
            },
            "colorscale": [
             [
              0,
              "#0d0887"
             ],
             [
              0.1111111111111111,
              "#46039f"
             ],
             [
              0.2222222222222222,
              "#7201a8"
             ],
             [
              0.3333333333333333,
              "#9c179e"
             ],
             [
              0.4444444444444444,
              "#bd3786"
             ],
             [
              0.5555555555555556,
              "#d8576b"
             ],
             [
              0.6666666666666666,
              "#ed7953"
             ],
             [
              0.7777777777777778,
              "#fb9f3a"
             ],
             [
              0.8888888888888888,
              "#fdca26"
             ],
             [
              1,
              "#f0f921"
             ]
            ],
            "type": "contour"
           }
          ],
          "contourcarpet": [
           {
            "colorbar": {
             "outlinewidth": 0,
             "ticks": ""
            },
            "type": "contourcarpet"
           }
          ],
          "heatmap": [
           {
            "colorbar": {
             "outlinewidth": 0,
             "ticks": ""
            },
            "colorscale": [
             [
              0,
              "#0d0887"
             ],
             [
              0.1111111111111111,
              "#46039f"
             ],
             [
              0.2222222222222222,
              "#7201a8"
             ],
             [
              0.3333333333333333,
              "#9c179e"
             ],
             [
              0.4444444444444444,
              "#bd3786"
             ],
             [
              0.5555555555555556,
              "#d8576b"
             ],
             [
              0.6666666666666666,
              "#ed7953"
             ],
             [
              0.7777777777777778,
              "#fb9f3a"
             ],
             [
              0.8888888888888888,
              "#fdca26"
             ],
             [
              1,
              "#f0f921"
             ]
            ],
            "type": "heatmap"
           }
          ],
          "heatmapgl": [
           {
            "colorbar": {
             "outlinewidth": 0,
             "ticks": ""
            },
            "colorscale": [
             [
              0,
              "#0d0887"
             ],
             [
              0.1111111111111111,
              "#46039f"
             ],
             [
              0.2222222222222222,
              "#7201a8"
             ],
             [
              0.3333333333333333,
              "#9c179e"
             ],
             [
              0.4444444444444444,
              "#bd3786"
             ],
             [
              0.5555555555555556,
              "#d8576b"
             ],
             [
              0.6666666666666666,
              "#ed7953"
             ],
             [
              0.7777777777777778,
              "#fb9f3a"
             ],
             [
              0.8888888888888888,
              "#fdca26"
             ],
             [
              1,
              "#f0f921"
             ]
            ],
            "type": "heatmapgl"
           }
          ],
          "histogram": [
           {
            "marker": {
             "pattern": {
              "fillmode": "overlay",
              "size": 10,
              "solidity": 0.2
             }
            },
            "type": "histogram"
           }
          ],
          "histogram2d": [
           {
            "colorbar": {
             "outlinewidth": 0,
             "ticks": ""
            },
            "colorscale": [
             [
              0,
              "#0d0887"
             ],
             [
              0.1111111111111111,
              "#46039f"
             ],
             [
              0.2222222222222222,
              "#7201a8"
             ],
             [
              0.3333333333333333,
              "#9c179e"
             ],
             [
              0.4444444444444444,
              "#bd3786"
             ],
             [
              0.5555555555555556,
              "#d8576b"
             ],
             [
              0.6666666666666666,
              "#ed7953"
             ],
             [
              0.7777777777777778,
              "#fb9f3a"
             ],
             [
              0.8888888888888888,
              "#fdca26"
             ],
             [
              1,
              "#f0f921"
             ]
            ],
            "type": "histogram2d"
           }
          ],
          "histogram2dcontour": [
           {
            "colorbar": {
             "outlinewidth": 0,
             "ticks": ""
            },
            "colorscale": [
             [
              0,
              "#0d0887"
             ],
             [
              0.1111111111111111,
              "#46039f"
             ],
             [
              0.2222222222222222,
              "#7201a8"
             ],
             [
              0.3333333333333333,
              "#9c179e"
             ],
             [
              0.4444444444444444,
              "#bd3786"
             ],
             [
              0.5555555555555556,
              "#d8576b"
             ],
             [
              0.6666666666666666,
              "#ed7953"
             ],
             [
              0.7777777777777778,
              "#fb9f3a"
             ],
             [
              0.8888888888888888,
              "#fdca26"
             ],
             [
              1,
              "#f0f921"
             ]
            ],
            "type": "histogram2dcontour"
           }
          ],
          "mesh3d": [
           {
            "colorbar": {
             "outlinewidth": 0,
             "ticks": ""
            },
            "type": "mesh3d"
           }
          ],
          "parcoords": [
           {
            "line": {
             "colorbar": {
              "outlinewidth": 0,
              "ticks": ""
             }
            },
            "type": "parcoords"
           }
          ],
          "pie": [
           {
            "automargin": true,
            "type": "pie"
           }
          ],
          "scatter": [
           {
            "fillpattern": {
             "fillmode": "overlay",
             "size": 10,
             "solidity": 0.2
            },
            "type": "scatter"
           }
          ],
          "scatter3d": [
           {
            "line": {
             "colorbar": {
              "outlinewidth": 0,
              "ticks": ""
             }
            },
            "marker": {
             "colorbar": {
              "outlinewidth": 0,
              "ticks": ""
             }
            },
            "type": "scatter3d"
           }
          ],
          "scattercarpet": [
           {
            "marker": {
             "colorbar": {
              "outlinewidth": 0,
              "ticks": ""
             }
            },
            "type": "scattercarpet"
           }
          ],
          "scattergeo": [
           {
            "marker": {
             "colorbar": {
              "outlinewidth": 0,
              "ticks": ""
             }
            },
            "type": "scattergeo"
           }
          ],
          "scattergl": [
           {
            "marker": {
             "colorbar": {
              "outlinewidth": 0,
              "ticks": ""
             }
            },
            "type": "scattergl"
           }
          ],
          "scattermapbox": [
           {
            "marker": {
             "colorbar": {
              "outlinewidth": 0,
              "ticks": ""
             }
            },
            "type": "scattermapbox"
           }
          ],
          "scatterpolar": [
           {
            "marker": {
             "colorbar": {
              "outlinewidth": 0,
              "ticks": ""
             }
            },
            "type": "scatterpolar"
           }
          ],
          "scatterpolargl": [
           {
            "marker": {
             "colorbar": {
              "outlinewidth": 0,
              "ticks": ""
             }
            },
            "type": "scatterpolargl"
           }
          ],
          "scatterternary": [
           {
            "marker": {
             "colorbar": {
              "outlinewidth": 0,
              "ticks": ""
             }
            },
            "type": "scatterternary"
           }
          ],
          "surface": [
           {
            "colorbar": {
             "outlinewidth": 0,
             "ticks": ""
            },
            "colorscale": [
             [
              0,
              "#0d0887"
             ],
             [
              0.1111111111111111,
              "#46039f"
             ],
             [
              0.2222222222222222,
              "#7201a8"
             ],
             [
              0.3333333333333333,
              "#9c179e"
             ],
             [
              0.4444444444444444,
              "#bd3786"
             ],
             [
              0.5555555555555556,
              "#d8576b"
             ],
             [
              0.6666666666666666,
              "#ed7953"
             ],
             [
              0.7777777777777778,
              "#fb9f3a"
             ],
             [
              0.8888888888888888,
              "#fdca26"
             ],
             [
              1,
              "#f0f921"
             ]
            ],
            "type": "surface"
           }
          ],
          "table": [
           {
            "cells": {
             "fill": {
              "color": "#EBF0F8"
             },
             "line": {
              "color": "white"
             }
            },
            "header": {
             "fill": {
              "color": "#C8D4E3"
             },
             "line": {
              "color": "white"
             }
            },
            "type": "table"
           }
          ]
         },
         "layout": {
          "annotationdefaults": {
           "arrowcolor": "#2a3f5f",
           "arrowhead": 0,
           "arrowwidth": 1
          },
          "autotypenumbers": "strict",
          "coloraxis": {
           "colorbar": {
            "outlinewidth": 0,
            "ticks": ""
           }
          },
          "colorscale": {
           "diverging": [
            [
             0,
             "#8e0152"
            ],
            [
             0.1,
             "#c51b7d"
            ],
            [
             0.2,
             "#de77ae"
            ],
            [
             0.3,
             "#f1b6da"
            ],
            [
             0.4,
             "#fde0ef"
            ],
            [
             0.5,
             "#f7f7f7"
            ],
            [
             0.6,
             "#e6f5d0"
            ],
            [
             0.7,
             "#b8e186"
            ],
            [
             0.8,
             "#7fbc41"
            ],
            [
             0.9,
             "#4d9221"
            ],
            [
             1,
             "#276419"
            ]
           ],
           "sequential": [
            [
             0,
             "#0d0887"
            ],
            [
             0.1111111111111111,
             "#46039f"
            ],
            [
             0.2222222222222222,
             "#7201a8"
            ],
            [
             0.3333333333333333,
             "#9c179e"
            ],
            [
             0.4444444444444444,
             "#bd3786"
            ],
            [
             0.5555555555555556,
             "#d8576b"
            ],
            [
             0.6666666666666666,
             "#ed7953"
            ],
            [
             0.7777777777777778,
             "#fb9f3a"
            ],
            [
             0.8888888888888888,
             "#fdca26"
            ],
            [
             1,
             "#f0f921"
            ]
           ],
           "sequentialminus": [
            [
             0,
             "#0d0887"
            ],
            [
             0.1111111111111111,
             "#46039f"
            ],
            [
             0.2222222222222222,
             "#7201a8"
            ],
            [
             0.3333333333333333,
             "#9c179e"
            ],
            [
             0.4444444444444444,
             "#bd3786"
            ],
            [
             0.5555555555555556,
             "#d8576b"
            ],
            [
             0.6666666666666666,
             "#ed7953"
            ],
            [
             0.7777777777777778,
             "#fb9f3a"
            ],
            [
             0.8888888888888888,
             "#fdca26"
            ],
            [
             1,
             "#f0f921"
            ]
           ]
          },
          "colorway": [
           "#636efa",
           "#EF553B",
           "#00cc96",
           "#ab63fa",
           "#FFA15A",
           "#19d3f3",
           "#FF6692",
           "#B6E880",
           "#FF97FF",
           "#FECB52"
          ],
          "font": {
           "color": "#2a3f5f"
          },
          "geo": {
           "bgcolor": "white",
           "lakecolor": "white",
           "landcolor": "#E5ECF6",
           "showlakes": true,
           "showland": true,
           "subunitcolor": "white"
          },
          "hoverlabel": {
           "align": "left"
          },
          "hovermode": "closest",
          "mapbox": {
           "style": "light"
          },
          "paper_bgcolor": "white",
          "plot_bgcolor": "#E5ECF6",
          "polar": {
           "angularaxis": {
            "gridcolor": "white",
            "linecolor": "white",
            "ticks": ""
           },
           "bgcolor": "#E5ECF6",
           "radialaxis": {
            "gridcolor": "white",
            "linecolor": "white",
            "ticks": ""
           }
          },
          "scene": {
           "xaxis": {
            "backgroundcolor": "#E5ECF6",
            "gridcolor": "white",
            "gridwidth": 2,
            "linecolor": "white",
            "showbackground": true,
            "ticks": "",
            "zerolinecolor": "white"
           },
           "yaxis": {
            "backgroundcolor": "#E5ECF6",
            "gridcolor": "white",
            "gridwidth": 2,
            "linecolor": "white",
            "showbackground": true,
            "ticks": "",
            "zerolinecolor": "white"
           },
           "zaxis": {
            "backgroundcolor": "#E5ECF6",
            "gridcolor": "white",
            "gridwidth": 2,
            "linecolor": "white",
            "showbackground": true,
            "ticks": "",
            "zerolinecolor": "white"
           }
          },
          "shapedefaults": {
           "line": {
            "color": "#2a3f5f"
           }
          },
          "ternary": {
           "aaxis": {
            "gridcolor": "white",
            "linecolor": "white",
            "ticks": ""
           },
           "baxis": {
            "gridcolor": "white",
            "linecolor": "white",
            "ticks": ""
           },
           "bgcolor": "#E5ECF6",
           "caxis": {
            "gridcolor": "white",
            "linecolor": "white",
            "ticks": ""
           }
          },
          "title": {
           "x": 0.05
          },
          "xaxis": {
           "automargin": true,
           "gridcolor": "white",
           "linecolor": "white",
           "ticks": "",
           "title": {
            "standoff": 15
           },
           "zerolinecolor": "white",
           "zerolinewidth": 2
          },
          "yaxis": {
           "automargin": true,
           "gridcolor": "white",
           "linecolor": "white",
           "ticks": "",
           "title": {
            "standoff": 15
           },
           "zerolinecolor": "white",
           "zerolinewidth": 2
          }
         }
        },
        "title": {
         "text": "X360 Total Sales per Year"
        },
        "xaxis": {
         "anchor": "y",
         "domain": [
          0,
          1
         ],
         "ticktext": [
          2010,
          2013,
          2011,
          2012,
          2009,
          2007,
          2008,
          2006,
          2005,
          2014
         ],
         "tickvals": [
          2010,
          2013,
          2011,
          2012,
          2009,
          2007,
          2008,
          2006,
          2005,
          2014
         ],
         "title": {
          "text": "Year of Release"
         }
        },
        "yaxis": {
         "anchor": "x",
         "domain": [
          0,
          1
         ],
         "title": {
          "text": "Sum of Total Sales"
         }
        }
       }
      }
     },
     "metadata": {},
     "output_type": "display_data"
    }
   ],
   "source": [
    "x_360_bar = px.bar(x_360_sum, x='year_of_release', y='total_sales_sum',labels={\"total_sales_sum\": \"Sum of Total Sales\", \"year_of_release\": \"Year of Release\"}, title='X360 Total Sales per Year')\n",
    "\n",
    "x_360_bar.update_xaxes(tickvals=x_360['year_of_release'].unique(), ticktext=[int(x) for x in x_360['year_of_release'].unique()])\n",
    "\n",
    "x_360_bar.show()"
   ]
  },
  {
   "cell_type": "markdown",
   "metadata": {},
   "source": [
    "Conclusion:  It appears that X360 had the highest total sales in the year 2010 with $180.21 M in total sales noted and the lowest total sales in the year 2016 with $1.52 M total sales noted."
   ]
  },
  {
   "cell_type": "markdown",
   "metadata": {},
   "source": [
    "Code Meaning: \n",
    "1) In order to get rid of stacked values in the data for the bar chart by using the groupby function on wii dataframe and grouping by platform.\n",
    "2) In the same line of code, use the sum() method in on the total_sales column of the wii dataframe in order to sum up the total values.\n",
    "3) Assign the code to wii_sum in order to save the result.\n",
    "4) Use the reset_index() method on the wii_sum dataframe.\n",
    "5) Use the rename() method in order to rename the total_sales column to total_sales_sum. Use columns= as the parameter.\n",
    "6) Use the head() function in order to print the first five lines of wii_sum.\n",
    "\n",
    "Code Result:\n",
    "wii_sum was created successfully."
   ]
  },
  {
   "cell_type": "code",
   "execution_count": 34,
   "metadata": {},
   "outputs": [
    {
     "data": {
      "text/html": [
       "<div>\n",
       "<style scoped>\n",
       "    .dataframe tbody tr th:only-of-type {\n",
       "        vertical-align: middle;\n",
       "    }\n",
       "\n",
       "    .dataframe tbody tr th {\n",
       "        vertical-align: top;\n",
       "    }\n",
       "\n",
       "    .dataframe thead th {\n",
       "        text-align: right;\n",
       "    }\n",
       "</style>\n",
       "<table border=\"1\" class=\"dataframe\">\n",
       "  <thead>\n",
       "    <tr style=\"text-align: right;\">\n",
       "      <th></th>\n",
       "      <th>year_of_release</th>\n",
       "      <th>total_sales_sum</th>\n",
       "    </tr>\n",
       "  </thead>\n",
       "  <tbody>\n",
       "    <tr>\n",
       "      <th>0</th>\n",
       "      <td>2006</td>\n",
       "      <td>135.02</td>\n",
       "    </tr>\n",
       "    <tr>\n",
       "      <th>1</th>\n",
       "      <td>2007</td>\n",
       "      <td>140.92</td>\n",
       "    </tr>\n",
       "    <tr>\n",
       "      <th>2</th>\n",
       "      <td>2008</td>\n",
       "      <td>130.99</td>\n",
       "    </tr>\n",
       "    <tr>\n",
       "      <th>3</th>\n",
       "      <td>2009</td>\n",
       "      <td>151.01</td>\n",
       "    </tr>\n",
       "    <tr>\n",
       "      <th>4</th>\n",
       "      <td>2010</td>\n",
       "      <td>67.92</td>\n",
       "    </tr>\n",
       "  </tbody>\n",
       "</table>\n",
       "</div>"
      ],
      "text/plain": [
       "   year_of_release  total_sales_sum\n",
       "0             2006           135.02\n",
       "1             2007           140.92\n",
       "2             2008           130.99\n",
       "3             2009           151.01\n",
       "4             2010            67.92"
      ]
     },
     "execution_count": 34,
     "metadata": {},
     "output_type": "execute_result"
    }
   ],
   "source": [
    "wii_sum = wii.groupby('year_of_release')['total_sales'].sum()\n",
    "wii_sum = wii_sum.reset_index().rename(columns={'total_sales': 'total_sales_sum'})\n",
    "wii_sum.head()"
   ]
  },
  {
   "cell_type": "markdown",
   "metadata": {},
   "source": [
    "Code Meaning:\n",
    "1) Use px.bar() in order to create a bar chart titled: 'Wii Total Sales per Year'.\n",
    "2) Use the year_of_release column as the x axis of the chart and the total_sales column as the y axis of the chart.\n",
    "3) Assign the result to wii_bar in order to save the result.\n",
    "4) Use the update_xaxes() method in order to set the tick values of the x axis as each individual unique value of the year_of_release column of the wii dataframe. Set the tick text to display each value on the x axis as each individual unique value of the year_of_release column of the wii dataframe as an integer.\n",
    "5) Use the show() method in order to display the wii_bar bar chart."
   ]
  },
  {
   "cell_type": "code",
   "execution_count": 35,
   "metadata": {},
   "outputs": [
    {
     "data": {
      "application/vnd.plotly.v1+json": {
       "config": {
        "plotlyServerURL": "https://plot.ly"
       },
       "data": [
        {
         "alignmentgroup": "True",
         "hovertemplate": "Year of Release=%{x}<br>Sum of Total Sales=%{y}<extra></extra>",
         "legendgroup": "",
         "marker": {
          "color": "#636efa",
          "pattern": {
           "shape": ""
          }
         },
         "name": "",
         "offsetgroup": "",
         "orientation": "v",
         "showlegend": false,
         "textposition": "auto",
         "type": "bar",
         "x": [
          2006,
          2007,
          2008,
          2009,
          2010,
          2011,
          2012
         ],
         "xaxis": "x",
         "y": [
          135.01999999999998,
          140.92,
          130.99,
          151.01000000000002,
          67.92,
          33.75,
          13.23
         ],
         "yaxis": "y"
        }
       ],
       "layout": {
        "barmode": "relative",
        "legend": {
         "tracegroupgap": 0
        },
        "template": {
         "data": {
          "bar": [
           {
            "error_x": {
             "color": "#2a3f5f"
            },
            "error_y": {
             "color": "#2a3f5f"
            },
            "marker": {
             "line": {
              "color": "#E5ECF6",
              "width": 0.5
             },
             "pattern": {
              "fillmode": "overlay",
              "size": 10,
              "solidity": 0.2
             }
            },
            "type": "bar"
           }
          ],
          "barpolar": [
           {
            "marker": {
             "line": {
              "color": "#E5ECF6",
              "width": 0.5
             },
             "pattern": {
              "fillmode": "overlay",
              "size": 10,
              "solidity": 0.2
             }
            },
            "type": "barpolar"
           }
          ],
          "carpet": [
           {
            "aaxis": {
             "endlinecolor": "#2a3f5f",
             "gridcolor": "white",
             "linecolor": "white",
             "minorgridcolor": "white",
             "startlinecolor": "#2a3f5f"
            },
            "baxis": {
             "endlinecolor": "#2a3f5f",
             "gridcolor": "white",
             "linecolor": "white",
             "minorgridcolor": "white",
             "startlinecolor": "#2a3f5f"
            },
            "type": "carpet"
           }
          ],
          "choropleth": [
           {
            "colorbar": {
             "outlinewidth": 0,
             "ticks": ""
            },
            "type": "choropleth"
           }
          ],
          "contour": [
           {
            "colorbar": {
             "outlinewidth": 0,
             "ticks": ""
            },
            "colorscale": [
             [
              0,
              "#0d0887"
             ],
             [
              0.1111111111111111,
              "#46039f"
             ],
             [
              0.2222222222222222,
              "#7201a8"
             ],
             [
              0.3333333333333333,
              "#9c179e"
             ],
             [
              0.4444444444444444,
              "#bd3786"
             ],
             [
              0.5555555555555556,
              "#d8576b"
             ],
             [
              0.6666666666666666,
              "#ed7953"
             ],
             [
              0.7777777777777778,
              "#fb9f3a"
             ],
             [
              0.8888888888888888,
              "#fdca26"
             ],
             [
              1,
              "#f0f921"
             ]
            ],
            "type": "contour"
           }
          ],
          "contourcarpet": [
           {
            "colorbar": {
             "outlinewidth": 0,
             "ticks": ""
            },
            "type": "contourcarpet"
           }
          ],
          "heatmap": [
           {
            "colorbar": {
             "outlinewidth": 0,
             "ticks": ""
            },
            "colorscale": [
             [
              0,
              "#0d0887"
             ],
             [
              0.1111111111111111,
              "#46039f"
             ],
             [
              0.2222222222222222,
              "#7201a8"
             ],
             [
              0.3333333333333333,
              "#9c179e"
             ],
             [
              0.4444444444444444,
              "#bd3786"
             ],
             [
              0.5555555555555556,
              "#d8576b"
             ],
             [
              0.6666666666666666,
              "#ed7953"
             ],
             [
              0.7777777777777778,
              "#fb9f3a"
             ],
             [
              0.8888888888888888,
              "#fdca26"
             ],
             [
              1,
              "#f0f921"
             ]
            ],
            "type": "heatmap"
           }
          ],
          "heatmapgl": [
           {
            "colorbar": {
             "outlinewidth": 0,
             "ticks": ""
            },
            "colorscale": [
             [
              0,
              "#0d0887"
             ],
             [
              0.1111111111111111,
              "#46039f"
             ],
             [
              0.2222222222222222,
              "#7201a8"
             ],
             [
              0.3333333333333333,
              "#9c179e"
             ],
             [
              0.4444444444444444,
              "#bd3786"
             ],
             [
              0.5555555555555556,
              "#d8576b"
             ],
             [
              0.6666666666666666,
              "#ed7953"
             ],
             [
              0.7777777777777778,
              "#fb9f3a"
             ],
             [
              0.8888888888888888,
              "#fdca26"
             ],
             [
              1,
              "#f0f921"
             ]
            ],
            "type": "heatmapgl"
           }
          ],
          "histogram": [
           {
            "marker": {
             "pattern": {
              "fillmode": "overlay",
              "size": 10,
              "solidity": 0.2
             }
            },
            "type": "histogram"
           }
          ],
          "histogram2d": [
           {
            "colorbar": {
             "outlinewidth": 0,
             "ticks": ""
            },
            "colorscale": [
             [
              0,
              "#0d0887"
             ],
             [
              0.1111111111111111,
              "#46039f"
             ],
             [
              0.2222222222222222,
              "#7201a8"
             ],
             [
              0.3333333333333333,
              "#9c179e"
             ],
             [
              0.4444444444444444,
              "#bd3786"
             ],
             [
              0.5555555555555556,
              "#d8576b"
             ],
             [
              0.6666666666666666,
              "#ed7953"
             ],
             [
              0.7777777777777778,
              "#fb9f3a"
             ],
             [
              0.8888888888888888,
              "#fdca26"
             ],
             [
              1,
              "#f0f921"
             ]
            ],
            "type": "histogram2d"
           }
          ],
          "histogram2dcontour": [
           {
            "colorbar": {
             "outlinewidth": 0,
             "ticks": ""
            },
            "colorscale": [
             [
              0,
              "#0d0887"
             ],
             [
              0.1111111111111111,
              "#46039f"
             ],
             [
              0.2222222222222222,
              "#7201a8"
             ],
             [
              0.3333333333333333,
              "#9c179e"
             ],
             [
              0.4444444444444444,
              "#bd3786"
             ],
             [
              0.5555555555555556,
              "#d8576b"
             ],
             [
              0.6666666666666666,
              "#ed7953"
             ],
             [
              0.7777777777777778,
              "#fb9f3a"
             ],
             [
              0.8888888888888888,
              "#fdca26"
             ],
             [
              1,
              "#f0f921"
             ]
            ],
            "type": "histogram2dcontour"
           }
          ],
          "mesh3d": [
           {
            "colorbar": {
             "outlinewidth": 0,
             "ticks": ""
            },
            "type": "mesh3d"
           }
          ],
          "parcoords": [
           {
            "line": {
             "colorbar": {
              "outlinewidth": 0,
              "ticks": ""
             }
            },
            "type": "parcoords"
           }
          ],
          "pie": [
           {
            "automargin": true,
            "type": "pie"
           }
          ],
          "scatter": [
           {
            "fillpattern": {
             "fillmode": "overlay",
             "size": 10,
             "solidity": 0.2
            },
            "type": "scatter"
           }
          ],
          "scatter3d": [
           {
            "line": {
             "colorbar": {
              "outlinewidth": 0,
              "ticks": ""
             }
            },
            "marker": {
             "colorbar": {
              "outlinewidth": 0,
              "ticks": ""
             }
            },
            "type": "scatter3d"
           }
          ],
          "scattercarpet": [
           {
            "marker": {
             "colorbar": {
              "outlinewidth": 0,
              "ticks": ""
             }
            },
            "type": "scattercarpet"
           }
          ],
          "scattergeo": [
           {
            "marker": {
             "colorbar": {
              "outlinewidth": 0,
              "ticks": ""
             }
            },
            "type": "scattergeo"
           }
          ],
          "scattergl": [
           {
            "marker": {
             "colorbar": {
              "outlinewidth": 0,
              "ticks": ""
             }
            },
            "type": "scattergl"
           }
          ],
          "scattermapbox": [
           {
            "marker": {
             "colorbar": {
              "outlinewidth": 0,
              "ticks": ""
             }
            },
            "type": "scattermapbox"
           }
          ],
          "scatterpolar": [
           {
            "marker": {
             "colorbar": {
              "outlinewidth": 0,
              "ticks": ""
             }
            },
            "type": "scatterpolar"
           }
          ],
          "scatterpolargl": [
           {
            "marker": {
             "colorbar": {
              "outlinewidth": 0,
              "ticks": ""
             }
            },
            "type": "scatterpolargl"
           }
          ],
          "scatterternary": [
           {
            "marker": {
             "colorbar": {
              "outlinewidth": 0,
              "ticks": ""
             }
            },
            "type": "scatterternary"
           }
          ],
          "surface": [
           {
            "colorbar": {
             "outlinewidth": 0,
             "ticks": ""
            },
            "colorscale": [
             [
              0,
              "#0d0887"
             ],
             [
              0.1111111111111111,
              "#46039f"
             ],
             [
              0.2222222222222222,
              "#7201a8"
             ],
             [
              0.3333333333333333,
              "#9c179e"
             ],
             [
              0.4444444444444444,
              "#bd3786"
             ],
             [
              0.5555555555555556,
              "#d8576b"
             ],
             [
              0.6666666666666666,
              "#ed7953"
             ],
             [
              0.7777777777777778,
              "#fb9f3a"
             ],
             [
              0.8888888888888888,
              "#fdca26"
             ],
             [
              1,
              "#f0f921"
             ]
            ],
            "type": "surface"
           }
          ],
          "table": [
           {
            "cells": {
             "fill": {
              "color": "#EBF0F8"
             },
             "line": {
              "color": "white"
             }
            },
            "header": {
             "fill": {
              "color": "#C8D4E3"
             },
             "line": {
              "color": "white"
             }
            },
            "type": "table"
           }
          ]
         },
         "layout": {
          "annotationdefaults": {
           "arrowcolor": "#2a3f5f",
           "arrowhead": 0,
           "arrowwidth": 1
          },
          "autotypenumbers": "strict",
          "coloraxis": {
           "colorbar": {
            "outlinewidth": 0,
            "ticks": ""
           }
          },
          "colorscale": {
           "diverging": [
            [
             0,
             "#8e0152"
            ],
            [
             0.1,
             "#c51b7d"
            ],
            [
             0.2,
             "#de77ae"
            ],
            [
             0.3,
             "#f1b6da"
            ],
            [
             0.4,
             "#fde0ef"
            ],
            [
             0.5,
             "#f7f7f7"
            ],
            [
             0.6,
             "#e6f5d0"
            ],
            [
             0.7,
             "#b8e186"
            ],
            [
             0.8,
             "#7fbc41"
            ],
            [
             0.9,
             "#4d9221"
            ],
            [
             1,
             "#276419"
            ]
           ],
           "sequential": [
            [
             0,
             "#0d0887"
            ],
            [
             0.1111111111111111,
             "#46039f"
            ],
            [
             0.2222222222222222,
             "#7201a8"
            ],
            [
             0.3333333333333333,
             "#9c179e"
            ],
            [
             0.4444444444444444,
             "#bd3786"
            ],
            [
             0.5555555555555556,
             "#d8576b"
            ],
            [
             0.6666666666666666,
             "#ed7953"
            ],
            [
             0.7777777777777778,
             "#fb9f3a"
            ],
            [
             0.8888888888888888,
             "#fdca26"
            ],
            [
             1,
             "#f0f921"
            ]
           ],
           "sequentialminus": [
            [
             0,
             "#0d0887"
            ],
            [
             0.1111111111111111,
             "#46039f"
            ],
            [
             0.2222222222222222,
             "#7201a8"
            ],
            [
             0.3333333333333333,
             "#9c179e"
            ],
            [
             0.4444444444444444,
             "#bd3786"
            ],
            [
             0.5555555555555556,
             "#d8576b"
            ],
            [
             0.6666666666666666,
             "#ed7953"
            ],
            [
             0.7777777777777778,
             "#fb9f3a"
            ],
            [
             0.8888888888888888,
             "#fdca26"
            ],
            [
             1,
             "#f0f921"
            ]
           ]
          },
          "colorway": [
           "#636efa",
           "#EF553B",
           "#00cc96",
           "#ab63fa",
           "#FFA15A",
           "#19d3f3",
           "#FF6692",
           "#B6E880",
           "#FF97FF",
           "#FECB52"
          ],
          "font": {
           "color": "#2a3f5f"
          },
          "geo": {
           "bgcolor": "white",
           "lakecolor": "white",
           "landcolor": "#E5ECF6",
           "showlakes": true,
           "showland": true,
           "subunitcolor": "white"
          },
          "hoverlabel": {
           "align": "left"
          },
          "hovermode": "closest",
          "mapbox": {
           "style": "light"
          },
          "paper_bgcolor": "white",
          "plot_bgcolor": "#E5ECF6",
          "polar": {
           "angularaxis": {
            "gridcolor": "white",
            "linecolor": "white",
            "ticks": ""
           },
           "bgcolor": "#E5ECF6",
           "radialaxis": {
            "gridcolor": "white",
            "linecolor": "white",
            "ticks": ""
           }
          },
          "scene": {
           "xaxis": {
            "backgroundcolor": "#E5ECF6",
            "gridcolor": "white",
            "gridwidth": 2,
            "linecolor": "white",
            "showbackground": true,
            "ticks": "",
            "zerolinecolor": "white"
           },
           "yaxis": {
            "backgroundcolor": "#E5ECF6",
            "gridcolor": "white",
            "gridwidth": 2,
            "linecolor": "white",
            "showbackground": true,
            "ticks": "",
            "zerolinecolor": "white"
           },
           "zaxis": {
            "backgroundcolor": "#E5ECF6",
            "gridcolor": "white",
            "gridwidth": 2,
            "linecolor": "white",
            "showbackground": true,
            "ticks": "",
            "zerolinecolor": "white"
           }
          },
          "shapedefaults": {
           "line": {
            "color": "#2a3f5f"
           }
          },
          "ternary": {
           "aaxis": {
            "gridcolor": "white",
            "linecolor": "white",
            "ticks": ""
           },
           "baxis": {
            "gridcolor": "white",
            "linecolor": "white",
            "ticks": ""
           },
           "bgcolor": "#E5ECF6",
           "caxis": {
            "gridcolor": "white",
            "linecolor": "white",
            "ticks": ""
           }
          },
          "title": {
           "x": 0.05
          },
          "xaxis": {
           "automargin": true,
           "gridcolor": "white",
           "linecolor": "white",
           "ticks": "",
           "title": {
            "standoff": 15
           },
           "zerolinecolor": "white",
           "zerolinewidth": 2
          },
          "yaxis": {
           "automargin": true,
           "gridcolor": "white",
           "linecolor": "white",
           "ticks": "",
           "title": {
            "standoff": 15
           },
           "zerolinecolor": "white",
           "zerolinewidth": 2
          }
         }
        },
        "title": {
         "text": "Wii Total Sales per Year"
        },
        "xaxis": {
         "anchor": "y",
         "domain": [
          0,
          1
         ],
         "ticktext": [
          2006,
          2008,
          2009,
          2007,
          2011,
          2010,
          2012
         ],
         "tickvals": [
          2006,
          2008,
          2009,
          2007,
          2011,
          2010,
          2012
         ],
         "title": {
          "text": "Year of Release"
         }
        },
        "yaxis": {
         "anchor": "x",
         "domain": [
          0,
          1
         ],
         "title": {
          "text": "Sum of Total Sales"
         }
        }
       }
      }
     },
     "metadata": {},
     "output_type": "display_data"
    }
   ],
   "source": [
    "wii_bar = px.bar(wii_sum, x='year_of_release', y='total_sales_sum', labels={\"total_sales_sum\": \"Sum of Total Sales\", \"year_of_release\": \"Year of Release\"}, title='Wii Total Sales per Year')\n",
    "\n",
    "wii_bar.update_xaxes(tickvals=wii['year_of_release'].unique(), ticktext=[int(x) for x in wii['year_of_release'].unique()])\n",
    "\n",
    "wii_bar.show()"
   ]
  },
  {
   "cell_type": "markdown",
   "metadata": {},
   "source": [
    "Conclusion:  It appears that Wii had the highest total sales in the year 2009 with $223.30 total sales noted and the lowest amount of sales in the year 2016 with $0.18 in total sales noted."
   ]
  },
  {
   "cell_type": "markdown",
   "metadata": {},
   "source": [
    "# Total Sales Per Release Year Line Charts\n",
    "\n",
    "Question Being Addressed:\n",
    " Find platforms that used to be popular but now have zero sales. How long does it generally take for new platforms to appear and old ones to fade?\n",
    "\n",
    " The platforms that used to be popular, but now have zero sales are as listed: '3DS', 'DC', 'DS', 'GBA', 'GC', 'PC', 'PS', 'PS2','PS3', 'PS4', 'PSP', 'PSV', 'Wii', 'WiiU', 'X360', 'XB', 'XOne'  \n",
    " \n",
    " The greatest amount of time that it takes for a new platform to appear and fade is 30 years and the shortest amount of time for a new platform to appear and fade is approximately 3 years."
   ]
  },
  {
   "cell_type": "markdown",
   "metadata": {},
   "source": [
    "Code Meaning: To make it easier to formulate the latter codes, check the list of unique values in order in the year_of_release columns by using the sort_values() and unique() methods in the year_of_release column of the df dataframe.\n",
    "\n",
    "Code Result:\n",
    "It seems like the most recent year of entries in the year_of_release column of the df dataframe is 2016, which is the year which will be omitted from the new dataframe that will be created in order to form the line charts."
   ]
  },
  {
   "cell_type": "code",
   "execution_count": 36,
   "metadata": {},
   "outputs": [
    {
     "data": {
      "text/plain": [
       "array([1985, 1988, 1992, 1994, 1996, 1997, 1998, 1999, 2000, 2001, 2002,\n",
       "       2003, 2004, 2005, 2006, 2007, 2008, 2009, 2010, 2011, 2012, 2013,\n",
       "       2014, 2015, 2016])"
      ]
     },
     "execution_count": 36,
     "metadata": {},
     "output_type": "execute_result"
    }
   ],
   "source": [
    "df['year_of_release'].sort_values().unique()"
   ]
  },
  {
   "cell_type": "markdown",
   "metadata": {},
   "source": [
    "Code Meaning:  \n",
    "1) Create a filtered dataframe from the df dataframe that does not contain any entries for '2016' from the year_of_release column of the df dataframe.\n",
    "2) Assign the new dataframe the name: no_sales_1 in order to save the results and create the new dataframe.\n",
    "3) Use the head() method on the no_sales_1 dataframe in order to print the first five rows of the dataframe in order to check for any errors.\n",
    "\n",
    "Code Result: \n",
    "It appears that the entries in the rows of the no_sales_1 dataframe are listed correctly.  The dataframe was created successfully."
   ]
  },
  {
   "cell_type": "code",
   "execution_count": 37,
   "metadata": {},
   "outputs": [
    {
     "data": {
      "text/html": [
       "<div>\n",
       "<style scoped>\n",
       "    .dataframe tbody tr th:only-of-type {\n",
       "        vertical-align: middle;\n",
       "    }\n",
       "\n",
       "    .dataframe tbody tr th {\n",
       "        vertical-align: top;\n",
       "    }\n",
       "\n",
       "    .dataframe thead th {\n",
       "        text-align: right;\n",
       "    }\n",
       "</style>\n",
       "<table border=\"1\" class=\"dataframe\">\n",
       "  <thead>\n",
       "    <tr style=\"text-align: right;\">\n",
       "      <th></th>\n",
       "      <th>name</th>\n",
       "      <th>platform</th>\n",
       "      <th>year_of_release</th>\n",
       "      <th>genre</th>\n",
       "      <th>na_sales</th>\n",
       "      <th>eu_sales</th>\n",
       "      <th>jp_sales</th>\n",
       "      <th>other_sales</th>\n",
       "      <th>critic_score</th>\n",
       "      <th>user_score</th>\n",
       "      <th>rating</th>\n",
       "      <th>total_sales</th>\n",
       "    </tr>\n",
       "  </thead>\n",
       "  <tbody>\n",
       "    <tr>\n",
       "      <th>0</th>\n",
       "      <td>Wii Sports</td>\n",
       "      <td>Wii</td>\n",
       "      <td>2006</td>\n",
       "      <td>Sports</td>\n",
       "      <td>41.36</td>\n",
       "      <td>28.96</td>\n",
       "      <td>3.77</td>\n",
       "      <td>8.45</td>\n",
       "      <td>76.0</td>\n",
       "      <td>8.0</td>\n",
       "      <td>E</td>\n",
       "      <td>82.54</td>\n",
       "    </tr>\n",
       "    <tr>\n",
       "      <th>2</th>\n",
       "      <td>Mario Kart Wii</td>\n",
       "      <td>Wii</td>\n",
       "      <td>2008</td>\n",
       "      <td>Racing</td>\n",
       "      <td>15.68</td>\n",
       "      <td>12.76</td>\n",
       "      <td>3.79</td>\n",
       "      <td>3.29</td>\n",
       "      <td>82.0</td>\n",
       "      <td>8.3</td>\n",
       "      <td>E</td>\n",
       "      <td>35.52</td>\n",
       "    </tr>\n",
       "    <tr>\n",
       "      <th>3</th>\n",
       "      <td>Wii Sports Resort</td>\n",
       "      <td>Wii</td>\n",
       "      <td>2009</td>\n",
       "      <td>Sports</td>\n",
       "      <td>15.61</td>\n",
       "      <td>10.93</td>\n",
       "      <td>3.28</td>\n",
       "      <td>2.95</td>\n",
       "      <td>80.0</td>\n",
       "      <td>8.0</td>\n",
       "      <td>E</td>\n",
       "      <td>32.77</td>\n",
       "    </tr>\n",
       "    <tr>\n",
       "      <th>6</th>\n",
       "      <td>New Super Mario Bros.</td>\n",
       "      <td>DS</td>\n",
       "      <td>2006</td>\n",
       "      <td>Platform</td>\n",
       "      <td>11.28</td>\n",
       "      <td>9.14</td>\n",
       "      <td>6.50</td>\n",
       "      <td>2.88</td>\n",
       "      <td>89.0</td>\n",
       "      <td>8.5</td>\n",
       "      <td>E</td>\n",
       "      <td>29.80</td>\n",
       "    </tr>\n",
       "    <tr>\n",
       "      <th>7</th>\n",
       "      <td>Wii Play</td>\n",
       "      <td>Wii</td>\n",
       "      <td>2006</td>\n",
       "      <td>Misc</td>\n",
       "      <td>13.96</td>\n",
       "      <td>9.18</td>\n",
       "      <td>2.93</td>\n",
       "      <td>2.84</td>\n",
       "      <td>58.0</td>\n",
       "      <td>6.6</td>\n",
       "      <td>E</td>\n",
       "      <td>28.91</td>\n",
       "    </tr>\n",
       "  </tbody>\n",
       "</table>\n",
       "</div>"
      ],
      "text/plain": [
       "                    name platform  year_of_release     genre  na_sales  \\\n",
       "0             Wii Sports      Wii             2006    Sports     41.36   \n",
       "2         Mario Kart Wii      Wii             2008    Racing     15.68   \n",
       "3      Wii Sports Resort      Wii             2009    Sports     15.61   \n",
       "6  New Super Mario Bros.       DS             2006  Platform     11.28   \n",
       "7               Wii Play      Wii             2006      Misc     13.96   \n",
       "\n",
       "   eu_sales  jp_sales  other_sales  critic_score  user_score rating  \\\n",
       "0     28.96      3.77         8.45          76.0         8.0      E   \n",
       "2     12.76      3.79         3.29          82.0         8.3      E   \n",
       "3     10.93      3.28         2.95          80.0         8.0      E   \n",
       "6      9.14      6.50         2.88          89.0         8.5      E   \n",
       "7      9.18      2.93         2.84          58.0         6.6      E   \n",
       "\n",
       "   total_sales  \n",
       "0        82.54  \n",
       "2        35.52  \n",
       "3        32.77  \n",
       "6        29.80  \n",
       "7        28.91  "
      ]
     },
     "execution_count": 37,
     "metadata": {},
     "output_type": "execute_result"
    }
   ],
   "source": [
    "no_sales_1 = df[df['year_of_release'] != '2016']\n",
    "\n",
    "no_sales_1.head()\n"
   ]
  },
  {
   "cell_type": "markdown",
   "metadata": {},
   "source": [
    "Code Meaning:  Make a list of the names of the different platforms in the no_sales_1 dataframe by using the unique() method on the dataframe.\n",
    "\n",
    "Code Result:  There too many different platforms listed in the platform column of the no_sales_1 dataframe.  Four separate line charts must be created so that they information will not be overcrowded by having too many platforms listed in one line chart."
   ]
  },
  {
   "cell_type": "code",
   "execution_count": 38,
   "metadata": {},
   "outputs": [
    {
     "data": {
      "text/plain": [
       "array(['3DS', 'DC', 'DS', 'GBA', 'GC', 'PC', 'PS', 'PS2', 'PS3', 'PS4',\n",
       "       'PSP', 'PSV', 'Wii', 'WiiU', 'X360', 'XB', 'XOne'], dtype=object)"
      ]
     },
     "execution_count": 38,
     "metadata": {},
     "output_type": "execute_result"
    }
   ],
   "source": [
    "no_sales_1['platform'].sort_values().unique()"
   ]
  },
  {
   "cell_type": "markdown",
   "metadata": {},
   "source": [
    "Code Meaning: \n",
    "1) Create a list that contain the names: '3DS', 'DC', 'DS', 'GBA', 'GC', 'PC', 'PS', 'PS2'(these are select names of the some of the platforms from the no_sales_1 dataframe) and assign the code to the variable\n",
    "no_sales_2_list in order to save the result.\n",
    "2) Use the isin() method on the platfrom column of the no_sales column in order to check for the specificed values in the no_sales_2_list variable.  Assign the code to no_sales_2_limited in order to save the result.\n",
    "3) Create a new dataframe called no_sales_2 by adding the no_sales_2_limited variable as an arguement to a closed bracket [] next to the no_sales_2 dataframe.\n",
    "4) Follow the same previous steps in order to create the no_sales_3 dataframe."
   ]
  },
  {
   "cell_type": "code",
   "execution_count": 39,
   "metadata": {},
   "outputs": [],
   "source": [
    "no_sales_2_list = ['3DS', 'DC', 'DS', 'GBA', 'GC', 'PC', 'PS', 'PS2']\n",
    "no_sales_2_limited = no_sales_1['platform'].isin(no_sales_2_list)\n",
    "no_sales_2 = no_sales_1[no_sales_2_limited]\n",
    "\n",
    "no_sales_3_list = ['PS3', 'PS4', 'PSP', 'PSV', 'Wii', 'WiiU', 'X360', 'XB', 'XOne']\n",
    "no_sales_3_limited = no_sales_1['platform'].isin(no_sales_3_list)\n",
    "no_sales_3 = no_sales_1[no_sales_3_limited]"
   ]
  },
  {
   "cell_type": "markdown",
   "metadata": {},
   "source": [
    "Code Meaning:\n",
    "1) In order to make the information cleaner and in order to get rid of stacked values, apply the groupby() method to the no_sales_2 dataframe and groupby the platform and year_of_release columns.  \n",
    "2)Use the agg() and sum() function on the total_sales column of the no_sales_2 dataframe.\n",
    "3) Use the reset_index() method in order to reset the index.\n",
    "4) Assign the result platform_sales_year_1 in order to save the result and create a platform_sales_year_1 dataframe which will be used to create the first line chart.\n",
    "5) Repeat the same steps for the no_sales_3 dataframe in order to create the platform_sales_year_2 dataframe."
   ]
  },
  {
   "cell_type": "code",
   "execution_count": 40,
   "metadata": {},
   "outputs": [],
   "source": [
    "platform_sales_year_1 = no_sales_2.groupby(['platform', 'year_of_release']).agg({'total_sales': 'sum'}).reset_index()\n",
    "\n",
    "platform_sales_year_2 = no_sales_3.groupby(['platform', 'year_of_release']).agg({'total_sales': 'sum'}).reset_index()"
   ]
  },
  {
   "cell_type": "markdown",
   "metadata": {},
   "source": [
    "Code Meaning:\n",
    "1) Use px.line() in order to create a line chart with data from the platform_sales_year_1 dataframe.\n",
    "2) Use the year_of_release column as the x axis and the total_sales column as the y axis.\n",
    "3) Set the color parameter to the platform column of the dataframe.\n",
    "4) Set the title as: 'Line Chart of Total Sales per Year of Release for Platforms: 3DS-PS2 '.\n",
    "5) Assign the code to no_sales_line in order to save the result.\n",
    "6) Use the show() method in order to display the no_sales_line chart."
   ]
  },
  {
   "cell_type": "code",
   "execution_count": 41,
   "metadata": {},
   "outputs": [
    {
     "data": {
      "application/vnd.plotly.v1+json": {
       "config": {
        "plotlyServerURL": "https://plot.ly"
       },
       "data": [
        {
         "hovertemplate": "platform=3DS<br>Year of Release=%{x}<br>Total Sales=%{y}<extra></extra>",
         "legendgroup": "3DS",
         "line": {
          "color": "#636efa",
          "dash": "solid"
         },
         "marker": {
          "symbol": "circle"
         },
         "mode": "lines",
         "name": "3DS",
         "orientation": "v",
         "showlegend": true,
         "type": "scatter",
         "x": [
          2007,
          2011,
          2012,
          2013,
          2014,
          2015,
          2016
         ],
         "xaxis": "x",
         "y": [
          0.47000000000000003,
          44.03,
          39.39,
          15.89,
          11.49,
          10.55,
          2.17
         ],
         "yaxis": "y"
        },
        {
         "hovertemplate": "platform=DC<br>Year of Release=%{x}<br>Total Sales=%{y}<extra></extra>",
         "legendgroup": "DC",
         "line": {
          "color": "#EF553B",
          "dash": "solid"
         },
         "marker": {
          "symbol": "circle"
         },
         "mode": "lines",
         "name": "DC",
         "orientation": "v",
         "showlegend": true,
         "type": "scatter",
         "x": [
          1999,
          2000,
          2001
         ],
         "xaxis": "x",
         "y": [
          2.04,
          1.9800000000000002,
          0.53
         ],
         "yaxis": "y"
        },
        {
         "hovertemplate": "platform=DS<br>Year of Release=%{x}<br>Total Sales=%{y}<extra></extra>",
         "legendgroup": "DS",
         "line": {
          "color": "#00cc96",
          "dash": "solid"
         },
         "marker": {
          "symbol": "circle"
         },
         "mode": "lines",
         "name": "DS",
         "orientation": "v",
         "showlegend": true,
         "type": "scatter",
         "x": [
          2004,
          2005,
          2006,
          2007,
          2008,
          2009,
          2010,
          2011,
          2012
         ],
         "xaxis": "x",
         "y": [
          3.3800000000000003,
          96.03,
          72.56,
          78.46000000000001,
          63.35,
          39.42,
          25.29,
          4.36,
          1.02
         ],
         "yaxis": "y"
        },
        {
         "hovertemplate": "platform=GBA<br>Year of Release=%{x}<br>Total Sales=%{y}<extra></extra>",
         "legendgroup": "GBA",
         "line": {
          "color": "#ab63fa",
          "dash": "solid"
         },
         "marker": {
          "symbol": "circle"
         },
         "mode": "lines",
         "name": "GBA",
         "orientation": "v",
         "showlegend": true,
         "type": "scatter",
         "x": [
          2001,
          2002,
          2003,
          2004,
          2005,
          2006,
          2007
         ],
         "xaxis": "x",
         "y": [
          36.62,
          27.720000000000002,
          23.89,
          33.370000000000005,
          7.53,
          2.5700000000000003,
          0.83
         ],
         "yaxis": "y"
        },
        {
         "hovertemplate": "platform=GC<br>Year of Release=%{x}<br>Total Sales=%{y}<extra></extra>",
         "legendgroup": "GC",
         "line": {
          "color": "#FFA15A",
          "dash": "solid"
         },
         "marker": {
          "symbol": "circle"
         },
         "mode": "lines",
         "name": "GC",
         "orientation": "v",
         "showlegend": true,
         "type": "scatter",
         "x": [
          2001,
          2002,
          2003,
          2004,
          2005,
          2006,
          2007
         ],
         "xaxis": "x",
         "y": [
          25.68,
          42.09,
          38.2,
          23.45,
          20.64,
          8.97,
          1.57
         ],
         "yaxis": "y"
        },
        {
         "hovertemplate": "platform=PC<br>Year of Release=%{x}<br>Total Sales=%{y}<extra></extra>",
         "legendgroup": "PC",
         "line": {
          "color": "#19d3f3",
          "dash": "solid"
         },
         "marker": {
          "symbol": "circle"
         },
         "mode": "lines",
         "name": "PC",
         "orientation": "v",
         "showlegend": true,
         "type": "scatter",
         "x": [
          1985,
          1988,
          1992,
          1996,
          1997,
          1998,
          1999,
          2000,
          2001,
          2002,
          2003,
          2004,
          2005,
          2006,
          2007,
          2008,
          2009,
          2010,
          2011,
          2012,
          2013,
          2014,
          2015,
          2016
         ],
         "xaxis": "x",
         "y": [
          0.04,
          0.03,
          0.02,
          2.62,
          4.12,
          0.1,
          0.10999999999999999,
          3.1699999999999995,
          5.3500000000000005,
          8.549999999999999,
          6.41,
          10.27,
          3.99,
          2.53,
          12.61,
          9.38,
          15.47,
          20.79,
          31.19,
          22.01,
          10.98,
          11.74,
          7.180000000000001,
          4.89
         ],
         "yaxis": "y"
        },
        {
         "hovertemplate": "platform=PS<br>Year of Release=%{x}<br>Total Sales=%{y}<extra></extra>",
         "legendgroup": "PS",
         "line": {
          "color": "#FF6692",
          "dash": "solid"
         },
         "marker": {
          "symbol": "circle"
         },
         "mode": "lines",
         "name": "PS",
         "orientation": "v",
         "showlegend": true,
         "type": "scatter",
         "x": [
          1994,
          1996,
          1997,
          1998,
          1999,
          2000,
          2001,
          2002,
          2007
         ],
         "xaxis": "x",
         "y": [
          1.2600000000000002,
          17.73,
          31.93,
          45.17,
          48.980000000000004,
          45.660000000000004,
          19.14,
          0.11,
          1.3900000000000001
         ],
         "yaxis": "y"
        },
        {
         "hovertemplate": "platform=PS2<br>Year of Release=%{x}<br>Total Sales=%{y}<extra></extra>",
         "legendgroup": "PS2",
         "line": {
          "color": "#B6E880",
          "dash": "solid"
         },
         "marker": {
          "symbol": "circle"
         },
         "mode": "lines",
         "name": "PS2",
         "orientation": "v",
         "showlegend": true,
         "type": "scatter",
         "x": [
          2000,
          2001,
          2002,
          2003,
          2004,
          2005,
          2006,
          2007,
          2008,
          2009,
          2010
         ],
         "xaxis": "x",
         "y": [
          29.5,
          145.96,
          169.99,
          144.27,
          188.34,
          117.7,
          75.98,
          64.49,
          21.15,
          4.45,
          0.59
         ],
         "yaxis": "y"
        }
       ],
       "layout": {
        "legend": {
         "title": {
          "text": "platform"
         },
         "tracegroupgap": 0
        },
        "template": {
         "data": {
          "bar": [
           {
            "error_x": {
             "color": "#2a3f5f"
            },
            "error_y": {
             "color": "#2a3f5f"
            },
            "marker": {
             "line": {
              "color": "#E5ECF6",
              "width": 0.5
             },
             "pattern": {
              "fillmode": "overlay",
              "size": 10,
              "solidity": 0.2
             }
            },
            "type": "bar"
           }
          ],
          "barpolar": [
           {
            "marker": {
             "line": {
              "color": "#E5ECF6",
              "width": 0.5
             },
             "pattern": {
              "fillmode": "overlay",
              "size": 10,
              "solidity": 0.2
             }
            },
            "type": "barpolar"
           }
          ],
          "carpet": [
           {
            "aaxis": {
             "endlinecolor": "#2a3f5f",
             "gridcolor": "white",
             "linecolor": "white",
             "minorgridcolor": "white",
             "startlinecolor": "#2a3f5f"
            },
            "baxis": {
             "endlinecolor": "#2a3f5f",
             "gridcolor": "white",
             "linecolor": "white",
             "minorgridcolor": "white",
             "startlinecolor": "#2a3f5f"
            },
            "type": "carpet"
           }
          ],
          "choropleth": [
           {
            "colorbar": {
             "outlinewidth": 0,
             "ticks": ""
            },
            "type": "choropleth"
           }
          ],
          "contour": [
           {
            "colorbar": {
             "outlinewidth": 0,
             "ticks": ""
            },
            "colorscale": [
             [
              0,
              "#0d0887"
             ],
             [
              0.1111111111111111,
              "#46039f"
             ],
             [
              0.2222222222222222,
              "#7201a8"
             ],
             [
              0.3333333333333333,
              "#9c179e"
             ],
             [
              0.4444444444444444,
              "#bd3786"
             ],
             [
              0.5555555555555556,
              "#d8576b"
             ],
             [
              0.6666666666666666,
              "#ed7953"
             ],
             [
              0.7777777777777778,
              "#fb9f3a"
             ],
             [
              0.8888888888888888,
              "#fdca26"
             ],
             [
              1,
              "#f0f921"
             ]
            ],
            "type": "contour"
           }
          ],
          "contourcarpet": [
           {
            "colorbar": {
             "outlinewidth": 0,
             "ticks": ""
            },
            "type": "contourcarpet"
           }
          ],
          "heatmap": [
           {
            "colorbar": {
             "outlinewidth": 0,
             "ticks": ""
            },
            "colorscale": [
             [
              0,
              "#0d0887"
             ],
             [
              0.1111111111111111,
              "#46039f"
             ],
             [
              0.2222222222222222,
              "#7201a8"
             ],
             [
              0.3333333333333333,
              "#9c179e"
             ],
             [
              0.4444444444444444,
              "#bd3786"
             ],
             [
              0.5555555555555556,
              "#d8576b"
             ],
             [
              0.6666666666666666,
              "#ed7953"
             ],
             [
              0.7777777777777778,
              "#fb9f3a"
             ],
             [
              0.8888888888888888,
              "#fdca26"
             ],
             [
              1,
              "#f0f921"
             ]
            ],
            "type": "heatmap"
           }
          ],
          "heatmapgl": [
           {
            "colorbar": {
             "outlinewidth": 0,
             "ticks": ""
            },
            "colorscale": [
             [
              0,
              "#0d0887"
             ],
             [
              0.1111111111111111,
              "#46039f"
             ],
             [
              0.2222222222222222,
              "#7201a8"
             ],
             [
              0.3333333333333333,
              "#9c179e"
             ],
             [
              0.4444444444444444,
              "#bd3786"
             ],
             [
              0.5555555555555556,
              "#d8576b"
             ],
             [
              0.6666666666666666,
              "#ed7953"
             ],
             [
              0.7777777777777778,
              "#fb9f3a"
             ],
             [
              0.8888888888888888,
              "#fdca26"
             ],
             [
              1,
              "#f0f921"
             ]
            ],
            "type": "heatmapgl"
           }
          ],
          "histogram": [
           {
            "marker": {
             "pattern": {
              "fillmode": "overlay",
              "size": 10,
              "solidity": 0.2
             }
            },
            "type": "histogram"
           }
          ],
          "histogram2d": [
           {
            "colorbar": {
             "outlinewidth": 0,
             "ticks": ""
            },
            "colorscale": [
             [
              0,
              "#0d0887"
             ],
             [
              0.1111111111111111,
              "#46039f"
             ],
             [
              0.2222222222222222,
              "#7201a8"
             ],
             [
              0.3333333333333333,
              "#9c179e"
             ],
             [
              0.4444444444444444,
              "#bd3786"
             ],
             [
              0.5555555555555556,
              "#d8576b"
             ],
             [
              0.6666666666666666,
              "#ed7953"
             ],
             [
              0.7777777777777778,
              "#fb9f3a"
             ],
             [
              0.8888888888888888,
              "#fdca26"
             ],
             [
              1,
              "#f0f921"
             ]
            ],
            "type": "histogram2d"
           }
          ],
          "histogram2dcontour": [
           {
            "colorbar": {
             "outlinewidth": 0,
             "ticks": ""
            },
            "colorscale": [
             [
              0,
              "#0d0887"
             ],
             [
              0.1111111111111111,
              "#46039f"
             ],
             [
              0.2222222222222222,
              "#7201a8"
             ],
             [
              0.3333333333333333,
              "#9c179e"
             ],
             [
              0.4444444444444444,
              "#bd3786"
             ],
             [
              0.5555555555555556,
              "#d8576b"
             ],
             [
              0.6666666666666666,
              "#ed7953"
             ],
             [
              0.7777777777777778,
              "#fb9f3a"
             ],
             [
              0.8888888888888888,
              "#fdca26"
             ],
             [
              1,
              "#f0f921"
             ]
            ],
            "type": "histogram2dcontour"
           }
          ],
          "mesh3d": [
           {
            "colorbar": {
             "outlinewidth": 0,
             "ticks": ""
            },
            "type": "mesh3d"
           }
          ],
          "parcoords": [
           {
            "line": {
             "colorbar": {
              "outlinewidth": 0,
              "ticks": ""
             }
            },
            "type": "parcoords"
           }
          ],
          "pie": [
           {
            "automargin": true,
            "type": "pie"
           }
          ],
          "scatter": [
           {
            "fillpattern": {
             "fillmode": "overlay",
             "size": 10,
             "solidity": 0.2
            },
            "type": "scatter"
           }
          ],
          "scatter3d": [
           {
            "line": {
             "colorbar": {
              "outlinewidth": 0,
              "ticks": ""
             }
            },
            "marker": {
             "colorbar": {
              "outlinewidth": 0,
              "ticks": ""
             }
            },
            "type": "scatter3d"
           }
          ],
          "scattercarpet": [
           {
            "marker": {
             "colorbar": {
              "outlinewidth": 0,
              "ticks": ""
             }
            },
            "type": "scattercarpet"
           }
          ],
          "scattergeo": [
           {
            "marker": {
             "colorbar": {
              "outlinewidth": 0,
              "ticks": ""
             }
            },
            "type": "scattergeo"
           }
          ],
          "scattergl": [
           {
            "marker": {
             "colorbar": {
              "outlinewidth": 0,
              "ticks": ""
             }
            },
            "type": "scattergl"
           }
          ],
          "scattermapbox": [
           {
            "marker": {
             "colorbar": {
              "outlinewidth": 0,
              "ticks": ""
             }
            },
            "type": "scattermapbox"
           }
          ],
          "scatterpolar": [
           {
            "marker": {
             "colorbar": {
              "outlinewidth": 0,
              "ticks": ""
             }
            },
            "type": "scatterpolar"
           }
          ],
          "scatterpolargl": [
           {
            "marker": {
             "colorbar": {
              "outlinewidth": 0,
              "ticks": ""
             }
            },
            "type": "scatterpolargl"
           }
          ],
          "scatterternary": [
           {
            "marker": {
             "colorbar": {
              "outlinewidth": 0,
              "ticks": ""
             }
            },
            "type": "scatterternary"
           }
          ],
          "surface": [
           {
            "colorbar": {
             "outlinewidth": 0,
             "ticks": ""
            },
            "colorscale": [
             [
              0,
              "#0d0887"
             ],
             [
              0.1111111111111111,
              "#46039f"
             ],
             [
              0.2222222222222222,
              "#7201a8"
             ],
             [
              0.3333333333333333,
              "#9c179e"
             ],
             [
              0.4444444444444444,
              "#bd3786"
             ],
             [
              0.5555555555555556,
              "#d8576b"
             ],
             [
              0.6666666666666666,
              "#ed7953"
             ],
             [
              0.7777777777777778,
              "#fb9f3a"
             ],
             [
              0.8888888888888888,
              "#fdca26"
             ],
             [
              1,
              "#f0f921"
             ]
            ],
            "type": "surface"
           }
          ],
          "table": [
           {
            "cells": {
             "fill": {
              "color": "#EBF0F8"
             },
             "line": {
              "color": "white"
             }
            },
            "header": {
             "fill": {
              "color": "#C8D4E3"
             },
             "line": {
              "color": "white"
             }
            },
            "type": "table"
           }
          ]
         },
         "layout": {
          "annotationdefaults": {
           "arrowcolor": "#2a3f5f",
           "arrowhead": 0,
           "arrowwidth": 1
          },
          "autotypenumbers": "strict",
          "coloraxis": {
           "colorbar": {
            "outlinewidth": 0,
            "ticks": ""
           }
          },
          "colorscale": {
           "diverging": [
            [
             0,
             "#8e0152"
            ],
            [
             0.1,
             "#c51b7d"
            ],
            [
             0.2,
             "#de77ae"
            ],
            [
             0.3,
             "#f1b6da"
            ],
            [
             0.4,
             "#fde0ef"
            ],
            [
             0.5,
             "#f7f7f7"
            ],
            [
             0.6,
             "#e6f5d0"
            ],
            [
             0.7,
             "#b8e186"
            ],
            [
             0.8,
             "#7fbc41"
            ],
            [
             0.9,
             "#4d9221"
            ],
            [
             1,
             "#276419"
            ]
           ],
           "sequential": [
            [
             0,
             "#0d0887"
            ],
            [
             0.1111111111111111,
             "#46039f"
            ],
            [
             0.2222222222222222,
             "#7201a8"
            ],
            [
             0.3333333333333333,
             "#9c179e"
            ],
            [
             0.4444444444444444,
             "#bd3786"
            ],
            [
             0.5555555555555556,
             "#d8576b"
            ],
            [
             0.6666666666666666,
             "#ed7953"
            ],
            [
             0.7777777777777778,
             "#fb9f3a"
            ],
            [
             0.8888888888888888,
             "#fdca26"
            ],
            [
             1,
             "#f0f921"
            ]
           ],
           "sequentialminus": [
            [
             0,
             "#0d0887"
            ],
            [
             0.1111111111111111,
             "#46039f"
            ],
            [
             0.2222222222222222,
             "#7201a8"
            ],
            [
             0.3333333333333333,
             "#9c179e"
            ],
            [
             0.4444444444444444,
             "#bd3786"
            ],
            [
             0.5555555555555556,
             "#d8576b"
            ],
            [
             0.6666666666666666,
             "#ed7953"
            ],
            [
             0.7777777777777778,
             "#fb9f3a"
            ],
            [
             0.8888888888888888,
             "#fdca26"
            ],
            [
             1,
             "#f0f921"
            ]
           ]
          },
          "colorway": [
           "#636efa",
           "#EF553B",
           "#00cc96",
           "#ab63fa",
           "#FFA15A",
           "#19d3f3",
           "#FF6692",
           "#B6E880",
           "#FF97FF",
           "#FECB52"
          ],
          "font": {
           "color": "#2a3f5f"
          },
          "geo": {
           "bgcolor": "white",
           "lakecolor": "white",
           "landcolor": "#E5ECF6",
           "showlakes": true,
           "showland": true,
           "subunitcolor": "white"
          },
          "hoverlabel": {
           "align": "left"
          },
          "hovermode": "closest",
          "mapbox": {
           "style": "light"
          },
          "paper_bgcolor": "white",
          "plot_bgcolor": "#E5ECF6",
          "polar": {
           "angularaxis": {
            "gridcolor": "white",
            "linecolor": "white",
            "ticks": ""
           },
           "bgcolor": "#E5ECF6",
           "radialaxis": {
            "gridcolor": "white",
            "linecolor": "white",
            "ticks": ""
           }
          },
          "scene": {
           "xaxis": {
            "backgroundcolor": "#E5ECF6",
            "gridcolor": "white",
            "gridwidth": 2,
            "linecolor": "white",
            "showbackground": true,
            "ticks": "",
            "zerolinecolor": "white"
           },
           "yaxis": {
            "backgroundcolor": "#E5ECF6",
            "gridcolor": "white",
            "gridwidth": 2,
            "linecolor": "white",
            "showbackground": true,
            "ticks": "",
            "zerolinecolor": "white"
           },
           "zaxis": {
            "backgroundcolor": "#E5ECF6",
            "gridcolor": "white",
            "gridwidth": 2,
            "linecolor": "white",
            "showbackground": true,
            "ticks": "",
            "zerolinecolor": "white"
           }
          },
          "shapedefaults": {
           "line": {
            "color": "#2a3f5f"
           }
          },
          "ternary": {
           "aaxis": {
            "gridcolor": "white",
            "linecolor": "white",
            "ticks": ""
           },
           "baxis": {
            "gridcolor": "white",
            "linecolor": "white",
            "ticks": ""
           },
           "bgcolor": "#E5ECF6",
           "caxis": {
            "gridcolor": "white",
            "linecolor": "white",
            "ticks": ""
           }
          },
          "title": {
           "x": 0.05
          },
          "xaxis": {
           "automargin": true,
           "gridcolor": "white",
           "linecolor": "white",
           "ticks": "",
           "title": {
            "standoff": 15
           },
           "zerolinecolor": "white",
           "zerolinewidth": 2
          },
          "yaxis": {
           "automargin": true,
           "gridcolor": "white",
           "linecolor": "white",
           "ticks": "",
           "title": {
            "standoff": 15
           },
           "zerolinecolor": "white",
           "zerolinewidth": 2
          }
         }
        },
        "title": {
         "text": "Line Chart of Total Sales per Year of Release Platforms: DS-X360"
        },
        "xaxis": {
         "anchor": "y",
         "domain": [
          0,
          1
         ],
         "title": {
          "text": "Year of Release"
         }
        },
        "yaxis": {
         "anchor": "x",
         "domain": [
          0,
          1
         ],
         "title": {
          "text": "Total Sales"
         }
        }
       }
      }
     },
     "metadata": {},
     "output_type": "display_data"
    }
   ],
   "source": [
    "#platform, release_year, total_sales\n",
    "no_sales_line = px.line(platform_sales_year_1, x='year_of_release', y='total_sales',color='platform',labels={\"total_sales\": \"Total Sales\", \"year_of_release\": \"Year of Release\"}, title='Line Chart of Total Sales per Year of Release Platforms: DS-X360')\n",
    "\n",
    "no_sales_line.show()"
   ]
  },
  {
   "cell_type": "markdown",
   "metadata": {},
   "source": [
    "Code Meaning:\n",
    "1) Use px.line() in order to create a line chart with data from the platform_sales_year_2 dataframe.\n",
    "2) Use the year_of_release column as the x axis and the total_sales column as the y axis.\n",
    "3) Set the color parameter to the platform column of the dataframe.\n",
    "4) Set the title as: 'Line Chart of Total Sales per Year of Release for Platforms: PS2-XOne'.\n",
    "5) Assign the code to no_sales_line_2 in order to save the result.\n",
    "6) Use the show() method in order to display the no_sales_line_2 chart."
   ]
  },
  {
   "cell_type": "code",
   "execution_count": 42,
   "metadata": {},
   "outputs": [
    {
     "data": {
      "application/vnd.plotly.v1+json": {
       "config": {
        "plotlyServerURL": "https://plot.ly"
       },
       "data": [
        {
         "hovertemplate": "platform=PS3<br>Year of Release=%{x}<br>Total Sales=%{y}<extra></extra>",
         "legendgroup": "PS3",
         "line": {
          "color": "#636efa",
          "dash": "solid"
         },
         "marker": {
          "symbol": "circle"
         },
         "mode": "lines",
         "name": "PS3",
         "orientation": "v",
         "showlegend": true,
         "type": "scatter",
         "x": [
          2006,
          2007,
          2008,
          2009,
          2010,
          2011,
          2012,
          2013,
          2014,
          2015
         ],
         "xaxis": "x",
         "y": [
          19.62,
          76.03,
          110.01,
          118.5,
          125.25,
          135.18,
          94.3,
          102.7,
          11.34,
          0.02
         ],
         "yaxis": "y"
        },
        {
         "hovertemplate": "platform=PS4<br>Year of Release=%{x}<br>Total Sales=%{y}<extra></extra>",
         "legendgroup": "PS4",
         "line": {
          "color": "#EF553B",
          "dash": "solid"
         },
         "marker": {
          "symbol": "circle"
         },
         "mode": "lines",
         "name": "PS4",
         "orientation": "v",
         "showlegend": true,
         "type": "scatter",
         "x": [
          2013,
          2014,
          2015,
          2016
         ],
         "xaxis": "x",
         "y": [
          25.07,
          80.95,
          80.9,
          57.35
         ],
         "yaxis": "y"
        },
        {
         "hovertemplate": "platform=PSP<br>Year of Release=%{x}<br>Total Sales=%{y}<extra></extra>",
         "legendgroup": "PSP",
         "line": {
          "color": "#00cc96",
          "dash": "solid"
         },
         "marker": {
          "symbol": "circle"
         },
         "mode": "lines",
         "name": "PSP",
         "orientation": "v",
         "showlegend": true,
         "type": "scatter",
         "x": [
          2004,
          2005,
          2006,
          2007,
          2008,
          2009,
          2010,
          2011,
          2013
         ],
         "xaxis": "x",
         "y": [
          4.46,
          39.22,
          43.230000000000004,
          38.02,
          25.68,
          20.46,
          15.610000000000001,
          3.34,
          0.15
         ],
         "yaxis": "y"
        },
        {
         "hovertemplate": "platform=PSV<br>Year of Release=%{x}<br>Total Sales=%{y}<extra></extra>",
         "legendgroup": "PSV",
         "line": {
          "color": "#ab63fa",
          "dash": "solid"
         },
         "marker": {
          "symbol": "circle"
         },
         "mode": "lines",
         "name": "PSV",
         "orientation": "v",
         "showlegend": true,
         "type": "scatter",
         "x": [
          2007,
          2011,
          2012,
          2013,
          2014,
          2015,
          2016
         ],
         "xaxis": "x",
         "y": [
          0.26,
          3.88,
          13.07,
          5.960000000000001,
          5.2700000000000005,
          1.72,
          0.93
         ],
         "yaxis": "y"
        },
        {
         "hovertemplate": "platform=Wii<br>Year of Release=%{x}<br>Total Sales=%{y}<extra></extra>",
         "legendgroup": "Wii",
         "line": {
          "color": "#FFA15A",
          "dash": "solid"
         },
         "marker": {
          "symbol": "circle"
         },
         "mode": "lines",
         "name": "Wii",
         "orientation": "v",
         "showlegend": true,
         "type": "scatter",
         "x": [
          2006,
          2007,
          2008,
          2009,
          2010,
          2011,
          2012
         ],
         "xaxis": "x",
         "y": [
          135.01999999999998,
          140.92,
          130.99,
          151.01000000000002,
          67.92,
          33.75,
          13.23
         ],
         "yaxis": "y"
        },
        {
         "hovertemplate": "platform=WiiU<br>Year of Release=%{x}<br>Total Sales=%{y}<extra></extra>",
         "legendgroup": "WiiU",
         "line": {
          "color": "#19d3f3",
          "dash": "solid"
         },
         "marker": {
          "symbol": "circle"
         },
         "mode": "lines",
         "name": "WiiU",
         "orientation": "v",
         "showlegend": true,
         "type": "scatter",
         "x": [
          2012,
          2013,
          2014,
          2015,
          2016
         ],
         "xaxis": "x",
         "y": [
          14.85,
          17.400000000000002,
          15.22,
          15.35,
          3.2600000000000002
         ],
         "yaxis": "y"
        },
        {
         "hovertemplate": "platform=X360<br>Year of Release=%{x}<br>Total Sales=%{y}<extra></extra>",
         "legendgroup": "X360",
         "line": {
          "color": "#FF6692",
          "dash": "solid"
         },
         "marker": {
          "symbol": "circle"
         },
         "mode": "lines",
         "name": "X360",
         "orientation": "v",
         "showlegend": true,
         "type": "scatter",
         "x": [
          2005,
          2006,
          2007,
          2008,
          2009,
          2010,
          2011,
          2012,
          2013,
          2014
         ],
         "xaxis": "x",
         "y": [
          7.640000000000001,
          48.92,
          99.11,
          129.16,
          110.67,
          157.41,
          129.53,
          95.68,
          75.17,
          10.1
         ],
         "yaxis": "y"
        },
        {
         "hovertemplate": "platform=XB<br>Year of Release=%{x}<br>Total Sales=%{y}<extra></extra>",
         "legendgroup": "XB",
         "line": {
          "color": "#B6E880",
          "dash": "solid"
         },
         "marker": {
          "symbol": "circle"
         },
         "mode": "lines",
         "name": "XB",
         "orientation": "v",
         "showlegend": true,
         "type": "scatter",
         "x": [
          2000,
          2001,
          2002,
          2003,
          2004,
          2005,
          2006,
          2007
         ],
         "xaxis": "x",
         "y": [
          0.99,
          20.72,
          40.24,
          42.68,
          58.510000000000005,
          41.38,
          7.15,
          5.5200000000000005
         ],
         "yaxis": "y"
        },
        {
         "hovertemplate": "platform=XOne<br>Year of Release=%{x}<br>Total Sales=%{y}<extra></extra>",
         "legendgroup": "XOne",
         "line": {
          "color": "#FF97FF",
          "dash": "solid"
         },
         "marker": {
          "symbol": "circle"
         },
         "mode": "lines",
         "name": "XOne",
         "orientation": "v",
         "showlegend": true,
         "type": "scatter",
         "x": [
          2013,
          2014,
          2015,
          2016
         ],
         "xaxis": "x",
         "y": [
          14.92,
          47.01,
          44.58,
          23.7
         ],
         "yaxis": "y"
        }
       ],
       "layout": {
        "legend": {
         "title": {
          "text": "platform"
         },
         "tracegroupgap": 0
        },
        "template": {
         "data": {
          "bar": [
           {
            "error_x": {
             "color": "#2a3f5f"
            },
            "error_y": {
             "color": "#2a3f5f"
            },
            "marker": {
             "line": {
              "color": "#E5ECF6",
              "width": 0.5
             },
             "pattern": {
              "fillmode": "overlay",
              "size": 10,
              "solidity": 0.2
             }
            },
            "type": "bar"
           }
          ],
          "barpolar": [
           {
            "marker": {
             "line": {
              "color": "#E5ECF6",
              "width": 0.5
             },
             "pattern": {
              "fillmode": "overlay",
              "size": 10,
              "solidity": 0.2
             }
            },
            "type": "barpolar"
           }
          ],
          "carpet": [
           {
            "aaxis": {
             "endlinecolor": "#2a3f5f",
             "gridcolor": "white",
             "linecolor": "white",
             "minorgridcolor": "white",
             "startlinecolor": "#2a3f5f"
            },
            "baxis": {
             "endlinecolor": "#2a3f5f",
             "gridcolor": "white",
             "linecolor": "white",
             "minorgridcolor": "white",
             "startlinecolor": "#2a3f5f"
            },
            "type": "carpet"
           }
          ],
          "choropleth": [
           {
            "colorbar": {
             "outlinewidth": 0,
             "ticks": ""
            },
            "type": "choropleth"
           }
          ],
          "contour": [
           {
            "colorbar": {
             "outlinewidth": 0,
             "ticks": ""
            },
            "colorscale": [
             [
              0,
              "#0d0887"
             ],
             [
              0.1111111111111111,
              "#46039f"
             ],
             [
              0.2222222222222222,
              "#7201a8"
             ],
             [
              0.3333333333333333,
              "#9c179e"
             ],
             [
              0.4444444444444444,
              "#bd3786"
             ],
             [
              0.5555555555555556,
              "#d8576b"
             ],
             [
              0.6666666666666666,
              "#ed7953"
             ],
             [
              0.7777777777777778,
              "#fb9f3a"
             ],
             [
              0.8888888888888888,
              "#fdca26"
             ],
             [
              1,
              "#f0f921"
             ]
            ],
            "type": "contour"
           }
          ],
          "contourcarpet": [
           {
            "colorbar": {
             "outlinewidth": 0,
             "ticks": ""
            },
            "type": "contourcarpet"
           }
          ],
          "heatmap": [
           {
            "colorbar": {
             "outlinewidth": 0,
             "ticks": ""
            },
            "colorscale": [
             [
              0,
              "#0d0887"
             ],
             [
              0.1111111111111111,
              "#46039f"
             ],
             [
              0.2222222222222222,
              "#7201a8"
             ],
             [
              0.3333333333333333,
              "#9c179e"
             ],
             [
              0.4444444444444444,
              "#bd3786"
             ],
             [
              0.5555555555555556,
              "#d8576b"
             ],
             [
              0.6666666666666666,
              "#ed7953"
             ],
             [
              0.7777777777777778,
              "#fb9f3a"
             ],
             [
              0.8888888888888888,
              "#fdca26"
             ],
             [
              1,
              "#f0f921"
             ]
            ],
            "type": "heatmap"
           }
          ],
          "heatmapgl": [
           {
            "colorbar": {
             "outlinewidth": 0,
             "ticks": ""
            },
            "colorscale": [
             [
              0,
              "#0d0887"
             ],
             [
              0.1111111111111111,
              "#46039f"
             ],
             [
              0.2222222222222222,
              "#7201a8"
             ],
             [
              0.3333333333333333,
              "#9c179e"
             ],
             [
              0.4444444444444444,
              "#bd3786"
             ],
             [
              0.5555555555555556,
              "#d8576b"
             ],
             [
              0.6666666666666666,
              "#ed7953"
             ],
             [
              0.7777777777777778,
              "#fb9f3a"
             ],
             [
              0.8888888888888888,
              "#fdca26"
             ],
             [
              1,
              "#f0f921"
             ]
            ],
            "type": "heatmapgl"
           }
          ],
          "histogram": [
           {
            "marker": {
             "pattern": {
              "fillmode": "overlay",
              "size": 10,
              "solidity": 0.2
             }
            },
            "type": "histogram"
           }
          ],
          "histogram2d": [
           {
            "colorbar": {
             "outlinewidth": 0,
             "ticks": ""
            },
            "colorscale": [
             [
              0,
              "#0d0887"
             ],
             [
              0.1111111111111111,
              "#46039f"
             ],
             [
              0.2222222222222222,
              "#7201a8"
             ],
             [
              0.3333333333333333,
              "#9c179e"
             ],
             [
              0.4444444444444444,
              "#bd3786"
             ],
             [
              0.5555555555555556,
              "#d8576b"
             ],
             [
              0.6666666666666666,
              "#ed7953"
             ],
             [
              0.7777777777777778,
              "#fb9f3a"
             ],
             [
              0.8888888888888888,
              "#fdca26"
             ],
             [
              1,
              "#f0f921"
             ]
            ],
            "type": "histogram2d"
           }
          ],
          "histogram2dcontour": [
           {
            "colorbar": {
             "outlinewidth": 0,
             "ticks": ""
            },
            "colorscale": [
             [
              0,
              "#0d0887"
             ],
             [
              0.1111111111111111,
              "#46039f"
             ],
             [
              0.2222222222222222,
              "#7201a8"
             ],
             [
              0.3333333333333333,
              "#9c179e"
             ],
             [
              0.4444444444444444,
              "#bd3786"
             ],
             [
              0.5555555555555556,
              "#d8576b"
             ],
             [
              0.6666666666666666,
              "#ed7953"
             ],
             [
              0.7777777777777778,
              "#fb9f3a"
             ],
             [
              0.8888888888888888,
              "#fdca26"
             ],
             [
              1,
              "#f0f921"
             ]
            ],
            "type": "histogram2dcontour"
           }
          ],
          "mesh3d": [
           {
            "colorbar": {
             "outlinewidth": 0,
             "ticks": ""
            },
            "type": "mesh3d"
           }
          ],
          "parcoords": [
           {
            "line": {
             "colorbar": {
              "outlinewidth": 0,
              "ticks": ""
             }
            },
            "type": "parcoords"
           }
          ],
          "pie": [
           {
            "automargin": true,
            "type": "pie"
           }
          ],
          "scatter": [
           {
            "fillpattern": {
             "fillmode": "overlay",
             "size": 10,
             "solidity": 0.2
            },
            "type": "scatter"
           }
          ],
          "scatter3d": [
           {
            "line": {
             "colorbar": {
              "outlinewidth": 0,
              "ticks": ""
             }
            },
            "marker": {
             "colorbar": {
              "outlinewidth": 0,
              "ticks": ""
             }
            },
            "type": "scatter3d"
           }
          ],
          "scattercarpet": [
           {
            "marker": {
             "colorbar": {
              "outlinewidth": 0,
              "ticks": ""
             }
            },
            "type": "scattercarpet"
           }
          ],
          "scattergeo": [
           {
            "marker": {
             "colorbar": {
              "outlinewidth": 0,
              "ticks": ""
             }
            },
            "type": "scattergeo"
           }
          ],
          "scattergl": [
           {
            "marker": {
             "colorbar": {
              "outlinewidth": 0,
              "ticks": ""
             }
            },
            "type": "scattergl"
           }
          ],
          "scattermapbox": [
           {
            "marker": {
             "colorbar": {
              "outlinewidth": 0,
              "ticks": ""
             }
            },
            "type": "scattermapbox"
           }
          ],
          "scatterpolar": [
           {
            "marker": {
             "colorbar": {
              "outlinewidth": 0,
              "ticks": ""
             }
            },
            "type": "scatterpolar"
           }
          ],
          "scatterpolargl": [
           {
            "marker": {
             "colorbar": {
              "outlinewidth": 0,
              "ticks": ""
             }
            },
            "type": "scatterpolargl"
           }
          ],
          "scatterternary": [
           {
            "marker": {
             "colorbar": {
              "outlinewidth": 0,
              "ticks": ""
             }
            },
            "type": "scatterternary"
           }
          ],
          "surface": [
           {
            "colorbar": {
             "outlinewidth": 0,
             "ticks": ""
            },
            "colorscale": [
             [
              0,
              "#0d0887"
             ],
             [
              0.1111111111111111,
              "#46039f"
             ],
             [
              0.2222222222222222,
              "#7201a8"
             ],
             [
              0.3333333333333333,
              "#9c179e"
             ],
             [
              0.4444444444444444,
              "#bd3786"
             ],
             [
              0.5555555555555556,
              "#d8576b"
             ],
             [
              0.6666666666666666,
              "#ed7953"
             ],
             [
              0.7777777777777778,
              "#fb9f3a"
             ],
             [
              0.8888888888888888,
              "#fdca26"
             ],
             [
              1,
              "#f0f921"
             ]
            ],
            "type": "surface"
           }
          ],
          "table": [
           {
            "cells": {
             "fill": {
              "color": "#EBF0F8"
             },
             "line": {
              "color": "white"
             }
            },
            "header": {
             "fill": {
              "color": "#C8D4E3"
             },
             "line": {
              "color": "white"
             }
            },
            "type": "table"
           }
          ]
         },
         "layout": {
          "annotationdefaults": {
           "arrowcolor": "#2a3f5f",
           "arrowhead": 0,
           "arrowwidth": 1
          },
          "autotypenumbers": "strict",
          "coloraxis": {
           "colorbar": {
            "outlinewidth": 0,
            "ticks": ""
           }
          },
          "colorscale": {
           "diverging": [
            [
             0,
             "#8e0152"
            ],
            [
             0.1,
             "#c51b7d"
            ],
            [
             0.2,
             "#de77ae"
            ],
            [
             0.3,
             "#f1b6da"
            ],
            [
             0.4,
             "#fde0ef"
            ],
            [
             0.5,
             "#f7f7f7"
            ],
            [
             0.6,
             "#e6f5d0"
            ],
            [
             0.7,
             "#b8e186"
            ],
            [
             0.8,
             "#7fbc41"
            ],
            [
             0.9,
             "#4d9221"
            ],
            [
             1,
             "#276419"
            ]
           ],
           "sequential": [
            [
             0,
             "#0d0887"
            ],
            [
             0.1111111111111111,
             "#46039f"
            ],
            [
             0.2222222222222222,
             "#7201a8"
            ],
            [
             0.3333333333333333,
             "#9c179e"
            ],
            [
             0.4444444444444444,
             "#bd3786"
            ],
            [
             0.5555555555555556,
             "#d8576b"
            ],
            [
             0.6666666666666666,
             "#ed7953"
            ],
            [
             0.7777777777777778,
             "#fb9f3a"
            ],
            [
             0.8888888888888888,
             "#fdca26"
            ],
            [
             1,
             "#f0f921"
            ]
           ],
           "sequentialminus": [
            [
             0,
             "#0d0887"
            ],
            [
             0.1111111111111111,
             "#46039f"
            ],
            [
             0.2222222222222222,
             "#7201a8"
            ],
            [
             0.3333333333333333,
             "#9c179e"
            ],
            [
             0.4444444444444444,
             "#bd3786"
            ],
            [
             0.5555555555555556,
             "#d8576b"
            ],
            [
             0.6666666666666666,
             "#ed7953"
            ],
            [
             0.7777777777777778,
             "#fb9f3a"
            ],
            [
             0.8888888888888888,
             "#fdca26"
            ],
            [
             1,
             "#f0f921"
            ]
           ]
          },
          "colorway": [
           "#636efa",
           "#EF553B",
           "#00cc96",
           "#ab63fa",
           "#FFA15A",
           "#19d3f3",
           "#FF6692",
           "#B6E880",
           "#FF97FF",
           "#FECB52"
          ],
          "font": {
           "color": "#2a3f5f"
          },
          "geo": {
           "bgcolor": "white",
           "lakecolor": "white",
           "landcolor": "#E5ECF6",
           "showlakes": true,
           "showland": true,
           "subunitcolor": "white"
          },
          "hoverlabel": {
           "align": "left"
          },
          "hovermode": "closest",
          "mapbox": {
           "style": "light"
          },
          "paper_bgcolor": "white",
          "plot_bgcolor": "#E5ECF6",
          "polar": {
           "angularaxis": {
            "gridcolor": "white",
            "linecolor": "white",
            "ticks": ""
           },
           "bgcolor": "#E5ECF6",
           "radialaxis": {
            "gridcolor": "white",
            "linecolor": "white",
            "ticks": ""
           }
          },
          "scene": {
           "xaxis": {
            "backgroundcolor": "#E5ECF6",
            "gridcolor": "white",
            "gridwidth": 2,
            "linecolor": "white",
            "showbackground": true,
            "ticks": "",
            "zerolinecolor": "white"
           },
           "yaxis": {
            "backgroundcolor": "#E5ECF6",
            "gridcolor": "white",
            "gridwidth": 2,
            "linecolor": "white",
            "showbackground": true,
            "ticks": "",
            "zerolinecolor": "white"
           },
           "zaxis": {
            "backgroundcolor": "#E5ECF6",
            "gridcolor": "white",
            "gridwidth": 2,
            "linecolor": "white",
            "showbackground": true,
            "ticks": "",
            "zerolinecolor": "white"
           }
          },
          "shapedefaults": {
           "line": {
            "color": "#2a3f5f"
           }
          },
          "ternary": {
           "aaxis": {
            "gridcolor": "white",
            "linecolor": "white",
            "ticks": ""
           },
           "baxis": {
            "gridcolor": "white",
            "linecolor": "white",
            "ticks": ""
           },
           "bgcolor": "#E5ECF6",
           "caxis": {
            "gridcolor": "white",
            "linecolor": "white",
            "ticks": ""
           }
          },
          "title": {
           "x": 0.05
          },
          "xaxis": {
           "automargin": true,
           "gridcolor": "white",
           "linecolor": "white",
           "ticks": "",
           "title": {
            "standoff": 15
           },
           "zerolinecolor": "white",
           "zerolinewidth": 2
          },
          "yaxis": {
           "automargin": true,
           "gridcolor": "white",
           "linecolor": "white",
           "ticks": "",
           "title": {
            "standoff": 15
           },
           "zerolinecolor": "white",
           "zerolinewidth": 2
          }
         }
        },
        "title": {
         "text": "Line Chart of Total Sales per Year of Release for Platforms: 2600-XOne"
        },
        "xaxis": {
         "anchor": "y",
         "domain": [
          0,
          1
         ],
         "title": {
          "text": "Year of Release"
         }
        },
        "yaxis": {
         "anchor": "x",
         "domain": [
          0,
          1
         ],
         "title": {
          "text": "Total Sales"
         }
        }
       }
      }
     },
     "metadata": {},
     "output_type": "display_data"
    }
   ],
   "source": [
    "no_sales_line_2 = px.line(platform_sales_year_2, x='year_of_release', y='total_sales',labels={\"total_sales\": \"Total Sales\", \"year_of_release\": \"Year of Release\"}, color='platform', title='Line Chart of Total Sales per Year of Release for Platforms: 2600-XOne')\n",
    "\n",
    "no_sales_line_2.show()"
   ]
  },
  {
   "cell_type": "markdown",
   "metadata": {},
   "source": [
    "# 2016 Boxplots\n",
    "\n",
    "Question/ Task Being Addressed:\n",
    "Determine what period you should take data for. To do so, look at your answers to the previous questions. The data should allow you to build a model for 2017.\n",
    "Model for 2017:\n",
    "1) It appears that the best selling genre for 2016 was 'Shooter' which had a total of $38.22 M per year total sales, which could possibly be a profitable genre for 2017.\n",
    "2) It appears that the best selling platform for 2016 was 'PS4' which had a total sales $69.25 M per year total sales, which could possibly be a profitable genre for 2017.\n",
    "3) It appears that the best selling rating for games for 2016 is 'E' which had a total sales of $58.34 M per year total sales, which could be a proftiable game rating for 2017."
   ]
  },
  {
   "cell_type": "code",
   "execution_count": 43,
   "metadata": {},
   "outputs": [
    {
     "data": {
      "text/plain": [
       "array([1985, 1988, 1992, 1994, 1996, 1997, 1998, 1999, 2000, 2001, 2002,\n",
       "       2003, 2004, 2005, 2006, 2007, 2008, 2009, 2010, 2011, 2012, 2013,\n",
       "       2014, 2015, 2016])"
      ]
     },
     "execution_count": 43,
     "metadata": {},
     "output_type": "execute_result"
    }
   ],
   "source": [
    "df['year_of_release'].sort_values().unique()"
   ]
  },
  {
   "cell_type": "code",
   "execution_count": 44,
   "metadata": {},
   "outputs": [
    {
     "data": {
      "text/html": [
       "<div>\n",
       "<style scoped>\n",
       "    .dataframe tbody tr th:only-of-type {\n",
       "        vertical-align: middle;\n",
       "    }\n",
       "\n",
       "    .dataframe tbody tr th {\n",
       "        vertical-align: top;\n",
       "    }\n",
       "\n",
       "    .dataframe thead th {\n",
       "        text-align: right;\n",
       "    }\n",
       "</style>\n",
       "<table border=\"1\" class=\"dataframe\">\n",
       "  <thead>\n",
       "    <tr style=\"text-align: right;\">\n",
       "      <th></th>\n",
       "      <th>name</th>\n",
       "      <th>platform</th>\n",
       "      <th>year_of_release</th>\n",
       "      <th>genre</th>\n",
       "      <th>na_sales</th>\n",
       "      <th>eu_sales</th>\n",
       "      <th>jp_sales</th>\n",
       "      <th>other_sales</th>\n",
       "      <th>critic_score</th>\n",
       "      <th>user_score</th>\n",
       "      <th>rating</th>\n",
       "      <th>total_sales</th>\n",
       "    </tr>\n",
       "  </thead>\n",
       "  <tbody>\n",
       "    <tr>\n",
       "      <th>94</th>\n",
       "      <td>FIFA 17</td>\n",
       "      <td>PS4</td>\n",
       "      <td>2016</td>\n",
       "      <td>Sports</td>\n",
       "      <td>0.66</td>\n",
       "      <td>5.75</td>\n",
       "      <td>0.08</td>\n",
       "      <td>1.11</td>\n",
       "      <td>85.0</td>\n",
       "      <td>5.0</td>\n",
       "      <td>E</td>\n",
       "      <td>7.60</td>\n",
       "    </tr>\n",
       "    <tr>\n",
       "      <th>171</th>\n",
       "      <td>Uncharted 4: A Thief's End</td>\n",
       "      <td>PS4</td>\n",
       "      <td>2016</td>\n",
       "      <td>Shooter</td>\n",
       "      <td>1.85</td>\n",
       "      <td>2.50</td>\n",
       "      <td>0.19</td>\n",
       "      <td>0.85</td>\n",
       "      <td>93.0</td>\n",
       "      <td>7.9</td>\n",
       "      <td>T</td>\n",
       "      <td>5.39</td>\n",
       "    </tr>\n",
       "    <tr>\n",
       "      <th>245</th>\n",
       "      <td>Call of Duty: Infinite Warfare</td>\n",
       "      <td>PS4</td>\n",
       "      <td>2016</td>\n",
       "      <td>Shooter</td>\n",
       "      <td>1.61</td>\n",
       "      <td>2.00</td>\n",
       "      <td>0.15</td>\n",
       "      <td>0.71</td>\n",
       "      <td>77.0</td>\n",
       "      <td>3.4</td>\n",
       "      <td>M</td>\n",
       "      <td>4.47</td>\n",
       "    </tr>\n",
       "    <tr>\n",
       "      <th>289</th>\n",
       "      <td>Battlefield 1</td>\n",
       "      <td>PS4</td>\n",
       "      <td>2016</td>\n",
       "      <td>Shooter</td>\n",
       "      <td>1.10</td>\n",
       "      <td>2.15</td>\n",
       "      <td>0.21</td>\n",
       "      <td>0.61</td>\n",
       "      <td>88.0</td>\n",
       "      <td>8.4</td>\n",
       "      <td>M</td>\n",
       "      <td>4.07</td>\n",
       "    </tr>\n",
       "    <tr>\n",
       "      <th>325</th>\n",
       "      <td>Tom Clancy's The Division</td>\n",
       "      <td>PS4</td>\n",
       "      <td>2016</td>\n",
       "      <td>Shooter</td>\n",
       "      <td>1.35</td>\n",
       "      <td>1.70</td>\n",
       "      <td>0.15</td>\n",
       "      <td>0.60</td>\n",
       "      <td>80.0</td>\n",
       "      <td>7.0</td>\n",
       "      <td>M</td>\n",
       "      <td>3.80</td>\n",
       "    </tr>\n",
       "  </tbody>\n",
       "</table>\n",
       "</div>"
      ],
      "text/plain": [
       "                               name platform  year_of_release    genre  \\\n",
       "94                          FIFA 17      PS4             2016   Sports   \n",
       "171      Uncharted 4: A Thief's End      PS4             2016  Shooter   \n",
       "245  Call of Duty: Infinite Warfare      PS4             2016  Shooter   \n",
       "289                   Battlefield 1      PS4             2016  Shooter   \n",
       "325       Tom Clancy's The Division      PS4             2016  Shooter   \n",
       "\n",
       "     na_sales  eu_sales  jp_sales  other_sales  critic_score  user_score  \\\n",
       "94       0.66      5.75      0.08         1.11          85.0         5.0   \n",
       "171      1.85      2.50      0.19         0.85          93.0         7.9   \n",
       "245      1.61      2.00      0.15         0.71          77.0         3.4   \n",
       "289      1.10      2.15      0.21         0.61          88.0         8.4   \n",
       "325      1.35      1.70      0.15         0.60          80.0         7.0   \n",
       "\n",
       "    rating  total_sales  \n",
       "94       E         7.60  \n",
       "171      T         5.39  \n",
       "245      M         4.47  \n",
       "289      M         4.07  \n",
       "325      M         3.80  "
      ]
     },
     "execution_count": 44,
     "metadata": {},
     "output_type": "execute_result"
    }
   ],
   "source": [
    "df_2016 = df[df['year_of_release'] == 2016]\n",
    "df_2016.head()"
   ]
  },
  {
   "cell_type": "markdown",
   "metadata": {},
   "source": [
    "Code Meaning: \n",
    "1) In order to get rid of stacked values in the data for the bar chart by using the groupby function on the df_2016 dataframe and grouping by platform.\n",
    "2) In the same line of code, use the sum() method in on the total_sales column of the df_2016 dataframe in order to sum up the total values.\n",
    "3) Assign the code to g_2106 in order to save the result.\n",
    "4) Use reset_index() method on the g_2016 dataframe.\n",
    "5) Use the rename() method in order to rename the total_sales column to total_sales_sum. Use columns= as the parameter.\n",
    "6) Use the head() function in order to print the first five lines of g_2016.\n",
    "\n",
    "Code Result:\n",
    "g_2016 was created successfully."
   ]
  },
  {
   "cell_type": "code",
   "execution_count": 45,
   "metadata": {},
   "outputs": [
    {
     "data": {
      "text/html": [
       "<div>\n",
       "<style scoped>\n",
       "    .dataframe tbody tr th:only-of-type {\n",
       "        vertical-align: middle;\n",
       "    }\n",
       "\n",
       "    .dataframe tbody tr th {\n",
       "        vertical-align: top;\n",
       "    }\n",
       "\n",
       "    .dataframe thead th {\n",
       "        text-align: right;\n",
       "    }\n",
       "</style>\n",
       "<table border=\"1\" class=\"dataframe\">\n",
       "  <thead>\n",
       "    <tr style=\"text-align: right;\">\n",
       "      <th></th>\n",
       "      <th>genre</th>\n",
       "      <th>total_sales_sum</th>\n",
       "    </tr>\n",
       "  </thead>\n",
       "  <tbody>\n",
       "    <tr>\n",
       "      <th>0</th>\n",
       "      <td>Action</td>\n",
       "      <td>19.37</td>\n",
       "    </tr>\n",
       "    <tr>\n",
       "      <th>1</th>\n",
       "      <td>Adventure</td>\n",
       "      <td>1.51</td>\n",
       "    </tr>\n",
       "    <tr>\n",
       "      <th>2</th>\n",
       "      <td>Fighting</td>\n",
       "      <td>4.15</td>\n",
       "    </tr>\n",
       "    <tr>\n",
       "      <th>3</th>\n",
       "      <td>Misc</td>\n",
       "      <td>0.75</td>\n",
       "    </tr>\n",
       "    <tr>\n",
       "      <th>4</th>\n",
       "      <td>Platform</td>\n",
       "      <td>1.20</td>\n",
       "    </tr>\n",
       "  </tbody>\n",
       "</table>\n",
       "</div>"
      ],
      "text/plain": [
       "       genre  total_sales_sum\n",
       "0     Action            19.37\n",
       "1  Adventure             1.51\n",
       "2   Fighting             4.15\n",
       "3       Misc             0.75\n",
       "4   Platform             1.20"
      ]
     },
     "execution_count": 45,
     "metadata": {},
     "output_type": "execute_result"
    }
   ],
   "source": [
    "g_2016 = df_2016.groupby('genre')['total_sales'].sum()\n",
    "g_2016 = g_2016.reset_index().rename(columns={'total_sales': 'total_sales_sum'})\n",
    "g_2016.head()"
   ]
  },
  {
   "cell_type": "markdown",
   "metadata": {},
   "source": [
    "Code Meaning:\n",
    "1) Use px.bar() in order to create a bar chart with the data from the g_2016 dataframe titled: \"Total Sales per Genre 2016\".\n",
    "2) Use the genre column of the g_2016 dataframe as the x axis and the total_sales_sum column as the y axis.\n",
    "3) Relabel x and y axes appropriately.\n",
    "4) Use the show() method in order to display the chart."
   ]
  },
  {
   "cell_type": "markdown",
   "metadata": {},
   "source": [
    "Code Meaning:"
   ]
  },
  {
   "cell_type": "code",
   "execution_count": 46,
   "metadata": {},
   "outputs": [
    {
     "data": {
      "application/vnd.plotly.v1+json": {
       "config": {
        "plotlyServerURL": "https://plot.ly"
       },
       "data": [
        {
         "alignmentgroup": "True",
         "hovertemplate": "Genre=%{x}<br>Sum of Total Sales=%{y}<extra></extra>",
         "legendgroup": "",
         "marker": {
          "color": "#636efa",
          "pattern": {
           "shape": ""
          }
         },
         "name": "",
         "offsetgroup": "",
         "orientation": "v",
         "showlegend": false,
         "textposition": "auto",
         "type": "bar",
         "x": [
          "Action",
          "Adventure",
          "Fighting",
          "Misc",
          "Platform",
          "Racing",
          "Role-Playing",
          "Shooter",
          "Simulation",
          "Sports",
          "Strategy"
         ],
         "xaxis": "x",
         "y": [
          19.37,
          1.51,
          4.15,
          0.7500000000000001,
          1.2,
          2.04,
          5.140000000000001,
          35.22,
          1.38,
          20.66,
          0.88
         ],
         "yaxis": "y"
        }
       ],
       "layout": {
        "barmode": "relative",
        "legend": {
         "tracegroupgap": 0
        },
        "template": {
         "data": {
          "bar": [
           {
            "error_x": {
             "color": "#2a3f5f"
            },
            "error_y": {
             "color": "#2a3f5f"
            },
            "marker": {
             "line": {
              "color": "#E5ECF6",
              "width": 0.5
             },
             "pattern": {
              "fillmode": "overlay",
              "size": 10,
              "solidity": 0.2
             }
            },
            "type": "bar"
           }
          ],
          "barpolar": [
           {
            "marker": {
             "line": {
              "color": "#E5ECF6",
              "width": 0.5
             },
             "pattern": {
              "fillmode": "overlay",
              "size": 10,
              "solidity": 0.2
             }
            },
            "type": "barpolar"
           }
          ],
          "carpet": [
           {
            "aaxis": {
             "endlinecolor": "#2a3f5f",
             "gridcolor": "white",
             "linecolor": "white",
             "minorgridcolor": "white",
             "startlinecolor": "#2a3f5f"
            },
            "baxis": {
             "endlinecolor": "#2a3f5f",
             "gridcolor": "white",
             "linecolor": "white",
             "minorgridcolor": "white",
             "startlinecolor": "#2a3f5f"
            },
            "type": "carpet"
           }
          ],
          "choropleth": [
           {
            "colorbar": {
             "outlinewidth": 0,
             "ticks": ""
            },
            "type": "choropleth"
           }
          ],
          "contour": [
           {
            "colorbar": {
             "outlinewidth": 0,
             "ticks": ""
            },
            "colorscale": [
             [
              0,
              "#0d0887"
             ],
             [
              0.1111111111111111,
              "#46039f"
             ],
             [
              0.2222222222222222,
              "#7201a8"
             ],
             [
              0.3333333333333333,
              "#9c179e"
             ],
             [
              0.4444444444444444,
              "#bd3786"
             ],
             [
              0.5555555555555556,
              "#d8576b"
             ],
             [
              0.6666666666666666,
              "#ed7953"
             ],
             [
              0.7777777777777778,
              "#fb9f3a"
             ],
             [
              0.8888888888888888,
              "#fdca26"
             ],
             [
              1,
              "#f0f921"
             ]
            ],
            "type": "contour"
           }
          ],
          "contourcarpet": [
           {
            "colorbar": {
             "outlinewidth": 0,
             "ticks": ""
            },
            "type": "contourcarpet"
           }
          ],
          "heatmap": [
           {
            "colorbar": {
             "outlinewidth": 0,
             "ticks": ""
            },
            "colorscale": [
             [
              0,
              "#0d0887"
             ],
             [
              0.1111111111111111,
              "#46039f"
             ],
             [
              0.2222222222222222,
              "#7201a8"
             ],
             [
              0.3333333333333333,
              "#9c179e"
             ],
             [
              0.4444444444444444,
              "#bd3786"
             ],
             [
              0.5555555555555556,
              "#d8576b"
             ],
             [
              0.6666666666666666,
              "#ed7953"
             ],
             [
              0.7777777777777778,
              "#fb9f3a"
             ],
             [
              0.8888888888888888,
              "#fdca26"
             ],
             [
              1,
              "#f0f921"
             ]
            ],
            "type": "heatmap"
           }
          ],
          "heatmapgl": [
           {
            "colorbar": {
             "outlinewidth": 0,
             "ticks": ""
            },
            "colorscale": [
             [
              0,
              "#0d0887"
             ],
             [
              0.1111111111111111,
              "#46039f"
             ],
             [
              0.2222222222222222,
              "#7201a8"
             ],
             [
              0.3333333333333333,
              "#9c179e"
             ],
             [
              0.4444444444444444,
              "#bd3786"
             ],
             [
              0.5555555555555556,
              "#d8576b"
             ],
             [
              0.6666666666666666,
              "#ed7953"
             ],
             [
              0.7777777777777778,
              "#fb9f3a"
             ],
             [
              0.8888888888888888,
              "#fdca26"
             ],
             [
              1,
              "#f0f921"
             ]
            ],
            "type": "heatmapgl"
           }
          ],
          "histogram": [
           {
            "marker": {
             "pattern": {
              "fillmode": "overlay",
              "size": 10,
              "solidity": 0.2
             }
            },
            "type": "histogram"
           }
          ],
          "histogram2d": [
           {
            "colorbar": {
             "outlinewidth": 0,
             "ticks": ""
            },
            "colorscale": [
             [
              0,
              "#0d0887"
             ],
             [
              0.1111111111111111,
              "#46039f"
             ],
             [
              0.2222222222222222,
              "#7201a8"
             ],
             [
              0.3333333333333333,
              "#9c179e"
             ],
             [
              0.4444444444444444,
              "#bd3786"
             ],
             [
              0.5555555555555556,
              "#d8576b"
             ],
             [
              0.6666666666666666,
              "#ed7953"
             ],
             [
              0.7777777777777778,
              "#fb9f3a"
             ],
             [
              0.8888888888888888,
              "#fdca26"
             ],
             [
              1,
              "#f0f921"
             ]
            ],
            "type": "histogram2d"
           }
          ],
          "histogram2dcontour": [
           {
            "colorbar": {
             "outlinewidth": 0,
             "ticks": ""
            },
            "colorscale": [
             [
              0,
              "#0d0887"
             ],
             [
              0.1111111111111111,
              "#46039f"
             ],
             [
              0.2222222222222222,
              "#7201a8"
             ],
             [
              0.3333333333333333,
              "#9c179e"
             ],
             [
              0.4444444444444444,
              "#bd3786"
             ],
             [
              0.5555555555555556,
              "#d8576b"
             ],
             [
              0.6666666666666666,
              "#ed7953"
             ],
             [
              0.7777777777777778,
              "#fb9f3a"
             ],
             [
              0.8888888888888888,
              "#fdca26"
             ],
             [
              1,
              "#f0f921"
             ]
            ],
            "type": "histogram2dcontour"
           }
          ],
          "mesh3d": [
           {
            "colorbar": {
             "outlinewidth": 0,
             "ticks": ""
            },
            "type": "mesh3d"
           }
          ],
          "parcoords": [
           {
            "line": {
             "colorbar": {
              "outlinewidth": 0,
              "ticks": ""
             }
            },
            "type": "parcoords"
           }
          ],
          "pie": [
           {
            "automargin": true,
            "type": "pie"
           }
          ],
          "scatter": [
           {
            "fillpattern": {
             "fillmode": "overlay",
             "size": 10,
             "solidity": 0.2
            },
            "type": "scatter"
           }
          ],
          "scatter3d": [
           {
            "line": {
             "colorbar": {
              "outlinewidth": 0,
              "ticks": ""
             }
            },
            "marker": {
             "colorbar": {
              "outlinewidth": 0,
              "ticks": ""
             }
            },
            "type": "scatter3d"
           }
          ],
          "scattercarpet": [
           {
            "marker": {
             "colorbar": {
              "outlinewidth": 0,
              "ticks": ""
             }
            },
            "type": "scattercarpet"
           }
          ],
          "scattergeo": [
           {
            "marker": {
             "colorbar": {
              "outlinewidth": 0,
              "ticks": ""
             }
            },
            "type": "scattergeo"
           }
          ],
          "scattergl": [
           {
            "marker": {
             "colorbar": {
              "outlinewidth": 0,
              "ticks": ""
             }
            },
            "type": "scattergl"
           }
          ],
          "scattermapbox": [
           {
            "marker": {
             "colorbar": {
              "outlinewidth": 0,
              "ticks": ""
             }
            },
            "type": "scattermapbox"
           }
          ],
          "scatterpolar": [
           {
            "marker": {
             "colorbar": {
              "outlinewidth": 0,
              "ticks": ""
             }
            },
            "type": "scatterpolar"
           }
          ],
          "scatterpolargl": [
           {
            "marker": {
             "colorbar": {
              "outlinewidth": 0,
              "ticks": ""
             }
            },
            "type": "scatterpolargl"
           }
          ],
          "scatterternary": [
           {
            "marker": {
             "colorbar": {
              "outlinewidth": 0,
              "ticks": ""
             }
            },
            "type": "scatterternary"
           }
          ],
          "surface": [
           {
            "colorbar": {
             "outlinewidth": 0,
             "ticks": ""
            },
            "colorscale": [
             [
              0,
              "#0d0887"
             ],
             [
              0.1111111111111111,
              "#46039f"
             ],
             [
              0.2222222222222222,
              "#7201a8"
             ],
             [
              0.3333333333333333,
              "#9c179e"
             ],
             [
              0.4444444444444444,
              "#bd3786"
             ],
             [
              0.5555555555555556,
              "#d8576b"
             ],
             [
              0.6666666666666666,
              "#ed7953"
             ],
             [
              0.7777777777777778,
              "#fb9f3a"
             ],
             [
              0.8888888888888888,
              "#fdca26"
             ],
             [
              1,
              "#f0f921"
             ]
            ],
            "type": "surface"
           }
          ],
          "table": [
           {
            "cells": {
             "fill": {
              "color": "#EBF0F8"
             },
             "line": {
              "color": "white"
             }
            },
            "header": {
             "fill": {
              "color": "#C8D4E3"
             },
             "line": {
              "color": "white"
             }
            },
            "type": "table"
           }
          ]
         },
         "layout": {
          "annotationdefaults": {
           "arrowcolor": "#2a3f5f",
           "arrowhead": 0,
           "arrowwidth": 1
          },
          "autotypenumbers": "strict",
          "coloraxis": {
           "colorbar": {
            "outlinewidth": 0,
            "ticks": ""
           }
          },
          "colorscale": {
           "diverging": [
            [
             0,
             "#8e0152"
            ],
            [
             0.1,
             "#c51b7d"
            ],
            [
             0.2,
             "#de77ae"
            ],
            [
             0.3,
             "#f1b6da"
            ],
            [
             0.4,
             "#fde0ef"
            ],
            [
             0.5,
             "#f7f7f7"
            ],
            [
             0.6,
             "#e6f5d0"
            ],
            [
             0.7,
             "#b8e186"
            ],
            [
             0.8,
             "#7fbc41"
            ],
            [
             0.9,
             "#4d9221"
            ],
            [
             1,
             "#276419"
            ]
           ],
           "sequential": [
            [
             0,
             "#0d0887"
            ],
            [
             0.1111111111111111,
             "#46039f"
            ],
            [
             0.2222222222222222,
             "#7201a8"
            ],
            [
             0.3333333333333333,
             "#9c179e"
            ],
            [
             0.4444444444444444,
             "#bd3786"
            ],
            [
             0.5555555555555556,
             "#d8576b"
            ],
            [
             0.6666666666666666,
             "#ed7953"
            ],
            [
             0.7777777777777778,
             "#fb9f3a"
            ],
            [
             0.8888888888888888,
             "#fdca26"
            ],
            [
             1,
             "#f0f921"
            ]
           ],
           "sequentialminus": [
            [
             0,
             "#0d0887"
            ],
            [
             0.1111111111111111,
             "#46039f"
            ],
            [
             0.2222222222222222,
             "#7201a8"
            ],
            [
             0.3333333333333333,
             "#9c179e"
            ],
            [
             0.4444444444444444,
             "#bd3786"
            ],
            [
             0.5555555555555556,
             "#d8576b"
            ],
            [
             0.6666666666666666,
             "#ed7953"
            ],
            [
             0.7777777777777778,
             "#fb9f3a"
            ],
            [
             0.8888888888888888,
             "#fdca26"
            ],
            [
             1,
             "#f0f921"
            ]
           ]
          },
          "colorway": [
           "#636efa",
           "#EF553B",
           "#00cc96",
           "#ab63fa",
           "#FFA15A",
           "#19d3f3",
           "#FF6692",
           "#B6E880",
           "#FF97FF",
           "#FECB52"
          ],
          "font": {
           "color": "#2a3f5f"
          },
          "geo": {
           "bgcolor": "white",
           "lakecolor": "white",
           "landcolor": "#E5ECF6",
           "showlakes": true,
           "showland": true,
           "subunitcolor": "white"
          },
          "hoverlabel": {
           "align": "left"
          },
          "hovermode": "closest",
          "mapbox": {
           "style": "light"
          },
          "paper_bgcolor": "white",
          "plot_bgcolor": "#E5ECF6",
          "polar": {
           "angularaxis": {
            "gridcolor": "white",
            "linecolor": "white",
            "ticks": ""
           },
           "bgcolor": "#E5ECF6",
           "radialaxis": {
            "gridcolor": "white",
            "linecolor": "white",
            "ticks": ""
           }
          },
          "scene": {
           "xaxis": {
            "backgroundcolor": "#E5ECF6",
            "gridcolor": "white",
            "gridwidth": 2,
            "linecolor": "white",
            "showbackground": true,
            "ticks": "",
            "zerolinecolor": "white"
           },
           "yaxis": {
            "backgroundcolor": "#E5ECF6",
            "gridcolor": "white",
            "gridwidth": 2,
            "linecolor": "white",
            "showbackground": true,
            "ticks": "",
            "zerolinecolor": "white"
           },
           "zaxis": {
            "backgroundcolor": "#E5ECF6",
            "gridcolor": "white",
            "gridwidth": 2,
            "linecolor": "white",
            "showbackground": true,
            "ticks": "",
            "zerolinecolor": "white"
           }
          },
          "shapedefaults": {
           "line": {
            "color": "#2a3f5f"
           }
          },
          "ternary": {
           "aaxis": {
            "gridcolor": "white",
            "linecolor": "white",
            "ticks": ""
           },
           "baxis": {
            "gridcolor": "white",
            "linecolor": "white",
            "ticks": ""
           },
           "bgcolor": "#E5ECF6",
           "caxis": {
            "gridcolor": "white",
            "linecolor": "white",
            "ticks": ""
           }
          },
          "title": {
           "x": 0.05
          },
          "xaxis": {
           "automargin": true,
           "gridcolor": "white",
           "linecolor": "white",
           "ticks": "",
           "title": {
            "standoff": 15
           },
           "zerolinecolor": "white",
           "zerolinewidth": 2
          },
          "yaxis": {
           "automargin": true,
           "gridcolor": "white",
           "linecolor": "white",
           "ticks": "",
           "title": {
            "standoff": 15
           },
           "zerolinecolor": "white",
           "zerolinewidth": 2
          }
         }
        },
        "title": {
         "text": "Total Sales per Genre 2016"
        },
        "xaxis": {
         "anchor": "y",
         "domain": [
          0,
          1
         ],
         "title": {
          "text": "Genre"
         }
        },
        "yaxis": {
         "anchor": "x",
         "domain": [
          0,
          1
         ],
         "title": {
          "text": "Sum of Total Sales"
         }
        }
       }
      }
     },
     "metadata": {},
     "output_type": "display_data"
    }
   ],
   "source": [
    "g_bar_2016 = px.bar(g_2016,x='genre', y='total_sales_sum',labels={\"total_sales_sum\": \"Sum of Total Sales\", \"genre\": \"Genre\"}, title='Total Sales per Genre 2016')\n",
    "g_bar_2016.show()"
   ]
  },
  {
   "cell_type": "markdown",
   "metadata": {},
   "source": [
    "Code Meaning: \n",
    "1) In order to get rid of stacked values in the data for the bar chart by using the groupby function on df_2016 dataframe and grouping by platform.\n",
    "2) In the same line of code, use the sum() method in on the total_sales column of the df_2016 dataframe in order to sum up the total values.\n",
    "3) Assign the code to p_2016 in order to save the result.\n",
    "4) Use the reset_index() method on the p_2016 dataframe.\n",
    "5) Use the rename() method in order to rename the total_sales column to total_sales_sum. Use columns= as the parameter.\n",
    "6) Use the head() function in order to print the first five lines of p_2016.\n",
    "\n",
    "Code Result:\n",
    "p_2016 was created successfully."
   ]
  },
  {
   "cell_type": "code",
   "execution_count": 47,
   "metadata": {},
   "outputs": [],
   "source": [
    "p_2016 = df_2016.groupby('platform')['total_sales'].sum()\n",
    "p_2016 = p_2016.reset_index().rename(columns={'total_sales': 'total_sales_sum'})"
   ]
  },
  {
   "cell_type": "markdown",
   "metadata": {},
   "source": [
    "Code Meaning:\n",
    "1) Use px.bar() in order to create a bar chart with the data from the p_2016 dataframe titled: \"Total Sales per Platform 2016\".\n",
    "2) Use the platform column of the p_2016 dataframe as the x axis and the total_sales_sum column as the y axis.\n",
    "3) Relabel x and y axes appropriately.\n",
    "4) Use the show() method in order to display the chart."
   ]
  },
  {
   "cell_type": "code",
   "execution_count": 48,
   "metadata": {},
   "outputs": [
    {
     "data": {
      "application/vnd.plotly.v1+json": {
       "config": {
        "plotlyServerURL": "https://plot.ly"
       },
       "data": [
        {
         "alignmentgroup": "True",
         "hovertemplate": "Platform=%{x}<br>Sum of Total Sales=%{y}<extra></extra>",
         "legendgroup": "",
         "marker": {
          "color": "#636efa",
          "pattern": {
           "shape": ""
          }
         },
         "name": "",
         "offsetgroup": "",
         "orientation": "v",
         "showlegend": false,
         "textposition": "auto",
         "type": "bar",
         "x": [
          "3DS",
          "PC",
          "PS4",
          "PSV",
          "WiiU",
          "XOne"
         ],
         "xaxis": "x",
         "y": [
          2.17,
          4.89,
          57.35,
          0.93,
          3.2600000000000002,
          23.7
         ],
         "yaxis": "y"
        }
       ],
       "layout": {
        "barmode": "relative",
        "legend": {
         "tracegroupgap": 0
        },
        "template": {
         "data": {
          "bar": [
           {
            "error_x": {
             "color": "#2a3f5f"
            },
            "error_y": {
             "color": "#2a3f5f"
            },
            "marker": {
             "line": {
              "color": "#E5ECF6",
              "width": 0.5
             },
             "pattern": {
              "fillmode": "overlay",
              "size": 10,
              "solidity": 0.2
             }
            },
            "type": "bar"
           }
          ],
          "barpolar": [
           {
            "marker": {
             "line": {
              "color": "#E5ECF6",
              "width": 0.5
             },
             "pattern": {
              "fillmode": "overlay",
              "size": 10,
              "solidity": 0.2
             }
            },
            "type": "barpolar"
           }
          ],
          "carpet": [
           {
            "aaxis": {
             "endlinecolor": "#2a3f5f",
             "gridcolor": "white",
             "linecolor": "white",
             "minorgridcolor": "white",
             "startlinecolor": "#2a3f5f"
            },
            "baxis": {
             "endlinecolor": "#2a3f5f",
             "gridcolor": "white",
             "linecolor": "white",
             "minorgridcolor": "white",
             "startlinecolor": "#2a3f5f"
            },
            "type": "carpet"
           }
          ],
          "choropleth": [
           {
            "colorbar": {
             "outlinewidth": 0,
             "ticks": ""
            },
            "type": "choropleth"
           }
          ],
          "contour": [
           {
            "colorbar": {
             "outlinewidth": 0,
             "ticks": ""
            },
            "colorscale": [
             [
              0,
              "#0d0887"
             ],
             [
              0.1111111111111111,
              "#46039f"
             ],
             [
              0.2222222222222222,
              "#7201a8"
             ],
             [
              0.3333333333333333,
              "#9c179e"
             ],
             [
              0.4444444444444444,
              "#bd3786"
             ],
             [
              0.5555555555555556,
              "#d8576b"
             ],
             [
              0.6666666666666666,
              "#ed7953"
             ],
             [
              0.7777777777777778,
              "#fb9f3a"
             ],
             [
              0.8888888888888888,
              "#fdca26"
             ],
             [
              1,
              "#f0f921"
             ]
            ],
            "type": "contour"
           }
          ],
          "contourcarpet": [
           {
            "colorbar": {
             "outlinewidth": 0,
             "ticks": ""
            },
            "type": "contourcarpet"
           }
          ],
          "heatmap": [
           {
            "colorbar": {
             "outlinewidth": 0,
             "ticks": ""
            },
            "colorscale": [
             [
              0,
              "#0d0887"
             ],
             [
              0.1111111111111111,
              "#46039f"
             ],
             [
              0.2222222222222222,
              "#7201a8"
             ],
             [
              0.3333333333333333,
              "#9c179e"
             ],
             [
              0.4444444444444444,
              "#bd3786"
             ],
             [
              0.5555555555555556,
              "#d8576b"
             ],
             [
              0.6666666666666666,
              "#ed7953"
             ],
             [
              0.7777777777777778,
              "#fb9f3a"
             ],
             [
              0.8888888888888888,
              "#fdca26"
             ],
             [
              1,
              "#f0f921"
             ]
            ],
            "type": "heatmap"
           }
          ],
          "heatmapgl": [
           {
            "colorbar": {
             "outlinewidth": 0,
             "ticks": ""
            },
            "colorscale": [
             [
              0,
              "#0d0887"
             ],
             [
              0.1111111111111111,
              "#46039f"
             ],
             [
              0.2222222222222222,
              "#7201a8"
             ],
             [
              0.3333333333333333,
              "#9c179e"
             ],
             [
              0.4444444444444444,
              "#bd3786"
             ],
             [
              0.5555555555555556,
              "#d8576b"
             ],
             [
              0.6666666666666666,
              "#ed7953"
             ],
             [
              0.7777777777777778,
              "#fb9f3a"
             ],
             [
              0.8888888888888888,
              "#fdca26"
             ],
             [
              1,
              "#f0f921"
             ]
            ],
            "type": "heatmapgl"
           }
          ],
          "histogram": [
           {
            "marker": {
             "pattern": {
              "fillmode": "overlay",
              "size": 10,
              "solidity": 0.2
             }
            },
            "type": "histogram"
           }
          ],
          "histogram2d": [
           {
            "colorbar": {
             "outlinewidth": 0,
             "ticks": ""
            },
            "colorscale": [
             [
              0,
              "#0d0887"
             ],
             [
              0.1111111111111111,
              "#46039f"
             ],
             [
              0.2222222222222222,
              "#7201a8"
             ],
             [
              0.3333333333333333,
              "#9c179e"
             ],
             [
              0.4444444444444444,
              "#bd3786"
             ],
             [
              0.5555555555555556,
              "#d8576b"
             ],
             [
              0.6666666666666666,
              "#ed7953"
             ],
             [
              0.7777777777777778,
              "#fb9f3a"
             ],
             [
              0.8888888888888888,
              "#fdca26"
             ],
             [
              1,
              "#f0f921"
             ]
            ],
            "type": "histogram2d"
           }
          ],
          "histogram2dcontour": [
           {
            "colorbar": {
             "outlinewidth": 0,
             "ticks": ""
            },
            "colorscale": [
             [
              0,
              "#0d0887"
             ],
             [
              0.1111111111111111,
              "#46039f"
             ],
             [
              0.2222222222222222,
              "#7201a8"
             ],
             [
              0.3333333333333333,
              "#9c179e"
             ],
             [
              0.4444444444444444,
              "#bd3786"
             ],
             [
              0.5555555555555556,
              "#d8576b"
             ],
             [
              0.6666666666666666,
              "#ed7953"
             ],
             [
              0.7777777777777778,
              "#fb9f3a"
             ],
             [
              0.8888888888888888,
              "#fdca26"
             ],
             [
              1,
              "#f0f921"
             ]
            ],
            "type": "histogram2dcontour"
           }
          ],
          "mesh3d": [
           {
            "colorbar": {
             "outlinewidth": 0,
             "ticks": ""
            },
            "type": "mesh3d"
           }
          ],
          "parcoords": [
           {
            "line": {
             "colorbar": {
              "outlinewidth": 0,
              "ticks": ""
             }
            },
            "type": "parcoords"
           }
          ],
          "pie": [
           {
            "automargin": true,
            "type": "pie"
           }
          ],
          "scatter": [
           {
            "fillpattern": {
             "fillmode": "overlay",
             "size": 10,
             "solidity": 0.2
            },
            "type": "scatter"
           }
          ],
          "scatter3d": [
           {
            "line": {
             "colorbar": {
              "outlinewidth": 0,
              "ticks": ""
             }
            },
            "marker": {
             "colorbar": {
              "outlinewidth": 0,
              "ticks": ""
             }
            },
            "type": "scatter3d"
           }
          ],
          "scattercarpet": [
           {
            "marker": {
             "colorbar": {
              "outlinewidth": 0,
              "ticks": ""
             }
            },
            "type": "scattercarpet"
           }
          ],
          "scattergeo": [
           {
            "marker": {
             "colorbar": {
              "outlinewidth": 0,
              "ticks": ""
             }
            },
            "type": "scattergeo"
           }
          ],
          "scattergl": [
           {
            "marker": {
             "colorbar": {
              "outlinewidth": 0,
              "ticks": ""
             }
            },
            "type": "scattergl"
           }
          ],
          "scattermapbox": [
           {
            "marker": {
             "colorbar": {
              "outlinewidth": 0,
              "ticks": ""
             }
            },
            "type": "scattermapbox"
           }
          ],
          "scatterpolar": [
           {
            "marker": {
             "colorbar": {
              "outlinewidth": 0,
              "ticks": ""
             }
            },
            "type": "scatterpolar"
           }
          ],
          "scatterpolargl": [
           {
            "marker": {
             "colorbar": {
              "outlinewidth": 0,
              "ticks": ""
             }
            },
            "type": "scatterpolargl"
           }
          ],
          "scatterternary": [
           {
            "marker": {
             "colorbar": {
              "outlinewidth": 0,
              "ticks": ""
             }
            },
            "type": "scatterternary"
           }
          ],
          "surface": [
           {
            "colorbar": {
             "outlinewidth": 0,
             "ticks": ""
            },
            "colorscale": [
             [
              0,
              "#0d0887"
             ],
             [
              0.1111111111111111,
              "#46039f"
             ],
             [
              0.2222222222222222,
              "#7201a8"
             ],
             [
              0.3333333333333333,
              "#9c179e"
             ],
             [
              0.4444444444444444,
              "#bd3786"
             ],
             [
              0.5555555555555556,
              "#d8576b"
             ],
             [
              0.6666666666666666,
              "#ed7953"
             ],
             [
              0.7777777777777778,
              "#fb9f3a"
             ],
             [
              0.8888888888888888,
              "#fdca26"
             ],
             [
              1,
              "#f0f921"
             ]
            ],
            "type": "surface"
           }
          ],
          "table": [
           {
            "cells": {
             "fill": {
              "color": "#EBF0F8"
             },
             "line": {
              "color": "white"
             }
            },
            "header": {
             "fill": {
              "color": "#C8D4E3"
             },
             "line": {
              "color": "white"
             }
            },
            "type": "table"
           }
          ]
         },
         "layout": {
          "annotationdefaults": {
           "arrowcolor": "#2a3f5f",
           "arrowhead": 0,
           "arrowwidth": 1
          },
          "autotypenumbers": "strict",
          "coloraxis": {
           "colorbar": {
            "outlinewidth": 0,
            "ticks": ""
           }
          },
          "colorscale": {
           "diverging": [
            [
             0,
             "#8e0152"
            ],
            [
             0.1,
             "#c51b7d"
            ],
            [
             0.2,
             "#de77ae"
            ],
            [
             0.3,
             "#f1b6da"
            ],
            [
             0.4,
             "#fde0ef"
            ],
            [
             0.5,
             "#f7f7f7"
            ],
            [
             0.6,
             "#e6f5d0"
            ],
            [
             0.7,
             "#b8e186"
            ],
            [
             0.8,
             "#7fbc41"
            ],
            [
             0.9,
             "#4d9221"
            ],
            [
             1,
             "#276419"
            ]
           ],
           "sequential": [
            [
             0,
             "#0d0887"
            ],
            [
             0.1111111111111111,
             "#46039f"
            ],
            [
             0.2222222222222222,
             "#7201a8"
            ],
            [
             0.3333333333333333,
             "#9c179e"
            ],
            [
             0.4444444444444444,
             "#bd3786"
            ],
            [
             0.5555555555555556,
             "#d8576b"
            ],
            [
             0.6666666666666666,
             "#ed7953"
            ],
            [
             0.7777777777777778,
             "#fb9f3a"
            ],
            [
             0.8888888888888888,
             "#fdca26"
            ],
            [
             1,
             "#f0f921"
            ]
           ],
           "sequentialminus": [
            [
             0,
             "#0d0887"
            ],
            [
             0.1111111111111111,
             "#46039f"
            ],
            [
             0.2222222222222222,
             "#7201a8"
            ],
            [
             0.3333333333333333,
             "#9c179e"
            ],
            [
             0.4444444444444444,
             "#bd3786"
            ],
            [
             0.5555555555555556,
             "#d8576b"
            ],
            [
             0.6666666666666666,
             "#ed7953"
            ],
            [
             0.7777777777777778,
             "#fb9f3a"
            ],
            [
             0.8888888888888888,
             "#fdca26"
            ],
            [
             1,
             "#f0f921"
            ]
           ]
          },
          "colorway": [
           "#636efa",
           "#EF553B",
           "#00cc96",
           "#ab63fa",
           "#FFA15A",
           "#19d3f3",
           "#FF6692",
           "#B6E880",
           "#FF97FF",
           "#FECB52"
          ],
          "font": {
           "color": "#2a3f5f"
          },
          "geo": {
           "bgcolor": "white",
           "lakecolor": "white",
           "landcolor": "#E5ECF6",
           "showlakes": true,
           "showland": true,
           "subunitcolor": "white"
          },
          "hoverlabel": {
           "align": "left"
          },
          "hovermode": "closest",
          "mapbox": {
           "style": "light"
          },
          "paper_bgcolor": "white",
          "plot_bgcolor": "#E5ECF6",
          "polar": {
           "angularaxis": {
            "gridcolor": "white",
            "linecolor": "white",
            "ticks": ""
           },
           "bgcolor": "#E5ECF6",
           "radialaxis": {
            "gridcolor": "white",
            "linecolor": "white",
            "ticks": ""
           }
          },
          "scene": {
           "xaxis": {
            "backgroundcolor": "#E5ECF6",
            "gridcolor": "white",
            "gridwidth": 2,
            "linecolor": "white",
            "showbackground": true,
            "ticks": "",
            "zerolinecolor": "white"
           },
           "yaxis": {
            "backgroundcolor": "#E5ECF6",
            "gridcolor": "white",
            "gridwidth": 2,
            "linecolor": "white",
            "showbackground": true,
            "ticks": "",
            "zerolinecolor": "white"
           },
           "zaxis": {
            "backgroundcolor": "#E5ECF6",
            "gridcolor": "white",
            "gridwidth": 2,
            "linecolor": "white",
            "showbackground": true,
            "ticks": "",
            "zerolinecolor": "white"
           }
          },
          "shapedefaults": {
           "line": {
            "color": "#2a3f5f"
           }
          },
          "ternary": {
           "aaxis": {
            "gridcolor": "white",
            "linecolor": "white",
            "ticks": ""
           },
           "baxis": {
            "gridcolor": "white",
            "linecolor": "white",
            "ticks": ""
           },
           "bgcolor": "#E5ECF6",
           "caxis": {
            "gridcolor": "white",
            "linecolor": "white",
            "ticks": ""
           }
          },
          "title": {
           "x": 0.05
          },
          "xaxis": {
           "automargin": true,
           "gridcolor": "white",
           "linecolor": "white",
           "ticks": "",
           "title": {
            "standoff": 15
           },
           "zerolinecolor": "white",
           "zerolinewidth": 2
          },
          "yaxis": {
           "automargin": true,
           "gridcolor": "white",
           "linecolor": "white",
           "ticks": "",
           "title": {
            "standoff": 15
           },
           "zerolinecolor": "white",
           "zerolinewidth": 2
          }
         }
        },
        "title": {
         "text": "Total Sales per Platform 2016"
        },
        "xaxis": {
         "anchor": "y",
         "domain": [
          0,
          1
         ],
         "title": {
          "text": "Platform"
         }
        },
        "yaxis": {
         "anchor": "x",
         "domain": [
          0,
          1
         ],
         "title": {
          "text": "Sum of Total Sales"
         }
        }
       }
      }
     },
     "metadata": {},
     "output_type": "display_data"
    }
   ],
   "source": [
    "p_bar_2016 = px.bar(p_2016, x='platform', y='total_sales_sum',labels={\"total_sales_sum\": \"Sum of Total Sales\", \"platform\": \"Platform\"}, title='Total Sales per Platform 2016')\n",
    "p_bar_2016.show()"
   ]
  },
  {
   "cell_type": "markdown",
   "metadata": {},
   "source": [
    "Code Meaning: \n",
    "1) In order to get rid of stacked values in the data for the bar chart by using the groupby function on df_2016 dataframe and grouping by platform.\n",
    "2) In the same line of code, use the sum() method in on the total_sales column of the df_2016 dataframe in order to sum up the total values.\n",
    "3) Assign the code to r_2016 in order to save the result.\n",
    "4) Use the reset_index() method on the r_2016 dataframe.\n",
    "5) Use the rename() method in order to rename the total_sales column to total_sales_sum. Use columns= as the parameter.\n",
    "6) Use the head() function in order to print the first five lines of r_2016.\n",
    "\n",
    "Code Result:\n",
    "r_2016 was created successfully."
   ]
  },
  {
   "cell_type": "code",
   "execution_count": 49,
   "metadata": {},
   "outputs": [],
   "source": [
    "r_2016 = df_2016.groupby('rating')['total_sales'].sum()\n",
    "r_2016 = r_2016.reset_index().rename(columns={'total_sales': 'total_sales_sum'})"
   ]
  },
  {
   "cell_type": "markdown",
   "metadata": {},
   "source": [
    "Code Meaning:\n",
    "1) Use px.bar() in roder to create a bar chart with the data from the r_2016 dataframe titled: \"Total Sales per Rating 2016\".\n",
    "2) Use the rating column of the r_2016 dataframe as the x axis and the total_sales_sum column as the y axis.\n",
    "3) Relabel x and y axes appropriately.\n",
    "4) Use the show() method in order to display the chart."
   ]
  },
  {
   "cell_type": "code",
   "execution_count": 50,
   "metadata": {},
   "outputs": [
    {
     "data": {
      "application/vnd.plotly.v1+json": {
       "config": {
        "plotlyServerURL": "https://plot.ly"
       },
       "data": [
        {
         "alignmentgroup": "True",
         "hovertemplate": "Rating=%{x}<br>Sum of Total Sales=%{y}<extra></extra>",
         "legendgroup": "",
         "marker": {
          "color": "#636efa",
          "pattern": {
           "shape": ""
          }
         },
         "name": "",
         "offsetgroup": "",
         "orientation": "v",
         "showlegend": false,
         "textposition": "auto",
         "type": "bar",
         "x": [
          "E",
          "E10+",
          "M",
          "T",
          "undefined"
         ],
         "xaxis": "x",
         "y": [
          23.650000000000002,
          7.06,
          38.17,
          22.6,
          0.82
         ],
         "yaxis": "y"
        }
       ],
       "layout": {
        "barmode": "relative",
        "legend": {
         "tracegroupgap": 0
        },
        "template": {
         "data": {
          "bar": [
           {
            "error_x": {
             "color": "#2a3f5f"
            },
            "error_y": {
             "color": "#2a3f5f"
            },
            "marker": {
             "line": {
              "color": "#E5ECF6",
              "width": 0.5
             },
             "pattern": {
              "fillmode": "overlay",
              "size": 10,
              "solidity": 0.2
             }
            },
            "type": "bar"
           }
          ],
          "barpolar": [
           {
            "marker": {
             "line": {
              "color": "#E5ECF6",
              "width": 0.5
             },
             "pattern": {
              "fillmode": "overlay",
              "size": 10,
              "solidity": 0.2
             }
            },
            "type": "barpolar"
           }
          ],
          "carpet": [
           {
            "aaxis": {
             "endlinecolor": "#2a3f5f",
             "gridcolor": "white",
             "linecolor": "white",
             "minorgridcolor": "white",
             "startlinecolor": "#2a3f5f"
            },
            "baxis": {
             "endlinecolor": "#2a3f5f",
             "gridcolor": "white",
             "linecolor": "white",
             "minorgridcolor": "white",
             "startlinecolor": "#2a3f5f"
            },
            "type": "carpet"
           }
          ],
          "choropleth": [
           {
            "colorbar": {
             "outlinewidth": 0,
             "ticks": ""
            },
            "type": "choropleth"
           }
          ],
          "contour": [
           {
            "colorbar": {
             "outlinewidth": 0,
             "ticks": ""
            },
            "colorscale": [
             [
              0,
              "#0d0887"
             ],
             [
              0.1111111111111111,
              "#46039f"
             ],
             [
              0.2222222222222222,
              "#7201a8"
             ],
             [
              0.3333333333333333,
              "#9c179e"
             ],
             [
              0.4444444444444444,
              "#bd3786"
             ],
             [
              0.5555555555555556,
              "#d8576b"
             ],
             [
              0.6666666666666666,
              "#ed7953"
             ],
             [
              0.7777777777777778,
              "#fb9f3a"
             ],
             [
              0.8888888888888888,
              "#fdca26"
             ],
             [
              1,
              "#f0f921"
             ]
            ],
            "type": "contour"
           }
          ],
          "contourcarpet": [
           {
            "colorbar": {
             "outlinewidth": 0,
             "ticks": ""
            },
            "type": "contourcarpet"
           }
          ],
          "heatmap": [
           {
            "colorbar": {
             "outlinewidth": 0,
             "ticks": ""
            },
            "colorscale": [
             [
              0,
              "#0d0887"
             ],
             [
              0.1111111111111111,
              "#46039f"
             ],
             [
              0.2222222222222222,
              "#7201a8"
             ],
             [
              0.3333333333333333,
              "#9c179e"
             ],
             [
              0.4444444444444444,
              "#bd3786"
             ],
             [
              0.5555555555555556,
              "#d8576b"
             ],
             [
              0.6666666666666666,
              "#ed7953"
             ],
             [
              0.7777777777777778,
              "#fb9f3a"
             ],
             [
              0.8888888888888888,
              "#fdca26"
             ],
             [
              1,
              "#f0f921"
             ]
            ],
            "type": "heatmap"
           }
          ],
          "heatmapgl": [
           {
            "colorbar": {
             "outlinewidth": 0,
             "ticks": ""
            },
            "colorscale": [
             [
              0,
              "#0d0887"
             ],
             [
              0.1111111111111111,
              "#46039f"
             ],
             [
              0.2222222222222222,
              "#7201a8"
             ],
             [
              0.3333333333333333,
              "#9c179e"
             ],
             [
              0.4444444444444444,
              "#bd3786"
             ],
             [
              0.5555555555555556,
              "#d8576b"
             ],
             [
              0.6666666666666666,
              "#ed7953"
             ],
             [
              0.7777777777777778,
              "#fb9f3a"
             ],
             [
              0.8888888888888888,
              "#fdca26"
             ],
             [
              1,
              "#f0f921"
             ]
            ],
            "type": "heatmapgl"
           }
          ],
          "histogram": [
           {
            "marker": {
             "pattern": {
              "fillmode": "overlay",
              "size": 10,
              "solidity": 0.2
             }
            },
            "type": "histogram"
           }
          ],
          "histogram2d": [
           {
            "colorbar": {
             "outlinewidth": 0,
             "ticks": ""
            },
            "colorscale": [
             [
              0,
              "#0d0887"
             ],
             [
              0.1111111111111111,
              "#46039f"
             ],
             [
              0.2222222222222222,
              "#7201a8"
             ],
             [
              0.3333333333333333,
              "#9c179e"
             ],
             [
              0.4444444444444444,
              "#bd3786"
             ],
             [
              0.5555555555555556,
              "#d8576b"
             ],
             [
              0.6666666666666666,
              "#ed7953"
             ],
             [
              0.7777777777777778,
              "#fb9f3a"
             ],
             [
              0.8888888888888888,
              "#fdca26"
             ],
             [
              1,
              "#f0f921"
             ]
            ],
            "type": "histogram2d"
           }
          ],
          "histogram2dcontour": [
           {
            "colorbar": {
             "outlinewidth": 0,
             "ticks": ""
            },
            "colorscale": [
             [
              0,
              "#0d0887"
             ],
             [
              0.1111111111111111,
              "#46039f"
             ],
             [
              0.2222222222222222,
              "#7201a8"
             ],
             [
              0.3333333333333333,
              "#9c179e"
             ],
             [
              0.4444444444444444,
              "#bd3786"
             ],
             [
              0.5555555555555556,
              "#d8576b"
             ],
             [
              0.6666666666666666,
              "#ed7953"
             ],
             [
              0.7777777777777778,
              "#fb9f3a"
             ],
             [
              0.8888888888888888,
              "#fdca26"
             ],
             [
              1,
              "#f0f921"
             ]
            ],
            "type": "histogram2dcontour"
           }
          ],
          "mesh3d": [
           {
            "colorbar": {
             "outlinewidth": 0,
             "ticks": ""
            },
            "type": "mesh3d"
           }
          ],
          "parcoords": [
           {
            "line": {
             "colorbar": {
              "outlinewidth": 0,
              "ticks": ""
             }
            },
            "type": "parcoords"
           }
          ],
          "pie": [
           {
            "automargin": true,
            "type": "pie"
           }
          ],
          "scatter": [
           {
            "fillpattern": {
             "fillmode": "overlay",
             "size": 10,
             "solidity": 0.2
            },
            "type": "scatter"
           }
          ],
          "scatter3d": [
           {
            "line": {
             "colorbar": {
              "outlinewidth": 0,
              "ticks": ""
             }
            },
            "marker": {
             "colorbar": {
              "outlinewidth": 0,
              "ticks": ""
             }
            },
            "type": "scatter3d"
           }
          ],
          "scattercarpet": [
           {
            "marker": {
             "colorbar": {
              "outlinewidth": 0,
              "ticks": ""
             }
            },
            "type": "scattercarpet"
           }
          ],
          "scattergeo": [
           {
            "marker": {
             "colorbar": {
              "outlinewidth": 0,
              "ticks": ""
             }
            },
            "type": "scattergeo"
           }
          ],
          "scattergl": [
           {
            "marker": {
             "colorbar": {
              "outlinewidth": 0,
              "ticks": ""
             }
            },
            "type": "scattergl"
           }
          ],
          "scattermapbox": [
           {
            "marker": {
             "colorbar": {
              "outlinewidth": 0,
              "ticks": ""
             }
            },
            "type": "scattermapbox"
           }
          ],
          "scatterpolar": [
           {
            "marker": {
             "colorbar": {
              "outlinewidth": 0,
              "ticks": ""
             }
            },
            "type": "scatterpolar"
           }
          ],
          "scatterpolargl": [
           {
            "marker": {
             "colorbar": {
              "outlinewidth": 0,
              "ticks": ""
             }
            },
            "type": "scatterpolargl"
           }
          ],
          "scatterternary": [
           {
            "marker": {
             "colorbar": {
              "outlinewidth": 0,
              "ticks": ""
             }
            },
            "type": "scatterternary"
           }
          ],
          "surface": [
           {
            "colorbar": {
             "outlinewidth": 0,
             "ticks": ""
            },
            "colorscale": [
             [
              0,
              "#0d0887"
             ],
             [
              0.1111111111111111,
              "#46039f"
             ],
             [
              0.2222222222222222,
              "#7201a8"
             ],
             [
              0.3333333333333333,
              "#9c179e"
             ],
             [
              0.4444444444444444,
              "#bd3786"
             ],
             [
              0.5555555555555556,
              "#d8576b"
             ],
             [
              0.6666666666666666,
              "#ed7953"
             ],
             [
              0.7777777777777778,
              "#fb9f3a"
             ],
             [
              0.8888888888888888,
              "#fdca26"
             ],
             [
              1,
              "#f0f921"
             ]
            ],
            "type": "surface"
           }
          ],
          "table": [
           {
            "cells": {
             "fill": {
              "color": "#EBF0F8"
             },
             "line": {
              "color": "white"
             }
            },
            "header": {
             "fill": {
              "color": "#C8D4E3"
             },
             "line": {
              "color": "white"
             }
            },
            "type": "table"
           }
          ]
         },
         "layout": {
          "annotationdefaults": {
           "arrowcolor": "#2a3f5f",
           "arrowhead": 0,
           "arrowwidth": 1
          },
          "autotypenumbers": "strict",
          "coloraxis": {
           "colorbar": {
            "outlinewidth": 0,
            "ticks": ""
           }
          },
          "colorscale": {
           "diverging": [
            [
             0,
             "#8e0152"
            ],
            [
             0.1,
             "#c51b7d"
            ],
            [
             0.2,
             "#de77ae"
            ],
            [
             0.3,
             "#f1b6da"
            ],
            [
             0.4,
             "#fde0ef"
            ],
            [
             0.5,
             "#f7f7f7"
            ],
            [
             0.6,
             "#e6f5d0"
            ],
            [
             0.7,
             "#b8e186"
            ],
            [
             0.8,
             "#7fbc41"
            ],
            [
             0.9,
             "#4d9221"
            ],
            [
             1,
             "#276419"
            ]
           ],
           "sequential": [
            [
             0,
             "#0d0887"
            ],
            [
             0.1111111111111111,
             "#46039f"
            ],
            [
             0.2222222222222222,
             "#7201a8"
            ],
            [
             0.3333333333333333,
             "#9c179e"
            ],
            [
             0.4444444444444444,
             "#bd3786"
            ],
            [
             0.5555555555555556,
             "#d8576b"
            ],
            [
             0.6666666666666666,
             "#ed7953"
            ],
            [
             0.7777777777777778,
             "#fb9f3a"
            ],
            [
             0.8888888888888888,
             "#fdca26"
            ],
            [
             1,
             "#f0f921"
            ]
           ],
           "sequentialminus": [
            [
             0,
             "#0d0887"
            ],
            [
             0.1111111111111111,
             "#46039f"
            ],
            [
             0.2222222222222222,
             "#7201a8"
            ],
            [
             0.3333333333333333,
             "#9c179e"
            ],
            [
             0.4444444444444444,
             "#bd3786"
            ],
            [
             0.5555555555555556,
             "#d8576b"
            ],
            [
             0.6666666666666666,
             "#ed7953"
            ],
            [
             0.7777777777777778,
             "#fb9f3a"
            ],
            [
             0.8888888888888888,
             "#fdca26"
            ],
            [
             1,
             "#f0f921"
            ]
           ]
          },
          "colorway": [
           "#636efa",
           "#EF553B",
           "#00cc96",
           "#ab63fa",
           "#FFA15A",
           "#19d3f3",
           "#FF6692",
           "#B6E880",
           "#FF97FF",
           "#FECB52"
          ],
          "font": {
           "color": "#2a3f5f"
          },
          "geo": {
           "bgcolor": "white",
           "lakecolor": "white",
           "landcolor": "#E5ECF6",
           "showlakes": true,
           "showland": true,
           "subunitcolor": "white"
          },
          "hoverlabel": {
           "align": "left"
          },
          "hovermode": "closest",
          "mapbox": {
           "style": "light"
          },
          "paper_bgcolor": "white",
          "plot_bgcolor": "#E5ECF6",
          "polar": {
           "angularaxis": {
            "gridcolor": "white",
            "linecolor": "white",
            "ticks": ""
           },
           "bgcolor": "#E5ECF6",
           "radialaxis": {
            "gridcolor": "white",
            "linecolor": "white",
            "ticks": ""
           }
          },
          "scene": {
           "xaxis": {
            "backgroundcolor": "#E5ECF6",
            "gridcolor": "white",
            "gridwidth": 2,
            "linecolor": "white",
            "showbackground": true,
            "ticks": "",
            "zerolinecolor": "white"
           },
           "yaxis": {
            "backgroundcolor": "#E5ECF6",
            "gridcolor": "white",
            "gridwidth": 2,
            "linecolor": "white",
            "showbackground": true,
            "ticks": "",
            "zerolinecolor": "white"
           },
           "zaxis": {
            "backgroundcolor": "#E5ECF6",
            "gridcolor": "white",
            "gridwidth": 2,
            "linecolor": "white",
            "showbackground": true,
            "ticks": "",
            "zerolinecolor": "white"
           }
          },
          "shapedefaults": {
           "line": {
            "color": "#2a3f5f"
           }
          },
          "ternary": {
           "aaxis": {
            "gridcolor": "white",
            "linecolor": "white",
            "ticks": ""
           },
           "baxis": {
            "gridcolor": "white",
            "linecolor": "white",
            "ticks": ""
           },
           "bgcolor": "#E5ECF6",
           "caxis": {
            "gridcolor": "white",
            "linecolor": "white",
            "ticks": ""
           }
          },
          "title": {
           "x": 0.05
          },
          "xaxis": {
           "automargin": true,
           "gridcolor": "white",
           "linecolor": "white",
           "ticks": "",
           "title": {
            "standoff": 15
           },
           "zerolinecolor": "white",
           "zerolinewidth": 2
          },
          "yaxis": {
           "automargin": true,
           "gridcolor": "white",
           "linecolor": "white",
           "ticks": "",
           "title": {
            "standoff": 15
           },
           "zerolinecolor": "white",
           "zerolinewidth": 2
          }
         }
        },
        "title": {
         "text": "Total Sales per Rating 2016"
        },
        "xaxis": {
         "anchor": "y",
         "domain": [
          0,
          1
         ],
         "title": {
          "text": "Rating"
         }
        },
        "yaxis": {
         "anchor": "x",
         "domain": [
          0,
          1
         ],
         "title": {
          "text": "Sum of Total Sales"
         }
        }
       }
      }
     },
     "metadata": {},
     "output_type": "display_data"
    }
   ],
   "source": [
    "r_bar_2016 = px.bar(r_2016, x='rating', y='total_sales_sum',labels={\"rating\": \"Rating\", \"total_sales_sum\":\"Sum of Total Sales\"}, title=\"Total Sales per Rating 2016\")\n",
    "r_bar_2016.show()"
   ]
  },
  {
   "cell_type": "markdown",
   "metadata": {},
   "source": [
    "# Boxplots For Global Sales of All Games\n",
    "\n",
    "Build a box plot for the global sales of all games, broken down by platform. Are the differences in sales significant? What about average sales on various platforms? Describe your findings.\n",
    "\n",
    "Conclusions:\n",
    "Top 3 Platforms with the Highest Average Sales:\n",
    "1) WiiU is the number 1 platform with the highest average sales with a median sales value of $0.43 M.\n",
    "2) XOne is the number 2 platform with the highest average sales with a median sales value of  $0.32 M.\n",
    "3) PS4 is the number 3 platform with the highest average sales with a median sales value of  $0.26 M.\n",
    "\n",
    "Top 3 Platforms with the Lowest Average Sales:\n",
    "1) PC is the number 1 platform with the lowest average sales with a median sales value of $0.1 M.\n",
    "2) PSV is the number 2 platform with the lowest average sales with a median sales value of $0.11 M.\n",
    "3) X360 is the number 3 platform with the lowest average sales with a median sales value of $0.135 M."
   ]
  },
  {
   "cell_type": "markdown",
   "metadata": {},
   "source": [
    "### Reviewer's Comment: \n",
    "\n",
    "For the purpose of predicting sales for the next year, even traditional businesses rarely take data for more than 2-3 years. And in such a dynamically changing industry as computer games, you shouldn't take too long a time interval - otherwise you're bound to capture trends that are already outdated. But you shouldn't take too short a period either"
   ]
  },
  {
   "cell_type": "code",
   "execution_count": 51,
   "metadata": {},
   "outputs": [
    {
     "data": {
      "text/plain": [
       "array([2006, 2008, 2009, 2005, 2007, 2010, 2013, 2004, 2002, 2001, 2011,\n",
       "       2012, 2014, 1997, 1999, 2015, 2016, 2003, 1998, 1996, 2000, 1994,\n",
       "       1985, 1992, 1988])"
      ]
     },
     "execution_count": 51,
     "metadata": {},
     "output_type": "execute_result"
    }
   ],
   "source": [
    "df['year_of_release'].unique()"
   ]
  },
  {
   "cell_type": "markdown",
   "metadata": {},
   "source": [
    "Code Meaning: For reference and convenience, print out the individual names of all the platforms in the plaform column of the df dataframe using the unique() method.\n",
    "\n",
    "Code Result:  There are too many platform names in the platform column of the df dataframe. Eight separate boxplots must be created in order to display the data in a cleaner fashion and to avoid overcrowding the plot with too much data.  The eight boxplots consist of: 4 boxplots without a limited y axis in order to display the min and max values and four boxplots with the limited y axes in order to display the quartile, median and 75th percentile values for each platform."
   ]
  },
  {
   "cell_type": "markdown",
   "metadata": {},
   "source": [
    "### Correction in Respone to the Reviewer's Note"
   ]
  },
  {
   "cell_type": "markdown",
   "metadata": {},
   "source": [
    "Code Meaning: \n",
    "1) Create a list that consists of the values 2014, 2015, and 2016 that are not listed in string format and assign the list to the variable current_year to save the result.\n",
    "2) Use the isin() method on the year_of_release column of the df dataframe and use the current_year list as the input arguement for the isin() method.  Assign the code to the variable name current_year_1 to save the result.\n",
    "3) Create a dataframe called current_year_df by inputing the current_year_1 variable in  open brackets[] next to the df dataframe.\n",
    "4) Use the head() method in order to print the first five rows of current_year_df in order to check for errors.\n",
    "\n",
    "Code Result:\n",
    "The current_year_df dataframe was created successfully."
   ]
  },
  {
   "cell_type": "code",
   "execution_count": 52,
   "metadata": {},
   "outputs": [
    {
     "data": {
      "text/html": [
       "<div>\n",
       "<style scoped>\n",
       "    .dataframe tbody tr th:only-of-type {\n",
       "        vertical-align: middle;\n",
       "    }\n",
       "\n",
       "    .dataframe tbody tr th {\n",
       "        vertical-align: top;\n",
       "    }\n",
       "\n",
       "    .dataframe thead th {\n",
       "        text-align: right;\n",
       "    }\n",
       "</style>\n",
       "<table border=\"1\" class=\"dataframe\">\n",
       "  <thead>\n",
       "    <tr style=\"text-align: right;\">\n",
       "      <th></th>\n",
       "      <th>name</th>\n",
       "      <th>platform</th>\n",
       "      <th>year_of_release</th>\n",
       "      <th>genre</th>\n",
       "      <th>na_sales</th>\n",
       "      <th>eu_sales</th>\n",
       "      <th>jp_sales</th>\n",
       "      <th>other_sales</th>\n",
       "      <th>critic_score</th>\n",
       "      <th>user_score</th>\n",
       "      <th>rating</th>\n",
       "      <th>total_sales</th>\n",
       "    </tr>\n",
       "  </thead>\n",
       "  <tbody>\n",
       "    <tr>\n",
       "      <th>42</th>\n",
       "      <td>Grand Theft Auto V</td>\n",
       "      <td>PS4</td>\n",
       "      <td>2014</td>\n",
       "      <td>Action</td>\n",
       "      <td>3.96</td>\n",
       "      <td>6.31</td>\n",
       "      <td>0.38</td>\n",
       "      <td>1.97</td>\n",
       "      <td>97.0</td>\n",
       "      <td>8.3</td>\n",
       "      <td>M</td>\n",
       "      <td>12.62</td>\n",
       "    </tr>\n",
       "    <tr>\n",
       "      <th>77</th>\n",
       "      <td>FIFA 16</td>\n",
       "      <td>PS4</td>\n",
       "      <td>2015</td>\n",
       "      <td>Sports</td>\n",
       "      <td>1.12</td>\n",
       "      <td>6.12</td>\n",
       "      <td>0.06</td>\n",
       "      <td>1.28</td>\n",
       "      <td>82.0</td>\n",
       "      <td>4.3</td>\n",
       "      <td>E</td>\n",
       "      <td>8.58</td>\n",
       "    </tr>\n",
       "    <tr>\n",
       "      <th>92</th>\n",
       "      <td>Call of Duty: Advanced Warfare</td>\n",
       "      <td>PS4</td>\n",
       "      <td>2014</td>\n",
       "      <td>Shooter</td>\n",
       "      <td>2.81</td>\n",
       "      <td>3.48</td>\n",
       "      <td>0.14</td>\n",
       "      <td>1.23</td>\n",
       "      <td>83.0</td>\n",
       "      <td>5.7</td>\n",
       "      <td>M</td>\n",
       "      <td>7.66</td>\n",
       "    </tr>\n",
       "    <tr>\n",
       "      <th>94</th>\n",
       "      <td>FIFA 17</td>\n",
       "      <td>PS4</td>\n",
       "      <td>2016</td>\n",
       "      <td>Sports</td>\n",
       "      <td>0.66</td>\n",
       "      <td>5.75</td>\n",
       "      <td>0.08</td>\n",
       "      <td>1.11</td>\n",
       "      <td>85.0</td>\n",
       "      <td>5.0</td>\n",
       "      <td>E</td>\n",
       "      <td>7.60</td>\n",
       "    </tr>\n",
       "    <tr>\n",
       "      <th>105</th>\n",
       "      <td>Fallout 4</td>\n",
       "      <td>PS4</td>\n",
       "      <td>2015</td>\n",
       "      <td>Role-Playing</td>\n",
       "      <td>2.53</td>\n",
       "      <td>3.27</td>\n",
       "      <td>0.24</td>\n",
       "      <td>1.13</td>\n",
       "      <td>87.0</td>\n",
       "      <td>6.5</td>\n",
       "      <td>M</td>\n",
       "      <td>7.17</td>\n",
       "    </tr>\n",
       "  </tbody>\n",
       "</table>\n",
       "</div>"
      ],
      "text/plain": [
       "                               name platform  year_of_release         genre  \\\n",
       "42               Grand Theft Auto V      PS4             2014        Action   \n",
       "77                          FIFA 16      PS4             2015        Sports   \n",
       "92   Call of Duty: Advanced Warfare      PS4             2014       Shooter   \n",
       "94                          FIFA 17      PS4             2016        Sports   \n",
       "105                       Fallout 4      PS4             2015  Role-Playing   \n",
       "\n",
       "     na_sales  eu_sales  jp_sales  other_sales  critic_score  user_score  \\\n",
       "42       3.96      6.31      0.38         1.97          97.0         8.3   \n",
       "77       1.12      6.12      0.06         1.28          82.0         4.3   \n",
       "92       2.81      3.48      0.14         1.23          83.0         5.7   \n",
       "94       0.66      5.75      0.08         1.11          85.0         5.0   \n",
       "105      2.53      3.27      0.24         1.13          87.0         6.5   \n",
       "\n",
       "    rating  total_sales  \n",
       "42       M        12.62  \n",
       "77       E         8.58  \n",
       "92       M         7.66  \n",
       "94       E         7.60  \n",
       "105      M         7.17  "
      ]
     },
     "execution_count": 52,
     "metadata": {},
     "output_type": "execute_result"
    }
   ],
   "source": [
    "current_year = [2014, 2015, 2016]\n",
    "current_year_1 = df['year_of_release'].isin(current_year)\n",
    "\n",
    "current_year_df = df[current_year_1]\n",
    "\n",
    "current_year_df.head()"
   ]
  },
  {
   "cell_type": "markdown",
   "metadata": {},
   "source": [
    "Code Meaning:\n",
    "1) Use px.box() in order to create a boxplot with the data from the current_year_df.  Use the platform column of the current_year_df dataframe as the x axis and use the total_sales column as the y axis. Set the title as: \"Boxplot of Total Sales per Platform\".\n",
    "2) Use the labels parameter to rename the x and y axis appropriately.\n",
    "3) Set the points parameter to False in order to remove any outliers.\n",
    "4) Assign the code to current_year_box in order to save the result.\n",
    "5) Use the update_yaxes() method in order to limit the y axis to 0 for the  minimum and 1.25 for the maximum.\n",
    "6) Use the show() method on the current_year_box dataframe in order to display the dataframe."
   ]
  },
  {
   "cell_type": "code",
   "execution_count": 53,
   "metadata": {},
   "outputs": [
    {
     "data": {
      "application/vnd.plotly.v1+json": {
       "config": {
        "plotlyServerURL": "https://plot.ly"
       },
       "data": [
        {
         "alignmentgroup": "True",
         "boxpoints": false,
         "hovertemplate": "Platform=%{x}<br>Total Sales=%{y}<extra></extra>",
         "legendgroup": "",
         "marker": {
          "color": "#636efa"
         },
         "name": "",
         "notched": false,
         "offsetgroup": "",
         "orientation": "v",
         "showlegend": false,
         "type": "box",
         "x": [
          "PS4",
          "PS4",
          "PS4",
          "PS4",
          "PS4",
          "WiiU",
          "PS4",
          "PS4",
          "XOne",
          "PS4",
          "XOne",
          "PS4",
          "XOne",
          "PS4",
          "WiiU",
          "XOne",
          "PS4",
          "PS4",
          "PS4",
          "PS4",
          "PS4",
          "PS4",
          "3DS",
          "PS4",
          "PS4",
          "XOne",
          "PS4",
          "PS4",
          "XOne",
          "XOne",
          "XOne",
          "PS4",
          "XOne",
          "WiiU",
          "3DS",
          "PC",
          "PS4",
          "XOne",
          "PS4",
          "PS4",
          "XOne",
          "PS4",
          "PS4",
          "XOne",
          "XOne",
          "3DS",
          "XOne",
          "PS4",
          "XOne",
          "PS4",
          "PS4",
          "XOne",
          "XOne",
          "PS4",
          "PS4",
          "PS4",
          "PS4",
          "PS4",
          "PS4",
          "PS4",
          "PS4",
          "PS4",
          "3DS",
          "PS4",
          "XOne",
          "PS4",
          "PS4",
          "PS4",
          "PS4",
          "XOne",
          "PS4",
          "PS4",
          "PS4",
          "XOne",
          "WiiU",
          "XOne",
          "XOne",
          "PS4",
          "WiiU",
          "XOne",
          "XOne",
          "3DS",
          "XOne",
          "XOne",
          "X360",
          "XOne",
          "XOne",
          "XOne",
          "XOne",
          "WiiU",
          "XOne",
          "XOne",
          "PC",
          "PS3",
          "XOne",
          "X360",
          "PS3",
          "PS4",
          "3DS",
          "XOne",
          "WiiU",
          "PS4",
          "XOne",
          "WiiU",
          "XOne",
          "PC",
          "PS4",
          "XOne",
          "PS4",
          "PS4",
          "PS4",
          "3DS",
          "PS4",
          "PS4",
          "XOne",
          "X360",
          "XOne",
          "PS4",
          "WiiU",
          "XOne",
          "X360",
          "PS4",
          "WiiU",
          "PS4",
          "PS4",
          "XOne",
          "3DS",
          "PS4",
          "PS3",
          "PS4",
          "PS3",
          "X360",
          "PS4",
          "XOne",
          "PS4",
          "PC",
          "XOne",
          "PS4",
          "PS4",
          "WiiU",
          "PS4",
          "XOne",
          "PS3",
          "WiiU",
          "PS4",
          "XOne",
          "PS4",
          "X360",
          "PC",
          "PS4",
          "WiiU",
          "PS4",
          "3DS",
          "PS4",
          "X360",
          "PC",
          "PS4",
          "WiiU",
          "PS4",
          "XOne",
          "PS4",
          "XOne",
          "XOne",
          "PS4",
          "PS4",
          "XOne",
          "PSV",
          "PC",
          "PSV",
          "WiiU",
          "X360",
          "PS4",
          "XOne",
          "XOne",
          "PC",
          "PS4",
          "XOne",
          "PS3",
          "PS4",
          "PS3",
          "XOne",
          "PS4",
          "PS4",
          "PS4",
          "XOne",
          "PS3",
          "XOne",
          "XOne",
          "WiiU",
          "PC",
          "XOne",
          "XOne",
          "PS4",
          "PC",
          "3DS",
          "WiiU",
          "XOne",
          "XOne",
          "PC",
          "PC",
          "WiiU",
          "PS4",
          "PS4",
          "WiiU",
          "XOne",
          "PS4",
          "3DS",
          "3DS",
          "WiiU",
          "XOne",
          "3DS",
          "XOne",
          "XOne",
          "PC",
          "XOne",
          "PS4",
          "PC",
          "X360",
          "PS4",
          "PC",
          "PC",
          "WiiU",
          "PS4",
          "XOne",
          "PS3",
          "XOne",
          "PS3",
          "PS4",
          "X360",
          "PS4",
          "3DS",
          "WiiU",
          "WiiU",
          "XOne",
          "PS4",
          "XOne",
          "XOne",
          "PC",
          "PS3",
          "PC",
          "PS4",
          "PS4",
          "XOne",
          "PS4",
          "PS4",
          "PS4",
          "PC",
          "PS4",
          "WiiU",
          "PS4",
          "3DS",
          "PS4",
          "PS4",
          "PC",
          "WiiU",
          "PSV",
          "PS4",
          "3DS",
          "XOne",
          "PC",
          "PS4",
          "PS4",
          "PC",
          "XOne",
          "PS4",
          "XOne",
          "PS4",
          "XOne",
          "PS4",
          "PS4",
          "3DS",
          "3DS",
          "XOne",
          "XOne",
          "PC",
          "PSV",
          "PSV",
          "PS4",
          "WiiU",
          "PS4",
          "PS4",
          "PS3",
          "3DS",
          "XOne",
          "PS4",
          "PSV",
          "XOne",
          "PS4",
          "PS4",
          "PC",
          "3DS",
          "XOne",
          "PS4",
          "PC",
          "WiiU",
          "PS3",
          "PC",
          "XOne",
          "XOne",
          "3DS",
          "PS4",
          "PS4",
          "XOne",
          "XOne",
          "PS4",
          "3DS",
          "PS4",
          "PC",
          "PS3",
          "PC",
          "PS4",
          "XOne",
          "3DS",
          "XOne",
          "PS4",
          "XOne",
          "PS4",
          "PC",
          "XOne",
          "3DS",
          "XOne",
          "WiiU",
          "PS4",
          "PC",
          "PC",
          "PS4",
          "PSV",
          "X360",
          "PSV",
          "PS4",
          "PC",
          "XOne",
          "XOne",
          "3DS",
          "X360",
          "3DS",
          "3DS",
          "PC",
          "PSV",
          "PSV",
          "PS4",
          "XOne",
          "PSV",
          "3DS",
          "PS4",
          "PS4",
          "PSV",
          "PS4",
          "PC",
          "XOne",
          "PS4",
          "PC",
          "PS3",
          "PS4",
          "3DS",
          "PC",
          "WiiU",
          "PS4",
          "PC",
          "PC",
          "PSV",
          "PS4",
          "XOne",
          "PS4",
          "XOne",
          "PS3",
          "PS4",
          "PSV",
          "PS4",
          "PSV",
          "PS3",
          "PS4",
          "PS4",
          "PC",
          "XOne",
          "PS4",
          "PSV",
          "XOne",
          "PS4",
          "PSV",
          "X360",
          "PSV",
          "3DS",
          "PC",
          "PS3",
          "XOne",
          "3DS",
          "XOne",
          "PC",
          "XOne",
          "PS3",
          "PC",
          "XOne",
          "XOne",
          "PSV",
          "XOne",
          "PS4",
          "PSV",
          "PS4",
          "PS3",
          "WiiU",
          "XOne",
          "PS4",
          "PC",
          "PC",
          "PS4",
          "PS4",
          "XOne",
          "PC",
          "3DS",
          "PSV",
          "XOne",
          "PS4",
          "PSV",
          "XOne",
          "PS4",
          "PC",
          "PS4",
          "PS3",
          "PC",
          "XOne",
          "PS4",
          "PSV",
          "PC",
          "PC",
          "PS4",
          "WiiU",
          "PSV",
          "PSV",
          "PSV",
          "PC",
          "XOne",
          "PS4",
          "PS4",
          "PS4",
          "PC",
          "PSV",
          "PC",
          "XOne",
          "WiiU",
          "PS4",
          "PC",
          "PC",
          "PS3",
          "PS4",
          "3DS",
          "PSV",
          "WiiU",
          "PS4",
          "PSV",
          "PSV",
          "XOne",
          "PS4",
          "XOne",
          "XOne",
          "PS4",
          "PS3",
          "XOne",
          "PSV",
          "PSV",
          "X360",
          "PS3",
          "PC",
          "XOne",
          "PC",
          "PSV",
          "XOne",
          "PS4",
          "PS4",
          "PS4",
          "PS4",
          "PC",
          "WiiU",
          "PSV",
          "PS4",
          "XOne",
          "PSV",
          "PS3",
          "PS4",
          "PSV",
          "PC",
          "PS3",
          "PS3",
          "X360",
          "3DS",
          "PS4",
          "PS4",
          "PC",
          "X360",
          "3DS",
          "PC",
          "XOne",
          "PS4",
          "PS4",
          "WiiU",
          "PS4",
          "PS4",
          "PS4",
          "PC",
          "PS4",
          "3DS",
          "PS3",
          "PC",
          "X360",
          "PSV",
          "PS4",
          "PC",
          "PS4",
          "XOne",
          "PC",
          "PS4",
          "3DS",
          "3DS",
          "PS4",
          "PS3",
          "PS3",
          "PS4",
          "PS4",
          "PC",
          "PS4",
          "X360",
          "PSV",
          "PSV",
          "PSV",
          "XOne",
          "PS4",
          "PS4",
          "PSV",
          "X360",
          "PS4",
          "PSV",
          "PS4",
          "X360",
          "PSV",
          "WiiU",
          "3DS",
          "PC",
          "PS4",
          "XOne",
          "XOne",
          "PC",
          "PSV",
          "PS4",
          "PC",
          "X360",
          "PSV",
          "PS4",
          "PS4",
          "XOne",
          "WiiU",
          "3DS",
          "X360",
          "XOne",
          "PSV",
          "PC",
          "PS4",
          "X360",
          "PS4",
          "PS3",
          "PC",
          "XOne",
          "PC",
          "PS3",
          "PC",
          "PS4",
          "PS4",
          "XOne",
          "PC",
          "PS4",
          "PC",
          "XOne",
          "X360",
          "XOne",
          "PS4",
          "3DS",
          "PS4",
          "PC",
          "PS4",
          "PC",
          "PS4",
          "PS4",
          "XOne",
          "XOne",
          "X360",
          "PS4",
          "PSV",
          "XOne",
          "PS4",
          "PC",
          "PS4",
          "PC",
          "XOne",
          "X360",
          "3DS",
          "PS4",
          "XOne",
          "PS4",
          "3DS",
          "3DS",
          "PS4",
          "PC",
          "PS4",
          "XOne",
          "PS4",
          "PC",
          "PC",
          "PS4",
          "PS4",
          "PSV",
          "PC",
          "PC",
          "XOne",
          "PSV",
          "PC",
          "PS4",
          "PS4",
          "PS4",
          "PS4",
          "PC",
          "PC",
          "PC",
          "PC",
          "PS4",
          "PC",
          "XOne",
          "PS4",
          "XOne",
          "PC",
          "WiiU",
          "PSV",
          "PS4",
          "PC",
          "PC",
          "PS3",
          "PS4",
          "XOne",
          "PS4",
          "PS4",
          "PS4",
          "PS4",
          "PC",
          "PC",
          "PS4",
          "PS4",
          "PS4",
          "PSV",
          "3DS",
          "PS4",
          "PC",
          "PS4",
          "PC",
          "PC",
          "PS3",
          "PS3",
          "XOne",
          "PC",
          "PS4",
          "PC",
          "PC",
          "PSV",
          "3DS",
          "XOne",
          "XOne",
          "PC",
          "PC",
          "PS4",
          "PS4",
          "PC",
          "XOne",
          "PC",
          "XOne",
          "PC",
          "PS4",
          "PC",
          "PS4",
          "3DS",
          "PS3",
          "PC",
          "XOne",
          "PC",
          "PSV",
          "XOne",
          "PC",
          "XOne",
          "XOne",
          "PC",
          "XOne",
          "WiiU",
          "WiiU",
          "PC",
          "PC",
          "PC",
          "PS4",
          "PS4",
          "PS4",
          "PC",
          "WiiU",
          "PS4",
          "PS4",
          "XOne",
          "XOne",
          "WiiU",
          "XOne",
          "PC"
         ],
         "x0": " ",
         "xaxis": "x",
         "y": [
          12.620000000000001,
          8.58,
          7.66,
          7.6000000000000005,
          7.17,
          7.09,
          6.08,
          5.640000000000001,
          5.47,
          5.39,
          5.26,
          4.62,
          4.49,
          4.470000000000001,
          4.4399999999999995,
          4.22,
          4.07,
          4.05,
          4.04,
          3.9699999999999998,
          3.96,
          3.96,
          3.89,
          3.87,
          3.8,
          3.5,
          3.4200000000000004,
          3.3899999999999997,
          3.37,
          3.28,
          3.25,
          3.2399999999999998,
          3.23,
          3.21,
          3.05,
          3.0500000000000003,
          2.96,
          2.95,
          2.7899999999999996,
          2.78,
          2.65,
          2.48,
          2.4499999999999997,
          2.4200000000000004,
          2.42,
          2.34,
          2.34,
          2.2600000000000002,
          2.25,
          2.21,
          2.19,
          2.18,
          2.1700000000000004,
          2.14,
          2.11,
          2.09,
          2.07,
          2.01,
          1.9200000000000002,
          1.9100000000000001,
          1.8800000000000001,
          1.85,
          1.83,
          1.81,
          1.7999999999999998,
          1.7900000000000003,
          1.74,
          1.7200000000000002,
          1.7200000000000002,
          1.73,
          1.6900000000000002,
          1.6600000000000001,
          1.6600000000000001,
          1.6400000000000001,
          1.58,
          1.5700000000000003,
          1.56,
          1.54,
          1.5299999999999998,
          1.4900000000000002,
          1.4000000000000001,
          1.3800000000000001,
          1.38,
          1.3800000000000001,
          1.3599999999999999,
          1.3599999999999999,
          1.3399999999999999,
          1.3399999999999999,
          1.3,
          1.3,
          1.2900000000000003,
          1.29,
          1.2800000000000002,
          1.28,
          1.2800000000000002,
          1.27,
          1.2799999999999998,
          1.2699999999999998,
          1.25,
          1.23,
          1.23,
          1.21,
          1.21,
          1.1900000000000002,
          1.2000000000000002,
          1.1700000000000002,
          1.15,
          1.1300000000000001,
          1.14,
          1.13,
          1.1199999999999999,
          1.11,
          1.1,
          1.0799999999999998,
          1.08,
          1.07,
          1.06,
          1.05,
          1.03,
          1.03,
          1.01,
          1.02,
          1.01,
          0.9700000000000001,
          0.93,
          0.93,
          0.93,
          0.92,
          0.93,
          0.93,
          0.93,
          0.9299999999999999,
          0.9,
          0.91,
          0.9,
          0.9000000000000001,
          0.88,
          0.88,
          0.86,
          0.8400000000000001,
          0.78,
          0.79,
          0.7799999999999999,
          0.76,
          0.7600000000000001,
          0.75,
          0.75,
          0.74,
          0.73,
          0.73,
          0.73,
          0.73,
          0.7200000000000001,
          0.72,
          0.73,
          0.7200000000000001,
          0.7,
          0.7,
          0.71,
          0.6799999999999999,
          0.6900000000000001,
          0.6800000000000002,
          0.6599999999999999,
          0.67,
          0.67,
          0.6599999999999999,
          0.65,
          0.65,
          0.64,
          0.6400000000000001,
          0.6400000000000001,
          0.64,
          0.6400000000000001,
          0.6300000000000001,
          0.63,
          0.63,
          0.6200000000000001,
          0.61,
          0.61,
          0.62,
          0.6000000000000001,
          0.6,
          0.6,
          0.6,
          0.5900000000000001,
          0.5800000000000001,
          0.5700000000000001,
          0.5700000000000001,
          0.5700000000000001,
          0.56,
          0.56,
          0.55,
          0.54,
          0.55,
          0.53,
          0.53,
          0.53,
          0.53,
          0.53,
          0.52,
          0.52,
          0.51,
          0.52,
          0.51,
          0.49999999999999994,
          0.49000000000000005,
          0.49,
          0.48,
          0.48,
          0.4799999999999999,
          0.4800000000000001,
          0.48,
          0.47,
          0.47,
          0.45999999999999996,
          0.47000000000000003,
          0.47,
          0.45,
          0.45,
          0.44999999999999996,
          0.44000000000000006,
          0.44000000000000006,
          0.44,
          0.43,
          0.44,
          0.44,
          0.43,
          0.43,
          0.43000000000000005,
          0.43,
          0.42000000000000004,
          0.42000000000000004,
          0.42000000000000004,
          0.42,
          0.42,
          0.41,
          0.41,
          0.41,
          0.41000000000000003,
          0.41000000000000003,
          0.4,
          0.38999999999999996,
          0.38999999999999996,
          0.39999999999999997,
          0.39,
          0.38,
          0.38,
          0.38,
          0.38,
          0.37000000000000005,
          0.38,
          0.36000000000000004,
          0.36,
          0.36,
          0.37,
          0.36,
          0.36000000000000004,
          0.36,
          0.36,
          0.35,
          0.35000000000000003,
          0.36,
          0.35000000000000003,
          0.33999999999999997,
          0.34,
          0.33999999999999997,
          0.34,
          0.33999999999999997,
          0.34,
          0.33,
          0.33,
          0.32000000000000006,
          0.31999999999999995,
          0.31999999999999995,
          0.32000000000000006,
          0.33,
          0.32,
          0.32,
          0.31000000000000005,
          0.32,
          0.3,
          0.3,
          0.31000000000000005,
          0.31000000000000005,
          0.31,
          0.3,
          0.29000000000000004,
          0.3,
          0.3,
          0.28,
          0.29000000000000004,
          0.28,
          0.29,
          0.29000000000000004,
          0.27,
          0.29,
          0.28,
          0.27,
          0.27,
          0.26,
          0.27,
          0.26,
          0.26,
          0.26,
          0.26,
          0.25,
          0.26,
          0.26,
          0.25,
          0.24,
          0.25,
          0.24999999999999997,
          0.24000000000000002,
          0.24,
          0.25,
          0.24000000000000002,
          0.24000000000000002,
          0.24,
          0.24000000000000002,
          0.24,
          0.24000000000000002,
          0.24,
          0.24000000000000002,
          0.22999999999999998,
          0.23,
          0.23,
          0.22000000000000003,
          0.23,
          0.22,
          0.23,
          0.22,
          0.22,
          0.22,
          0.21000000000000002,
          0.22,
          0.22,
          0.21,
          0.22,
          0.21,
          0.21,
          0.21000000000000002,
          0.21,
          0.21000000000000002,
          0.21,
          0.19999999999999998,
          0.2,
          0.2,
          0.19999999999999998,
          0.2,
          0.19999999999999998,
          0.2,
          0.19999999999999998,
          0.19999999999999998,
          0.19999999999999998,
          0.18000000000000002,
          0.19999999999999998,
          0.18999999999999997,
          0.19,
          0.18000000000000002,
          0.19999999999999998,
          0.18000000000000002,
          0.19,
          0.18,
          0.19999999999999998,
          0.18,
          0.18,
          0.18,
          0.18,
          0.18,
          0.16999999999999998,
          0.18000000000000002,
          0.18,
          0.17,
          0.17,
          0.18,
          0.16,
          0.17,
          0.16,
          0.16999999999999998,
          0.17,
          0.16999999999999998,
          0.17,
          0.16,
          0.16,
          0.15000000000000002,
          0.16,
          0.16000000000000003,
          0.16000000000000003,
          0.16,
          0.15000000000000002,
          0.16,
          0.16000000000000003,
          0.15000000000000002,
          0.15000000000000002,
          0.15,
          0.15000000000000002,
          0.15,
          0.15000000000000002,
          0.13999999999999999,
          0.16,
          0.15000000000000002,
          0.14,
          0.14,
          0.15000000000000002,
          0.15000000000000002,
          0.13999999999999999,
          0.13999999999999999,
          0.14,
          0.14,
          0.15,
          0.14,
          0.14,
          0.13999999999999999,
          0.14,
          0.14,
          0.13,
          0.14,
          0.13,
          0.13,
          0.13,
          0.13,
          0.12000000000000001,
          0.13,
          0.13,
          0.13,
          0.13,
          0.13,
          0.12000000000000001,
          0.13,
          0.13,
          0.13,
          0.13,
          0.12,
          0.12,
          0.11,
          0.12,
          0.11,
          0.12000000000000001,
          0.12,
          0.12,
          0.12,
          0.12,
          0.12,
          0.12,
          0.12000000000000001,
          0.11,
          0.11,
          0.11,
          0.12000000000000001,
          0.11,
          0.11,
          0.11,
          0.11,
          0.10999999999999999,
          0.11,
          0.09999999999999999,
          0.11,
          0.11,
          0.11,
          0.11,
          0.09999999999999999,
          0.11,
          0.09999999999999999,
          0.09999999999999999,
          0.11,
          0.11,
          0.1,
          0.09,
          0.1,
          0.09,
          0.1,
          0.09999999999999999,
          0.09999999999999999,
          0.09,
          0.09999999999999999,
          0.09999999999999999,
          0.09000000000000001,
          0.1,
          0.09000000000000001,
          0.09,
          0.09999999999999999,
          0.1,
          0.1,
          0.09,
          0.09,
          0.09,
          0.09,
          0.08,
          0.09,
          0.09,
          0.08,
          0.09,
          0.08,
          0.08,
          0.09,
          0.08,
          0.08,
          0.06999999999999999,
          0.09,
          0.09000000000000001,
          0.07,
          0.08,
          0.08,
          0.07999999999999999,
          0.08,
          0.06999999999999999,
          0.08,
          0.06999999999999999,
          0.08,
          0.07,
          0.07,
          0.08,
          0.08,
          0.08,
          0.07,
          0.08,
          0.06999999999999999,
          0.07,
          0.07,
          0.06999999999999999,
          0.08,
          0.06999999999999999,
          0.06999999999999999,
          0.06999999999999999,
          0.06999999999999999,
          0.07,
          0.06999999999999999,
          0.07,
          0.060000000000000005,
          0.07,
          0.06999999999999999,
          0.06999999999999999,
          0.06,
          0.06,
          0.06,
          0.06,
          0.060000000000000005,
          0.060000000000000005,
          0.060000000000000005,
          0.06,
          0.06,
          0.060000000000000005,
          0.060000000000000005,
          0.06,
          0.060000000000000005,
          0.06999999999999999,
          0.060000000000000005,
          0.06999999999999999,
          0.060000000000000005,
          0.06999999999999999,
          0.06,
          0.05,
          0.060000000000000005,
          0.060000000000000005,
          0.05,
          0.060000000000000005,
          0.05,
          0.060000000000000005,
          0.060000000000000005,
          0.05,
          0.05,
          0.05,
          0.060000000000000005,
          0.05,
          0.05,
          0.05,
          0.05,
          0.05,
          0.05,
          0.05,
          0.05,
          0.05,
          0.060000000000000005,
          0.05,
          0.04,
          0.04,
          0.05,
          0.05,
          0.04,
          0.05,
          0.05,
          0.04,
          0.04,
          0.04,
          0.05,
          0.05,
          0.04,
          0.05,
          0.05,
          0.05,
          0.04,
          0.04,
          0.04,
          0.04,
          0.04,
          0.04,
          0.03,
          0.03,
          0.03,
          0.05,
          0.04,
          0.04,
          0.04,
          0.04,
          0.04,
          0.04,
          0.04,
          0.04,
          0.04,
          0.03,
          0.03,
          0.03,
          0.03,
          0.03,
          0.03,
          0.03,
          0.04,
          0.03,
          0.03,
          0.03,
          0.03,
          0.03,
          0.03,
          0.03,
          0.03,
          0.03,
          0.03,
          0.03,
          0.03,
          0.03,
          0.02,
          0.03,
          0.03,
          0.03,
          0.02,
          0.02,
          0.02,
          0.02,
          0.02,
          0.02,
          0.02,
          0.02,
          0.02,
          0.02,
          0.02,
          0.02,
          0.02,
          0.02,
          0.02,
          0.02,
          0.02,
          0.02,
          0.02,
          0.02,
          0.02,
          0.02,
          0.02,
          0.02,
          0.02,
          0.02,
          0.02,
          0.02,
          0.02,
          0.02,
          0.02,
          0.01,
          0.01,
          0.02,
          0.02,
          0.01,
          0.01,
          0.01,
          0.02,
          0.01,
          0.01,
          0.01,
          0.01,
          0.01,
          0.01,
          0.01,
          0.01,
          0.01,
          0.01,
          0.01,
          0.01,
          0.01,
          0.01,
          0.01,
          0.01,
          0.01,
          0.01,
          0.01,
          0.01,
          0.01,
          0.01,
          0.01,
          0.01,
          0.01,
          0.01,
          0.01,
          0.01,
          0.01,
          0.01,
          0.01
         ],
         "y0": " ",
         "yaxis": "y"
        }
       ],
       "layout": {
        "boxmode": "group",
        "legend": {
         "tracegroupgap": 0
        },
        "template": {
         "data": {
          "bar": [
           {
            "error_x": {
             "color": "#2a3f5f"
            },
            "error_y": {
             "color": "#2a3f5f"
            },
            "marker": {
             "line": {
              "color": "#E5ECF6",
              "width": 0.5
             },
             "pattern": {
              "fillmode": "overlay",
              "size": 10,
              "solidity": 0.2
             }
            },
            "type": "bar"
           }
          ],
          "barpolar": [
           {
            "marker": {
             "line": {
              "color": "#E5ECF6",
              "width": 0.5
             },
             "pattern": {
              "fillmode": "overlay",
              "size": 10,
              "solidity": 0.2
             }
            },
            "type": "barpolar"
           }
          ],
          "carpet": [
           {
            "aaxis": {
             "endlinecolor": "#2a3f5f",
             "gridcolor": "white",
             "linecolor": "white",
             "minorgridcolor": "white",
             "startlinecolor": "#2a3f5f"
            },
            "baxis": {
             "endlinecolor": "#2a3f5f",
             "gridcolor": "white",
             "linecolor": "white",
             "minorgridcolor": "white",
             "startlinecolor": "#2a3f5f"
            },
            "type": "carpet"
           }
          ],
          "choropleth": [
           {
            "colorbar": {
             "outlinewidth": 0,
             "ticks": ""
            },
            "type": "choropleth"
           }
          ],
          "contour": [
           {
            "colorbar": {
             "outlinewidth": 0,
             "ticks": ""
            },
            "colorscale": [
             [
              0,
              "#0d0887"
             ],
             [
              0.1111111111111111,
              "#46039f"
             ],
             [
              0.2222222222222222,
              "#7201a8"
             ],
             [
              0.3333333333333333,
              "#9c179e"
             ],
             [
              0.4444444444444444,
              "#bd3786"
             ],
             [
              0.5555555555555556,
              "#d8576b"
             ],
             [
              0.6666666666666666,
              "#ed7953"
             ],
             [
              0.7777777777777778,
              "#fb9f3a"
             ],
             [
              0.8888888888888888,
              "#fdca26"
             ],
             [
              1,
              "#f0f921"
             ]
            ],
            "type": "contour"
           }
          ],
          "contourcarpet": [
           {
            "colorbar": {
             "outlinewidth": 0,
             "ticks": ""
            },
            "type": "contourcarpet"
           }
          ],
          "heatmap": [
           {
            "colorbar": {
             "outlinewidth": 0,
             "ticks": ""
            },
            "colorscale": [
             [
              0,
              "#0d0887"
             ],
             [
              0.1111111111111111,
              "#46039f"
             ],
             [
              0.2222222222222222,
              "#7201a8"
             ],
             [
              0.3333333333333333,
              "#9c179e"
             ],
             [
              0.4444444444444444,
              "#bd3786"
             ],
             [
              0.5555555555555556,
              "#d8576b"
             ],
             [
              0.6666666666666666,
              "#ed7953"
             ],
             [
              0.7777777777777778,
              "#fb9f3a"
             ],
             [
              0.8888888888888888,
              "#fdca26"
             ],
             [
              1,
              "#f0f921"
             ]
            ],
            "type": "heatmap"
           }
          ],
          "heatmapgl": [
           {
            "colorbar": {
             "outlinewidth": 0,
             "ticks": ""
            },
            "colorscale": [
             [
              0,
              "#0d0887"
             ],
             [
              0.1111111111111111,
              "#46039f"
             ],
             [
              0.2222222222222222,
              "#7201a8"
             ],
             [
              0.3333333333333333,
              "#9c179e"
             ],
             [
              0.4444444444444444,
              "#bd3786"
             ],
             [
              0.5555555555555556,
              "#d8576b"
             ],
             [
              0.6666666666666666,
              "#ed7953"
             ],
             [
              0.7777777777777778,
              "#fb9f3a"
             ],
             [
              0.8888888888888888,
              "#fdca26"
             ],
             [
              1,
              "#f0f921"
             ]
            ],
            "type": "heatmapgl"
           }
          ],
          "histogram": [
           {
            "marker": {
             "pattern": {
              "fillmode": "overlay",
              "size": 10,
              "solidity": 0.2
             }
            },
            "type": "histogram"
           }
          ],
          "histogram2d": [
           {
            "colorbar": {
             "outlinewidth": 0,
             "ticks": ""
            },
            "colorscale": [
             [
              0,
              "#0d0887"
             ],
             [
              0.1111111111111111,
              "#46039f"
             ],
             [
              0.2222222222222222,
              "#7201a8"
             ],
             [
              0.3333333333333333,
              "#9c179e"
             ],
             [
              0.4444444444444444,
              "#bd3786"
             ],
             [
              0.5555555555555556,
              "#d8576b"
             ],
             [
              0.6666666666666666,
              "#ed7953"
             ],
             [
              0.7777777777777778,
              "#fb9f3a"
             ],
             [
              0.8888888888888888,
              "#fdca26"
             ],
             [
              1,
              "#f0f921"
             ]
            ],
            "type": "histogram2d"
           }
          ],
          "histogram2dcontour": [
           {
            "colorbar": {
             "outlinewidth": 0,
             "ticks": ""
            },
            "colorscale": [
             [
              0,
              "#0d0887"
             ],
             [
              0.1111111111111111,
              "#46039f"
             ],
             [
              0.2222222222222222,
              "#7201a8"
             ],
             [
              0.3333333333333333,
              "#9c179e"
             ],
             [
              0.4444444444444444,
              "#bd3786"
             ],
             [
              0.5555555555555556,
              "#d8576b"
             ],
             [
              0.6666666666666666,
              "#ed7953"
             ],
             [
              0.7777777777777778,
              "#fb9f3a"
             ],
             [
              0.8888888888888888,
              "#fdca26"
             ],
             [
              1,
              "#f0f921"
             ]
            ],
            "type": "histogram2dcontour"
           }
          ],
          "mesh3d": [
           {
            "colorbar": {
             "outlinewidth": 0,
             "ticks": ""
            },
            "type": "mesh3d"
           }
          ],
          "parcoords": [
           {
            "line": {
             "colorbar": {
              "outlinewidth": 0,
              "ticks": ""
             }
            },
            "type": "parcoords"
           }
          ],
          "pie": [
           {
            "automargin": true,
            "type": "pie"
           }
          ],
          "scatter": [
           {
            "fillpattern": {
             "fillmode": "overlay",
             "size": 10,
             "solidity": 0.2
            },
            "type": "scatter"
           }
          ],
          "scatter3d": [
           {
            "line": {
             "colorbar": {
              "outlinewidth": 0,
              "ticks": ""
             }
            },
            "marker": {
             "colorbar": {
              "outlinewidth": 0,
              "ticks": ""
             }
            },
            "type": "scatter3d"
           }
          ],
          "scattercarpet": [
           {
            "marker": {
             "colorbar": {
              "outlinewidth": 0,
              "ticks": ""
             }
            },
            "type": "scattercarpet"
           }
          ],
          "scattergeo": [
           {
            "marker": {
             "colorbar": {
              "outlinewidth": 0,
              "ticks": ""
             }
            },
            "type": "scattergeo"
           }
          ],
          "scattergl": [
           {
            "marker": {
             "colorbar": {
              "outlinewidth": 0,
              "ticks": ""
             }
            },
            "type": "scattergl"
           }
          ],
          "scattermapbox": [
           {
            "marker": {
             "colorbar": {
              "outlinewidth": 0,
              "ticks": ""
             }
            },
            "type": "scattermapbox"
           }
          ],
          "scatterpolar": [
           {
            "marker": {
             "colorbar": {
              "outlinewidth": 0,
              "ticks": ""
             }
            },
            "type": "scatterpolar"
           }
          ],
          "scatterpolargl": [
           {
            "marker": {
             "colorbar": {
              "outlinewidth": 0,
              "ticks": ""
             }
            },
            "type": "scatterpolargl"
           }
          ],
          "scatterternary": [
           {
            "marker": {
             "colorbar": {
              "outlinewidth": 0,
              "ticks": ""
             }
            },
            "type": "scatterternary"
           }
          ],
          "surface": [
           {
            "colorbar": {
             "outlinewidth": 0,
             "ticks": ""
            },
            "colorscale": [
             [
              0,
              "#0d0887"
             ],
             [
              0.1111111111111111,
              "#46039f"
             ],
             [
              0.2222222222222222,
              "#7201a8"
             ],
             [
              0.3333333333333333,
              "#9c179e"
             ],
             [
              0.4444444444444444,
              "#bd3786"
             ],
             [
              0.5555555555555556,
              "#d8576b"
             ],
             [
              0.6666666666666666,
              "#ed7953"
             ],
             [
              0.7777777777777778,
              "#fb9f3a"
             ],
             [
              0.8888888888888888,
              "#fdca26"
             ],
             [
              1,
              "#f0f921"
             ]
            ],
            "type": "surface"
           }
          ],
          "table": [
           {
            "cells": {
             "fill": {
              "color": "#EBF0F8"
             },
             "line": {
              "color": "white"
             }
            },
            "header": {
             "fill": {
              "color": "#C8D4E3"
             },
             "line": {
              "color": "white"
             }
            },
            "type": "table"
           }
          ]
         },
         "layout": {
          "annotationdefaults": {
           "arrowcolor": "#2a3f5f",
           "arrowhead": 0,
           "arrowwidth": 1
          },
          "autotypenumbers": "strict",
          "coloraxis": {
           "colorbar": {
            "outlinewidth": 0,
            "ticks": ""
           }
          },
          "colorscale": {
           "diverging": [
            [
             0,
             "#8e0152"
            ],
            [
             0.1,
             "#c51b7d"
            ],
            [
             0.2,
             "#de77ae"
            ],
            [
             0.3,
             "#f1b6da"
            ],
            [
             0.4,
             "#fde0ef"
            ],
            [
             0.5,
             "#f7f7f7"
            ],
            [
             0.6,
             "#e6f5d0"
            ],
            [
             0.7,
             "#b8e186"
            ],
            [
             0.8,
             "#7fbc41"
            ],
            [
             0.9,
             "#4d9221"
            ],
            [
             1,
             "#276419"
            ]
           ],
           "sequential": [
            [
             0,
             "#0d0887"
            ],
            [
             0.1111111111111111,
             "#46039f"
            ],
            [
             0.2222222222222222,
             "#7201a8"
            ],
            [
             0.3333333333333333,
             "#9c179e"
            ],
            [
             0.4444444444444444,
             "#bd3786"
            ],
            [
             0.5555555555555556,
             "#d8576b"
            ],
            [
             0.6666666666666666,
             "#ed7953"
            ],
            [
             0.7777777777777778,
             "#fb9f3a"
            ],
            [
             0.8888888888888888,
             "#fdca26"
            ],
            [
             1,
             "#f0f921"
            ]
           ],
           "sequentialminus": [
            [
             0,
             "#0d0887"
            ],
            [
             0.1111111111111111,
             "#46039f"
            ],
            [
             0.2222222222222222,
             "#7201a8"
            ],
            [
             0.3333333333333333,
             "#9c179e"
            ],
            [
             0.4444444444444444,
             "#bd3786"
            ],
            [
             0.5555555555555556,
             "#d8576b"
            ],
            [
             0.6666666666666666,
             "#ed7953"
            ],
            [
             0.7777777777777778,
             "#fb9f3a"
            ],
            [
             0.8888888888888888,
             "#fdca26"
            ],
            [
             1,
             "#f0f921"
            ]
           ]
          },
          "colorway": [
           "#636efa",
           "#EF553B",
           "#00cc96",
           "#ab63fa",
           "#FFA15A",
           "#19d3f3",
           "#FF6692",
           "#B6E880",
           "#FF97FF",
           "#FECB52"
          ],
          "font": {
           "color": "#2a3f5f"
          },
          "geo": {
           "bgcolor": "white",
           "lakecolor": "white",
           "landcolor": "#E5ECF6",
           "showlakes": true,
           "showland": true,
           "subunitcolor": "white"
          },
          "hoverlabel": {
           "align": "left"
          },
          "hovermode": "closest",
          "mapbox": {
           "style": "light"
          },
          "paper_bgcolor": "white",
          "plot_bgcolor": "#E5ECF6",
          "polar": {
           "angularaxis": {
            "gridcolor": "white",
            "linecolor": "white",
            "ticks": ""
           },
           "bgcolor": "#E5ECF6",
           "radialaxis": {
            "gridcolor": "white",
            "linecolor": "white",
            "ticks": ""
           }
          },
          "scene": {
           "xaxis": {
            "backgroundcolor": "#E5ECF6",
            "gridcolor": "white",
            "gridwidth": 2,
            "linecolor": "white",
            "showbackground": true,
            "ticks": "",
            "zerolinecolor": "white"
           },
           "yaxis": {
            "backgroundcolor": "#E5ECF6",
            "gridcolor": "white",
            "gridwidth": 2,
            "linecolor": "white",
            "showbackground": true,
            "ticks": "",
            "zerolinecolor": "white"
           },
           "zaxis": {
            "backgroundcolor": "#E5ECF6",
            "gridcolor": "white",
            "gridwidth": 2,
            "linecolor": "white",
            "showbackground": true,
            "ticks": "",
            "zerolinecolor": "white"
           }
          },
          "shapedefaults": {
           "line": {
            "color": "#2a3f5f"
           }
          },
          "ternary": {
           "aaxis": {
            "gridcolor": "white",
            "linecolor": "white",
            "ticks": ""
           },
           "baxis": {
            "gridcolor": "white",
            "linecolor": "white",
            "ticks": ""
           },
           "bgcolor": "#E5ECF6",
           "caxis": {
            "gridcolor": "white",
            "linecolor": "white",
            "ticks": ""
           }
          },
          "title": {
           "x": 0.05
          },
          "xaxis": {
           "automargin": true,
           "gridcolor": "white",
           "linecolor": "white",
           "ticks": "",
           "title": {
            "standoff": 15
           },
           "zerolinecolor": "white",
           "zerolinewidth": 2
          },
          "yaxis": {
           "automargin": true,
           "gridcolor": "white",
           "linecolor": "white",
           "ticks": "",
           "title": {
            "standoff": 15
           },
           "zerolinecolor": "white",
           "zerolinewidth": 2
          }
         }
        },
        "title": {
         "text": " Boxplot of Total Sales per Platform"
        },
        "xaxis": {
         "anchor": "y",
         "domain": [
          0,
          1
         ],
         "title": {
          "text": "Platform"
         }
        },
        "yaxis": {
         "anchor": "x",
         "domain": [
          0,
          1
         ],
         "range": [
          0,
          1.25
         ],
         "title": {
          "text": "Total Sales"
         }
        }
       }
      }
     },
     "metadata": {},
     "output_type": "display_data"
    }
   ],
   "source": [
    "current_year_box = px.box(current_year_df, x='platform', y='total_sales', labels={\"platform\" : \"Platform\", \"total_sales\" : \"Total Sales\"}, points=False, title=\" Boxplot of Total Sales per Platform\")\n",
    "current_year_box.update_yaxes(range=[0, 1.25])\n",
    "current_year_box.show()"
   ]
  },
  {
   "cell_type": "markdown",
   "metadata": {},
   "source": [
    "Code Meaning:\n",
    "1) Use px.box() in order to create a boxplot with the data from the current_year_df.  Use the platform column of the current_year_df dataframe as the x axis and use the total_sales column as the y axis. Set the title as: \"Min/Max Boxplot of Total Sales per Platform\".\n",
    "2) Use the labels parameter to rename the x and y axis appropriately.\n",
    "3) Set the points parameter to False in order to remove any outliers.\n",
    "4) Assign the code to current_year_box_max in order to save the result.\n",
    "6) Use the show() method on the current_year_box_max dataframe in order to display the dataframe."
   ]
  },
  {
   "cell_type": "code",
   "execution_count": 54,
   "metadata": {},
   "outputs": [
    {
     "data": {
      "application/vnd.plotly.v1+json": {
       "config": {
        "plotlyServerURL": "https://plot.ly"
       },
       "data": [
        {
         "alignmentgroup": "True",
         "boxpoints": false,
         "hovertemplate": "Platform=%{x}<br>Total Sales=%{y}<extra></extra>",
         "legendgroup": "",
         "marker": {
          "color": "#636efa"
         },
         "name": "",
         "notched": false,
         "offsetgroup": "",
         "orientation": "v",
         "showlegend": false,
         "type": "box",
         "x": [
          "PS4",
          "PS4",
          "PS4",
          "PS4",
          "PS4",
          "WiiU",
          "PS4",
          "PS4",
          "XOne",
          "PS4",
          "XOne",
          "PS4",
          "XOne",
          "PS4",
          "WiiU",
          "XOne",
          "PS4",
          "PS4",
          "PS4",
          "PS4",
          "PS4",
          "PS4",
          "3DS",
          "PS4",
          "PS4",
          "XOne",
          "PS4",
          "PS4",
          "XOne",
          "XOne",
          "XOne",
          "PS4",
          "XOne",
          "WiiU",
          "3DS",
          "PC",
          "PS4",
          "XOne",
          "PS4",
          "PS4",
          "XOne",
          "PS4",
          "PS4",
          "XOne",
          "XOne",
          "3DS",
          "XOne",
          "PS4",
          "XOne",
          "PS4",
          "PS4",
          "XOne",
          "XOne",
          "PS4",
          "PS4",
          "PS4",
          "PS4",
          "PS4",
          "PS4",
          "PS4",
          "PS4",
          "PS4",
          "3DS",
          "PS4",
          "XOne",
          "PS4",
          "PS4",
          "PS4",
          "PS4",
          "XOne",
          "PS4",
          "PS4",
          "PS4",
          "XOne",
          "WiiU",
          "XOne",
          "XOne",
          "PS4",
          "WiiU",
          "XOne",
          "XOne",
          "3DS",
          "XOne",
          "XOne",
          "X360",
          "XOne",
          "XOne",
          "XOne",
          "XOne",
          "WiiU",
          "XOne",
          "XOne",
          "PC",
          "PS3",
          "XOne",
          "X360",
          "PS3",
          "PS4",
          "3DS",
          "XOne",
          "WiiU",
          "PS4",
          "XOne",
          "WiiU",
          "XOne",
          "PC",
          "PS4",
          "XOne",
          "PS4",
          "PS4",
          "PS4",
          "3DS",
          "PS4",
          "PS4",
          "XOne",
          "X360",
          "XOne",
          "PS4",
          "WiiU",
          "XOne",
          "X360",
          "PS4",
          "WiiU",
          "PS4",
          "PS4",
          "XOne",
          "3DS",
          "PS4",
          "PS3",
          "PS4",
          "PS3",
          "X360",
          "PS4",
          "XOne",
          "PS4",
          "PC",
          "XOne",
          "PS4",
          "PS4",
          "WiiU",
          "PS4",
          "XOne",
          "PS3",
          "WiiU",
          "PS4",
          "XOne",
          "PS4",
          "X360",
          "PC",
          "PS4",
          "WiiU",
          "PS4",
          "3DS",
          "PS4",
          "X360",
          "PC",
          "PS4",
          "WiiU",
          "PS4",
          "XOne",
          "PS4",
          "XOne",
          "XOne",
          "PS4",
          "PS4",
          "XOne",
          "PSV",
          "PC",
          "PSV",
          "WiiU",
          "X360",
          "PS4",
          "XOne",
          "XOne",
          "PC",
          "PS4",
          "XOne",
          "PS3",
          "PS4",
          "PS3",
          "XOne",
          "PS4",
          "PS4",
          "PS4",
          "XOne",
          "PS3",
          "XOne",
          "XOne",
          "WiiU",
          "PC",
          "XOne",
          "XOne",
          "PS4",
          "PC",
          "3DS",
          "WiiU",
          "XOne",
          "XOne",
          "PC",
          "PC",
          "WiiU",
          "PS4",
          "PS4",
          "WiiU",
          "XOne",
          "PS4",
          "3DS",
          "3DS",
          "WiiU",
          "XOne",
          "3DS",
          "XOne",
          "XOne",
          "PC",
          "XOne",
          "PS4",
          "PC",
          "X360",
          "PS4",
          "PC",
          "PC",
          "WiiU",
          "PS4",
          "XOne",
          "PS3",
          "XOne",
          "PS3",
          "PS4",
          "X360",
          "PS4",
          "3DS",
          "WiiU",
          "WiiU",
          "XOne",
          "PS4",
          "XOne",
          "XOne",
          "PC",
          "PS3",
          "PC",
          "PS4",
          "PS4",
          "XOne",
          "PS4",
          "PS4",
          "PS4",
          "PC",
          "PS4",
          "WiiU",
          "PS4",
          "3DS",
          "PS4",
          "PS4",
          "PC",
          "WiiU",
          "PSV",
          "PS4",
          "3DS",
          "XOne",
          "PC",
          "PS4",
          "PS4",
          "PC",
          "XOne",
          "PS4",
          "XOne",
          "PS4",
          "XOne",
          "PS4",
          "PS4",
          "3DS",
          "3DS",
          "XOne",
          "XOne",
          "PC",
          "PSV",
          "PSV",
          "PS4",
          "WiiU",
          "PS4",
          "PS4",
          "PS3",
          "3DS",
          "XOne",
          "PS4",
          "PSV",
          "XOne",
          "PS4",
          "PS4",
          "PC",
          "3DS",
          "XOne",
          "PS4",
          "PC",
          "WiiU",
          "PS3",
          "PC",
          "XOne",
          "XOne",
          "3DS",
          "PS4",
          "PS4",
          "XOne",
          "XOne",
          "PS4",
          "3DS",
          "PS4",
          "PC",
          "PS3",
          "PC",
          "PS4",
          "XOne",
          "3DS",
          "XOne",
          "PS4",
          "XOne",
          "PS4",
          "PC",
          "XOne",
          "3DS",
          "XOne",
          "WiiU",
          "PS4",
          "PC",
          "PC",
          "PS4",
          "PSV",
          "X360",
          "PSV",
          "PS4",
          "PC",
          "XOne",
          "XOne",
          "3DS",
          "X360",
          "3DS",
          "3DS",
          "PC",
          "PSV",
          "PSV",
          "PS4",
          "XOne",
          "PSV",
          "3DS",
          "PS4",
          "PS4",
          "PSV",
          "PS4",
          "PC",
          "XOne",
          "PS4",
          "PC",
          "PS3",
          "PS4",
          "3DS",
          "PC",
          "WiiU",
          "PS4",
          "PC",
          "PC",
          "PSV",
          "PS4",
          "XOne",
          "PS4",
          "XOne",
          "PS3",
          "PS4",
          "PSV",
          "PS4",
          "PSV",
          "PS3",
          "PS4",
          "PS4",
          "PC",
          "XOne",
          "PS4",
          "PSV",
          "XOne",
          "PS4",
          "PSV",
          "X360",
          "PSV",
          "3DS",
          "PC",
          "PS3",
          "XOne",
          "3DS",
          "XOne",
          "PC",
          "XOne",
          "PS3",
          "PC",
          "XOne",
          "XOne",
          "PSV",
          "XOne",
          "PS4",
          "PSV",
          "PS4",
          "PS3",
          "WiiU",
          "XOne",
          "PS4",
          "PC",
          "PC",
          "PS4",
          "PS4",
          "XOne",
          "PC",
          "3DS",
          "PSV",
          "XOne",
          "PS4",
          "PSV",
          "XOne",
          "PS4",
          "PC",
          "PS4",
          "PS3",
          "PC",
          "XOne",
          "PS4",
          "PSV",
          "PC",
          "PC",
          "PS4",
          "WiiU",
          "PSV",
          "PSV",
          "PSV",
          "PC",
          "XOne",
          "PS4",
          "PS4",
          "PS4",
          "PC",
          "PSV",
          "PC",
          "XOne",
          "WiiU",
          "PS4",
          "PC",
          "PC",
          "PS3",
          "PS4",
          "3DS",
          "PSV",
          "WiiU",
          "PS4",
          "PSV",
          "PSV",
          "XOne",
          "PS4",
          "XOne",
          "XOne",
          "PS4",
          "PS3",
          "XOne",
          "PSV",
          "PSV",
          "X360",
          "PS3",
          "PC",
          "XOne",
          "PC",
          "PSV",
          "XOne",
          "PS4",
          "PS4",
          "PS4",
          "PS4",
          "PC",
          "WiiU",
          "PSV",
          "PS4",
          "XOne",
          "PSV",
          "PS3",
          "PS4",
          "PSV",
          "PC",
          "PS3",
          "PS3",
          "X360",
          "3DS",
          "PS4",
          "PS4",
          "PC",
          "X360",
          "3DS",
          "PC",
          "XOne",
          "PS4",
          "PS4",
          "WiiU",
          "PS4",
          "PS4",
          "PS4",
          "PC",
          "PS4",
          "3DS",
          "PS3",
          "PC",
          "X360",
          "PSV",
          "PS4",
          "PC",
          "PS4",
          "XOne",
          "PC",
          "PS4",
          "3DS",
          "3DS",
          "PS4",
          "PS3",
          "PS3",
          "PS4",
          "PS4",
          "PC",
          "PS4",
          "X360",
          "PSV",
          "PSV",
          "PSV",
          "XOne",
          "PS4",
          "PS4",
          "PSV",
          "X360",
          "PS4",
          "PSV",
          "PS4",
          "X360",
          "PSV",
          "WiiU",
          "3DS",
          "PC",
          "PS4",
          "XOne",
          "XOne",
          "PC",
          "PSV",
          "PS4",
          "PC",
          "X360",
          "PSV",
          "PS4",
          "PS4",
          "XOne",
          "WiiU",
          "3DS",
          "X360",
          "XOne",
          "PSV",
          "PC",
          "PS4",
          "X360",
          "PS4",
          "PS3",
          "PC",
          "XOne",
          "PC",
          "PS3",
          "PC",
          "PS4",
          "PS4",
          "XOne",
          "PC",
          "PS4",
          "PC",
          "XOne",
          "X360",
          "XOne",
          "PS4",
          "3DS",
          "PS4",
          "PC",
          "PS4",
          "PC",
          "PS4",
          "PS4",
          "XOne",
          "XOne",
          "X360",
          "PS4",
          "PSV",
          "XOne",
          "PS4",
          "PC",
          "PS4",
          "PC",
          "XOne",
          "X360",
          "3DS",
          "PS4",
          "XOne",
          "PS4",
          "3DS",
          "3DS",
          "PS4",
          "PC",
          "PS4",
          "XOne",
          "PS4",
          "PC",
          "PC",
          "PS4",
          "PS4",
          "PSV",
          "PC",
          "PC",
          "XOne",
          "PSV",
          "PC",
          "PS4",
          "PS4",
          "PS4",
          "PS4",
          "PC",
          "PC",
          "PC",
          "PC",
          "PS4",
          "PC",
          "XOne",
          "PS4",
          "XOne",
          "PC",
          "WiiU",
          "PSV",
          "PS4",
          "PC",
          "PC",
          "PS3",
          "PS4",
          "XOne",
          "PS4",
          "PS4",
          "PS4",
          "PS4",
          "PC",
          "PC",
          "PS4",
          "PS4",
          "PS4",
          "PSV",
          "3DS",
          "PS4",
          "PC",
          "PS4",
          "PC",
          "PC",
          "PS3",
          "PS3",
          "XOne",
          "PC",
          "PS4",
          "PC",
          "PC",
          "PSV",
          "3DS",
          "XOne",
          "XOne",
          "PC",
          "PC",
          "PS4",
          "PS4",
          "PC",
          "XOne",
          "PC",
          "XOne",
          "PC",
          "PS4",
          "PC",
          "PS4",
          "3DS",
          "PS3",
          "PC",
          "XOne",
          "PC",
          "PSV",
          "XOne",
          "PC",
          "XOne",
          "XOne",
          "PC",
          "XOne",
          "WiiU",
          "WiiU",
          "PC",
          "PC",
          "PC",
          "PS4",
          "PS4",
          "PS4",
          "PC",
          "WiiU",
          "PS4",
          "PS4",
          "XOne",
          "XOne",
          "WiiU",
          "XOne",
          "PC"
         ],
         "x0": " ",
         "xaxis": "x",
         "y": [
          12.620000000000001,
          8.58,
          7.66,
          7.6000000000000005,
          7.17,
          7.09,
          6.08,
          5.640000000000001,
          5.47,
          5.39,
          5.26,
          4.62,
          4.49,
          4.470000000000001,
          4.4399999999999995,
          4.22,
          4.07,
          4.05,
          4.04,
          3.9699999999999998,
          3.96,
          3.96,
          3.89,
          3.87,
          3.8,
          3.5,
          3.4200000000000004,
          3.3899999999999997,
          3.37,
          3.28,
          3.25,
          3.2399999999999998,
          3.23,
          3.21,
          3.05,
          3.0500000000000003,
          2.96,
          2.95,
          2.7899999999999996,
          2.78,
          2.65,
          2.48,
          2.4499999999999997,
          2.4200000000000004,
          2.42,
          2.34,
          2.34,
          2.2600000000000002,
          2.25,
          2.21,
          2.19,
          2.18,
          2.1700000000000004,
          2.14,
          2.11,
          2.09,
          2.07,
          2.01,
          1.9200000000000002,
          1.9100000000000001,
          1.8800000000000001,
          1.85,
          1.83,
          1.81,
          1.7999999999999998,
          1.7900000000000003,
          1.74,
          1.7200000000000002,
          1.7200000000000002,
          1.73,
          1.6900000000000002,
          1.6600000000000001,
          1.6600000000000001,
          1.6400000000000001,
          1.58,
          1.5700000000000003,
          1.56,
          1.54,
          1.5299999999999998,
          1.4900000000000002,
          1.4000000000000001,
          1.3800000000000001,
          1.38,
          1.3800000000000001,
          1.3599999999999999,
          1.3599999999999999,
          1.3399999999999999,
          1.3399999999999999,
          1.3,
          1.3,
          1.2900000000000003,
          1.29,
          1.2800000000000002,
          1.28,
          1.2800000000000002,
          1.27,
          1.2799999999999998,
          1.2699999999999998,
          1.25,
          1.23,
          1.23,
          1.21,
          1.21,
          1.1900000000000002,
          1.2000000000000002,
          1.1700000000000002,
          1.15,
          1.1300000000000001,
          1.14,
          1.13,
          1.1199999999999999,
          1.11,
          1.1,
          1.0799999999999998,
          1.08,
          1.07,
          1.06,
          1.05,
          1.03,
          1.03,
          1.01,
          1.02,
          1.01,
          0.9700000000000001,
          0.93,
          0.93,
          0.93,
          0.92,
          0.93,
          0.93,
          0.93,
          0.9299999999999999,
          0.9,
          0.91,
          0.9,
          0.9000000000000001,
          0.88,
          0.88,
          0.86,
          0.8400000000000001,
          0.78,
          0.79,
          0.7799999999999999,
          0.76,
          0.7600000000000001,
          0.75,
          0.75,
          0.74,
          0.73,
          0.73,
          0.73,
          0.73,
          0.7200000000000001,
          0.72,
          0.73,
          0.7200000000000001,
          0.7,
          0.7,
          0.71,
          0.6799999999999999,
          0.6900000000000001,
          0.6800000000000002,
          0.6599999999999999,
          0.67,
          0.67,
          0.6599999999999999,
          0.65,
          0.65,
          0.64,
          0.6400000000000001,
          0.6400000000000001,
          0.64,
          0.6400000000000001,
          0.6300000000000001,
          0.63,
          0.63,
          0.6200000000000001,
          0.61,
          0.61,
          0.62,
          0.6000000000000001,
          0.6,
          0.6,
          0.6,
          0.5900000000000001,
          0.5800000000000001,
          0.5700000000000001,
          0.5700000000000001,
          0.5700000000000001,
          0.56,
          0.56,
          0.55,
          0.54,
          0.55,
          0.53,
          0.53,
          0.53,
          0.53,
          0.53,
          0.52,
          0.52,
          0.51,
          0.52,
          0.51,
          0.49999999999999994,
          0.49000000000000005,
          0.49,
          0.48,
          0.48,
          0.4799999999999999,
          0.4800000000000001,
          0.48,
          0.47,
          0.47,
          0.45999999999999996,
          0.47000000000000003,
          0.47,
          0.45,
          0.45,
          0.44999999999999996,
          0.44000000000000006,
          0.44000000000000006,
          0.44,
          0.43,
          0.44,
          0.44,
          0.43,
          0.43,
          0.43000000000000005,
          0.43,
          0.42000000000000004,
          0.42000000000000004,
          0.42000000000000004,
          0.42,
          0.42,
          0.41,
          0.41,
          0.41,
          0.41000000000000003,
          0.41000000000000003,
          0.4,
          0.38999999999999996,
          0.38999999999999996,
          0.39999999999999997,
          0.39,
          0.38,
          0.38,
          0.38,
          0.38,
          0.37000000000000005,
          0.38,
          0.36000000000000004,
          0.36,
          0.36,
          0.37,
          0.36,
          0.36000000000000004,
          0.36,
          0.36,
          0.35,
          0.35000000000000003,
          0.36,
          0.35000000000000003,
          0.33999999999999997,
          0.34,
          0.33999999999999997,
          0.34,
          0.33999999999999997,
          0.34,
          0.33,
          0.33,
          0.32000000000000006,
          0.31999999999999995,
          0.31999999999999995,
          0.32000000000000006,
          0.33,
          0.32,
          0.32,
          0.31000000000000005,
          0.32,
          0.3,
          0.3,
          0.31000000000000005,
          0.31000000000000005,
          0.31,
          0.3,
          0.29000000000000004,
          0.3,
          0.3,
          0.28,
          0.29000000000000004,
          0.28,
          0.29,
          0.29000000000000004,
          0.27,
          0.29,
          0.28,
          0.27,
          0.27,
          0.26,
          0.27,
          0.26,
          0.26,
          0.26,
          0.26,
          0.25,
          0.26,
          0.26,
          0.25,
          0.24,
          0.25,
          0.24999999999999997,
          0.24000000000000002,
          0.24,
          0.25,
          0.24000000000000002,
          0.24000000000000002,
          0.24,
          0.24000000000000002,
          0.24,
          0.24000000000000002,
          0.24,
          0.24000000000000002,
          0.22999999999999998,
          0.23,
          0.23,
          0.22000000000000003,
          0.23,
          0.22,
          0.23,
          0.22,
          0.22,
          0.22,
          0.21000000000000002,
          0.22,
          0.22,
          0.21,
          0.22,
          0.21,
          0.21,
          0.21000000000000002,
          0.21,
          0.21000000000000002,
          0.21,
          0.19999999999999998,
          0.2,
          0.2,
          0.19999999999999998,
          0.2,
          0.19999999999999998,
          0.2,
          0.19999999999999998,
          0.19999999999999998,
          0.19999999999999998,
          0.18000000000000002,
          0.19999999999999998,
          0.18999999999999997,
          0.19,
          0.18000000000000002,
          0.19999999999999998,
          0.18000000000000002,
          0.19,
          0.18,
          0.19999999999999998,
          0.18,
          0.18,
          0.18,
          0.18,
          0.18,
          0.16999999999999998,
          0.18000000000000002,
          0.18,
          0.17,
          0.17,
          0.18,
          0.16,
          0.17,
          0.16,
          0.16999999999999998,
          0.17,
          0.16999999999999998,
          0.17,
          0.16,
          0.16,
          0.15000000000000002,
          0.16,
          0.16000000000000003,
          0.16000000000000003,
          0.16,
          0.15000000000000002,
          0.16,
          0.16000000000000003,
          0.15000000000000002,
          0.15000000000000002,
          0.15,
          0.15000000000000002,
          0.15,
          0.15000000000000002,
          0.13999999999999999,
          0.16,
          0.15000000000000002,
          0.14,
          0.14,
          0.15000000000000002,
          0.15000000000000002,
          0.13999999999999999,
          0.13999999999999999,
          0.14,
          0.14,
          0.15,
          0.14,
          0.14,
          0.13999999999999999,
          0.14,
          0.14,
          0.13,
          0.14,
          0.13,
          0.13,
          0.13,
          0.13,
          0.12000000000000001,
          0.13,
          0.13,
          0.13,
          0.13,
          0.13,
          0.12000000000000001,
          0.13,
          0.13,
          0.13,
          0.13,
          0.12,
          0.12,
          0.11,
          0.12,
          0.11,
          0.12000000000000001,
          0.12,
          0.12,
          0.12,
          0.12,
          0.12,
          0.12,
          0.12000000000000001,
          0.11,
          0.11,
          0.11,
          0.12000000000000001,
          0.11,
          0.11,
          0.11,
          0.11,
          0.10999999999999999,
          0.11,
          0.09999999999999999,
          0.11,
          0.11,
          0.11,
          0.11,
          0.09999999999999999,
          0.11,
          0.09999999999999999,
          0.09999999999999999,
          0.11,
          0.11,
          0.1,
          0.09,
          0.1,
          0.09,
          0.1,
          0.09999999999999999,
          0.09999999999999999,
          0.09,
          0.09999999999999999,
          0.09999999999999999,
          0.09000000000000001,
          0.1,
          0.09000000000000001,
          0.09,
          0.09999999999999999,
          0.1,
          0.1,
          0.09,
          0.09,
          0.09,
          0.09,
          0.08,
          0.09,
          0.09,
          0.08,
          0.09,
          0.08,
          0.08,
          0.09,
          0.08,
          0.08,
          0.06999999999999999,
          0.09,
          0.09000000000000001,
          0.07,
          0.08,
          0.08,
          0.07999999999999999,
          0.08,
          0.06999999999999999,
          0.08,
          0.06999999999999999,
          0.08,
          0.07,
          0.07,
          0.08,
          0.08,
          0.08,
          0.07,
          0.08,
          0.06999999999999999,
          0.07,
          0.07,
          0.06999999999999999,
          0.08,
          0.06999999999999999,
          0.06999999999999999,
          0.06999999999999999,
          0.06999999999999999,
          0.07,
          0.06999999999999999,
          0.07,
          0.060000000000000005,
          0.07,
          0.06999999999999999,
          0.06999999999999999,
          0.06,
          0.06,
          0.06,
          0.06,
          0.060000000000000005,
          0.060000000000000005,
          0.060000000000000005,
          0.06,
          0.06,
          0.060000000000000005,
          0.060000000000000005,
          0.06,
          0.060000000000000005,
          0.06999999999999999,
          0.060000000000000005,
          0.06999999999999999,
          0.060000000000000005,
          0.06999999999999999,
          0.06,
          0.05,
          0.060000000000000005,
          0.060000000000000005,
          0.05,
          0.060000000000000005,
          0.05,
          0.060000000000000005,
          0.060000000000000005,
          0.05,
          0.05,
          0.05,
          0.060000000000000005,
          0.05,
          0.05,
          0.05,
          0.05,
          0.05,
          0.05,
          0.05,
          0.05,
          0.05,
          0.060000000000000005,
          0.05,
          0.04,
          0.04,
          0.05,
          0.05,
          0.04,
          0.05,
          0.05,
          0.04,
          0.04,
          0.04,
          0.05,
          0.05,
          0.04,
          0.05,
          0.05,
          0.05,
          0.04,
          0.04,
          0.04,
          0.04,
          0.04,
          0.04,
          0.03,
          0.03,
          0.03,
          0.05,
          0.04,
          0.04,
          0.04,
          0.04,
          0.04,
          0.04,
          0.04,
          0.04,
          0.04,
          0.03,
          0.03,
          0.03,
          0.03,
          0.03,
          0.03,
          0.03,
          0.04,
          0.03,
          0.03,
          0.03,
          0.03,
          0.03,
          0.03,
          0.03,
          0.03,
          0.03,
          0.03,
          0.03,
          0.03,
          0.03,
          0.02,
          0.03,
          0.03,
          0.03,
          0.02,
          0.02,
          0.02,
          0.02,
          0.02,
          0.02,
          0.02,
          0.02,
          0.02,
          0.02,
          0.02,
          0.02,
          0.02,
          0.02,
          0.02,
          0.02,
          0.02,
          0.02,
          0.02,
          0.02,
          0.02,
          0.02,
          0.02,
          0.02,
          0.02,
          0.02,
          0.02,
          0.02,
          0.02,
          0.02,
          0.02,
          0.01,
          0.01,
          0.02,
          0.02,
          0.01,
          0.01,
          0.01,
          0.02,
          0.01,
          0.01,
          0.01,
          0.01,
          0.01,
          0.01,
          0.01,
          0.01,
          0.01,
          0.01,
          0.01,
          0.01,
          0.01,
          0.01,
          0.01,
          0.01,
          0.01,
          0.01,
          0.01,
          0.01,
          0.01,
          0.01,
          0.01,
          0.01,
          0.01,
          0.01,
          0.01,
          0.01,
          0.01,
          0.01,
          0.01
         ],
         "y0": " ",
         "yaxis": "y"
        }
       ],
       "layout": {
        "boxmode": "group",
        "legend": {
         "tracegroupgap": 0
        },
        "template": {
         "data": {
          "bar": [
           {
            "error_x": {
             "color": "#2a3f5f"
            },
            "error_y": {
             "color": "#2a3f5f"
            },
            "marker": {
             "line": {
              "color": "#E5ECF6",
              "width": 0.5
             },
             "pattern": {
              "fillmode": "overlay",
              "size": 10,
              "solidity": 0.2
             }
            },
            "type": "bar"
           }
          ],
          "barpolar": [
           {
            "marker": {
             "line": {
              "color": "#E5ECF6",
              "width": 0.5
             },
             "pattern": {
              "fillmode": "overlay",
              "size": 10,
              "solidity": 0.2
             }
            },
            "type": "barpolar"
           }
          ],
          "carpet": [
           {
            "aaxis": {
             "endlinecolor": "#2a3f5f",
             "gridcolor": "white",
             "linecolor": "white",
             "minorgridcolor": "white",
             "startlinecolor": "#2a3f5f"
            },
            "baxis": {
             "endlinecolor": "#2a3f5f",
             "gridcolor": "white",
             "linecolor": "white",
             "minorgridcolor": "white",
             "startlinecolor": "#2a3f5f"
            },
            "type": "carpet"
           }
          ],
          "choropleth": [
           {
            "colorbar": {
             "outlinewidth": 0,
             "ticks": ""
            },
            "type": "choropleth"
           }
          ],
          "contour": [
           {
            "colorbar": {
             "outlinewidth": 0,
             "ticks": ""
            },
            "colorscale": [
             [
              0,
              "#0d0887"
             ],
             [
              0.1111111111111111,
              "#46039f"
             ],
             [
              0.2222222222222222,
              "#7201a8"
             ],
             [
              0.3333333333333333,
              "#9c179e"
             ],
             [
              0.4444444444444444,
              "#bd3786"
             ],
             [
              0.5555555555555556,
              "#d8576b"
             ],
             [
              0.6666666666666666,
              "#ed7953"
             ],
             [
              0.7777777777777778,
              "#fb9f3a"
             ],
             [
              0.8888888888888888,
              "#fdca26"
             ],
             [
              1,
              "#f0f921"
             ]
            ],
            "type": "contour"
           }
          ],
          "contourcarpet": [
           {
            "colorbar": {
             "outlinewidth": 0,
             "ticks": ""
            },
            "type": "contourcarpet"
           }
          ],
          "heatmap": [
           {
            "colorbar": {
             "outlinewidth": 0,
             "ticks": ""
            },
            "colorscale": [
             [
              0,
              "#0d0887"
             ],
             [
              0.1111111111111111,
              "#46039f"
             ],
             [
              0.2222222222222222,
              "#7201a8"
             ],
             [
              0.3333333333333333,
              "#9c179e"
             ],
             [
              0.4444444444444444,
              "#bd3786"
             ],
             [
              0.5555555555555556,
              "#d8576b"
             ],
             [
              0.6666666666666666,
              "#ed7953"
             ],
             [
              0.7777777777777778,
              "#fb9f3a"
             ],
             [
              0.8888888888888888,
              "#fdca26"
             ],
             [
              1,
              "#f0f921"
             ]
            ],
            "type": "heatmap"
           }
          ],
          "heatmapgl": [
           {
            "colorbar": {
             "outlinewidth": 0,
             "ticks": ""
            },
            "colorscale": [
             [
              0,
              "#0d0887"
             ],
             [
              0.1111111111111111,
              "#46039f"
             ],
             [
              0.2222222222222222,
              "#7201a8"
             ],
             [
              0.3333333333333333,
              "#9c179e"
             ],
             [
              0.4444444444444444,
              "#bd3786"
             ],
             [
              0.5555555555555556,
              "#d8576b"
             ],
             [
              0.6666666666666666,
              "#ed7953"
             ],
             [
              0.7777777777777778,
              "#fb9f3a"
             ],
             [
              0.8888888888888888,
              "#fdca26"
             ],
             [
              1,
              "#f0f921"
             ]
            ],
            "type": "heatmapgl"
           }
          ],
          "histogram": [
           {
            "marker": {
             "pattern": {
              "fillmode": "overlay",
              "size": 10,
              "solidity": 0.2
             }
            },
            "type": "histogram"
           }
          ],
          "histogram2d": [
           {
            "colorbar": {
             "outlinewidth": 0,
             "ticks": ""
            },
            "colorscale": [
             [
              0,
              "#0d0887"
             ],
             [
              0.1111111111111111,
              "#46039f"
             ],
             [
              0.2222222222222222,
              "#7201a8"
             ],
             [
              0.3333333333333333,
              "#9c179e"
             ],
             [
              0.4444444444444444,
              "#bd3786"
             ],
             [
              0.5555555555555556,
              "#d8576b"
             ],
             [
              0.6666666666666666,
              "#ed7953"
             ],
             [
              0.7777777777777778,
              "#fb9f3a"
             ],
             [
              0.8888888888888888,
              "#fdca26"
             ],
             [
              1,
              "#f0f921"
             ]
            ],
            "type": "histogram2d"
           }
          ],
          "histogram2dcontour": [
           {
            "colorbar": {
             "outlinewidth": 0,
             "ticks": ""
            },
            "colorscale": [
             [
              0,
              "#0d0887"
             ],
             [
              0.1111111111111111,
              "#46039f"
             ],
             [
              0.2222222222222222,
              "#7201a8"
             ],
             [
              0.3333333333333333,
              "#9c179e"
             ],
             [
              0.4444444444444444,
              "#bd3786"
             ],
             [
              0.5555555555555556,
              "#d8576b"
             ],
             [
              0.6666666666666666,
              "#ed7953"
             ],
             [
              0.7777777777777778,
              "#fb9f3a"
             ],
             [
              0.8888888888888888,
              "#fdca26"
             ],
             [
              1,
              "#f0f921"
             ]
            ],
            "type": "histogram2dcontour"
           }
          ],
          "mesh3d": [
           {
            "colorbar": {
             "outlinewidth": 0,
             "ticks": ""
            },
            "type": "mesh3d"
           }
          ],
          "parcoords": [
           {
            "line": {
             "colorbar": {
              "outlinewidth": 0,
              "ticks": ""
             }
            },
            "type": "parcoords"
           }
          ],
          "pie": [
           {
            "automargin": true,
            "type": "pie"
           }
          ],
          "scatter": [
           {
            "fillpattern": {
             "fillmode": "overlay",
             "size": 10,
             "solidity": 0.2
            },
            "type": "scatter"
           }
          ],
          "scatter3d": [
           {
            "line": {
             "colorbar": {
              "outlinewidth": 0,
              "ticks": ""
             }
            },
            "marker": {
             "colorbar": {
              "outlinewidth": 0,
              "ticks": ""
             }
            },
            "type": "scatter3d"
           }
          ],
          "scattercarpet": [
           {
            "marker": {
             "colorbar": {
              "outlinewidth": 0,
              "ticks": ""
             }
            },
            "type": "scattercarpet"
           }
          ],
          "scattergeo": [
           {
            "marker": {
             "colorbar": {
              "outlinewidth": 0,
              "ticks": ""
             }
            },
            "type": "scattergeo"
           }
          ],
          "scattergl": [
           {
            "marker": {
             "colorbar": {
              "outlinewidth": 0,
              "ticks": ""
             }
            },
            "type": "scattergl"
           }
          ],
          "scattermapbox": [
           {
            "marker": {
             "colorbar": {
              "outlinewidth": 0,
              "ticks": ""
             }
            },
            "type": "scattermapbox"
           }
          ],
          "scatterpolar": [
           {
            "marker": {
             "colorbar": {
              "outlinewidth": 0,
              "ticks": ""
             }
            },
            "type": "scatterpolar"
           }
          ],
          "scatterpolargl": [
           {
            "marker": {
             "colorbar": {
              "outlinewidth": 0,
              "ticks": ""
             }
            },
            "type": "scatterpolargl"
           }
          ],
          "scatterternary": [
           {
            "marker": {
             "colorbar": {
              "outlinewidth": 0,
              "ticks": ""
             }
            },
            "type": "scatterternary"
           }
          ],
          "surface": [
           {
            "colorbar": {
             "outlinewidth": 0,
             "ticks": ""
            },
            "colorscale": [
             [
              0,
              "#0d0887"
             ],
             [
              0.1111111111111111,
              "#46039f"
             ],
             [
              0.2222222222222222,
              "#7201a8"
             ],
             [
              0.3333333333333333,
              "#9c179e"
             ],
             [
              0.4444444444444444,
              "#bd3786"
             ],
             [
              0.5555555555555556,
              "#d8576b"
             ],
             [
              0.6666666666666666,
              "#ed7953"
             ],
             [
              0.7777777777777778,
              "#fb9f3a"
             ],
             [
              0.8888888888888888,
              "#fdca26"
             ],
             [
              1,
              "#f0f921"
             ]
            ],
            "type": "surface"
           }
          ],
          "table": [
           {
            "cells": {
             "fill": {
              "color": "#EBF0F8"
             },
             "line": {
              "color": "white"
             }
            },
            "header": {
             "fill": {
              "color": "#C8D4E3"
             },
             "line": {
              "color": "white"
             }
            },
            "type": "table"
           }
          ]
         },
         "layout": {
          "annotationdefaults": {
           "arrowcolor": "#2a3f5f",
           "arrowhead": 0,
           "arrowwidth": 1
          },
          "autotypenumbers": "strict",
          "coloraxis": {
           "colorbar": {
            "outlinewidth": 0,
            "ticks": ""
           }
          },
          "colorscale": {
           "diverging": [
            [
             0,
             "#8e0152"
            ],
            [
             0.1,
             "#c51b7d"
            ],
            [
             0.2,
             "#de77ae"
            ],
            [
             0.3,
             "#f1b6da"
            ],
            [
             0.4,
             "#fde0ef"
            ],
            [
             0.5,
             "#f7f7f7"
            ],
            [
             0.6,
             "#e6f5d0"
            ],
            [
             0.7,
             "#b8e186"
            ],
            [
             0.8,
             "#7fbc41"
            ],
            [
             0.9,
             "#4d9221"
            ],
            [
             1,
             "#276419"
            ]
           ],
           "sequential": [
            [
             0,
             "#0d0887"
            ],
            [
             0.1111111111111111,
             "#46039f"
            ],
            [
             0.2222222222222222,
             "#7201a8"
            ],
            [
             0.3333333333333333,
             "#9c179e"
            ],
            [
             0.4444444444444444,
             "#bd3786"
            ],
            [
             0.5555555555555556,
             "#d8576b"
            ],
            [
             0.6666666666666666,
             "#ed7953"
            ],
            [
             0.7777777777777778,
             "#fb9f3a"
            ],
            [
             0.8888888888888888,
             "#fdca26"
            ],
            [
             1,
             "#f0f921"
            ]
           ],
           "sequentialminus": [
            [
             0,
             "#0d0887"
            ],
            [
             0.1111111111111111,
             "#46039f"
            ],
            [
             0.2222222222222222,
             "#7201a8"
            ],
            [
             0.3333333333333333,
             "#9c179e"
            ],
            [
             0.4444444444444444,
             "#bd3786"
            ],
            [
             0.5555555555555556,
             "#d8576b"
            ],
            [
             0.6666666666666666,
             "#ed7953"
            ],
            [
             0.7777777777777778,
             "#fb9f3a"
            ],
            [
             0.8888888888888888,
             "#fdca26"
            ],
            [
             1,
             "#f0f921"
            ]
           ]
          },
          "colorway": [
           "#636efa",
           "#EF553B",
           "#00cc96",
           "#ab63fa",
           "#FFA15A",
           "#19d3f3",
           "#FF6692",
           "#B6E880",
           "#FF97FF",
           "#FECB52"
          ],
          "font": {
           "color": "#2a3f5f"
          },
          "geo": {
           "bgcolor": "white",
           "lakecolor": "white",
           "landcolor": "#E5ECF6",
           "showlakes": true,
           "showland": true,
           "subunitcolor": "white"
          },
          "hoverlabel": {
           "align": "left"
          },
          "hovermode": "closest",
          "mapbox": {
           "style": "light"
          },
          "paper_bgcolor": "white",
          "plot_bgcolor": "#E5ECF6",
          "polar": {
           "angularaxis": {
            "gridcolor": "white",
            "linecolor": "white",
            "ticks": ""
           },
           "bgcolor": "#E5ECF6",
           "radialaxis": {
            "gridcolor": "white",
            "linecolor": "white",
            "ticks": ""
           }
          },
          "scene": {
           "xaxis": {
            "backgroundcolor": "#E5ECF6",
            "gridcolor": "white",
            "gridwidth": 2,
            "linecolor": "white",
            "showbackground": true,
            "ticks": "",
            "zerolinecolor": "white"
           },
           "yaxis": {
            "backgroundcolor": "#E5ECF6",
            "gridcolor": "white",
            "gridwidth": 2,
            "linecolor": "white",
            "showbackground": true,
            "ticks": "",
            "zerolinecolor": "white"
           },
           "zaxis": {
            "backgroundcolor": "#E5ECF6",
            "gridcolor": "white",
            "gridwidth": 2,
            "linecolor": "white",
            "showbackground": true,
            "ticks": "",
            "zerolinecolor": "white"
           }
          },
          "shapedefaults": {
           "line": {
            "color": "#2a3f5f"
           }
          },
          "ternary": {
           "aaxis": {
            "gridcolor": "white",
            "linecolor": "white",
            "ticks": ""
           },
           "baxis": {
            "gridcolor": "white",
            "linecolor": "white",
            "ticks": ""
           },
           "bgcolor": "#E5ECF6",
           "caxis": {
            "gridcolor": "white",
            "linecolor": "white",
            "ticks": ""
           }
          },
          "title": {
           "x": 0.05
          },
          "xaxis": {
           "automargin": true,
           "gridcolor": "white",
           "linecolor": "white",
           "ticks": "",
           "title": {
            "standoff": 15
           },
           "zerolinecolor": "white",
           "zerolinewidth": 2
          },
          "yaxis": {
           "automargin": true,
           "gridcolor": "white",
           "linecolor": "white",
           "ticks": "",
           "title": {
            "standoff": 15
           },
           "zerolinecolor": "white",
           "zerolinewidth": 2
          }
         }
        },
        "title": {
         "text": "Min/Max Boxplot for Total Sales per Platform"
        },
        "xaxis": {
         "anchor": "y",
         "domain": [
          0,
          1
         ],
         "title": {
          "text": "Platform"
         }
        },
        "yaxis": {
         "anchor": "x",
         "domain": [
          0,
          1
         ],
         "title": {
          "text": "Total Sales"
         }
        }
       }
      }
     },
     "metadata": {},
     "output_type": "display_data"
    }
   ],
   "source": [
    "current_year_box_max = px.box(current_year_df, x='platform', y='total_sales', points=False, labels={\"total_sales\" : \"Total Sales\", \"platform\" : \"Platform\"}, title=\"Min/Max Boxplot for Total Sales per Platform\")\n",
    "\n",
    "current_year_box_max.show()"
   ]
  },
  {
   "cell_type": "markdown",
   "metadata": {},
   "source": [
    "# X360 Reviews/ Ratings ScatterPlot\n",
    "\n",
    "Question/Task Being Addressed:\n",
    "Take a look at how user and professional reviews affect sales for one popular platform (you choose). Build a scatter plot and calculate the correlation between reviews and sales. Draw conclusions.\n",
    "\n",
    "Answer: \n",
    "I chose to use the X360 platform.  It appears the critic scores between 70 and 90 have the greatest concentration of total sales and critic scores between 20-30 have the lowest concentration of total sales.  It appears the user scores between 6 and 9 have the greatest concentration of total sales and user scores between 0.7  and 0.25 have the lowest concentration of total sales.\n",
    "The correlation between critic score and total sales is 0.360 which is a positive, moderate correlation. The correlation between user score and total sales is 0.058 which is a weak, but positive correlation. Both critic score and user score columns have a positive slope when compared to the amount of total sales column of the dataframe."
   ]
  },
  {
   "cell_type": "markdown",
   "metadata": {},
   "source": [
    "### Reviewer's Note \n",
    "Please correct the conclusions after correcting the actual period"
   ]
  },
  {
   "cell_type": "markdown",
   "metadata": {},
   "source": [
    "### Response to the Reviewer's Note\n",
    "I tried to create another dataframe from the X360 dataframe that I previously created using only the years 2014, 2015, and 2016, but there were very few values on the scatterplot, so I decided to leave it as is.  I also tried to use the groupby() and sum() functions to groupby critic_score and user score and sum up the total_sales column, but there were still very few values.  Can I please get your feedback about this issue?"
   ]
  },
  {
   "cell_type": "markdown",
   "metadata": {},
   "source": [
    "### Correction in Response to the Reviewer's Note"
   ]
  },
  {
   "cell_type": "markdown",
   "metadata": {},
   "source": [
    "Create a dataframe that consists of the "
   ]
  },
  {
   "cell_type": "code",
   "execution_count": 55,
   "metadata": {},
   "outputs": [],
   "source": [
    "ps_4 = df[df['platform'] == 'ps_4']"
   ]
  },
  {
   "cell_type": "code",
   "execution_count": 59,
   "metadata": {},
   "outputs": [],
   "source": [
    "ps_4_list = [2014, 2015, 2016]\n",
    "ps_4_d = df['year_of_release'].isin(ps_4_list)\n",
    "ps_4_df = df[ps_4_d]"
   ]
  },
  {
   "cell_type": "markdown",
   "metadata": {},
   "source": [
    "Code Meaning:  \n",
    "1) Use px.scatter() in order to make a scatterplot from the previously created X360 dataframe.\n",
    "2) Use the critic_score column from the X_360 dataframe as the x axis and use the total_sales column as the y axis.\n",
    "3) Set the title as: 'How Critic Score Affects Sales for X360'.\n",
    "4) Assign the code to X_360_scatter in order to save the result.\n",
    "5) Use the update_layout() method on x_360_scatter_1 in order to increase the width to 800 and the height to 600.\n",
    "6) Use the update_yaxes() method on x_360_scatter_1 in order to limit the y axis to -1 for the minimun and 22.5 for the maximum.\n",
    "7) Use the show() method to display the scatterplot."
   ]
  },
  {
   "cell_type": "code",
   "execution_count": 62,
   "metadata": {},
   "outputs": [
    {
     "data": {
      "application/vnd.plotly.v1+json": {
       "config": {
        "plotlyServerURL": "https://plot.ly"
       },
       "data": [
        {
         "hovertemplate": "Critic Score=%{x}<br>Total Sales=%{y}<extra></extra>",
         "legendgroup": "",
         "marker": {
          "color": "#636efa",
          "symbol": "circle"
         },
         "mode": "markers",
         "name": "",
         "orientation": "v",
         "showlegend": false,
         "type": "scatter",
         "x": [
          97,
          82,
          83,
          85,
          87,
          88,
          82,
          76,
          97,
          93,
          81,
          86,
          84,
          77,
          81,
          88,
          88,
          80,
          85,
          92,
          70,
          87,
          86,
          87,
          80,
          72,
          93,
          76,
          75,
          82,
          84,
          83,
          85,
          88,
          66,
          70,
          84,
          86,
          80,
          83,
          84,
          92,
          83,
          78,
          84,
          89,
          86,
          76,
          87,
          73,
          81,
          82,
          80,
          90,
          73,
          74,
          71,
          89,
          86,
          79,
          88,
          73,
          80,
          68,
          87,
          75,
          82,
          63,
          61,
          82,
          71,
          79,
          89,
          82,
          66,
          78,
          80,
          79,
          83,
          85,
          86,
          64,
          86,
          86,
          83,
          87,
          84,
          74,
          91,
          78,
          78,
          74,
          84,
          72,
          77,
          69,
          91,
          75,
          69,
          83,
          76,
          73,
          71,
          81,
          89,
          96,
          62,
          81,
          79,
          83,
          79,
          73,
          69,
          83,
          91,
          69,
          91,
          70,
          86,
          90,
          72,
          90,
          76,
          76,
          79,
          85,
          81,
          73,
          80,
          80,
          85,
          82,
          77,
          71,
          70,
          71,
          77,
          82,
          80,
          84,
          87,
          84,
          55,
          91,
          89,
          95,
          82,
          91,
          85,
          71,
          75,
          80,
          83,
          83,
          74,
          93,
          73,
          86,
          78,
          76,
          67,
          79,
          79,
          71,
          65,
          70,
          73,
          64,
          64,
          68,
          50,
          88,
          64,
          74,
          80,
          78,
          67,
          73,
          75,
          77,
          60,
          72,
          69,
          60,
          72,
          66,
          87,
          56,
          73,
          86,
          77,
          81,
          75,
          70,
          69,
          62,
          70,
          69,
          91,
          88,
          71,
          61,
          68,
          73,
          78,
          81,
          76,
          81,
          87,
          80,
          78,
          80,
          79,
          87,
          70,
          74,
          80,
          70,
          85,
          81,
          77,
          58,
          78,
          80,
          73,
          74,
          81,
          76,
          74,
          79,
          76,
          75,
          46,
          76,
          69,
          80,
          59,
          79,
          62,
          78,
          72,
          85,
          87,
          72,
          72,
          78,
          88,
          84,
          68,
          84,
          83,
          85,
          85,
          81,
          69,
          70,
          73,
          57,
          83,
          84,
          48,
          66,
          81,
          71,
          69,
          63,
          81,
          91,
          77,
          78,
          61,
          80,
          66,
          67,
          88,
          81,
          76,
          59,
          32,
          76,
          81,
          54,
          68,
          81,
          75,
          67,
          76,
          60,
          72,
          75,
          47,
          76,
          80,
          82,
          71,
          71,
          68,
          60,
          69,
          69,
          73,
          81,
          68,
          81,
          68,
          67,
          59,
          72,
          78,
          88,
          63,
          64,
          79,
          80,
          57,
          76,
          76,
          80,
          77,
          77,
          87,
          69,
          59,
          88,
          79,
          77,
          82,
          64,
          82,
          66,
          72,
          88,
          71,
          58,
          62,
          69,
          68,
          74,
          77,
          72,
          83,
          53,
          74,
          77,
          32,
          72,
          73,
          62,
          81,
          73,
          87,
          75,
          63,
          53,
          60,
          63,
          84,
          63,
          85,
          77,
          80,
          47,
          74,
          69,
          58,
          76,
          59,
          60,
          73,
          71,
          75,
          67,
          59,
          91,
          73,
          74,
          81,
          83,
          58,
          57,
          65,
          76,
          77,
          74,
          66,
          72,
          72,
          51,
          71,
          84,
          67,
          82,
          77,
          75,
          78,
          71,
          79,
          60,
          73,
          90,
          74,
          63,
          80,
          81,
          74,
          80,
          88,
          79,
          85,
          90,
          93,
          49,
          45,
          87,
          75,
          63,
          71,
          81,
          84,
          73,
          85,
          80,
          75,
          86,
          70,
          86,
          62,
          67,
          67,
          68,
          83,
          86,
          76,
          75,
          65,
          86,
          83,
          86,
          39,
          45,
          73,
          75,
          84,
          70,
          19,
          72,
          71,
          67,
          75,
          72,
          76,
          77,
          79,
          60,
          62,
          69,
          67,
          85,
          68,
          66,
          60,
          56,
          81,
          54,
          77,
          65,
          75,
          71,
          73,
          73,
          53,
          61,
          88,
          66,
          71,
          78,
          62,
          59,
          44,
          86,
          81,
          49,
          43,
          70,
          58,
          67,
          69,
          76,
          75,
          71,
          65,
          20,
          74,
          85,
          47,
          66,
          70,
          90,
          69,
          77,
          65,
          36,
          85,
          85,
          72,
          60,
          74,
          69,
          74,
          91,
          75,
          63,
          81,
          64,
          71,
          40,
          62,
          71,
          89,
          78,
          32,
          83,
          63,
          72,
          58,
          72,
          63,
          70,
          53,
          83,
          60,
          72,
          44,
          70,
          66,
          70,
          74,
          73,
          60,
          76,
          82,
          83,
          67,
          68,
          48,
          76,
          64,
          60,
          66,
          43,
          68,
          58,
          60,
          71,
          74,
          42,
          71,
          25,
          64,
          86,
          35,
          83,
          43,
          59,
          52,
          43,
          67,
          61,
          76,
          76,
          48,
          51,
          77,
          81,
          64,
          78,
          63,
          64,
          82,
          66,
          82,
          87,
          87,
          50,
          71,
          78,
          63,
          71,
          83,
          66,
          76,
          55,
          35,
          82,
          80,
          81,
          70,
          46,
          45,
          64,
          78,
          72,
          84,
          78,
          72,
          58,
          69,
          69,
          72,
          70,
          54,
          75,
          71,
          64,
          73,
          53,
          77,
          61,
          83,
          73,
          86,
          80,
          80,
          74,
          64,
          78,
          74,
          73,
          48,
          73,
          88,
          68,
          46,
          58,
          82,
          68,
          59,
          57,
          67,
          62,
          78,
          86,
          58,
          62,
          52,
          64,
          81,
          31,
          78,
          55,
          57,
          69,
          65,
          63,
          52,
          43,
          79,
          66,
          73,
          70,
          26,
          55,
          65,
          74,
          89,
          48,
          49,
          87,
          77,
          66,
          63,
          72,
          72,
          90,
          66,
          77,
          73,
          65,
          80,
          56,
          58,
          75,
          65,
          56,
          66,
          71,
          53,
          67,
          70,
          72,
          71,
          79,
          42,
          70,
          69,
          78,
          82,
          61,
          51,
          65,
          63,
          81,
          74,
          80
         ],
         "xaxis": "x",
         "y": [
          12.620000000000001,
          8.58,
          7.66,
          7.6000000000000005,
          7.17,
          7.09,
          6.08,
          5.640000000000001,
          5.47,
          5.39,
          5.26,
          4.62,
          4.49,
          4.470000000000001,
          4.4399999999999995,
          4.22,
          4.07,
          4.05,
          4.04,
          3.9699999999999998,
          3.96,
          3.96,
          3.89,
          3.87,
          3.8,
          3.5,
          3.4200000000000004,
          3.3899999999999997,
          3.37,
          3.28,
          3.25,
          3.2399999999999998,
          3.23,
          3.21,
          3.05,
          3.0500000000000003,
          2.96,
          2.95,
          2.7899999999999996,
          2.78,
          2.65,
          2.48,
          2.4499999999999997,
          2.4200000000000004,
          2.42,
          2.34,
          2.34,
          2.2600000000000002,
          2.25,
          2.21,
          2.19,
          2.18,
          2.1700000000000004,
          2.14,
          2.11,
          2.09,
          2.07,
          2.01,
          1.9200000000000002,
          1.9100000000000001,
          1.8800000000000001,
          1.85,
          1.83,
          1.81,
          1.7999999999999998,
          1.7900000000000003,
          1.74,
          1.7200000000000002,
          1.7200000000000002,
          1.73,
          1.6900000000000002,
          1.6600000000000001,
          1.6600000000000001,
          1.6400000000000001,
          1.58,
          1.5700000000000003,
          1.56,
          1.54,
          1.5299999999999998,
          1.4900000000000002,
          1.4000000000000001,
          1.3800000000000001,
          1.38,
          1.3800000000000001,
          1.3599999999999999,
          1.3599999999999999,
          1.3399999999999999,
          1.3399999999999999,
          1.3,
          1.3,
          1.2900000000000003,
          1.29,
          1.2800000000000002,
          1.28,
          1.2800000000000002,
          1.27,
          1.2799999999999998,
          1.2699999999999998,
          1.25,
          1.23,
          1.23,
          1.21,
          1.21,
          1.1900000000000002,
          1.2000000000000002,
          1.1700000000000002,
          1.15,
          1.1300000000000001,
          1.14,
          1.13,
          1.1199999999999999,
          1.11,
          1.1,
          1.0799999999999998,
          1.08,
          1.07,
          1.06,
          1.05,
          1.03,
          1.03,
          1.01,
          1.02,
          1.01,
          0.9700000000000001,
          0.93,
          0.93,
          0.93,
          0.92,
          0.93,
          0.93,
          0.93,
          0.9299999999999999,
          0.9,
          0.91,
          0.9,
          0.9000000000000001,
          0.88,
          0.88,
          0.86,
          0.8400000000000001,
          0.78,
          0.79,
          0.7799999999999999,
          0.76,
          0.7600000000000001,
          0.75,
          0.75,
          0.74,
          0.73,
          0.73,
          0.73,
          0.73,
          0.7200000000000001,
          0.72,
          0.73,
          0.7200000000000001,
          0.7,
          0.7,
          0.71,
          0.6799999999999999,
          0.6900000000000001,
          0.6800000000000002,
          0.6599999999999999,
          0.67,
          0.67,
          0.6599999999999999,
          0.65,
          0.65,
          0.64,
          0.6400000000000001,
          0.6400000000000001,
          0.64,
          0.6400000000000001,
          0.6300000000000001,
          0.63,
          0.63,
          0.6200000000000001,
          0.61,
          0.61,
          0.62,
          0.6000000000000001,
          0.6,
          0.6,
          0.6,
          0.5900000000000001,
          0.5800000000000001,
          0.5700000000000001,
          0.5700000000000001,
          0.5700000000000001,
          0.56,
          0.56,
          0.55,
          0.54,
          0.55,
          0.53,
          0.53,
          0.53,
          0.53,
          0.53,
          0.52,
          0.52,
          0.51,
          0.52,
          0.51,
          0.49999999999999994,
          0.49000000000000005,
          0.49,
          0.48,
          0.48,
          0.4799999999999999,
          0.4800000000000001,
          0.48,
          0.47,
          0.47,
          0.45999999999999996,
          0.47000000000000003,
          0.47,
          0.45,
          0.45,
          0.44999999999999996,
          0.44000000000000006,
          0.44000000000000006,
          0.44,
          0.43,
          0.44,
          0.44,
          0.43,
          0.43,
          0.43000000000000005,
          0.43,
          0.42000000000000004,
          0.42000000000000004,
          0.42000000000000004,
          0.42,
          0.42,
          0.41,
          0.41,
          0.41,
          0.41000000000000003,
          0.41000000000000003,
          0.4,
          0.38999999999999996,
          0.38999999999999996,
          0.39999999999999997,
          0.39,
          0.38,
          0.38,
          0.38,
          0.38,
          0.37000000000000005,
          0.38,
          0.36000000000000004,
          0.36,
          0.36,
          0.37,
          0.36,
          0.36000000000000004,
          0.36,
          0.36,
          0.35,
          0.35000000000000003,
          0.36,
          0.35000000000000003,
          0.33999999999999997,
          0.34,
          0.33999999999999997,
          0.34,
          0.33999999999999997,
          0.34,
          0.33,
          0.33,
          0.32000000000000006,
          0.31999999999999995,
          0.31999999999999995,
          0.32000000000000006,
          0.33,
          0.32,
          0.32,
          0.31000000000000005,
          0.32,
          0.3,
          0.3,
          0.31000000000000005,
          0.31000000000000005,
          0.31,
          0.3,
          0.29000000000000004,
          0.3,
          0.3,
          0.28,
          0.29000000000000004,
          0.28,
          0.29,
          0.29000000000000004,
          0.27,
          0.29,
          0.28,
          0.27,
          0.27,
          0.26,
          0.27,
          0.26,
          0.26,
          0.26,
          0.26,
          0.25,
          0.26,
          0.26,
          0.25,
          0.24,
          0.25,
          0.24999999999999997,
          0.24000000000000002,
          0.24,
          0.25,
          0.24000000000000002,
          0.24000000000000002,
          0.24,
          0.24000000000000002,
          0.24,
          0.24000000000000002,
          0.24,
          0.24000000000000002,
          0.22999999999999998,
          0.23,
          0.23,
          0.22000000000000003,
          0.23,
          0.22,
          0.23,
          0.22,
          0.22,
          0.22,
          0.21000000000000002,
          0.22,
          0.22,
          0.21,
          0.22,
          0.21,
          0.21,
          0.21000000000000002,
          0.21,
          0.21000000000000002,
          0.21,
          0.19999999999999998,
          0.2,
          0.2,
          0.19999999999999998,
          0.2,
          0.19999999999999998,
          0.2,
          0.19999999999999998,
          0.19999999999999998,
          0.19999999999999998,
          0.18000000000000002,
          0.19999999999999998,
          0.18999999999999997,
          0.19,
          0.18000000000000002,
          0.19999999999999998,
          0.18000000000000002,
          0.19,
          0.18,
          0.19999999999999998,
          0.18,
          0.18,
          0.18,
          0.18,
          0.18,
          0.16999999999999998,
          0.18000000000000002,
          0.18,
          0.17,
          0.17,
          0.18,
          0.16,
          0.17,
          0.16,
          0.16999999999999998,
          0.17,
          0.16999999999999998,
          0.17,
          0.16,
          0.16,
          0.15000000000000002,
          0.16,
          0.16000000000000003,
          0.16000000000000003,
          0.16,
          0.15000000000000002,
          0.16,
          0.16000000000000003,
          0.15000000000000002,
          0.15000000000000002,
          0.15,
          0.15000000000000002,
          0.15,
          0.15000000000000002,
          0.13999999999999999,
          0.16,
          0.15000000000000002,
          0.14,
          0.14,
          0.15000000000000002,
          0.15000000000000002,
          0.13999999999999999,
          0.13999999999999999,
          0.14,
          0.14,
          0.15,
          0.14,
          0.14,
          0.13999999999999999,
          0.14,
          0.14,
          0.13,
          0.14,
          0.13,
          0.13,
          0.13,
          0.13,
          0.12000000000000001,
          0.13,
          0.13,
          0.13,
          0.13,
          0.13,
          0.12000000000000001,
          0.13,
          0.13,
          0.13,
          0.13,
          0.12,
          0.12,
          0.11,
          0.12,
          0.11,
          0.12000000000000001,
          0.12,
          0.12,
          0.12,
          0.12,
          0.12,
          0.12,
          0.12000000000000001,
          0.11,
          0.11,
          0.11,
          0.12000000000000001,
          0.11,
          0.11,
          0.11,
          0.11,
          0.10999999999999999,
          0.11,
          0.09999999999999999,
          0.11,
          0.11,
          0.11,
          0.11,
          0.09999999999999999,
          0.11,
          0.09999999999999999,
          0.09999999999999999,
          0.11,
          0.11,
          0.1,
          0.09,
          0.1,
          0.09,
          0.1,
          0.09999999999999999,
          0.09999999999999999,
          0.09,
          0.09999999999999999,
          0.09999999999999999,
          0.09000000000000001,
          0.1,
          0.09000000000000001,
          0.09,
          0.09999999999999999,
          0.1,
          0.1,
          0.09,
          0.09,
          0.09,
          0.09,
          0.08,
          0.09,
          0.09,
          0.08,
          0.09,
          0.08,
          0.08,
          0.09,
          0.08,
          0.08,
          0.06999999999999999,
          0.09,
          0.09000000000000001,
          0.07,
          0.08,
          0.08,
          0.07999999999999999,
          0.08,
          0.06999999999999999,
          0.08,
          0.06999999999999999,
          0.08,
          0.07,
          0.07,
          0.08,
          0.08,
          0.08,
          0.07,
          0.08,
          0.06999999999999999,
          0.07,
          0.07,
          0.06999999999999999,
          0.08,
          0.06999999999999999,
          0.06999999999999999,
          0.06999999999999999,
          0.06999999999999999,
          0.07,
          0.06999999999999999,
          0.07,
          0.060000000000000005,
          0.07,
          0.06999999999999999,
          0.06999999999999999,
          0.06,
          0.06,
          0.06,
          0.06,
          0.060000000000000005,
          0.060000000000000005,
          0.060000000000000005,
          0.06,
          0.06,
          0.060000000000000005,
          0.060000000000000005,
          0.06,
          0.060000000000000005,
          0.06999999999999999,
          0.060000000000000005,
          0.06999999999999999,
          0.060000000000000005,
          0.06999999999999999,
          0.06,
          0.05,
          0.060000000000000005,
          0.060000000000000005,
          0.05,
          0.060000000000000005,
          0.05,
          0.060000000000000005,
          0.060000000000000005,
          0.05,
          0.05,
          0.05,
          0.060000000000000005,
          0.05,
          0.05,
          0.05,
          0.05,
          0.05,
          0.05,
          0.05,
          0.05,
          0.05,
          0.060000000000000005,
          0.05,
          0.04,
          0.04,
          0.05,
          0.05,
          0.04,
          0.05,
          0.05,
          0.04,
          0.04,
          0.04,
          0.05,
          0.05,
          0.04,
          0.05,
          0.05,
          0.05,
          0.04,
          0.04,
          0.04,
          0.04,
          0.04,
          0.04,
          0.03,
          0.03,
          0.03,
          0.05,
          0.04,
          0.04,
          0.04,
          0.04,
          0.04,
          0.04,
          0.04,
          0.04,
          0.04,
          0.03,
          0.03,
          0.03,
          0.03,
          0.03,
          0.03,
          0.03,
          0.04,
          0.03,
          0.03,
          0.03,
          0.03,
          0.03,
          0.03,
          0.03,
          0.03,
          0.03,
          0.03,
          0.03,
          0.03,
          0.03,
          0.02,
          0.03,
          0.03,
          0.03,
          0.02,
          0.02,
          0.02,
          0.02,
          0.02,
          0.02,
          0.02,
          0.02,
          0.02,
          0.02,
          0.02,
          0.02,
          0.02,
          0.02,
          0.02,
          0.02,
          0.02,
          0.02,
          0.02,
          0.02,
          0.02,
          0.02,
          0.02,
          0.02,
          0.02,
          0.02,
          0.02,
          0.02,
          0.02,
          0.02,
          0.02,
          0.01,
          0.01,
          0.02,
          0.02,
          0.01,
          0.01,
          0.01,
          0.02,
          0.01,
          0.01,
          0.01,
          0.01,
          0.01,
          0.01,
          0.01,
          0.01,
          0.01,
          0.01,
          0.01,
          0.01,
          0.01,
          0.01,
          0.01,
          0.01,
          0.01,
          0.01,
          0.01,
          0.01,
          0.01,
          0.01,
          0.01,
          0.01,
          0.01,
          0.01,
          0.01,
          0.01,
          0.01,
          0.01,
          0.01
         ],
         "yaxis": "y"
        }
       ],
       "layout": {
        "legend": {
         "tracegroupgap": 0
        },
        "template": {
         "data": {
          "bar": [
           {
            "error_x": {
             "color": "#2a3f5f"
            },
            "error_y": {
             "color": "#2a3f5f"
            },
            "marker": {
             "line": {
              "color": "#E5ECF6",
              "width": 0.5
             },
             "pattern": {
              "fillmode": "overlay",
              "size": 10,
              "solidity": 0.2
             }
            },
            "type": "bar"
           }
          ],
          "barpolar": [
           {
            "marker": {
             "line": {
              "color": "#E5ECF6",
              "width": 0.5
             },
             "pattern": {
              "fillmode": "overlay",
              "size": 10,
              "solidity": 0.2
             }
            },
            "type": "barpolar"
           }
          ],
          "carpet": [
           {
            "aaxis": {
             "endlinecolor": "#2a3f5f",
             "gridcolor": "white",
             "linecolor": "white",
             "minorgridcolor": "white",
             "startlinecolor": "#2a3f5f"
            },
            "baxis": {
             "endlinecolor": "#2a3f5f",
             "gridcolor": "white",
             "linecolor": "white",
             "minorgridcolor": "white",
             "startlinecolor": "#2a3f5f"
            },
            "type": "carpet"
           }
          ],
          "choropleth": [
           {
            "colorbar": {
             "outlinewidth": 0,
             "ticks": ""
            },
            "type": "choropleth"
           }
          ],
          "contour": [
           {
            "colorbar": {
             "outlinewidth": 0,
             "ticks": ""
            },
            "colorscale": [
             [
              0,
              "#0d0887"
             ],
             [
              0.1111111111111111,
              "#46039f"
             ],
             [
              0.2222222222222222,
              "#7201a8"
             ],
             [
              0.3333333333333333,
              "#9c179e"
             ],
             [
              0.4444444444444444,
              "#bd3786"
             ],
             [
              0.5555555555555556,
              "#d8576b"
             ],
             [
              0.6666666666666666,
              "#ed7953"
             ],
             [
              0.7777777777777778,
              "#fb9f3a"
             ],
             [
              0.8888888888888888,
              "#fdca26"
             ],
             [
              1,
              "#f0f921"
             ]
            ],
            "type": "contour"
           }
          ],
          "contourcarpet": [
           {
            "colorbar": {
             "outlinewidth": 0,
             "ticks": ""
            },
            "type": "contourcarpet"
           }
          ],
          "heatmap": [
           {
            "colorbar": {
             "outlinewidth": 0,
             "ticks": ""
            },
            "colorscale": [
             [
              0,
              "#0d0887"
             ],
             [
              0.1111111111111111,
              "#46039f"
             ],
             [
              0.2222222222222222,
              "#7201a8"
             ],
             [
              0.3333333333333333,
              "#9c179e"
             ],
             [
              0.4444444444444444,
              "#bd3786"
             ],
             [
              0.5555555555555556,
              "#d8576b"
             ],
             [
              0.6666666666666666,
              "#ed7953"
             ],
             [
              0.7777777777777778,
              "#fb9f3a"
             ],
             [
              0.8888888888888888,
              "#fdca26"
             ],
             [
              1,
              "#f0f921"
             ]
            ],
            "type": "heatmap"
           }
          ],
          "heatmapgl": [
           {
            "colorbar": {
             "outlinewidth": 0,
             "ticks": ""
            },
            "colorscale": [
             [
              0,
              "#0d0887"
             ],
             [
              0.1111111111111111,
              "#46039f"
             ],
             [
              0.2222222222222222,
              "#7201a8"
             ],
             [
              0.3333333333333333,
              "#9c179e"
             ],
             [
              0.4444444444444444,
              "#bd3786"
             ],
             [
              0.5555555555555556,
              "#d8576b"
             ],
             [
              0.6666666666666666,
              "#ed7953"
             ],
             [
              0.7777777777777778,
              "#fb9f3a"
             ],
             [
              0.8888888888888888,
              "#fdca26"
             ],
             [
              1,
              "#f0f921"
             ]
            ],
            "type": "heatmapgl"
           }
          ],
          "histogram": [
           {
            "marker": {
             "pattern": {
              "fillmode": "overlay",
              "size": 10,
              "solidity": 0.2
             }
            },
            "type": "histogram"
           }
          ],
          "histogram2d": [
           {
            "colorbar": {
             "outlinewidth": 0,
             "ticks": ""
            },
            "colorscale": [
             [
              0,
              "#0d0887"
             ],
             [
              0.1111111111111111,
              "#46039f"
             ],
             [
              0.2222222222222222,
              "#7201a8"
             ],
             [
              0.3333333333333333,
              "#9c179e"
             ],
             [
              0.4444444444444444,
              "#bd3786"
             ],
             [
              0.5555555555555556,
              "#d8576b"
             ],
             [
              0.6666666666666666,
              "#ed7953"
             ],
             [
              0.7777777777777778,
              "#fb9f3a"
             ],
             [
              0.8888888888888888,
              "#fdca26"
             ],
             [
              1,
              "#f0f921"
             ]
            ],
            "type": "histogram2d"
           }
          ],
          "histogram2dcontour": [
           {
            "colorbar": {
             "outlinewidth": 0,
             "ticks": ""
            },
            "colorscale": [
             [
              0,
              "#0d0887"
             ],
             [
              0.1111111111111111,
              "#46039f"
             ],
             [
              0.2222222222222222,
              "#7201a8"
             ],
             [
              0.3333333333333333,
              "#9c179e"
             ],
             [
              0.4444444444444444,
              "#bd3786"
             ],
             [
              0.5555555555555556,
              "#d8576b"
             ],
             [
              0.6666666666666666,
              "#ed7953"
             ],
             [
              0.7777777777777778,
              "#fb9f3a"
             ],
             [
              0.8888888888888888,
              "#fdca26"
             ],
             [
              1,
              "#f0f921"
             ]
            ],
            "type": "histogram2dcontour"
           }
          ],
          "mesh3d": [
           {
            "colorbar": {
             "outlinewidth": 0,
             "ticks": ""
            },
            "type": "mesh3d"
           }
          ],
          "parcoords": [
           {
            "line": {
             "colorbar": {
              "outlinewidth": 0,
              "ticks": ""
             }
            },
            "type": "parcoords"
           }
          ],
          "pie": [
           {
            "automargin": true,
            "type": "pie"
           }
          ],
          "scatter": [
           {
            "fillpattern": {
             "fillmode": "overlay",
             "size": 10,
             "solidity": 0.2
            },
            "type": "scatter"
           }
          ],
          "scatter3d": [
           {
            "line": {
             "colorbar": {
              "outlinewidth": 0,
              "ticks": ""
             }
            },
            "marker": {
             "colorbar": {
              "outlinewidth": 0,
              "ticks": ""
             }
            },
            "type": "scatter3d"
           }
          ],
          "scattercarpet": [
           {
            "marker": {
             "colorbar": {
              "outlinewidth": 0,
              "ticks": ""
             }
            },
            "type": "scattercarpet"
           }
          ],
          "scattergeo": [
           {
            "marker": {
             "colorbar": {
              "outlinewidth": 0,
              "ticks": ""
             }
            },
            "type": "scattergeo"
           }
          ],
          "scattergl": [
           {
            "marker": {
             "colorbar": {
              "outlinewidth": 0,
              "ticks": ""
             }
            },
            "type": "scattergl"
           }
          ],
          "scattermapbox": [
           {
            "marker": {
             "colorbar": {
              "outlinewidth": 0,
              "ticks": ""
             }
            },
            "type": "scattermapbox"
           }
          ],
          "scatterpolar": [
           {
            "marker": {
             "colorbar": {
              "outlinewidth": 0,
              "ticks": ""
             }
            },
            "type": "scatterpolar"
           }
          ],
          "scatterpolargl": [
           {
            "marker": {
             "colorbar": {
              "outlinewidth": 0,
              "ticks": ""
             }
            },
            "type": "scatterpolargl"
           }
          ],
          "scatterternary": [
           {
            "marker": {
             "colorbar": {
              "outlinewidth": 0,
              "ticks": ""
             }
            },
            "type": "scatterternary"
           }
          ],
          "surface": [
           {
            "colorbar": {
             "outlinewidth": 0,
             "ticks": ""
            },
            "colorscale": [
             [
              0,
              "#0d0887"
             ],
             [
              0.1111111111111111,
              "#46039f"
             ],
             [
              0.2222222222222222,
              "#7201a8"
             ],
             [
              0.3333333333333333,
              "#9c179e"
             ],
             [
              0.4444444444444444,
              "#bd3786"
             ],
             [
              0.5555555555555556,
              "#d8576b"
             ],
             [
              0.6666666666666666,
              "#ed7953"
             ],
             [
              0.7777777777777778,
              "#fb9f3a"
             ],
             [
              0.8888888888888888,
              "#fdca26"
             ],
             [
              1,
              "#f0f921"
             ]
            ],
            "type": "surface"
           }
          ],
          "table": [
           {
            "cells": {
             "fill": {
              "color": "#EBF0F8"
             },
             "line": {
              "color": "white"
             }
            },
            "header": {
             "fill": {
              "color": "#C8D4E3"
             },
             "line": {
              "color": "white"
             }
            },
            "type": "table"
           }
          ]
         },
         "layout": {
          "annotationdefaults": {
           "arrowcolor": "#2a3f5f",
           "arrowhead": 0,
           "arrowwidth": 1
          },
          "autotypenumbers": "strict",
          "coloraxis": {
           "colorbar": {
            "outlinewidth": 0,
            "ticks": ""
           }
          },
          "colorscale": {
           "diverging": [
            [
             0,
             "#8e0152"
            ],
            [
             0.1,
             "#c51b7d"
            ],
            [
             0.2,
             "#de77ae"
            ],
            [
             0.3,
             "#f1b6da"
            ],
            [
             0.4,
             "#fde0ef"
            ],
            [
             0.5,
             "#f7f7f7"
            ],
            [
             0.6,
             "#e6f5d0"
            ],
            [
             0.7,
             "#b8e186"
            ],
            [
             0.8,
             "#7fbc41"
            ],
            [
             0.9,
             "#4d9221"
            ],
            [
             1,
             "#276419"
            ]
           ],
           "sequential": [
            [
             0,
             "#0d0887"
            ],
            [
             0.1111111111111111,
             "#46039f"
            ],
            [
             0.2222222222222222,
             "#7201a8"
            ],
            [
             0.3333333333333333,
             "#9c179e"
            ],
            [
             0.4444444444444444,
             "#bd3786"
            ],
            [
             0.5555555555555556,
             "#d8576b"
            ],
            [
             0.6666666666666666,
             "#ed7953"
            ],
            [
             0.7777777777777778,
             "#fb9f3a"
            ],
            [
             0.8888888888888888,
             "#fdca26"
            ],
            [
             1,
             "#f0f921"
            ]
           ],
           "sequentialminus": [
            [
             0,
             "#0d0887"
            ],
            [
             0.1111111111111111,
             "#46039f"
            ],
            [
             0.2222222222222222,
             "#7201a8"
            ],
            [
             0.3333333333333333,
             "#9c179e"
            ],
            [
             0.4444444444444444,
             "#bd3786"
            ],
            [
             0.5555555555555556,
             "#d8576b"
            ],
            [
             0.6666666666666666,
             "#ed7953"
            ],
            [
             0.7777777777777778,
             "#fb9f3a"
            ],
            [
             0.8888888888888888,
             "#fdca26"
            ],
            [
             1,
             "#f0f921"
            ]
           ]
          },
          "colorway": [
           "#636efa",
           "#EF553B",
           "#00cc96",
           "#ab63fa",
           "#FFA15A",
           "#19d3f3",
           "#FF6692",
           "#B6E880",
           "#FF97FF",
           "#FECB52"
          ],
          "font": {
           "color": "#2a3f5f"
          },
          "geo": {
           "bgcolor": "white",
           "lakecolor": "white",
           "landcolor": "#E5ECF6",
           "showlakes": true,
           "showland": true,
           "subunitcolor": "white"
          },
          "hoverlabel": {
           "align": "left"
          },
          "hovermode": "closest",
          "mapbox": {
           "style": "light"
          },
          "paper_bgcolor": "white",
          "plot_bgcolor": "#E5ECF6",
          "polar": {
           "angularaxis": {
            "gridcolor": "white",
            "linecolor": "white",
            "ticks": ""
           },
           "bgcolor": "#E5ECF6",
           "radialaxis": {
            "gridcolor": "white",
            "linecolor": "white",
            "ticks": ""
           }
          },
          "scene": {
           "xaxis": {
            "backgroundcolor": "#E5ECF6",
            "gridcolor": "white",
            "gridwidth": 2,
            "linecolor": "white",
            "showbackground": true,
            "ticks": "",
            "zerolinecolor": "white"
           },
           "yaxis": {
            "backgroundcolor": "#E5ECF6",
            "gridcolor": "white",
            "gridwidth": 2,
            "linecolor": "white",
            "showbackground": true,
            "ticks": "",
            "zerolinecolor": "white"
           },
           "zaxis": {
            "backgroundcolor": "#E5ECF6",
            "gridcolor": "white",
            "gridwidth": 2,
            "linecolor": "white",
            "showbackground": true,
            "ticks": "",
            "zerolinecolor": "white"
           }
          },
          "shapedefaults": {
           "line": {
            "color": "#2a3f5f"
           }
          },
          "ternary": {
           "aaxis": {
            "gridcolor": "white",
            "linecolor": "white",
            "ticks": ""
           },
           "baxis": {
            "gridcolor": "white",
            "linecolor": "white",
            "ticks": ""
           },
           "bgcolor": "#E5ECF6",
           "caxis": {
            "gridcolor": "white",
            "linecolor": "white",
            "ticks": ""
           }
          },
          "title": {
           "x": 0.05
          },
          "xaxis": {
           "automargin": true,
           "gridcolor": "white",
           "linecolor": "white",
           "ticks": "",
           "title": {
            "standoff": 15
           },
           "zerolinecolor": "white",
           "zerolinewidth": 2
          },
          "yaxis": {
           "automargin": true,
           "gridcolor": "white",
           "linecolor": "white",
           "ticks": "",
           "title": {
            "standoff": 15
           },
           "zerolinecolor": "white",
           "zerolinewidth": 2
          }
         }
        },
        "title": {
         "text": "How Critic Score Affect Sales for PS4"
        },
        "xaxis": {
         "anchor": "y",
         "domain": [
          0,
          1
         ],
         "title": {
          "text": "Critic Score"
         }
        },
        "yaxis": {
         "anchor": "x",
         "domain": [
          0,
          1
         ],
         "title": {
          "text": "Total Sales"
         }
        }
       }
      }
     },
     "metadata": {},
     "output_type": "display_data"
    }
   ],
   "source": [
    "ps_4_scatter_1 = px.scatter(ps_4_df, x='critic_score', y='total_sales', labels={\"critic_score\": \"Critic Score\", \"total_sales\": \"Total Sales\"}, title='How Critic Score Affect Sales for PS4')\n",
    "\n",
    "\n",
    "ps_4_scatter_1.show()"
   ]
  },
  {
   "cell_type": "markdown",
   "metadata": {},
   "source": [
    "Code Meaning:  \n",
    "1) Use px.scatter() in order to make a scatterplot from the previously created X360 dataframe.\n",
    "2) Use the user_score column from the X_360 dataframe as the x axis and use the total_sales column as the y axis.\n",
    "3) Set the title as: 'How User Score Affects Sales for X360'.\n",
    "4) Assign the code to X_360_scatter_2 in order to save the result.\n",
    "5) Use the update_layout() method on x_360_scatter_2 in order to increase the width to 800 and the height to 600.\n",
    "6) Use the update_yaxes() method on x_360_scatter_2 in order to limit the y axis to -1 for the minimun and 22.5 for the maximum.\n",
    "7) Use the show() method to display the scatterplot."
   ]
  },
  {
   "cell_type": "code",
   "execution_count": 64,
   "metadata": {},
   "outputs": [
    {
     "data": {
      "application/vnd.plotly.v1+json": {
       "config": {
        "plotlyServerURL": "https://plot.ly"
       },
       "data": [
        {
         "hovertemplate": "User Score=%{x}<br>Total Sales=%{y}<extra></extra>",
         "legendgroup": "",
         "marker": {
          "color": "#636efa",
          "symbol": "circle"
         },
         "mode": "markers",
         "name": "",
         "orientation": "v",
         "showlegend": false,
         "type": "scatter",
         "x": [
          8.3,
          4.3,
          5.7,
          5,
          6.5,
          9.1,
          5.7,
          6.1,
          7.9,
          7.9,
          5.4,
          8.1,
          6.4,
          3.4,
          8.5,
          6.2,
          8.4,
          6.3,
          7.7,
          9.2,
          4.9,
          7.6,
          8.7,
          6.7,
          7,
          4.1,
          8.2,
          6.8,
          5.5,
          7.5,
          4.4,
          5.9,
          7.2,
          8.7,
          6.9,
          3.9,
          8.1,
          6.4,
          7.9,
          7.7,
          5.5,
          8.6,
          7,
          3.1,
          6.1,
          9,
          6.2,
          6.3,
          8.2,
          7.3,
          6.1,
          5.4,
          6.9,
          6.1,
          5,
          7.9,
          6.1,
          7.4,
          6,
          7.1,
          6.7,
          6.5,
          8.8,
          5.1,
          7.9,
          7.3,
          4.9,
          6.6,
          5.4,
          6.3,
          4.5,
          8.2,
          8.8,
          7.5,
          6.5,
          5.8,
          6.4,
          8.1,
          8.9,
          6.6,
          8.2,
          6.1,
          7.3,
          8,
          5.9,
          8,
          6.2,
          6.9,
          9.2,
          8.5,
          6.1,
          7.8,
          5.4,
          7.5,
          8.4,
          7.2,
          8.1,
          6.2,
          8.8,
          5.9,
          8.3,
          7.4,
          5.1,
          8.6,
          5.2,
          7.9,
          5.1,
          7.7,
          8.2,
          7.8,
          8.1,
          7.6,
          7.7,
          6.6,
          7.4,
          7.3,
          5.6,
          6.1,
          8.4,
          6.2,
          7.3,
          8.5,
          8,
          4.3,
          6.2,
          6.9,
          8.7,
          7.1,
          6.8,
          7.8,
          8.5,
          8.4,
          3.4,
          7,
          7,
          5.7,
          6.4,
          7.8,
          6.2,
          8.9,
          7.1,
          7.7,
          3.1,
          8.2,
          8.4,
          7.3,
          7.2,
          7.9,
          5.9,
          7,
          6.6,
          7.1,
          8.1,
          7.7,
          6.4,
          9.3,
          7.8,
          7.1,
          7.5,
          7.4,
          7.1,
          7.8,
          7.3,
          7.1,
          6.3,
          6.7,
          8.3,
          8,
          7.6,
          7.7,
          4,
          7.7,
          5.9,
          5.1,
          6.7,
          5.5,
          4.6,
          4.3,
          7.6,
          6.3,
          5.1,
          6.6,
          6.9,
          3.6,
          5.7,
          5.9,
          8,
          5.7,
          6.9,
          6.2,
          6.8,
          5.1,
          7.7,
          3,
          7,
          6.5,
          7.5,
          6.9,
          6.8,
          8.3,
          8.1,
          3.7,
          6.6,
          8,
          7.8,
          7.7,
          7.7,
          7.4,
          5.6,
          8.1,
          8.2,
          6,
          6.4,
          5.9,
          6.3,
          7.4,
          6,
          8.7,
          7.6,
          8.2,
          4.7,
          5.3,
          5.6,
          7.8,
          7.5,
          7.1,
          6.8,
          8,
          4.4,
          7.2,
          8.2,
          6.8,
          4.4,
          6,
          8.7,
          6.9,
          3.2,
          5.8,
          4.1,
          4.5,
          6.8,
          8.6,
          8.6,
          8,
          5.8,
          6.3,
          7.6,
          7.6,
          7,
          8.5,
          8.2,
          8.7,
          8.1,
          5.5,
          7.4,
          7.1,
          6.8,
          4.8,
          7.7,
          8,
          3.8,
          7.8,
          6.9,
          5.1,
          4.7,
          6.6,
          7.9,
          7.9,
          8.3,
          5.8,
          6.6,
          8.5,
          6.1,
          7.2,
          7.5,
          8.4,
          8.6,
          6.9,
          3.6,
          7.1,
          3.3,
          5.3,
          6.8,
          8.5,
          7.3,
          7.6,
          7,
          5.7,
          6.6,
          6.2,
          6.3,
          5.4,
          8.1,
          4.2,
          7.1,
          7.3,
          5.9,
          4.3,
          6.8,
          7.6,
          8.5,
          8.1,
          5.5,
          5.8,
          6.8,
          7.1,
          7.1,
          5.9,
          8.6,
          7.3,
          6.3,
          5.3,
          8.7,
          7.1,
          6.5,
          5.5,
          8.1,
          7.3,
          4,
          7.9,
          8.3,
          6.8,
          5.6,
          7.1,
          6.9,
          7.5,
          8.6,
          4.1,
          8.4,
          7,
          7.3,
          6.8,
          6.7,
          6.8,
          7.3,
          7.7,
          7.6,
          5.9,
          8.6,
          8.4,
          8.4,
          6.8,
          7.9,
          7.1,
          1.5,
          7.4,
          7.4,
          6.8,
          4.4,
          7.3,
          8.2,
          7.9,
          7.8,
          5.9,
          7.1,
          3.2,
          6.1,
          7.5,
          8.6,
          4.3,
          7.3,
          4.1,
          7,
          7.7,
          8.3,
          7.7,
          7.8,
          7.4,
          6.4,
          7.4,
          6.8,
          8,
          6.1,
          7.1,
          7,
          7.6,
          8.7,
          7.2,
          6.5,
          7.3,
          5.1,
          6.3,
          8.2,
          4.8,
          8.2,
          4.4,
          6.8,
          7,
          6.4,
          8.3,
          7.8,
          7.4,
          7.5,
          8,
          8,
          7.2,
          8.7,
          7,
          8.1,
          7.8,
          8,
          6.6,
          7.7,
          8.4,
          5.3,
          5.5,
          8,
          7.3,
          8.9,
          8.2,
          7.9,
          4.1,
          5.9,
          8.4,
          7.9,
          6.4,
          3.8,
          8.6,
          8.1,
          3,
          8.7,
          8.2,
          8.5,
          7.3,
          2.5,
          7.6,
          6.4,
          7.5,
          7.8,
          7.1,
          7.1,
          8,
          7.4,
          8.1,
          6.9,
          7.9,
          8,
          6,
          2.1,
          6.5,
          7.3,
          7,
          4.2,
          8.2,
          3.4,
          6.8,
          6.8,
          7.6,
          8.5,
          8.5,
          8.6,
          8.2,
          7.9,
          5.6,
          7.2,
          8,
          4.6,
          6.2,
          7,
          7.5,
          6.5,
          3.4,
          7.3,
          5.3,
          5.7,
          7.8,
          7.5,
          5.9,
          6.3,
          6.8,
          6,
          4.8,
          8.3,
          7.3,
          6.5,
          6,
          7.8,
          6.3,
          5.5,
          9.3,
          4.3,
          5.8,
          4.5,
          7.8,
          6.4,
          7.4,
          6.6,
          7.6,
          6,
          7.1,
          5.7,
          3.1,
          6.7,
          7.6,
          4.9,
          6.3,
          7.8,
          7.6,
          6.9,
          6.1,
          5.6,
          3.7,
          8,
          7.4,
          8.3,
          6.7,
          7.5,
          7.3,
          7.6,
          7.7,
          8,
          6.1,
          8.5,
          7.1,
          7.3,
          3.5,
          7.7,
          6.2,
          8.6,
          8.1,
          3.8,
          7.8,
          7,
          8.5,
          6.8,
          7.8,
          8.6,
          8,
          5.1,
          7.9,
          7.5,
          7.2,
          4.4,
          7.9,
          7.8,
          7.5,
          4.4,
          6.2,
          5.8,
          7.7,
          5.8,
          8.3,
          7.6,
          6.8,
          4.8,
          8.8,
          7.9,
          6.7,
          6.9,
          6.5,
          7.8,
          7.5,
          8.4,
          8.3,
          2.9,
          4.1,
          7.2,
          1.9,
          6.4,
          8.2,
          5.2,
          6.9,
          6,
          7.4,
          3.5,
          7.8,
          4.9,
          3.6,
          8,
          5.1,
          7.1,
          4.1,
          7.1,
          8.3,
          5.1,
          7.4,
          5.4,
          5.7,
          7.5,
          3.8,
          8,
          6.1,
          8.1,
          5.3,
          8,
          7.8,
          6.3,
          8.1,
          8.6,
          7,
          4.3,
          6,
          5.8,
          8.5,
          8.1,
          8.9,
          6.9,
          5.8,
          5.6,
          6.8,
          8,
          8.3,
          7.7,
          6.6,
          7.1,
          7.7,
          7.9,
          6.4,
          8.1,
          7,
          3.5,
          8,
          8,
          4.8,
          7.5,
          5.1,
          6.9,
          7.4,
          6.1,
          6.3,
          8.7,
          6.8,
          8,
          7.6,
          5.4,
          7.6,
          8.1,
          6.9,
          4.6,
          8.4,
          8.4,
          4.8,
          6.1,
          3.5,
          6.6,
          7.4,
          6.6,
          7.8,
          6.2,
          6.4,
          6.2,
          7.7,
          7.1,
          6.5,
          7.9,
          7.3,
          9,
          4.5,
          7.8,
          4.7,
          1.4,
          3.7,
          7.3,
          6.2,
          7.1,
          2.4,
          8.5,
          8.5,
          5.4,
          7.4,
          2.4,
          4.2,
          6.6,
          7.4,
          8.3,
          2,
          6,
          8.7,
          7.2,
          4.3,
          6.7,
          6.2,
          5.8,
          6.3,
          6.2,
          8.4,
          6.9,
          7.7,
          7.9,
          6.8,
          7.7,
          8.1,
          7.3,
          3.1,
          7.5,
          7.1,
          6.3,
          7.1,
          7.4,
          7.1,
          7.1,
          6.8,
          2.3,
          6.8,
          7.5,
          7.9,
          8.3,
          7.9,
          5.5,
          6,
          8.2,
          8.5,
          6.7,
          7.6
         ],
         "xaxis": "x",
         "y": [
          12.620000000000001,
          8.58,
          7.66,
          7.6000000000000005,
          7.17,
          7.09,
          6.08,
          5.640000000000001,
          5.47,
          5.39,
          5.26,
          4.62,
          4.49,
          4.470000000000001,
          4.4399999999999995,
          4.22,
          4.07,
          4.05,
          4.04,
          3.9699999999999998,
          3.96,
          3.96,
          3.89,
          3.87,
          3.8,
          3.5,
          3.4200000000000004,
          3.3899999999999997,
          3.37,
          3.28,
          3.25,
          3.2399999999999998,
          3.23,
          3.21,
          3.05,
          3.0500000000000003,
          2.96,
          2.95,
          2.7899999999999996,
          2.78,
          2.65,
          2.48,
          2.4499999999999997,
          2.4200000000000004,
          2.42,
          2.34,
          2.34,
          2.2600000000000002,
          2.25,
          2.21,
          2.19,
          2.18,
          2.1700000000000004,
          2.14,
          2.11,
          2.09,
          2.07,
          2.01,
          1.9200000000000002,
          1.9100000000000001,
          1.8800000000000001,
          1.85,
          1.83,
          1.81,
          1.7999999999999998,
          1.7900000000000003,
          1.74,
          1.7200000000000002,
          1.7200000000000002,
          1.73,
          1.6900000000000002,
          1.6600000000000001,
          1.6600000000000001,
          1.6400000000000001,
          1.58,
          1.5700000000000003,
          1.56,
          1.54,
          1.5299999999999998,
          1.4900000000000002,
          1.4000000000000001,
          1.3800000000000001,
          1.38,
          1.3800000000000001,
          1.3599999999999999,
          1.3599999999999999,
          1.3399999999999999,
          1.3399999999999999,
          1.3,
          1.3,
          1.2900000000000003,
          1.29,
          1.2800000000000002,
          1.28,
          1.2800000000000002,
          1.27,
          1.2799999999999998,
          1.2699999999999998,
          1.25,
          1.23,
          1.23,
          1.21,
          1.21,
          1.1900000000000002,
          1.2000000000000002,
          1.1700000000000002,
          1.15,
          1.1300000000000001,
          1.14,
          1.13,
          1.1199999999999999,
          1.11,
          1.1,
          1.0799999999999998,
          1.08,
          1.07,
          1.06,
          1.05,
          1.03,
          1.03,
          1.01,
          1.02,
          1.01,
          0.9700000000000001,
          0.93,
          0.93,
          0.93,
          0.92,
          0.93,
          0.93,
          0.93,
          0.9299999999999999,
          0.9,
          0.91,
          0.9,
          0.9000000000000001,
          0.88,
          0.88,
          0.86,
          0.8400000000000001,
          0.78,
          0.79,
          0.7799999999999999,
          0.76,
          0.7600000000000001,
          0.75,
          0.75,
          0.74,
          0.73,
          0.73,
          0.73,
          0.73,
          0.7200000000000001,
          0.72,
          0.73,
          0.7200000000000001,
          0.7,
          0.7,
          0.71,
          0.6799999999999999,
          0.6900000000000001,
          0.6800000000000002,
          0.6599999999999999,
          0.67,
          0.67,
          0.6599999999999999,
          0.65,
          0.65,
          0.64,
          0.6400000000000001,
          0.6400000000000001,
          0.64,
          0.6400000000000001,
          0.6300000000000001,
          0.63,
          0.63,
          0.6200000000000001,
          0.61,
          0.61,
          0.62,
          0.6000000000000001,
          0.6,
          0.6,
          0.6,
          0.5900000000000001,
          0.5800000000000001,
          0.5700000000000001,
          0.5700000000000001,
          0.5700000000000001,
          0.56,
          0.56,
          0.55,
          0.54,
          0.55,
          0.53,
          0.53,
          0.53,
          0.53,
          0.53,
          0.52,
          0.52,
          0.51,
          0.52,
          0.51,
          0.49999999999999994,
          0.49000000000000005,
          0.49,
          0.48,
          0.48,
          0.4799999999999999,
          0.4800000000000001,
          0.48,
          0.47,
          0.47,
          0.45999999999999996,
          0.47000000000000003,
          0.47,
          0.45,
          0.45,
          0.44999999999999996,
          0.44000000000000006,
          0.44000000000000006,
          0.44,
          0.43,
          0.44,
          0.44,
          0.43,
          0.43,
          0.43000000000000005,
          0.43,
          0.42000000000000004,
          0.42000000000000004,
          0.42000000000000004,
          0.42,
          0.42,
          0.41,
          0.41,
          0.41,
          0.41000000000000003,
          0.41000000000000003,
          0.4,
          0.38999999999999996,
          0.38999999999999996,
          0.39999999999999997,
          0.39,
          0.38,
          0.38,
          0.38,
          0.38,
          0.37000000000000005,
          0.38,
          0.36000000000000004,
          0.36,
          0.36,
          0.37,
          0.36,
          0.36000000000000004,
          0.36,
          0.36,
          0.35,
          0.35000000000000003,
          0.36,
          0.35000000000000003,
          0.33999999999999997,
          0.34,
          0.33999999999999997,
          0.34,
          0.33999999999999997,
          0.34,
          0.33,
          0.33,
          0.32000000000000006,
          0.31999999999999995,
          0.31999999999999995,
          0.32000000000000006,
          0.33,
          0.32,
          0.32,
          0.31000000000000005,
          0.32,
          0.3,
          0.3,
          0.31000000000000005,
          0.31000000000000005,
          0.31,
          0.3,
          0.29000000000000004,
          0.3,
          0.3,
          0.28,
          0.29000000000000004,
          0.28,
          0.29,
          0.29000000000000004,
          0.27,
          0.29,
          0.28,
          0.27,
          0.27,
          0.26,
          0.27,
          0.26,
          0.26,
          0.26,
          0.26,
          0.25,
          0.26,
          0.26,
          0.25,
          0.24,
          0.25,
          0.24999999999999997,
          0.24000000000000002,
          0.24,
          0.25,
          0.24000000000000002,
          0.24000000000000002,
          0.24,
          0.24000000000000002,
          0.24,
          0.24000000000000002,
          0.24,
          0.24000000000000002,
          0.22999999999999998,
          0.23,
          0.23,
          0.22000000000000003,
          0.23,
          0.22,
          0.23,
          0.22,
          0.22,
          0.22,
          0.21000000000000002,
          0.22,
          0.22,
          0.21,
          0.22,
          0.21,
          0.21,
          0.21000000000000002,
          0.21,
          0.21000000000000002,
          0.21,
          0.19999999999999998,
          0.2,
          0.2,
          0.19999999999999998,
          0.2,
          0.19999999999999998,
          0.2,
          0.19999999999999998,
          0.19999999999999998,
          0.19999999999999998,
          0.18000000000000002,
          0.19999999999999998,
          0.18999999999999997,
          0.19,
          0.18000000000000002,
          0.19999999999999998,
          0.18000000000000002,
          0.19,
          0.18,
          0.19999999999999998,
          0.18,
          0.18,
          0.18,
          0.18,
          0.18,
          0.16999999999999998,
          0.18000000000000002,
          0.18,
          0.17,
          0.17,
          0.18,
          0.16,
          0.17,
          0.16,
          0.16999999999999998,
          0.17,
          0.16999999999999998,
          0.17,
          0.16,
          0.16,
          0.15000000000000002,
          0.16,
          0.16000000000000003,
          0.16000000000000003,
          0.16,
          0.15000000000000002,
          0.16,
          0.16000000000000003,
          0.15000000000000002,
          0.15000000000000002,
          0.15,
          0.15000000000000002,
          0.15,
          0.15000000000000002,
          0.13999999999999999,
          0.16,
          0.15000000000000002,
          0.14,
          0.14,
          0.15000000000000002,
          0.15000000000000002,
          0.13999999999999999,
          0.13999999999999999,
          0.14,
          0.14,
          0.15,
          0.14,
          0.14,
          0.13999999999999999,
          0.14,
          0.14,
          0.13,
          0.14,
          0.13,
          0.13,
          0.13,
          0.13,
          0.12000000000000001,
          0.13,
          0.13,
          0.13,
          0.13,
          0.13,
          0.12000000000000001,
          0.13,
          0.13,
          0.13,
          0.13,
          0.12,
          0.12,
          0.11,
          0.12,
          0.11,
          0.12000000000000001,
          0.12,
          0.12,
          0.12,
          0.12,
          0.12,
          0.12,
          0.12000000000000001,
          0.11,
          0.11,
          0.11,
          0.12000000000000001,
          0.11,
          0.11,
          0.11,
          0.11,
          0.10999999999999999,
          0.11,
          0.09999999999999999,
          0.11,
          0.11,
          0.11,
          0.11,
          0.09999999999999999,
          0.11,
          0.09999999999999999,
          0.09999999999999999,
          0.11,
          0.11,
          0.1,
          0.09,
          0.1,
          0.09,
          0.1,
          0.09999999999999999,
          0.09999999999999999,
          0.09,
          0.09999999999999999,
          0.09999999999999999,
          0.09000000000000001,
          0.1,
          0.09000000000000001,
          0.09,
          0.09999999999999999,
          0.1,
          0.1,
          0.09,
          0.09,
          0.09,
          0.09,
          0.08,
          0.09,
          0.09,
          0.08,
          0.09,
          0.08,
          0.08,
          0.09,
          0.08,
          0.08,
          0.06999999999999999,
          0.09,
          0.09000000000000001,
          0.07,
          0.08,
          0.08,
          0.07999999999999999,
          0.08,
          0.06999999999999999,
          0.08,
          0.06999999999999999,
          0.08,
          0.07,
          0.07,
          0.08,
          0.08,
          0.08,
          0.07,
          0.08,
          0.06999999999999999,
          0.07,
          0.07,
          0.06999999999999999,
          0.08,
          0.06999999999999999,
          0.06999999999999999,
          0.06999999999999999,
          0.06999999999999999,
          0.07,
          0.06999999999999999,
          0.07,
          0.060000000000000005,
          0.07,
          0.06999999999999999,
          0.06999999999999999,
          0.06,
          0.06,
          0.06,
          0.06,
          0.060000000000000005,
          0.060000000000000005,
          0.060000000000000005,
          0.06,
          0.06,
          0.060000000000000005,
          0.060000000000000005,
          0.06,
          0.060000000000000005,
          0.06999999999999999,
          0.060000000000000005,
          0.06999999999999999,
          0.060000000000000005,
          0.06999999999999999,
          0.06,
          0.05,
          0.060000000000000005,
          0.060000000000000005,
          0.05,
          0.060000000000000005,
          0.05,
          0.060000000000000005,
          0.060000000000000005,
          0.05,
          0.05,
          0.05,
          0.060000000000000005,
          0.05,
          0.05,
          0.05,
          0.05,
          0.05,
          0.05,
          0.05,
          0.05,
          0.05,
          0.060000000000000005,
          0.05,
          0.04,
          0.04,
          0.05,
          0.05,
          0.04,
          0.05,
          0.05,
          0.04,
          0.04,
          0.04,
          0.05,
          0.05,
          0.04,
          0.05,
          0.05,
          0.05,
          0.04,
          0.04,
          0.04,
          0.04,
          0.04,
          0.04,
          0.03,
          0.03,
          0.03,
          0.05,
          0.04,
          0.04,
          0.04,
          0.04,
          0.04,
          0.04,
          0.04,
          0.04,
          0.04,
          0.03,
          0.03,
          0.03,
          0.03,
          0.03,
          0.03,
          0.03,
          0.04,
          0.03,
          0.03,
          0.03,
          0.03,
          0.03,
          0.03,
          0.03,
          0.03,
          0.03,
          0.03,
          0.03,
          0.03,
          0.03,
          0.02,
          0.03,
          0.03,
          0.03,
          0.02,
          0.02,
          0.02,
          0.02,
          0.02,
          0.02,
          0.02,
          0.02,
          0.02,
          0.02,
          0.02,
          0.02,
          0.02,
          0.02,
          0.02,
          0.02,
          0.02,
          0.02,
          0.02,
          0.02,
          0.02,
          0.02,
          0.02,
          0.02,
          0.02,
          0.02,
          0.02,
          0.02,
          0.02,
          0.02,
          0.02,
          0.01,
          0.01,
          0.02,
          0.02,
          0.01,
          0.01,
          0.01,
          0.02,
          0.01,
          0.01,
          0.01,
          0.01,
          0.01,
          0.01,
          0.01,
          0.01,
          0.01,
          0.01,
          0.01,
          0.01,
          0.01,
          0.01,
          0.01,
          0.01,
          0.01,
          0.01,
          0.01,
          0.01,
          0.01,
          0.01,
          0.01,
          0.01,
          0.01,
          0.01,
          0.01,
          0.01,
          0.01,
          0.01,
          0.01
         ],
         "yaxis": "y"
        }
       ],
       "layout": {
        "legend": {
         "tracegroupgap": 0
        },
        "template": {
         "data": {
          "bar": [
           {
            "error_x": {
             "color": "#2a3f5f"
            },
            "error_y": {
             "color": "#2a3f5f"
            },
            "marker": {
             "line": {
              "color": "#E5ECF6",
              "width": 0.5
             },
             "pattern": {
              "fillmode": "overlay",
              "size": 10,
              "solidity": 0.2
             }
            },
            "type": "bar"
           }
          ],
          "barpolar": [
           {
            "marker": {
             "line": {
              "color": "#E5ECF6",
              "width": 0.5
             },
             "pattern": {
              "fillmode": "overlay",
              "size": 10,
              "solidity": 0.2
             }
            },
            "type": "barpolar"
           }
          ],
          "carpet": [
           {
            "aaxis": {
             "endlinecolor": "#2a3f5f",
             "gridcolor": "white",
             "linecolor": "white",
             "minorgridcolor": "white",
             "startlinecolor": "#2a3f5f"
            },
            "baxis": {
             "endlinecolor": "#2a3f5f",
             "gridcolor": "white",
             "linecolor": "white",
             "minorgridcolor": "white",
             "startlinecolor": "#2a3f5f"
            },
            "type": "carpet"
           }
          ],
          "choropleth": [
           {
            "colorbar": {
             "outlinewidth": 0,
             "ticks": ""
            },
            "type": "choropleth"
           }
          ],
          "contour": [
           {
            "colorbar": {
             "outlinewidth": 0,
             "ticks": ""
            },
            "colorscale": [
             [
              0,
              "#0d0887"
             ],
             [
              0.1111111111111111,
              "#46039f"
             ],
             [
              0.2222222222222222,
              "#7201a8"
             ],
             [
              0.3333333333333333,
              "#9c179e"
             ],
             [
              0.4444444444444444,
              "#bd3786"
             ],
             [
              0.5555555555555556,
              "#d8576b"
             ],
             [
              0.6666666666666666,
              "#ed7953"
             ],
             [
              0.7777777777777778,
              "#fb9f3a"
             ],
             [
              0.8888888888888888,
              "#fdca26"
             ],
             [
              1,
              "#f0f921"
             ]
            ],
            "type": "contour"
           }
          ],
          "contourcarpet": [
           {
            "colorbar": {
             "outlinewidth": 0,
             "ticks": ""
            },
            "type": "contourcarpet"
           }
          ],
          "heatmap": [
           {
            "colorbar": {
             "outlinewidth": 0,
             "ticks": ""
            },
            "colorscale": [
             [
              0,
              "#0d0887"
             ],
             [
              0.1111111111111111,
              "#46039f"
             ],
             [
              0.2222222222222222,
              "#7201a8"
             ],
             [
              0.3333333333333333,
              "#9c179e"
             ],
             [
              0.4444444444444444,
              "#bd3786"
             ],
             [
              0.5555555555555556,
              "#d8576b"
             ],
             [
              0.6666666666666666,
              "#ed7953"
             ],
             [
              0.7777777777777778,
              "#fb9f3a"
             ],
             [
              0.8888888888888888,
              "#fdca26"
             ],
             [
              1,
              "#f0f921"
             ]
            ],
            "type": "heatmap"
           }
          ],
          "heatmapgl": [
           {
            "colorbar": {
             "outlinewidth": 0,
             "ticks": ""
            },
            "colorscale": [
             [
              0,
              "#0d0887"
             ],
             [
              0.1111111111111111,
              "#46039f"
             ],
             [
              0.2222222222222222,
              "#7201a8"
             ],
             [
              0.3333333333333333,
              "#9c179e"
             ],
             [
              0.4444444444444444,
              "#bd3786"
             ],
             [
              0.5555555555555556,
              "#d8576b"
             ],
             [
              0.6666666666666666,
              "#ed7953"
             ],
             [
              0.7777777777777778,
              "#fb9f3a"
             ],
             [
              0.8888888888888888,
              "#fdca26"
             ],
             [
              1,
              "#f0f921"
             ]
            ],
            "type": "heatmapgl"
           }
          ],
          "histogram": [
           {
            "marker": {
             "pattern": {
              "fillmode": "overlay",
              "size": 10,
              "solidity": 0.2
             }
            },
            "type": "histogram"
           }
          ],
          "histogram2d": [
           {
            "colorbar": {
             "outlinewidth": 0,
             "ticks": ""
            },
            "colorscale": [
             [
              0,
              "#0d0887"
             ],
             [
              0.1111111111111111,
              "#46039f"
             ],
             [
              0.2222222222222222,
              "#7201a8"
             ],
             [
              0.3333333333333333,
              "#9c179e"
             ],
             [
              0.4444444444444444,
              "#bd3786"
             ],
             [
              0.5555555555555556,
              "#d8576b"
             ],
             [
              0.6666666666666666,
              "#ed7953"
             ],
             [
              0.7777777777777778,
              "#fb9f3a"
             ],
             [
              0.8888888888888888,
              "#fdca26"
             ],
             [
              1,
              "#f0f921"
             ]
            ],
            "type": "histogram2d"
           }
          ],
          "histogram2dcontour": [
           {
            "colorbar": {
             "outlinewidth": 0,
             "ticks": ""
            },
            "colorscale": [
             [
              0,
              "#0d0887"
             ],
             [
              0.1111111111111111,
              "#46039f"
             ],
             [
              0.2222222222222222,
              "#7201a8"
             ],
             [
              0.3333333333333333,
              "#9c179e"
             ],
             [
              0.4444444444444444,
              "#bd3786"
             ],
             [
              0.5555555555555556,
              "#d8576b"
             ],
             [
              0.6666666666666666,
              "#ed7953"
             ],
             [
              0.7777777777777778,
              "#fb9f3a"
             ],
             [
              0.8888888888888888,
              "#fdca26"
             ],
             [
              1,
              "#f0f921"
             ]
            ],
            "type": "histogram2dcontour"
           }
          ],
          "mesh3d": [
           {
            "colorbar": {
             "outlinewidth": 0,
             "ticks": ""
            },
            "type": "mesh3d"
           }
          ],
          "parcoords": [
           {
            "line": {
             "colorbar": {
              "outlinewidth": 0,
              "ticks": ""
             }
            },
            "type": "parcoords"
           }
          ],
          "pie": [
           {
            "automargin": true,
            "type": "pie"
           }
          ],
          "scatter": [
           {
            "fillpattern": {
             "fillmode": "overlay",
             "size": 10,
             "solidity": 0.2
            },
            "type": "scatter"
           }
          ],
          "scatter3d": [
           {
            "line": {
             "colorbar": {
              "outlinewidth": 0,
              "ticks": ""
             }
            },
            "marker": {
             "colorbar": {
              "outlinewidth": 0,
              "ticks": ""
             }
            },
            "type": "scatter3d"
           }
          ],
          "scattercarpet": [
           {
            "marker": {
             "colorbar": {
              "outlinewidth": 0,
              "ticks": ""
             }
            },
            "type": "scattercarpet"
           }
          ],
          "scattergeo": [
           {
            "marker": {
             "colorbar": {
              "outlinewidth": 0,
              "ticks": ""
             }
            },
            "type": "scattergeo"
           }
          ],
          "scattergl": [
           {
            "marker": {
             "colorbar": {
              "outlinewidth": 0,
              "ticks": ""
             }
            },
            "type": "scattergl"
           }
          ],
          "scattermapbox": [
           {
            "marker": {
             "colorbar": {
              "outlinewidth": 0,
              "ticks": ""
             }
            },
            "type": "scattermapbox"
           }
          ],
          "scatterpolar": [
           {
            "marker": {
             "colorbar": {
              "outlinewidth": 0,
              "ticks": ""
             }
            },
            "type": "scatterpolar"
           }
          ],
          "scatterpolargl": [
           {
            "marker": {
             "colorbar": {
              "outlinewidth": 0,
              "ticks": ""
             }
            },
            "type": "scatterpolargl"
           }
          ],
          "scatterternary": [
           {
            "marker": {
             "colorbar": {
              "outlinewidth": 0,
              "ticks": ""
             }
            },
            "type": "scatterternary"
           }
          ],
          "surface": [
           {
            "colorbar": {
             "outlinewidth": 0,
             "ticks": ""
            },
            "colorscale": [
             [
              0,
              "#0d0887"
             ],
             [
              0.1111111111111111,
              "#46039f"
             ],
             [
              0.2222222222222222,
              "#7201a8"
             ],
             [
              0.3333333333333333,
              "#9c179e"
             ],
             [
              0.4444444444444444,
              "#bd3786"
             ],
             [
              0.5555555555555556,
              "#d8576b"
             ],
             [
              0.6666666666666666,
              "#ed7953"
             ],
             [
              0.7777777777777778,
              "#fb9f3a"
             ],
             [
              0.8888888888888888,
              "#fdca26"
             ],
             [
              1,
              "#f0f921"
             ]
            ],
            "type": "surface"
           }
          ],
          "table": [
           {
            "cells": {
             "fill": {
              "color": "#EBF0F8"
             },
             "line": {
              "color": "white"
             }
            },
            "header": {
             "fill": {
              "color": "#C8D4E3"
             },
             "line": {
              "color": "white"
             }
            },
            "type": "table"
           }
          ]
         },
         "layout": {
          "annotationdefaults": {
           "arrowcolor": "#2a3f5f",
           "arrowhead": 0,
           "arrowwidth": 1
          },
          "autotypenumbers": "strict",
          "coloraxis": {
           "colorbar": {
            "outlinewidth": 0,
            "ticks": ""
           }
          },
          "colorscale": {
           "diverging": [
            [
             0,
             "#8e0152"
            ],
            [
             0.1,
             "#c51b7d"
            ],
            [
             0.2,
             "#de77ae"
            ],
            [
             0.3,
             "#f1b6da"
            ],
            [
             0.4,
             "#fde0ef"
            ],
            [
             0.5,
             "#f7f7f7"
            ],
            [
             0.6,
             "#e6f5d0"
            ],
            [
             0.7,
             "#b8e186"
            ],
            [
             0.8,
             "#7fbc41"
            ],
            [
             0.9,
             "#4d9221"
            ],
            [
             1,
             "#276419"
            ]
           ],
           "sequential": [
            [
             0,
             "#0d0887"
            ],
            [
             0.1111111111111111,
             "#46039f"
            ],
            [
             0.2222222222222222,
             "#7201a8"
            ],
            [
             0.3333333333333333,
             "#9c179e"
            ],
            [
             0.4444444444444444,
             "#bd3786"
            ],
            [
             0.5555555555555556,
             "#d8576b"
            ],
            [
             0.6666666666666666,
             "#ed7953"
            ],
            [
             0.7777777777777778,
             "#fb9f3a"
            ],
            [
             0.8888888888888888,
             "#fdca26"
            ],
            [
             1,
             "#f0f921"
            ]
           ],
           "sequentialminus": [
            [
             0,
             "#0d0887"
            ],
            [
             0.1111111111111111,
             "#46039f"
            ],
            [
             0.2222222222222222,
             "#7201a8"
            ],
            [
             0.3333333333333333,
             "#9c179e"
            ],
            [
             0.4444444444444444,
             "#bd3786"
            ],
            [
             0.5555555555555556,
             "#d8576b"
            ],
            [
             0.6666666666666666,
             "#ed7953"
            ],
            [
             0.7777777777777778,
             "#fb9f3a"
            ],
            [
             0.8888888888888888,
             "#fdca26"
            ],
            [
             1,
             "#f0f921"
            ]
           ]
          },
          "colorway": [
           "#636efa",
           "#EF553B",
           "#00cc96",
           "#ab63fa",
           "#FFA15A",
           "#19d3f3",
           "#FF6692",
           "#B6E880",
           "#FF97FF",
           "#FECB52"
          ],
          "font": {
           "color": "#2a3f5f"
          },
          "geo": {
           "bgcolor": "white",
           "lakecolor": "white",
           "landcolor": "#E5ECF6",
           "showlakes": true,
           "showland": true,
           "subunitcolor": "white"
          },
          "hoverlabel": {
           "align": "left"
          },
          "hovermode": "closest",
          "mapbox": {
           "style": "light"
          },
          "paper_bgcolor": "white",
          "plot_bgcolor": "#E5ECF6",
          "polar": {
           "angularaxis": {
            "gridcolor": "white",
            "linecolor": "white",
            "ticks": ""
           },
           "bgcolor": "#E5ECF6",
           "radialaxis": {
            "gridcolor": "white",
            "linecolor": "white",
            "ticks": ""
           }
          },
          "scene": {
           "xaxis": {
            "backgroundcolor": "#E5ECF6",
            "gridcolor": "white",
            "gridwidth": 2,
            "linecolor": "white",
            "showbackground": true,
            "ticks": "",
            "zerolinecolor": "white"
           },
           "yaxis": {
            "backgroundcolor": "#E5ECF6",
            "gridcolor": "white",
            "gridwidth": 2,
            "linecolor": "white",
            "showbackground": true,
            "ticks": "",
            "zerolinecolor": "white"
           },
           "zaxis": {
            "backgroundcolor": "#E5ECF6",
            "gridcolor": "white",
            "gridwidth": 2,
            "linecolor": "white",
            "showbackground": true,
            "ticks": "",
            "zerolinecolor": "white"
           }
          },
          "shapedefaults": {
           "line": {
            "color": "#2a3f5f"
           }
          },
          "ternary": {
           "aaxis": {
            "gridcolor": "white",
            "linecolor": "white",
            "ticks": ""
           },
           "baxis": {
            "gridcolor": "white",
            "linecolor": "white",
            "ticks": ""
           },
           "bgcolor": "#E5ECF6",
           "caxis": {
            "gridcolor": "white",
            "linecolor": "white",
            "ticks": ""
           }
          },
          "title": {
           "x": 0.05
          },
          "xaxis": {
           "automargin": true,
           "gridcolor": "white",
           "linecolor": "white",
           "ticks": "",
           "title": {
            "standoff": 15
           },
           "zerolinecolor": "white",
           "zerolinewidth": 2
          },
          "yaxis": {
           "automargin": true,
           "gridcolor": "white",
           "linecolor": "white",
           "ticks": "",
           "title": {
            "standoff": 15
           },
           "zerolinecolor": "white",
           "zerolinewidth": 2
          }
         }
        },
        "title": {
         "text": "How User Score Affect Sales for PS4"
        },
        "xaxis": {
         "anchor": "y",
         "domain": [
          0,
          1
         ],
         "title": {
          "text": "User Score"
         }
        },
        "yaxis": {
         "anchor": "x",
         "domain": [
          0,
          1
         ],
         "title": {
          "text": "Total Sales"
         }
        }
       }
      }
     },
     "metadata": {},
     "output_type": "display_data"
    }
   ],
   "source": [
    "ps_4_scatter_2 = px.scatter(ps_4_df, x='user_score', y='total_sales', labels={\"user_score\": \"User Score\", \"total_sales\": \"Total Sales\"}, title='How User Score Affect Sales for PS4')\n",
    "\n",
    "ps_4_scatter_2.show()"
   ]
  },
  {
   "cell_type": "markdown",
   "metadata": {},
   "source": [
    "1) Create a variable called x_list_1 that consists of the critic_score column of the x_360 dataframe.\n",
    "2) Create a variable called x_list_2 that consists of the total_sales column of the x_360 dataframe.\n",
    "3) Use the pearsonr() function to calculate the correlation between x_list_1 and x_list_2.  Save this code under the variable x_360_corr.\n",
    "4)Print x_360_corr"
   ]
  },
  {
   "cell_type": "code",
   "execution_count": 66,
   "metadata": {},
   "outputs": [
    {
     "data": {
      "text/plain": [
       "PearsonRResult(statistic=0.3253626120075883, pvalue=8.023861752089072e-19)"
      ]
     },
     "execution_count": 66,
     "metadata": {},
     "output_type": "execute_result"
    }
   ],
   "source": [
    "x_list_1 = ps_4_df['critic_score']\n",
    "x_list_2 = ps_4_df['total_sales']\n",
    "\n",
    "ps_4_corr = pearsonr(x_list_1, x_list_2)\n",
    "ps_4_corr"
   ]
  },
  {
   "cell_type": "markdown",
   "metadata": {},
   "source": [
    "1) Create a variable called xu_list_1 that consists of the user_score column of the x_360 dataframe.\n",
    "2) Create a variable called xu_list_2 that consists of the total_sales column of the x_360 dataframe.\n",
    "3) Use the pearsonr() function to calculate the correlation between xu_list_1 and xu_list_2.  Save this code under the variable x_360_corr_2.\n",
    "4)Print x_360_corr_2."
   ]
  },
  {
   "cell_type": "code",
   "execution_count": 67,
   "metadata": {},
   "outputs": [
    {
     "data": {
      "text/plain": [
       "PearsonRResult(statistic=0.005202258360087517, pvalue=0.8904086324923576)"
      ]
     },
     "execution_count": 67,
     "metadata": {},
     "output_type": "execute_result"
    }
   ],
   "source": [
    "xu_list_1 = ps_4_df['user_score']\n",
    "xu_list_2 = ps_4_df['total_sales']\n",
    "\n",
    "ps_4_corr_2 = pearsonr(xu_list_1, xu_list_2)\n",
    "ps_4_corr_2"
   ]
  },
  {
   "cell_type": "markdown",
   "metadata": {},
   "source": [
    "# Scatterplot for Other Platforms\n",
    "\n",
    "Question/ Task Being Addressed:\n",
    "Keeping your conclusions in mind, compare the sales of the same games on other platforms.\n",
    "\n",
    "Answer:\n"
   ]
  },
  {
   "cell_type": "code",
   "execution_count": 69,
   "metadata": {},
   "outputs": [
    {
     "data": {
      "text/html": [
       "<div>\n",
       "<style scoped>\n",
       "    .dataframe tbody tr th:only-of-type {\n",
       "        vertical-align: middle;\n",
       "    }\n",
       "\n",
       "    .dataframe tbody tr th {\n",
       "        vertical-align: top;\n",
       "    }\n",
       "\n",
       "    .dataframe thead th {\n",
       "        text-align: right;\n",
       "    }\n",
       "</style>\n",
       "<table border=\"1\" class=\"dataframe\">\n",
       "  <thead>\n",
       "    <tr style=\"text-align: right;\">\n",
       "      <th></th>\n",
       "      <th>name</th>\n",
       "      <th>platform</th>\n",
       "      <th>year_of_release</th>\n",
       "      <th>genre</th>\n",
       "      <th>na_sales</th>\n",
       "      <th>eu_sales</th>\n",
       "      <th>jp_sales</th>\n",
       "      <th>other_sales</th>\n",
       "      <th>critic_score</th>\n",
       "      <th>user_score</th>\n",
       "      <th>rating</th>\n",
       "      <th>total_sales</th>\n",
       "    </tr>\n",
       "  </thead>\n",
       "  <tbody>\n",
       "    <tr>\n",
       "      <th>42</th>\n",
       "      <td>Grand Theft Auto V</td>\n",
       "      <td>PS4</td>\n",
       "      <td>2014</td>\n",
       "      <td>Action</td>\n",
       "      <td>3.96</td>\n",
       "      <td>6.31</td>\n",
       "      <td>0.38</td>\n",
       "      <td>1.97</td>\n",
       "      <td>97.0</td>\n",
       "      <td>8.3</td>\n",
       "      <td>M</td>\n",
       "      <td>12.62</td>\n",
       "    </tr>\n",
       "    <tr>\n",
       "      <th>77</th>\n",
       "      <td>FIFA 16</td>\n",
       "      <td>PS4</td>\n",
       "      <td>2015</td>\n",
       "      <td>Sports</td>\n",
       "      <td>1.12</td>\n",
       "      <td>6.12</td>\n",
       "      <td>0.06</td>\n",
       "      <td>1.28</td>\n",
       "      <td>82.0</td>\n",
       "      <td>4.3</td>\n",
       "      <td>E</td>\n",
       "      <td>8.58</td>\n",
       "    </tr>\n",
       "    <tr>\n",
       "      <th>92</th>\n",
       "      <td>Call of Duty: Advanced Warfare</td>\n",
       "      <td>PS4</td>\n",
       "      <td>2014</td>\n",
       "      <td>Shooter</td>\n",
       "      <td>2.81</td>\n",
       "      <td>3.48</td>\n",
       "      <td>0.14</td>\n",
       "      <td>1.23</td>\n",
       "      <td>83.0</td>\n",
       "      <td>5.7</td>\n",
       "      <td>M</td>\n",
       "      <td>7.66</td>\n",
       "    </tr>\n",
       "    <tr>\n",
       "      <th>94</th>\n",
       "      <td>FIFA 17</td>\n",
       "      <td>PS4</td>\n",
       "      <td>2016</td>\n",
       "      <td>Sports</td>\n",
       "      <td>0.66</td>\n",
       "      <td>5.75</td>\n",
       "      <td>0.08</td>\n",
       "      <td>1.11</td>\n",
       "      <td>85.0</td>\n",
       "      <td>5.0</td>\n",
       "      <td>E</td>\n",
       "      <td>7.60</td>\n",
       "    </tr>\n",
       "    <tr>\n",
       "      <th>105</th>\n",
       "      <td>Fallout 4</td>\n",
       "      <td>PS4</td>\n",
       "      <td>2015</td>\n",
       "      <td>Role-Playing</td>\n",
       "      <td>2.53</td>\n",
       "      <td>3.27</td>\n",
       "      <td>0.24</td>\n",
       "      <td>1.13</td>\n",
       "      <td>87.0</td>\n",
       "      <td>6.5</td>\n",
       "      <td>M</td>\n",
       "      <td>7.17</td>\n",
       "    </tr>\n",
       "  </tbody>\n",
       "</table>\n",
       "</div>"
      ],
      "text/plain": [
       "                               name platform  year_of_release         genre  \\\n",
       "42               Grand Theft Auto V      PS4             2014        Action   \n",
       "77                          FIFA 16      PS4             2015        Sports   \n",
       "92   Call of Duty: Advanced Warfare      PS4             2014       Shooter   \n",
       "94                          FIFA 17      PS4             2016        Sports   \n",
       "105                       Fallout 4      PS4             2015  Role-Playing   \n",
       "\n",
       "     na_sales  eu_sales  jp_sales  other_sales  critic_score  user_score  \\\n",
       "42       3.96      6.31      0.38         1.97          97.0         8.3   \n",
       "77       1.12      6.12      0.06         1.28          82.0         4.3   \n",
       "92       2.81      3.48      0.14         1.23          83.0         5.7   \n",
       "94       0.66      5.75      0.08         1.11          85.0         5.0   \n",
       "105      2.53      3.27      0.24         1.13          87.0         6.5   \n",
       "\n",
       "    rating  total_sales  \n",
       "42       M        12.62  \n",
       "77       E         8.58  \n",
       "92       M         7.66  \n",
       "94       E         7.60  \n",
       "105      M         7.17  "
      ]
     },
     "execution_count": 69,
     "metadata": {},
     "output_type": "execute_result"
    }
   ],
   "source": [
    "other_list = [2014, 2015, 2016]\n",
    "other_d = df['year_of_release'].isin(other_list)\n",
    "other_df = df[other_d]\n",
    "\n",
    "other_df.head()"
   ]
  },
  {
   "cell_type": "code",
   "execution_count": 71,
   "metadata": {},
   "outputs": [
    {
     "data": {
      "application/vnd.plotly.v1+json": {
       "config": {
        "plotlyServerURL": "https://plot.ly"
       },
       "data": [
        {
         "alignmentgroup": "True",
         "boxpoints": false,
         "hovertemplate": "Platform=%{x}<br>Total Sales=%{y}<extra></extra>",
         "legendgroup": "",
         "marker": {
          "color": "#636efa"
         },
         "name": "",
         "notched": false,
         "offsetgroup": "",
         "orientation": "v",
         "showlegend": false,
         "type": "box",
         "x": [
          "PS4",
          "PS4",
          "PS4",
          "PS4",
          "PS4",
          "WiiU",
          "PS4",
          "PS4",
          "XOne",
          "PS4",
          "XOne",
          "PS4",
          "XOne",
          "PS4",
          "WiiU",
          "XOne",
          "PS4",
          "PS4",
          "PS4",
          "PS4",
          "PS4",
          "PS4",
          "3DS",
          "PS4",
          "PS4",
          "XOne",
          "PS4",
          "PS4",
          "XOne",
          "XOne",
          "XOne",
          "PS4",
          "XOne",
          "WiiU",
          "3DS",
          "PC",
          "PS4",
          "XOne",
          "PS4",
          "PS4",
          "XOne",
          "PS4",
          "PS4",
          "XOne",
          "XOne",
          "3DS",
          "XOne",
          "PS4",
          "XOne",
          "PS4",
          "PS4",
          "XOne",
          "XOne",
          "PS4",
          "PS4",
          "PS4",
          "PS4",
          "PS4",
          "PS4",
          "PS4",
          "PS4",
          "PS4",
          "3DS",
          "PS4",
          "XOne",
          "PS4",
          "PS4",
          "PS4",
          "PS4",
          "XOne",
          "PS4",
          "PS4",
          "PS4",
          "XOne",
          "WiiU",
          "XOne",
          "XOne",
          "PS4",
          "WiiU",
          "XOne",
          "XOne",
          "3DS",
          "XOne",
          "XOne",
          "X360",
          "XOne",
          "XOne",
          "XOne",
          "XOne",
          "WiiU",
          "XOne",
          "XOne",
          "PC",
          "PS3",
          "XOne",
          "X360",
          "PS3",
          "PS4",
          "3DS",
          "XOne",
          "WiiU",
          "PS4",
          "XOne",
          "WiiU",
          "XOne",
          "PC",
          "PS4",
          "XOne",
          "PS4",
          "PS4",
          "PS4",
          "3DS",
          "PS4",
          "PS4",
          "XOne",
          "X360",
          "XOne",
          "PS4",
          "WiiU",
          "XOne",
          "X360",
          "PS4",
          "WiiU",
          "PS4",
          "PS4",
          "XOne",
          "3DS",
          "PS4",
          "PS3",
          "PS4",
          "PS3",
          "X360",
          "PS4",
          "XOne",
          "PS4",
          "PC",
          "XOne",
          "PS4",
          "PS4",
          "WiiU",
          "PS4",
          "XOne",
          "PS3",
          "WiiU",
          "PS4",
          "XOne",
          "PS4",
          "X360",
          "PC",
          "PS4",
          "WiiU",
          "PS4",
          "3DS",
          "PS4",
          "X360",
          "PC",
          "PS4",
          "WiiU",
          "PS4",
          "XOne",
          "PS4",
          "XOne",
          "XOne",
          "PS4",
          "PS4",
          "XOne",
          "PSV",
          "PC",
          "PSV",
          "WiiU",
          "X360",
          "PS4",
          "XOne",
          "XOne",
          "PC",
          "PS4",
          "XOne",
          "PS3",
          "PS4",
          "PS3",
          "XOne",
          "PS4",
          "PS4",
          "PS4",
          "XOne",
          "PS3",
          "XOne",
          "XOne",
          "WiiU",
          "PC",
          "XOne",
          "XOne",
          "PS4",
          "PC",
          "3DS",
          "WiiU",
          "XOne",
          "XOne",
          "PC",
          "PC",
          "WiiU",
          "PS4",
          "PS4",
          "WiiU",
          "XOne",
          "PS4",
          "3DS",
          "3DS",
          "WiiU",
          "XOne",
          "3DS",
          "XOne",
          "XOne",
          "PC",
          "XOne",
          "PS4",
          "PC",
          "X360",
          "PS4",
          "PC",
          "PC",
          "WiiU",
          "PS4",
          "XOne",
          "PS3",
          "XOne",
          "PS3",
          "PS4",
          "X360",
          "PS4",
          "3DS",
          "WiiU",
          "WiiU",
          "XOne",
          "PS4",
          "XOne",
          "XOne",
          "PC",
          "PS3",
          "PC",
          "PS4",
          "PS4",
          "XOne",
          "PS4",
          "PS4",
          "PS4",
          "PC",
          "PS4",
          "WiiU",
          "PS4",
          "3DS",
          "PS4",
          "PS4",
          "PC",
          "WiiU",
          "PSV",
          "PS4",
          "3DS",
          "XOne",
          "PC",
          "PS4",
          "PS4",
          "PC",
          "XOne",
          "PS4",
          "XOne",
          "PS4",
          "XOne",
          "PS4",
          "PS4",
          "3DS",
          "3DS",
          "XOne",
          "XOne",
          "PC",
          "PSV",
          "PSV",
          "PS4",
          "WiiU",
          "PS4",
          "PS4",
          "PS3",
          "3DS",
          "XOne",
          "PS4",
          "PSV",
          "XOne",
          "PS4",
          "PS4",
          "PC",
          "3DS",
          "XOne",
          "PS4",
          "PC",
          "WiiU",
          "PS3",
          "PC",
          "XOne",
          "XOne",
          "3DS",
          "PS4",
          "PS4",
          "XOne",
          "XOne",
          "PS4",
          "3DS",
          "PS4",
          "PC",
          "PS3",
          "PC",
          "PS4",
          "XOne",
          "3DS",
          "XOne",
          "PS4",
          "XOne",
          "PS4",
          "PC",
          "XOne",
          "3DS",
          "XOne",
          "WiiU",
          "PS4",
          "PC",
          "PC",
          "PS4",
          "PSV",
          "X360",
          "PSV",
          "PS4",
          "PC",
          "XOne",
          "XOne",
          "3DS",
          "X360",
          "3DS",
          "3DS",
          "PC",
          "PSV",
          "PSV",
          "PS4",
          "XOne",
          "PSV",
          "3DS",
          "PS4",
          "PS4",
          "PSV",
          "PS4",
          "PC",
          "XOne",
          "PS4",
          "PC",
          "PS3",
          "PS4",
          "3DS",
          "PC",
          "WiiU",
          "PS4",
          "PC",
          "PC",
          "PSV",
          "PS4",
          "XOne",
          "PS4",
          "XOne",
          "PS3",
          "PS4",
          "PSV",
          "PS4",
          "PSV",
          "PS3",
          "PS4",
          "PS4",
          "PC",
          "XOne",
          "PS4",
          "PSV",
          "XOne",
          "PS4",
          "PSV",
          "X360",
          "PSV",
          "3DS",
          "PC",
          "PS3",
          "XOne",
          "3DS",
          "XOne",
          "PC",
          "XOne",
          "PS3",
          "PC",
          "XOne",
          "XOne",
          "PSV",
          "XOne",
          "PS4",
          "PSV",
          "PS4",
          "PS3",
          "WiiU",
          "XOne",
          "PS4",
          "PC",
          "PC",
          "PS4",
          "PS4",
          "XOne",
          "PC",
          "3DS",
          "PSV",
          "XOne",
          "PS4",
          "PSV",
          "XOne",
          "PS4",
          "PC",
          "PS4",
          "PS3",
          "PC",
          "XOne",
          "PS4",
          "PSV",
          "PC",
          "PC",
          "PS4",
          "WiiU",
          "PSV",
          "PSV",
          "PSV",
          "PC",
          "XOne",
          "PS4",
          "PS4",
          "PS4",
          "PC",
          "PSV",
          "PC",
          "XOne",
          "WiiU",
          "PS4",
          "PC",
          "PC",
          "PS3",
          "PS4",
          "3DS",
          "PSV",
          "WiiU",
          "PS4",
          "PSV",
          "PSV",
          "XOne",
          "PS4",
          "XOne",
          "XOne",
          "PS4",
          "PS3",
          "XOne",
          "PSV",
          "PSV",
          "X360",
          "PS3",
          "PC",
          "XOne",
          "PC",
          "PSV",
          "XOne",
          "PS4",
          "PS4",
          "PS4",
          "PS4",
          "PC",
          "WiiU",
          "PSV",
          "PS4",
          "XOne",
          "PSV",
          "PS3",
          "PS4",
          "PSV",
          "PC",
          "PS3",
          "PS3",
          "X360",
          "3DS",
          "PS4",
          "PS4",
          "PC",
          "X360",
          "3DS",
          "PC",
          "XOne",
          "PS4",
          "PS4",
          "WiiU",
          "PS4",
          "PS4",
          "PS4",
          "PC",
          "PS4",
          "3DS",
          "PS3",
          "PC",
          "X360",
          "PSV",
          "PS4",
          "PC",
          "PS4",
          "XOne",
          "PC",
          "PS4",
          "3DS",
          "3DS",
          "PS4",
          "PS3",
          "PS3",
          "PS4",
          "PS4",
          "PC",
          "PS4",
          "X360",
          "PSV",
          "PSV",
          "PSV",
          "XOne",
          "PS4",
          "PS4",
          "PSV",
          "X360",
          "PS4",
          "PSV",
          "PS4",
          "X360",
          "PSV",
          "WiiU",
          "3DS",
          "PC",
          "PS4",
          "XOne",
          "XOne",
          "PC",
          "PSV",
          "PS4",
          "PC",
          "X360",
          "PSV",
          "PS4",
          "PS4",
          "XOne",
          "WiiU",
          "3DS",
          "X360",
          "XOne",
          "PSV",
          "PC",
          "PS4",
          "X360",
          "PS4",
          "PS3",
          "PC",
          "XOne",
          "PC",
          "PS3",
          "PC",
          "PS4",
          "PS4",
          "XOne",
          "PC",
          "PS4",
          "PC",
          "XOne",
          "X360",
          "XOne",
          "PS4",
          "3DS",
          "PS4",
          "PC",
          "PS4",
          "PC",
          "PS4",
          "PS4",
          "XOne",
          "XOne",
          "X360",
          "PS4",
          "PSV",
          "XOne",
          "PS4",
          "PC",
          "PS4",
          "PC",
          "XOne",
          "X360",
          "3DS",
          "PS4",
          "XOne",
          "PS4",
          "3DS",
          "3DS",
          "PS4",
          "PC",
          "PS4",
          "XOne",
          "PS4",
          "PC",
          "PC",
          "PS4",
          "PS4",
          "PSV",
          "PC",
          "PC",
          "XOne",
          "PSV",
          "PC",
          "PS4",
          "PS4",
          "PS4",
          "PS4",
          "PC",
          "PC",
          "PC",
          "PC",
          "PS4",
          "PC",
          "XOne",
          "PS4",
          "XOne",
          "PC",
          "WiiU",
          "PSV",
          "PS4",
          "PC",
          "PC",
          "PS3",
          "PS4",
          "XOne",
          "PS4",
          "PS4",
          "PS4",
          "PS4",
          "PC",
          "PC",
          "PS4",
          "PS4",
          "PS4",
          "PSV",
          "3DS",
          "PS4",
          "PC",
          "PS4",
          "PC",
          "PC",
          "PS3",
          "PS3",
          "XOne",
          "PC",
          "PS4",
          "PC",
          "PC",
          "PSV",
          "3DS",
          "XOne",
          "XOne",
          "PC",
          "PC",
          "PS4",
          "PS4",
          "PC",
          "XOne",
          "PC",
          "XOne",
          "PC",
          "PS4",
          "PC",
          "PS4",
          "3DS",
          "PS3",
          "PC",
          "XOne",
          "PC",
          "PSV",
          "XOne",
          "PC",
          "XOne",
          "XOne",
          "PC",
          "XOne",
          "WiiU",
          "WiiU",
          "PC",
          "PC",
          "PC",
          "PS4",
          "PS4",
          "PS4",
          "PC",
          "WiiU",
          "PS4",
          "PS4",
          "XOne",
          "XOne",
          "WiiU",
          "XOne",
          "PC"
         ],
         "x0": " ",
         "xaxis": "x",
         "y": [
          12.620000000000001,
          8.58,
          7.66,
          7.6000000000000005,
          7.17,
          7.09,
          6.08,
          5.640000000000001,
          5.47,
          5.39,
          5.26,
          4.62,
          4.49,
          4.470000000000001,
          4.4399999999999995,
          4.22,
          4.07,
          4.05,
          4.04,
          3.9699999999999998,
          3.96,
          3.96,
          3.89,
          3.87,
          3.8,
          3.5,
          3.4200000000000004,
          3.3899999999999997,
          3.37,
          3.28,
          3.25,
          3.2399999999999998,
          3.23,
          3.21,
          3.05,
          3.0500000000000003,
          2.96,
          2.95,
          2.7899999999999996,
          2.78,
          2.65,
          2.48,
          2.4499999999999997,
          2.4200000000000004,
          2.42,
          2.34,
          2.34,
          2.2600000000000002,
          2.25,
          2.21,
          2.19,
          2.18,
          2.1700000000000004,
          2.14,
          2.11,
          2.09,
          2.07,
          2.01,
          1.9200000000000002,
          1.9100000000000001,
          1.8800000000000001,
          1.85,
          1.83,
          1.81,
          1.7999999999999998,
          1.7900000000000003,
          1.74,
          1.7200000000000002,
          1.7200000000000002,
          1.73,
          1.6900000000000002,
          1.6600000000000001,
          1.6600000000000001,
          1.6400000000000001,
          1.58,
          1.5700000000000003,
          1.56,
          1.54,
          1.5299999999999998,
          1.4900000000000002,
          1.4000000000000001,
          1.3800000000000001,
          1.38,
          1.3800000000000001,
          1.3599999999999999,
          1.3599999999999999,
          1.3399999999999999,
          1.3399999999999999,
          1.3,
          1.3,
          1.2900000000000003,
          1.29,
          1.2800000000000002,
          1.28,
          1.2800000000000002,
          1.27,
          1.2799999999999998,
          1.2699999999999998,
          1.25,
          1.23,
          1.23,
          1.21,
          1.21,
          1.1900000000000002,
          1.2000000000000002,
          1.1700000000000002,
          1.15,
          1.1300000000000001,
          1.14,
          1.13,
          1.1199999999999999,
          1.11,
          1.1,
          1.0799999999999998,
          1.08,
          1.07,
          1.06,
          1.05,
          1.03,
          1.03,
          1.01,
          1.02,
          1.01,
          0.9700000000000001,
          0.93,
          0.93,
          0.93,
          0.92,
          0.93,
          0.93,
          0.93,
          0.9299999999999999,
          0.9,
          0.91,
          0.9,
          0.9000000000000001,
          0.88,
          0.88,
          0.86,
          0.8400000000000001,
          0.78,
          0.79,
          0.7799999999999999,
          0.76,
          0.7600000000000001,
          0.75,
          0.75,
          0.74,
          0.73,
          0.73,
          0.73,
          0.73,
          0.7200000000000001,
          0.72,
          0.73,
          0.7200000000000001,
          0.7,
          0.7,
          0.71,
          0.6799999999999999,
          0.6900000000000001,
          0.6800000000000002,
          0.6599999999999999,
          0.67,
          0.67,
          0.6599999999999999,
          0.65,
          0.65,
          0.64,
          0.6400000000000001,
          0.6400000000000001,
          0.64,
          0.6400000000000001,
          0.6300000000000001,
          0.63,
          0.63,
          0.6200000000000001,
          0.61,
          0.61,
          0.62,
          0.6000000000000001,
          0.6,
          0.6,
          0.6,
          0.5900000000000001,
          0.5800000000000001,
          0.5700000000000001,
          0.5700000000000001,
          0.5700000000000001,
          0.56,
          0.56,
          0.55,
          0.54,
          0.55,
          0.53,
          0.53,
          0.53,
          0.53,
          0.53,
          0.52,
          0.52,
          0.51,
          0.52,
          0.51,
          0.49999999999999994,
          0.49000000000000005,
          0.49,
          0.48,
          0.48,
          0.4799999999999999,
          0.4800000000000001,
          0.48,
          0.47,
          0.47,
          0.45999999999999996,
          0.47000000000000003,
          0.47,
          0.45,
          0.45,
          0.44999999999999996,
          0.44000000000000006,
          0.44000000000000006,
          0.44,
          0.43,
          0.44,
          0.44,
          0.43,
          0.43,
          0.43000000000000005,
          0.43,
          0.42000000000000004,
          0.42000000000000004,
          0.42000000000000004,
          0.42,
          0.42,
          0.41,
          0.41,
          0.41,
          0.41000000000000003,
          0.41000000000000003,
          0.4,
          0.38999999999999996,
          0.38999999999999996,
          0.39999999999999997,
          0.39,
          0.38,
          0.38,
          0.38,
          0.38,
          0.37000000000000005,
          0.38,
          0.36000000000000004,
          0.36,
          0.36,
          0.37,
          0.36,
          0.36000000000000004,
          0.36,
          0.36,
          0.35,
          0.35000000000000003,
          0.36,
          0.35000000000000003,
          0.33999999999999997,
          0.34,
          0.33999999999999997,
          0.34,
          0.33999999999999997,
          0.34,
          0.33,
          0.33,
          0.32000000000000006,
          0.31999999999999995,
          0.31999999999999995,
          0.32000000000000006,
          0.33,
          0.32,
          0.32,
          0.31000000000000005,
          0.32,
          0.3,
          0.3,
          0.31000000000000005,
          0.31000000000000005,
          0.31,
          0.3,
          0.29000000000000004,
          0.3,
          0.3,
          0.28,
          0.29000000000000004,
          0.28,
          0.29,
          0.29000000000000004,
          0.27,
          0.29,
          0.28,
          0.27,
          0.27,
          0.26,
          0.27,
          0.26,
          0.26,
          0.26,
          0.26,
          0.25,
          0.26,
          0.26,
          0.25,
          0.24,
          0.25,
          0.24999999999999997,
          0.24000000000000002,
          0.24,
          0.25,
          0.24000000000000002,
          0.24000000000000002,
          0.24,
          0.24000000000000002,
          0.24,
          0.24000000000000002,
          0.24,
          0.24000000000000002,
          0.22999999999999998,
          0.23,
          0.23,
          0.22000000000000003,
          0.23,
          0.22,
          0.23,
          0.22,
          0.22,
          0.22,
          0.21000000000000002,
          0.22,
          0.22,
          0.21,
          0.22,
          0.21,
          0.21,
          0.21000000000000002,
          0.21,
          0.21000000000000002,
          0.21,
          0.19999999999999998,
          0.2,
          0.2,
          0.19999999999999998,
          0.2,
          0.19999999999999998,
          0.2,
          0.19999999999999998,
          0.19999999999999998,
          0.19999999999999998,
          0.18000000000000002,
          0.19999999999999998,
          0.18999999999999997,
          0.19,
          0.18000000000000002,
          0.19999999999999998,
          0.18000000000000002,
          0.19,
          0.18,
          0.19999999999999998,
          0.18,
          0.18,
          0.18,
          0.18,
          0.18,
          0.16999999999999998,
          0.18000000000000002,
          0.18,
          0.17,
          0.17,
          0.18,
          0.16,
          0.17,
          0.16,
          0.16999999999999998,
          0.17,
          0.16999999999999998,
          0.17,
          0.16,
          0.16,
          0.15000000000000002,
          0.16,
          0.16000000000000003,
          0.16000000000000003,
          0.16,
          0.15000000000000002,
          0.16,
          0.16000000000000003,
          0.15000000000000002,
          0.15000000000000002,
          0.15,
          0.15000000000000002,
          0.15,
          0.15000000000000002,
          0.13999999999999999,
          0.16,
          0.15000000000000002,
          0.14,
          0.14,
          0.15000000000000002,
          0.15000000000000002,
          0.13999999999999999,
          0.13999999999999999,
          0.14,
          0.14,
          0.15,
          0.14,
          0.14,
          0.13999999999999999,
          0.14,
          0.14,
          0.13,
          0.14,
          0.13,
          0.13,
          0.13,
          0.13,
          0.12000000000000001,
          0.13,
          0.13,
          0.13,
          0.13,
          0.13,
          0.12000000000000001,
          0.13,
          0.13,
          0.13,
          0.13,
          0.12,
          0.12,
          0.11,
          0.12,
          0.11,
          0.12000000000000001,
          0.12,
          0.12,
          0.12,
          0.12,
          0.12,
          0.12,
          0.12000000000000001,
          0.11,
          0.11,
          0.11,
          0.12000000000000001,
          0.11,
          0.11,
          0.11,
          0.11,
          0.10999999999999999,
          0.11,
          0.09999999999999999,
          0.11,
          0.11,
          0.11,
          0.11,
          0.09999999999999999,
          0.11,
          0.09999999999999999,
          0.09999999999999999,
          0.11,
          0.11,
          0.1,
          0.09,
          0.1,
          0.09,
          0.1,
          0.09999999999999999,
          0.09999999999999999,
          0.09,
          0.09999999999999999,
          0.09999999999999999,
          0.09000000000000001,
          0.1,
          0.09000000000000001,
          0.09,
          0.09999999999999999,
          0.1,
          0.1,
          0.09,
          0.09,
          0.09,
          0.09,
          0.08,
          0.09,
          0.09,
          0.08,
          0.09,
          0.08,
          0.08,
          0.09,
          0.08,
          0.08,
          0.06999999999999999,
          0.09,
          0.09000000000000001,
          0.07,
          0.08,
          0.08,
          0.07999999999999999,
          0.08,
          0.06999999999999999,
          0.08,
          0.06999999999999999,
          0.08,
          0.07,
          0.07,
          0.08,
          0.08,
          0.08,
          0.07,
          0.08,
          0.06999999999999999,
          0.07,
          0.07,
          0.06999999999999999,
          0.08,
          0.06999999999999999,
          0.06999999999999999,
          0.06999999999999999,
          0.06999999999999999,
          0.07,
          0.06999999999999999,
          0.07,
          0.060000000000000005,
          0.07,
          0.06999999999999999,
          0.06999999999999999,
          0.06,
          0.06,
          0.06,
          0.06,
          0.060000000000000005,
          0.060000000000000005,
          0.060000000000000005,
          0.06,
          0.06,
          0.060000000000000005,
          0.060000000000000005,
          0.06,
          0.060000000000000005,
          0.06999999999999999,
          0.060000000000000005,
          0.06999999999999999,
          0.060000000000000005,
          0.06999999999999999,
          0.06,
          0.05,
          0.060000000000000005,
          0.060000000000000005,
          0.05,
          0.060000000000000005,
          0.05,
          0.060000000000000005,
          0.060000000000000005,
          0.05,
          0.05,
          0.05,
          0.060000000000000005,
          0.05,
          0.05,
          0.05,
          0.05,
          0.05,
          0.05,
          0.05,
          0.05,
          0.05,
          0.060000000000000005,
          0.05,
          0.04,
          0.04,
          0.05,
          0.05,
          0.04,
          0.05,
          0.05,
          0.04,
          0.04,
          0.04,
          0.05,
          0.05,
          0.04,
          0.05,
          0.05,
          0.05,
          0.04,
          0.04,
          0.04,
          0.04,
          0.04,
          0.04,
          0.03,
          0.03,
          0.03,
          0.05,
          0.04,
          0.04,
          0.04,
          0.04,
          0.04,
          0.04,
          0.04,
          0.04,
          0.04,
          0.03,
          0.03,
          0.03,
          0.03,
          0.03,
          0.03,
          0.03,
          0.04,
          0.03,
          0.03,
          0.03,
          0.03,
          0.03,
          0.03,
          0.03,
          0.03,
          0.03,
          0.03,
          0.03,
          0.03,
          0.03,
          0.02,
          0.03,
          0.03,
          0.03,
          0.02,
          0.02,
          0.02,
          0.02,
          0.02,
          0.02,
          0.02,
          0.02,
          0.02,
          0.02,
          0.02,
          0.02,
          0.02,
          0.02,
          0.02,
          0.02,
          0.02,
          0.02,
          0.02,
          0.02,
          0.02,
          0.02,
          0.02,
          0.02,
          0.02,
          0.02,
          0.02,
          0.02,
          0.02,
          0.02,
          0.02,
          0.01,
          0.01,
          0.02,
          0.02,
          0.01,
          0.01,
          0.01,
          0.02,
          0.01,
          0.01,
          0.01,
          0.01,
          0.01,
          0.01,
          0.01,
          0.01,
          0.01,
          0.01,
          0.01,
          0.01,
          0.01,
          0.01,
          0.01,
          0.01,
          0.01,
          0.01,
          0.01,
          0.01,
          0.01,
          0.01,
          0.01,
          0.01,
          0.01,
          0.01,
          0.01,
          0.01,
          0.01,
          0.01,
          0.01
         ],
         "y0": " ",
         "yaxis": "y"
        }
       ],
       "layout": {
        "boxmode": "group",
        "legend": {
         "tracegroupgap": 0
        },
        "margin": {
         "t": 60
        },
        "template": {
         "data": {
          "bar": [
           {
            "error_x": {
             "color": "#2a3f5f"
            },
            "error_y": {
             "color": "#2a3f5f"
            },
            "marker": {
             "line": {
              "color": "#E5ECF6",
              "width": 0.5
             },
             "pattern": {
              "fillmode": "overlay",
              "size": 10,
              "solidity": 0.2
             }
            },
            "type": "bar"
           }
          ],
          "barpolar": [
           {
            "marker": {
             "line": {
              "color": "#E5ECF6",
              "width": 0.5
             },
             "pattern": {
              "fillmode": "overlay",
              "size": 10,
              "solidity": 0.2
             }
            },
            "type": "barpolar"
           }
          ],
          "carpet": [
           {
            "aaxis": {
             "endlinecolor": "#2a3f5f",
             "gridcolor": "white",
             "linecolor": "white",
             "minorgridcolor": "white",
             "startlinecolor": "#2a3f5f"
            },
            "baxis": {
             "endlinecolor": "#2a3f5f",
             "gridcolor": "white",
             "linecolor": "white",
             "minorgridcolor": "white",
             "startlinecolor": "#2a3f5f"
            },
            "type": "carpet"
           }
          ],
          "choropleth": [
           {
            "colorbar": {
             "outlinewidth": 0,
             "ticks": ""
            },
            "type": "choropleth"
           }
          ],
          "contour": [
           {
            "colorbar": {
             "outlinewidth": 0,
             "ticks": ""
            },
            "colorscale": [
             [
              0,
              "#0d0887"
             ],
             [
              0.1111111111111111,
              "#46039f"
             ],
             [
              0.2222222222222222,
              "#7201a8"
             ],
             [
              0.3333333333333333,
              "#9c179e"
             ],
             [
              0.4444444444444444,
              "#bd3786"
             ],
             [
              0.5555555555555556,
              "#d8576b"
             ],
             [
              0.6666666666666666,
              "#ed7953"
             ],
             [
              0.7777777777777778,
              "#fb9f3a"
             ],
             [
              0.8888888888888888,
              "#fdca26"
             ],
             [
              1,
              "#f0f921"
             ]
            ],
            "type": "contour"
           }
          ],
          "contourcarpet": [
           {
            "colorbar": {
             "outlinewidth": 0,
             "ticks": ""
            },
            "type": "contourcarpet"
           }
          ],
          "heatmap": [
           {
            "colorbar": {
             "outlinewidth": 0,
             "ticks": ""
            },
            "colorscale": [
             [
              0,
              "#0d0887"
             ],
             [
              0.1111111111111111,
              "#46039f"
             ],
             [
              0.2222222222222222,
              "#7201a8"
             ],
             [
              0.3333333333333333,
              "#9c179e"
             ],
             [
              0.4444444444444444,
              "#bd3786"
             ],
             [
              0.5555555555555556,
              "#d8576b"
             ],
             [
              0.6666666666666666,
              "#ed7953"
             ],
             [
              0.7777777777777778,
              "#fb9f3a"
             ],
             [
              0.8888888888888888,
              "#fdca26"
             ],
             [
              1,
              "#f0f921"
             ]
            ],
            "type": "heatmap"
           }
          ],
          "heatmapgl": [
           {
            "colorbar": {
             "outlinewidth": 0,
             "ticks": ""
            },
            "colorscale": [
             [
              0,
              "#0d0887"
             ],
             [
              0.1111111111111111,
              "#46039f"
             ],
             [
              0.2222222222222222,
              "#7201a8"
             ],
             [
              0.3333333333333333,
              "#9c179e"
             ],
             [
              0.4444444444444444,
              "#bd3786"
             ],
             [
              0.5555555555555556,
              "#d8576b"
             ],
             [
              0.6666666666666666,
              "#ed7953"
             ],
             [
              0.7777777777777778,
              "#fb9f3a"
             ],
             [
              0.8888888888888888,
              "#fdca26"
             ],
             [
              1,
              "#f0f921"
             ]
            ],
            "type": "heatmapgl"
           }
          ],
          "histogram": [
           {
            "marker": {
             "pattern": {
              "fillmode": "overlay",
              "size": 10,
              "solidity": 0.2
             }
            },
            "type": "histogram"
           }
          ],
          "histogram2d": [
           {
            "colorbar": {
             "outlinewidth": 0,
             "ticks": ""
            },
            "colorscale": [
             [
              0,
              "#0d0887"
             ],
             [
              0.1111111111111111,
              "#46039f"
             ],
             [
              0.2222222222222222,
              "#7201a8"
             ],
             [
              0.3333333333333333,
              "#9c179e"
             ],
             [
              0.4444444444444444,
              "#bd3786"
             ],
             [
              0.5555555555555556,
              "#d8576b"
             ],
             [
              0.6666666666666666,
              "#ed7953"
             ],
             [
              0.7777777777777778,
              "#fb9f3a"
             ],
             [
              0.8888888888888888,
              "#fdca26"
             ],
             [
              1,
              "#f0f921"
             ]
            ],
            "type": "histogram2d"
           }
          ],
          "histogram2dcontour": [
           {
            "colorbar": {
             "outlinewidth": 0,
             "ticks": ""
            },
            "colorscale": [
             [
              0,
              "#0d0887"
             ],
             [
              0.1111111111111111,
              "#46039f"
             ],
             [
              0.2222222222222222,
              "#7201a8"
             ],
             [
              0.3333333333333333,
              "#9c179e"
             ],
             [
              0.4444444444444444,
              "#bd3786"
             ],
             [
              0.5555555555555556,
              "#d8576b"
             ],
             [
              0.6666666666666666,
              "#ed7953"
             ],
             [
              0.7777777777777778,
              "#fb9f3a"
             ],
             [
              0.8888888888888888,
              "#fdca26"
             ],
             [
              1,
              "#f0f921"
             ]
            ],
            "type": "histogram2dcontour"
           }
          ],
          "mesh3d": [
           {
            "colorbar": {
             "outlinewidth": 0,
             "ticks": ""
            },
            "type": "mesh3d"
           }
          ],
          "parcoords": [
           {
            "line": {
             "colorbar": {
              "outlinewidth": 0,
              "ticks": ""
             }
            },
            "type": "parcoords"
           }
          ],
          "pie": [
           {
            "automargin": true,
            "type": "pie"
           }
          ],
          "scatter": [
           {
            "fillpattern": {
             "fillmode": "overlay",
             "size": 10,
             "solidity": 0.2
            },
            "type": "scatter"
           }
          ],
          "scatter3d": [
           {
            "line": {
             "colorbar": {
              "outlinewidth": 0,
              "ticks": ""
             }
            },
            "marker": {
             "colorbar": {
              "outlinewidth": 0,
              "ticks": ""
             }
            },
            "type": "scatter3d"
           }
          ],
          "scattercarpet": [
           {
            "marker": {
             "colorbar": {
              "outlinewidth": 0,
              "ticks": ""
             }
            },
            "type": "scattercarpet"
           }
          ],
          "scattergeo": [
           {
            "marker": {
             "colorbar": {
              "outlinewidth": 0,
              "ticks": ""
             }
            },
            "type": "scattergeo"
           }
          ],
          "scattergl": [
           {
            "marker": {
             "colorbar": {
              "outlinewidth": 0,
              "ticks": ""
             }
            },
            "type": "scattergl"
           }
          ],
          "scattermapbox": [
           {
            "marker": {
             "colorbar": {
              "outlinewidth": 0,
              "ticks": ""
             }
            },
            "type": "scattermapbox"
           }
          ],
          "scatterpolar": [
           {
            "marker": {
             "colorbar": {
              "outlinewidth": 0,
              "ticks": ""
             }
            },
            "type": "scatterpolar"
           }
          ],
          "scatterpolargl": [
           {
            "marker": {
             "colorbar": {
              "outlinewidth": 0,
              "ticks": ""
             }
            },
            "type": "scatterpolargl"
           }
          ],
          "scatterternary": [
           {
            "marker": {
             "colorbar": {
              "outlinewidth": 0,
              "ticks": ""
             }
            },
            "type": "scatterternary"
           }
          ],
          "surface": [
           {
            "colorbar": {
             "outlinewidth": 0,
             "ticks": ""
            },
            "colorscale": [
             [
              0,
              "#0d0887"
             ],
             [
              0.1111111111111111,
              "#46039f"
             ],
             [
              0.2222222222222222,
              "#7201a8"
             ],
             [
              0.3333333333333333,
              "#9c179e"
             ],
             [
              0.4444444444444444,
              "#bd3786"
             ],
             [
              0.5555555555555556,
              "#d8576b"
             ],
             [
              0.6666666666666666,
              "#ed7953"
             ],
             [
              0.7777777777777778,
              "#fb9f3a"
             ],
             [
              0.8888888888888888,
              "#fdca26"
             ],
             [
              1,
              "#f0f921"
             ]
            ],
            "type": "surface"
           }
          ],
          "table": [
           {
            "cells": {
             "fill": {
              "color": "#EBF0F8"
             },
             "line": {
              "color": "white"
             }
            },
            "header": {
             "fill": {
              "color": "#C8D4E3"
             },
             "line": {
              "color": "white"
             }
            },
            "type": "table"
           }
          ]
         },
         "layout": {
          "annotationdefaults": {
           "arrowcolor": "#2a3f5f",
           "arrowhead": 0,
           "arrowwidth": 1
          },
          "autotypenumbers": "strict",
          "coloraxis": {
           "colorbar": {
            "outlinewidth": 0,
            "ticks": ""
           }
          },
          "colorscale": {
           "diverging": [
            [
             0,
             "#8e0152"
            ],
            [
             0.1,
             "#c51b7d"
            ],
            [
             0.2,
             "#de77ae"
            ],
            [
             0.3,
             "#f1b6da"
            ],
            [
             0.4,
             "#fde0ef"
            ],
            [
             0.5,
             "#f7f7f7"
            ],
            [
             0.6,
             "#e6f5d0"
            ],
            [
             0.7,
             "#b8e186"
            ],
            [
             0.8,
             "#7fbc41"
            ],
            [
             0.9,
             "#4d9221"
            ],
            [
             1,
             "#276419"
            ]
           ],
           "sequential": [
            [
             0,
             "#0d0887"
            ],
            [
             0.1111111111111111,
             "#46039f"
            ],
            [
             0.2222222222222222,
             "#7201a8"
            ],
            [
             0.3333333333333333,
             "#9c179e"
            ],
            [
             0.4444444444444444,
             "#bd3786"
            ],
            [
             0.5555555555555556,
             "#d8576b"
            ],
            [
             0.6666666666666666,
             "#ed7953"
            ],
            [
             0.7777777777777778,
             "#fb9f3a"
            ],
            [
             0.8888888888888888,
             "#fdca26"
            ],
            [
             1,
             "#f0f921"
            ]
           ],
           "sequentialminus": [
            [
             0,
             "#0d0887"
            ],
            [
             0.1111111111111111,
             "#46039f"
            ],
            [
             0.2222222222222222,
             "#7201a8"
            ],
            [
             0.3333333333333333,
             "#9c179e"
            ],
            [
             0.4444444444444444,
             "#bd3786"
            ],
            [
             0.5555555555555556,
             "#d8576b"
            ],
            [
             0.6666666666666666,
             "#ed7953"
            ],
            [
             0.7777777777777778,
             "#fb9f3a"
            ],
            [
             0.8888888888888888,
             "#fdca26"
            ],
            [
             1,
             "#f0f921"
            ]
           ]
          },
          "colorway": [
           "#636efa",
           "#EF553B",
           "#00cc96",
           "#ab63fa",
           "#FFA15A",
           "#19d3f3",
           "#FF6692",
           "#B6E880",
           "#FF97FF",
           "#FECB52"
          ],
          "font": {
           "color": "#2a3f5f"
          },
          "geo": {
           "bgcolor": "white",
           "lakecolor": "white",
           "landcolor": "#E5ECF6",
           "showlakes": true,
           "showland": true,
           "subunitcolor": "white"
          },
          "hoverlabel": {
           "align": "left"
          },
          "hovermode": "closest",
          "mapbox": {
           "style": "light"
          },
          "paper_bgcolor": "white",
          "plot_bgcolor": "#E5ECF6",
          "polar": {
           "angularaxis": {
            "gridcolor": "white",
            "linecolor": "white",
            "ticks": ""
           },
           "bgcolor": "#E5ECF6",
           "radialaxis": {
            "gridcolor": "white",
            "linecolor": "white",
            "ticks": ""
           }
          },
          "scene": {
           "xaxis": {
            "backgroundcolor": "#E5ECF6",
            "gridcolor": "white",
            "gridwidth": 2,
            "linecolor": "white",
            "showbackground": true,
            "ticks": "",
            "zerolinecolor": "white"
           },
           "yaxis": {
            "backgroundcolor": "#E5ECF6",
            "gridcolor": "white",
            "gridwidth": 2,
            "linecolor": "white",
            "showbackground": true,
            "ticks": "",
            "zerolinecolor": "white"
           },
           "zaxis": {
            "backgroundcolor": "#E5ECF6",
            "gridcolor": "white",
            "gridwidth": 2,
            "linecolor": "white",
            "showbackground": true,
            "ticks": "",
            "zerolinecolor": "white"
           }
          },
          "shapedefaults": {
           "line": {
            "color": "#2a3f5f"
           }
          },
          "ternary": {
           "aaxis": {
            "gridcolor": "white",
            "linecolor": "white",
            "ticks": ""
           },
           "baxis": {
            "gridcolor": "white",
            "linecolor": "white",
            "ticks": ""
           },
           "bgcolor": "#E5ECF6",
           "caxis": {
            "gridcolor": "white",
            "linecolor": "white",
            "ticks": ""
           }
          },
          "title": {
           "x": 0.05
          },
          "xaxis": {
           "automargin": true,
           "gridcolor": "white",
           "linecolor": "white",
           "ticks": "",
           "title": {
            "standoff": 15
           },
           "zerolinecolor": "white",
           "zerolinewidth": 2
          },
          "yaxis": {
           "automargin": true,
           "gridcolor": "white",
           "linecolor": "white",
           "ticks": "",
           "title": {
            "standoff": 15
           },
           "zerolinecolor": "white",
           "zerolinewidth": 2
          }
         }
        },
        "xaxis": {
         "anchor": "y",
         "domain": [
          0,
          1
         ],
         "title": {
          "text": "Platform"
         }
        },
        "yaxis": {
         "anchor": "x",
         "domain": [
          0,
          1
         ],
         "title": {
          "text": "Total Sales"
         }
        }
       }
      }
     },
     "metadata": {},
     "output_type": "display_data"
    }
   ],
   "source": [
    "other_box = px.box(other_df, x='platform', y='total_sales', labels={\"platform\" : \"Platform\", \"total_sales\": \"Total Sales\"}, points=False)\n",
    "\n",
    "other_box.show()"
   ]
  },
  {
   "cell_type": "markdown",
   "metadata": {},
   "source": [
    "# Total Sales per Genre Bar Chart\n",
    "\n",
    "Task/Question Being Addressed:\n",
    "Take a look at the general distribution of games by genre. What can we say about the most profitable genres? Can you generalize about genres with high and low sales?\n",
    "\n",
    "The top 3 most profitable genres are:\n",
    "1) Action with a total sales sum of $1,744.17 M and a quantity count of 3,369.\n",
    "2) Sports with a total sales sum of  $1331.27 M and a quantity count of 2,348.\n",
    "3) Shooter witha total sales sum of $1052.45 M and a quantity count of 1,323.\n",
    "\n",
    "The top 3 least profitable genres are:\n",
    "1) Strategy with a total sales sum of $174.43 M and quantity count of 683.\n",
    "2) Adventure with a total sales sum of $237.59 M and a quanity count of 1303.\n",
    "3) Puzzle with a total sales sum of $242.57 M and a qunatity count of 580.\n",
    "\n",
    "Conclusion:\n",
    "It appears that genres with a greater total sales sum generally have a greater quantity count and vice versa."
   ]
  },
  {
   "cell_type": "code",
   "execution_count": 72,
   "metadata": {},
   "outputs": [
    {
     "data": {
      "text/html": [
       "<div>\n",
       "<style scoped>\n",
       "    .dataframe tbody tr th:only-of-type {\n",
       "        vertical-align: middle;\n",
       "    }\n",
       "\n",
       "    .dataframe tbody tr th {\n",
       "        vertical-align: top;\n",
       "    }\n",
       "\n",
       "    .dataframe thead th {\n",
       "        text-align: right;\n",
       "    }\n",
       "</style>\n",
       "<table border=\"1\" class=\"dataframe\">\n",
       "  <thead>\n",
       "    <tr style=\"text-align: right;\">\n",
       "      <th></th>\n",
       "      <th>name</th>\n",
       "      <th>platform</th>\n",
       "      <th>year_of_release</th>\n",
       "      <th>genre</th>\n",
       "      <th>na_sales</th>\n",
       "      <th>eu_sales</th>\n",
       "      <th>jp_sales</th>\n",
       "      <th>other_sales</th>\n",
       "      <th>critic_score</th>\n",
       "      <th>user_score</th>\n",
       "      <th>rating</th>\n",
       "      <th>total_sales</th>\n",
       "    </tr>\n",
       "  </thead>\n",
       "  <tbody>\n",
       "    <tr>\n",
       "      <th>42</th>\n",
       "      <td>Grand Theft Auto V</td>\n",
       "      <td>PS4</td>\n",
       "      <td>2014</td>\n",
       "      <td>Action</td>\n",
       "      <td>3.96</td>\n",
       "      <td>6.31</td>\n",
       "      <td>0.38</td>\n",
       "      <td>1.97</td>\n",
       "      <td>97.0</td>\n",
       "      <td>8.3</td>\n",
       "      <td>M</td>\n",
       "      <td>12.62</td>\n",
       "    </tr>\n",
       "    <tr>\n",
       "      <th>77</th>\n",
       "      <td>FIFA 16</td>\n",
       "      <td>PS4</td>\n",
       "      <td>2015</td>\n",
       "      <td>Sports</td>\n",
       "      <td>1.12</td>\n",
       "      <td>6.12</td>\n",
       "      <td>0.06</td>\n",
       "      <td>1.28</td>\n",
       "      <td>82.0</td>\n",
       "      <td>4.3</td>\n",
       "      <td>E</td>\n",
       "      <td>8.58</td>\n",
       "    </tr>\n",
       "    <tr>\n",
       "      <th>92</th>\n",
       "      <td>Call of Duty: Advanced Warfare</td>\n",
       "      <td>PS4</td>\n",
       "      <td>2014</td>\n",
       "      <td>Shooter</td>\n",
       "      <td>2.81</td>\n",
       "      <td>3.48</td>\n",
       "      <td>0.14</td>\n",
       "      <td>1.23</td>\n",
       "      <td>83.0</td>\n",
       "      <td>5.7</td>\n",
       "      <td>M</td>\n",
       "      <td>7.66</td>\n",
       "    </tr>\n",
       "    <tr>\n",
       "      <th>94</th>\n",
       "      <td>FIFA 17</td>\n",
       "      <td>PS4</td>\n",
       "      <td>2016</td>\n",
       "      <td>Sports</td>\n",
       "      <td>0.66</td>\n",
       "      <td>5.75</td>\n",
       "      <td>0.08</td>\n",
       "      <td>1.11</td>\n",
       "      <td>85.0</td>\n",
       "      <td>5.0</td>\n",
       "      <td>E</td>\n",
       "      <td>7.60</td>\n",
       "    </tr>\n",
       "    <tr>\n",
       "      <th>105</th>\n",
       "      <td>Fallout 4</td>\n",
       "      <td>PS4</td>\n",
       "      <td>2015</td>\n",
       "      <td>Role-Playing</td>\n",
       "      <td>2.53</td>\n",
       "      <td>3.27</td>\n",
       "      <td>0.24</td>\n",
       "      <td>1.13</td>\n",
       "      <td>87.0</td>\n",
       "      <td>6.5</td>\n",
       "      <td>M</td>\n",
       "      <td>7.17</td>\n",
       "    </tr>\n",
       "  </tbody>\n",
       "</table>\n",
       "</div>"
      ],
      "text/plain": [
       "                               name platform  year_of_release         genre  \\\n",
       "42               Grand Theft Auto V      PS4             2014        Action   \n",
       "77                          FIFA 16      PS4             2015        Sports   \n",
       "92   Call of Duty: Advanced Warfare      PS4             2014       Shooter   \n",
       "94                          FIFA 17      PS4             2016        Sports   \n",
       "105                       Fallout 4      PS4             2015  Role-Playing   \n",
       "\n",
       "     na_sales  eu_sales  jp_sales  other_sales  critic_score  user_score  \\\n",
       "42       3.96      6.31      0.38         1.97          97.0         8.3   \n",
       "77       1.12      6.12      0.06         1.28          82.0         4.3   \n",
       "92       2.81      3.48      0.14         1.23          83.0         5.7   \n",
       "94       0.66      5.75      0.08         1.11          85.0         5.0   \n",
       "105      2.53      3.27      0.24         1.13          87.0         6.5   \n",
       "\n",
       "    rating  total_sales  \n",
       "42       M        12.62  \n",
       "77       E         8.58  \n",
       "92       M         7.66  \n",
       "94       E         7.60  \n",
       "105      M         7.17  "
      ]
     },
     "execution_count": 72,
     "metadata": {},
     "output_type": "execute_result"
    }
   ],
   "source": [
    "genre_list = [2014, 2015, 2016]\n",
    "genre_d = df['year_of_release'].isin(genre_list)\n",
    "genre_df = df[genre_d]\n",
    "\n",
    "genre_df.head()"
   ]
  },
  {
   "cell_type": "code",
   "execution_count": 74,
   "metadata": {},
   "outputs": [
    {
     "data": {
      "application/vnd.plotly.v1+json": {
       "config": {
        "plotlyServerURL": "https://plot.ly"
       },
       "data": [
        {
         "alignmentgroup": "True",
         "boxpoints": false,
         "hovertemplate": "Genre=%{x}<br>total_sales=%{y}<extra></extra>",
         "legendgroup": "",
         "marker": {
          "color": "#636efa"
         },
         "name": "",
         "notched": false,
         "offsetgroup": "",
         "orientation": "v",
         "showlegend": false,
         "type": "box",
         "x": [
          "Action",
          "Sports",
          "Shooter",
          "Sports",
          "Role-Playing",
          "Racing",
          "Sports",
          "Shooter",
          "Action",
          "Shooter",
          "Shooter",
          "Action",
          "Shooter",
          "Shooter",
          "Shooter",
          "Role-Playing",
          "Shooter",
          "Action",
          "Shooter",
          "Role-Playing",
          "Action",
          "Action",
          "Role-Playing",
          "Sports",
          "Shooter",
          "Action",
          "Action",
          "Action",
          "Shooter",
          "Shooter",
          "Sports",
          "Sports",
          "Shooter",
          "Platform",
          "Simulation",
          "Simulation",
          "Action",
          "Shooter",
          "Action",
          "Fighting",
          "Sports",
          "Action",
          "Sports",
          "Shooter",
          "Sports",
          "Action",
          "Sports",
          "Action",
          "Shooter",
          "Shooter",
          "Sports",
          "Sports",
          "Shooter",
          "Shooter",
          "Shooter",
          "Action",
          "Racing",
          "Role-Playing",
          "Shooter",
          "Platform",
          "Sports",
          "Action",
          "Platform",
          "Action",
          "Racing",
          "Action",
          "Sports",
          "Shooter",
          "Racing",
          "Sports",
          "Action",
          "Adventure",
          "Role-Playing",
          "Shooter",
          "Misc",
          "Action",
          "Sports",
          "Shooter",
          "Platform",
          "Action",
          "Racing",
          "Platform",
          "Fighting",
          "Adventure",
          "Shooter",
          "Action",
          "Shooter",
          "Shooter",
          "Role-Playing",
          "Platform",
          "Action",
          "Action",
          "Role-Playing",
          "Action",
          "Role-Playing",
          "Action",
          "Role-Playing",
          "Action",
          "Role-Playing",
          "Sports",
          "Action",
          "Sports",
          "Shooter",
          "Puzzle",
          "Shooter",
          "Action",
          "Sports",
          "Shooter",
          "Fighting",
          "Action",
          "Shooter",
          "Action",
          "Fighting",
          "Racing",
          "Racing",
          "Shooter",
          "Shooter",
          "Sports",
          "Action",
          "Sports",
          "Action",
          "Platform",
          "Fighting",
          "Shooter",
          "Sports",
          "Role-Playing",
          "Action",
          "Action",
          "Action",
          "Sports",
          "Role-Playing",
          "Role-Playing",
          "Fighting",
          "Action",
          "Action",
          "Role-Playing",
          "Action",
          "Shooter",
          "Misc",
          "Role-Playing",
          "Sports",
          "Misc",
          "Sports",
          "Action",
          "Shooter",
          "Action",
          "Sports",
          "Role-Playing",
          "Role-Playing",
          "Action",
          "Misc",
          "Action",
          "Role-Playing",
          "Sports",
          "Shooter",
          "Role-Playing",
          "Action",
          "Action",
          "Action",
          "Shooter",
          "Shooter",
          "Shooter",
          "Action",
          "Action",
          "Racing",
          "Action",
          "Role-Playing",
          "Simulation",
          "Shooter",
          "Action",
          "Sports",
          "Action",
          "Racing",
          "Shooter",
          "Shooter",
          "Sports",
          "Action",
          "Sports",
          "Shooter",
          "Shooter",
          "Sports",
          "Action",
          "Sports",
          "Sports",
          "Sports",
          "Action",
          "Shooter",
          "Sports",
          "Misc",
          "Shooter",
          "Action",
          "Misc",
          "Action",
          "Action",
          "Role-Playing",
          "Action",
          "Misc",
          "Action",
          "Shooter",
          "Strategy",
          "Action",
          "Action",
          "Role-Playing",
          "Platform",
          "Shooter",
          "Shooter",
          "Misc",
          "Role-Playing",
          "Action",
          "Shooter",
          "Sports",
          "Sports",
          "Misc",
          "Action",
          "Sports",
          "Action",
          "Simulation",
          "Action",
          "Sports",
          "Shooter",
          "Action",
          "Sports",
          "Action",
          "Shooter",
          "Fighting",
          "Action",
          "Sports",
          "Action",
          "Sports",
          "Racing",
          "Simulation",
          "Role-Playing",
          "Misc",
          "Sports",
          "Simulation",
          "Action",
          "Sports",
          "Shooter",
          "Racing",
          "Shooter",
          "Role-Playing",
          "Adventure",
          "Role-Playing",
          "Adventure",
          "Misc",
          "Misc",
          "Shooter",
          "Role-Playing",
          "Sports",
          "Shooter",
          "Misc",
          "Sports",
          "Racing",
          "Strategy",
          "Shooter",
          "Role-Playing",
          "Misc",
          "Role-Playing",
          "Action",
          "Action",
          "Shooter",
          "Fighting",
          "Simulation",
          "Action",
          "Platform",
          "Shooter",
          "Action",
          "Platform",
          "Role-Playing",
          "Sports",
          "Fighting",
          "Misc",
          "Misc",
          "Fighting",
          "Role-Playing",
          "Misc",
          "Misc",
          "Action",
          "Action",
          "Simulation",
          "Action",
          "Fighting",
          "Misc",
          "Fighting",
          "Action",
          "Role-Playing",
          "Action",
          "Action",
          "Sports",
          "Shooter",
          "Action",
          "Action",
          "Role-Playing",
          "Sports",
          "Action",
          "Action",
          "Action",
          "Action",
          "Action",
          "Action",
          "Action",
          "Platform",
          "Sports",
          "Racing",
          "Shooter",
          "Role-Playing",
          "Misc",
          "Strategy",
          "Misc",
          "Strategy",
          "Role-Playing",
          "Racing",
          "Role-Playing",
          "Racing",
          "Action",
          "Action",
          "Action",
          "Strategy",
          "Sports",
          "Role-Playing",
          "Sports",
          "Action",
          "Sports",
          "Strategy",
          "Shooter",
          "Action",
          "Action",
          "Racing",
          "Action",
          "Racing",
          "Simulation",
          "Action",
          "Role-Playing",
          "Action",
          "Fighting",
          "Strategy",
          "Role-Playing",
          "Action",
          "Role-Playing",
          "Action",
          "Adventure",
          "Sports",
          "Fighting",
          "Platform",
          "Sports",
          "Action",
          "Action",
          "Shooter",
          "Sports",
          "Action",
          "Role-Playing",
          "Action",
          "Action",
          "Role-Playing",
          "Action",
          "Action",
          "Misc",
          "Action",
          "Role-Playing",
          "Shooter",
          "Role-Playing",
          "Misc",
          "Misc",
          "Role-Playing",
          "Misc",
          "Role-Playing",
          "Fighting",
          "Adventure",
          "Racing",
          "Action",
          "Racing",
          "Action",
          "Sports",
          "Role-Playing",
          "Misc",
          "Action",
          "Misc",
          "Role-Playing",
          "Action",
          "Action",
          "Racing",
          "Action",
          "Role-Playing",
          "Action",
          "Fighting",
          "Platform",
          "Simulation",
          "Action",
          "Racing",
          "Shooter",
          "Role-Playing",
          "Role-Playing",
          "Misc",
          "Action",
          "Role-Playing",
          "Shooter",
          "Fighting",
          "Role-Playing",
          "Action",
          "Role-Playing",
          "Action",
          "Action",
          "Action",
          "Shooter",
          "Action",
          "Platform",
          "Strategy",
          "Sports",
          "Simulation",
          "Platform",
          "Role-Playing",
          "Shooter",
          "Action",
          "Platform",
          "Action",
          "Action",
          "Shooter",
          "Adventure",
          "Fighting",
          "Shooter",
          "Adventure",
          "Action",
          "Fighting",
          "Strategy",
          "Action",
          "Action",
          "Action",
          "Action",
          "Action",
          "Role-Playing",
          "Racing",
          "Racing",
          "Sports",
          "Role-Playing",
          "Action",
          "Adventure",
          "Misc",
          "Action",
          "Sports",
          "Action",
          "Action",
          "Simulation",
          "Sports",
          "Action",
          "Sports",
          "Action",
          "Action",
          "Action",
          "Role-Playing",
          "Action",
          "Action",
          "Action",
          "Action",
          "Sports",
          "Shooter",
          "Role-Playing",
          "Racing",
          "Sports",
          "Sports",
          "Fighting",
          "Adventure",
          "Role-Playing",
          "Role-Playing",
          "Racing",
          "Simulation",
          "Action",
          "Action",
          "Fighting",
          "Shooter",
          "Action",
          "Role-Playing",
          "Racing",
          "Platform",
          "Role-Playing",
          "Action",
          "Platform",
          "Fighting",
          "Adventure",
          "Action",
          "Adventure",
          "Simulation",
          "Fighting",
          "Action",
          "Action",
          "Action",
          "Racing",
          "Action",
          "Action",
          "Racing",
          "Action",
          "Role-Playing",
          "Sports",
          "Action",
          "Fighting",
          "Adventure",
          "Sports",
          "Action",
          "Platform",
          "Shooter",
          "Platform",
          "Action",
          "Role-Playing",
          "Shooter",
          "Fighting",
          "Role-Playing",
          "Shooter",
          "Action",
          "Action",
          "Action",
          "Action",
          "Racing",
          "Action",
          "Adventure",
          "Strategy",
          "Role-Playing",
          "Action",
          "Action",
          "Role-Playing",
          "Role-Playing",
          "Role-Playing",
          "Action",
          "Role-Playing",
          "Role-Playing",
          "Action",
          "Action",
          "Adventure",
          "Adventure",
          "Action",
          "Fighting",
          "Action",
          "Role-Playing",
          "Adventure",
          "Role-Playing",
          "Action",
          "Action",
          "Puzzle",
          "Platform",
          "Racing",
          "Fighting",
          "Action",
          "Sports",
          "Adventure",
          "Action",
          "Action",
          "Racing",
          "Role-Playing",
          "Shooter",
          "Role-Playing",
          "Action",
          "Action",
          "Role-Playing",
          "Action",
          "Action",
          "Role-Playing",
          "Fighting",
          "Sports",
          "Simulation",
          "Sports",
          "Role-Playing",
          "Sports",
          "Action",
          "Strategy",
          "Shooter",
          "Action",
          "Platform",
          "Sports",
          "Action",
          "Racing",
          "Shooter",
          "Fighting",
          "Action",
          "Role-Playing",
          "Role-Playing",
          "Adventure",
          "Action",
          "Misc",
          "Strategy",
          "Action",
          "Shooter",
          "Racing",
          "Role-Playing",
          "Sports",
          "Strategy",
          "Action",
          "Racing",
          "Adventure",
          "Shooter",
          "Racing",
          "Adventure",
          "Action",
          "Sports",
          "Action",
          "Shooter",
          "Platform",
          "Strategy",
          "Adventure",
          "Fighting",
          "Action",
          "Action",
          "Sports",
          "Strategy",
          "Adventure",
          "Action",
          "Action",
          "Action",
          "Action",
          "Role-Playing",
          "Action",
          "Role-Playing",
          "Simulation",
          "Shooter",
          "Misc",
          "Role-Playing",
          "Sports",
          "Action",
          "Sports",
          "Shooter",
          "Fighting",
          "Role-Playing",
          "Action",
          "Racing",
          "Racing",
          "Action",
          "Action",
          "Sports",
          "Action",
          "Racing",
          "Role-Playing",
          "Platform",
          "Role-Playing",
          "Puzzle",
          "Racing",
          "Simulation",
          "Racing",
          "Action",
          "Role-Playing",
          "Action",
          "Action",
          "Adventure",
          "Action",
          "Racing",
          "Action",
          "Role-Playing",
          "Adventure",
          "Action",
          "Adventure",
          "Adventure",
          "Sports",
          "Shooter",
          "Shooter",
          "Role-Playing",
          "Sports",
          "Role-Playing",
          "Adventure",
          "Action",
          "Simulation",
          "Action",
          "Adventure",
          "Action",
          "Action",
          "Action",
          "Platform",
          "Action",
          "Action",
          "Role-Playing",
          "Action",
          "Sports",
          "Role-Playing",
          "Adventure",
          "Action",
          "Racing",
          "Racing",
          "Action",
          "Sports",
          "Shooter",
          "Action",
          "Sports",
          "Strategy",
          "Action",
          "Role-Playing",
          "Platform",
          "Action",
          "Adventure",
          "Action",
          "Adventure",
          "Strategy",
          "Simulation",
          "Action",
          "Puzzle",
          "Simulation",
          "Strategy",
          "Action",
          "Action",
          "Adventure",
          "Adventure",
          "Racing",
          "Misc",
          "Role-Playing",
          "Action",
          "Action",
          "Racing",
          "Action",
          "Action",
          "Action"
         ],
         "x0": " ",
         "xaxis": "x",
         "y": [
          12.620000000000001,
          8.58,
          7.66,
          7.6000000000000005,
          7.17,
          7.09,
          6.08,
          5.640000000000001,
          5.47,
          5.39,
          5.26,
          4.62,
          4.49,
          4.470000000000001,
          4.4399999999999995,
          4.22,
          4.07,
          4.05,
          4.04,
          3.9699999999999998,
          3.96,
          3.96,
          3.89,
          3.87,
          3.8,
          3.5,
          3.4200000000000004,
          3.3899999999999997,
          3.37,
          3.28,
          3.25,
          3.2399999999999998,
          3.23,
          3.21,
          3.05,
          3.0500000000000003,
          2.96,
          2.95,
          2.7899999999999996,
          2.78,
          2.65,
          2.48,
          2.4499999999999997,
          2.4200000000000004,
          2.42,
          2.34,
          2.34,
          2.2600000000000002,
          2.25,
          2.21,
          2.19,
          2.18,
          2.1700000000000004,
          2.14,
          2.11,
          2.09,
          2.07,
          2.01,
          1.9200000000000002,
          1.9100000000000001,
          1.8800000000000001,
          1.85,
          1.83,
          1.81,
          1.7999999999999998,
          1.7900000000000003,
          1.74,
          1.7200000000000002,
          1.7200000000000002,
          1.73,
          1.6900000000000002,
          1.6600000000000001,
          1.6600000000000001,
          1.6400000000000001,
          1.58,
          1.5700000000000003,
          1.56,
          1.54,
          1.5299999999999998,
          1.4900000000000002,
          1.4000000000000001,
          1.3800000000000001,
          1.38,
          1.3800000000000001,
          1.3599999999999999,
          1.3599999999999999,
          1.3399999999999999,
          1.3399999999999999,
          1.3,
          1.3,
          1.2900000000000003,
          1.29,
          1.2800000000000002,
          1.28,
          1.2800000000000002,
          1.27,
          1.2799999999999998,
          1.2699999999999998,
          1.25,
          1.23,
          1.23,
          1.21,
          1.21,
          1.1900000000000002,
          1.2000000000000002,
          1.1700000000000002,
          1.15,
          1.1300000000000001,
          1.14,
          1.13,
          1.1199999999999999,
          1.11,
          1.1,
          1.0799999999999998,
          1.08,
          1.07,
          1.06,
          1.05,
          1.03,
          1.03,
          1.01,
          1.02,
          1.01,
          0.9700000000000001,
          0.93,
          0.93,
          0.93,
          0.92,
          0.93,
          0.93,
          0.93,
          0.9299999999999999,
          0.9,
          0.91,
          0.9,
          0.9000000000000001,
          0.88,
          0.88,
          0.86,
          0.8400000000000001,
          0.78,
          0.79,
          0.7799999999999999,
          0.76,
          0.7600000000000001,
          0.75,
          0.75,
          0.74,
          0.73,
          0.73,
          0.73,
          0.73,
          0.7200000000000001,
          0.72,
          0.73,
          0.7200000000000001,
          0.7,
          0.7,
          0.71,
          0.6799999999999999,
          0.6900000000000001,
          0.6800000000000002,
          0.6599999999999999,
          0.67,
          0.67,
          0.6599999999999999,
          0.65,
          0.65,
          0.64,
          0.6400000000000001,
          0.6400000000000001,
          0.64,
          0.6400000000000001,
          0.6300000000000001,
          0.63,
          0.63,
          0.6200000000000001,
          0.61,
          0.61,
          0.62,
          0.6000000000000001,
          0.6,
          0.6,
          0.6,
          0.5900000000000001,
          0.5800000000000001,
          0.5700000000000001,
          0.5700000000000001,
          0.5700000000000001,
          0.56,
          0.56,
          0.55,
          0.54,
          0.55,
          0.53,
          0.53,
          0.53,
          0.53,
          0.53,
          0.52,
          0.52,
          0.51,
          0.52,
          0.51,
          0.49999999999999994,
          0.49000000000000005,
          0.49,
          0.48,
          0.48,
          0.4799999999999999,
          0.4800000000000001,
          0.48,
          0.47,
          0.47,
          0.45999999999999996,
          0.47000000000000003,
          0.47,
          0.45,
          0.45,
          0.44999999999999996,
          0.44000000000000006,
          0.44000000000000006,
          0.44,
          0.43,
          0.44,
          0.44,
          0.43,
          0.43,
          0.43000000000000005,
          0.43,
          0.42000000000000004,
          0.42000000000000004,
          0.42000000000000004,
          0.42,
          0.42,
          0.41,
          0.41,
          0.41,
          0.41000000000000003,
          0.41000000000000003,
          0.4,
          0.38999999999999996,
          0.38999999999999996,
          0.39999999999999997,
          0.39,
          0.38,
          0.38,
          0.38,
          0.38,
          0.37000000000000005,
          0.38,
          0.36000000000000004,
          0.36,
          0.36,
          0.37,
          0.36,
          0.36000000000000004,
          0.36,
          0.36,
          0.35,
          0.35000000000000003,
          0.36,
          0.35000000000000003,
          0.33999999999999997,
          0.34,
          0.33999999999999997,
          0.34,
          0.33999999999999997,
          0.34,
          0.33,
          0.33,
          0.32000000000000006,
          0.31999999999999995,
          0.31999999999999995,
          0.32000000000000006,
          0.33,
          0.32,
          0.32,
          0.31000000000000005,
          0.32,
          0.3,
          0.3,
          0.31000000000000005,
          0.31000000000000005,
          0.31,
          0.3,
          0.29000000000000004,
          0.3,
          0.3,
          0.28,
          0.29000000000000004,
          0.28,
          0.29,
          0.29000000000000004,
          0.27,
          0.29,
          0.28,
          0.27,
          0.27,
          0.26,
          0.27,
          0.26,
          0.26,
          0.26,
          0.26,
          0.25,
          0.26,
          0.26,
          0.25,
          0.24,
          0.25,
          0.24999999999999997,
          0.24000000000000002,
          0.24,
          0.25,
          0.24000000000000002,
          0.24000000000000002,
          0.24,
          0.24000000000000002,
          0.24,
          0.24000000000000002,
          0.24,
          0.24000000000000002,
          0.22999999999999998,
          0.23,
          0.23,
          0.22000000000000003,
          0.23,
          0.22,
          0.23,
          0.22,
          0.22,
          0.22,
          0.21000000000000002,
          0.22,
          0.22,
          0.21,
          0.22,
          0.21,
          0.21,
          0.21000000000000002,
          0.21,
          0.21000000000000002,
          0.21,
          0.19999999999999998,
          0.2,
          0.2,
          0.19999999999999998,
          0.2,
          0.19999999999999998,
          0.2,
          0.19999999999999998,
          0.19999999999999998,
          0.19999999999999998,
          0.18000000000000002,
          0.19999999999999998,
          0.18999999999999997,
          0.19,
          0.18000000000000002,
          0.19999999999999998,
          0.18000000000000002,
          0.19,
          0.18,
          0.19999999999999998,
          0.18,
          0.18,
          0.18,
          0.18,
          0.18,
          0.16999999999999998,
          0.18000000000000002,
          0.18,
          0.17,
          0.17,
          0.18,
          0.16,
          0.17,
          0.16,
          0.16999999999999998,
          0.17,
          0.16999999999999998,
          0.17,
          0.16,
          0.16,
          0.15000000000000002,
          0.16,
          0.16000000000000003,
          0.16000000000000003,
          0.16,
          0.15000000000000002,
          0.16,
          0.16000000000000003,
          0.15000000000000002,
          0.15000000000000002,
          0.15,
          0.15000000000000002,
          0.15,
          0.15000000000000002,
          0.13999999999999999,
          0.16,
          0.15000000000000002,
          0.14,
          0.14,
          0.15000000000000002,
          0.15000000000000002,
          0.13999999999999999,
          0.13999999999999999,
          0.14,
          0.14,
          0.15,
          0.14,
          0.14,
          0.13999999999999999,
          0.14,
          0.14,
          0.13,
          0.14,
          0.13,
          0.13,
          0.13,
          0.13,
          0.12000000000000001,
          0.13,
          0.13,
          0.13,
          0.13,
          0.13,
          0.12000000000000001,
          0.13,
          0.13,
          0.13,
          0.13,
          0.12,
          0.12,
          0.11,
          0.12,
          0.11,
          0.12000000000000001,
          0.12,
          0.12,
          0.12,
          0.12,
          0.12,
          0.12,
          0.12000000000000001,
          0.11,
          0.11,
          0.11,
          0.12000000000000001,
          0.11,
          0.11,
          0.11,
          0.11,
          0.10999999999999999,
          0.11,
          0.09999999999999999,
          0.11,
          0.11,
          0.11,
          0.11,
          0.09999999999999999,
          0.11,
          0.09999999999999999,
          0.09999999999999999,
          0.11,
          0.11,
          0.1,
          0.09,
          0.1,
          0.09,
          0.1,
          0.09999999999999999,
          0.09999999999999999,
          0.09,
          0.09999999999999999,
          0.09999999999999999,
          0.09000000000000001,
          0.1,
          0.09000000000000001,
          0.09,
          0.09999999999999999,
          0.1,
          0.1,
          0.09,
          0.09,
          0.09,
          0.09,
          0.08,
          0.09,
          0.09,
          0.08,
          0.09,
          0.08,
          0.08,
          0.09,
          0.08,
          0.08,
          0.06999999999999999,
          0.09,
          0.09000000000000001,
          0.07,
          0.08,
          0.08,
          0.07999999999999999,
          0.08,
          0.06999999999999999,
          0.08,
          0.06999999999999999,
          0.08,
          0.07,
          0.07,
          0.08,
          0.08,
          0.08,
          0.07,
          0.08,
          0.06999999999999999,
          0.07,
          0.07,
          0.06999999999999999,
          0.08,
          0.06999999999999999,
          0.06999999999999999,
          0.06999999999999999,
          0.06999999999999999,
          0.07,
          0.06999999999999999,
          0.07,
          0.060000000000000005,
          0.07,
          0.06999999999999999,
          0.06999999999999999,
          0.06,
          0.06,
          0.06,
          0.06,
          0.060000000000000005,
          0.060000000000000005,
          0.060000000000000005,
          0.06,
          0.06,
          0.060000000000000005,
          0.060000000000000005,
          0.06,
          0.060000000000000005,
          0.06999999999999999,
          0.060000000000000005,
          0.06999999999999999,
          0.060000000000000005,
          0.06999999999999999,
          0.06,
          0.05,
          0.060000000000000005,
          0.060000000000000005,
          0.05,
          0.060000000000000005,
          0.05,
          0.060000000000000005,
          0.060000000000000005,
          0.05,
          0.05,
          0.05,
          0.060000000000000005,
          0.05,
          0.05,
          0.05,
          0.05,
          0.05,
          0.05,
          0.05,
          0.05,
          0.05,
          0.060000000000000005,
          0.05,
          0.04,
          0.04,
          0.05,
          0.05,
          0.04,
          0.05,
          0.05,
          0.04,
          0.04,
          0.04,
          0.05,
          0.05,
          0.04,
          0.05,
          0.05,
          0.05,
          0.04,
          0.04,
          0.04,
          0.04,
          0.04,
          0.04,
          0.03,
          0.03,
          0.03,
          0.05,
          0.04,
          0.04,
          0.04,
          0.04,
          0.04,
          0.04,
          0.04,
          0.04,
          0.04,
          0.03,
          0.03,
          0.03,
          0.03,
          0.03,
          0.03,
          0.03,
          0.04,
          0.03,
          0.03,
          0.03,
          0.03,
          0.03,
          0.03,
          0.03,
          0.03,
          0.03,
          0.03,
          0.03,
          0.03,
          0.03,
          0.02,
          0.03,
          0.03,
          0.03,
          0.02,
          0.02,
          0.02,
          0.02,
          0.02,
          0.02,
          0.02,
          0.02,
          0.02,
          0.02,
          0.02,
          0.02,
          0.02,
          0.02,
          0.02,
          0.02,
          0.02,
          0.02,
          0.02,
          0.02,
          0.02,
          0.02,
          0.02,
          0.02,
          0.02,
          0.02,
          0.02,
          0.02,
          0.02,
          0.02,
          0.02,
          0.01,
          0.01,
          0.02,
          0.02,
          0.01,
          0.01,
          0.01,
          0.02,
          0.01,
          0.01,
          0.01,
          0.01,
          0.01,
          0.01,
          0.01,
          0.01,
          0.01,
          0.01,
          0.01,
          0.01,
          0.01,
          0.01,
          0.01,
          0.01,
          0.01,
          0.01,
          0.01,
          0.01,
          0.01,
          0.01,
          0.01,
          0.01,
          0.01,
          0.01,
          0.01,
          0.01,
          0.01,
          0.01,
          0.01
         ],
         "y0": " ",
         "yaxis": "y"
        }
       ],
       "layout": {
        "boxmode": "group",
        "legend": {
         "tracegroupgap": 0
        },
        "template": {
         "data": {
          "bar": [
           {
            "error_x": {
             "color": "#2a3f5f"
            },
            "error_y": {
             "color": "#2a3f5f"
            },
            "marker": {
             "line": {
              "color": "#E5ECF6",
              "width": 0.5
             },
             "pattern": {
              "fillmode": "overlay",
              "size": 10,
              "solidity": 0.2
             }
            },
            "type": "bar"
           }
          ],
          "barpolar": [
           {
            "marker": {
             "line": {
              "color": "#E5ECF6",
              "width": 0.5
             },
             "pattern": {
              "fillmode": "overlay",
              "size": 10,
              "solidity": 0.2
             }
            },
            "type": "barpolar"
           }
          ],
          "carpet": [
           {
            "aaxis": {
             "endlinecolor": "#2a3f5f",
             "gridcolor": "white",
             "linecolor": "white",
             "minorgridcolor": "white",
             "startlinecolor": "#2a3f5f"
            },
            "baxis": {
             "endlinecolor": "#2a3f5f",
             "gridcolor": "white",
             "linecolor": "white",
             "minorgridcolor": "white",
             "startlinecolor": "#2a3f5f"
            },
            "type": "carpet"
           }
          ],
          "choropleth": [
           {
            "colorbar": {
             "outlinewidth": 0,
             "ticks": ""
            },
            "type": "choropleth"
           }
          ],
          "contour": [
           {
            "colorbar": {
             "outlinewidth": 0,
             "ticks": ""
            },
            "colorscale": [
             [
              0,
              "#0d0887"
             ],
             [
              0.1111111111111111,
              "#46039f"
             ],
             [
              0.2222222222222222,
              "#7201a8"
             ],
             [
              0.3333333333333333,
              "#9c179e"
             ],
             [
              0.4444444444444444,
              "#bd3786"
             ],
             [
              0.5555555555555556,
              "#d8576b"
             ],
             [
              0.6666666666666666,
              "#ed7953"
             ],
             [
              0.7777777777777778,
              "#fb9f3a"
             ],
             [
              0.8888888888888888,
              "#fdca26"
             ],
             [
              1,
              "#f0f921"
             ]
            ],
            "type": "contour"
           }
          ],
          "contourcarpet": [
           {
            "colorbar": {
             "outlinewidth": 0,
             "ticks": ""
            },
            "type": "contourcarpet"
           }
          ],
          "heatmap": [
           {
            "colorbar": {
             "outlinewidth": 0,
             "ticks": ""
            },
            "colorscale": [
             [
              0,
              "#0d0887"
             ],
             [
              0.1111111111111111,
              "#46039f"
             ],
             [
              0.2222222222222222,
              "#7201a8"
             ],
             [
              0.3333333333333333,
              "#9c179e"
             ],
             [
              0.4444444444444444,
              "#bd3786"
             ],
             [
              0.5555555555555556,
              "#d8576b"
             ],
             [
              0.6666666666666666,
              "#ed7953"
             ],
             [
              0.7777777777777778,
              "#fb9f3a"
             ],
             [
              0.8888888888888888,
              "#fdca26"
             ],
             [
              1,
              "#f0f921"
             ]
            ],
            "type": "heatmap"
           }
          ],
          "heatmapgl": [
           {
            "colorbar": {
             "outlinewidth": 0,
             "ticks": ""
            },
            "colorscale": [
             [
              0,
              "#0d0887"
             ],
             [
              0.1111111111111111,
              "#46039f"
             ],
             [
              0.2222222222222222,
              "#7201a8"
             ],
             [
              0.3333333333333333,
              "#9c179e"
             ],
             [
              0.4444444444444444,
              "#bd3786"
             ],
             [
              0.5555555555555556,
              "#d8576b"
             ],
             [
              0.6666666666666666,
              "#ed7953"
             ],
             [
              0.7777777777777778,
              "#fb9f3a"
             ],
             [
              0.8888888888888888,
              "#fdca26"
             ],
             [
              1,
              "#f0f921"
             ]
            ],
            "type": "heatmapgl"
           }
          ],
          "histogram": [
           {
            "marker": {
             "pattern": {
              "fillmode": "overlay",
              "size": 10,
              "solidity": 0.2
             }
            },
            "type": "histogram"
           }
          ],
          "histogram2d": [
           {
            "colorbar": {
             "outlinewidth": 0,
             "ticks": ""
            },
            "colorscale": [
             [
              0,
              "#0d0887"
             ],
             [
              0.1111111111111111,
              "#46039f"
             ],
             [
              0.2222222222222222,
              "#7201a8"
             ],
             [
              0.3333333333333333,
              "#9c179e"
             ],
             [
              0.4444444444444444,
              "#bd3786"
             ],
             [
              0.5555555555555556,
              "#d8576b"
             ],
             [
              0.6666666666666666,
              "#ed7953"
             ],
             [
              0.7777777777777778,
              "#fb9f3a"
             ],
             [
              0.8888888888888888,
              "#fdca26"
             ],
             [
              1,
              "#f0f921"
             ]
            ],
            "type": "histogram2d"
           }
          ],
          "histogram2dcontour": [
           {
            "colorbar": {
             "outlinewidth": 0,
             "ticks": ""
            },
            "colorscale": [
             [
              0,
              "#0d0887"
             ],
             [
              0.1111111111111111,
              "#46039f"
             ],
             [
              0.2222222222222222,
              "#7201a8"
             ],
             [
              0.3333333333333333,
              "#9c179e"
             ],
             [
              0.4444444444444444,
              "#bd3786"
             ],
             [
              0.5555555555555556,
              "#d8576b"
             ],
             [
              0.6666666666666666,
              "#ed7953"
             ],
             [
              0.7777777777777778,
              "#fb9f3a"
             ],
             [
              0.8888888888888888,
              "#fdca26"
             ],
             [
              1,
              "#f0f921"
             ]
            ],
            "type": "histogram2dcontour"
           }
          ],
          "mesh3d": [
           {
            "colorbar": {
             "outlinewidth": 0,
             "ticks": ""
            },
            "type": "mesh3d"
           }
          ],
          "parcoords": [
           {
            "line": {
             "colorbar": {
              "outlinewidth": 0,
              "ticks": ""
             }
            },
            "type": "parcoords"
           }
          ],
          "pie": [
           {
            "automargin": true,
            "type": "pie"
           }
          ],
          "scatter": [
           {
            "fillpattern": {
             "fillmode": "overlay",
             "size": 10,
             "solidity": 0.2
            },
            "type": "scatter"
           }
          ],
          "scatter3d": [
           {
            "line": {
             "colorbar": {
              "outlinewidth": 0,
              "ticks": ""
             }
            },
            "marker": {
             "colorbar": {
              "outlinewidth": 0,
              "ticks": ""
             }
            },
            "type": "scatter3d"
           }
          ],
          "scattercarpet": [
           {
            "marker": {
             "colorbar": {
              "outlinewidth": 0,
              "ticks": ""
             }
            },
            "type": "scattercarpet"
           }
          ],
          "scattergeo": [
           {
            "marker": {
             "colorbar": {
              "outlinewidth": 0,
              "ticks": ""
             }
            },
            "type": "scattergeo"
           }
          ],
          "scattergl": [
           {
            "marker": {
             "colorbar": {
              "outlinewidth": 0,
              "ticks": ""
             }
            },
            "type": "scattergl"
           }
          ],
          "scattermapbox": [
           {
            "marker": {
             "colorbar": {
              "outlinewidth": 0,
              "ticks": ""
             }
            },
            "type": "scattermapbox"
           }
          ],
          "scatterpolar": [
           {
            "marker": {
             "colorbar": {
              "outlinewidth": 0,
              "ticks": ""
             }
            },
            "type": "scatterpolar"
           }
          ],
          "scatterpolargl": [
           {
            "marker": {
             "colorbar": {
              "outlinewidth": 0,
              "ticks": ""
             }
            },
            "type": "scatterpolargl"
           }
          ],
          "scatterternary": [
           {
            "marker": {
             "colorbar": {
              "outlinewidth": 0,
              "ticks": ""
             }
            },
            "type": "scatterternary"
           }
          ],
          "surface": [
           {
            "colorbar": {
             "outlinewidth": 0,
             "ticks": ""
            },
            "colorscale": [
             [
              0,
              "#0d0887"
             ],
             [
              0.1111111111111111,
              "#46039f"
             ],
             [
              0.2222222222222222,
              "#7201a8"
             ],
             [
              0.3333333333333333,
              "#9c179e"
             ],
             [
              0.4444444444444444,
              "#bd3786"
             ],
             [
              0.5555555555555556,
              "#d8576b"
             ],
             [
              0.6666666666666666,
              "#ed7953"
             ],
             [
              0.7777777777777778,
              "#fb9f3a"
             ],
             [
              0.8888888888888888,
              "#fdca26"
             ],
             [
              1,
              "#f0f921"
             ]
            ],
            "type": "surface"
           }
          ],
          "table": [
           {
            "cells": {
             "fill": {
              "color": "#EBF0F8"
             },
             "line": {
              "color": "white"
             }
            },
            "header": {
             "fill": {
              "color": "#C8D4E3"
             },
             "line": {
              "color": "white"
             }
            },
            "type": "table"
           }
          ]
         },
         "layout": {
          "annotationdefaults": {
           "arrowcolor": "#2a3f5f",
           "arrowhead": 0,
           "arrowwidth": 1
          },
          "autotypenumbers": "strict",
          "coloraxis": {
           "colorbar": {
            "outlinewidth": 0,
            "ticks": ""
           }
          },
          "colorscale": {
           "diverging": [
            [
             0,
             "#8e0152"
            ],
            [
             0.1,
             "#c51b7d"
            ],
            [
             0.2,
             "#de77ae"
            ],
            [
             0.3,
             "#f1b6da"
            ],
            [
             0.4,
             "#fde0ef"
            ],
            [
             0.5,
             "#f7f7f7"
            ],
            [
             0.6,
             "#e6f5d0"
            ],
            [
             0.7,
             "#b8e186"
            ],
            [
             0.8,
             "#7fbc41"
            ],
            [
             0.9,
             "#4d9221"
            ],
            [
             1,
             "#276419"
            ]
           ],
           "sequential": [
            [
             0,
             "#0d0887"
            ],
            [
             0.1111111111111111,
             "#46039f"
            ],
            [
             0.2222222222222222,
             "#7201a8"
            ],
            [
             0.3333333333333333,
             "#9c179e"
            ],
            [
             0.4444444444444444,
             "#bd3786"
            ],
            [
             0.5555555555555556,
             "#d8576b"
            ],
            [
             0.6666666666666666,
             "#ed7953"
            ],
            [
             0.7777777777777778,
             "#fb9f3a"
            ],
            [
             0.8888888888888888,
             "#fdca26"
            ],
            [
             1,
             "#f0f921"
            ]
           ],
           "sequentialminus": [
            [
             0,
             "#0d0887"
            ],
            [
             0.1111111111111111,
             "#46039f"
            ],
            [
             0.2222222222222222,
             "#7201a8"
            ],
            [
             0.3333333333333333,
             "#9c179e"
            ],
            [
             0.4444444444444444,
             "#bd3786"
            ],
            [
             0.5555555555555556,
             "#d8576b"
            ],
            [
             0.6666666666666666,
             "#ed7953"
            ],
            [
             0.7777777777777778,
             "#fb9f3a"
            ],
            [
             0.8888888888888888,
             "#fdca26"
            ],
            [
             1,
             "#f0f921"
            ]
           ]
          },
          "colorway": [
           "#636efa",
           "#EF553B",
           "#00cc96",
           "#ab63fa",
           "#FFA15A",
           "#19d3f3",
           "#FF6692",
           "#B6E880",
           "#FF97FF",
           "#FECB52"
          ],
          "font": {
           "color": "#2a3f5f"
          },
          "geo": {
           "bgcolor": "white",
           "lakecolor": "white",
           "landcolor": "#E5ECF6",
           "showlakes": true,
           "showland": true,
           "subunitcolor": "white"
          },
          "hoverlabel": {
           "align": "left"
          },
          "hovermode": "closest",
          "mapbox": {
           "style": "light"
          },
          "paper_bgcolor": "white",
          "plot_bgcolor": "#E5ECF6",
          "polar": {
           "angularaxis": {
            "gridcolor": "white",
            "linecolor": "white",
            "ticks": ""
           },
           "bgcolor": "#E5ECF6",
           "radialaxis": {
            "gridcolor": "white",
            "linecolor": "white",
            "ticks": ""
           }
          },
          "scene": {
           "xaxis": {
            "backgroundcolor": "#E5ECF6",
            "gridcolor": "white",
            "gridwidth": 2,
            "linecolor": "white",
            "showbackground": true,
            "ticks": "",
            "zerolinecolor": "white"
           },
           "yaxis": {
            "backgroundcolor": "#E5ECF6",
            "gridcolor": "white",
            "gridwidth": 2,
            "linecolor": "white",
            "showbackground": true,
            "ticks": "",
            "zerolinecolor": "white"
           },
           "zaxis": {
            "backgroundcolor": "#E5ECF6",
            "gridcolor": "white",
            "gridwidth": 2,
            "linecolor": "white",
            "showbackground": true,
            "ticks": "",
            "zerolinecolor": "white"
           }
          },
          "shapedefaults": {
           "line": {
            "color": "#2a3f5f"
           }
          },
          "ternary": {
           "aaxis": {
            "gridcolor": "white",
            "linecolor": "white",
            "ticks": ""
           },
           "baxis": {
            "gridcolor": "white",
            "linecolor": "white",
            "ticks": ""
           },
           "bgcolor": "#E5ECF6",
           "caxis": {
            "gridcolor": "white",
            "linecolor": "white",
            "ticks": ""
           }
          },
          "title": {
           "x": 0.05
          },
          "xaxis": {
           "automargin": true,
           "gridcolor": "white",
           "linecolor": "white",
           "ticks": "",
           "title": {
            "standoff": 15
           },
           "zerolinecolor": "white",
           "zerolinewidth": 2
          },
          "yaxis": {
           "automargin": true,
           "gridcolor": "white",
           "linecolor": "white",
           "ticks": "",
           "title": {
            "standoff": 15
           },
           "zerolinecolor": "white",
           "zerolinewidth": 2
          }
         }
        },
        "title": {
         "text": "Min/Max Boxplot for Total Sales per Genre"
        },
        "xaxis": {
         "anchor": "y",
         "domain": [
          0,
          1
         ],
         "title": {
          "text": "Genre"
         }
        },
        "yaxis": {
         "anchor": "x",
         "domain": [
          0,
          1
         ],
         "title": {
          "text": "total_sales"
         }
        }
       }
      }
     },
     "metadata": {},
     "output_type": "display_data"
    }
   ],
   "source": [
    "genre_box = px.box(genre_df, x='genre', y='total_sales', labels={\"genre\" : \"Genre\", \"total_sales\" : \"total_sales\"}, title=\"Min/Max Boxplot for Total Sales per Genre\", points=False)\n",
    "\n",
    "genre_box.show()"
   ]
  },
  {
   "cell_type": "markdown",
   "metadata": {},
   "source": [
    "# Step 4: Create a User Profile for Each Region"
   ]
  },
  {
   "cell_type": "markdown",
   "metadata": {},
   "source": [
    "# Bar Charts for NA Sales, EU sales and JP sales\n",
    "\n",
    "Question/ Task Being Addressed:\n",
    "For each region (NA, EU, JP), determine:\n",
    "\n",
    "The top five platforms. Describe variations in their market shares from region to region.\n",
    "The top five genres. Explain the difference.\n",
    "Do ESRB ratings affect sales in individual regions?"
   ]
  },
  {
   "cell_type": "markdown",
   "metadata": {},
   "source": [
    "### Reviewer's Comment\n",
    "Your calculations need to be supplemented a little more. Total sales is a poor metric for finding the most profitable genre. High overall sales numbers can hide a lot of small games with low sales. Or 2-3 stars and a bunch of failures. It's better to find a genre where games consistently bring in high revenue - for that it's worth considering average or median sales\n",
    "\n",
    "Ideally, visualize the data distribution using boxplot()"
   ]
  },
  {
   "cell_type": "markdown",
   "metadata": {},
   "source": [
    "### NA Profile Conclusions\n",
    "\n",
    "NA Top 3 Platforms with the Highest Average Sales:\n",
    "1) WiiU is the number 1 Platform with the highest average sales in NA with a median sales value of $0.195 M.\n",
    "2) XOne is the number 2 Platform with the highest average sales in NA with a median sales value of $0.19 M.\n",
    "3) 3DS is the number 3 Platform with the highest average sales in NA with a median sales value of $0.09 M.\n",
    "\n",
    "NA Top 3 Genres with the Highest Average Sales:\n",
    "1) Shooter is the number 1 Genre with the highest average sales in NA with a median sales value of $0.26 M.\n",
    "2) Sports is the number 2 Genre with the highest average sales in NA with a median sales value of $0.16 M.\n",
    "3) Platform is the number 3 Genre with the highest average sales in NA with a median sales value of $0.085 M.\n",
    "\n",
    "Do Esrb ratings affect sales in NA?\n",
    "ESRB rating sales in NA have a median sales value of $0.06 M and has a greater median sales value than  and T rating sales ($0.04 M median sales value), but not greater than: E10+ ratings median sales ($0.13 M median sales value) and M rating sales ($0.11 M median sales value)."
   ]
  },
  {
   "cell_type": "markdown",
   "metadata": {},
   "source": [
    "### EU Profile Conclusions\n",
    "EU Top 3 Platforms with the Highest Average Sales:\n",
    "1) WiiU is the number 1 Platform with the highest average sales in EU with a median sales value of $0.14 M.\n",
    "2) PS4 is the number 2 Platform with the highest average sales in EU with a median sales value of $0.11 M.\n",
    "3) XOne is the number 3 Platform with the highest average sales in EU with a median sales value of $0.1 M.\n",
    "\n",
    "EU Top 3 Genres with the Highest Average Sales:\n",
    "1) Shooter is the number 1 Genre with the highest average sales in EU with a median sales value of $0.09 M.\n",
    "2) Mischellaneous is the number 2 Genre with the highest average sales in EU with a median sales value of $0.085 M.\n",
    "3) Platform is the number 3 Genre with the highest average sales in EU with a median sales value of $0.08 M.\n",
    "\n",
    "Do Esrb ratings affect sales in EU?\n",
    "ESRB rating sales in EU have a median sales value of $0.09 M and has a greater median sales value than  and T rating sales ($0.04 M median sales value), but not greater than: E10+ ratings median sales ($0.1 M median sales value) and M rating sales ($0.125 M median sales value)."
   ]
  },
  {
   "cell_type": "markdown",
   "metadata": {},
   "source": [
    "### JP Profile Conclusions\n",
    "JP Top 3 Platforms with the Highest Average Sales:\n",
    "1) 3DS is the number 1 Platform with the highest average sales in JP with a median sales value of $0.08 M.\n",
    "2) PSV is the number 2 Platform with the highest average sales in JP with a median sales value of $0.06 M.\n",
    "3) WiiU is the number 3 Platform with the highest average sales in JP with a median sales value of $0.025 M.\n",
    "\n",
    "JP Top 3 Genres with the Highest Average Sales:\n",
    "1) Fighting is the number 1 Genre with the highest average sales in JP with a median sales value of $0.09 M.\n",
    "2) Puzzle is the number 2 Genre with the highest average sales in JP with a median sales value of $0.035 M.\n",
    "3) Role Playing is the number 3 Genre with the highest average sales in JP with a median sales value of $0.02 M.\n",
    "\n",
    "Do Esrb ratings affect sales in JP?\n",
    "ESRB rating sales in JP have a median sales value of $0, which is equal to the median sales values of M and T rating sales which is also $0, but not higher than T rating sales which have a median sales value of $0.01 M."
   ]
  },
  {
   "cell_type": "markdown",
   "metadata": {},
   "source": [
    "# NA Profile"
   ]
  },
  {
   "cell_type": "markdown",
   "metadata": {},
   "source": [
    "Code Meaning:\n",
    "1) Create a dataframe that only displays na_sales by using the drop() method on the df dataframe.  Add eu_sales, jp_sales, other_sales, and total_sales as an arguement to df.drop() in order to drop those columns.  \n",
    "2) Set the axis to 1 in order to apply the drop() method to the columns of the df dataframe.\n",
    "3) Assign the code to na_df in order to save the result.\n",
    "4) Use the head() method in order to print the first five rows of na_df to check for errors.\n",
    "\n",
    "Code Result:\n",
    "The na_df dataframe was created successfully.  The eu_sales, jp_sales, other_sales, total_sales columns were successfully dropped."
   ]
  },
  {
   "cell_type": "code",
   "execution_count": null,
   "metadata": {},
   "outputs": [],
   "source": [
    "na_df = df.drop(['eu_sales', 'jp_sales', 'other_sales', 'total_sales'], axis=1)\n",
    "\n",
    "na_df.head()"
   ]
  },
  {
   "cell_type": "markdown",
   "metadata": {},
   "source": [
    "### Reviewer's Note:\n",
    "Please correct the conclusions after correcting the actual period.\n",
    "\n",
    "Period corrected below."
   ]
  },
  {
   "cell_type": "markdown",
   "metadata": {},
   "source": [
    "Code Meaning:\n",
    "1) Create a variable called na_yr_list that contains the values: 2014, 2015, and 2016 (not in string form).\n",
    "2) Use the isin() method on the na_df dataframe with na_yr_list as an arguement.\n",
    "3) Create a dataframe called na_yr_df by placing open brackets[] next to the na_df dataframe with na_yr as an input.\n",
    "4) Use the head() method in order to print the first five rows of na_yr_df.\n",
    "\n",
    "Code Result:\n",
    "na_yr_df was created successfully."
   ]
  },
  {
   "cell_type": "code",
   "execution_count": null,
   "metadata": {},
   "outputs": [],
   "source": [
    "na_yr_list = [2014, 2015, 2016]\n",
    "na_yr = na_df['year_of_release'].isin(na_yr_list)\n",
    "na_yr_df = na_df[na_yr]\n",
    "\n",
    "na_yr_df.head()"
   ]
  },
  {
   "cell_type": "markdown",
   "metadata": {},
   "source": [
    "### NA Boxplots"
   ]
  },
  {
   "cell_type": "markdown",
   "metadata": {},
   "source": [
    "Code Meaning:\n",
    "1) Use px.box() in order to make a boxplot titled, \"Min/Max Boxplot fot Total NA Sales per Platform\" with the data from the na_yr_df dataframe.\n",
    "2) Use the platform column of the na_yr_df dataframe as the x axis and na_sales column of the na_yr_df dataframe as the y axis.\n",
    "3) Assign the code to the variable max_na_platform in order to save the result.\n",
    "4) Use the show() method in order to display the max_na_platform bar chart."
   ]
  },
  {
   "cell_type": "code",
   "execution_count": null,
   "metadata": {},
   "outputs": [],
   "source": [
    "max_na_platform = px.box(na_yr_df, x='platform', y='na_sales', labels={\"platform\": \"Platform\", \"na_sales\": \"Na Sales\"}, title='Min/Max Boxplot for Total NA Sales per Platform', points=False)\n",
    "\n",
    "\n",
    "max_na_platform.show()"
   ]
  },
  {
   "cell_type": "markdown",
   "metadata": {},
   "source": [
    "Code Meaning:\n",
    "1) Use px.box() in order to make a boxplot titled, \"Quartile Boxplot fot Total NA Sales per Platform\" with the data from the na_yr_df dataframe.\n",
    "2) Use the platform column of the na_yr_df dataframe as the x axis and na_sales column of the na_yr_df dataframe as the y axis.\n",
    "3) Assign the code to the variable na_platform in order to save the result.\n",
    "4) Use the update_yaxes() method in order to limit the y axis from -0.05-0.6 by using the range parameter.\n",
    "5) Use the show() method in order to display the na_platform bar chart."
   ]
  },
  {
   "cell_type": "code",
   "execution_count": null,
   "metadata": {},
   "outputs": [],
   "source": [
    "na_platform = px.box(na_yr_df, x='platform', y='na_sales', labels={\"platform\": \"Platform\", \"na_sales\": \"Na Sales\"}, title='Quartile Boxplot for Total NA Sales per Platform', points=False)\n",
    "\n",
    "na_platform.update_yaxes(range=[-0.05, 0.6])\n",
    "na_platform.show()"
   ]
  },
  {
   "cell_type": "markdown",
   "metadata": {},
   "source": [
    "Code Meaning:\n",
    "1) Use px.box() in order to create a boxplot chart titled 'Min/Max Boxplot for NA Sales per Genre' using data from the na_yr_df dataframe.\n",
    "2) Use the genre column of the na_yr_df dataframe as the x axis and use the na_sales column of the na_df_yr dataframe as the y axis.\n",
    "3) Use the labels parameter to label the x and y axis appropriately.\n",
    "4) Assign the code to max_na_genre in order to save the result.\n",
    "5) Use the show() method on max_na_genre in order to display the bar chart."
   ]
  },
  {
   "cell_type": "code",
   "execution_count": null,
   "metadata": {},
   "outputs": [],
   "source": [
    "max_na_genre = px.box(na_yr_df, x='genre', y='na_sales', points=False, labels={\"na_sales\" : \"NA Sales\", \"genre\": \"Genre\"}, title=\"Min/Max Boxplot for Total NA Sales per Genre\")\n",
    "\n",
    "max_na_genre.show()"
   ]
  },
  {
   "cell_type": "markdown",
   "metadata": {},
   "source": [
    "Code Meaning:\n",
    "1) Use px.box() in order to create a boxplot chart titled 'Quartile Boxplot for NA Sales per Genre' using data from the na_yr_df dataframe.\n",
    "2) Use the genre column of the na_yr_df dataframe as the x axis and use the na_sales column of the na_df_yr dataframe as the y axis.\n",
    "3) Use the labels parameter to label the x and y axis appropriately.\n",
    "4) Use the update_yaxes() method in order limit the y axis to -0.05-0.8.\n",
    "5) Assign the code to na_genre in order to save the result.\n",
    "6) Use the show() method on na_genre in order to display the bar chart."
   ]
  },
  {
   "cell_type": "code",
   "execution_count": null,
   "metadata": {},
   "outputs": [],
   "source": [
    "na_genre = px.box(na_yr_df, x='genre', y='na_sales', points=False, labels={\"na_sales\" : \"NA Sales\", \"genre\": \"Genre\"}, title=\"Quartile Boxplot for Total NA Sales per Genre\")\n",
    "na_genre.update_yaxes(range=[-0.05, 0.8])\n",
    "na_genre.show()"
   ]
  },
  {
   "cell_type": "markdown",
   "metadata": {},
   "source": [
    "Code Meaning:\n",
    "1) Use px.box() in order to create a boxplot titled 'Min/Max Boxplot for NA Sales per Rating' using data from the na_yr_df dataframe.\n",
    "2) Use the ratings column of the na_yr_df dataframe as the x axis and use the na_sales column of the na_yr_df dataframe as the y axis.\n",
    "4) Assign the code to max_na_rating in order to save the result.\n",
    "5) Use the show() method on max_na_rating in order to display the bar chart."
   ]
  },
  {
   "cell_type": "code",
   "execution_count": null,
   "metadata": {},
   "outputs": [],
   "source": [
    "max_na_rating = px.box(na_yr_df, x='rating', y='na_sales', labels={\"rating\": \"Rating\", \"na_sales\": \"NA Sales\"}, title='Min/Max Boxplot for NA Sales per Rating', points=False)\n",
    "\n",
    "max_na_rating.show()"
   ]
  },
  {
   "cell_type": "markdown",
   "metadata": {},
   "source": [
    "Code Meaning:\n",
    "1) Use px.box() in order to create a boxplot titled 'Quartile Boxplot for NA Sales per Rating' using data from the na_yr_df dataframe.\n",
    "2) Use the ratings column of the na_yr_df dataframe as the x axis and use the na_sales column of the na_yr_df dataframe as the y axis.\n",
    "3) Use the update_y_axes() method in order to limit the y axis from -0.05-0.5 by using the range parameter.\n",
    "4) Assign the code to na_rating in order to save the result.\n",
    "5) Use the show() method on na_rating in order to display the bar chart."
   ]
  },
  {
   "cell_type": "code",
   "execution_count": null,
   "metadata": {},
   "outputs": [],
   "source": [
    "na_rating = px.box(na_yr_df, x='rating', y='na_sales', labels={\"rating\": \"Rating\", \"na_sales\": \"NA Sales\"}, title='Quartile Boxplot for NA Sales per Rating', points=False)\n",
    "\n",
    "na_rating.update_yaxes(range=[-0.05, 0.5])\n",
    "na_rating.show()"
   ]
  },
  {
   "cell_type": "markdown",
   "metadata": {},
   "source": [
    "# EU Profile"
   ]
  },
  {
   "cell_type": "markdown",
   "metadata": {},
   "source": [
    "Code Meaning:\n",
    "1) Create a dataframe that only displays eu_sales by using the drop() method on the df dataframe.  Add na_sales, jp_sales, other_sales, and total_sales as an arguement to df.drop() in order to drop those columns.  \n",
    "2) Set the axis to 1 in order to apply the drop() method to the columns of the df dataframe.\n",
    "3) Assign the code to eu_df in order to save the result.\n",
    "4) Use the head() method in order to print the first five rows of eu_df to check for errors.\n",
    "\n",
    "Code Result:\n",
    "The eu_df dataframe was created successfully.  The na_sales, jp_sales, other_sales, total_sales columns were successfully dropped."
   ]
  },
  {
   "cell_type": "code",
   "execution_count": null,
   "metadata": {},
   "outputs": [],
   "source": [
    "eu_df = df.drop(['na_sales', 'jp_sales', 'other_sales', 'total_sales'], axis=1)\n",
    "\n",
    "eu_df.head()"
   ]
  },
  {
   "cell_type": "markdown",
   "metadata": {},
   "source": [
    "### Reviewer's Note:\n",
    "Please correct the conclusions after correcting the actual period.\n",
    "\n",
    "Period corrected below."
   ]
  },
  {
   "cell_type": "markdown",
   "metadata": {},
   "source": [
    "Code Meaning:\n",
    "1) Create a variable called eu_yr_list that contains the values: 2014, 2015, and 2016 (not in string form).\n",
    "2) Use the isin() method on the eu_df dataframe with eu_yr_list as an arguement.\n",
    "3) Create a dataframe called eu_yr_df by placing open brackets[] next to the eu_df dataframe with eu_yr as an input.\n",
    "4) Use the head() method in order to print the first five rows of eu_yr_df.\n",
    "\n",
    "Code Result:\n",
    "eu_yr_df was created successfully."
   ]
  },
  {
   "cell_type": "code",
   "execution_count": null,
   "metadata": {},
   "outputs": [],
   "source": [
    "eu_yr_list = [2014, 2015, 2016]\n",
    "eu_yr = eu_df['year_of_release'].isin(eu_yr_list)\n",
    "eu_yr_df = eu_df[na_yr]\n",
    "\n",
    "eu_yr_df.head()"
   ]
  },
  {
   "cell_type": "markdown",
   "metadata": {},
   "source": [
    "Code Meaning:\n",
    "1) Use px.box() in order to make a boxplot titled, \"Min/Max Boxplot for EU Sales per Platform' with the data from the eu_yr_df dataframe.\n",
    "2) Use the platform column of the eu_yr_df dataframe as the x axis and eu_sales column of the eu_yr_df dataframe as the y axis.\n",
    "3) Assign the code to the variable max_eu_platform in order to save the result.\n",
    "4) Use the show() method in order to display the max_eu_platform bar chart."
   ]
  },
  {
   "cell_type": "code",
   "execution_count": null,
   "metadata": {},
   "outputs": [],
   "source": [
    "max_eu_platform = px.box(eu_yr_df, x='platform', y='eu_sales', labels={\"platform\": \"Platform\", \"eu_sales\": \"EU Sales\"}, title='Min/Max Boxplot for Eu Sales per Platform', points=False)\n",
    "\n",
    "max_eu_platform.show()"
   ]
  },
  {
   "cell_type": "markdown",
   "metadata": {},
   "source": [
    "Code Meaning:\n",
    "1) Use px.box() in order to make a boxplot titled, \"Quartile Boxplot for EU Sales per Platform' with the data from the eu_yr_df dataframe.\n",
    "2) Use the platform column of the eu_yr_df dataframe as the x axis and eu_sales column of the eu_yr_df dataframe as the y axis.\n",
    "3) Assign the code to the variable eu_platform in order to save the result.\n",
    "4) Use the update_yaxes() method in order to limit the y axis from -0.05-0.5 by using the range parameter.\n",
    "5) Use the show() method in order to display the eu_platform bar chart."
   ]
  },
  {
   "cell_type": "code",
   "execution_count": null,
   "metadata": {},
   "outputs": [],
   "source": [
    "eu_platform = px.box(eu_yr_df, x='platform', y='eu_sales', labels={\"platform\": \"Platform\", \"eu_sales\": \"EU Sales\"}, title='Quartile Boxplot for Eu Sales per Platform', points=False)\n",
    "\n",
    "eu_platform.update_yaxes(range=[-0.05, 0.5])\n",
    "eu_platform.show()"
   ]
  },
  {
   "cell_type": "markdown",
   "metadata": {},
   "source": [
    "Code Meaning:\n",
    "1) Use px.box() in order to create a boxplot titled 'Min/Max Boxplot for EU Sales per Genre' using data from the eu_yr_df dataframe.\n",
    "2) Use the genre column of the eu_yr_df dataframe as the x axis and use the eu_sales column of the eu_yr_df dataframe as the y axis.\n",
    "3) Assign the code to max_eu_genre in order to save the result.\n",
    "4) Use the show() method on max_eu_genre in order to display the bar chart."
   ]
  },
  {
   "cell_type": "code",
   "execution_count": null,
   "metadata": {},
   "outputs": [],
   "source": [
    "eu_genre= px.box(eu_df, x='genre', y='eu_sales', labels={\"genre\": \"Genre\", \"eu_sales\": \"EU Sales\"}, title='Min/Max Boxplot for Eu Sales per Genre', points=False)\n",
    "\n",
    "eu_genre.show()"
   ]
  },
  {
   "cell_type": "markdown",
   "metadata": {},
   "source": [
    "Code Meaning:\n",
    "1) Use px.box() in order to create a boxplot titled 'Quartile Boxplot for EU Sales per Genre' using data from the eu_yr_df dataframe.\n",
    "2) Use the genre column of the eu_yr_df dataframe as the x axis and use the eu_sales column of the eu_yr_df dataframe as the y axis.\n",
    "3) Assign the code to eu_genre in order to save the result.\n",
    "4) Use the update_yaxes() method in order to limit the y axis to -0.1-0.35 using the range parameter.\n",
    "5) Use the show() method on eu_genre in order to display the bar chart."
   ]
  },
  {
   "cell_type": "code",
   "execution_count": null,
   "metadata": {},
   "outputs": [],
   "source": [
    "eu_genre= px.box(eu_df, x='genre', y='eu_sales', labels={\"genre\": \"Genre\", \"eu_sales\": \"EU Sales\"}, title='Quartile Boxplot for Eu Sales per Genre', points=False)\n",
    "\n",
    "eu_genre.update_yaxes(range=[-0.1, 0.35])\n",
    "eu_genre.show()"
   ]
  },
  {
   "cell_type": "markdown",
   "metadata": {},
   "source": [
    "Code Meaning:\n",
    "1) Use px.box() in order to create a bar chart titled 'Min/Max Boxplot for EU Sales per Rating' using data from the eu_yr_df dataframe.\n",
    "2) Use the ratings column of the eu_yr_df dataframe as the x axis and use the eu_sales column of the eu_yr_df dataframe as the y axis.\n",
    "3) Assign the code to eu_rating in order to save the result.\n",
    "4) Use the show() method eu_rating in order to display the bar chart."
   ]
  },
  {
   "cell_type": "code",
   "execution_count": null,
   "metadata": {},
   "outputs": [],
   "source": [
    "max_eu_rating = px.box(eu_yr_df, x='rating', y='eu_sales', labels={\"rating\": \"Rating\", \"eu_sales\": \"EU Sales\"}, title='Min/Max Boxplot for EU Sales per Rating', points=False)\n",
    "\n",
    "max_eu_rating.show()"
   ]
  },
  {
   "cell_type": "markdown",
   "metadata": {},
   "source": [
    "Code Meaning:\n",
    "1) Use px.box() in order to create a bar chart titled 'Quartile Boxplot for EU Sales per Rating' using data from the eu_yr_df dataframe.\n",
    "2) Use the ratings column of the eu_yr_df dataframe as the x axis and use the eu_sales column of the eu_yr_df dataframe as the y axis.\n",
    "3) Assign the code to eu_rating in order to save the result.\n",
    "4) Use the update_yaxes() method in order to limit the y axis to -0.05-0.45 using the range parameter.\n",
    "4) Use the show() method eu_rating in order to display the bar chart."
   ]
  },
  {
   "cell_type": "code",
   "execution_count": null,
   "metadata": {},
   "outputs": [],
   "source": [
    "eu_rating = px.box(eu_yr_df, x='rating', y='eu_sales', labels={\"rating\": \"Rating\", \"eu_sales\": \"EU Sales\"}, title='Quartile Boxplot for EU Sales per Rating', points=False)\n",
    "\n",
    "eu_rating.update_yaxes(range=[-0.05, 0.45])\n",
    "eu_rating.show()"
   ]
  },
  {
   "cell_type": "markdown",
   "metadata": {},
   "source": [
    "Code Meaning:\n",
    "1) Create a dataframe that only displays jp_sales by using the drop() method on the df dataframe.  Add na_sales, eu_sales, other_sales, and total_sales as an arguement to df.drop() in order to drop those columns.  \n",
    "2) Set the axis to 1 in order to apply the drop() method to the columns of the df dataframe.\n",
    "3) Assign the code to jp_df in order to save the result.\n",
    "4) Use the head() method in order to print the first five rows of jp_df to check for errors.\n",
    "\n",
    "Code Result:\n",
    "The jp_df dataframe was created successfully.  The na_sales, eu_sales, other_sales, total_sales columns were successfully dropped."
   ]
  },
  {
   "cell_type": "code",
   "execution_count": null,
   "metadata": {},
   "outputs": [],
   "source": [
    "jp_df = df.drop(['na_sales', 'eu_sales', 'other_sales', 'total_sales'], axis=1)\n",
    "\n",
    "jp_df.head()"
   ]
  },
  {
   "cell_type": "markdown",
   "metadata": {},
   "source": [
    "### Reviewer's Note:\n",
    "Please correct the conclusions after correcting the actual period\n",
    "\n",
    "Period corrected below."
   ]
  },
  {
   "cell_type": "markdown",
   "metadata": {},
   "source": [
    "Code Meaning:\n",
    "1) Create a variable called jp_yr_list that contains the values: 2014, 2015, and 2016 (not in string form).\n",
    "2) Use the isin() method on the jp_df dataframe with jp_yr_list as an arguement.\n",
    "3) Create a dataframe called jp_yr_df by placing open brackets[] next to the jp_df dataframe with jp_yr as an input.\n",
    "4) Use the head() method in order to print the first five rows of jp_yr_df.\n",
    "\n",
    "Code Result:\n",
    "jp_yr_df was created successfully."
   ]
  },
  {
   "cell_type": "code",
   "execution_count": null,
   "metadata": {},
   "outputs": [],
   "source": [
    "jp_yr_list = [2014, 2015, 2016]\n",
    "jp_yr = jp_df['year_of_release'].isin(jp_yr_list)\n",
    "jp_yr_df = jp_df[na_yr]\n",
    "\n",
    "jp_yr_df.head()"
   ]
  },
  {
   "cell_type": "markdown",
   "metadata": {},
   "source": [
    "Code Meaning:\n",
    "1) Use px.box() in order to make a bar chart titled, \"Min/Max Boxplot for JP Sales per Platform' with the data from the jp_yr_df dataframe.\n",
    "2) Use the platform column of the jp_yr_df dataframe as the x axis and jp_sales column of the jp_yr_df dataframe as the y axis.\n",
    "3) Assign the code to the variable max_jp_platform in order to save the result.\n",
    "4) Use the show() method in order to display the max_jp_platform bar chart."
   ]
  },
  {
   "cell_type": "code",
   "execution_count": null,
   "metadata": {},
   "outputs": [],
   "source": [
    "max_jp_platform = px.box(jp_yr_df, x='platform', y='jp_sales', labels={\"platform\": \"Platform\", \"jp_sales\": \"JP Sales\"}, title='Min/Max Boxplot for JP Sales per Platform', points=False)\n",
    "\n",
    "max_jp_platform.show()"
   ]
  },
  {
   "cell_type": "markdown",
   "metadata": {},
   "source": [
    "Code Meaning:\n",
    "1) Use px.box() in order to make a bar chart titled, \"Quartile Boxplot for JP Sales per Platform' with the data from the jp_yr_df dataframe.\n",
    "2) Use the platform column of the jp_yr_df dataframe as the x axis and jp_sales column of the jp_yr_df dataframe as the y axis.\n",
    "3) Assign the code to the variable jp_platform in order to save the result.\n",
    "4) Use the update_yaxes() method to limit the y axis from 0-0.2 with the range parameter,\n",
    "5) Use the show() method in order to display the jp_platform bar chart."
   ]
  },
  {
   "cell_type": "code",
   "execution_count": null,
   "metadata": {},
   "outputs": [],
   "source": [
    "jp_platform = px.box(jp_yr_df, x='platform', y='jp_sales', labels={\"platform\": \"Platform\", \"jp_sales\": \"JP Sales\"}, title='Quartile Boxplot for JP Sales per Platform', points=False)\n",
    "\n",
    "jp_platform.update_yaxes(range=[0, 0.2])\n",
    "jp_platform.show()"
   ]
  },
  {
   "cell_type": "markdown",
   "metadata": {},
   "source": [
    "Code Meaning:\n",
    "1) Use px.bar() in order to create a bar chart titled 'Min/Max Boxplot for JP Sales per Genre' using data from the jp_yr_df dataframe.\n",
    "2) Use the genre column of the jp_yr_df dataframe as the x axis and use the jp_sales column of the jp_yr_df dataframe as the y axis.\n",
    "3) Assign the code to max_jp_genre in order to save the result.\n",
    "\n",
    "4) Use the show() method on max_jp_genre in order to display the bar chart."
   ]
  },
  {
   "cell_type": "code",
   "execution_count": null,
   "metadata": {},
   "outputs": [],
   "source": [
    "max_jp_genre = px.box(jp_yr_df, x='genre', y='jp_sales', labels={\"genre\": \"Genre\", \"jp_sales\": \"JP Sales\"}, title='Min/Max Boxplot for JP Sales per Genre', points=False)\n",
    "\n",
    "max_jp_genre.show()"
   ]
  },
  {
   "cell_type": "markdown",
   "metadata": {},
   "source": [
    "Code Meaning:\n",
    "1) Use px.bar() in order to create a bar chart titled 'Quartile Boxplot for JP Sales per Genre' using data from the jp_yr_df dataframe.\n",
    "2) Use the genre column of the jp_yr_df dataframe as the x axis and use the jp_sales column of the jp_yr_df dataframe as the y axis.\n",
    "3) Assign the code to jp_genre in order to save the result.\n",
    "4) Use the update_yaxes() method in order to limit the y axis from 0-0.15 using the range parameter.\n",
    "5) Use the show() method on jp_genre in order to display the bar chart."
   ]
  },
  {
   "cell_type": "code",
   "execution_count": null,
   "metadata": {},
   "outputs": [],
   "source": [
    "jp_genre = px.box(jp_yr_df, x='genre', y='jp_sales', labels={\"genre\": \"Genre\", \"jp_sales\": \"JP Sales\"}, title='Quartile Boxplot for JP Sales per Genre', points=False)\n",
    "\n",
    "jp_genre.update_yaxes(range=[0, 0.15])\n",
    "jp_genre.show()"
   ]
  },
  {
   "cell_type": "markdown",
   "metadata": {},
   "source": [
    "Code Meaning:\n",
    "1) Use px.bar() in order to create a bar chart titled 'Min/Max Boxplot for JP Sales per Rating' using data from the jp_df dataframe.\n",
    "2) Use the ratings column of the jp_yr_df dataframe as the x axis and use the jp_sales column of the jp_yr_df dataframe as the y axis.\n",
    "3) Assign the code to jp_rating in order to save the result.\n",
    "4) Use the show() method on jp_rating in order to display the bar chart."
   ]
  },
  {
   "cell_type": "code",
   "execution_count": null,
   "metadata": {},
   "outputs": [],
   "source": [
    "max_jp_rating = px.box(jp_yr_df, x='rating', y='jp_sales', labels={\"rating\": \"Rating\", \"jp_sales\": \"JP Sales\"}, title='Min/Max Boxplot for JP Sales per Rating', points=False)\n",
    "\n",
    "max_jp_rating.show()"
   ]
  },
  {
   "cell_type": "markdown",
   "metadata": {},
   "source": [
    "Code Meaning:\n",
    "1) Use px.bar() in order to create a bar chart titled 'Quartile Boxplot for JP Sales per Rating' using data from the jp_df dataframe.\n",
    "2) Use the ratings column of the jp_yr_df dataframe as the x axis and use the jp_sales column of the jp_yr_df dataframe as the y axis.\n",
    "3) Assign the code to jp_rating in order to save the result.\n",
    "4) Use the update_yaxes() method in order to limit the y axis from 0-0.08 using the range parameter.\n",
    "5) Use the show() method on jp_rating in order to display the bar chart."
   ]
  },
  {
   "cell_type": "code",
   "execution_count": null,
   "metadata": {},
   "outputs": [],
   "source": [
    "jp_rating = px.box(jp_yr_df, x='rating', y='jp_sales', labels={\"rating\": \"Rating\", \"jp_sales\": \"JP Sales\"}, title='Quartile Boxplot for JP Sales per Rating', points=False)\n",
    "\n",
    "jp_rating.update_yaxes(range=[0, 0.08])\n",
    "jp_rating.show()"
   ]
  },
  {
   "cell_type": "markdown",
   "metadata": {},
   "source": [
    "# Step 5: Hypothesis Testing"
   ]
  },
  {
   "cell_type": "markdown",
   "metadata": {},
   "source": [
    "# Testing Hypotheses and Calculating Variances\n",
    "\n",
    "Task/ Question Being Addressed:\n",
    "Test the following hypotheses:\n",
    "\n",
    "—Average user ratings of the Xbox One and PC platforms are the same. \n",
    "\n",
    "—Average user ratings for the Action and Sports genres are different.\n",
    "\n",
    "Set the alpha threshold value yourself.\n",
    "\n",
    "Explain:\n",
    "\n",
    "—How you formulated the null and alternative hypotheses \n",
    "\n",
    "—What significance level you chose to test the hypotheses, and why"
   ]
  },
  {
   "cell_type": "markdown",
   "metadata": {},
   "source": [
    "Code Meaning:\n",
    "1) Create a dataframe that only displays filtered results where the platform column of the df dataframe is listed as 'XOne'.\n",
    "2) Assign the code to the variable x_box_1 in order to save the result.\n",
    "3) Create a dataframe that only displays filtered results where the platform column of the df dataframe is listed as 'PC'.\n",
    "4) Assign the code to the variable pc in order to save the result."
   ]
  },
  {
   "cell_type": "code",
   "execution_count": null,
   "metadata": {},
   "outputs": [],
   "source": [
    "x_box_1 = df[df['platform'] == 'XOne']\n",
    "\n",
    "pc = df[df['platform'] == 'PC']"
   ]
  },
  {
   "cell_type": "markdown",
   "metadata": {},
   "source": [
    "Code Meaning: \n",
    "1) Create a list that consists of the values 2014, 2015, and 2016 that are not listed in string format and assign the list to the variable x_box_1_list to save the result.\n",
    "2) Use the isin() method on the year_of_release column of the x_box_1 dataframe and use the x_box_1_list as the input arguement for the isin() method.  Assign the code to the variable name x_box_1_yr to save the result.\n",
    "3) Create a dataframe called x_box_1_yr_df by inputing the x_box_1_yr variable in  open brackets[] next to the x_box_1 dataframe.\n",
    "4) Use the head() method in order to print the first five rows of x_box_1_yr_df in order to check for errors.\n",
    "\n",
    "Code Result:\n",
    "The x_box_1_yr_df dataframe was created successfully."
   ]
  },
  {
   "cell_type": "code",
   "execution_count": null,
   "metadata": {},
   "outputs": [],
   "source": [
    "x_box_1_list = [2014, 2015, 2016]\n",
    "x_box_1_yr = x_box_1['year_of_release'].isin(x_box_1_list)\n",
    "x_box_1_yr_df = x_box_1[x_box_1_yr]\n",
    "\n",
    "x_box_1_yr_df.head()"
   ]
  },
  {
   "cell_type": "markdown",
   "metadata": {},
   "source": [
    "Code Meaning: \n",
    "1) Create a list that consists of the values 2014, 2015, and 2016 that are not listed in string format and assign the list to the variable pc_list to save the result.\n",
    "2) Use the isin() method on the year_of_release column of the pc dataframe and use pc_list as the input arguement for the isin() method.  Assign the code to the variable name pc_yr to save the result.\n",
    "3) Create a dataframe called pc_yr_df by inputing the pc_yr variable in  open brackets[] next to the pc dataframe.\n",
    "4) Use the head() method in order to print the first five rows of pc_yr_df in order to check for errors.\n",
    "\n",
    "Code Result:\n",
    "The pc_yr_df dataframe was created successfully."
   ]
  },
  {
   "cell_type": "code",
   "execution_count": null,
   "metadata": {},
   "outputs": [],
   "source": [
    "pc_list = [2014, 2015, 2016]\n",
    "pc_yr = pc['year_of_release'].isin(pc_list)\n",
    "pc_yr_df = pc[pc_yr]\n",
    "\n",
    "pc_yr_df.head()"
   ]
  },
  {
   "cell_type": "markdown",
   "metadata": {},
   "source": [
    "Code Meaning:\n",
    "1) Use np.std() in order to calculate the standard deviation for the user_score column of the x_box_1 dataframe.\n",
    "2)Assign the code to the variable x_box_1_std in order to save the result.\n",
    "3) Print x_box_1_std."
   ]
  },
  {
   "cell_type": "code",
   "execution_count": null,
   "metadata": {},
   "outputs": [],
   "source": [
    "x_box_1_std = np.std(x_box_1_yr_df['user_score'])\n",
    "\n",
    "x_box_1_std"
   ]
  },
  {
   "cell_type": "markdown",
   "metadata": {},
   "source": [
    "Code Meaning:\n",
    "1) Use np.std() in order to calculate the standard deviation for the user_score column of the pc_yr_df dataframe.\n",
    "2)Assign the code to the variable pc_std in order to save the result.\n",
    "3) Print pc_std."
   ]
  },
  {
   "cell_type": "code",
   "execution_count": null,
   "metadata": {},
   "outputs": [],
   "source": [
    "pc_std = np.std(pc_yr_df['user_score'])\n",
    "pc_std"
   ]
  },
  {
   "cell_type": "markdown",
   "metadata": {},
   "source": [
    "Conclusion: The standard deviation for the user_score column of the pc_yr_df dataframe is greater than the standard deviation for the user_score column of the x_box_1_yr dataframe."
   ]
  },
  {
   "cell_type": "markdown",
   "metadata": {},
   "source": [
    "Code Meaning:\n",
    "1) Use np.var() in order to calculate the variance of the user_score column of the x_box_1_yr_df dataframe.\n",
    "2) Assign the code to x_box_variance in order to save the result.\n",
    "3) Print x_box_variance."
   ]
  },
  {
   "cell_type": "code",
   "execution_count": null,
   "metadata": {},
   "outputs": [],
   "source": [
    "x_box_1_variance = np.var(x_box_1_yr_df['user_score'])\n",
    "\n",
    "x_box_1_variance"
   ]
  },
  {
   "cell_type": "markdown",
   "metadata": {},
   "source": [
    "Code Meaning:\n",
    "1) Use np.var() in order to calculate the variance of the user_score column of the pc_yr_df dataframe.\n",
    "2) Assign the code to pc_variance in order to save the result.\n",
    "3) Print pc_variance."
   ]
  },
  {
   "cell_type": "code",
   "execution_count": null,
   "metadata": {},
   "outputs": [],
   "source": [
    "pc_variance = np.var(pc_yr_df['user_score'])\n",
    "\n",
    "pc_variance"
   ]
  },
  {
   "cell_type": "markdown",
   "metadata": {},
   "source": [
    "Conclusion: The variance of the user_score column of the pc_yr_df dataframe is greater than the variance from the user_score column of the x_box_1_yr_df dataframe.  The two variances are not equal."
   ]
  },
  {
   "cell_type": "markdown",
   "metadata": {},
   "source": [
    "Null Hypothesis Being Tested:\n",
    "—Average user ratings of the Xbox One and PC platforms are the same. \n",
    "\n",
    "Alternative Hypothesis:\n",
    "-Average user ratings of Xbox One and PC platforms are different.\n"
   ]
  },
  {
   "cell_type": "markdown",
   "metadata": {},
   "source": [
    "Code Meaning:\n",
    "1) In order to start preparing for the ttest, first set the threshhold to 0.05 which would indicate a 5 percent probablility.  Save this code under the variable alpha.\n",
    "2) Then, use st.ttest_ind() in order to run a ttest on the user_score columns of the x_box_1_yr_df and pc_yr_df dataframes.  Set equal_var to False.\n",
    "3) Assign the code to the variable results in order to save the result.\n",
    "4) Calculate the probablity by using the pvalue method on the results variable, and print the pvalue.\n",
    "5) Create an if statement that prints \"We reject null hypothesis.\", if results.pvalue is less than alpha.\n",
    "6) Create an else statment which prints: \"We cannot reject null hypothesis\". which will pring if results.pvalue is greater than or equal to alpha.\n",
    "\n",
    "ttest rationale:  I used st.ttest_ind() because this ttest in particular tests the equality of two population means."
   ]
  },
  {
   "cell_type": "code",
   "execution_count": null,
   "metadata": {},
   "outputs": [],
   "source": [
    "alpha = 0.05 \n",
    "results = st.ttest_ind(x_box_1_yr_df['user_score'], pc_yr_df['user_score'], equal_var=False)\n",
    "\n",
    "print('pvalue: ', results.pvalue)\n",
    "if results.pvalue < alpha:\n",
    "    print(\"We reject null hypothesis.\")\n",
    "else:\n",
    "    print(\"We cannot reject null hypothesis.\")"
   ]
  },
  {
   "cell_type": "markdown",
   "metadata": {},
   "source": [
    "Conclusion: According to the ttest, it appears that we cannot reject the previously stated null hypothesis and we can conclude that average user ratings of X Box One and PC are possibly equal."
   ]
  },
  {
   "cell_type": "markdown",
   "metadata": {},
   "source": [
    "Code Meaning:\n",
    "1) Using conditional filtering, create a dataframe called df_action that only contains rows where the genre column has the result action.\n",
    "2)Using conditional filtering, create a dataframe called df_sports that only contains rows where the genre column has the result sports."
   ]
  },
  {
   "cell_type": "code",
   "execution_count": null,
   "metadata": {},
   "outputs": [],
   "source": [
    "df_action = df[df['genre'] == 'Action']\n",
    "\n",
    "df_sports = df[df['genre'] == 'Sports']\n"
   ]
  },
  {
   "cell_type": "markdown",
   "metadata": {},
   "source": [
    "Code Meaning: \n",
    "1) Create a list that consists of the values 2014, 2015, and 2016 that are not listed in string format and assign the list to the variable action_list to save the result.\n",
    "2) Use the isin() method on the year_of_release column of the df_action dataframe and use action_list as the input arguement for the isin() method.  Assign the code to the variable name action_yr to save the result.\n",
    "3) Create a dataframe called action_yr_df by inputing the action_yr variable in  open brackets[] next to the pc dataframe.\n",
    "4) Use the head() method in order to print the first five rows of action_yr_df in order to check for errors.\n",
    "\n",
    "Code Result:\n",
    "The action_yr_df dataframe was created successfully."
   ]
  },
  {
   "cell_type": "code",
   "execution_count": null,
   "metadata": {},
   "outputs": [],
   "source": [
    "action_list = [2014, 2015, 2016]\n",
    "action_yr = df_action['year_of_release'].isin(action_list)\n",
    "action_yr_df = df_action[action_yr]\n",
    "\n",
    "action_yr_df.head()"
   ]
  },
  {
   "cell_type": "markdown",
   "metadata": {},
   "source": [
    "Code Meaning: \n",
    "1) Create a list that consists of the values 2014, 2015, and 2016 that are not listed in string format and assign the list to the variable sports_list to save the result.\n",
    "2) Use the isin() method on the year_of_release column of the df_sports dataframe and use sports_list as the input arguement for the isin() method.  Assign the code to the variable name sports_yr to save the result.\n",
    "3) Create a dataframe called sports_yr_df by inputing the sports_yr variable in  open brackets[] next to the pc dataframe.\n",
    "4) Use the head() method in order to print the first five rows of sports_yr_df in order to check for errors.\n",
    "\n",
    "Code Result:\n",
    "The sports_yr_df dataframe was created successfully."
   ]
  },
  {
   "cell_type": "code",
   "execution_count": null,
   "metadata": {},
   "outputs": [],
   "source": [
    "sports_list = [2014, 2015, 2016]\n",
    "sports_yr = df_sports['year_of_release'].isin(sports_list)\n",
    "sports_yr_df = df_sports[sports_yr]\n",
    "\n",
    "sports_yr_df.head()"
   ]
  },
  {
   "cell_type": "markdown",
   "metadata": {},
   "source": [
    "Code Meaning:\n",
    "1) Use np.std() in order to calculate the standard deviation for the user_score column of the action_yr_df dataframe.\n",
    "2)Assign the code to the variable action_yr_std in order to save the result.\n",
    "3) Print action_yr_std."
   ]
  },
  {
   "cell_type": "code",
   "execution_count": null,
   "metadata": {},
   "outputs": [],
   "source": [
    "action_yr_std = np.std(action_yr_df['user_score'])\n",
    "\n",
    "action_yr_std"
   ]
  },
  {
   "cell_type": "markdown",
   "metadata": {},
   "source": [
    "Code Meaning:\n",
    "1) Use np.std() in order to calculate the standard deviation for the user_score column of the sports_yr_std dataframe.\n",
    "2)Assign the code to the variable sports_yr_std in order to save the result.\n",
    "3) Print sports_yr_std."
   ]
  },
  {
   "cell_type": "code",
   "execution_count": null,
   "metadata": {},
   "outputs": [],
   "source": [
    "sports_yr_std = np.std(sports_yr_df['user_score'])\n",
    "\n",
    "sports_yr_std"
   ]
  },
  {
   "cell_type": "markdown",
   "metadata": {},
   "source": [
    "Conclusion:  The standard deviation for the user_score column sports_yr_df dataframe is greater than the standard deviation for the user_score column of the action_yr_df dataframe."
   ]
  },
  {
   "cell_type": "markdown",
   "metadata": {},
   "source": [
    "Code Meaning:\n",
    "1) Use np.var() in order to calculate the variance of the user_score column of the action_yr_df dataframe.\n",
    "2) Assign the code to action_yr_var in order to save the result.\n",
    "3) Print action_yr_var."
   ]
  },
  {
   "cell_type": "code",
   "execution_count": null,
   "metadata": {},
   "outputs": [],
   "source": [
    "action_yr_var = np.var(action_yr_df['user_score'])\n",
    "\n",
    "action_yr_var"
   ]
  },
  {
   "cell_type": "markdown",
   "metadata": {},
   "source": [
    "Code Meaning:\n",
    "1) Use np.var() in order to calculate the variance of the user_score column of the action_yr_df dataframe.\n",
    "2) Assign the code to action_yr_df in order to save the result.\n",
    "3) Print action_yr_var."
   ]
  },
  {
   "cell_type": "code",
   "execution_count": null,
   "metadata": {},
   "outputs": [],
   "source": [
    "sports_yr_var = np.var(sports_yr_df['user_score'])\n",
    "\n",
    "sports_yr_var"
   ]
  },
  {
   "cell_type": "markdown",
   "metadata": {},
   "source": [
    "Conclusion: The variance of the user_score column of the sports_yr_df dataframe is greater than the variance of the user_score column of the action_yr_df dataframe.  The two variances are not equal."
   ]
  },
  {
   "cell_type": "markdown",
   "metadata": {},
   "source": [
    "Null Hypothesis Being Tested:\n",
    "—Average user scores for the Action and Sports genres are different."
   ]
  },
  {
   "cell_type": "markdown",
   "metadata": {},
   "source": [
    "Code Meaning:\n",
    "1) In order to start preparing for the ttest, first set the threshhold to 0.05 which would indicate a 5 percent probablility.  Save this code under the variable df_alpha.\n",
    "2) Then, use st.ttest_ind() in order to run a ttest on the user_score columns of the action_yr_df and sports_yr_df dataframes.  Set equal_var to False.\n",
    "3) Assign the code to the variable df_results in order to save the result.\n",
    "4) Calculate the probablity by using the pvalue method on the df_results variable, and print the pvalue.\n",
    "5) Create an if statement that prints \"We reject null hypothesis.\", if df_results.pvalue is less than alpha.\n",
    "6) Create an else statment which prints: \"We cannot reject null hypothesis\". which will pring if df_results.pvalue is greater than or equal to alpha.\n",
    "\n",
    "ttest rationale:  I used st.ttest_ind() because this ttest in particular tests the equality of two population means."
   ]
  },
  {
   "cell_type": "code",
   "execution_count": null,
   "metadata": {},
   "outputs": [],
   "source": [
    "df_alpha = 0.05 \n",
    "df_results = st.ttest_ind(action_yr_df['user_score'], sports_yr_df['user_score'], equal_var=False)\n",
    "\n",
    "print('pvalue: ', df_results.pvalue)\n",
    "if results.pvalue < alpha:\n",
    "    print(\"We reject null hypothesis.\")\n",
    "else:\n",
    "    print(\"We cannot reject null hypothesis.\")"
   ]
  },
  {
   "cell_type": "markdown",
   "metadata": {},
   "source": [
    "Conclusion: According to the ttest, the previously stated alternative hypothesis is incorrect, the average user scores of the Action and Sports genres are possibly equal."
   ]
  },
  {
   "cell_type": "markdown",
   "metadata": {},
   "source": [
    "### Reviewer's Note:\n",
    "Please correct the conclusions after correcting the actual period\n",
    "\n",
    "Response to Reviewer's Note:  I filtered the dataframes that I used for the 2 hypothesis tasks with only values of: 2014, 2015, and 2016 for the year_of_release column for all 4 dataframes that I used."
   ]
  },
  {
   "cell_type": "markdown",
   "metadata": {},
   "source": [
    "# Step 6: Write a General Conclusion"
   ]
  },
  {
   "cell_type": "markdown",
   "metadata": {},
   "source": [
    "### Reviewer's Comment:\n",
    "It would be nice to add an overall output for the project."
   ]
  },
  {
   "cell_type": "markdown",
   "metadata": {},
   "source": [
    "Conclusion:\n",
    "Noteable Findings:\n",
    "1) Platform and Genre sales varried and differed between NA, EU and JP \n",
    "1) ESRB Sales Affect Sales in NA and EU, but not JP.\n",
    "2) The longest amount of time a platform can go from having sales to zero sales is approximately 30 years.  THe shortest amount of time that a platform can go from having sales to zero sales is approximately 3 years.\n",
    "3) Critic score and user score have an effect on total sales.\n",
    "4) The first hypothesis which states: \"Average user ratings of the Xbox One and PC platforms are the same.\", was proven to possibly be correct.\n",
    "5) The second hypothesis which states: \"Average user ratings for the Action and Sports genres are different.\", was proven to be incorrect.\n",
    "6) Shooter was the most popular genre for the year 2016, which could possibly be a profitable genre in 2017.\n",
    "7) PS4 was the most popular platform for the year 2016, which could possibly be a profitable platform in the year 2017.\n",
    "8) E was the most popular rating for the year 2016, which could possibly be a porftiable platform in the year 2017.\n",
    "9) 2007 had the greatest amount of games released per year."
   ]
  }
 ],
 "metadata": {
  "kernelspec": {
   "display_name": "base",
   "language": "python",
   "name": "python3"
  },
  "language_info": {
   "codemirror_mode": {
    "name": "ipython",
    "version": 3
   },
   "file_extension": ".py",
   "mimetype": "text/x-python",
   "name": "python",
   "nbconvert_exporter": "python",
   "pygments_lexer": "ipython3",
   "version": "3.11.5"
  }
 },
 "nbformat": 4,
 "nbformat_minor": 2
}
