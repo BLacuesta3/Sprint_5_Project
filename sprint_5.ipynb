{
 "cells": [
  {
   "cell_type": "markdown",
   "metadata": {},
   "source": [
    "Title: Sprint 5, Integrated Project 1\n",
    "\n",
    "Summary: This project is an Exploratory Data Analysis project that uses the games.csv dataframe.  This project consists of: multiple bar charts, boxplots, scatter plots and histograms.  This project also includes standard deviation calculations, correlation calculations and hypothesis testing."
   ]
  },
  {
   "cell_type": "markdown",
   "metadata": {},
   "source": [
    "*Question for the reviewer:\n",
    "Is it necessary that I meticulously document every line of code and every function like how I did in this project?  If so, I am fine with doing that type of code documentation, but I have noticed that it is time consuming at times.  And if not, can you please provide an example of two of how to document my code shorter and more efficiently for future reference? Thank you."
   ]
  },
  {
   "cell_type": "markdown",
   "metadata": {},
   "source": [
    "Code Meaning: Import all the necessary libraries.  Pandas is used to import the dataframe.  Random is used used in order to make the random choice selecton when filling in missing values.  Plotly Express is used in order to create the charts for the project which are composed of: bar charts, histograms, boxplots and line charts.  Pearsonr is imported to calculate the correlation between two variables. Stats is imported to run the ttest and test hypotheses.  Numpy is imported to perform mathematical tasks."
   ]
  },
  {
   "cell_type": "code",
   "execution_count": 1,
   "metadata": {},
   "outputs": [],
   "source": [
    "import pandas as pd\n",
    "\n",
    "import random\n",
    "\n",
    "import plotly.express as px\n",
    "\n",
    "from matplotlib import pyplot as plt\n",
    "\n",
    "from scipy import stats as st\n",
    "\n",
    "from scipy.stats import pearsonr\n",
    "\n",
    "import numpy as np"
   ]
  },
  {
   "cell_type": "markdown",
   "metadata": {},
   "source": [
    "Importing the Dataset"
   ]
  },
  {
   "cell_type": "markdown",
   "metadata": {},
   "source": [
    "Code Meaning: \n",
    "1) Use pd.read_csv() in order to import the games.csv dataframe.  Save the dataframe under the variable df.\n",
    "2) Use the head() function in order to print the first five rows of the dataframe to check the entries in the rows.\n",
    "\n",
    "Code Result:\n",
    "The games.csv dataframe was imported successfully, but it seems that there are missing values in the dataframe and the column names need to be converted to lowercase. The total_sales column must also be calculated which consists of the total of the NA_sales, EU_sales, JP_sales, and Other_sales column."
   ]
  },
  {
   "cell_type": "code",
   "execution_count": 2,
   "metadata": {},
   "outputs": [
    {
     "data": {
      "text/html": [
       "<div>\n",
       "<style scoped>\n",
       "    .dataframe tbody tr th:only-of-type {\n",
       "        vertical-align: middle;\n",
       "    }\n",
       "\n",
       "    .dataframe tbody tr th {\n",
       "        vertical-align: top;\n",
       "    }\n",
       "\n",
       "    .dataframe thead th {\n",
       "        text-align: right;\n",
       "    }\n",
       "</style>\n",
       "<table border=\"1\" class=\"dataframe\">\n",
       "  <thead>\n",
       "    <tr style=\"text-align: right;\">\n",
       "      <th></th>\n",
       "      <th>Name</th>\n",
       "      <th>Platform</th>\n",
       "      <th>Year_of_Release</th>\n",
       "      <th>Genre</th>\n",
       "      <th>NA_sales</th>\n",
       "      <th>EU_sales</th>\n",
       "      <th>JP_sales</th>\n",
       "      <th>Other_sales</th>\n",
       "      <th>Critic_Score</th>\n",
       "      <th>User_Score</th>\n",
       "      <th>Rating</th>\n",
       "    </tr>\n",
       "  </thead>\n",
       "  <tbody>\n",
       "    <tr>\n",
       "      <th>0</th>\n",
       "      <td>Wii Sports</td>\n",
       "      <td>Wii</td>\n",
       "      <td>2006.0</td>\n",
       "      <td>Sports</td>\n",
       "      <td>41.36</td>\n",
       "      <td>28.96</td>\n",
       "      <td>3.77</td>\n",
       "      <td>8.45</td>\n",
       "      <td>76.0</td>\n",
       "      <td>8</td>\n",
       "      <td>E</td>\n",
       "    </tr>\n",
       "    <tr>\n",
       "      <th>1</th>\n",
       "      <td>Super Mario Bros.</td>\n",
       "      <td>NES</td>\n",
       "      <td>1985.0</td>\n",
       "      <td>Platform</td>\n",
       "      <td>29.08</td>\n",
       "      <td>3.58</td>\n",
       "      <td>6.81</td>\n",
       "      <td>0.77</td>\n",
       "      <td>NaN</td>\n",
       "      <td>NaN</td>\n",
       "      <td>NaN</td>\n",
       "    </tr>\n",
       "    <tr>\n",
       "      <th>2</th>\n",
       "      <td>Mario Kart Wii</td>\n",
       "      <td>Wii</td>\n",
       "      <td>2008.0</td>\n",
       "      <td>Racing</td>\n",
       "      <td>15.68</td>\n",
       "      <td>12.76</td>\n",
       "      <td>3.79</td>\n",
       "      <td>3.29</td>\n",
       "      <td>82.0</td>\n",
       "      <td>8.3</td>\n",
       "      <td>E</td>\n",
       "    </tr>\n",
       "    <tr>\n",
       "      <th>3</th>\n",
       "      <td>Wii Sports Resort</td>\n",
       "      <td>Wii</td>\n",
       "      <td>2009.0</td>\n",
       "      <td>Sports</td>\n",
       "      <td>15.61</td>\n",
       "      <td>10.93</td>\n",
       "      <td>3.28</td>\n",
       "      <td>2.95</td>\n",
       "      <td>80.0</td>\n",
       "      <td>8</td>\n",
       "      <td>E</td>\n",
       "    </tr>\n",
       "    <tr>\n",
       "      <th>4</th>\n",
       "      <td>Pokemon Red/Pokemon Blue</td>\n",
       "      <td>GB</td>\n",
       "      <td>1996.0</td>\n",
       "      <td>Role-Playing</td>\n",
       "      <td>11.27</td>\n",
       "      <td>8.89</td>\n",
       "      <td>10.22</td>\n",
       "      <td>1.00</td>\n",
       "      <td>NaN</td>\n",
       "      <td>NaN</td>\n",
       "      <td>NaN</td>\n",
       "    </tr>\n",
       "  </tbody>\n",
       "</table>\n",
       "</div>"
      ],
      "text/plain": [
       "                       Name Platform  Year_of_Release         Genre  NA_sales  \\\n",
       "0                Wii Sports      Wii           2006.0        Sports     41.36   \n",
       "1         Super Mario Bros.      NES           1985.0      Platform     29.08   \n",
       "2            Mario Kart Wii      Wii           2008.0        Racing     15.68   \n",
       "3         Wii Sports Resort      Wii           2009.0        Sports     15.61   \n",
       "4  Pokemon Red/Pokemon Blue       GB           1996.0  Role-Playing     11.27   \n",
       "\n",
       "   EU_sales  JP_sales  Other_sales  Critic_Score User_Score Rating  \n",
       "0     28.96      3.77         8.45          76.0          8      E  \n",
       "1      3.58      6.81         0.77           NaN        NaN    NaN  \n",
       "2     12.76      3.79         3.29          82.0        8.3      E  \n",
       "3     10.93      3.28         2.95          80.0          8      E  \n",
       "4      8.89     10.22         1.00           NaN        NaN    NaN  "
      ]
     },
     "execution_count": 2,
     "metadata": {},
     "output_type": "execute_result"
    }
   ],
   "source": [
    "df = pd.read_csv('games.csv')\n",
    "\n",
    "df.head()"
   ]
  },
  {
   "cell_type": "markdown",
   "metadata": {},
   "source": [
    "Code Meaning:\n",
    "Use the columns function in order to double check all the column names in the dataframe.\n",
    "\n",
    "Code Result:\n",
    "The column names in the dataframe seem to be listed in uppercase and should be converted to lowercase.  "
   ]
  },
  {
   "cell_type": "markdown",
   "metadata": {},
   "source": [
    "Renaming the Columns"
   ]
  },
  {
   "cell_type": "code",
   "execution_count": 3,
   "metadata": {},
   "outputs": [
    {
     "data": {
      "text/plain": [
       "Index(['Name', 'Platform', 'Year_of_Release', 'Genre', 'NA_sales', 'EU_sales',\n",
       "       'JP_sales', 'Other_sales', 'Critic_Score', 'User_Score', 'Rating'],\n",
       "      dtype='object')"
      ]
     },
     "execution_count": 3,
     "metadata": {},
     "output_type": "execute_result"
    }
   ],
   "source": [
    "df.columns"
   ]
  },
  {
   "cell_type": "markdown",
   "metadata": {},
   "source": [
    "Code Meaning:  Use the rename() function on the df dataframe to rename the column names appropriately in lowercase format."
   ]
  },
  {
   "cell_type": "code",
   "execution_count": 4,
   "metadata": {},
   "outputs": [],
   "source": [
    "df = df.rename({'Name': 'name', 'Platform': 'platform','Year_of_Release': 'year_of_release', 'Genre': 'genre', 'NA_sales': 'na_sales', 'EU_sales': 'eu_sales','JP_sales': 'jp_sales', 'Other_sales': 'other_sales', 'Critic_Score': 'critic_score', 'User_Score': 'user_score', 'Rating': 'rating'}, axis=1)"
   ]
  },
  {
   "cell_type": "markdown",
   "metadata": {},
   "source": [
    "Code Meaning:  Use .columns once again to check the column names in the df dataframe.\n",
    "\n",
    "Code Result: The column names in the df dataframe were renamed in lowercase format succesfully."
   ]
  },
  {
   "cell_type": "code",
   "execution_count": 5,
   "metadata": {},
   "outputs": [
    {
     "data": {
      "text/plain": [
       "Index(['name', 'platform', 'year_of_release', 'genre', 'na_sales', 'eu_sales',\n",
       "       'jp_sales', 'other_sales', 'critic_score', 'user_score', 'rating'],\n",
       "      dtype='object')"
      ]
     },
     "execution_count": 5,
     "metadata": {},
     "output_type": "execute_result"
    }
   ],
   "source": [
    "df.columns"
   ]
  },
  {
   "cell_type": "markdown",
   "metadata": {},
   "source": [
    "Checking the Data Types"
   ]
  },
  {
   "cell_type": "markdown",
   "metadata": {},
   "source": [
    "Code Meaning:  Use the info() method to check the datatypes in the dataframe.\n",
    "\n",
    "Code Result: The user_score column should be converted from object type to float64 type and the year_of_release column should converted from float64 type to integer type."
   ]
  },
  {
   "cell_type": "code",
   "execution_count": 6,
   "metadata": {},
   "outputs": [
    {
     "name": "stdout",
     "output_type": "stream",
     "text": [
      "<class 'pandas.core.frame.DataFrame'>\n",
      "RangeIndex: 16715 entries, 0 to 16714\n",
      "Data columns (total 11 columns):\n",
      " #   Column           Non-Null Count  Dtype  \n",
      "---  ------           --------------  -----  \n",
      " 0   name             16713 non-null  object \n",
      " 1   platform         16715 non-null  object \n",
      " 2   year_of_release  16446 non-null  float64\n",
      " 3   genre            16713 non-null  object \n",
      " 4   na_sales         16715 non-null  float64\n",
      " 5   eu_sales         16715 non-null  float64\n",
      " 6   jp_sales         16715 non-null  float64\n",
      " 7   other_sales      16715 non-null  float64\n",
      " 8   critic_score     8137 non-null   float64\n",
      " 9   user_score       10014 non-null  object \n",
      " 10  rating           9949 non-null   object \n",
      "dtypes: float64(6), object(5)\n",
      "memory usage: 1.4+ MB\n"
     ]
    }
   ],
   "source": [
    "df.info()"
   ]
  },
  {
   "cell_type": "markdown",
   "metadata": {},
   "source": [
    "Code Meaning:  \n",
    "1) Use the pd.to_numeric() function to convert the user_score column of the df dataframe from object to float64.  \n",
    "2) Add errors='coerce' as an argument to pd.to_numeric()."
   ]
  },
  {
   "cell_type": "code",
   "execution_count": 47,
   "metadata": {},
   "outputs": [],
   "source": [
    "df['user_score'] = pd.to_numeric(df['user_score'], errors='coerce')"
   ]
  },
  {
   "cell_type": "markdown",
   "metadata": {},
   "source": [
    "Code Meaning:  Use the info() method once again on the df dataframe in order to check the data types again.\n",
    "\n",
    "Code Result:  The user_score column was successfull converted from object to float64.  The year_of_release cannot be converted to the proper datatype because there values listed as the string 'tbd' in the column.  The year_of_release column wil be converted to the proper data type further on in the project."
   ]
  },
  {
   "cell_type": "code",
   "execution_count": 8,
   "metadata": {},
   "outputs": [
    {
     "name": "stdout",
     "output_type": "stream",
     "text": [
      "<class 'pandas.core.frame.DataFrame'>\n",
      "RangeIndex: 16715 entries, 0 to 16714\n",
      "Data columns (total 11 columns):\n",
      " #   Column           Non-Null Count  Dtype  \n",
      "---  ------           --------------  -----  \n",
      " 0   name             16713 non-null  object \n",
      " 1   platform         16715 non-null  object \n",
      " 2   year_of_release  16446 non-null  float64\n",
      " 3   genre            16713 non-null  object \n",
      " 4   na_sales         16715 non-null  float64\n",
      " 5   eu_sales         16715 non-null  float64\n",
      " 6   jp_sales         16715 non-null  float64\n",
      " 7   other_sales      16715 non-null  float64\n",
      " 8   critic_score     8137 non-null   float64\n",
      " 9   user_score       10014 non-null  object \n",
      " 10  rating           9949 non-null   object \n",
      "dtypes: float64(6), object(5)\n",
      "memory usage: 1.4+ MB\n"
     ]
    }
   ],
   "source": [
    "df.info()"
   ]
  },
  {
   "cell_type": "markdown",
   "metadata": {},
   "source": [
    "Creating the total_sales column"
   ]
  },
  {
   "cell_type": "markdown",
   "metadata": {},
   "source": [
    "Code Meaning:  \n",
    "1) Use the def() function in order to create a function that adds the na_sales, eu_sales, jp_sales, and other_sales in the df dataframe in order to create the total_sales column.  Name the function: calc_revenue().  \n",
    "2) Use row as an input arguement to calc_revenue()."
   ]
  },
  {
   "cell_type": "code",
   "execution_count": 9,
   "metadata": {},
   "outputs": [],
   "source": [
    "def calc_revenue(row):\n",
    "    revenue = 0\n",
    "    na_sales = row['na_sales']\n",
    "    eu_sales = row['eu_sales']\n",
    "    jp_sales = row['jp_sales']\n",
    "    other_sales = row['other_sales']\n",
    "    revenue = na_sales + eu_sales + jp_sales + other_sales\n",
    "    return revenue\n",
    "    "
   ]
  },
  {
   "cell_type": "markdown",
   "metadata": {},
   "source": [
    "Code Meaning:  \n",
    "1) Use the apply() function in order to apply the previously created calc_revenue() function to the df dataframe.  \n",
    "2) Set the axis to 1 in order apply the function to all rows.  \n",
    "3) Assign the code to df['total_sales'] in order to save the result and create the total_sales column in the df dataframe.\n",
    "4) Use the head() function to check the result.\n",
    "\n",
    "Code Result:\n",
    "The total_sales column of the df dataframe was created successfully."
   ]
  },
  {
   "cell_type": "code",
   "execution_count": 10,
   "metadata": {},
   "outputs": [
    {
     "data": {
      "text/html": [
       "<div>\n",
       "<style scoped>\n",
       "    .dataframe tbody tr th:only-of-type {\n",
       "        vertical-align: middle;\n",
       "    }\n",
       "\n",
       "    .dataframe tbody tr th {\n",
       "        vertical-align: top;\n",
       "    }\n",
       "\n",
       "    .dataframe thead th {\n",
       "        text-align: right;\n",
       "    }\n",
       "</style>\n",
       "<table border=\"1\" class=\"dataframe\">\n",
       "  <thead>\n",
       "    <tr style=\"text-align: right;\">\n",
       "      <th></th>\n",
       "      <th>name</th>\n",
       "      <th>platform</th>\n",
       "      <th>year_of_release</th>\n",
       "      <th>genre</th>\n",
       "      <th>na_sales</th>\n",
       "      <th>eu_sales</th>\n",
       "      <th>jp_sales</th>\n",
       "      <th>other_sales</th>\n",
       "      <th>critic_score</th>\n",
       "      <th>user_score</th>\n",
       "      <th>rating</th>\n",
       "      <th>total_sales</th>\n",
       "    </tr>\n",
       "  </thead>\n",
       "  <tbody>\n",
       "    <tr>\n",
       "      <th>0</th>\n",
       "      <td>Wii Sports</td>\n",
       "      <td>Wii</td>\n",
       "      <td>2006.0</td>\n",
       "      <td>Sports</td>\n",
       "      <td>41.36</td>\n",
       "      <td>28.96</td>\n",
       "      <td>3.77</td>\n",
       "      <td>8.45</td>\n",
       "      <td>76.0</td>\n",
       "      <td>8</td>\n",
       "      <td>E</td>\n",
       "      <td>82.54</td>\n",
       "    </tr>\n",
       "    <tr>\n",
       "      <th>1</th>\n",
       "      <td>Super Mario Bros.</td>\n",
       "      <td>NES</td>\n",
       "      <td>1985.0</td>\n",
       "      <td>Platform</td>\n",
       "      <td>29.08</td>\n",
       "      <td>3.58</td>\n",
       "      <td>6.81</td>\n",
       "      <td>0.77</td>\n",
       "      <td>NaN</td>\n",
       "      <td>NaN</td>\n",
       "      <td>NaN</td>\n",
       "      <td>40.24</td>\n",
       "    </tr>\n",
       "    <tr>\n",
       "      <th>2</th>\n",
       "      <td>Mario Kart Wii</td>\n",
       "      <td>Wii</td>\n",
       "      <td>2008.0</td>\n",
       "      <td>Racing</td>\n",
       "      <td>15.68</td>\n",
       "      <td>12.76</td>\n",
       "      <td>3.79</td>\n",
       "      <td>3.29</td>\n",
       "      <td>82.0</td>\n",
       "      <td>8.3</td>\n",
       "      <td>E</td>\n",
       "      <td>35.52</td>\n",
       "    </tr>\n",
       "    <tr>\n",
       "      <th>3</th>\n",
       "      <td>Wii Sports Resort</td>\n",
       "      <td>Wii</td>\n",
       "      <td>2009.0</td>\n",
       "      <td>Sports</td>\n",
       "      <td>15.61</td>\n",
       "      <td>10.93</td>\n",
       "      <td>3.28</td>\n",
       "      <td>2.95</td>\n",
       "      <td>80.0</td>\n",
       "      <td>8</td>\n",
       "      <td>E</td>\n",
       "      <td>32.77</td>\n",
       "    </tr>\n",
       "    <tr>\n",
       "      <th>4</th>\n",
       "      <td>Pokemon Red/Pokemon Blue</td>\n",
       "      <td>GB</td>\n",
       "      <td>1996.0</td>\n",
       "      <td>Role-Playing</td>\n",
       "      <td>11.27</td>\n",
       "      <td>8.89</td>\n",
       "      <td>10.22</td>\n",
       "      <td>1.00</td>\n",
       "      <td>NaN</td>\n",
       "      <td>NaN</td>\n",
       "      <td>NaN</td>\n",
       "      <td>31.38</td>\n",
       "    </tr>\n",
       "  </tbody>\n",
       "</table>\n",
       "</div>"
      ],
      "text/plain": [
       "                       name platform  year_of_release         genre  na_sales  \\\n",
       "0                Wii Sports      Wii           2006.0        Sports     41.36   \n",
       "1         Super Mario Bros.      NES           1985.0      Platform     29.08   \n",
       "2            Mario Kart Wii      Wii           2008.0        Racing     15.68   \n",
       "3         Wii Sports Resort      Wii           2009.0        Sports     15.61   \n",
       "4  Pokemon Red/Pokemon Blue       GB           1996.0  Role-Playing     11.27   \n",
       "\n",
       "   eu_sales  jp_sales  other_sales  critic_score user_score rating  \\\n",
       "0     28.96      3.77         8.45          76.0          8      E   \n",
       "1      3.58      6.81         0.77           NaN        NaN    NaN   \n",
       "2     12.76      3.79         3.29          82.0        8.3      E   \n",
       "3     10.93      3.28         2.95          80.0          8      E   \n",
       "4      8.89     10.22         1.00           NaN        NaN    NaN   \n",
       "\n",
       "   total_sales  \n",
       "0        82.54  \n",
       "1        40.24  \n",
       "2        35.52  \n",
       "3        32.77  \n",
       "4        31.38  "
      ]
     },
     "execution_count": 10,
     "metadata": {},
     "output_type": "execute_result"
    }
   ],
   "source": [
    "df['total_sales'] = df.apply(calc_revenue, axis=1)\n",
    "\n",
    "df.head()"
   ]
  },
  {
   "cell_type": "markdown",
   "metadata": {},
   "source": [
    "Dealing with Missing Values"
   ]
  },
  {
   "cell_type": "markdown",
   "metadata": {},
   "source": [
    "Code Meaning:\n",
    "Use the isna() and sum() functions in order to count the number of missing values in the df dataframe.\n",
    "\n",
    "Code Result:\n",
    "There are missing values noted in the name, year_of_release, critic_score, user_score, and rating columns of the df dataframe."
   ]
  },
  {
   "cell_type": "code",
   "execution_count": 11,
   "metadata": {},
   "outputs": [
    {
     "data": {
      "text/plain": [
       "name                  2\n",
       "platform              0\n",
       "year_of_release     269\n",
       "genre                 2\n",
       "na_sales              0\n",
       "eu_sales              0\n",
       "jp_sales              0\n",
       "other_sales           0\n",
       "critic_score       8578\n",
       "user_score         6701\n",
       "rating             6766\n",
       "total_sales           0\n",
       "dtype: int64"
      ]
     },
     "execution_count": 11,
     "metadata": {},
     "output_type": "execute_result"
    }
   ],
   "source": [
    "df.isna().sum()"
   ]
  },
  {
   "cell_type": "code",
   "execution_count": 40,
   "metadata": {},
   "outputs": [
    {
     "data": {
      "text/plain": [
       "0"
      ]
     },
     "execution_count": 40,
     "metadata": {},
     "output_type": "execute_result"
    }
   ],
   "source": [
    "#new solution/ correction)\n",
    "df = df.dropna(subset=['name'])\n",
    "\n",
    "df['name'].isna().sum()"
   ]
  },
  {
   "cell_type": "code",
   "execution_count": 13,
   "metadata": {},
   "outputs": [
    {
     "data": {
      "text/plain": [
       "0"
      ]
     },
     "execution_count": 13,
     "metadata": {},
     "output_type": "execute_result"
    }
   ],
   "source": [
    "df.duplicated().sum()"
   ]
  },
  {
   "cell_type": "code",
   "execution_count": 14,
   "metadata": {},
   "outputs": [
    {
     "data": {
      "text/plain": [
       "0"
      ]
     },
     "execution_count": 14,
     "metadata": {},
     "output_type": "execute_result"
    }
   ],
   "source": [
    "df = df.drop_duplicates()\n",
    "\n",
    "df.duplicated().sum()"
   ]
  },
  {
   "cell_type": "code",
   "execution_count": 15,
   "metadata": {},
   "outputs": [
    {
     "data": {
      "text/plain": [
       "name                  2\n",
       "platform              0\n",
       "year_of_release     269\n",
       "genre                 2\n",
       "na_sales              0\n",
       "eu_sales              0\n",
       "jp_sales              0\n",
       "other_sales           0\n",
       "critic_score       8578\n",
       "user_score         6701\n",
       "rating             6766\n",
       "total_sales           0\n",
       "dtype: int64"
      ]
     },
     "execution_count": 15,
     "metadata": {},
     "output_type": "execute_result"
    }
   ],
   "source": [
    "df.isna().sum()"
   ]
  },
  {
   "cell_type": "code",
   "execution_count": 42,
   "metadata": {},
   "outputs": [
    {
     "data": {
      "text/plain": [
       "0"
      ]
     },
     "execution_count": 42,
     "metadata": {},
     "output_type": "execute_result"
    }
   ],
   "source": [
    "#new solution/ correction\n",
    "df = df.dropna(subset=['year_of_release'])\n",
    "\n",
    "df['year_of_release'].isna().sum()"
   ]
  },
  {
   "cell_type": "code",
   "execution_count": 49,
   "metadata": {},
   "outputs": [],
   "source": [
    "df['year_of_release'] = df['year_of_release'].astype(int)"
   ]
  },
  {
   "cell_type": "code",
   "execution_count": 43,
   "metadata": {},
   "outputs": [
    {
     "data": {
      "text/plain": [
       "0"
      ]
     },
     "execution_count": 43,
     "metadata": {},
     "output_type": "execute_result"
    }
   ],
   "source": [
    "#new solution/ correction\n",
    "df = df.dropna(subset=['genre'])\n",
    "\n",
    "df['genre'].isna().sum()"
   ]
  },
  {
   "cell_type": "code",
   "execution_count": 44,
   "metadata": {},
   "outputs": [
    {
     "data": {
      "text/plain": [
       "name                  0\n",
       "platform              0\n",
       "year_of_release       0\n",
       "genre                 0\n",
       "na_sales              0\n",
       "eu_sales              0\n",
       "jp_sales              0\n",
       "other_sales           0\n",
       "critic_score       8461\n",
       "user_score         6605\n",
       "rating             6676\n",
       "total_sales           0\n",
       "dtype: int64"
      ]
     },
     "execution_count": 44,
     "metadata": {},
     "output_type": "execute_result"
    }
   ],
   "source": [
    "df.isna().sum()"
   ]
  },
  {
   "cell_type": "markdown",
   "metadata": {},
   "source": [
    "Code Meaning: \n",
    "1) Create a filtered dataframe from the name column of the df dataframe that does not contain missing values.  \n",
    "2) Use the to_list() function in order to create a list from the filtered dataframe.\n",
    "3) Assign the code to name_list in order to save the result\n",
    "4) Print name_list in order to check the result.\n",
    "\n",
    "Code Result:\n",
    "name_list was created successfully."
   ]
  },
  {
   "cell_type": "code",
   "execution_count": 48,
   "metadata": {},
   "outputs": [
    {
     "name": "stdout",
     "output_type": "stream",
     "text": [
      "<class 'pandas.core.frame.DataFrame'>\n",
      "Index: 16444 entries, 0 to 16714\n",
      "Data columns (total 12 columns):\n",
      " #   Column           Non-Null Count  Dtype  \n",
      "---  ------           --------------  -----  \n",
      " 0   name             16444 non-null  object \n",
      " 1   platform         16444 non-null  object \n",
      " 2   year_of_release  16444 non-null  float64\n",
      " 3   genre            16444 non-null  object \n",
      " 4   na_sales         16444 non-null  float64\n",
      " 5   eu_sales         16444 non-null  float64\n",
      " 6   jp_sales         16444 non-null  float64\n",
      " 7   other_sales      16444 non-null  float64\n",
      " 8   critic_score     7983 non-null   float64\n",
      " 9   user_score       7463 non-null   float64\n",
      " 10  rating           9768 non-null   object \n",
      " 11  total_sales      16444 non-null  float64\n",
      "dtypes: float64(8), object(4)\n",
      "memory usage: 1.6+ MB\n"
     ]
    }
   ],
   "source": [
    "df.info()"
   ]
  },
  {
   "cell_type": "code",
   "execution_count": 46,
   "metadata": {},
   "outputs": [
    {
     "data": {
      "text/plain": [
       "0      8\n",
       "1    NaN\n",
       "2    8.3\n",
       "3      8\n",
       "4    NaN\n",
       "Name: user_score, dtype: object"
      ]
     },
     "execution_count": 46,
     "metadata": {},
     "output_type": "execute_result"
    }
   ],
   "source": [
    "df['user_score'].head()"
   ]
  },
  {
   "cell_type": "markdown",
   "metadata": {},
   "source": [
    "Code Meaning: \n",
    "1) Use the fillna() fucntion in order to fill in the missing values in the name column of the df dataframe.\n",
    "2) Add random.choice(name_list) as an argument to fillna() in order to fill in missing values with a random value from the previously created name_list variable.\n",
    "3) Assign the code to df['name'] in order to save the result.\n",
    "3) Use the isna() and sum() functions in order to count the amount of missing values in the name column of the df dataframe.\n",
    "\n",
    "Code Result:  The missing values from the name column were filled in sucessfully.  There are no missing values noted."
   ]
  },
  {
   "cell_type": "code",
   "execution_count": 19,
   "metadata": {},
   "outputs": [],
   "source": [
    "#df['name'] = df['name'].fillna(random.choice(name_list))\n",
    "\n",
    "#df['name'].isna().sum()"
   ]
  },
  {
   "cell_type": "markdown",
   "metadata": {},
   "source": [
    "Code Meaning: \n",
    "1) Create a variable called y_mean using the transfrom() function in order to calculate and round the mean of the values in the year_of_release column of the df dataframe.  Use groupby() in order to group the result by platform.\n",
    "2)  Use the fillna() function on the year_of_release column of the df dataframe and add the previously created y_mean variable as an arguement to fillna().\n",
    "3) Assign the result to df['year_of_release'] in order to save the result.\n",
    "4) Use the isna() and sum() methods to count the missing values in the year_of_release column.\n",
    "\n",
    "Code Result:\n",
    "There are no more missing values noted in the year_of_release column of the df dataframe.  The missing values were filled in successfully with the mean."
   ]
  },
  {
   "cell_type": "code",
   "execution_count": 20,
   "metadata": {},
   "outputs": [],
   "source": [
    "#y_mean = df.groupby('platform')['year_of_release'].transform(lambda x: round(x.mean()))\n",
    "\n",
    "#df['year_of_release'] = df['year_of_release'].fillna(y_mean)\n",
    "\n",
    "\n",
    "#f['year_of_release'].isna().sum()\n"
   ]
  },
  {
   "cell_type": "markdown",
   "metadata": {},
   "source": [
    "Code Meaning:\n",
    "1) Now that the missing values are filled in properly in the year_of_release column, use the astype() function with int as an argument in order to conver the column from object data type to integer data type.\n",
    "2) Assign the result to df['year_of_release'] in order to save the result."
   ]
  },
  {
   "cell_type": "code",
   "execution_count": 21,
   "metadata": {},
   "outputs": [],
   "source": [
    "#df['year_of_release'] = df['year_of_release'].astype(int)"
   ]
  },
  {
   "cell_type": "markdown",
   "metadata": {},
   "source": [
    "Code Meaning: Use the info() method on the df dataframe in order to check the datatype for the year_of_release column.\n",
    "\n",
    "Code Result:  The year_of_release column was converted to int32 successfully.  All other data types in the dataframe appear appropriate."
   ]
  },
  {
   "cell_type": "code",
   "execution_count": 22,
   "metadata": {},
   "outputs": [
    {
     "name": "stdout",
     "output_type": "stream",
     "text": [
      "<class 'pandas.core.frame.DataFrame'>\n",
      "RangeIndex: 16715 entries, 0 to 16714\n",
      "Data columns (total 12 columns):\n",
      " #   Column           Non-Null Count  Dtype  \n",
      "---  ------           --------------  -----  \n",
      " 0   name             16713 non-null  object \n",
      " 1   platform         16715 non-null  object \n",
      " 2   year_of_release  16446 non-null  float64\n",
      " 3   genre            16713 non-null  object \n",
      " 4   na_sales         16715 non-null  float64\n",
      " 5   eu_sales         16715 non-null  float64\n",
      " 6   jp_sales         16715 non-null  float64\n",
      " 7   other_sales      16715 non-null  float64\n",
      " 8   critic_score     8137 non-null   float64\n",
      " 9   user_score       10014 non-null  object \n",
      " 10  rating           9949 non-null   object \n",
      " 11  total_sales      16715 non-null  float64\n",
      "dtypes: float64(7), object(5)\n",
      "memory usage: 1.5+ MB\n"
     ]
    }
   ],
   "source": [
    "df.info()"
   ]
  },
  {
   "cell_type": "markdown",
   "metadata": {},
   "source": [
    "Code Meaning:  \n",
    "1) Create a filtered dataframe from the genre column of the df dataframe.\n",
    "2) Use the to_list() method to create a list from the filtered dataframe.\n",
    "3) Assign the code to the variable genre_list in order to save the result.\n",
    "4) Print genre_list to check if the listed was created correctly.\n",
    "\n",
    "Code Result:\n",
    "genre_list was created successfully."
   ]
  },
  {
   "cell_type": "code",
   "execution_count": 23,
   "metadata": {},
   "outputs": [],
   "source": [
    "#genre_list = df[~df['genre'].isna()]['genre'].to_list()\n",
    "\n",
    "#genre_list"
   ]
  },
  {
   "cell_type": "markdown",
   "metadata": {},
   "source": [
    "Code Meaning:\n",
    "1) Use the fillna() and random.choice() methods in order to fill in the missing values from the genre column of the df dataframe with the previously created genre_list variable. \n",
    "2) Check for missing values in the genre column of the df dataframe with the isna() and sum() methods.\n",
    "\n",
    "Code Result:\n",
    "There are no more missing values noted in the genre column of the df dataframe.  The missing values were filled in successfully."
   ]
  },
  {
   "cell_type": "code",
   "execution_count": 24,
   "metadata": {},
   "outputs": [],
   "source": [
    "#df['genre'] = df['genre'].fillna(random.choice(genre_list))\n",
    "\n",
    "#df['genre'].isna().sum()"
   ]
  },
  {
   "cell_type": "markdown",
   "metadata": {},
   "source": [
    "Code Meaning: \n",
    "1) Use the transform(), fillna() and median() methods together in order to fill in the missing values for the critic_score column of the df dataframes with the median.\n",
    "2) Use the isna() and sum() methods in order to check for missing values in the the critic_score column of the df dataframe.\n",
    "\n",
    "Code Result:\n",
    "There are no missing values noted in the critic_score column of the df dataframe.  The missing values were filled in sucessfully."
   ]
  },
  {
   "cell_type": "code",
   "execution_count": 25,
   "metadata": {},
   "outputs": [],
   "source": [
    "#df['critic_score'] = df['critic_score'].transform(lambda x: x.fillna(x.median()))\n",
    "\n",
    "#df['critic_score'].isna().sum()"
   ]
  },
  {
   "cell_type": "markdown",
   "metadata": {},
   "source": [
    "Code Meaning: \n",
    "1) Use the transform(), fillna(), and median() methods together in order to fill in the user_score column of the df dataframe with the median.\n",
    "2) Use the isna() and sum() methods in order to check for missing values in the user_score column of the df dataframe.\n",
    "\n",
    "Code Result:\n",
    "There are no more missing values noted in the user_score column of the df dataframe."
   ]
  },
  {
   "cell_type": "code",
   "execution_count": 26,
   "metadata": {},
   "outputs": [],
   "source": [
    "#df['user_score'] = df['user_score'].transform(lambda x: x.fillna(x.median()))\n",
    "\n",
    "#df['user_score'].isna().sum()"
   ]
  },
  {
   "cell_type": "markdown",
   "metadata": {},
   "source": [
    "Code Meaning: \n",
    "1) Create a filtered dataframe from the rating column of the df dataframe that does not contain missing values.  \n",
    "2) Use the to_list() function in order to create a list from the filtered dataframe.\n",
    "3) Assign the code to rating_list in order to save the result\n",
    "4) Print name_list in order to check the result.\n",
    "\n",
    "Code Result:\n",
    "rating_list was created successfully."
   ]
  },
  {
   "cell_type": "code",
   "execution_count": 27,
   "metadata": {},
   "outputs": [],
   "source": [
    "#rating_list = df[~df['rating'].isna()]['rating'].to_list()\n",
    "\n",
    "#rating_list"
   ]
  },
  {
   "cell_type": "markdown",
   "metadata": {},
   "source": [
    "Code Meaning:\n",
    "1) Use the fillna() and random.choice() methods in order to fill in the missing values from the rating column of the df dataframe with the previously created rating_list variable. \n",
    "2) Check for missing values in the rating column of the df dataframe with the isna() and sum() methods.\n",
    "\n",
    "Code Result:\n",
    "There are no more missing values noted in the rating column of the df dataframe.  The missing values were filled in successfully."
   ]
  },
  {
   "cell_type": "code",
   "execution_count": 28,
   "metadata": {},
   "outputs": [],
   "source": [
    "#df['rating'] = df['rating'].fillna(random.choice(rating_list))\n",
    "\n",
    "#df['rating'].isna().sum()"
   ]
  },
  {
   "cell_type": "markdown",
   "metadata": {},
   "source": [
    "Code Meaning: Use the isna() and sum() methods for to check for any missing values in the dataframe for a final time.\n",
    "\n",
    "Code Result: There are no more missing values noted in the df dataframe.  The missing values were filled in succesfully."
   ]
  },
  {
   "cell_type": "code",
   "execution_count": 29,
   "metadata": {},
   "outputs": [
    {
     "data": {
      "text/plain": [
       "name                  2\n",
       "platform              0\n",
       "year_of_release     269\n",
       "genre                 2\n",
       "na_sales              0\n",
       "eu_sales              0\n",
       "jp_sales              0\n",
       "other_sales           0\n",
       "critic_score       8578\n",
       "user_score         6701\n",
       "rating             6766\n",
       "total_sales           0\n",
       "dtype: int64"
      ]
     },
     "execution_count": 29,
     "metadata": {},
     "output_type": "execute_result"
    }
   ],
   "source": [
    "df.isna().sum()"
   ]
  },
  {
   "cell_type": "markdown",
   "metadata": {},
   "source": [
    "Number of Video Games Released per Year Histogram\n",
    "\n",
    "Question Being Addressed:\n",
    "Look at how many games were released in different years. Is the data for every period significant?\n",
    "Answer: It appears that 2008 and 2009 had the most amount of games released for those years.  It also appears that 1980, 1984, and 1985 had the least amount of games released for those years.  It also appears that after the spike of games being released in 2008 and 2009, there is a gradual decline in the release of games doing towards 2016."
   ]
  },
  {
   "cell_type": "markdown",
   "metadata": {},
   "source": [
    "Code Meaning:\n",
    "1) Use px.histogram() in order to generate a histogram titled: \"Number of Video Games Released Per Year\".\n",
    "2) Enter the df dataframe as the data for the chart.  \n",
    "3) Use the year_of_release column of the df dataframe as the x axis.\n",
    "4) Assign the code to fig_1 in order to save the result.\n",
    "5) Use the update_xaxes() method on fig_1 in order to arrange the x axes so that the tick values are measured by the individual unqiue values in the year_of_release column.  Set the tick text in order to list each unique value from the year_of_release column of the df dataframe on the x axis as integers.\n",
    "6) Use fig_1.show() in order to display the chart.\n",
    "\n",
    "Code Result/ Answer to Question:"
   ]
  },
  {
   "cell_type": "code",
   "execution_count": 30,
   "metadata": {},
   "outputs": [
    {
     "ename": "ValueError",
     "evalue": "cannot convert float NaN to integer",
     "output_type": "error",
     "traceback": [
      "\u001b[1;31m---------------------------------------------------------------------------\u001b[0m",
      "\u001b[1;31mValueError\u001b[0m                                Traceback (most recent call last)",
      "Cell \u001b[1;32mIn[30], line 3\u001b[0m\n\u001b[0;32m      1\u001b[0m fig_1 \u001b[38;5;241m=\u001b[39m px\u001b[38;5;241m.\u001b[39mhistogram(df, x\u001b[38;5;241m=\u001b[39m\u001b[38;5;124m'\u001b[39m\u001b[38;5;124myear_of_release\u001b[39m\u001b[38;5;124m'\u001b[39m, labels\u001b[38;5;241m=\u001b[39m{\u001b[38;5;124m\"\u001b[39m\u001b[38;5;124myear_of_release\u001b[39m\u001b[38;5;124m\"\u001b[39m: \u001b[38;5;124m\"\u001b[39m\u001b[38;5;124mYear Of Release\u001b[39m\u001b[38;5;124m\"\u001b[39m}, title\u001b[38;5;241m=\u001b[39m\u001b[38;5;124m\"\u001b[39m\u001b[38;5;124mNumber of Video Games Released per Year\u001b[39m\u001b[38;5;124m\"\u001b[39m)\n\u001b[1;32m----> 3\u001b[0m fig_1\u001b[38;5;241m.\u001b[39mupdate_xaxes(tickvals\u001b[38;5;241m=\u001b[39mdf[\u001b[38;5;124m'\u001b[39m\u001b[38;5;124myear_of_release\u001b[39m\u001b[38;5;124m'\u001b[39m]\u001b[38;5;241m.\u001b[39munique(), ticktext\u001b[38;5;241m=\u001b[39m[\u001b[38;5;28mint\u001b[39m(x) \u001b[38;5;28;01mfor\u001b[39;00m x \u001b[38;5;129;01min\u001b[39;00m df[\u001b[38;5;124m'\u001b[39m\u001b[38;5;124myear_of_release\u001b[39m\u001b[38;5;124m'\u001b[39m]\u001b[38;5;241m.\u001b[39munique()])\n\u001b[0;32m      4\u001b[0m fig_1\u001b[38;5;241m.\u001b[39mshow()\n",
      "Cell \u001b[1;32mIn[30], line 3\u001b[0m, in \u001b[0;36m<listcomp>\u001b[1;34m(.0)\u001b[0m\n\u001b[0;32m      1\u001b[0m fig_1 \u001b[38;5;241m=\u001b[39m px\u001b[38;5;241m.\u001b[39mhistogram(df, x\u001b[38;5;241m=\u001b[39m\u001b[38;5;124m'\u001b[39m\u001b[38;5;124myear_of_release\u001b[39m\u001b[38;5;124m'\u001b[39m, labels\u001b[38;5;241m=\u001b[39m{\u001b[38;5;124m\"\u001b[39m\u001b[38;5;124myear_of_release\u001b[39m\u001b[38;5;124m\"\u001b[39m: \u001b[38;5;124m\"\u001b[39m\u001b[38;5;124mYear Of Release\u001b[39m\u001b[38;5;124m\"\u001b[39m}, title\u001b[38;5;241m=\u001b[39m\u001b[38;5;124m\"\u001b[39m\u001b[38;5;124mNumber of Video Games Released per Year\u001b[39m\u001b[38;5;124m\"\u001b[39m)\n\u001b[1;32m----> 3\u001b[0m fig_1\u001b[38;5;241m.\u001b[39mupdate_xaxes(tickvals\u001b[38;5;241m=\u001b[39mdf[\u001b[38;5;124m'\u001b[39m\u001b[38;5;124myear_of_release\u001b[39m\u001b[38;5;124m'\u001b[39m]\u001b[38;5;241m.\u001b[39munique(), ticktext\u001b[38;5;241m=\u001b[39m[\u001b[38;5;28mint\u001b[39m(x) \u001b[38;5;28;01mfor\u001b[39;00m x \u001b[38;5;129;01min\u001b[39;00m df[\u001b[38;5;124m'\u001b[39m\u001b[38;5;124myear_of_release\u001b[39m\u001b[38;5;124m'\u001b[39m]\u001b[38;5;241m.\u001b[39munique()])\n\u001b[0;32m      4\u001b[0m fig_1\u001b[38;5;241m.\u001b[39mshow()\n",
      "\u001b[1;31mValueError\u001b[0m: cannot convert float NaN to integer"
     ]
    }
   ],
   "source": [
    "fig_1 = px.histogram(df, x='year_of_release', labels={\"year_of_release\": \"Year Of Release\"}, title=\"Number of Video Games Released per Year\")\n",
    "\n",
    "fig_1.update_xaxes(tickvals=df['year_of_release'].unique(), ticktext=[int(x) for x in df['year_of_release'].unique()])\n",
    "fig_1.show()"
   ]
  },
  {
   "cell_type": "markdown",
   "metadata": {},
   "source": [
    "Total Sales Per Platform Bar Chart\n",
    "\n",
    "Question being Addressed:\n",
    "Look at how sales varied from platform to platform. Choose the platforms with the greatest total sales and build a distribution based on data for each year. \n",
    "The platforms with the greatest total sales are:\n",
    "1) PS2 - $1,255.77 per year total sales\n",
    "2) X360 - $971.42 per year total sales\n",
    "3) Wii - $907.51 per year total sales\n",
    "*The distribution for the year for each of these platforms will be displayed in the next task."
   ]
  },
  {
   "cell_type": "markdown",
   "metadata": {},
   "source": [
    "Code Meaning: \n",
    "1) In order to get rid of stacked values in the data for the bar chart by using the groupby function on df dataframe and grouping by platform.\n",
    "2) In the same line of code, use the sum() method in on the total_sales column of the df dataframe in order to sum up the total values.\n",
    "3) Assign the code to fig_2_sum in order to save the result.\n",
    "4) Create another dataframe called fig_sum_2_df by using the reset_index() method on the fig_sum_2 dataframe.\n",
    "5) Use the rename() method in order to rename the total_sales column to total_sales_sum. Use columns= as the parameter.\n",
    "6) Use the head() function in order to print the first five lines of fig_2_sum_df.\n",
    "\n",
    "Code Result:\n",
    "fig_2_sum_df was created successfully."
   ]
  },
  {
   "cell_type": "code",
   "execution_count": null,
   "metadata": {},
   "outputs": [],
   "source": [
    "fig_2_sum = df.groupby('platform')['total_sales'].sum()\n",
    "\n",
    "fig_2_sum_df = fig_2_sum.reset_index().rename(columns={'total_sales': 'total_sales_sum'})\n",
    "\n",
    "fig_2_sum_df.head()"
   ]
  },
  {
   "cell_type": "markdown",
   "metadata": {},
   "source": [
    "Code Meaning:\n",
    "1) Use px.bar() in order to create a bar chart titled: 'Total Sales Per Platform'.\n",
    "2) Use the fig_2_sum_df dataframe as the data.\n",
    "3) Use the platform column of the fig_2_sum df dataframe as the x axis and the total_sales_sum column as the y axis.\n",
    "4) Use the platform column as the color parameter in order to make it easier to differentiate the data in each platform on the chart.\n",
    "5) Use fig_2.show() in order to display the chart. \n"
   ]
  },
  {
   "cell_type": "code",
   "execution_count": null,
   "metadata": {},
   "outputs": [],
   "source": [
    "#create dataframe just for the  bar chart,  no other values\n",
    "fig_2 = px.bar(fig_2_sum_df, x='platform', y='total_sales_sum', labels={\"total_sales_sum\": \"Sum of Total Sales\", \"platform\": \"Platform\"}, color='platform', title='Total Sales Per Platform')\n",
    "\n",
    "fig_2.show()"
   ]
  },
  {
   "cell_type": "markdown",
   "metadata": {},
   "source": [
    "Total Sales Per Year of the Top 3 Platforms\n",
    "\n",
    "\n",
    "Question/Task Answered:\n",
    "Which platforms are leading in sales? \n",
    "The platforms which are leading in sales are:\n",
    "1) PS2\n",
    "2) X360\n",
    "3) Wii"
   ]
  },
  {
   "cell_type": "markdown",
   "metadata": {},
   "source": [
    "Code Meaning:\n",
    "1) Create a new filtered dataframe called ps_2 that only displays results that have PS2 listed as a result for the platform column.\n",
    "2) Use the head() method to print the first five lines of the ps_2 dataframe.\n",
    "\n",
    "Code Result:\n",
    "The entries in the rows of the ps_2 dataframe appear to be listed correctly.  The ps_2 dataframe was created successfully."
   ]
  },
  {
   "cell_type": "code",
   "execution_count": null,
   "metadata": {},
   "outputs": [],
   "source": [
    "ps_2 = df[df['platform'] == 'PS2']\n",
    "\n",
    "ps_2.head()"
   ]
  },
  {
   "cell_type": "markdown",
   "metadata": {},
   "source": [
    "Code Meaning:\n",
    "1) Create a new filtered dataframe called x_360 that only displays results that have X360 listed as a result for the platform column.\n",
    "2) Use the head() method to print the first five lines of the X_360 dataframe.\n",
    "\n",
    "Code Result:\n",
    "The entries in the rows of the X_360 dataframe appear to be listed correctly.  The X_360 dataframe was created successfully."
   ]
  },
  {
   "cell_type": "code",
   "execution_count": null,
   "metadata": {},
   "outputs": [],
   "source": [
    "x_360 = df[df['platform'] == 'X360']\n",
    "\n",
    "x_360.head()"
   ]
  },
  {
   "cell_type": "markdown",
   "metadata": {},
   "source": [
    "Code Meaning:\n",
    "1) Create a new filtered dataframe called wii that only displays results that have Wii listed as a result for the platform column.\n",
    "2) Use the head() method to print the first five lines of the wii dataframe.\n",
    "\n",
    "Code Result:\n",
    "The entries in the rows of the wii dataframe appear to be listed correctly.  The wii dataframe was created successfully."
   ]
  },
  {
   "cell_type": "code",
   "execution_count": null,
   "metadata": {},
   "outputs": [],
   "source": [
    "wii = df[df['platform'] == 'Wii']\n",
    "\n",
    "wii.head()"
   ]
  },
  {
   "cell_type": "markdown",
   "metadata": {},
   "source": [
    "Code Meaning:\n",
    "1) Use px.bar() in order to create a bar chart titled: 'PS2 Total Sales per Year'.\n",
    "2) Use the year_of_release column as the x axis of the chart and the total_sales column as the y axis of the chart.\n",
    "3) Assign the result to ps_2_bar in order to save the result.\n",
    "4) Use the update_xaxes() method in order to set the tick values of the x axis as each individual unique value of the year_of_release column of the ps_2 dataframe. Set the tick text to display each value on the x axis as each individual unique value of the year_of_release column of the ps_2 dataframe as an integer.\n",
    "5) Use the show() method in order to display the ps_2_bar bar chart."
   ]
  },
  {
   "cell_type": "markdown",
   "metadata": {},
   "source": [
    "Code Meaning: \n",
    "1) In order to get rid of stacked values in the data for the bar chart by using the groupby function on the ps_2 dataframe and grouping by platform.\n",
    "2) In the same line of code, use the sum() method in on the total_sales column of the ps_2 dataframe in order to sum up the total values.\n",
    "3) Assign the code to ps_2_sum in order to save the result.\n",
    "4) Use the reset_index() method on the ps_2_sum dataframe.\n",
    "5) Use the rename() method in order to rename the total_sales column to total_sales_sum. Use columns= as the parameter.\n",
    "6) Use the head() function in order to print the first five lines of ps_2_sum.\n",
    "\n",
    "Code Result:\n",
    "ps_2_sum was created successfully."
   ]
  },
  {
   "cell_type": "code",
   "execution_count": null,
   "metadata": {},
   "outputs": [],
   "source": [
    "ps_2_sum = ps_2.groupby('year_of_release')['total_sales'].sum()\n",
    "ps_2_sum = ps_2_sum.reset_index().rename(columns={'total_sales': 'total_sales_sum'})\n",
    "\n",
    "ps_2_sum.head()"
   ]
  },
  {
   "cell_type": "code",
   "execution_count": null,
   "metadata": {},
   "outputs": [],
   "source": [
    "ps_2_bar = px.bar(ps_2_sum, x='year_of_release', y='total_sales_sum',labels={\"total_sales_sum\": \"Sum of Total Sales\",\"year_of_release\": \"Year Of Release\" }, title='PS2 Total Sales per Year')\n",
    "\n",
    "ps_2_bar.update_xaxes(tickvals=ps_2['year_of_release'].unique(), ticktext=[int(x) for x in ps_2['year_of_release'].unique()])\n",
    "\n",
    "ps_2_bar.show()"
   ]
  },
  {
   "cell_type": "markdown",
   "metadata": {},
   "source": [
    "Conclusion:  It appears that PS2 sales were highest in the year 2004 with $211.81 M total sales noted and PS2 sales were lowest in the year 2011 with $0.45 M in total sales noted."
   ]
  },
  {
   "cell_type": "markdown",
   "metadata": {},
   "source": [
    "Code Meaning: \n",
    "1) In order to get rid of stacked values in the data for the bar chart by using the groupby function on x_360 dataframe and grouping by platform.\n",
    "2) In the same line of code, use the sum() method in on the total_sales column of the x_360 dataframe in order to sum up the total values.\n",
    "3) Assign the code to x_360_sum in order to save the result.\n",
    "4) Use the reset_index() method on the x_360_sum dataframe.\n",
    "5) Use the rename() method in order to rename the total_sales column to total_sales_sum. Use columns= as the parameter.\n",
    "6) Use the head() function in order to print the first five lines of x360_sum.\n",
    "\n",
    "Code Result:\n",
    "x360_sum was created successfully."
   ]
  },
  {
   "cell_type": "code",
   "execution_count": null,
   "metadata": {},
   "outputs": [],
   "source": [
    "x_360_sum = x_360.groupby('year_of_release')['total_sales'].sum()\n",
    "x_360_sum = x_360_sum.reset_index().rename(columns={'total_sales': 'total_sales_sum'})\n",
    "x_360_sum.head()"
   ]
  },
  {
   "cell_type": "markdown",
   "metadata": {},
   "source": [
    "Code Meaning:\n",
    "1) Use px.bar() in order to create a bar chart titled: 'X360 Total Sales per Year'.\n",
    "2) Use the year_of_release column as the x axis of the chart and the total_sales column as the y axis of the chart.\n",
    "3) Assign the result to X360_bar in order to save the result.\n",
    "4) Use the update_xaxes() method in order to set the tick values of the x axis as each individual unique value of the year_of_release column of the X_360 dataframe. Set the tick text to display each value on the x axis as each individual unique value of the year_of_release column of the X_360 dataframe as an integer.\n",
    "5) Use the show() method in order to display the X_360_bar bar chart."
   ]
  },
  {
   "cell_type": "code",
   "execution_count": null,
   "metadata": {},
   "outputs": [],
   "source": [
    "x_360_bar = px.bar(x_360_sum, x='year_of_release', y='total_sales_sum',labels={\"total_sales_sum\": \"Sum of Total Sales\", \"year_of_release\": \"Year of Release\"}, title='X360 Total Sales per Year')\n",
    "\n",
    "x_360_bar.update_xaxes(tickvals=x_360['year_of_release'].unique(), ticktext=[int(x) for x in x_360['year_of_release'].unique()])\n",
    "\n",
    "x_360_bar.show()"
   ]
  },
  {
   "cell_type": "markdown",
   "metadata": {},
   "source": [
    "Conclusion:  It appears that X360 had the highest total sales in the year 2010 with $180.21 M in total sales noted and the lowest total sales in the year 2016 with $1.52 M total sales noted."
   ]
  },
  {
   "cell_type": "markdown",
   "metadata": {},
   "source": [
    "Code Meaning: \n",
    "1) In order to get rid of stacked values in the data for the bar chart by using the groupby function on wii dataframe and grouping by platform.\n",
    "2) In the same line of code, use the sum() method in on the total_sales column of the wii dataframe in order to sum up the total values.\n",
    "3) Assign the code to wii_sum in order to save the result.\n",
    "4) Use the reset_index() method on the wii_sum dataframe.\n",
    "5) Use the rename() method in order to rename the total_sales column to total_sales_sum. Use columns= as the parameter.\n",
    "6) Use the head() function in order to print the first five lines of wii_sum.\n",
    "\n",
    "Code Result:\n",
    "wii_sum was created successfully."
   ]
  },
  {
   "cell_type": "code",
   "execution_count": null,
   "metadata": {},
   "outputs": [],
   "source": [
    "wii_sum = wii.groupby('year_of_release')['total_sales'].sum()\n",
    "wii_sum = wii_sum.reset_index().rename(columns={'total_sales': 'total_sales_sum'})\n",
    "wii_sum.head()"
   ]
  },
  {
   "cell_type": "markdown",
   "metadata": {},
   "source": [
    "Code Meaning:\n",
    "1) Use px.bar() in order to create a bar chart titled: 'Wii Total Sales per Year'.\n",
    "2) Use the year_of_release column as the x axis of the chart and the total_sales column as the y axis of the chart.\n",
    "3) Assign the result to wii_bar in order to save the result.\n",
    "4) Use the update_xaxes() method in order to set the tick values of the x axis as each individual unique value of the year_of_release column of the wii dataframe. Set the tick text to display each value on the x axis as each individual unique value of the year_of_release column of the wii dataframe as an integer.\n",
    "5) Use the show() method in order to display the wii_bar bar chart."
   ]
  },
  {
   "cell_type": "code",
   "execution_count": null,
   "metadata": {},
   "outputs": [],
   "source": [
    "wii_bar = px.bar(wii_sum, x='year_of_release', y='total_sales_sum', labels={\"total_sales_sum\": \"Sum of Total Sales\", \"year_of_release\": \"Year of Release\"}, title='Wii Total Sales per Year')\n",
    "\n",
    "wii_bar.update_xaxes(tickvals=wii['year_of_release'].unique(), ticktext=[int(x) for x in wii['year_of_release'].unique()])\n",
    "\n",
    "wii_bar.show()"
   ]
  },
  {
   "cell_type": "markdown",
   "metadata": {},
   "source": [
    "Conclusion:  It appears that Wii had the highest total sales in the year 2009 with $223.30 total sales noted and the lowest amount of sales in the year 2016 with $0.18 in total sales noted."
   ]
  },
  {
   "cell_type": "markdown",
   "metadata": {},
   "source": [
    "Total Sales Per Release Year Line Charts\n",
    "\n",
    "Question Being Addressed:\n",
    " Find platforms that used to be popular but now have zero sales. How long does it generally take for new platforms to appear and old ones to fade?\n",
    "\n",
    " The platforms that used to be popular, but now have zero sales are as listed: 'Wii', 'NES, 'GB', 'DS', 'X360', 'PS3', 'PS2', 'SNES', 'GBA', 'PS4', '3DS', 'N64', 'PS', 'XB', 'PC', '2600', 'PSP', 'Xone', 'WiiU', 'GC', 'GEN', 'DC', 'PSV', 'SAT', 'SCD', 'WS', 'NG', 'TG16', '3DO', 'GG', 'PCFX'.\n",
    " \n",
    " The greatest amount of time that it takes for a new platform to appear and fade is 28 years and the shortest amount of time for a new platform to appear and fade is one year or less."
   ]
  },
  {
   "cell_type": "markdown",
   "metadata": {},
   "source": [
    "Code Meaning: To make it easier to formulate the latter codes, check the list of unique values in order in the year_of_release columns by using the sort_values() and unique() methods in the year_of_release column of the df dataframe.\n",
    "\n",
    "Code Result:\n",
    "It seems like the most recent year of entries in the year_of_release column of the df dataframe is 2016, which is the year which will be omitted from the new dataframe that will be created in order to form the line charts."
   ]
  },
  {
   "cell_type": "code",
   "execution_count": null,
   "metadata": {},
   "outputs": [],
   "source": [
    "df['year_of_release'].sort_values().unique()"
   ]
  },
  {
   "cell_type": "markdown",
   "metadata": {},
   "source": [
    "Code Meaning:  \n",
    "1) Create a filtered dataframe from the df dataframe that does not contain any entries for '2016' from the year_of_release column of the df dataframe.\n",
    "2) Assign the new dataframe the name: no_sales_1 in order to save the results and create the new dataframe.\n",
    "3) Use the head() method on the no_sales_1 dataframe in order to print the first five rows of the dataframe in order to check for any errors.\n",
    "\n",
    "Code Result: \n",
    "It appears that the entries in the rows of the no_sales_1 dataframe are listed correctly.  The dataframe was created successfully."
   ]
  },
  {
   "cell_type": "code",
   "execution_count": null,
   "metadata": {},
   "outputs": [],
   "source": [
    "no_sales_1 = df[df['year_of_release'] != '2016']\n",
    "\n",
    "no_sales_1.head()\n"
   ]
  },
  {
   "cell_type": "markdown",
   "metadata": {},
   "source": [
    "Code Meaning:  Make a list of the names of the different platforms in the no_sales_1 dataframe by using the unique() method on the dataframe.\n",
    "\n",
    "Code Result:  There too many different platforms listed in the platform column of the no_sales_1 dataframe.  Four separate line charts must be created so that they information will not be overcrowded by having too many platforms listed in one line chart."
   ]
  },
  {
   "cell_type": "code",
   "execution_count": null,
   "metadata": {},
   "outputs": [],
   "source": [
    "no_sales_1['platform'].unique()"
   ]
  },
  {
   "cell_type": "markdown",
   "metadata": {},
   "source": [
    "Code Meaning: \n",
    "1) Create a list that contain the names: 'Wii', 'NES', 'GB', 'DS', 'X360', 'PS2', 'SNES', 'GBA' (these are select names of the some of the platforms from the no_sales_1 dataframe) and assign the code to the variable\n",
    "no_sales_2_list in order to save the result.\n",
    "2) Use the isin() method on the platfrom column of the no_sales column in order to check for the specificed values in the no_sales_2_list variable.  Assign the code to no_sales_2_limited in order to save the result.\n",
    "3) Create a new dataframe called no_sales_2 by adding the no_sales_2_limited variable as an arguement to a closed bracket [] next to the no_sales_2 dataframe.\n",
    "4) Follow the same previous steps in order to create the no_sales_3, no_sales_4, and no_sales_5 dataframes."
   ]
  },
  {
   "cell_type": "code",
   "execution_count": null,
   "metadata": {},
   "outputs": [],
   "source": [
    "no_sales_2_list = ['Wii', 'NES', 'GB', 'DS', 'X360', 'PS2', 'SNES', 'GBA']\n",
    "no_sales_2_limited = no_sales_1['platform'].isin(no_sales_2_list)\n",
    "no_sales_2 = no_sales_1[no_sales_2_limited]\n",
    "\n",
    "no_sales_3_list = ['PS4', '3DS', 'N64', 'PS', 'XB', 'PC', '2600', 'PSP', 'XOne']\n",
    "no_sales_3_limited = no_sales_1['platform'].isin(no_sales_3_list)\n",
    "no_sales_3 = no_sales_1[no_sales_3_limited]\n",
    "\n",
    "no_sales_4_list = ['WiiU', 'GC','GEN', 'DC', 'PSV', 'SAT', 'SCD']\n",
    "no_sales_4_limited = no_sales_1['platform'].isin(no_sales_4_list)\n",
    "no_sales_4 = no_sales_1[no_sales_4_limited]\n",
    "\n",
    "no_sales_5_list = ['WS', 'NG', 'TG16', '3DO', 'GG', 'PCFX']\n",
    "no_sales_5_limited = no_sales_1['platform'].isin(no_sales_5_list)\n",
    "no_sales_5 = no_sales_1[no_sales_5_limited]"
   ]
  },
  {
   "cell_type": "markdown",
   "metadata": {},
   "source": [
    "Code Meaning:\n",
    "1) In order to make the information cleaner and in order to get rid of stacked values, apply the groupby() method to the no_sales_2 dataframe and groupby the platform and year_of_release columns.  \n",
    "2)Use the agg() and sum() function on the total_sales column of the no_sales_2 dataframe.\n",
    "3) Use the reset_index() method in order to reset the index.\n",
    "4) Assign the result platform_sales_year_1 in order to save the result and create a platform_sales_year_1 dataframe which will be used to create the first line chart.\n",
    "5) Repeat the same steps for the no_sales_3, no_sales_4, and no_sales_5 dataframes in order to create the platform_sales_year_2, platform_sales_year_3 and platform_sales_year_4 dataframes."
   ]
  },
  {
   "cell_type": "code",
   "execution_count": null,
   "metadata": {},
   "outputs": [],
   "source": [
    "platform_sales_year_1 = no_sales_2.groupby(['platform', 'year_of_release']).agg({'total_sales': 'sum'}).reset_index()\n",
    "\n",
    "platform_sales_year_2 = no_sales_3.groupby(['platform', 'year_of_release']).agg({'total_sales': 'sum'}).reset_index()\n",
    "\n",
    "platform_sales_year_3 = no_sales_4.groupby(['platform', 'year_of_release']).agg({'total_sales': 'sum'}).reset_index()\n",
    "\n",
    "platform_sales_year_4 = no_sales_5.groupby(['platform', 'year_of_release']).agg({'total_sales': 'sum'}).reset_index()"
   ]
  },
  {
   "cell_type": "markdown",
   "metadata": {},
   "source": [
    "Code Meaning:\n",
    "1) Use px.line() in order to create a line chart with data from the platform_sales_year_1 dataframe.\n",
    "2) Use the year_of_release column as the x axis and the total_sales column as the y axis.\n",
    "3) Set the color parameter to the platform column of the dataframe.\n",
    "4) Set the title as: 'Line Chart of Total Sales per Year of Release for Platforms: DS-X360 '.\n",
    "5) Assign the code to no_sales_line in order to save the result.\n",
    "6) Use the show() method in order to display the no_sales_line chart."
   ]
  },
  {
   "cell_type": "code",
   "execution_count": null,
   "metadata": {},
   "outputs": [],
   "source": [
    "#platform, release_year, total_sales\n",
    "no_sales_line = px.line(platform_sales_year_1, x='year_of_release', y='total_sales',color='platform',labels={\"total_sales\": \"Total Sales\", \"year_of_release\": \"Year of Release\"}, title='Line Chart of Total Sales per Year of Release Platforms: DS-X360')\n",
    "\n",
    "no_sales_line.show()"
   ]
  },
  {
   "cell_type": "markdown",
   "metadata": {},
   "source": [
    "Code Meaning:\n",
    "1) Use px.line() in order to create a line chart with data from the platform_sales_year_2 dataframe.\n",
    "2) Use the year_of_release column as the x axis and the total_sales column as the y axis.\n",
    "3) Set the color parameter to the platform column of the dataframe.\n",
    "4) Set the title as: 'Line Chart of Total Sales per Year of Release for Platforms: 2600-XOne'.\n",
    "5) Assign the code to no_sales_line_2 in order to save the result.\n",
    "6) Use the show() method in order to display the no_sales_line_2 chart."
   ]
  },
  {
   "cell_type": "code",
   "execution_count": null,
   "metadata": {},
   "outputs": [],
   "source": [
    "no_sales_line_2 = px.line(platform_sales_year_2, x='year_of_release', y='total_sales',labels={\"total_sales\": \"Total Sales\", \"year_of_release\": \"Year of Release\"}, color='platform', title='Line Chart of Total Sales per Year of Release for Platforms: 2600-XOne')\n",
    "\n",
    "no_sales_line_2.show()"
   ]
  },
  {
   "cell_type": "markdown",
   "metadata": {},
   "source": [
    "Code Meaning:\n",
    "1) Use px.line() in order to create a line chart with data from the platform_sales_year_3 dataframe.\n",
    "2) Use the year_of_release column as the x axis and the total_sales column as the y axis.\n",
    "3) Set the color parameter to the platform column of the dataframe.\n",
    "4) Set the title as: 'Line Chart of Total Sales per Year of Release for Platforms: DC-WiiU'.\n",
    "5) Assign the code to no_sales_line_3 in order to save the result.\n",
    "6) Use the show() method in order to display the no_sales_line_3 chart."
   ]
  },
  {
   "cell_type": "code",
   "execution_count": null,
   "metadata": {},
   "outputs": [],
   "source": [
    "no_sales_line_3 = px.line(platform_sales_year_3, x='year_of_release', y='total_sales',labels={\"total_sales\": \"Total Sales\", \"year_of_release\": \"Year of Release\"}, color='platform', title='Line Chart of Total Sales per Year of Release for Platforms: DC-WiiU')\n",
    "\n",
    "no_sales_line_3.show()"
   ]
  },
  {
   "cell_type": "markdown",
   "metadata": {},
   "source": [
    "Code Meaning:\n",
    "1) Use px.line() in order to create a line chart with data from the platform_sales_year_4 dataframe.\n",
    "2) Use the year_of_release column as the x axis and the total_sales column as the y axis.\n",
    "3) Set the color parameter to the platform column of the dataframe.\n",
    "4) Set the title as: 'Line Chart of Total Sales per Year of Release for Platforms: 3DO-WS'.\n",
    "5) Assign the code to no_sales_line_4 in order to save the result.\n",
    "6) Use the show() method in order to display the no_sales_line_4 chart."
   ]
  },
  {
   "cell_type": "code",
   "execution_count": null,
   "metadata": {},
   "outputs": [],
   "source": [
    "no_sales_line_4 = px.line(platform_sales_year_4, x='year_of_release', y='total_sales',labels={\"total_sales\": \"Total Sales\", \"year_of_release\": \"Year of Release\"}, color='platform', title='Line Chart of Total Sales per Year of Release for Platforms: 3DO-WS')\n",
    "\n",
    "no_sales_line_4.show()"
   ]
  },
  {
   "cell_type": "markdown",
   "metadata": {},
   "source": [
    "2016 Box Charts\n",
    "\n",
    "Question/ Task Being Addressed:\n",
    "Determine what period you should take data for. To do so, look at your answers to the previous questions. The data should allow you to build a model for 2017.\n",
    "Model for 2017:\n",
    "1) It appears that the best selling genre for 2016 was 'Shooter' which had a total of $38.22 M per year total sales, which could possibly be a profitable genre for 2017.\n",
    "2) It appears that the best selling platform for 2016 was 'PS4' which had a total sales $69.25 M per year total sales, which could possibly be a profitable genre for 2017.\n",
    "3) It appears that the best selling rating for games for 2016 is 'E' which had a total sales of $58.34 M per year total sales, which could be a proftiable game rating for 2017."
   ]
  },
  {
   "cell_type": "code",
   "execution_count": null,
   "metadata": {},
   "outputs": [],
   "source": [
    "df['year_of_release'].sort_values().unique()"
   ]
  },
  {
   "cell_type": "code",
   "execution_count": null,
   "metadata": {},
   "outputs": [],
   "source": [
    "df_2016 = df[df['year_of_release'] == 2016]\n",
    "df_2016.head()"
   ]
  },
  {
   "cell_type": "markdown",
   "metadata": {},
   "source": [
    "Code Meaning: \n",
    "1) In order to get rid of stacked values in the data for the bar chart by using the groupby function on the df_2016 dataframe and grouping by platform.\n",
    "2) In the same line of code, use the sum() method in on the total_sales column of the df_2016 dataframe in order to sum up the total values.\n",
    "3) Assign the code to g_2106 in order to save the result.\n",
    "4) Use reset_index() method on the g_2016 dataframe.\n",
    "5) Use the rename() method in order to rename the total_sales column to total_sales_sum. Use columns= as the parameter.\n",
    "6) Use the head() function in order to print the first five lines of g_2016.\n",
    "\n",
    "Code Result:\n",
    "g_2016 was created successfully."
   ]
  },
  {
   "cell_type": "code",
   "execution_count": null,
   "metadata": {},
   "outputs": [],
   "source": [
    "g_2016 = df_2016.groupby('genre')['total_sales'].sum()\n",
    "g_2016 = g_2016.reset_index().rename(columns={'total_sales': 'total_sales_sum'})\n",
    "g_2016.head()"
   ]
  },
  {
   "cell_type": "markdown",
   "metadata": {},
   "source": [
    "Code Meaning:\n",
    "1) Use px.bar() in order to create a bar chart with the data from the g_2016 dataframe titled: \"Total Sales per Genre 2016\".\n",
    "2) Use the genre column of the g_2016 dataframe as the x axis and the total_sales_sum column as the y axis.\n",
    "3) Relabel x and y axes appropriately.\n",
    "4) Use the show() method in order to display the chart."
   ]
  },
  {
   "cell_type": "markdown",
   "metadata": {},
   "source": [
    "Code Meaning:"
   ]
  },
  {
   "cell_type": "code",
   "execution_count": null,
   "metadata": {},
   "outputs": [],
   "source": [
    "g_bar_2016 = px.bar(g_2016,x='genre', y='total_sales_sum',labels={\"total_sales_sum\": \"Sum of Total Sales\", \"genre\": \"Genre\"}, title='Total Sales per Genre 2016')\n",
    "g_bar_2016.show()"
   ]
  },
  {
   "cell_type": "markdown",
   "metadata": {},
   "source": [
    "Code Meaning: \n",
    "1) In order to get rid of stacked values in the data for the bar chart by using the groupby function on df_2016 dataframe and grouping by platform.\n",
    "2) In the same line of code, use the sum() method in on the total_sales column of the df_2016 dataframe in order to sum up the total values.\n",
    "3) Assign the code to p_2016 in order to save the result.\n",
    "4) Use the reset_index() method on the p_2016 dataframe.\n",
    "5) Use the rename() method in order to rename the total_sales column to total_sales_sum. Use columns= as the parameter.\n",
    "6) Use the head() function in order to print the first five lines of p_2016.\n",
    "\n",
    "Code Result:\n",
    "p_2016 was created successfully."
   ]
  },
  {
   "cell_type": "code",
   "execution_count": null,
   "metadata": {},
   "outputs": [],
   "source": [
    "p_2016 = df_2016.groupby('platform')['total_sales'].sum()\n",
    "p_2016 = p_2016.reset_index().rename(columns={'total_sales': 'total_sales_sum'})"
   ]
  },
  {
   "cell_type": "markdown",
   "metadata": {},
   "source": [
    "Code Meaning:\n",
    "1) Use px.bar() in order to create a bar chart with the data from the p_2016 dataframe titled: \"Total Sales per Platform 2016\".\n",
    "2) Use the platform column of the p_2016 dataframe as the x axis and the total_sales_sum column as the y axis.\n",
    "3) Relabel x and y axes appropriately.\n",
    "4) Use the show() method in order to display the chart."
   ]
  },
  {
   "cell_type": "code",
   "execution_count": null,
   "metadata": {},
   "outputs": [],
   "source": [
    "p_bar_2016 = px.bar(p_2016, x='platform', y='total_sales_sum',labels={\"total_sales_sum\": \"Sum of Total Sales\", \"platform\": \"Platform\"}, title='Total Sales per Platform 2016')\n",
    "p_bar_2016.show()"
   ]
  },
  {
   "cell_type": "markdown",
   "metadata": {},
   "source": [
    "Code Meaning: \n",
    "1) In order to get rid of stacked values in the data for the bar chart by using the groupby function on df_2016 dataframe and grouping by platform.\n",
    "2) In the same line of code, use the sum() method in on the total_sales column of the df_2016 dataframe in order to sum up the total values.\n",
    "3) Assign the code to r_2016 in order to save the result.\n",
    "4) Use the reset_index() method on the r_2016 dataframe.\n",
    "5) Use the rename() method in order to rename the total_sales column to total_sales_sum. Use columns= as the parameter.\n",
    "6) Use the head() function in order to print the first five lines of r_2016.\n",
    "\n",
    "Code Result:\n",
    "r_2016 was created successfully."
   ]
  },
  {
   "cell_type": "code",
   "execution_count": null,
   "metadata": {},
   "outputs": [],
   "source": [
    "r_2016 = df_2016.groupby('rating')['total_sales'].sum()\n",
    "r_2016 = r_2016.reset_index().rename(columns={'total_sales': 'total_sales_sum'})"
   ]
  },
  {
   "cell_type": "markdown",
   "metadata": {},
   "source": [
    "Code Meaning:\n",
    "1) Use px.bar() in roder to create a bar chart with the data from the r_2016 dataframe titled: \"Total Sales per Rating 2016\".\n",
    "2) Use the rating column of the r_2016 dataframe as the x axis and the total_sales_sum column as the y axis.\n",
    "3) Relabel x and y axes appropriately.\n",
    "4) Use the show() method in order to display the chart."
   ]
  },
  {
   "cell_type": "code",
   "execution_count": null,
   "metadata": {},
   "outputs": [],
   "source": [
    "r_bar_2016 = px.bar(r_2016, x='rating', y='total_sales_sum',labels={\"rating\": \"Rating\", \"total_sales_sum\":\"Sum of Total Sales\"}, title=\"Total Sales per Rating 2016\")\n",
    "r_bar_2016.show()"
   ]
  },
  {
   "cell_type": "markdown",
   "metadata": {},
   "source": [
    "Boxplots For Global Sales of All Games\n",
    "\n",
    "Build a box plot for the global sales of all games, broken down by platform. Are the differences in sales significant? What about average sales on various platforms? Describe your findings.\n",
    "\n",
    "Conclusions:\n",
    "1) It appears that the greatest earning platform is Wii, with a minimum value of $0.01 M, a maximum value of $82.54 M, a quartile value of $0.08 M, a median value of $0.19 M, and a 75th percentile value of $0.485 M. \n",
    "2) It appears that the lowest earning platform is 3D0 with a minimum value of $0.02, a maximum value of 0.06, a quartile value of $0.02 M, a median value of $0.02 M and a 75th percentile value of $0.05 M.\n",
    "3) The median values of all platforms range from $0.19 M to $0.02 M."
   ]
  },
  {
   "cell_type": "code",
   "execution_count": null,
   "metadata": {},
   "outputs": [],
   "source": [
    "df['year_of_release'].unique()"
   ]
  },
  {
   "cell_type": "markdown",
   "metadata": {},
   "source": [
    "Code Meaning: For reference and convenience, print out the individual names of all the platforms in the plaform column of the df dataframe using the unique() method.\n",
    "\n",
    "Code Result:  There are too many platform names in the platform column of the df dataframe. Eight separate boxplots must be created in order to display the data in a cleaner fashion and to avoid overcrowding the plot with too much data.  The eight boxplots consist of: 4 boxplots without a limited y axis in order to display the min and max values and four boxplots with the limited y axes in order to display the quartile, median and 75th percentile values for each platform."
   ]
  },
  {
   "cell_type": "code",
   "execution_count": null,
   "metadata": {},
   "outputs": [],
   "source": [
    "df['year_of_release'].sort_values().unique()"
   ]
  },
  {
   "cell_type": "code",
   "execution_count": null,
   "metadata": {},
   "outputs": [],
   "source": [
    "#use as code to make correction\n",
    "current_year = [2014, 2015, 2016]\n",
    "current_year_1 = df['year_of_release'].isin(current_year)\n",
    "\n",
    "current_year_1.head()\n",
    "current_year_df = df[current_year_1]\n",
    "\n",
    "current_year_df.head()"
   ]
  },
  {
   "cell_type": "markdown",
   "metadata": {},
   "source": [
    "Code Meaning: \n",
    "1) Create a list that contain the names: 'Wii', 'NES', 'GB', 'DS', 'X360', 'PS2', and 'SNES' (these are select names of the some of the platforms from the df dataframe) and assign the code to the variable\n",
    "platforms_1_list in order to save the result.\n",
    "2) Use the isin() method on the platfrom column of the df column in order to check for the specificed values in the platforms_1_list variable.  Assign the code to platforms_1_list in order to save the result.\n",
    "3) Create a new dataframe called box_1 by adding the platforms_list_1 variable as an arguement to a closed bracket [] next to the df dataframe.\n",
    "4) Follow the same previous steps in order to create the box_2, box_3, box_4 and box_5 dataframes."
   ]
  },
  {
   "cell_type": "code",
   "execution_count": null,
   "metadata": {},
   "outputs": [],
   "source": [
    "platforms_1 = ['Wii', 'NES', 'GB', 'DS', 'X360', 'SNES']\n",
    "platform_list_1 = df['platform'].isin(platforms_1)\n",
    "\n",
    "box_1 = df[platform_list_1]\n",
    "\n",
    "platforms_2 = ['GBA', 'PS4', '3DS', 'N64', 'PS', 'XB', 'PC', '2600', 'PSP', 'Xone']\n",
    "platform_list_2 = df['platform'].isin(platforms_2)\n",
    "\n",
    "box_2 = df[platform_list_2]\n",
    "\n",
    "platforms_3 = ['WiiU', 'GC', 'GEN', 'DC', 'PSV', 'SAT', 'SCD']\n",
    "platform_list_3 = df['platform'].isin(platforms_3)\n",
    "\n",
    "box_3 = df[platform_list_3]\n",
    "\n",
    "platforms_4 = ['WS', 'NG', 'TG16']\n",
    "platform_list_4 = df['platform'].isin(platforms_4)\n",
    "\n",
    "box_4 = df[platform_list_4]\n",
    "\n",
    "platforms_5 = ['3DO', 'GG', 'PCFX']\n",
    "platform_list_5 = df['platform'].isin(platforms_5)\n",
    "\n",
    "box_5 = df[platform_list_5]"
   ]
  },
  {
   "cell_type": "markdown",
   "metadata": {},
   "source": [
    "Code Meaning:\n",
    "1) Create a boxplot using px.box() with the information from the box_1 dataframe.\n",
    "2) Platform column of the box_1 dataframe as the x axis and use the total_sales column as the y_axis.\n",
    "3) Set points parameter to False in order to remove any outliers.\n",
    "4) Assign the code to df_box_1 in order to save the result.\n",
    "5) Set the title as 'Min/Max Boxplot for Platforms: Wii-SNES'.\n",
    "6) Use the show() method in order to display the df_box_1 boxplot."
   ]
  },
  {
   "cell_type": "code",
   "execution_count": null,
   "metadata": {},
   "outputs": [],
   "source": [
    "df_box_1 = px.box(box_1, x='platform', y='total_sales', labels={\"platform\": \"Platform\", \"total_sales\": \"Total Sales\"}, points=False, title='Min/Max Boxplot for Platforms: Wii-SNES')\n",
    "\n",
    "df_box_1.show()"
   ]
  },
  {
   "cell_type": "markdown",
   "metadata": {},
   "source": [
    "Code Meaning:\n",
    "1) Use px.box() in order to create a box plot using the data from the box_1 dataframe, titled:'Full Quartile Boxplot for Platforms: Wii-SNES' .\n",
    "2) Use the platform column of the box_1 dataframe as the x axis and use the 'total_sales' as the y axis.\n",
    "3) Set the points parameter to False in order to remove any outliers.\n",
    "4) Assign the code to df_box_median_1 in order to save the result.\n",
    "5) Use the update_yaxis() method to limit the y axis from the ranges: 0-2.5 in order to display the 25th, 50th(median), and 75th percentiles much clearer. This boxplot wil not display the max values for each platform.  \n",
    "6) Use the show() method df_box_median_1 in order to display the boxplot."
   ]
  },
  {
   "cell_type": "code",
   "execution_count": null,
   "metadata": {},
   "outputs": [],
   "source": [
    "df_box_median_1 = px.box(box_1, x='platform', y='total_sales',labels={\"platform\": \"Platform\", \"total_sales\": \"Total Sales\"}, points=False, title='Full Quartile Boxplot for Platforms: Wii-SNES')\n",
    "\n",
    "df_box_median_1.update_yaxes(range=[0, 2.5])\n",
    "\n",
    "df_box_median_1.show()"
   ]
  },
  {
   "cell_type": "markdown",
   "metadata": {},
   "source": [
    "Code Meaning:\n",
    "1) Create a boxplot using px.box() with the information from the box_2 dataframe.\n",
    "2) Platform column of the box_2 dataframe as the x axis and use the total_sales column as the y_axis.\n",
    "3) Set points parameter to False in order to remove any outliers.\n",
    "4) Assign the code to df_box_2 in order to save the result.\n",
    "5) Set the title as 'Min/Max Boxplot for Platforms: Wii-SNES'.\n",
    "6) Use the show() method in order to display the df_box_2 boxplot."
   ]
  },
  {
   "cell_type": "code",
   "execution_count": null,
   "metadata": {},
   "outputs": [],
   "source": [
    "df_box_2 = px.box(box_2, x='platform', y='total_sales', points=False, labels={\"platform\": \"Platform\", \"total_sales\": \"Total Sales\"}, title='Min/Max Boxplot for Platforms: Wii-SNES')\n",
    "\n",
    "df_box_2.show()"
   ]
  },
  {
   "cell_type": "markdown",
   "metadata": {},
   "source": [
    "Code Meaning:\n",
    "1) Use px.box() in order to create a box plot using the data from the box_2 dataframe, titled:'Full Quartile Boxplot for PLatforms: GBA-PSP'.\n",
    "2) Use the platform column of the box_2 dataframe as the x axis and use the 'total_sales' as the y axis.\n",
    "3) Set the points parameter to False in order to remove any outliers.\n",
    "4) Assign the code to df_box_median_2 in order to save the result.\n",
    "5) Use the update_yaxis() method to limit the y axis from the ranges: 0-1 in order to display the 25th, 50th(median), and 75th percentiles much clearer. This boxplot wil not display the max values for each platform.  \n",
    "6) Use the show() method df_box_median_2 in order to display the boxplot."
   ]
  },
  {
   "cell_type": "code",
   "execution_count": null,
   "metadata": {},
   "outputs": [],
   "source": [
    "df_box_median_2 = px.box(box_2, x='platform', y='total_sales', labels={\"platform\": \"Platform\", \"total_sales\": \"Total Sales\"}, points=False, title='Full Quartile Boxplot for Platforms: GBA-PSP')\n",
    "\n",
    "df_box_median_2.update_yaxes(range=[0, 1])\n",
    "\n",
    "df_box_median_2.show()"
   ]
  },
  {
   "cell_type": "markdown",
   "metadata": {},
   "source": [
    "Code Meaning:\n",
    "1) Create a boxplot using px.box() with the information from the box_3 dataframe.\n",
    "2) Platform column of the box_3 dataframe as the x axis and use the total_sales column as the y_axis.\n",
    "3) Set points parameter to False in order to remove any outliers.\n",
    "4) Assign the code to df_box_3 in order to save the result.\n",
    "5) Set the title as 'Min/Max Boxplot for Platforms: WiiU-SCD'.\n",
    "6) Use the show() method in order to display the df_box_1 boxplot."
   ]
  },
  {
   "cell_type": "code",
   "execution_count": null,
   "metadata": {},
   "outputs": [],
   "source": [
    "df_box_3 = px.box(box_3, x='platform', y='total_sales', labels={\"platform\": \"Platform\", \"total_sales\": \"Total Sales\"}, points=False, title='Min/Max Boxplot for Platforms: WiiU-SCD')\n",
    "\n",
    "df_box_3.show()"
   ]
  },
  {
   "cell_type": "markdown",
   "metadata": {},
   "source": [
    "Code Meaning:\n",
    "1) Use px.box() in order to create a box plot using the data from the box_1 dataframe, titled:'Full Quartile Boxplot for Platforms: WiiU-SCD' .\n",
    "2) Use the platform column of the box_3 dataframe as the x axis and use the 'total_sales' as the y axis.\n",
    "3) Set the points parameter to False in order to remove any outliers.\n",
    "4) Assign the code to df_box_median_3 in order to save the result.\n",
    "5) Use the update_yaxis() method to limit the y axis from the ranges: 0-2 in order to display the 25th, 50th(median), and 75th percentiles much clearer. This boxplot wil not display the max values for each platform.  \n",
    "6) Use the show() method df_box_median_3 in order to display the boxplot."
   ]
  },
  {
   "cell_type": "code",
   "execution_count": null,
   "metadata": {},
   "outputs": [],
   "source": [
    "df_box_median_3 = px.box(box_3, x='platform', y='total_sales', labels={\"platform\": \"Platform\", \"total_sales\": \"Total Sales\"}, points=False, title='Full Quartile Boxplot for Platforms: WiiU-SCD')\n",
    "\n",
    "df_box_median_3.update_yaxes(range=[0, 2])\n",
    "\n",
    "df_box_median_3.show()"
   ]
  },
  {
   "cell_type": "markdown",
   "metadata": {},
   "source": [
    "Code Meaning:\n",
    "1) Create a boxplot using px.box() with the information from the box_4 dataframe.\n",
    "2) Platform column of the box_4 dataframe as the x axis and use the total_sales column as the y_axis.\n",
    "3) Set points parameter to False in order to remove any outliers.\n",
    "4) Assign the code to df_box_4 in order to save the result.\n",
    "5) Set the title as 'Min/Max Boxplot for Platforms: WS-TG16'.\n",
    "6) Use the show() method in order to display the df_box_4 boxplot."
   ]
  },
  {
   "cell_type": "code",
   "execution_count": null,
   "metadata": {},
   "outputs": [],
   "source": [
    "df_box_4 = px.box(box_4, x='platform', y='total_sales', labels={\"platform\": \"Platform\", \"total_sales\": \"Total Sales\"}, points=False, title='Min/Max Boxplot for Platforms: WS-TG16')\n",
    "\n",
    "df_box_4.show()"
   ]
  },
  {
   "cell_type": "markdown",
   "metadata": {},
   "source": [
    "Code Meaning:\n",
    "1) Use px.box() in order to create a box plot using the data from the box_1 dataframe, titled:'Full Quartile Boxplot for Platforms: WS-TG16'.\n",
    "2) Use the platform column of the box_4 dataframe as the x axis and use the 'total_sales' as the y axis.\n",
    "3) Set the points parameter to False in order to remove any outliers.\n",
    "4) Assign the code to df_box_median_4 in order to save the result.\n",
    "5) Use the update_yaxis() method to limit the y axis from the ranges: 0-0.3 in order to display the 25th, 50th(median), and 75th percentiles much clearer. This boxplot wil not display the max values for each platform.  \n",
    "6) Use the show() method df_box_median_4 in order to display the boxplot."
   ]
  },
  {
   "cell_type": "code",
   "execution_count": null,
   "metadata": {},
   "outputs": [],
   "source": [
    "df_box_median_4 = px.box(box_4, x='platform', y='total_sales', labels={\"platform\": \"Platform\", \"total_sales\": \"Total Sales\"}, points=False, title='Full Quartile Boxplot for Platforms: WS-TG16')\n",
    "\n",
    "df_box_median_4.update_yaxes(range=[0, 0.3])\n",
    "\n",
    "df_box_median_4.show()"
   ]
  },
  {
   "cell_type": "markdown",
   "metadata": {},
   "source": [
    "Code Meaning:\n",
    "1) Create a boxplot using px.box() with the information from the box_5 dataframe.\n",
    "2) Platform column of the box_5 dataframe as the x axis and use the total_sales column as the y_axis.\n",
    "3) Set points parameter to False in order to remove any outliers.\n",
    "4) Assign the code to df_box_5 in order to save the result.\n",
    "5) Set the title as 'Boxplot for Platforms: 3DO-PCFX'.\n",
    "6) Use the show() method in order to display the df_box_5 boxplot.\n",
    "* There is no need to create a Full Quartile Boxplot for Platforms 3DO-PCFX because the values are already too small."
   ]
  },
  {
   "cell_type": "code",
   "execution_count": null,
   "metadata": {},
   "outputs": [],
   "source": [
    "df_box_5 = px.box(box_5, x='platform', y='total_sales', points=False, labels={\"platform\": \"Platform\", \"total_sales\": \"Total Sales\"}, title='Boxplot for Platforms: 3DO-PCFX')\n",
    "\n",
    "\n",
    "df_box_5.show()"
   ]
  },
  {
   "cell_type": "markdown",
   "metadata": {},
   "source": [
    "X360 Reviews/ Ratings ScatterPlot\n",
    "\n",
    "Question/Task Being Addressed:\n",
    "Take a look at how user and professional reviews affect sales for one popular platform (you choose). Build a scatter plot and calculate the correlation between reviews and sales. Draw conclusions.\n",
    "\n",
    "Answer: \n",
    "I chose to use the X360 platform.  It appears the critic scores between 70 and 90 have the greatest concentration of total sales and critic scores between 20-30 have the lowest concentration of total sales.  It appears the user scores between 6 and 9 have the greatest concentration of total sales and user scores between 0.7  and 0.25 have the lowest concentration of total sales.\n",
    "The correlation between critic score and total sales is 0.360 which is a positive, moderate correlation. The correlation between user score and total sales is 0.058 which is a weak, but positive correlation. Both critic score and user score columns have a positive slope when compared to the amount of total sales column of the dataframe."
   ]
  },
  {
   "cell_type": "markdown",
   "metadata": {},
   "source": [
    "Code Meaning:  \n",
    "1) Use px.scatter() in order to make a scatterplot from the previously created X360 dataframe.\n",
    "2) Use the critic_score column from the X_360 dataframe as the x axis and use the total_sales column as the y axis.\n",
    "3) Set the title as: 'How Critic Score Affects Sales for X360'.\n",
    "4) Assign the code to X_360_scatter in order to save the result.\n",
    "5) Use the update_layout() method on x_360_scatter_1 in order to increase the width to 800 and the height to 600.\n",
    "6) Use the update_yaxes() method on x_360_scatter_1 in order to limit the y axis to -1 for the minimun and 22.5 for the maximum.\n",
    "7) Use the show() method to display the scatterplot."
   ]
  },
  {
   "cell_type": "code",
   "execution_count": null,
   "metadata": {},
   "outputs": [],
   "source": [
    "x_360_scatter_1 = px.scatter(x_360, x='critic_score', y='total_sales', labels={\"critic_score\": \"Critic Score\", \"total_sales\": \"Total Sales\"}, title='How Critic Score Affect Sales for X360')\n",
    "x_360_scatter_1.update_layout(width=800, height=600)\n",
    "x_360_scatter_1.update_yaxes(range=[-1, 22.5])\n",
    "x_360_scatter_1.show()"
   ]
  },
  {
   "cell_type": "markdown",
   "metadata": {},
   "source": [
    "Code Meaning:  \n",
    "1) Use px.scatter() in order to make a scatterplot from the previously created X360 dataframe.\n",
    "2) Use the user_score column from the X_360 dataframe as the x axis and use the total_sales column as the y axis.\n",
    "3) Set the title as: 'How User Score Affects Sales for X360'.\n",
    "4) Assign the code to X_360_scatter_2 in order to save the result.\n",
    "5) Use the update_layout() method on x_360_scatter_2 in order to increase the width to 800 and the height to 600.\n",
    "6) Use the update_yaxes() method on x_360_scatter_2 in order to limit the y axis to -1 for the minimun and 22.5 for the maximum.\n",
    "7) Use the show() method to display the scatterplot."
   ]
  },
  {
   "cell_type": "code",
   "execution_count": null,
   "metadata": {},
   "outputs": [],
   "source": [
    "x_360_scatter_2 = px.scatter(x_360, x='user_score', y='total_sales', labels={\"user_score\": \"User Score\", \"total_sales\": \"Total Sales\"}, title='How User Score Affect Sales for X360')\n",
    "x_360_scatter_2.update_layout(width=800, height=600)\n",
    "x_360_scatter_2.update_yaxes(range=[-1, 22.5])\n",
    "x_360_scatter_2.show()"
   ]
  },
  {
   "cell_type": "markdown",
   "metadata": {},
   "source": [
    "1) Create a variable called x_list_1 that consists of the critic_score column of the x_360 dataframe.\n",
    "2) Create a variable called x_list_2 that consists of the total_sales column of the x_360 dataframe.\n",
    "3) Use the pearsonr() function to calculate the correlation between x_list_1 and x_list_2.  Save this code under the variable x_360_corr.\n",
    "4)Print x_360_corr"
   ]
  },
  {
   "cell_type": "code",
   "execution_count": null,
   "metadata": {},
   "outputs": [],
   "source": [
    "x_list_1 = x_360['critic_score']\n",
    "x_list_2 = x_360['total_sales']\n",
    "\n",
    "x_360_corr = pearsonr(x_list_1, x_list_2)\n",
    "x_360_corr"
   ]
  },
  {
   "cell_type": "markdown",
   "metadata": {},
   "source": [
    "1) Create a variable called xu_list_1 that consists of the user_score column of the x_360 dataframe.\n",
    "2) Create a variable called xu_list_2 that consists of the total_sales column of the x_360 dataframe.\n",
    "3) Use the pearsonr() function to calculate the correlation between xu_list_1 and xu_list_2.  Save this code under the variable x_360_corr_2.\n",
    "4)Print x_360_corr_2."
   ]
  },
  {
   "cell_type": "code",
   "execution_count": null,
   "metadata": {},
   "outputs": [],
   "source": [
    "xu_list_1 = x_360['user_score']\n",
    "xu_list_2 = x_360['total_sales']\n",
    "\n",
    "x_360_corr_2 = pearsonr(xu_list_1, xu_list_2)\n",
    "x_360_corr_2"
   ]
  },
  {
   "cell_type": "markdown",
   "metadata": {},
   "source": [
    "Scatterplot for Other Platforms\n",
    "\n",
    "Question/ Task Being Addressed:\n",
    "Keeping your conclusions in mind, compare the sales of the same games on other platforms.\n",
    "\n",
    "Answer:\n",
    "According to the first scatterplot, the highest concentration of total sales appear to be centered around platforms with a critic score between 71-96.  The lowest concentration of total sales appear to be centered around platforms with a critic score between 10-20. The highest concentration of total_sales appear to be centered around platforms with a critic score between: 7.6-9.2.  The highest concentration of total_sales appear to be centered around platforms with a user score between: 0-1.2.  There is a correlation between critic score and total sales is 0.171 which is a a fairly weak, but positive correlation.  The correlation between user score and total sales is 0.054 which is a weak. but positive correlation.  Both critic score and user score columns of the dataframe appear to have a positive slope when compared to the total sales column of the dataframe."
   ]
  },
  {
   "cell_type": "markdown",
   "metadata": {},
   "source": [
    "Code Meaning:\n",
    "1) Create another dataframe that consists of all other platforms except 'X360' using conditional filtering.\n",
    "2) Assign the code to other_df in order to save the result.\n",
    "3) Use the head() method on other_df in order to print the first five line of the dataframe.\n",
    "\n",
    "Code Result:\n",
    "other_df was created sucessfully."
   ]
  },
  {
   "cell_type": "code",
   "execution_count": null,
   "metadata": {},
   "outputs": [],
   "source": [
    "other_df = df[df['platform'] != 'X360']\n",
    "other_df.head()"
   ]
  },
  {
   "cell_type": "markdown",
   "metadata": {},
   "source": [
    "Code Meaning:  \n",
    "1) Use px.scatter() in order to make a scatterplot from the previously created other_df dataframe.\n",
    "2) Use the critic_score column from the other_df dataframe as the x axis and use the total_sales column as the y axis.\n",
    "3) Set the title as: 'How critic score affects sales for other platforms (Excluding X360)'.\n",
    "4) Assign the code to other_scatter in order to save the result.\n",
    "5) Use the update_layout() method on other_scatter in order to increase the width to 900 and the height to 700.\n",
    "6) Use the update_yaxes() method on other_scatter in order to limit the y axis to -2 for the minimun and 84 for the maximum.\n",
    "7) Use the show() method to display the scatterplot."
   ]
  },
  {
   "cell_type": "code",
   "execution_count": null,
   "metadata": {},
   "outputs": [],
   "source": [
    "other_scatter = px.scatter(other_df, x='critic_score', y='total_sales', labels={\"critic_score\": \"Critic Score\", \"total_sales\": \"Total Sales\"}, title='How critic score affects sales for other platforms (Excluding X360)')\n",
    "other_scatter.update_layout(width=900, height=700)\n",
    "other_scatter.update_yaxes(range=[-2, 84])\n",
    "other_scatter.show()"
   ]
  },
  {
   "cell_type": "markdown",
   "metadata": {},
   "source": [
    "Code Meaning:  \n",
    "1) Use px.scatter() in order to make a scatterplot from the previously created other_df dataframe.\n",
    "2) Use the user_score column from the other_df dataframe as the x axis and use the total_sales column as the y axis.\n",
    "3) Set the title as: 'How user score affects sales for other platforms (Excluding X360)'.\n",
    "4) Assign the code to other_scatter_2 in order to save the result.\n",
    "5) Use the update_layout() method on other_scatter_2 in order to increase the width to 900 and the height to 700.\n",
    "6) Use the update_yaxes() method on other_scatter_2 in order to limit the y axis to -2 for the minimun and 84 for the maximum.\n",
    "7) Use the show() method to display the scatterplot."
   ]
  },
  {
   "cell_type": "code",
   "execution_count": null,
   "metadata": {},
   "outputs": [],
   "source": [
    "other_scatter_2 = px.scatter(other_df, x='user_score', y='total_sales', labels={\"user_score\": \"User Score\", \"total_sales\": \"Total Sales\"}, title='How user score affects sales for other platforms (Excluding X360)')\n",
    "other_scatter_2.update_layout(width=900, height=700)\n",
    "other_scatter_2.update_yaxes(range=[-2, 84])\n",
    "other_scatter_2.show()"
   ]
  },
  {
   "cell_type": "markdown",
   "metadata": {},
   "source": [
    "1) Create a variable called o_list_1 that consists of the critic_score column of the x_360 dataframe.\n",
    "2) Create a variable called o_list_1 that consists of the user_score column of the x_360 dataframe.\n",
    "3) Use the pearsonr() function to calculate the correlation between x_list_1 and x_list_2.  Save this code under the variable o_corr.\n",
    "4)Print o_corr"
   ]
  },
  {
   "cell_type": "code",
   "execution_count": null,
   "metadata": {},
   "outputs": [],
   "source": [
    "o_list_1 = other_df['critic_score']\n",
    "o_list_2 = other_df['total_sales']\n",
    "\n",
    "o_corr = pearsonr(o_list_1, o_list_2)\n",
    "o_corr"
   ]
  },
  {
   "cell_type": "code",
   "execution_count": null,
   "metadata": {},
   "outputs": [],
   "source": [
    "o_user_list_1 = other_df['user_score']\n",
    "o_user_list_2 = other_df['total_sales']\n",
    "\n",
    "o_corr_2 = pearsonr(o_user_list_1, o_user_list_2)\n",
    "o_corr_2"
   ]
  },
  {
   "cell_type": "markdown",
   "metadata": {},
   "source": [
    "Total Sales per Genre Bar Chart\n",
    "\n",
    "Task/Question Being Addressed:\n",
    "Take a look at the general distribution of games by genre. What can we say about the most profitable genres? Can you generalize about genres with high and low sales?\n",
    "\n",
    "The top 3 most profitable genres are:\n",
    "1) Action with a total sales sum of $1,744.17 M and a quantity count of 3,369.\n",
    "2) Sports with a total sales sum of  $1331.27 M and a quantity count of 2,348.\n",
    "3) Shooter witha total sales sum of $1052.45 M and a quantity count of 1,323.\n",
    "\n",
    "The top 3 least profitable genres are:\n",
    "1) Strategy with a total sales sum of $174.43 M and quantity count of 683.\n",
    "2) Adventure with a total sales sum of $237.59 M and a quanity count of 1303.\n",
    "3) Puzzle with a total sales sum of $242.57 M and a qunatity count of 580.\n",
    "\n",
    "Conclusion:\n",
    "It appears that genres with a greater total sales sum generally have a greater quantity count and vice versa."
   ]
  },
  {
   "cell_type": "markdown",
   "metadata": {},
   "source": [
    "Code Meaning: \n",
    "1) In order to get rid of stacked values in the data for the bar chart by using the groupby function on the df dataframe and grouping by platform.\n",
    "2) In the same line of code, use the sum() method in on the total_sales column of the df dataframe in order to sum up the total values.\n",
    "3) Assign the code to genre_sum in order to save the result.\n",
    "4) Use the reset_index() method on the genre_sum dataframe.\n",
    "5) Use the rename() method in order to rename the total_sales column to total_sales_sum. Use columns= as the parameter.\n",
    "6) Use the head() function in order to print the first five lines of genre_sum.\n",
    "\n",
    "Code Result:\n",
    "genre_sum was created successfully."
   ]
  },
  {
   "cell_type": "code",
   "execution_count": null,
   "metadata": {},
   "outputs": [],
   "source": [
    "genre_sum = df.groupby('genre')['total_sales'].sum()\n",
    "genre_sum = genre_sum.reset_index().rename(columns={'total_sales': 'total_sales_sum'})\n",
    "genre_sum.head()"
   ]
  },
  {
   "cell_type": "markdown",
   "metadata": {},
   "source": [
    "Code Meaning:\n",
    "1) Use px.bar() in order to create a bar chart with the data from the df dataframe, titled: 'Total Sales per Genre'.\n",
    "2) Use the genre column from the df dataframe as the x axis and total_sales column as the y axis.\n",
    "3) Use the show() method in order to display the bar chart."
   ]
  },
  {
   "cell_type": "code",
   "execution_count": null,
   "metadata": {},
   "outputs": [],
   "source": [
    "genre_bar = px.bar(genre_sum, x='genre', y='total_sales_sum', labels={\"genre\": \"Genre\", \"total_sales_sum\": \"Total Sales Sum\"}, title='Total Sales per Genre')\n",
    "\n",
    "genre_bar.show()"
   ]
  },
  {
   "cell_type": "markdown",
   "metadata": {},
   "source": [
    "Code Meaning: \n",
    "1) Use px.histogram() in order to create a histogram titled, 'Histogram for all Game Genres' using the data from the df dataframe.\n",
    "2) Use the genre column of the df dataframe as the x axis.\n",
    "3) Assign the code to genre_hist in order to save the result.\n",
    "4) Use the show() method in order to display the genre_hist histogram."
   ]
  },
  {
   "cell_type": "code",
   "execution_count": null,
   "metadata": {},
   "outputs": [],
   "source": [
    "genre_hist = px.histogram(df, x='genre', labels={\"genre\": \"Genre\"}, title='Histogram for all Game Genres')\n",
    "\n",
    "genre_hist.show()"
   ]
  },
  {
   "cell_type": "markdown",
   "metadata": {},
   "source": [
    "Bar Charts for NA Sales, EU sales and JP sales\n",
    "\n",
    "Question/ Task Being Addressed:\n",
    "For each region (NA, EU, JP), determine:\n",
    "\n",
    "The top five platforms. Describe variations in their market shares from region to region.\n",
    "The top five genres. Explain the difference.\n",
    "Do ESRB ratings affect sales in individual regions?"
   ]
  },
  {
   "cell_type": "markdown",
   "metadata": {},
   "source": [
    "NA Profile\n",
    "\n",
    "NA Top 5 Platforms:\n",
    "1) X360 with a total sales amount of: $602.47 M.\n",
    "2) PS2 with a total sales amount of: $583.84 M.\n",
    "3) Wii with a total sales amount of: $496.90 M.\n",
    "4) PS3 with a total sales amount of: $393.90 M.\n",
    "5) DS with a total sales amount of: $382.40 M.\n",
    "\n",
    "NA Top 5 Genres:\n",
    "1) Action with a total sales amount of: $879.01 M.\n",
    "2) Sports with a total sales amount of: $684.43 M.\n",
    "3) Shooter with a total sales amount of: $592.24 M.\n",
    "4) Platform with a total sales amount of: $445.50 M.\n",
    "5) Mischellaneous with a total sales amount of: $409.05 M.\n",
    "\n",
    "Do Esrb ratings affect sales in NA?\n",
    "ESRB ratings sales in NA are greater than M and T ratings sales, but not greater than E10+ ratings sales."
   ]
  },
  {
   "cell_type": "markdown",
   "metadata": {},
   "source": [
    "EU Profile\n",
    "\n",
    "EU Top 5 Platforms:\n",
    "1) PS2 with a total sales amount of: $339.28 M.\n",
    "2) PS3 with a total sales amount of: $330.29 M.\n",
    "3) X360 with a total sales amount of: $270.76 M.\n",
    "4) Wii with a total sales amount of: $262.21 M.\n",
    "5) PS with a total sales amount of: $213.61 M.\n",
    "\n",
    "EU Top 5 Genres:\n",
    "1) Action with a total sales amount of: $519.13 M.\n",
    "2) Sports with a total sales amount of: $376.79 M.\n",
    "3) Shooter with a total sales amount of: $317.34 M.\n",
    "4) Racing with a total sales amount of: $236.51 M.\n",
    "5) Mischellaneous with a total sales amount of: $213.27 M.\n",
    "\n",
    "Do Esrb ratings affect sales in EU?\n",
    "ESRB ratings sales in EU are greater than M and T ratings sales, but not greater than E10+ ratings sales.\n"
   ]
  },
  {
   "cell_type": "markdown",
   "metadata": {},
   "source": [
    "JP Top 5 Platforms:\n",
    "1) DS with a total sales amount of: $175.57 M.\n",
    "2) PS with a total sales amount of: $139.82 M.\n",
    "3) PS2 with a total sales amount of: $139.20 M.\n",
    "4) SNES with a total sales amount of: $116.55 M.\n",
    "5) 3DS with a total sales amount of: $100.67 M.\n",
    "\n",
    "JP Top 5 Genres:\n",
    "1) Role Playing with a total sales amount of: $355.41 M.\n",
    "2) Action with a total sales amount of: $161.43 M.\n",
    "3) Sports with a total sales amount of: $135.54 M.\n",
    "4) Platform with a total sales amount of: $130.83 M.\n",
    "5) Mischellaneous with a total sales amount of: $108.14 M.\n",
    "\n",
    "Do Esrb ratings affect sales in NA?\n",
    "ESRB ratings sales are greater than M and T ratings sales, but not greater than E10+ ratings sales. E10+ ratings are significantly, greatly higher than ESRB ratings sales"
   ]
  },
  {
   "cell_type": "markdown",
   "metadata": {},
   "source": [
    "Code Meaning:\n",
    "1) Create a dataframe that only displays na_sales by using the drop() method on the df dataframe.  Add eu_sales, jp_sales, other_sales, and total_sales as an arguement to df.drop() in order to drop those columns.  \n",
    "2) Set the axis to 1 in order to apply the drop() method to the columns of the df dataframe.\n",
    "3) Assign the code to na_df in order to save the result.\n",
    "4) Use the head() method in order to print the first five rows of na_df to check for errors.\n",
    "\n",
    "Code Result:\n",
    "The na_df dataframe was created successfully.  The eu_sales, jp_sales, other_sales, total_sales columns were successfully dropped."
   ]
  },
  {
   "cell_type": "code",
   "execution_count": null,
   "metadata": {},
   "outputs": [],
   "source": [
    "na_df = df.drop(['eu_sales', 'jp_sales', 'other_sales', 'total_sales'], axis=1)\n",
    "\n",
    "na_df.head()"
   ]
  },
  {
   "cell_type": "markdown",
   "metadata": {},
   "source": [
    "Code Meaning: \n",
    "1) In order to get rid of stacked values in the data for the bar chart by using the groupby function on na_df dataframe and grouping by platform.\n",
    "2) In the same line of code, use the sum() method in on the total_sales column of the na_df dataframe in order to sum up the total values.\n",
    "3) Assign the code to na_p_sum in order to save the result.\n",
    "4) Use the reset_index() method on the na_p_sum dataframe.\n",
    "5) Use the rename() method in order to rename the total_sales column to total_sales_sum. Use columns= as the parameter.\n",
    "6) Use the head() function in order to print the first five lines of na_p_sum.\n",
    "\n",
    "Code Result:\n",
    "na_p_sum was created successfully."
   ]
  },
  {
   "cell_type": "code",
   "execution_count": null,
   "metadata": {},
   "outputs": [],
   "source": [
    "na_p_sum = na_df.groupby('platform')['na_sales'].sum()\n",
    "na_p_sum = na_p_sum.reset_index().rename(columns={'na_sales': 'na_sales_sum'})\n",
    "na_p_sum.head()"
   ]
  },
  {
   "cell_type": "markdown",
   "metadata": {},
   "source": [
    "Code Meaning:\n",
    "1) Use px.bar() in order to make a bar chart titled, \"Top Platforms for Na' with the data from the na_df dataframe.\n",
    "2) Use the platform column of the na_df dataframe as the x axis and na_sales column of the na_df dataframe as the y axis.\n",
    "3) Assign the code to the variable na_platform in order to save the result.\n",
    "4) Use the show() method in order to display the na_platform bar chart."
   ]
  },
  {
   "cell_type": "code",
   "execution_count": null,
   "metadata": {},
   "outputs": [],
   "source": [
    "na_platform = px.bar(na_p_sum, x='platform', y='na_sales_sum', labels={\"platform\": \"Platform\", \"na_sales_sum\": \"Na Sales Sum\"}, title='Top Platforms for NA')\n",
    "\n",
    "na_platform.show()"
   ]
  },
  {
   "cell_type": "markdown",
   "metadata": {},
   "source": [
    "Code Meaning: \n",
    "1) In order to get rid of stacked values in the data for the bar chart by using the groupby function on the na_df dataframe and grouping by platform.\n",
    "2) In the same line of code, use the sum() method in on the total_sales column of the wii dataframe in order to sum up the total values.\n",
    "3) Assign the code to na_g_sum in order to save the result.\n",
    "4) Use the reset_index() method on the na_g_sum dataframe.\n",
    "5) Use the rename() method in order to rename the total_sales column to total_sales_sum. Use columns= as the parameter.\n",
    "6) Use the head() function in order to print the first five lines of na_g_sum.\n",
    "\n",
    "Code Result:\n",
    "na_g_sum was created successfully."
   ]
  },
  {
   "cell_type": "code",
   "execution_count": null,
   "metadata": {},
   "outputs": [],
   "source": [
    "na_g_sum = na_df.groupby('genre')['na_sales'].sum()\n",
    "na_g_sum = na_g_sum.reset_index().rename(columns={'na_sales': 'na_sales_sum'})\n",
    "na_g_sum.head()"
   ]
  },
  {
   "cell_type": "markdown",
   "metadata": {},
   "source": [
    "Code Meaning:\n",
    "1) Use px.bar() in order to create a bar chart titled 'Top Genres for NA' using data from the na_df dataframe.\n",
    "2) Use the genre column of the na_df dataframe as the x axis and use the na_sales column of the na_df dataframe as the y axis.\n",
    "3) Assign the code to na_genre in order to save the result.\n",
    "4) Use the show() method on na_genre in order to display the bar chart."
   ]
  },
  {
   "cell_type": "code",
   "execution_count": null,
   "metadata": {},
   "outputs": [],
   "source": [
    "na_genre = px.bar(na_g_sum, x='genre', y='na_sales_sum', labels={\"genre\": \"Genre\", \"na_sales_sum\": \"NA Sales Sum\"}, title='Top Genres for NA')\n",
    "\n",
    "na_genre.show()"
   ]
  },
  {
   "cell_type": "markdown",
   "metadata": {},
   "source": [
    "Code Meaning: \n",
    "1) In order to get rid of stacked values in the data for the bar chart by using the groupby function on na_df dataframe and grouping by platform.\n",
    "2) In the same line of code, use the sum() method in on the total_sales column of the na_df dataframe in order to sum up the total values.\n",
    "3) Assign the code to na_r_sum in order to save the result.\n",
    "4) Use the reset_index() method on the na_r_sum dataframe.\n",
    "5) Use the rename() method in order to rename the total_sales column to total_sales_sum. Use columns= as the parameter.\n",
    "6) Use the head() function in order to print the first five lines of na_r_sum.\n",
    "\n",
    "Code Result:\n",
    "na_r_sum was created successfully."
   ]
  },
  {
   "cell_type": "code",
   "execution_count": null,
   "metadata": {},
   "outputs": [],
   "source": [
    "na_r_sum = na_df.groupby('rating')['na_sales'].sum()\n",
    "na_r_sum = na_r_sum.reset_index().rename(columns={'na_sales': 'na_sales_sum'})\n",
    "na_r_sum.head()"
   ]
  },
  {
   "cell_type": "markdown",
   "metadata": {},
   "source": [
    "Code Meaning:\n",
    "1) Use px.bar() in order to create a bar chart titled 'Do ESRB Ratings Affect NA Sales?' using data from the na_df dataframe.\n",
    "2) Use the ratings column of the na_df dataframe as the x axis and use the na_sales column of the na_df dataframe as the y axis.\n",
    "3) Assign the code to na_rating in order to save the result.\n",
    "4) Use the show() method on na_rating in order to display the bar chart."
   ]
  },
  {
   "cell_type": "code",
   "execution_count": null,
   "metadata": {},
   "outputs": [],
   "source": [
    "na_rating = px.bar(na_r_sum, x='rating', y='na_sales_sum', labels={\"rating\": \"Rating\", \"na_sales_sum\": \"NA Sales Sum\"}, title='Do ERSB Ratings affect NA Sales?')\n",
    "\n",
    "na_rating.show()"
   ]
  },
  {
   "cell_type": "markdown",
   "metadata": {},
   "source": [
    "Code Meaning:\n",
    "1) Create a dataframe that only displays eu_sales by using the drop() method on the df dataframe.  Add na_sales, jp_sales, other_sales, and total_sales as an arguement to df.drop() in order to drop those columns.  \n",
    "2) Set the axis to 1 in order to apply the drop() method to the columns of the df dataframe.\n",
    "3) Assign the code to eu_df in order to save the result.\n",
    "4) Use the head() method in order to print the first five rows of eu_df to check for errors.\n",
    "\n",
    "Code Result:\n",
    "The eu_df dataframe was created successfully.  The na_sales, jp_sales, other_sales, total_sales columns were successfully dropped."
   ]
  },
  {
   "cell_type": "code",
   "execution_count": null,
   "metadata": {},
   "outputs": [],
   "source": [
    "eu_df = df.drop(['na_sales', 'jp_sales', 'other_sales', 'total_sales'], axis=1)\n",
    "\n",
    "eu_df.head()"
   ]
  },
  {
   "cell_type": "markdown",
   "metadata": {},
   "source": [
    "Code Meaning: \n",
    "1) In order to get rid of stacked values in the data for the bar chart by using the groupby function on eu_df dataframe and grouping by platform.\n",
    "2) In the same line of code, use the sum() method in on the total_sales column of the eu_df dataframe in order to sum up the total values.\n",
    "3) Assign the code to wii_sum in order to save the result.\n",
    "4) Use the reset_index() method on the eu_p_sum dataframe.\n",
    "5) Use the rename() method in order to rename the total_sales column to total_sales_sum. Use columns= as the parameter.\n",
    "6) Use the head() function in order to print the first five lines of eu_p_sum.\n",
    "\n",
    "Code Result:\n",
    "eu_p_sum was created successfully."
   ]
  },
  {
   "cell_type": "code",
   "execution_count": null,
   "metadata": {},
   "outputs": [],
   "source": [
    "eu_p_sum = eu_df.groupby('platform')['eu_sales'].sum()\n",
    "eu_p_sum = eu_p_sum.reset_index().rename(columns={'eu_sales': 'eu_sales_sum'})\n",
    "eu_p_sum.head()"
   ]
  },
  {
   "cell_type": "markdown",
   "metadata": {},
   "source": [
    "Code Meaning:\n",
    "1) Use px.bar() in order to make a bar chart titled, \"Top EU Platforms' with the data from the eu_df dataframe.\n",
    "2) Use the platform column of the eu_df dataframe as the x axis and eu_sales column of the eu_df dataframe as the y axis.\n",
    "3) Assign the code to the variable eu_platform in order to save the result.\n",
    "4) Use the show() method in order to display the eu_platform bar chart."
   ]
  },
  {
   "cell_type": "code",
   "execution_count": null,
   "metadata": {},
   "outputs": [],
   "source": [
    "eu_platform = px.bar(eu_p_sum, x='platform', y='eu_sales_sum', labels={\"platform\": \"Platform\", \"eu_sales_sum\": \"EU Sales Sum\"}, title='Top EU Platforms')\n",
    "\n",
    "eu_platform.show()"
   ]
  },
  {
   "cell_type": "markdown",
   "metadata": {},
   "source": [
    "Code Meaning: \n",
    "1) In order to get rid of stacked values in the data for the bar chart by using the groupby function on the eu_df dataframe and grouping by platform.\n",
    "2) In the same line of code, use the sum() method in on the total_sales column of the eu_df dataframe in order to sum up the total values.\n",
    "3) Assign the code to eu_g_sum in order to save the result.\n",
    "4) Use the reset_index() method on the eu_g_sum dataframe.\n",
    "5) Use the rename() method in order to rename the total_sales column to total_sales_sum. Use columns= as the parameter.\n",
    "6) Use the head() function in order to print the first five lines of eu_g_sum.\n",
    "\n",
    "Code Result:\n",
    "eu_g_sum was created successfully."
   ]
  },
  {
   "cell_type": "code",
   "execution_count": null,
   "metadata": {},
   "outputs": [],
   "source": [
    "eu_g_sum = eu_df.groupby('genre')['eu_sales'].sum()\n",
    "eu_g_sum = eu_g_sum.reset_index().rename(columns={'eu_sales': 'eu_sales_sum'})\n",
    "eu_g_sum.head()"
   ]
  },
  {
   "cell_type": "markdown",
   "metadata": {},
   "source": [
    "Code Meaning:\n",
    "1) Use px.bar() in order to create a bar chart titled 'Top Genres for EU' using data from the eu_df dataframe.\n",
    "2) Use the genre column of the eu_df dataframe as the x axis and use the eu_sales column of the eu_df dataframe as the y axis.\n",
    "3) Assign the code to eu_genre in order to save the result.\n",
    "4) Use the show() method on eu_genre in order to display the bar chart."
   ]
  },
  {
   "cell_type": "code",
   "execution_count": null,
   "metadata": {},
   "outputs": [],
   "source": [
    "eu_genre= px.bar(eu_g_sum, x='genre', y='eu_sales_sum', labels={\"genre\": \"Genre\", \"eu_sales_sum\": \"EU Sales Sum\"}, title='Top Genres for EU')\n",
    "\n",
    "eu_genre.show()"
   ]
  },
  {
   "cell_type": "markdown",
   "metadata": {},
   "source": [
    "Code Meaning: \n",
    "1) In order to get rid of stacked values in the data for the bar chart by using the groupby function on the eu_df dataframe and grouping by platform.\n",
    "2) In the same line of code, use the sum() method in on the total_sales column of the eu_df dataframe in order to sum up the total values.\n",
    "3) Assign the code to eu_r_sum in order to save the result.\n",
    "4) Use the reset_index() method on the eu_r_sum dataframe.\n",
    "5) Use the rename() method in order to rename the total_sales column to total_sales_sum. Use columns= as the parameter.\n",
    "6) Use the head() function in order to print the first five lines of eu_r_sum.\n",
    "\n",
    "Code Result:\n",
    "eu_r_sum was created successfully."
   ]
  },
  {
   "cell_type": "code",
   "execution_count": null,
   "metadata": {},
   "outputs": [],
   "source": [
    "eu_r_sum = eu_df.groupby('rating')['eu_sales'].sum()\n",
    "eu_r_sum = eu_r_sum.reset_index().rename(columns={'eu_sales': 'eu_sales_sum'})\n",
    "eu_r_sum.head()"
   ]
  },
  {
   "cell_type": "markdown",
   "metadata": {},
   "source": [
    "Code Meaning:\n",
    "1) Use px.bar() in order to create a bar chart titled 'Do ESRB Ratings Affect EU Sales' using data from the eu_df dataframe.\n",
    "2) Use the ratings column of the eu_df dataframe as the x axis and use the eu_sales column of the na_df dataframe as the y axis.\n",
    "3) Assign the code to eu_rating in order to save the result.\n",
    "4) Use the show() method eu_rating in order to display the bar chart."
   ]
  },
  {
   "cell_type": "code",
   "execution_count": null,
   "metadata": {},
   "outputs": [],
   "source": [
    "eu_rating = px.bar(eu_r_sum, x='rating', y='eu_sales_sum', labels={\"rating\": \"Rating\", \"eu_sales_sum\": \"EU Sales Sum\"}, title='Do ESRB Ratings Affect EU Sales?')\n",
    "\n",
    "eu_rating.show()"
   ]
  },
  {
   "cell_type": "markdown",
   "metadata": {},
   "source": [
    "Code Meaning:\n",
    "1) Create a dataframe that only displays jp_sales by using the drop() method on the df dataframe.  Add na_sales, eu_sales, other_sales, and total_sales as an arguement to df.drop() in order to drop those columns.  \n",
    "2) Set the axis to 1 in order to apply the drop() method to the columns of the df dataframe.\n",
    "3) Assign the code to jp_df in order to save the result.\n",
    "4) Use the head() method in order to print the first five rows of jp_df to check for errors.\n",
    "\n",
    "Code Result:\n",
    "The jp_df dataframe was created successfully.  The na_sales, eu_sales, other_sales, total_sales columns were successfully dropped."
   ]
  },
  {
   "cell_type": "code",
   "execution_count": null,
   "metadata": {},
   "outputs": [],
   "source": [
    "jp_df = df.drop(['na_sales', 'eu_sales', 'other_sales', 'total_sales'], axis=1)\n",
    "\n",
    "jp_df.head()"
   ]
  },
  {
   "cell_type": "markdown",
   "metadata": {},
   "source": [
    "Code Meaning: \n",
    "1) In order to get rid of stacked values in the data for the bar chart by using the groupby function on the jp_df dataframe and grouping by platform.\n",
    "2) In the same line of code, use the sum() method in on the total_sales column of the jp_df dataframe in order to sum up the total values.\n",
    "3) Assign the code to jp_p_sum in order to save the result.\n",
    "4) Use the reset_index() method on the jp_p_sum dataframe.\n",
    "5) Use the rename() method in order to rename the total_sales column to total_sales_sum. Use columns= as the parameter.\n",
    "6) Use the head() function in order to print the first five lines of jp_p_sum.\n",
    "\n",
    "Code Result:\n",
    "jp_p_sum was created successfully."
   ]
  },
  {
   "cell_type": "code",
   "execution_count": null,
   "metadata": {},
   "outputs": [],
   "source": [
    "jp_p_sum = jp_df.groupby('platform')['jp_sales'].sum()\n",
    "jp_p_sum = jp_p_sum.reset_index().rename(columns={'jp_sales': 'jp_sales_sum'})\n",
    "jp_p_sum.head()"
   ]
  },
  {
   "cell_type": "markdown",
   "metadata": {},
   "source": [
    "Code Meaning:\n",
    "1) Use px.bar() in order to make a bar chart titled, \"Top JP Platforms' with the data from the jp_df dataframe.\n",
    "2) Use the platform column of the jp_df dataframe as the x axis and jp_sales column of the jp_df dataframe as the y axis.\n",
    "3) Assign the code to the variable jp_platform in order to save the result.\n",
    "4) Use the show() method in order to display the jp_platform bar chart."
   ]
  },
  {
   "cell_type": "code",
   "execution_count": null,
   "metadata": {},
   "outputs": [],
   "source": [
    "jp_platform = px.bar(jp_p_sum, x='platform', y='jp_sales_sum', labels={\"platform\": \"Platform\", \"jp_sales_sum\": \"JP Sales Sum\"}, title='Top JP Platforms')\n",
    "\n",
    "jp_platform.show()"
   ]
  },
  {
   "cell_type": "markdown",
   "metadata": {},
   "source": [
    "Code Meaning: \n",
    "1) In order to get rid of stacked values in the data for the bar chart by using the groupby function on the jp_df dataframe and grouping by platform.\n",
    "2) In the same line of code, use the sum() method in on the total_sales column of the jp_df dataframe in order to sum up the total values.\n",
    "3) Assign the code to jp_p_sum in order to save the result.\n",
    "4) Use the reset_index() method on the jp_g_sum dataframe.\n",
    "5) Use the rename() method in order to rename the total_sales column to total_sales_sum. Use columns= as the parameter.\n",
    "6) Use the head() function in order to print the first five lines of jp_g_sum.\n",
    "\n",
    "Code Result:\n",
    "jp_g_sum was created successfully."
   ]
  },
  {
   "cell_type": "code",
   "execution_count": null,
   "metadata": {},
   "outputs": [],
   "source": [
    "jp_g_sum = jp_df.groupby('genre')['jp_sales'].sum()\n",
    "jp_g_sum = jp_g_sum.reset_index().rename(columns={'jp_sales': 'jp_sales_sum'})\n",
    "jp_g_sum.head()"
   ]
  },
  {
   "cell_type": "markdown",
   "metadata": {},
   "source": [
    "Code Meaning:\n",
    "1) Use px.bar() in order to create a bar chart titled 'Top Genres for JP' using data from the jp_df dataframe.\n",
    "2) Use the genre column of the jp_df dataframe as the x axis and use the jp_sales column of the jp_df dataframe as the y axis.\n",
    "3) Assign the code to jp_genre in order to save the result.\n",
    "4) Use the show() method on jp_genre in order to display the bar chart."
   ]
  },
  {
   "cell_type": "code",
   "execution_count": null,
   "metadata": {},
   "outputs": [],
   "source": [
    "jp_genre = px.bar(jp_g_sum, x='genre', y='jp_sales_sum', labels={\"genre\": \"Genre\", \"jp_sales_sum\": \"JP Sales Sum\"}, title='Top Genres for JP')\n",
    "\n",
    "jp_genre.show()"
   ]
  },
  {
   "cell_type": "markdown",
   "metadata": {},
   "source": [
    "Code Meaning: \n",
    "1) In order to get rid of stacked values in the data for the bar chart by using the groupby function on the jp_df dataframe and grouping by platform.\n",
    "2) In the same line of code, use the sum() method in on the total_sales column of the jp_df dataframe in order to sum up the total values.\n",
    "3) Assign the code to jp_r_sum in order to save the result.\n",
    "4) Use the reset_index() method on the jp_p_sum dataframe.\n",
    "5) Use the rename() method in order to rename the total_sales column to total_sales_sum. Use columns= as the parameter.\n",
    "6) Use the head() function in order to print the first five lines of jp_r_sum.\n",
    "\n",
    "Code Result:\n",
    "jp_r_sum was created successfully."
   ]
  },
  {
   "cell_type": "code",
   "execution_count": null,
   "metadata": {},
   "outputs": [],
   "source": [
    "jp_r_sum = jp_df.groupby('rating')['jp_sales'].sum()\n",
    "jp_r_sum = jp_r_sum.reset_index().rename(columns={'jp_sales': 'jp_sales_sum'})\n",
    "jp_r_sum.head()"
   ]
  },
  {
   "cell_type": "markdown",
   "metadata": {},
   "source": [
    "Code Meaning:\n",
    "1) Use px.bar() in order to create a bar chart titled 'Do ESRB Ratings Affect JP Sales?' using data from the jp_df dataframe.\n",
    "2) Use the ratings column of the jp_df dataframe as the x axis and use the jp_sales column of the jp_df dataframe as the y axis.\n",
    "3) Assign the code to jp_rating in order to save the result.\n",
    "4) Use the show() method on jp_rating in order to display the bar chart."
   ]
  },
  {
   "cell_type": "code",
   "execution_count": null,
   "metadata": {},
   "outputs": [],
   "source": [
    "jp_rating = px.bar(jp_r_sum, x='rating', y='jp_sales_sum', labels={\"rating\": \"Rating\", \"jp_sales_sum\": \"JP Sales Sum\"}, title='Do ESRB Ratings Affect JP Sales?')\n",
    "\n",
    "jp_rating.show()"
   ]
  },
  {
   "cell_type": "markdown",
   "metadata": {},
   "source": [
    "Testing Hypotheses and Calculating Variances\n",
    "\n",
    "Task/ Question Being Addressed:\n",
    "Test the following hypotheses:\n",
    "\n",
    "—Average user ratings of the Xbox One and PC platforms are the same. \n",
    "\n",
    "—Average user ratings for the Action and Sports genres are different.\n",
    "\n",
    "Set the alpha threshold value yourself.\n",
    "\n",
    "Explain:\n",
    "\n",
    "—How you formulated the null and alternative hypotheses \n",
    "\n",
    "—What significance level you chose to test the hypotheses, and why"
   ]
  },
  {
   "cell_type": "markdown",
   "metadata": {},
   "source": [
    "Code Meaning:\n",
    "1) Create a dataframe that only displays filtered results where the platform column of the df dataframe is listed as 'XOne'.\n",
    "2) Assign the code to the variable x_box_1 in order to save the result.\n",
    "3) Create a dataframe that only displays filtered results where the platform column of the df dataframe is listed as 'PC'.\n",
    "4) Assign the code to the variable pc in order to save the result."
   ]
  },
  {
   "cell_type": "code",
   "execution_count": null,
   "metadata": {},
   "outputs": [],
   "source": [
    "x_box_1 = df[df['platform'] == 'XOne']\n",
    "\n",
    "pc = df[df['platform'] == 'PC']"
   ]
  },
  {
   "cell_type": "markdown",
   "metadata": {},
   "source": [
    "Code Meaning:\n",
    "1) Use np.std() in order to calculate the standard deviation for the user_score column of the x_box_1 dataframe.\n",
    "2)Assign the code to the variable x_box_1_std in order to save the result.\n",
    "3) Print x_box_1_std."
   ]
  },
  {
   "cell_type": "code",
   "execution_count": null,
   "metadata": {},
   "outputs": [],
   "source": [
    "x_box_1_std = np.std(x_box_1['user_score'])\n",
    "\n",
    "x_box_1_std"
   ]
  },
  {
   "cell_type": "markdown",
   "metadata": {},
   "source": [
    "Code Meaning:\n",
    "1) Use np.std() in order to calculate the standard deviation for the user_score column of the pc dataframe.\n",
    "2)Assign the code to the variable pc_std in order to save the result.\n",
    "3) Print pc_std."
   ]
  },
  {
   "cell_type": "code",
   "execution_count": null,
   "metadata": {},
   "outputs": [],
   "source": [
    "pc_std = np.std(pc['user_score'])\n",
    "pc_std"
   ]
  },
  {
   "cell_type": "markdown",
   "metadata": {},
   "source": [
    "Conclusion: The standard deviation for the user_score column of the pc dataframe is greater than the standard deviation for the user_score column of the x_box dataframe."
   ]
  },
  {
   "cell_type": "markdown",
   "metadata": {},
   "source": [
    "Code Meaning:\n",
    "1) Use np.var() in order to calculate the variance of the user_score column of the x_box dataframe.\n",
    "2) Assign the code to x_box_variance in order to save the result.\n",
    "3) Print x_box_variance."
   ]
  },
  {
   "cell_type": "code",
   "execution_count": null,
   "metadata": {},
   "outputs": [],
   "source": [
    "x_box_1_variance = np.var(x_box_1['user_score'])\n",
    "\n",
    "x_box_1_variance"
   ]
  },
  {
   "cell_type": "markdown",
   "metadata": {},
   "source": [
    "Code Meaning:\n",
    "1) Use np.var() in order to calculate the variance of the user_score column of the pc dataframe.\n",
    "2) Assign the code to pc_variance in order to save the result.\n",
    "3) Print pc_variance."
   ]
  },
  {
   "cell_type": "code",
   "execution_count": null,
   "metadata": {},
   "outputs": [],
   "source": [
    "pc_variance = np.var(pc['user_score'])\n",
    "\n",
    "pc_variance"
   ]
  },
  {
   "cell_type": "markdown",
   "metadata": {},
   "source": [
    "Conclusion: The variance of the user_score column of the pc dataframe is greater than the variance from the user_score column of the x_box_1 dataframe.  The two variances are not equal."
   ]
  },
  {
   "cell_type": "markdown",
   "metadata": {},
   "source": [
    "Null Hypothesis Being Tested:\n",
    "—Average user ratings of the Xbox One and PC platforms are the same. \n",
    "\n",
    "Alternative Hypothesis:\n",
    "-Average user ratings of Xbox One and PC platforms are different.\n"
   ]
  },
  {
   "cell_type": "markdown",
   "metadata": {},
   "source": [
    "Code Meaning:\n",
    "1) In order to start preparing for the ttest, first set the threshhold to 0.05 which would indicate a 5 percent probablility.  Save this code under the variable alpha.\n",
    "2) Then, use st.ttest_ind() in order to run a ttest on the user_score columns of the x_box_1 and pc dataframes.  Set equal_var to False.\n",
    "3) Assign the code to the variable results in order to save the result.\n",
    "4) Calculate the probablity by using the pvalue method on the results variable, and print the pvalue.\n",
    "5) Create an if statement that prints \"We reject null hypothesis.\", if results.pvalue is less than alpha.\n",
    "6) Create an else statment which prints: \"We cannot reject null hypothesis\". which will pring if results.pvalue is greater than or equal to alpha.\n",
    "\n",
    "ttest rationale:  I used st.ttest_ind() because this ttest in particular tests the equality of two population means."
   ]
  },
  {
   "cell_type": "code",
   "execution_count": null,
   "metadata": {},
   "outputs": [],
   "source": [
    "alpha = 0.05 \n",
    "results = st.ttest_ind(x_box_1['user_score'], pc['user_score'], equal_var=False)\n",
    "\n",
    "print('pvalue: ', results.pvalue)\n",
    "if results.pvalue < alpha:\n",
    "    print(\"We reject null hypothesis.\")\n",
    "else:\n",
    "    print(\"We cannot reject null hypothesis.\")"
   ]
  },
  {
   "cell_type": "markdown",
   "metadata": {},
   "source": [
    "Conclusion: According to the ttest, it appears that we reject the previously stated null hypothesis and we can conclude that average user ratings of X Box One and PC are different."
   ]
  },
  {
   "cell_type": "code",
   "execution_count": null,
   "metadata": {},
   "outputs": [],
   "source": [
    "df_action = df[df['genre'] == 'Action']\n",
    "\n",
    "df_sports = df[df['genre'] == 'Sports']\n"
   ]
  },
  {
   "cell_type": "markdown",
   "metadata": {},
   "source": [
    "Code Meaning:\n",
    "1) Use np.std() in order to calculate the standard deviation for the user_score column of the df_action dataframe.\n",
    "2)Assign the code to the variable df_action_std in order to save the result.\n",
    "3) Print df_action_std."
   ]
  },
  {
   "cell_type": "code",
   "execution_count": null,
   "metadata": {},
   "outputs": [],
   "source": [
    "df_action_std = np.std(df_action['user_score'])\n",
    "\n",
    "df_action_std"
   ]
  },
  {
   "cell_type": "markdown",
   "metadata": {},
   "source": [
    "Code Meaning:\n",
    "1) Use np.std() in order to calculate the standard deviation for the user_score column of the df_sports_std dataframe.\n",
    "2)Assign the code to the variable df_sports_std in order to save the result.\n",
    "3) Print df_sports_std."
   ]
  },
  {
   "cell_type": "code",
   "execution_count": null,
   "metadata": {},
   "outputs": [],
   "source": [
    "df_sports_std = np.std(df_sports['user_score'])\n",
    "\n",
    "df_sports_std"
   ]
  },
  {
   "cell_type": "markdown",
   "metadata": {},
   "source": [
    "Conclusion:  The standard deviation for the user_score column df_sports dataframe is greater than the standard deviation for the user_score column of the df_action dataframe."
   ]
  },
  {
   "cell_type": "markdown",
   "metadata": {},
   "source": [
    "Code Meaning:\n",
    "1) Use np.var() in order to calculate the variance of the user_score column of the df_action dataframe.\n",
    "2) Assign the code to df_action_var in order to save the result.\n",
    "3) Print df_action_var."
   ]
  },
  {
   "cell_type": "code",
   "execution_count": null,
   "metadata": {},
   "outputs": [],
   "source": [
    "df_action_var = np.var(df_action['user_score'])\n",
    "\n",
    "df_action_var"
   ]
  },
  {
   "cell_type": "markdown",
   "metadata": {},
   "source": [
    "Code Meaning:\n",
    "1) Use np.var() in order to calculate the variance of the user_score column of the df_sports dataframe.\n",
    "2) Assign the code to df_sport_var in order to save the result.\n",
    "3) Print df_sports_var."
   ]
  },
  {
   "cell_type": "code",
   "execution_count": null,
   "metadata": {},
   "outputs": [],
   "source": [
    "df_sports_var = np.var(df_sports['user_score'])\n",
    "\n",
    "df_sports_var"
   ]
  },
  {
   "cell_type": "markdown",
   "metadata": {},
   "source": [
    "Conclusion: The variance of the user_score column of the df_sports dataframe is greater than the variance of the user_score column of the df_action dataframe.  The two variances are not equal."
   ]
  },
  {
   "cell_type": "markdown",
   "metadata": {},
   "source": [
    "Null Hypothesis Being Tested:\n",
    "—Average user scores for the Action and Sports genres are different."
   ]
  },
  {
   "cell_type": "code",
   "execution_count": null,
   "metadata": {},
   "outputs": [],
   "source": [
    "df_action.head()"
   ]
  },
  {
   "cell_type": "markdown",
   "metadata": {},
   "source": [
    "Code Meaning:\n",
    "1) In order to start preparing for the ttest, first set the threshhold to 0.05 which would indicate a 5 percent probablility.  Save this code under the variable df_alpha.\n",
    "2) Then, use st.ttest_ind() in order to run a ttest on the user_score columns of the df_action and df_sports dataframes.  Set equal_var to False.\n",
    "3) Assign the code to the variable df_results in order to save the result.\n",
    "4) Calculate the probablity by using the pvalue method on the df_results variable, and print the pvalue.\n",
    "5) Create an if statement that prints \"We reject null hypothesis.\", if df_results.pvalue is less than alpha.\n",
    "6) Create an else statment which prints: \"We cannot reject null hypothesis\". which will pring if df_results.pvalue is greater than or equal to alpha.\n",
    "\n",
    "ttest rationale:  I used st.ttest_ind() because this ttest in particular tests the equality of two population means."
   ]
  },
  {
   "cell_type": "code",
   "execution_count": null,
   "metadata": {},
   "outputs": [],
   "source": [
    "df_alpha = 0.05 \n",
    "df_results = st.ttest_ind(df_action['user_score'], df_sports['user_score'], equal_var=False)\n",
    "\n",
    "print('pvalue: ', df_results.pvalue)\n",
    "if results.pvalue < alpha:\n",
    "    print(\"We reject null hypothesis.\")\n",
    "else:\n",
    "    print(\"We cannot reject null hypothesis.\")"
   ]
  },
  {
   "cell_type": "markdown",
   "metadata": {},
   "source": [
    "Conclusion: According to the ttest, the previously stated alternative hypothesis is correct, the user score of the Action and Sports genres are different."
   ]
  }
 ],
 "metadata": {
  "kernelspec": {
   "display_name": "base",
   "language": "python",
   "name": "python3"
  },
  "language_info": {
   "codemirror_mode": {
    "name": "ipython",
    "version": 3
   },
   "file_extension": ".py",
   "mimetype": "text/x-python",
   "name": "python",
   "nbconvert_exporter": "python",
   "pygments_lexer": "ipython3",
   "version": "3.11.5"
  }
 },
 "nbformat": 4,
 "nbformat_minor": 2
}
